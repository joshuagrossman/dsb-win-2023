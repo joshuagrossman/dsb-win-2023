{
 "cells": [
  {
   "cell_type": "markdown",
   "metadata": {},
   "source": [
    "# 🚘 Analyzing SF traffic stops with `R`: Part 1"
   ]
  },
  {
   "cell_type": "markdown",
   "metadata": {},
   "source": [
    "<img src=\"img/sf-traffic.jpg\" alt=\"traffic\" width=\"600\" align=\"left\"/>"
   ]
  },
  {
   "cell_type": "markdown",
   "metadata": {},
   "source": [
    "## Introduction\n",
    "\n",
    "In this series of tutorials, we'll use `R` to explore traffic stops in San Francisco (SF). In particular, we'll investigate whether there is evidence of racial discrimination in SF's policing practices. \n",
    "\n",
    "> **Important note**: Policing can be a sensitive subject. It's important to remember that each row in our data represents a real interaction between a police officer and driver. Please keep this in mind as you work through the tutorial, and be sure to engage with the material to the extent you're comfortable. \n",
    "\n",
    "By the end of the tutorials, you'll have foundational understanding of the following:\n",
    "1. 📊 How to use `R` to explore tabular data and calculate descriptive statistics. \n",
    "2. 📈 How to make an informative plot with `R`\n",
    "2. ⚖️ How to approach questions about social policy with data. \n",
    "\n",
    "Let's get started!"
   ]
  },
  {
   "cell_type": "markdown",
   "metadata": {},
   "source": [
    "## ✅ Set up\n",
    "\n",
    "While the core `R` language contains many useful functions (e.g., `sum` and `sample`), there is vast functionality built on top of `R` by community members.\n",
    "\n",
    "Make sure to run the cell below. It imports additional useful functions, adjusts `R` settings, and loads in data. "
   ]
  },
  {
   "cell_type": "code",
   "execution_count": 69,
   "metadata": {},
   "outputs": [],
   "source": [
    "# Load in additional functions\n",
    "library(tidyverse)\n",
    "library(lubridate)\n",
    "\n",
    "# Use three digits past the decimal point\n",
    "options(digits = 3)\n",
    "\n",
    "# This makes our plots look nice!\n",
    "theme_set(theme_bw())\n",
    "\n",
    "# Read in the data\n",
    "stops <- read_rds(\"data/sf_stop_data.rds\")\n",
    "pop_2015 <- read_rds(\"data/sf_pop_2015.rds\")"
   ]
  },
  {
   "cell_type": "markdown",
   "metadata": {},
   "source": [
    "### 🖼️ The data frame\n",
    "\n",
    "Data frames are like spreadsheets in Microsft Excel or Google Sheets: they have rows and columns, and each cell in the spreadsheet contains data.\n",
    "\n",
    "Run the cell below to preview the `stops` data. What do you notice?\n",
    "\n",
    "> 🔎 The `head` function allows us to see the first couple rows of a dataframe."
   ]
  },
  {
   "cell_type": "code",
   "execution_count": 70,
   "metadata": {},
   "outputs": [
    {
     "data": {
      "text/html": [
       "<table class=\"dataframe\">\n",
       "<caption>A tibble: 6 × 13</caption>\n",
       "<thead>\n",
       "\t<tr><th scope=col>date</th><th scope=col>time</th><th scope=col>location</th><th scope=col>lat</th><th scope=col>lng</th><th scope=col>district</th><th scope=col>age</th><th scope=col>race</th><th scope=col>gender</th><th scope=col>arrested</th><th scope=col>contraband_found</th><th scope=col>searched</th><th scope=col>reason_for_stop</th></tr>\n",
       "\t<tr><th scope=col>&lt;date&gt;</th><th scope=col>&lt;time&gt;</th><th scope=col>&lt;chr&gt;</th><th scope=col>&lt;dbl&gt;</th><th scope=col>&lt;dbl&gt;</th><th scope=col>&lt;chr&gt;</th><th scope=col>&lt;int&gt;</th><th scope=col>&lt;chr&gt;</th><th scope=col>&lt;fct&gt;</th><th scope=col>&lt;lgl&gt;</th><th scope=col>&lt;lgl&gt;</th><th scope=col>&lt;lgl&gt;</th><th scope=col>&lt;chr&gt;</th></tr>\n",
       "</thead>\n",
       "<tbody>\n",
       "\t<tr><td>2009-01-01</td><td>10:10:00</td><td>1736 PALOU      </td><td>37.7</td><td>-122</td><td>C</td><td>22</td><td>black</td><td>female</td><td>FALSE</td><td>FALSE</td><td> TRUE</td><td>Equipment violation</td></tr>\n",
       "\t<tr><td>2009-01-01</td><td>10:15:00</td><td>THRIFT/PLYMTH   </td><td>37.7</td><td>-122</td><td>I</td><td>44</td><td>black</td><td>male  </td><td>FALSE</td><td>   NA</td><td>FALSE</td><td>Moving violation   </td></tr>\n",
       "\t<tr><td>2009-01-01</td><td>10:20:00</td><td>FLORIDA/19TH    </td><td>37.8</td><td>-122</td><td>D</td><td>45</td><td>white</td><td>female</td><td>FALSE</td><td>   NA</td><td>FALSE</td><td>Equipment violation</td></tr>\n",
       "\t<tr><td>2009-01-01</td><td>10:20:00</td><td>19TH AVE/MORAGAE</td><td>37.8</td><td>-122</td><td>I</td><td>27</td><td>white</td><td>male  </td><td>FALSE</td><td>   NA</td><td>FALSE</td><td>Equipment violation</td></tr>\n",
       "\t<tr><td>2009-01-01</td><td>10:36:00</td><td>19TH/LINCOLN    </td><td>37.8</td><td>-122</td><td>I</td><td>29</td><td>white</td><td>male  </td><td>FALSE</td><td>   NA</td><td>FALSE</td><td>Equipment violation</td></tr>\n",
       "\t<tr><td>2009-01-01</td><td>10:40:00</td><td><span style=white-space:pre-wrap>16TH&amp;JULIAN     </span></td><td>37.8</td><td>-122</td><td>D</td><td>34</td><td>black</td><td><span style=white-space:pre-wrap>male  </span></td><td>FALSE</td><td><span style=white-space:pre-wrap>   NA</span></td><td>FALSE</td><td><span style=white-space:pre-wrap>Moving violation   </span></td></tr>\n",
       "</tbody>\n",
       "</table>\n"
      ],
      "text/latex": [
       "A tibble: 6 × 13\n",
       "\\begin{tabular}{lllllllllllll}\n",
       " date & time & location & lat & lng & district & age & race & gender & arrested & contraband\\_found & searched & reason\\_for\\_stop\\\\\n",
       " <date> & <time> & <chr> & <dbl> & <dbl> & <chr> & <int> & <chr> & <fct> & <lgl> & <lgl> & <lgl> & <chr>\\\\\n",
       "\\hline\n",
       "\t 2009-01-01 & 10:10:00 & 1736 PALOU       & 37.7 & -122 & C & 22 & black & female & FALSE & FALSE &  TRUE & Equipment violation\\\\\n",
       "\t 2009-01-01 & 10:15:00 & THRIFT/PLYMTH    & 37.7 & -122 & I & 44 & black & male   & FALSE &    NA & FALSE & Moving violation   \\\\\n",
       "\t 2009-01-01 & 10:20:00 & FLORIDA/19TH     & 37.8 & -122 & D & 45 & white & female & FALSE &    NA & FALSE & Equipment violation\\\\\n",
       "\t 2009-01-01 & 10:20:00 & 19TH AVE/MORAGAE & 37.8 & -122 & I & 27 & white & male   & FALSE &    NA & FALSE & Equipment violation\\\\\n",
       "\t 2009-01-01 & 10:36:00 & 19TH/LINCOLN     & 37.8 & -122 & I & 29 & white & male   & FALSE &    NA & FALSE & Equipment violation\\\\\n",
       "\t 2009-01-01 & 10:40:00 & 16TH\\&JULIAN      & 37.8 & -122 & D & 34 & black & male   & FALSE &    NA & FALSE & Moving violation   \\\\\n",
       "\\end{tabular}\n"
      ],
      "text/markdown": [
       "\n",
       "A tibble: 6 × 13\n",
       "\n",
       "| date &lt;date&gt; | time &lt;time&gt; | location &lt;chr&gt; | lat &lt;dbl&gt; | lng &lt;dbl&gt; | district &lt;chr&gt; | age &lt;int&gt; | race &lt;chr&gt; | gender &lt;fct&gt; | arrested &lt;lgl&gt; | contraband_found &lt;lgl&gt; | searched &lt;lgl&gt; | reason_for_stop &lt;chr&gt; |\n",
       "|---|---|---|---|---|---|---|---|---|---|---|---|---|\n",
       "| 2009-01-01 | 10:10:00 | 1736 PALOU       | 37.7 | -122 | C | 22 | black | female | FALSE | FALSE |  TRUE | Equipment violation |\n",
       "| 2009-01-01 | 10:15:00 | THRIFT/PLYMTH    | 37.7 | -122 | I | 44 | black | male   | FALSE |    NA | FALSE | Moving violation    |\n",
       "| 2009-01-01 | 10:20:00 | FLORIDA/19TH     | 37.8 | -122 | D | 45 | white | female | FALSE |    NA | FALSE | Equipment violation |\n",
       "| 2009-01-01 | 10:20:00 | 19TH AVE/MORAGAE | 37.8 | -122 | I | 27 | white | male   | FALSE |    NA | FALSE | Equipment violation |\n",
       "| 2009-01-01 | 10:36:00 | 19TH/LINCOLN     | 37.8 | -122 | I | 29 | white | male   | FALSE |    NA | FALSE | Equipment violation |\n",
       "| 2009-01-01 | 10:40:00 | 16TH&amp;JULIAN      | 37.8 | -122 | D | 34 | black | male   | FALSE |    NA | FALSE | Moving violation    |\n",
       "\n"
      ],
      "text/plain": [
       "  date       time     location         lat  lng  district age race  gender\n",
       "1 2009-01-01 10:10:00 1736 PALOU       37.7 -122 C        22  black female\n",
       "2 2009-01-01 10:15:00 THRIFT/PLYMTH    37.7 -122 I        44  black male  \n",
       "3 2009-01-01 10:20:00 FLORIDA/19TH     37.8 -122 D        45  white female\n",
       "4 2009-01-01 10:20:00 19TH AVE/MORAGAE 37.8 -122 I        27  white male  \n",
       "5 2009-01-01 10:36:00 19TH/LINCOLN     37.8 -122 I        29  white male  \n",
       "6 2009-01-01 10:40:00 16TH&JULIAN      37.8 -122 D        34  black male  \n",
       "  arrested contraband_found searched reason_for_stop    \n",
       "1 FALSE    FALSE             TRUE    Equipment violation\n",
       "2 FALSE       NA            FALSE    Moving violation   \n",
       "3 FALSE       NA            FALSE    Equipment violation\n",
       "4 FALSE       NA            FALSE    Equipment violation\n",
       "5 FALSE       NA            FALSE    Equipment violation\n",
       "6 FALSE       NA            FALSE    Moving violation   "
      ]
     },
     "metadata": {},
     "output_type": "display_data"
    }
   ],
   "source": [
    "head(stops)"
   ]
  },
  {
   "cell_type": "markdown",
   "metadata": {},
   "source": [
    "⬆️ From the preview above, we might guess that each row in the `stops` dataframe represents a stop, and each column contains information about each stop.\n",
    "\n",
    "> This guess is correct!\n",
    "\n",
    "### 💭 Asking questions about the data\n",
    "\n",
    "As an analyst, you might start with some basic questions:\n",
    "\n",
    "1. How many stops (i.e., rows) are in the `stops` data?\n",
    "2. What do we know about each stop?\n",
    "3. When was the earliest stop?\n",
    "4. What were the most commons reasons for stops?\n",
    "5. Who is most likely to get stopped?\n",
    "\n",
    "Let's start with the first question: how many rows are in the `stops` data?"
   ]
  },
  {
   "cell_type": "code",
   "execution_count": 71,
   "metadata": {},
   "outputs": [
    {
     "data": {
      "text/html": [
       "636161"
      ],
      "text/latex": [
       "636161"
      ],
      "text/markdown": [
       "636161"
      ],
      "text/plain": [
       "[1] 636161"
      ]
     },
     "metadata": {},
     "output_type": "display_data"
    }
   ],
   "source": [
    "nrow(stops)"
   ]
  },
  {
   "cell_type": "markdown",
   "metadata": {},
   "source": [
    "Looks like we have information on approximately 640,000 stops.\n",
    "\n",
    "What do we know about each stop?"
   ]
  },
  {
   "cell_type": "code",
   "execution_count": 72,
   "metadata": {},
   "outputs": [
    {
     "data": {
      "text/html": [
       "<style>\n",
       ".list-inline {list-style: none; margin:0; padding: 0}\n",
       ".list-inline>li {display: inline-block}\n",
       ".list-inline>li:not(:last-child)::after {content: \"\\00b7\"; padding: 0 .5ex}\n",
       "</style>\n",
       "<ol class=list-inline><li>'date'</li><li>'time'</li><li>'location'</li><li>'lat'</li><li>'lng'</li><li>'district'</li><li>'age'</li><li>'race'</li><li>'gender'</li><li>'arrested'</li><li>'contraband_found'</li><li>'searched'</li><li>'reason_for_stop'</li></ol>\n"
      ],
      "text/latex": [
       "\\begin{enumerate*}\n",
       "\\item 'date'\n",
       "\\item 'time'\n",
       "\\item 'location'\n",
       "\\item 'lat'\n",
       "\\item 'lng'\n",
       "\\item 'district'\n",
       "\\item 'age'\n",
       "\\item 'race'\n",
       "\\item 'gender'\n",
       "\\item 'arrested'\n",
       "\\item 'contraband\\_found'\n",
       "\\item 'searched'\n",
       "\\item 'reason\\_for\\_stop'\n",
       "\\end{enumerate*}\n"
      ],
      "text/markdown": [
       "1. 'date'\n",
       "2. 'time'\n",
       "3. 'location'\n",
       "4. 'lat'\n",
       "5. 'lng'\n",
       "6. 'district'\n",
       "7. 'age'\n",
       "8. 'race'\n",
       "9. 'gender'\n",
       "10. 'arrested'\n",
       "11. 'contraband_found'\n",
       "12. 'searched'\n",
       "13. 'reason_for_stop'\n",
       "\n",
       "\n"
      ],
      "text/plain": [
       " [1] \"date\"             \"time\"             \"location\"         \"lat\"             \n",
       " [5] \"lng\"              \"district\"         \"age\"              \"race\"            \n",
       " [9] \"gender\"           \"arrested\"         \"contraband_found\" \"searched\"        \n",
       "[13] \"reason_for_stop\" "
      ]
     },
     "metadata": {},
     "output_type": "display_data"
    }
   ],
   "source": [
    "colnames(stops)"
   ]
  },
  {
   "cell_type": "markdown",
   "metadata": {},
   "source": [
    "It looks like we have the basics of each stop: time, location, demographics, and outcomes."
   ]
  },
  {
   "cell_type": "markdown",
   "metadata": {},
   "source": [
    "## 🚀 Exercise: Stop dates\n",
    "\n",
    "When did the traffic stops in the `stops` data occur? \n",
    "\n",
    "Use the `date` column in the `stops` data to get a sense of when stops typically occur. Write a comment explaining your results. \n",
    "\n",
    "A few pointers:\n",
    "\n",
    "> 💵 To extract a column from a data frame, use the `$` symbol. To retrieve column `age` from data frame `df`, we write `df$age`.\n",
    "\n",
    "> You may find the following functions helpful: `sample`, `min`, `max`, `range`, and `print`. You can learn more about a function `f` by running `?f`."
   ]
  },
  {
   "cell_type": "code",
   "execution_count": 73,
   "metadata": {},
   "outputs": [
    {
     "name": "stdout",
     "output_type": "stream",
     "text": [
      "[1] \"2009-01-01\"\n",
      "[1] \"2016-06-30\"\n",
      "[1] \"2009-01-01\" \"2016-06-30\"\n",
      " [1] \"2009-08-11\" \"2009-10-08\" \"2011-12-23\" \"2010-07-23\" \"2015-02-20\"\n",
      " [6] \"2012-01-06\" \"2009-06-06\" \"2015-03-12\" \"2010-01-08\" \"2009-05-12\"\n",
      "[11] \"2011-11-11\" \"2016-03-13\" \"2016-04-23\" \"2011-09-03\" \"2014-02-16\"\n",
      "[16] \"2010-10-28\" \"2014-04-07\" \"2012-01-06\" \"2012-01-06\" \"2009-09-22\"\n",
      "[21] \"2010-03-12\" \"2009-07-30\" \"2010-02-19\" \"2009-08-21\" \"2012-10-05\"\n",
      "[26] \"2011-03-24\" \"2016-03-12\" \"2010-05-22\" \"2016-06-27\" \"2009-07-20\"\n",
      "[31] \"2015-01-25\" \"2010-11-09\" \"2009-08-17\" \"2009-11-03\" \"2015-03-30\"\n",
      "[36] \"2013-03-04\" \"2016-01-09\" \"2014-04-17\" \"2009-02-27\" \"2013-06-08\"\n",
      "[41] \"2012-05-20\" \"2011-06-20\" \"2015-02-08\" \"2015-05-15\" \"2012-02-29\"\n",
      "[46] \"2010-06-03\" \"2010-06-09\" \"2009-10-01\" \"2010-12-24\" \"2009-08-11\"\n"
     ]
    }
   ],
   "source": [
    "## Your code here!\n",
    "\n",
    "# START\n",
    "\n",
    "date_col = stops$date\n",
    "\n",
    "# The earliest stop took place on Jan 1, 2009.\n",
    "print(min(date_col))\n",
    "\n",
    "# The last stop took place on Jun 30, 2016.\n",
    "print(max(date_col))\n",
    "\n",
    "# `range` gives us the same information as above in a more compact form.\n",
    "print(range(date_col))\n",
    "\n",
    "# We observe stops between 2009 and 2016. You can't confirm this using\n",
    "# just min and max!\n",
    "print(sample(date_col, 50))\n",
    "\n",
    "# END"
   ]
  },
  {
   "cell_type": "markdown",
   "metadata": {},
   "source": [
    "## 🚰 The pipe: `%>%`\n",
    "\n",
    "Both of these lines of code do exactly the same thing:"
   ]
  },
  {
   "cell_type": "code",
   "execution_count": 74,
   "metadata": {},
   "outputs": [
    {
     "name": "stdout",
     "output_type": "stream",
     "text": [
      "[1] 636161\n",
      "[1] 636161\n"
     ]
    }
   ],
   "source": [
    "# Method 1\n",
    "print(nrow(stops))\n",
    "\n",
    "# Method 2\n",
    "stops %>% \n",
    "    nrow() %>%\n",
    "    print()"
   ]
  },
  {
   "cell_type": "markdown",
   "metadata": {},
   "source": [
    "Why should we care? Read on to find out!\n",
    "\n",
    "### The math of the pipe `%>%`\n",
    "\n",
    "To process a dataset, we may have to use several functions. For example, we may want to use function `a`, then function `b`, and finally function `c`:\n",
    "\n",
    "```\n",
    "c(b(a(data)))\n",
    "```\n",
    "\n",
    "To understand what this code is doing, we have to read the code ⏪inside out⏩: we start with `a`, then apply `b`, then apply `c`. \n",
    "\n",
    "🙀 If we start adding more functions, things gets messy:\n",
    "\n",
    "```\n",
    "f(e(d(c(b(a(data))))))\n",
    "```\n",
    "\n",
    "\n",
    "The pipe `%>%` allows us to turn our code inside out. This makes our code read more like a sentence:\n",
    "\n",
    "```\n",
    "# do a(), then b(), then c(), then d(), then e(), then f()\n",
    "\n",
    "data %>% a() %>% b() %>% c() %>% d() %>% e() %>% f()\n",
    "```\n",
    "\n",
    "More readably:\n",
    "\n",
    "```\n",
    "data %>%\n",
    "    a() %>%\n",
    "    b() %>%\n",
    "    c() %>%\n",
    "    d() %>%\n",
    "    e() %>%\n",
    "    f()\n",
    "```\n",
    "\n",
    "The pipe pushes (i.e., pipes!) what's on the left of the pipe `%>%` into the first argument of the function on the right:\n",
    "\n",
    "```\n",
    "x %>% f() == f(x)\n",
    "x %>% f(y) == f(x, y)\n",
    "x %>% f(y, z) == f(x, y, z)\n",
    "```\n",
    "\n",
    "The pipe `%>%` really ☀️shines☀️ when you have a lot of steps! "
   ]
  },
  {
   "cell_type": "markdown",
   "metadata": {},
   "source": [
    "## 📝 Adding new columns with `mutate`\n",
    "\n",
    "Our data extends from 2009 to the first half of 2016. Suppose want to examine the most recent full year of data: 2015.\n",
    "\n",
    "Problem: We don't have a `year` column. To add new columns, we use `mutate`."
   ]
  },
  {
   "cell_type": "markdown",
   "metadata": {},
   "source": [
    "🖥️ Usage: `mutate(data, new_col = f(existing_col))`\n",
    "* `data`: the data frame\n",
    "* `new_col`: name of the new column to add\n",
    "* `f`: function to apply to existing column(s) to generate the new column\n",
    "* `existing_col`: name of existing column\n",
    "\n",
    "For example, here's how we could add a column to `stops` containing the first digit of the driver's age."
   ]
  },
  {
   "cell_type": "code",
   "execution_count": 75,
   "metadata": {},
   "outputs": [
    {
     "data": {
      "text/html": [
       "<table class=\"dataframe\">\n",
       "<caption>A tibble: 6 × 14</caption>\n",
       "<thead>\n",
       "\t<tr><th scope=col>date</th><th scope=col>time</th><th scope=col>location</th><th scope=col>lat</th><th scope=col>lng</th><th scope=col>district</th><th scope=col>age</th><th scope=col>race</th><th scope=col>gender</th><th scope=col>arrested</th><th scope=col>contraband_found</th><th scope=col>searched</th><th scope=col>reason_for_stop</th><th scope=col>age_first_digit</th></tr>\n",
       "\t<tr><th scope=col>&lt;date&gt;</th><th scope=col>&lt;time&gt;</th><th scope=col>&lt;chr&gt;</th><th scope=col>&lt;dbl&gt;</th><th scope=col>&lt;dbl&gt;</th><th scope=col>&lt;chr&gt;</th><th scope=col>&lt;int&gt;</th><th scope=col>&lt;chr&gt;</th><th scope=col>&lt;fct&gt;</th><th scope=col>&lt;lgl&gt;</th><th scope=col>&lt;lgl&gt;</th><th scope=col>&lt;lgl&gt;</th><th scope=col>&lt;chr&gt;</th><th scope=col>&lt;dbl&gt;</th></tr>\n",
       "</thead>\n",
       "<tbody>\n",
       "\t<tr><td>2009-01-01</td><td>10:10:00</td><td>1736 PALOU      </td><td>37.7</td><td>-122</td><td>C</td><td>22</td><td>black</td><td>female</td><td>FALSE</td><td>FALSE</td><td> TRUE</td><td>Equipment violation</td><td>2</td></tr>\n",
       "\t<tr><td>2009-01-01</td><td>10:15:00</td><td>THRIFT/PLYMTH   </td><td>37.7</td><td>-122</td><td>I</td><td>44</td><td>black</td><td>male  </td><td>FALSE</td><td>   NA</td><td>FALSE</td><td>Moving violation   </td><td>4</td></tr>\n",
       "\t<tr><td>2009-01-01</td><td>10:20:00</td><td>FLORIDA/19TH    </td><td>37.8</td><td>-122</td><td>D</td><td>45</td><td>white</td><td>female</td><td>FALSE</td><td>   NA</td><td>FALSE</td><td>Equipment violation</td><td>4</td></tr>\n",
       "\t<tr><td>2009-01-01</td><td>10:20:00</td><td>19TH AVE/MORAGAE</td><td>37.8</td><td>-122</td><td>I</td><td>27</td><td>white</td><td>male  </td><td>FALSE</td><td>   NA</td><td>FALSE</td><td>Equipment violation</td><td>3</td></tr>\n",
       "\t<tr><td>2009-01-01</td><td>10:36:00</td><td>19TH/LINCOLN    </td><td>37.8</td><td>-122</td><td>I</td><td>29</td><td>white</td><td>male  </td><td>FALSE</td><td>   NA</td><td>FALSE</td><td>Equipment violation</td><td>3</td></tr>\n",
       "\t<tr><td>2009-01-01</td><td>10:40:00</td><td><span style=white-space:pre-wrap>16TH&amp;JULIAN     </span></td><td>37.8</td><td>-122</td><td>D</td><td>34</td><td>black</td><td><span style=white-space:pre-wrap>male  </span></td><td>FALSE</td><td><span style=white-space:pre-wrap>   NA</span></td><td>FALSE</td><td><span style=white-space:pre-wrap>Moving violation   </span></td><td>3</td></tr>\n",
       "</tbody>\n",
       "</table>\n"
      ],
      "text/latex": [
       "A tibble: 6 × 14\n",
       "\\begin{tabular}{llllllllllllll}\n",
       " date & time & location & lat & lng & district & age & race & gender & arrested & contraband\\_found & searched & reason\\_for\\_stop & age\\_first\\_digit\\\\\n",
       " <date> & <time> & <chr> & <dbl> & <dbl> & <chr> & <int> & <chr> & <fct> & <lgl> & <lgl> & <lgl> & <chr> & <dbl>\\\\\n",
       "\\hline\n",
       "\t 2009-01-01 & 10:10:00 & 1736 PALOU       & 37.7 & -122 & C & 22 & black & female & FALSE & FALSE &  TRUE & Equipment violation & 2\\\\\n",
       "\t 2009-01-01 & 10:15:00 & THRIFT/PLYMTH    & 37.7 & -122 & I & 44 & black & male   & FALSE &    NA & FALSE & Moving violation    & 4\\\\\n",
       "\t 2009-01-01 & 10:20:00 & FLORIDA/19TH     & 37.8 & -122 & D & 45 & white & female & FALSE &    NA & FALSE & Equipment violation & 4\\\\\n",
       "\t 2009-01-01 & 10:20:00 & 19TH AVE/MORAGAE & 37.8 & -122 & I & 27 & white & male   & FALSE &    NA & FALSE & Equipment violation & 3\\\\\n",
       "\t 2009-01-01 & 10:36:00 & 19TH/LINCOLN     & 37.8 & -122 & I & 29 & white & male   & FALSE &    NA & FALSE & Equipment violation & 3\\\\\n",
       "\t 2009-01-01 & 10:40:00 & 16TH\\&JULIAN      & 37.8 & -122 & D & 34 & black & male   & FALSE &    NA & FALSE & Moving violation    & 3\\\\\n",
       "\\end{tabular}\n"
      ],
      "text/markdown": [
       "\n",
       "A tibble: 6 × 14\n",
       "\n",
       "| date &lt;date&gt; | time &lt;time&gt; | location &lt;chr&gt; | lat &lt;dbl&gt; | lng &lt;dbl&gt; | district &lt;chr&gt; | age &lt;int&gt; | race &lt;chr&gt; | gender &lt;fct&gt; | arrested &lt;lgl&gt; | contraband_found &lt;lgl&gt; | searched &lt;lgl&gt; | reason_for_stop &lt;chr&gt; | age_first_digit &lt;dbl&gt; |\n",
       "|---|---|---|---|---|---|---|---|---|---|---|---|---|---|\n",
       "| 2009-01-01 | 10:10:00 | 1736 PALOU       | 37.7 | -122 | C | 22 | black | female | FALSE | FALSE |  TRUE | Equipment violation | 2 |\n",
       "| 2009-01-01 | 10:15:00 | THRIFT/PLYMTH    | 37.7 | -122 | I | 44 | black | male   | FALSE |    NA | FALSE | Moving violation    | 4 |\n",
       "| 2009-01-01 | 10:20:00 | FLORIDA/19TH     | 37.8 | -122 | D | 45 | white | female | FALSE |    NA | FALSE | Equipment violation | 4 |\n",
       "| 2009-01-01 | 10:20:00 | 19TH AVE/MORAGAE | 37.8 | -122 | I | 27 | white | male   | FALSE |    NA | FALSE | Equipment violation | 3 |\n",
       "| 2009-01-01 | 10:36:00 | 19TH/LINCOLN     | 37.8 | -122 | I | 29 | white | male   | FALSE |    NA | FALSE | Equipment violation | 3 |\n",
       "| 2009-01-01 | 10:40:00 | 16TH&amp;JULIAN      | 37.8 | -122 | D | 34 | black | male   | FALSE |    NA | FALSE | Moving violation    | 3 |\n",
       "\n"
      ],
      "text/plain": [
       "  date       time     location         lat  lng  district age race  gender\n",
       "1 2009-01-01 10:10:00 1736 PALOU       37.7 -122 C        22  black female\n",
       "2 2009-01-01 10:15:00 THRIFT/PLYMTH    37.7 -122 I        44  black male  \n",
       "3 2009-01-01 10:20:00 FLORIDA/19TH     37.8 -122 D        45  white female\n",
       "4 2009-01-01 10:20:00 19TH AVE/MORAGAE 37.8 -122 I        27  white male  \n",
       "5 2009-01-01 10:36:00 19TH/LINCOLN     37.8 -122 I        29  white male  \n",
       "6 2009-01-01 10:40:00 16TH&JULIAN      37.8 -122 D        34  black male  \n",
       "  arrested contraband_found searched reason_for_stop     age_first_digit\n",
       "1 FALSE    FALSE             TRUE    Equipment violation 2              \n",
       "2 FALSE       NA            FALSE    Moving violation    4              \n",
       "3 FALSE       NA            FALSE    Equipment violation 4              \n",
       "4 FALSE       NA            FALSE    Equipment violation 3              \n",
       "5 FALSE       NA            FALSE    Equipment violation 3              \n",
       "6 FALSE       NA            FALSE    Moving violation    3              "
      ]
     },
     "metadata": {},
     "output_type": "display_data"
    }
   ],
   "source": [
    "stops %>%\n",
    "    mutate(age_first_digit = round(age/10)) %>%\n",
    "    head()"
   ]
  },
  {
   "cell_type": "markdown",
   "metadata": {},
   "source": [
    "❗❗❗Important note❗❗❗: Most `R` functions are \"copy on modify\". In other words, when we apply a function to data, `R` creates a copy of the data and then modifies the copy. The original data is unchanged.\n",
    "\n",
    "So, `mutate` alone will not change the original data. "
   ]
  },
  {
   "cell_type": "markdown",
   "metadata": {
    "tags": []
   },
   "source": [
    "### 🚀 Exercise\n",
    "\n",
    "1. Use `year()` and `mutate()` to add a new column called `yr` to our `stops` data. \n",
    "\n",
    "> You can read about the `year()` function by running `?year`.\n",
    "\n",
    "2. Assign the resulting data frame to a new variable called `stops_w_yr`. \n",
    " \n",
    "3. Finally, run `count(stops_w_yr, yr)`. \n",
    "\n",
    "> What do you think `count` does? Do you notice any patterns?"
   ]
  },
  {
   "cell_type": "code",
   "execution_count": 76,
   "metadata": {},
   "outputs": [
    {
     "data": {
      "text/html": [
       "<table class=\"dataframe\">\n",
       "<caption>A tibble: 8 × 2</caption>\n",
       "<thead>\n",
       "\t<tr><th scope=col>yr</th><th scope=col>n</th></tr>\n",
       "\t<tr><th scope=col>&lt;dbl&gt;</th><th scope=col>&lt;int&gt;</th></tr>\n",
       "</thead>\n",
       "<tbody>\n",
       "\t<tr><td>2009</td><td>110269</td></tr>\n",
       "\t<tr><td>2010</td><td>104254</td></tr>\n",
       "\t<tr><td>2011</td><td> 99476</td></tr>\n",
       "\t<tr><td>2012</td><td> 82362</td></tr>\n",
       "\t<tr><td>2013</td><td> 74144</td></tr>\n",
       "\t<tr><td>2014</td><td> 39752</td></tr>\n",
       "\t<tr><td>2015</td><td> 85689</td></tr>\n",
       "\t<tr><td>2016</td><td> 40215</td></tr>\n",
       "</tbody>\n",
       "</table>\n"
      ],
      "text/latex": [
       "A tibble: 8 × 2\n",
       "\\begin{tabular}{ll}\n",
       " yr & n\\\\\n",
       " <dbl> & <int>\\\\\n",
       "\\hline\n",
       "\t 2009 & 110269\\\\\n",
       "\t 2010 & 104254\\\\\n",
       "\t 2011 &  99476\\\\\n",
       "\t 2012 &  82362\\\\\n",
       "\t 2013 &  74144\\\\\n",
       "\t 2014 &  39752\\\\\n",
       "\t 2015 &  85689\\\\\n",
       "\t 2016 &  40215\\\\\n",
       "\\end{tabular}\n"
      ],
      "text/markdown": [
       "\n",
       "A tibble: 8 × 2\n",
       "\n",
       "| yr &lt;dbl&gt; | n &lt;int&gt; |\n",
       "|---|---|\n",
       "| 2009 | 110269 |\n",
       "| 2010 | 104254 |\n",
       "| 2011 |  99476 |\n",
       "| 2012 |  82362 |\n",
       "| 2013 |  74144 |\n",
       "| 2014 |  39752 |\n",
       "| 2015 |  85689 |\n",
       "| 2016 |  40215 |\n",
       "\n"
      ],
      "text/plain": [
       "  yr   n     \n",
       "1 2009 110269\n",
       "2 2010 104254\n",
       "3 2011  99476\n",
       "4 2012  82362\n",
       "5 2013  74144\n",
       "6 2014  39752\n",
       "7 2015  85689\n",
       "8 2016  40215"
      ]
     },
     "metadata": {},
     "output_type": "display_data"
    }
   ],
   "source": [
    "# Your code here!\n",
    "\n",
    "# START\n",
    "\n",
    "stops_w_yr = stops %>% \n",
    "    mutate(yr = year(date))\n",
    "\n",
    "# Count the number of stops in each year.\n",
    "# There are fewer stops in later years.\n",
    "# There are a lot fewer stops in 2014 and 2016.\n",
    "# We saw early that we only get the first half of 2016.\n",
    "# But what's going on with 2014?\n",
    "count(stops_w_yr, yr)\n",
    "\n",
    "# END"
   ]
  },
  {
   "cell_type": "markdown",
   "metadata": {},
   "source": [
    "## 📝 Selecting rows with `filter`\n",
    "\n",
    "Now that we have a `yr` column, we want to limit our data to just the stops in 2015.\n",
    "\n",
    "Problem: We have data from 2009 to 2016. To limit to specific rows, we use `filter`."
   ]
  },
  {
   "cell_type": "markdown",
   "metadata": {},
   "source": [
    "🖥️ Usage: `filter(data, condition)`\n",
    "* `data`: the data frame\n",
    "* `condition`: a boolean vector where TRUE indicates the rows in `data` to keep.\n",
    "\n",
    "For example, here's how we could limit `stops` to drivers under 30 years old:"
   ]
  },
  {
   "cell_type": "code",
   "execution_count": 77,
   "metadata": {},
   "outputs": [
    {
     "data": {
      "text/html": [
       "<table class=\"dataframe\">\n",
       "<caption>A tibble: 6 × 13</caption>\n",
       "<thead>\n",
       "\t<tr><th scope=col>date</th><th scope=col>time</th><th scope=col>location</th><th scope=col>lat</th><th scope=col>lng</th><th scope=col>district</th><th scope=col>age</th><th scope=col>race</th><th scope=col>gender</th><th scope=col>arrested</th><th scope=col>contraband_found</th><th scope=col>searched</th><th scope=col>reason_for_stop</th></tr>\n",
       "\t<tr><th scope=col>&lt;date&gt;</th><th scope=col>&lt;time&gt;</th><th scope=col>&lt;chr&gt;</th><th scope=col>&lt;dbl&gt;</th><th scope=col>&lt;dbl&gt;</th><th scope=col>&lt;chr&gt;</th><th scope=col>&lt;int&gt;</th><th scope=col>&lt;chr&gt;</th><th scope=col>&lt;fct&gt;</th><th scope=col>&lt;lgl&gt;</th><th scope=col>&lt;lgl&gt;</th><th scope=col>&lt;lgl&gt;</th><th scope=col>&lt;chr&gt;</th></tr>\n",
       "</thead>\n",
       "<tbody>\n",
       "\t<tr><td>2009-01-01</td><td>10:10:00</td><td>1736 PALOU            </td><td>37.7</td><td>-122</td><td>C</td><td>22</td><td>black</td><td>female</td><td>FALSE</td><td>FALSE</td><td> TRUE</td><td>Equipment violation</td></tr>\n",
       "\t<tr><td>2009-01-01</td><td>10:20:00</td><td>19TH AVE/MORAGAE      </td><td>37.8</td><td>-122</td><td>I</td><td>27</td><td>white</td><td>male  </td><td>FALSE</td><td>   NA</td><td>FALSE</td><td>Equipment violation</td></tr>\n",
       "\t<tr><td>2009-01-01</td><td>10:36:00</td><td>19TH/LINCOLN          </td><td>37.8</td><td>-122</td><td>I</td><td>29</td><td>white</td><td>male  </td><td>FALSE</td><td>   NA</td><td>FALSE</td><td>Equipment violation</td></tr>\n",
       "\t<tr><td>2009-01-01</td><td>10:44:00</td><td>19TH/SANTIAGO         </td><td>37.7</td><td>-122</td><td>I</td><td>29</td><td>white</td><td>female</td><td>FALSE</td><td>   NA</td><td>FALSE</td><td>Equipment violation</td></tr>\n",
       "\t<tr><td>2009-01-01</td><td>10:55:00</td><td>LA SALLE @ NEWCOMB    </td><td>37.7</td><td>-122</td><td>C</td><td>26</td><td>black</td><td>male  </td><td>FALSE</td><td>FALSE</td><td> TRUE</td><td>Moving violation   </td></tr>\n",
       "\t<tr><td>2009-01-01</td><td>01:10:00</td><td>CORDELIA AL &amp; BROADWAY</td><td>37.8</td><td>-122</td><td>A</td><td>19</td><td>black</td><td><span style=white-space:pre-wrap>male  </span></td><td>FALSE</td><td><span style=white-space:pre-wrap>   NA</span></td><td>FALSE</td><td><span style=white-space:pre-wrap>Moving violation   </span></td></tr>\n",
       "</tbody>\n",
       "</table>\n"
      ],
      "text/latex": [
       "A tibble: 6 × 13\n",
       "\\begin{tabular}{lllllllllllll}\n",
       " date & time & location & lat & lng & district & age & race & gender & arrested & contraband\\_found & searched & reason\\_for\\_stop\\\\\n",
       " <date> & <time> & <chr> & <dbl> & <dbl> & <chr> & <int> & <chr> & <fct> & <lgl> & <lgl> & <lgl> & <chr>\\\\\n",
       "\\hline\n",
       "\t 2009-01-01 & 10:10:00 & 1736 PALOU             & 37.7 & -122 & C & 22 & black & female & FALSE & FALSE &  TRUE & Equipment violation\\\\\n",
       "\t 2009-01-01 & 10:20:00 & 19TH AVE/MORAGAE       & 37.8 & -122 & I & 27 & white & male   & FALSE &    NA & FALSE & Equipment violation\\\\\n",
       "\t 2009-01-01 & 10:36:00 & 19TH/LINCOLN           & 37.8 & -122 & I & 29 & white & male   & FALSE &    NA & FALSE & Equipment violation\\\\\n",
       "\t 2009-01-01 & 10:44:00 & 19TH/SANTIAGO          & 37.7 & -122 & I & 29 & white & female & FALSE &    NA & FALSE & Equipment violation\\\\\n",
       "\t 2009-01-01 & 10:55:00 & LA SALLE @ NEWCOMB     & 37.7 & -122 & C & 26 & black & male   & FALSE & FALSE &  TRUE & Moving violation   \\\\\n",
       "\t 2009-01-01 & 01:10:00 & CORDELIA AL \\& BROADWAY & 37.8 & -122 & A & 19 & black & male   & FALSE &    NA & FALSE & Moving violation   \\\\\n",
       "\\end{tabular}\n"
      ],
      "text/markdown": [
       "\n",
       "A tibble: 6 × 13\n",
       "\n",
       "| date &lt;date&gt; | time &lt;time&gt; | location &lt;chr&gt; | lat &lt;dbl&gt; | lng &lt;dbl&gt; | district &lt;chr&gt; | age &lt;int&gt; | race &lt;chr&gt; | gender &lt;fct&gt; | arrested &lt;lgl&gt; | contraband_found &lt;lgl&gt; | searched &lt;lgl&gt; | reason_for_stop &lt;chr&gt; |\n",
       "|---|---|---|---|---|---|---|---|---|---|---|---|---|\n",
       "| 2009-01-01 | 10:10:00 | 1736 PALOU             | 37.7 | -122 | C | 22 | black | female | FALSE | FALSE |  TRUE | Equipment violation |\n",
       "| 2009-01-01 | 10:20:00 | 19TH AVE/MORAGAE       | 37.8 | -122 | I | 27 | white | male   | FALSE |    NA | FALSE | Equipment violation |\n",
       "| 2009-01-01 | 10:36:00 | 19TH/LINCOLN           | 37.8 | -122 | I | 29 | white | male   | FALSE |    NA | FALSE | Equipment violation |\n",
       "| 2009-01-01 | 10:44:00 | 19TH/SANTIAGO          | 37.7 | -122 | I | 29 | white | female | FALSE |    NA | FALSE | Equipment violation |\n",
       "| 2009-01-01 | 10:55:00 | LA SALLE @ NEWCOMB     | 37.7 | -122 | C | 26 | black | male   | FALSE | FALSE |  TRUE | Moving violation    |\n",
       "| 2009-01-01 | 01:10:00 | CORDELIA AL &amp; BROADWAY | 37.8 | -122 | A | 19 | black | male   | FALSE |    NA | FALSE | Moving violation    |\n",
       "\n"
      ],
      "text/plain": [
       "  date       time     location               lat  lng  district age race \n",
       "1 2009-01-01 10:10:00 1736 PALOU             37.7 -122 C        22  black\n",
       "2 2009-01-01 10:20:00 19TH AVE/MORAGAE       37.8 -122 I        27  white\n",
       "3 2009-01-01 10:36:00 19TH/LINCOLN           37.8 -122 I        29  white\n",
       "4 2009-01-01 10:44:00 19TH/SANTIAGO          37.7 -122 I        29  white\n",
       "5 2009-01-01 10:55:00 LA SALLE @ NEWCOMB     37.7 -122 C        26  black\n",
       "6 2009-01-01 01:10:00 CORDELIA AL & BROADWAY 37.8 -122 A        19  black\n",
       "  gender arrested contraband_found searched reason_for_stop    \n",
       "1 female FALSE    FALSE             TRUE    Equipment violation\n",
       "2 male   FALSE       NA            FALSE    Equipment violation\n",
       "3 male   FALSE       NA            FALSE    Equipment violation\n",
       "4 female FALSE       NA            FALSE    Equipment violation\n",
       "5 male   FALSE    FALSE             TRUE    Moving violation   \n",
       "6 male   FALSE       NA            FALSE    Moving violation   "
      ]
     },
     "metadata": {},
     "output_type": "display_data"
    }
   ],
   "source": [
    "stops %>%\n",
    "    filter(age < 30) %>%\n",
    "    head()"
   ]
  },
  {
   "cell_type": "markdown",
   "metadata": {
    "tags": []
   },
   "source": [
    "### 🚀 Exercise\n",
    "\n",
    "1. Use `filter()` to filter the `stops` data to just 2015. Assign the result to a variable called `stops_2015`.\n",
    "\n",
    "2. In the previous exercise, we saw that there were a lot fewer stops in 2014 than expected. Figure out why.\n",
    "\n",
    "3. For practice, filter to stops occurring in 2013 or 2014 among female drivers less than 30 years old or more than 60 years old. "
   ]
  },
  {
   "cell_type": "code",
   "execution_count": 91,
   "metadata": {},
   "outputs": [
    {
     "name": "stdout",
     "output_type": "stream",
     "text": [
      "[1] \"2014-01-01\" \"2014-05-30\"\n",
      "[1] \"2014-01-01\" \"2014-05-30\"\n"
     ]
    },
    {
     "data": {
      "text/html": [
       "<table class=\"dataframe\">\n",
       "<caption>A tibble: 6 × 14</caption>\n",
       "<thead>\n",
       "\t<tr><th scope=col>date</th><th scope=col>time</th><th scope=col>location</th><th scope=col>lat</th><th scope=col>lng</th><th scope=col>district</th><th scope=col>age</th><th scope=col>race</th><th scope=col>gender</th><th scope=col>arrested</th><th scope=col>contraband_found</th><th scope=col>searched</th><th scope=col>reason_for_stop</th><th scope=col>yr</th></tr>\n",
       "\t<tr><th scope=col>&lt;date&gt;</th><th scope=col>&lt;time&gt;</th><th scope=col>&lt;chr&gt;</th><th scope=col>&lt;dbl&gt;</th><th scope=col>&lt;dbl&gt;</th><th scope=col>&lt;chr&gt;</th><th scope=col>&lt;int&gt;</th><th scope=col>&lt;chr&gt;</th><th scope=col>&lt;fct&gt;</th><th scope=col>&lt;lgl&gt;</th><th scope=col>&lt;lgl&gt;</th><th scope=col>&lt;lgl&gt;</th><th scope=col>&lt;chr&gt;</th><th scope=col>&lt;dbl&gt;</th></tr>\n",
       "</thead>\n",
       "<tbody>\n",
       "\t<tr><td>2013-01-01</td><td>01:02:00</td><td>17 ST / SAN BRUNO AV  </td><td>37.8</td><td>-122</td><td>C</td><td>19</td><td>hispanic</td><td>female</td><td>FALSE</td><td>NA</td><td>FALSE</td><td>Equipment violation</td><td>2013</td></tr>\n",
       "\t<tr><td>2013-01-01</td><td>10:26:00</td><td><span style=white-space:pre-wrap>3RD ST &amp; BANCROFT     </span></td><td>37.7</td><td>-122</td><td>C</td><td>22</td><td><span style=white-space:pre-wrap>black   </span></td><td>female</td><td>FALSE</td><td>NA</td><td>FALSE</td><td>Equipment violation</td><td>2013</td></tr>\n",
       "\t<tr><td>2013-01-01</td><td>10:35:00</td><td><span style=white-space:pre-wrap>6TH ST &amp; HOWARD       </span></td><td>37.8</td><td>-122</td><td>B</td><td>28</td><td><span style=white-space:pre-wrap>black   </span></td><td>female</td><td>FALSE</td><td>NA</td><td>FALSE</td><td>Equipment violation</td><td>2013</td></tr>\n",
       "\t<tr><td>2013-01-01</td><td>11:45:00</td><td><span style=white-space:pre-wrap>SUTTER &amp; STOCKTON     </span></td><td>37.8</td><td>-122</td><td>A</td><td>22</td><td><span style=white-space:pre-wrap>white   </span></td><td>female</td><td>FALSE</td><td>NA</td><td>FALSE</td><td>Equipment violation</td><td>2013</td></tr>\n",
       "\t<tr><td>2013-01-01</td><td>12:45:00</td><td>SOUTH VANNESS &amp; MARKET</td><td>37.8</td><td>-122</td><td>B</td><td>24</td><td>hispanic</td><td>female</td><td>FALSE</td><td>NA</td><td>FALSE</td><td>Equipment violation</td><td>2013</td></tr>\n",
       "\t<tr><td>2013-01-01</td><td>12:50:00</td><td>868 MISSION           </td><td>37.8</td><td>-122</td><td>B</td><td>28</td><td>white   </td><td>female</td><td>FALSE</td><td>NA</td><td>FALSE</td><td>Moving violation   </td><td>2013</td></tr>\n",
       "</tbody>\n",
       "</table>\n"
      ],
      "text/latex": [
       "A tibble: 6 × 14\n",
       "\\begin{tabular}{llllllllllllll}\n",
       " date & time & location & lat & lng & district & age & race & gender & arrested & contraband\\_found & searched & reason\\_for\\_stop & yr\\\\\n",
       " <date> & <time> & <chr> & <dbl> & <dbl> & <chr> & <int> & <chr> & <fct> & <lgl> & <lgl> & <lgl> & <chr> & <dbl>\\\\\n",
       "\\hline\n",
       "\t 2013-01-01 & 01:02:00 & 17 ST / SAN BRUNO AV   & 37.8 & -122 & C & 19 & hispanic & female & FALSE & NA & FALSE & Equipment violation & 2013\\\\\n",
       "\t 2013-01-01 & 10:26:00 & 3RD ST \\& BANCROFT      & 37.7 & -122 & C & 22 & black    & female & FALSE & NA & FALSE & Equipment violation & 2013\\\\\n",
       "\t 2013-01-01 & 10:35:00 & 6TH ST \\& HOWARD        & 37.8 & -122 & B & 28 & black    & female & FALSE & NA & FALSE & Equipment violation & 2013\\\\\n",
       "\t 2013-01-01 & 11:45:00 & SUTTER \\& STOCKTON      & 37.8 & -122 & A & 22 & white    & female & FALSE & NA & FALSE & Equipment violation & 2013\\\\\n",
       "\t 2013-01-01 & 12:45:00 & SOUTH VANNESS \\& MARKET & 37.8 & -122 & B & 24 & hispanic & female & FALSE & NA & FALSE & Equipment violation & 2013\\\\\n",
       "\t 2013-01-01 & 12:50:00 & 868 MISSION            & 37.8 & -122 & B & 28 & white    & female & FALSE & NA & FALSE & Moving violation    & 2013\\\\\n",
       "\\end{tabular}\n"
      ],
      "text/markdown": [
       "\n",
       "A tibble: 6 × 14\n",
       "\n",
       "| date &lt;date&gt; | time &lt;time&gt; | location &lt;chr&gt; | lat &lt;dbl&gt; | lng &lt;dbl&gt; | district &lt;chr&gt; | age &lt;int&gt; | race &lt;chr&gt; | gender &lt;fct&gt; | arrested &lt;lgl&gt; | contraband_found &lt;lgl&gt; | searched &lt;lgl&gt; | reason_for_stop &lt;chr&gt; | yr &lt;dbl&gt; |\n",
       "|---|---|---|---|---|---|---|---|---|---|---|---|---|---|\n",
       "| 2013-01-01 | 01:02:00 | 17 ST / SAN BRUNO AV   | 37.8 | -122 | C | 19 | hispanic | female | FALSE | NA | FALSE | Equipment violation | 2013 |\n",
       "| 2013-01-01 | 10:26:00 | 3RD ST &amp; BANCROFT      | 37.7 | -122 | C | 22 | black    | female | FALSE | NA | FALSE | Equipment violation | 2013 |\n",
       "| 2013-01-01 | 10:35:00 | 6TH ST &amp; HOWARD        | 37.8 | -122 | B | 28 | black    | female | FALSE | NA | FALSE | Equipment violation | 2013 |\n",
       "| 2013-01-01 | 11:45:00 | SUTTER &amp; STOCKTON      | 37.8 | -122 | A | 22 | white    | female | FALSE | NA | FALSE | Equipment violation | 2013 |\n",
       "| 2013-01-01 | 12:45:00 | SOUTH VANNESS &amp; MARKET | 37.8 | -122 | B | 24 | hispanic | female | FALSE | NA | FALSE | Equipment violation | 2013 |\n",
       "| 2013-01-01 | 12:50:00 | 868 MISSION            | 37.8 | -122 | B | 28 | white    | female | FALSE | NA | FALSE | Moving violation    | 2013 |\n",
       "\n"
      ],
      "text/plain": [
       "  date       time     location               lat  lng  district age race    \n",
       "1 2013-01-01 01:02:00 17 ST / SAN BRUNO AV   37.8 -122 C        19  hispanic\n",
       "2 2013-01-01 10:26:00 3RD ST & BANCROFT      37.7 -122 C        22  black   \n",
       "3 2013-01-01 10:35:00 6TH ST & HOWARD        37.8 -122 B        28  black   \n",
       "4 2013-01-01 11:45:00 SUTTER & STOCKTON      37.8 -122 A        22  white   \n",
       "5 2013-01-01 12:45:00 SOUTH VANNESS & MARKET 37.8 -122 B        24  hispanic\n",
       "6 2013-01-01 12:50:00 868 MISSION            37.8 -122 B        28  white   \n",
       "  gender arrested contraband_found searched reason_for_stop     yr  \n",
       "1 female FALSE    NA               FALSE    Equipment violation 2013\n",
       "2 female FALSE    NA               FALSE    Equipment violation 2013\n",
       "3 female FALSE    NA               FALSE    Equipment violation 2013\n",
       "4 female FALSE    NA               FALSE    Equipment violation 2013\n",
       "5 female FALSE    NA               FALSE    Equipment violation 2013\n",
       "6 female FALSE    NA               FALSE    Moving violation    2013"
      ]
     },
     "metadata": {},
     "output_type": "display_data"
    },
    {
     "data": {
      "text/html": [
       "<table class=\"dataframe\">\n",
       "<caption>A tibble: 6 × 14</caption>\n",
       "<thead>\n",
       "\t<tr><th scope=col>date</th><th scope=col>time</th><th scope=col>location</th><th scope=col>lat</th><th scope=col>lng</th><th scope=col>district</th><th scope=col>age</th><th scope=col>race</th><th scope=col>gender</th><th scope=col>arrested</th><th scope=col>contraband_found</th><th scope=col>searched</th><th scope=col>reason_for_stop</th><th scope=col>yr</th></tr>\n",
       "\t<tr><th scope=col>&lt;date&gt;</th><th scope=col>&lt;time&gt;</th><th scope=col>&lt;chr&gt;</th><th scope=col>&lt;dbl&gt;</th><th scope=col>&lt;dbl&gt;</th><th scope=col>&lt;chr&gt;</th><th scope=col>&lt;int&gt;</th><th scope=col>&lt;chr&gt;</th><th scope=col>&lt;fct&gt;</th><th scope=col>&lt;lgl&gt;</th><th scope=col>&lt;lgl&gt;</th><th scope=col>&lt;lgl&gt;</th><th scope=col>&lt;chr&gt;</th><th scope=col>&lt;dbl&gt;</th></tr>\n",
       "</thead>\n",
       "<tbody>\n",
       "\t<tr><td>2013-01-01</td><td>01:02:00</td><td>17 ST / SAN BRUNO AV  </td><td>37.8</td><td>-122</td><td>C</td><td>19</td><td>hispanic</td><td>female</td><td>FALSE</td><td>NA</td><td>FALSE</td><td>Equipment violation</td><td>2013</td></tr>\n",
       "\t<tr><td>2013-01-01</td><td>10:26:00</td><td><span style=white-space:pre-wrap>3RD ST &amp; BANCROFT     </span></td><td>37.7</td><td>-122</td><td>C</td><td>22</td><td><span style=white-space:pre-wrap>black   </span></td><td>female</td><td>FALSE</td><td>NA</td><td>FALSE</td><td>Equipment violation</td><td>2013</td></tr>\n",
       "\t<tr><td>2013-01-01</td><td>10:35:00</td><td><span style=white-space:pre-wrap>6TH ST &amp; HOWARD       </span></td><td>37.8</td><td>-122</td><td>B</td><td>28</td><td><span style=white-space:pre-wrap>black   </span></td><td>female</td><td>FALSE</td><td>NA</td><td>FALSE</td><td>Equipment violation</td><td>2013</td></tr>\n",
       "\t<tr><td>2013-01-01</td><td>11:45:00</td><td><span style=white-space:pre-wrap>SUTTER &amp; STOCKTON     </span></td><td>37.8</td><td>-122</td><td>A</td><td>22</td><td><span style=white-space:pre-wrap>white   </span></td><td>female</td><td>FALSE</td><td>NA</td><td>FALSE</td><td>Equipment violation</td><td>2013</td></tr>\n",
       "\t<tr><td>2013-01-01</td><td>12:45:00</td><td>SOUTH VANNESS &amp; MARKET</td><td>37.8</td><td>-122</td><td>B</td><td>24</td><td>hispanic</td><td>female</td><td>FALSE</td><td>NA</td><td>FALSE</td><td>Equipment violation</td><td>2013</td></tr>\n",
       "\t<tr><td>2013-01-01</td><td>12:50:00</td><td>868 MISSION           </td><td>37.8</td><td>-122</td><td>B</td><td>28</td><td>white   </td><td>female</td><td>FALSE</td><td>NA</td><td>FALSE</td><td>Moving violation   </td><td>2013</td></tr>\n",
       "</tbody>\n",
       "</table>\n"
      ],
      "text/latex": [
       "A tibble: 6 × 14\n",
       "\\begin{tabular}{llllllllllllll}\n",
       " date & time & location & lat & lng & district & age & race & gender & arrested & contraband\\_found & searched & reason\\_for\\_stop & yr\\\\\n",
       " <date> & <time> & <chr> & <dbl> & <dbl> & <chr> & <int> & <chr> & <fct> & <lgl> & <lgl> & <lgl> & <chr> & <dbl>\\\\\n",
       "\\hline\n",
       "\t 2013-01-01 & 01:02:00 & 17 ST / SAN BRUNO AV   & 37.8 & -122 & C & 19 & hispanic & female & FALSE & NA & FALSE & Equipment violation & 2013\\\\\n",
       "\t 2013-01-01 & 10:26:00 & 3RD ST \\& BANCROFT      & 37.7 & -122 & C & 22 & black    & female & FALSE & NA & FALSE & Equipment violation & 2013\\\\\n",
       "\t 2013-01-01 & 10:35:00 & 6TH ST \\& HOWARD        & 37.8 & -122 & B & 28 & black    & female & FALSE & NA & FALSE & Equipment violation & 2013\\\\\n",
       "\t 2013-01-01 & 11:45:00 & SUTTER \\& STOCKTON      & 37.8 & -122 & A & 22 & white    & female & FALSE & NA & FALSE & Equipment violation & 2013\\\\\n",
       "\t 2013-01-01 & 12:45:00 & SOUTH VANNESS \\& MARKET & 37.8 & -122 & B & 24 & hispanic & female & FALSE & NA & FALSE & Equipment violation & 2013\\\\\n",
       "\t 2013-01-01 & 12:50:00 & 868 MISSION            & 37.8 & -122 & B & 28 & white    & female & FALSE & NA & FALSE & Moving violation    & 2013\\\\\n",
       "\\end{tabular}\n"
      ],
      "text/markdown": [
       "\n",
       "A tibble: 6 × 14\n",
       "\n",
       "| date &lt;date&gt; | time &lt;time&gt; | location &lt;chr&gt; | lat &lt;dbl&gt; | lng &lt;dbl&gt; | district &lt;chr&gt; | age &lt;int&gt; | race &lt;chr&gt; | gender &lt;fct&gt; | arrested &lt;lgl&gt; | contraband_found &lt;lgl&gt; | searched &lt;lgl&gt; | reason_for_stop &lt;chr&gt; | yr &lt;dbl&gt; |\n",
       "|---|---|---|---|---|---|---|---|---|---|---|---|---|---|\n",
       "| 2013-01-01 | 01:02:00 | 17 ST / SAN BRUNO AV   | 37.8 | -122 | C | 19 | hispanic | female | FALSE | NA | FALSE | Equipment violation | 2013 |\n",
       "| 2013-01-01 | 10:26:00 | 3RD ST &amp; BANCROFT      | 37.7 | -122 | C | 22 | black    | female | FALSE | NA | FALSE | Equipment violation | 2013 |\n",
       "| 2013-01-01 | 10:35:00 | 6TH ST &amp; HOWARD        | 37.8 | -122 | B | 28 | black    | female | FALSE | NA | FALSE | Equipment violation | 2013 |\n",
       "| 2013-01-01 | 11:45:00 | SUTTER &amp; STOCKTON      | 37.8 | -122 | A | 22 | white    | female | FALSE | NA | FALSE | Equipment violation | 2013 |\n",
       "| 2013-01-01 | 12:45:00 | SOUTH VANNESS &amp; MARKET | 37.8 | -122 | B | 24 | hispanic | female | FALSE | NA | FALSE | Equipment violation | 2013 |\n",
       "| 2013-01-01 | 12:50:00 | 868 MISSION            | 37.8 | -122 | B | 28 | white    | female | FALSE | NA | FALSE | Moving violation    | 2013 |\n",
       "\n"
      ],
      "text/plain": [
       "  date       time     location               lat  lng  district age race    \n",
       "1 2013-01-01 01:02:00 17 ST / SAN BRUNO AV   37.8 -122 C        19  hispanic\n",
       "2 2013-01-01 10:26:00 3RD ST & BANCROFT      37.7 -122 C        22  black   \n",
       "3 2013-01-01 10:35:00 6TH ST & HOWARD        37.8 -122 B        28  black   \n",
       "4 2013-01-01 11:45:00 SUTTER & STOCKTON      37.8 -122 A        22  white   \n",
       "5 2013-01-01 12:45:00 SOUTH VANNESS & MARKET 37.8 -122 B        24  hispanic\n",
       "6 2013-01-01 12:50:00 868 MISSION            37.8 -122 B        28  white   \n",
       "  gender arrested contraband_found searched reason_for_stop     yr  \n",
       "1 female FALSE    NA               FALSE    Equipment violation 2013\n",
       "2 female FALSE    NA               FALSE    Equipment violation 2013\n",
       "3 female FALSE    NA               FALSE    Equipment violation 2013\n",
       "4 female FALSE    NA               FALSE    Equipment violation 2013\n",
       "5 female FALSE    NA               FALSE    Equipment violation 2013\n",
       "6 female FALSE    NA               FALSE    Moving violation    2013"
      ]
     },
     "metadata": {},
     "output_type": "display_data"
    }
   ],
   "source": [
    "# Your code here!\n",
    "\n",
    "# START\n",
    "\n",
    "# 1.\n",
    "stops_2015 = stops_w_yr %>%\n",
    "    filter(yr == 2015)\n",
    "\n",
    "# 2.\n",
    "stops_2014 = stops_w_yr %>%\n",
    "    filter(yr == 2014)\n",
    "\n",
    "# 2014 only covers stops before May 31\n",
    "print(range(stops_2014$date))\n",
    "\n",
    "# 2., but using only one pipe. \n",
    "# `pull(x, y)` has the same effect as `x$y`, but is more easily pipe-able.\n",
    "# Similar to how add(x,y) is the same as `x+y`.\n",
    "# `$` and `+` are called infix functions\n",
    "stops_w_yr %>%\n",
    "    filter(yr == 2014) %>%\n",
    "    pull(date) %>%\n",
    "    range() %>%\n",
    "    print()\n",
    "\n",
    "# 3. \n",
    "stops_w_yr %>%\n",
    "    filter(\n",
    "        (yr == 2013 | yr == 2014) &\n",
    "        (gender == 'female') &\n",
    "        (age < 30 | age > 60)\n",
    "    ) %>%\n",
    "    head()\n",
    "\n",
    "# 3., but more compact\n",
    "# comma-separate conditions in `filter()` are combined with `&`\n",
    "stops_w_yr %>%\n",
    "    filter(\n",
    "        yr %in% c(2013, 2014),\n",
    "        gender == 'female',\n",
    "        age < 30 | age > 60\n",
    "    ) %>%\n",
    "    head()\n",
    "# END"
   ]
  },
  {
   "cell_type": "markdown",
   "metadata": {
    "tags": []
   },
   "source": [
    "## 📝 Aggregating data with `summarize()`"
   ]
  },
  {
   "cell_type": "markdown",
   "metadata": {},
   "source": [
    "What was the average, median, maximum, and minimum age of drivers in 2015?\n",
    "\n",
    "Problem: We want to aggregate the values in a column. To do this, we use `summarize()`."
   ]
  },
  {
   "cell_type": "code",
   "execution_count": 92,
   "metadata": {},
   "outputs": [
    {
     "data": {
      "text/html": [
       "&lt;NA&gt;"
      ],
      "text/latex": [
       "<NA>"
      ],
      "text/markdown": [
       "&lt;NA&gt;"
      ],
      "text/plain": [
       "[1] NA"
      ]
     },
     "metadata": {},
     "output_type": "display_data"
    },
    {
     "data": {
      "text/html": [
       "&lt;NA&gt;"
      ],
      "text/latex": [
       "<NA>"
      ],
      "text/markdown": [
       "&lt;NA&gt;"
      ],
      "text/plain": [
       "[1] NA"
      ]
     },
     "metadata": {},
     "output_type": "display_data"
    },
    {
     "data": {
      "text/html": [
       "&lt;NA&gt;"
      ],
      "text/latex": [
       "<NA>"
      ],
      "text/markdown": [
       "&lt;NA&gt;"
      ],
      "text/plain": [
       "[1] NA"
      ]
     },
     "metadata": {},
     "output_type": "display_data"
    },
    {
     "data": {
      "text/html": [
       "&lt;NA&gt;"
      ],
      "text/latex": [
       "<NA>"
      ],
      "text/markdown": [
       "&lt;NA&gt;"
      ],
      "text/plain": [
       "[1] NA"
      ]
     },
     "metadata": {},
     "output_type": "display_data"
    },
    {
     "data": {
      "text/html": [
       "<table class=\"dataframe\">\n",
       "<caption>A tibble: 1 × 4</caption>\n",
       "<thead>\n",
       "\t<tr><th scope=col>mean_age</th><th scope=col>median_age</th><th scope=col>max_age</th><th scope=col>min_age</th></tr>\n",
       "\t<tr><th scope=col>&lt;dbl&gt;</th><th scope=col>&lt;int&gt;</th><th scope=col>&lt;int&gt;</th><th scope=col>&lt;int&gt;</th></tr>\n",
       "</thead>\n",
       "<tbody>\n",
       "\t<tr><td>NA</td><td>NA</td><td>NA</td><td>NA</td></tr>\n",
       "</tbody>\n",
       "</table>\n"
      ],
      "text/latex": [
       "A tibble: 1 × 4\n",
       "\\begin{tabular}{llll}\n",
       " mean\\_age & median\\_age & max\\_age & min\\_age\\\\\n",
       " <dbl> & <int> & <int> & <int>\\\\\n",
       "\\hline\n",
       "\t NA & NA & NA & NA\\\\\n",
       "\\end{tabular}\n"
      ],
      "text/markdown": [
       "\n",
       "A tibble: 1 × 4\n",
       "\n",
       "| mean_age &lt;dbl&gt; | median_age &lt;int&gt; | max_age &lt;int&gt; | min_age &lt;int&gt; |\n",
       "|---|---|---|---|\n",
       "| NA | NA | NA | NA |\n",
       "\n"
      ],
      "text/plain": [
       "  mean_age median_age max_age min_age\n",
       "1 NA       NA         NA      NA     "
      ]
     },
     "metadata": {},
     "output_type": "display_data"
    }
   ],
   "source": [
    "# Old method.\n",
    "mean(stops_2015$age)\n",
    "median(stops_2015$age)\n",
    "max(stops_2015$age)\n",
    "min(stops_2015$age)\n",
    "\n",
    "# New method!\n",
    "stops_2015 %>%\n",
    "    summarize(\n",
    "        mean_age = mean(age),\n",
    "        median_age = median(age),\n",
    "        max_age = max(age),\n",
    "        min_age = min(age)\n",
    "    )"
   ]
  },
  {
   "cell_type": "markdown",
   "metadata": {},
   "source": [
    "😱 Uh oh. By default, `R` will return `NA` for aggregating functions if at least one element is `NA` (i.e., missing).\n",
    "\n",
    "> The `na.rm=TRUE` argument will remove (`rm`) all `NA` values."
   ]
  },
  {
   "cell_type": "code",
   "execution_count": 80,
   "metadata": {},
   "outputs": [
    {
     "data": {
      "text/html": [
       "&lt;NA&gt;"
      ],
      "text/latex": [
       "<NA>"
      ],
      "text/markdown": [
       "&lt;NA&gt;"
      ],
      "text/plain": [
       "[1] NA"
      ]
     },
     "metadata": {},
     "output_type": "display_data"
    },
    {
     "data": {
      "text/html": [
       "2.5"
      ],
      "text/latex": [
       "2.5"
      ],
      "text/markdown": [
       "2.5"
      ],
      "text/plain": [
       "[1] 2.5"
      ]
     },
     "metadata": {},
     "output_type": "display_data"
    }
   ],
   "source": [
    "mean(c(1, 2, 3, 4, NA))\n",
    "mean(c(1, 2, 3, 4, NA), na.rm=TRUE)"
   ]
  },
  {
   "cell_type": "markdown",
   "metadata": {},
   "source": [
    "🔄 Let's try things one more time:"
   ]
  },
  {
   "cell_type": "code",
   "execution_count": 93,
   "metadata": {},
   "outputs": [
    {
     "data": {
      "text/html": [
       "38.8123854549699"
      ],
      "text/latex": [
       "38.8123854549699"
      ],
      "text/markdown": [
       "38.8123854549699"
      ],
      "text/plain": [
       "[1] 38.8"
      ]
     },
     "metadata": {},
     "output_type": "display_data"
    },
    {
     "data": {
      "text/html": [
       "36"
      ],
      "text/latex": [
       "36"
      ],
      "text/markdown": [
       "36"
      ],
      "text/plain": [
       "[1] 36"
      ]
     },
     "metadata": {},
     "output_type": "display_data"
    },
    {
     "data": {
      "text/html": [
       "99"
      ],
      "text/latex": [
       "99"
      ],
      "text/markdown": [
       "99"
      ],
      "text/plain": [
       "[1] 99"
      ]
     },
     "metadata": {},
     "output_type": "display_data"
    },
    {
     "data": {
      "text/html": [
       "10"
      ],
      "text/latex": [
       "10"
      ],
      "text/markdown": [
       "10"
      ],
      "text/plain": [
       "[1] 10"
      ]
     },
     "metadata": {},
     "output_type": "display_data"
    },
    {
     "data": {
      "text/html": [
       "<table class=\"dataframe\">\n",
       "<caption>A tibble: 1 × 4</caption>\n",
       "<thead>\n",
       "\t<tr><th scope=col>mean_age</th><th scope=col>median_age</th><th scope=col>max_age</th><th scope=col>min_age</th></tr>\n",
       "\t<tr><th scope=col>&lt;dbl&gt;</th><th scope=col>&lt;int&gt;</th><th scope=col>&lt;int&gt;</th><th scope=col>&lt;int&gt;</th></tr>\n",
       "</thead>\n",
       "<tbody>\n",
       "\t<tr><td>38.8</td><td>36</td><td>99</td><td>10</td></tr>\n",
       "</tbody>\n",
       "</table>\n"
      ],
      "text/latex": [
       "A tibble: 1 × 4\n",
       "\\begin{tabular}{llll}\n",
       " mean\\_age & median\\_age & max\\_age & min\\_age\\\\\n",
       " <dbl> & <int> & <int> & <int>\\\\\n",
       "\\hline\n",
       "\t 38.8 & 36 & 99 & 10\\\\\n",
       "\\end{tabular}\n"
      ],
      "text/markdown": [
       "\n",
       "A tibble: 1 × 4\n",
       "\n",
       "| mean_age &lt;dbl&gt; | median_age &lt;int&gt; | max_age &lt;int&gt; | min_age &lt;int&gt; |\n",
       "|---|---|---|---|\n",
       "| 38.8 | 36 | 99 | 10 |\n",
       "\n"
      ],
      "text/plain": [
       "  mean_age median_age max_age min_age\n",
       "1 38.8     36         99      10     "
      ]
     },
     "metadata": {},
     "output_type": "display_data"
    }
   ],
   "source": [
    "# Old method.\n",
    "mean(stops_2015$age, na.rm=TRUE)\n",
    "median(stops_2015$age, na.rm=TRUE)\n",
    "max(stops_2015$age, na.rm=TRUE)\n",
    "min(stops_2015$age, na.rm=TRUE)\n",
    "\n",
    "# New method!\n",
    "stops_2015 %>%\n",
    "    summarize(\n",
    "        mean_age = mean(age, na.rm=TRUE),\n",
    "        median_age = median(age, na.rm=TRUE),\n",
    "        max_age = max(age, na.rm=TRUE),\n",
    "        min_age = min(age, na.rm=TRUE)\n",
    "    )"
   ]
  },
  {
   "cell_type": "markdown",
   "metadata": {},
   "source": [
    "Neat! But, it's not groundbreaking. `summarize()` really ☀️ shines ☀️ when used with `group_by()`."
   ]
  },
  {
   "cell_type": "markdown",
   "metadata": {
    "tags": []
   },
   "source": [
    "## 📝 Getting powerful with `group_by()` and `summarize()`"
   ]
  },
  {
   "cell_type": "markdown",
   "metadata": {},
   "source": [
    "Here's where things get really interesting. The techniques in this section account for a **huge** chunk of most data science workflows. \n",
    "\n",
    "Suppose I'm interested in the average age of drivers in each district.\n",
    "\n",
    "> `unique(v)` returns the set of unique values in a vector `v`\n",
    "\n",
    "> `sort(v)` sorts a vector `v` in numeric or alphabetical order."
   ]
  },
  {
   "cell_type": "code",
   "execution_count": 82,
   "metadata": {},
   "outputs": [
    {
     "data": {
      "text/html": [
       "<style>\n",
       ".list-inline {list-style: none; margin:0; padding: 0}\n",
       ".list-inline>li {display: inline-block}\n",
       ".list-inline>li:not(:last-child)::after {content: \"\\00b7\"; padding: 0 .5ex}\n",
       "</style>\n",
       "<ol class=list-inline><li>'A'</li><li>'B'</li><li>'C'</li><li>'D'</li><li>'E'</li><li>'F'</li><li>'G'</li><li>'H'</li><li>'I'</li><li>'J'</li></ol>\n"
      ],
      "text/latex": [
       "\\begin{enumerate*}\n",
       "\\item 'A'\n",
       "\\item 'B'\n",
       "\\item 'C'\n",
       "\\item 'D'\n",
       "\\item 'E'\n",
       "\\item 'F'\n",
       "\\item 'G'\n",
       "\\item 'H'\n",
       "\\item 'I'\n",
       "\\item 'J'\n",
       "\\end{enumerate*}\n"
      ],
      "text/markdown": [
       "1. 'A'\n",
       "2. 'B'\n",
       "3. 'C'\n",
       "4. 'D'\n",
       "5. 'E'\n",
       "6. 'F'\n",
       "7. 'G'\n",
       "8. 'H'\n",
       "9. 'I'\n",
       "10. 'J'\n",
       "\n",
       "\n"
      ],
      "text/plain": [
       " [1] \"A\" \"B\" \"C\" \"D\" \"E\" \"F\" \"G\" \"H\" \"I\" \"J\""
      ]
     },
     "metadata": {},
     "output_type": "display_data"
    },
    {
     "data": {
      "text/html": [
       "<style>\n",
       ".list-inline {list-style: none; margin:0; padding: 0}\n",
       ".list-inline>li {display: inline-block}\n",
       ".list-inline>li:not(:last-child)::after {content: \"\\00b7\"; padding: 0 .5ex}\n",
       "</style>\n",
       "<ol class=list-inline><li>'A'</li><li>'B'</li><li>'C'</li><li>'D'</li><li>'E'</li><li>'F'</li><li>'G'</li><li>'H'</li><li>'I'</li><li>'J'</li></ol>\n"
      ],
      "text/latex": [
       "\\begin{enumerate*}\n",
       "\\item 'A'\n",
       "\\item 'B'\n",
       "\\item 'C'\n",
       "\\item 'D'\n",
       "\\item 'E'\n",
       "\\item 'F'\n",
       "\\item 'G'\n",
       "\\item 'H'\n",
       "\\item 'I'\n",
       "\\item 'J'\n",
       "\\end{enumerate*}\n"
      ],
      "text/markdown": [
       "1. 'A'\n",
       "2. 'B'\n",
       "3. 'C'\n",
       "4. 'D'\n",
       "5. 'E'\n",
       "6. 'F'\n",
       "7. 'G'\n",
       "8. 'H'\n",
       "9. 'I'\n",
       "10. 'J'\n",
       "\n",
       "\n"
      ],
      "text/plain": [
       " [1] \"A\" \"B\" \"C\" \"D\" \"E\" \"F\" \"G\" \"H\" \"I\" \"J\""
      ]
     },
     "metadata": {},
     "output_type": "display_data"
    }
   ],
   "source": [
    "sort(unique(stops_2015$district))\n",
    "\n",
    "# Alternatively\n",
    "stops_2015$district %>% unique %>% sort"
   ]
  },
  {
   "cell_type": "markdown",
   "metadata": {},
   "source": [
    "You already have the tools to find the average age of drivers by district! \n",
    "\n",
    "Looks a little scary though..."
   ]
  },
  {
   "cell_type": "code",
   "execution_count": 83,
   "metadata": {},
   "outputs": [
    {
     "data": {
      "text/html": [
       "39.2583395107487"
      ],
      "text/latex": [
       "39.2583395107487"
      ],
      "text/markdown": [
       "39.2583395107487"
      ],
      "text/plain": [
       "[1] 39.3"
      ]
     },
     "metadata": {},
     "output_type": "display_data"
    },
    {
     "data": {
      "text/html": [
       "38.1418732782369"
      ],
      "text/latex": [
       "38.1418732782369"
      ],
      "text/markdown": [
       "38.1418732782369"
      ],
      "text/plain": [
       "[1] 38.1"
      ]
     },
     "metadata": {},
     "output_type": "display_data"
    },
    {
     "data": {
      "text/html": [
       "36.606439682367"
      ],
      "text/latex": [
       "36.606439682367"
      ],
      "text/markdown": [
       "36.606439682367"
      ],
      "text/plain": [
       "[1] 36.6"
      ]
     },
     "metadata": {},
     "output_type": "display_data"
    },
    {
     "data": {
      "text/html": [
       "37.1802511415525"
      ],
      "text/latex": [
       "37.1802511415525"
      ],
      "text/markdown": [
       "37.1802511415525"
      ],
      "text/plain": [
       "[1] 37.2"
      ]
     },
     "metadata": {},
     "output_type": "display_data"
    },
    {
     "data": {
      "text/html": [
       "38.7534129692833"
      ],
      "text/latex": [
       "38.7534129692833"
      ],
      "text/markdown": [
       "38.7534129692833"
      ],
      "text/plain": [
       "[1] 38.8"
      ]
     },
     "metadata": {},
     "output_type": "display_data"
    },
    {
     "data": {
      "text/html": [
       "39.789667896679"
      ],
      "text/latex": [
       "39.789667896679"
      ],
      "text/markdown": [
       "39.789667896679"
      ],
      "text/plain": [
       "[1] 39.8"
      ]
     },
     "metadata": {},
     "output_type": "display_data"
    },
    {
     "data": {
      "text/html": [
       "40.8316898685228"
      ],
      "text/latex": [
       "40.8316898685228"
      ],
      "text/markdown": [
       "40.8316898685228"
      ],
      "text/plain": [
       "[1] 40.8"
      ]
     },
     "metadata": {},
     "output_type": "display_data"
    },
    {
     "data": {
      "text/html": [
       "38.2352873563218"
      ],
      "text/latex": [
       "38.2352873563218"
      ],
      "text/markdown": [
       "38.2352873563218"
      ],
      "text/plain": [
       "[1] 38.2"
      ]
     },
     "metadata": {},
     "output_type": "display_data"
    },
    {
     "data": {
      "text/html": [
       "39.80102989558"
      ],
      "text/latex": [
       "39.80102989558"
      ],
      "text/markdown": [
       "39.80102989558"
      ],
      "text/plain": [
       "[1] 39.8"
      ]
     },
     "metadata": {},
     "output_type": "display_data"
    },
    {
     "data": {
      "text/html": [
       "38.8284210526316"
      ],
      "text/latex": [
       "38.8284210526316"
      ],
      "text/markdown": [
       "38.8284210526316"
      ],
      "text/plain": [
       "[1] 38.8"
      ]
     },
     "metadata": {},
     "output_type": "display_data"
    }
   ],
   "source": [
    "stops_2015 %>% filter(district=='A') %>% pull(age) %>% mean(na.rm=TRUE)\n",
    "stops_2015 %>% filter(district=='B') %>% pull(age) %>% mean(na.rm=TRUE)\n",
    "stops_2015 %>% filter(district=='C') %>% pull(age) %>% mean(na.rm=TRUE)\n",
    "stops_2015 %>% filter(district=='D') %>% pull(age) %>% mean(na.rm=TRUE)\n",
    "stops_2015 %>% filter(district=='E') %>% pull(age) %>% mean(na.rm=TRUE)\n",
    "stops_2015 %>% filter(district=='F') %>% pull(age) %>% mean(na.rm=TRUE)\n",
    "stops_2015 %>% filter(district=='G') %>% pull(age) %>% mean(na.rm=TRUE)\n",
    "stops_2015 %>% filter(district=='H') %>% pull(age) %>% mean(na.rm=TRUE)\n",
    "stops_2015 %>% filter(district=='I') %>% pull(age) %>% mean(na.rm=TRUE)\n",
    "stops_2015 %>% filter(district=='J') %>% pull(age) %>% mean(na.rm=TRUE)"
   ]
  },
  {
   "cell_type": "markdown",
   "metadata": {},
   "source": [
    "# 😓"
   ]
  },
  {
   "cell_type": "markdown",
   "metadata": {},
   "source": [
    "We now know the average age in each district, but there are some issues:\n",
    "- We had to write a lot of repeated code.\n",
    "- What if there were 100 districts? Or 1,000,000 districts?\n",
    "- The results aren't labeled. We'd have to write even more code to label the output.\n",
    "\n",
    "Here's another way to answer the question, but with less code:"
   ]
  },
  {
   "cell_type": "code",
   "execution_count": 84,
   "metadata": {},
   "outputs": [
    {
     "data": {
      "text/html": [
       "<table class=\"dataframe\">\n",
       "<caption>A tibble: 10 × 2</caption>\n",
       "<thead>\n",
       "\t<tr><th scope=col>district</th><th scope=col>avg_age</th></tr>\n",
       "\t<tr><th scope=col>&lt;chr&gt;</th><th scope=col>&lt;dbl&gt;</th></tr>\n",
       "</thead>\n",
       "<tbody>\n",
       "\t<tr><td>A</td><td>39.3</td></tr>\n",
       "\t<tr><td>B</td><td>38.1</td></tr>\n",
       "\t<tr><td>C</td><td>36.6</td></tr>\n",
       "\t<tr><td>D</td><td>37.2</td></tr>\n",
       "\t<tr><td>E</td><td>38.8</td></tr>\n",
       "\t<tr><td>F</td><td>39.8</td></tr>\n",
       "\t<tr><td>G</td><td>40.8</td></tr>\n",
       "\t<tr><td>H</td><td>38.2</td></tr>\n",
       "\t<tr><td>I</td><td>39.8</td></tr>\n",
       "\t<tr><td>J</td><td>38.8</td></tr>\n",
       "</tbody>\n",
       "</table>\n"
      ],
      "text/latex": [
       "A tibble: 10 × 2\n",
       "\\begin{tabular}{ll}\n",
       " district & avg\\_age\\\\\n",
       " <chr> & <dbl>\\\\\n",
       "\\hline\n",
       "\t A & 39.3\\\\\n",
       "\t B & 38.1\\\\\n",
       "\t C & 36.6\\\\\n",
       "\t D & 37.2\\\\\n",
       "\t E & 38.8\\\\\n",
       "\t F & 39.8\\\\\n",
       "\t G & 40.8\\\\\n",
       "\t H & 38.2\\\\\n",
       "\t I & 39.8\\\\\n",
       "\t J & 38.8\\\\\n",
       "\\end{tabular}\n"
      ],
      "text/markdown": [
       "\n",
       "A tibble: 10 × 2\n",
       "\n",
       "| district &lt;chr&gt; | avg_age &lt;dbl&gt; |\n",
       "|---|---|\n",
       "| A | 39.3 |\n",
       "| B | 38.1 |\n",
       "| C | 36.6 |\n",
       "| D | 37.2 |\n",
       "| E | 38.8 |\n",
       "| F | 39.8 |\n",
       "| G | 40.8 |\n",
       "| H | 38.2 |\n",
       "| I | 39.8 |\n",
       "| J | 38.8 |\n",
       "\n"
      ],
      "text/plain": [
       "   district avg_age\n",
       "1  A        39.3   \n",
       "2  B        38.1   \n",
       "3  C        36.6   \n",
       "4  D        37.2   \n",
       "5  E        38.8   \n",
       "6  F        39.8   \n",
       "7  G        40.8   \n",
       "8  H        38.2   \n",
       "9  I        39.8   \n",
       "10 J        38.8   "
      ]
     },
     "metadata": {},
     "output_type": "display_data"
    }
   ],
   "source": [
    "stops_2015 %>%\n",
    "    group_by(district) %>%\n",
    "    summarize(avg_age = mean(age, na.rm=TRUE))"
   ]
  },
  {
   "cell_type": "markdown",
   "metadata": {
    "tags": []
   },
   "source": [
    "# 😮\n",
    "\n",
    "The next section will explain the magic of grouping."
   ]
  },
  {
   "cell_type": "markdown",
   "metadata": {},
   "source": [
    "### 📝 The mechanics of `group_by()`"
   ]
  },
  {
   "cell_type": "markdown",
   "metadata": {},
   "source": [
    "It's **very** common to calculate an aggregate statistic (e.g., `sum` or `mean`) for different groups (e.g., district or class year).\n",
    "\n",
    "The *split-apply-combine* paradigm handles these situations:\n",
    "- **Split** the data by group into mini-datasets\n",
    "- **Apply** a function to each mini-dataset\n",
    "- **Combine** the mini-datasets back together\n",
    "\n",
    "🖼️ A visual:"
   ]
  },
  {
   "cell_type": "markdown",
   "metadata": {},
   "source": [
    "<img src=\"img/split-apply-combine.drawio.png\" alt=\"splitapplycombine\" width=\"600\" align=\"left\"/>"
   ]
  },
  {
   "cell_type": "markdown",
   "metadata": {},
   "source": [
    "#### 📝 Splitting with `group_by`"
   ]
  },
  {
   "cell_type": "markdown",
   "metadata": {},
   "source": [
    "`group_by` handles the *splitting* step.\n",
    "\n",
    "Problem: The data isn't grouped. To split the data, we use `group_by`.\n",
    "\n",
    "🖥️ Usage: `group_by(data, column)`\n",
    "* `data`: the data frame\n",
    "* `column`: the name of the column to group by.\n",
    "\n",
    "Let's try grouping the `stops` data by district."
   ]
  },
  {
   "cell_type": "code",
   "execution_count": 85,
   "metadata": {},
   "outputs": [
    {
     "data": {
      "text/html": [
       "<table class=\"dataframe\">\n",
       "<caption>A grouped_df: 6 × 14</caption>\n",
       "<thead>\n",
       "\t<tr><th scope=col>date</th><th scope=col>time</th><th scope=col>location</th><th scope=col>lat</th><th scope=col>lng</th><th scope=col>district</th><th scope=col>age</th><th scope=col>race</th><th scope=col>gender</th><th scope=col>arrested</th><th scope=col>contraband_found</th><th scope=col>searched</th><th scope=col>reason_for_stop</th><th scope=col>yr</th></tr>\n",
       "\t<tr><th scope=col>&lt;date&gt;</th><th scope=col>&lt;time&gt;</th><th scope=col>&lt;chr&gt;</th><th scope=col>&lt;dbl&gt;</th><th scope=col>&lt;dbl&gt;</th><th scope=col>&lt;chr&gt;</th><th scope=col>&lt;int&gt;</th><th scope=col>&lt;chr&gt;</th><th scope=col>&lt;fct&gt;</th><th scope=col>&lt;lgl&gt;</th><th scope=col>&lt;lgl&gt;</th><th scope=col>&lt;lgl&gt;</th><th scope=col>&lt;chr&gt;</th><th scope=col>&lt;dbl&gt;</th></tr>\n",
       "</thead>\n",
       "<tbody>\n",
       "\t<tr><td>2015-01-01</td><td>01:00:00</td><td>3RD ST. &amp; MCKNINNON AVE. </td><td>37.7</td><td>-122</td><td>C</td><td>23</td><td><span style=white-space:pre-wrap>black   </span></td><td><span style=white-space:pre-wrap>male  </span></td><td>FALSE</td><td>NA</td><td>FALSE</td><td>Moving violation</td><td>2015</td></tr>\n",
       "\t<tr><td>2015-01-01</td><td>01:00:00</td><td>MISSION/EUGENIA          </td><td>37.7</td><td>-122</td><td>H</td><td>30</td><td>hispanic</td><td>female</td><td>FALSE</td><td>NA</td><td>FALSE</td><td>Moving violation</td><td>2015</td></tr>\n",
       "\t<tr><td>2015-01-01</td><td>01:00:00</td><td>MISSION ST &amp; VFALENCIA ST</td><td>37.7</td><td>-122</td><td>H</td><td>35</td><td><span style=white-space:pre-wrap>white   </span></td><td><span style=white-space:pre-wrap>male  </span></td><td>FALSE</td><td>NA</td><td>FALSE</td><td>Moving violation</td><td>2015</td></tr>\n",
       "\t<tr><td>2015-01-01</td><td>01:00:00</td><td>EDDY / GOUGH             </td><td>37.8</td><td>-122</td><td>E</td><td>44</td><td>white   </td><td>male  </td><td>FALSE</td><td>NA</td><td>FALSE</td><td>Moving violation</td><td>2015</td></tr>\n",
       "\t<tr><td>2015-01-01</td><td>01:00:00</td><td>24TH/TARAVAL             </td><td>37.7</td><td>-122</td><td>I</td><td>60</td><td>white   </td><td>male  </td><td>FALSE</td><td>NA</td><td>FALSE</td><td>MPC violation   </td><td>2015</td></tr>\n",
       "\t<tr><td>2015-01-01</td><td>10:46:00</td><td>307 CORTLAND AVE.        </td><td>37.7</td><td>-122</td><td>H</td><td>45</td><td>white   </td><td>female</td><td>FALSE</td><td>NA</td><td>FALSE</td><td>Moving violation</td><td>2015</td></tr>\n",
       "</tbody>\n",
       "</table>\n"
      ],
      "text/latex": [
       "A grouped\\_df: 6 × 14\n",
       "\\begin{tabular}{llllllllllllll}\n",
       " date & time & location & lat & lng & district & age & race & gender & arrested & contraband\\_found & searched & reason\\_for\\_stop & yr\\\\\n",
       " <date> & <time> & <chr> & <dbl> & <dbl> & <chr> & <int> & <chr> & <fct> & <lgl> & <lgl> & <lgl> & <chr> & <dbl>\\\\\n",
       "\\hline\n",
       "\t 2015-01-01 & 01:00:00 & 3RD ST. \\& MCKNINNON AVE.  & 37.7 & -122 & C & 23 & black    & male   & FALSE & NA & FALSE & Moving violation & 2015\\\\\n",
       "\t 2015-01-01 & 01:00:00 & MISSION/EUGENIA           & 37.7 & -122 & H & 30 & hispanic & female & FALSE & NA & FALSE & Moving violation & 2015\\\\\n",
       "\t 2015-01-01 & 01:00:00 & MISSION ST \\& VFALENCIA ST & 37.7 & -122 & H & 35 & white    & male   & FALSE & NA & FALSE & Moving violation & 2015\\\\\n",
       "\t 2015-01-01 & 01:00:00 & EDDY / GOUGH              & 37.8 & -122 & E & 44 & white    & male   & FALSE & NA & FALSE & Moving violation & 2015\\\\\n",
       "\t 2015-01-01 & 01:00:00 & 24TH/TARAVAL              & 37.7 & -122 & I & 60 & white    & male   & FALSE & NA & FALSE & MPC violation    & 2015\\\\\n",
       "\t 2015-01-01 & 10:46:00 & 307 CORTLAND AVE.         & 37.7 & -122 & H & 45 & white    & female & FALSE & NA & FALSE & Moving violation & 2015\\\\\n",
       "\\end{tabular}\n"
      ],
      "text/markdown": [
       "\n",
       "A grouped_df: 6 × 14\n",
       "\n",
       "| date &lt;date&gt; | time &lt;time&gt; | location &lt;chr&gt; | lat &lt;dbl&gt; | lng &lt;dbl&gt; | district &lt;chr&gt; | age &lt;int&gt; | race &lt;chr&gt; | gender &lt;fct&gt; | arrested &lt;lgl&gt; | contraband_found &lt;lgl&gt; | searched &lt;lgl&gt; | reason_for_stop &lt;chr&gt; | yr &lt;dbl&gt; |\n",
       "|---|---|---|---|---|---|---|---|---|---|---|---|---|---|\n",
       "| 2015-01-01 | 01:00:00 | 3RD ST. &amp; MCKNINNON AVE.  | 37.7 | -122 | C | 23 | black    | male   | FALSE | NA | FALSE | Moving violation | 2015 |\n",
       "| 2015-01-01 | 01:00:00 | MISSION/EUGENIA           | 37.7 | -122 | H | 30 | hispanic | female | FALSE | NA | FALSE | Moving violation | 2015 |\n",
       "| 2015-01-01 | 01:00:00 | MISSION ST &amp; VFALENCIA ST | 37.7 | -122 | H | 35 | white    | male   | FALSE | NA | FALSE | Moving violation | 2015 |\n",
       "| 2015-01-01 | 01:00:00 | EDDY / GOUGH              | 37.8 | -122 | E | 44 | white    | male   | FALSE | NA | FALSE | Moving violation | 2015 |\n",
       "| 2015-01-01 | 01:00:00 | 24TH/TARAVAL              | 37.7 | -122 | I | 60 | white    | male   | FALSE | NA | FALSE | MPC violation    | 2015 |\n",
       "| 2015-01-01 | 10:46:00 | 307 CORTLAND AVE.         | 37.7 | -122 | H | 45 | white    | female | FALSE | NA | FALSE | Moving violation | 2015 |\n",
       "\n"
      ],
      "text/plain": [
       "  date       time     location                  lat  lng  district age race    \n",
       "1 2015-01-01 01:00:00 3RD ST. & MCKNINNON AVE.  37.7 -122 C        23  black   \n",
       "2 2015-01-01 01:00:00 MISSION/EUGENIA           37.7 -122 H        30  hispanic\n",
       "3 2015-01-01 01:00:00 MISSION ST & VFALENCIA ST 37.7 -122 H        35  white   \n",
       "4 2015-01-01 01:00:00 EDDY / GOUGH              37.8 -122 E        44  white   \n",
       "5 2015-01-01 01:00:00 24TH/TARAVAL              37.7 -122 I        60  white   \n",
       "6 2015-01-01 10:46:00 307 CORTLAND AVE.         37.7 -122 H        45  white   \n",
       "  gender arrested contraband_found searched reason_for_stop  yr  \n",
       "1 male   FALSE    NA               FALSE    Moving violation 2015\n",
       "2 female FALSE    NA               FALSE    Moving violation 2015\n",
       "3 male   FALSE    NA               FALSE    Moving violation 2015\n",
       "4 male   FALSE    NA               FALSE    Moving violation 2015\n",
       "5 male   FALSE    NA               FALSE    MPC violation    2015\n",
       "6 female FALSE    NA               FALSE    Moving violation 2015"
      ]
     },
     "metadata": {},
     "output_type": "display_data"
    }
   ],
   "source": [
    "stops_2015_grouped = stops_2015 %>%\n",
    "    group_by(district)\n",
    "\n",
    "head(stops_2015_grouped)"
   ]
  },
  {
   "cell_type": "markdown",
   "metadata": {},
   "source": [
    "Wait a second. This looks exactly the same as the regular data:"
   ]
  },
  {
   "cell_type": "code",
   "execution_count": 86,
   "metadata": {},
   "outputs": [
    {
     "data": {
      "text/html": [
       "<table class=\"dataframe\">\n",
       "<caption>A tibble: 6 × 14</caption>\n",
       "<thead>\n",
       "\t<tr><th scope=col>date</th><th scope=col>time</th><th scope=col>location</th><th scope=col>lat</th><th scope=col>lng</th><th scope=col>district</th><th scope=col>age</th><th scope=col>race</th><th scope=col>gender</th><th scope=col>arrested</th><th scope=col>contraband_found</th><th scope=col>searched</th><th scope=col>reason_for_stop</th><th scope=col>yr</th></tr>\n",
       "\t<tr><th scope=col>&lt;date&gt;</th><th scope=col>&lt;time&gt;</th><th scope=col>&lt;chr&gt;</th><th scope=col>&lt;dbl&gt;</th><th scope=col>&lt;dbl&gt;</th><th scope=col>&lt;chr&gt;</th><th scope=col>&lt;int&gt;</th><th scope=col>&lt;chr&gt;</th><th scope=col>&lt;fct&gt;</th><th scope=col>&lt;lgl&gt;</th><th scope=col>&lt;lgl&gt;</th><th scope=col>&lt;lgl&gt;</th><th scope=col>&lt;chr&gt;</th><th scope=col>&lt;dbl&gt;</th></tr>\n",
       "</thead>\n",
       "<tbody>\n",
       "\t<tr><td>2015-01-01</td><td>01:00:00</td><td>3RD ST. &amp; MCKNINNON AVE. </td><td>37.7</td><td>-122</td><td>C</td><td>23</td><td><span style=white-space:pre-wrap>black   </span></td><td><span style=white-space:pre-wrap>male  </span></td><td>FALSE</td><td>NA</td><td>FALSE</td><td>Moving violation</td><td>2015</td></tr>\n",
       "\t<tr><td>2015-01-01</td><td>01:00:00</td><td>MISSION/EUGENIA          </td><td>37.7</td><td>-122</td><td>H</td><td>30</td><td>hispanic</td><td>female</td><td>FALSE</td><td>NA</td><td>FALSE</td><td>Moving violation</td><td>2015</td></tr>\n",
       "\t<tr><td>2015-01-01</td><td>01:00:00</td><td>MISSION ST &amp; VFALENCIA ST</td><td>37.7</td><td>-122</td><td>H</td><td>35</td><td><span style=white-space:pre-wrap>white   </span></td><td><span style=white-space:pre-wrap>male  </span></td><td>FALSE</td><td>NA</td><td>FALSE</td><td>Moving violation</td><td>2015</td></tr>\n",
       "\t<tr><td>2015-01-01</td><td>01:00:00</td><td>EDDY / GOUGH             </td><td>37.8</td><td>-122</td><td>E</td><td>44</td><td>white   </td><td>male  </td><td>FALSE</td><td>NA</td><td>FALSE</td><td>Moving violation</td><td>2015</td></tr>\n",
       "\t<tr><td>2015-01-01</td><td>01:00:00</td><td>24TH/TARAVAL             </td><td>37.7</td><td>-122</td><td>I</td><td>60</td><td>white   </td><td>male  </td><td>FALSE</td><td>NA</td><td>FALSE</td><td>MPC violation   </td><td>2015</td></tr>\n",
       "\t<tr><td>2015-01-01</td><td>10:46:00</td><td>307 CORTLAND AVE.        </td><td>37.7</td><td>-122</td><td>H</td><td>45</td><td>white   </td><td>female</td><td>FALSE</td><td>NA</td><td>FALSE</td><td>Moving violation</td><td>2015</td></tr>\n",
       "</tbody>\n",
       "</table>\n"
      ],
      "text/latex": [
       "A tibble: 6 × 14\n",
       "\\begin{tabular}{llllllllllllll}\n",
       " date & time & location & lat & lng & district & age & race & gender & arrested & contraband\\_found & searched & reason\\_for\\_stop & yr\\\\\n",
       " <date> & <time> & <chr> & <dbl> & <dbl> & <chr> & <int> & <chr> & <fct> & <lgl> & <lgl> & <lgl> & <chr> & <dbl>\\\\\n",
       "\\hline\n",
       "\t 2015-01-01 & 01:00:00 & 3RD ST. \\& MCKNINNON AVE.  & 37.7 & -122 & C & 23 & black    & male   & FALSE & NA & FALSE & Moving violation & 2015\\\\\n",
       "\t 2015-01-01 & 01:00:00 & MISSION/EUGENIA           & 37.7 & -122 & H & 30 & hispanic & female & FALSE & NA & FALSE & Moving violation & 2015\\\\\n",
       "\t 2015-01-01 & 01:00:00 & MISSION ST \\& VFALENCIA ST & 37.7 & -122 & H & 35 & white    & male   & FALSE & NA & FALSE & Moving violation & 2015\\\\\n",
       "\t 2015-01-01 & 01:00:00 & EDDY / GOUGH              & 37.8 & -122 & E & 44 & white    & male   & FALSE & NA & FALSE & Moving violation & 2015\\\\\n",
       "\t 2015-01-01 & 01:00:00 & 24TH/TARAVAL              & 37.7 & -122 & I & 60 & white    & male   & FALSE & NA & FALSE & MPC violation    & 2015\\\\\n",
       "\t 2015-01-01 & 10:46:00 & 307 CORTLAND AVE.         & 37.7 & -122 & H & 45 & white    & female & FALSE & NA & FALSE & Moving violation & 2015\\\\\n",
       "\\end{tabular}\n"
      ],
      "text/markdown": [
       "\n",
       "A tibble: 6 × 14\n",
       "\n",
       "| date &lt;date&gt; | time &lt;time&gt; | location &lt;chr&gt; | lat &lt;dbl&gt; | lng &lt;dbl&gt; | district &lt;chr&gt; | age &lt;int&gt; | race &lt;chr&gt; | gender &lt;fct&gt; | arrested &lt;lgl&gt; | contraband_found &lt;lgl&gt; | searched &lt;lgl&gt; | reason_for_stop &lt;chr&gt; | yr &lt;dbl&gt; |\n",
       "|---|---|---|---|---|---|---|---|---|---|---|---|---|---|\n",
       "| 2015-01-01 | 01:00:00 | 3RD ST. &amp; MCKNINNON AVE.  | 37.7 | -122 | C | 23 | black    | male   | FALSE | NA | FALSE | Moving violation | 2015 |\n",
       "| 2015-01-01 | 01:00:00 | MISSION/EUGENIA           | 37.7 | -122 | H | 30 | hispanic | female | FALSE | NA | FALSE | Moving violation | 2015 |\n",
       "| 2015-01-01 | 01:00:00 | MISSION ST &amp; VFALENCIA ST | 37.7 | -122 | H | 35 | white    | male   | FALSE | NA | FALSE | Moving violation | 2015 |\n",
       "| 2015-01-01 | 01:00:00 | EDDY / GOUGH              | 37.8 | -122 | E | 44 | white    | male   | FALSE | NA | FALSE | Moving violation | 2015 |\n",
       "| 2015-01-01 | 01:00:00 | 24TH/TARAVAL              | 37.7 | -122 | I | 60 | white    | male   | FALSE | NA | FALSE | MPC violation    | 2015 |\n",
       "| 2015-01-01 | 10:46:00 | 307 CORTLAND AVE.         | 37.7 | -122 | H | 45 | white    | female | FALSE | NA | FALSE | Moving violation | 2015 |\n",
       "\n"
      ],
      "text/plain": [
       "  date       time     location                  lat  lng  district age race    \n",
       "1 2015-01-01 01:00:00 3RD ST. & MCKNINNON AVE.  37.7 -122 C        23  black   \n",
       "2 2015-01-01 01:00:00 MISSION/EUGENIA           37.7 -122 H        30  hispanic\n",
       "3 2015-01-01 01:00:00 MISSION ST & VFALENCIA ST 37.7 -122 H        35  white   \n",
       "4 2015-01-01 01:00:00 EDDY / GOUGH              37.8 -122 E        44  white   \n",
       "5 2015-01-01 01:00:00 24TH/TARAVAL              37.7 -122 I        60  white   \n",
       "6 2015-01-01 10:46:00 307 CORTLAND AVE.         37.7 -122 H        45  white   \n",
       "  gender arrested contraband_found searched reason_for_stop  yr  \n",
       "1 male   FALSE    NA               FALSE    Moving violation 2015\n",
       "2 female FALSE    NA               FALSE    Moving violation 2015\n",
       "3 male   FALSE    NA               FALSE    Moving violation 2015\n",
       "4 male   FALSE    NA               FALSE    Moving violation 2015\n",
       "5 male   FALSE    NA               FALSE    MPC violation    2015\n",
       "6 female FALSE    NA               FALSE    Moving violation 2015"
      ]
     },
     "metadata": {},
     "output_type": "display_data"
    }
   ],
   "source": [
    "head(stops_2015)"
   ]
  },
  {
   "cell_type": "markdown",
   "metadata": {},
   "source": [
    "❗❗Important note❗❗: `group_by` doesn't actually change the underlying data. It invisibly groups the data in the background.\n",
    "\n",
    "> There is a subtle indication that the data is grouped. If you look at the top of the grouped data frame, you'll see `A grouped_df`. At the top of the ungrouped data, you'll see `A tibble`.\n",
    "\n",
    "> A *tibble* is a data frame with some extra features."
   ]
  },
  {
   "cell_type": "markdown",
   "metadata": {},
   "source": [
    "#### 📝 Applying and combining with `summarize()`"
   ]
  },
  {
   "cell_type": "markdown",
   "metadata": {},
   "source": [
    "`summarize()` *applies* an aggregating function to each mini-dataset. It then *combines* the mini-datasets.\n",
    "\n",
    "We've already seen `summarize()` in action:"
   ]
  },
  {
   "cell_type": "code",
   "execution_count": 87,
   "metadata": {},
   "outputs": [
    {
     "data": {
      "text/html": [
       "<table class=\"dataframe\">\n",
       "<caption>A tibble: 1 × 1</caption>\n",
       "<thead>\n",
       "\t<tr><th scope=col>avg_age</th></tr>\n",
       "\t<tr><th scope=col>&lt;dbl&gt;</th></tr>\n",
       "</thead>\n",
       "<tbody>\n",
       "\t<tr><td>38.8</td></tr>\n",
       "</tbody>\n",
       "</table>\n"
      ],
      "text/latex": [
       "A tibble: 1 × 1\n",
       "\\begin{tabular}{l}\n",
       " avg\\_age\\\\\n",
       " <dbl>\\\\\n",
       "\\hline\n",
       "\t 38.8\\\\\n",
       "\\end{tabular}\n"
      ],
      "text/markdown": [
       "\n",
       "A tibble: 1 × 1\n",
       "\n",
       "| avg_age &lt;dbl&gt; |\n",
       "|---|\n",
       "| 38.8 |\n",
       "\n"
      ],
      "text/plain": [
       "  avg_age\n",
       "1 38.8   "
      ]
     },
     "metadata": {},
     "output_type": "display_data"
    }
   ],
   "source": [
    "stops_2015 %>%\n",
    "    summarize(\n",
    "        avg_age = mean(age, na.rm=TRUE)\n",
    "    )"
   ]
  },
  {
   "cell_type": "markdown",
   "metadata": {},
   "source": [
    "Let's try `summarize()` with grouped data.\n",
    "\n",
    "> As a bonus, we can also calculate the size of each group with the `n()` function."
   ]
  },
  {
   "cell_type": "code",
   "execution_count": 88,
   "metadata": {},
   "outputs": [
    {
     "data": {
      "text/html": [
       "<table class=\"dataframe\">\n",
       "<caption>A tibble: 10 × 3</caption>\n",
       "<thead>\n",
       "\t<tr><th scope=col>district</th><th scope=col>avg_age</th><th scope=col>num_stops_in_district</th></tr>\n",
       "\t<tr><th scope=col>&lt;chr&gt;</th><th scope=col>&lt;dbl&gt;</th><th scope=col>&lt;int&gt;</th></tr>\n",
       "</thead>\n",
       "<tbody>\n",
       "\t<tr><td>A</td><td>39.3</td><td> 8098</td></tr>\n",
       "\t<tr><td>B</td><td>38.1</td><td> 7988</td></tr>\n",
       "\t<tr><td>C</td><td>36.6</td><td> 9199</td></tr>\n",
       "\t<tr><td>D</td><td>37.2</td><td> 8760</td></tr>\n",
       "\t<tr><td>E</td><td>38.8</td><td> 5862</td></tr>\n",
       "\t<tr><td>F</td><td>39.8</td><td> 7049</td></tr>\n",
       "\t<tr><td>G</td><td>40.8</td><td>10345</td></tr>\n",
       "\t<tr><td>H</td><td>38.2</td><td> 8702</td></tr>\n",
       "\t<tr><td>I</td><td>39.8</td><td>13983</td></tr>\n",
       "\t<tr><td>J</td><td>38.8</td><td> 5703</td></tr>\n",
       "</tbody>\n",
       "</table>\n"
      ],
      "text/latex": [
       "A tibble: 10 × 3\n",
       "\\begin{tabular}{lll}\n",
       " district & avg\\_age & num\\_stops\\_in\\_district\\\\\n",
       " <chr> & <dbl> & <int>\\\\\n",
       "\\hline\n",
       "\t A & 39.3 &  8098\\\\\n",
       "\t B & 38.1 &  7988\\\\\n",
       "\t C & 36.6 &  9199\\\\\n",
       "\t D & 37.2 &  8760\\\\\n",
       "\t E & 38.8 &  5862\\\\\n",
       "\t F & 39.8 &  7049\\\\\n",
       "\t G & 40.8 & 10345\\\\\n",
       "\t H & 38.2 &  8702\\\\\n",
       "\t I & 39.8 & 13983\\\\\n",
       "\t J & 38.8 &  5703\\\\\n",
       "\\end{tabular}\n"
      ],
      "text/markdown": [
       "\n",
       "A tibble: 10 × 3\n",
       "\n",
       "| district &lt;chr&gt; | avg_age &lt;dbl&gt; | num_stops_in_district &lt;int&gt; |\n",
       "|---|---|---|\n",
       "| A | 39.3 |  8098 |\n",
       "| B | 38.1 |  7988 |\n",
       "| C | 36.6 |  9199 |\n",
       "| D | 37.2 |  8760 |\n",
       "| E | 38.8 |  5862 |\n",
       "| F | 39.8 |  7049 |\n",
       "| G | 40.8 | 10345 |\n",
       "| H | 38.2 |  8702 |\n",
       "| I | 39.8 | 13983 |\n",
       "| J | 38.8 |  5703 |\n",
       "\n"
      ],
      "text/plain": [
       "   district avg_age num_stops_in_district\n",
       "1  A        39.3     8098                \n",
       "2  B        38.1     7988                \n",
       "3  C        36.6     9199                \n",
       "4  D        37.2     8760                \n",
       "5  E        38.8     5862                \n",
       "6  F        39.8     7049                \n",
       "7  G        40.8    10345                \n",
       "8  H        38.2     8702                \n",
       "9  I        39.8    13983                \n",
       "10 J        38.8     5703                "
      ]
     },
     "metadata": {},
     "output_type": "display_data"
    }
   ],
   "source": [
    "stops_2015 %>%\n",
    "    group_by(district) %>%\n",
    "    summarize(\n",
    "        avg_age = mean(age, na.rm=TRUE),\n",
    "        num_stops_in_district = n()\n",
    "    )"
   ]
  },
  {
   "cell_type": "markdown",
   "metadata": {},
   "source": [
    "That's all there is to it!"
   ]
  },
  {
   "cell_type": "markdown",
   "metadata": {
    "tags": []
   },
   "source": [
    "### 🚀 Exercise\n",
    "\n",
    "1. Use `group_by()` and `summarize()` to calculate, by district, (1) the number of stops, (2) the proportion of stops that resulted in a search, and (3) the proportion of **searches** (not stops) that resulted in an arrest. What can you conclude from the results?\n",
    "\n",
    "2. Redo part 1, but group by race instead of district. What do you conclude from the result?\n",
    "\n",
    "3. Redo part 1, but group by district **and** race. What is your interpretation of the results?"
   ]
  },
  {
   "cell_type": "code",
   "execution_count": 89,
   "metadata": {},
   "outputs": [
    {
     "data": {
      "text/html": [
       "<table class=\"dataframe\">\n",
       "<caption>A tibble: 10 × 6</caption>\n",
       "<thead>\n",
       "\t<tr><th scope=col>district</th><th scope=col>n_stops</th><th scope=col>n_searches</th><th scope=col>search_rate</th><th scope=col>n_arrests</th><th scope=col>arrest_rate</th></tr>\n",
       "\t<tr><th scope=col>&lt;chr&gt;</th><th scope=col>&lt;int&gt;</th><th scope=col>&lt;int&gt;</th><th scope=col>&lt;dbl&gt;</th><th scope=col>&lt;int&gt;</th><th scope=col>&lt;dbl&gt;</th></tr>\n",
       "</thead>\n",
       "<tbody>\n",
       "\t<tr><td>A</td><td> 8098</td><td> 185</td><td>0.0228</td><td> 65</td><td>0.351</td></tr>\n",
       "\t<tr><td>B</td><td> 7988</td><td> 343</td><td>0.0429</td><td>107</td><td>0.312</td></tr>\n",
       "\t<tr><td>C</td><td> 9199</td><td>1163</td><td>0.1264</td><td>183</td><td>0.157</td></tr>\n",
       "\t<tr><td>D</td><td> 8760</td><td> 584</td><td>0.0667</td><td>149</td><td>0.255</td></tr>\n",
       "\t<tr><td>E</td><td> 5862</td><td> 393</td><td>0.0670</td><td> 85</td><td>0.216</td></tr>\n",
       "\t<tr><td>F</td><td> 7049</td><td> 102</td><td>0.0145</td><td> 48</td><td>0.471</td></tr>\n",
       "\t<tr><td>G</td><td>10345</td><td> 119</td><td>0.0115</td><td> 45</td><td>0.378</td></tr>\n",
       "\t<tr><td>H</td><td> 8702</td><td> 569</td><td>0.0654</td><td>105</td><td>0.185</td></tr>\n",
       "\t<tr><td>I</td><td>13983</td><td> 214</td><td>0.0153</td><td> 66</td><td>0.308</td></tr>\n",
       "\t<tr><td>J</td><td> 5703</td><td> 515</td><td>0.0903</td><td> 84</td><td>0.163</td></tr>\n",
       "</tbody>\n",
       "</table>\n"
      ],
      "text/latex": [
       "A tibble: 10 × 6\n",
       "\\begin{tabular}{llllll}\n",
       " district & n\\_stops & n\\_searches & search\\_rate & n\\_arrests & arrest\\_rate\\\\\n",
       " <chr> & <int> & <int> & <dbl> & <int> & <dbl>\\\\\n",
       "\\hline\n",
       "\t A &  8098 &  185 & 0.0228 &  65 & 0.351\\\\\n",
       "\t B &  7988 &  343 & 0.0429 & 107 & 0.312\\\\\n",
       "\t C &  9199 & 1163 & 0.1264 & 183 & 0.157\\\\\n",
       "\t D &  8760 &  584 & 0.0667 & 149 & 0.255\\\\\n",
       "\t E &  5862 &  393 & 0.0670 &  85 & 0.216\\\\\n",
       "\t F &  7049 &  102 & 0.0145 &  48 & 0.471\\\\\n",
       "\t G & 10345 &  119 & 0.0115 &  45 & 0.378\\\\\n",
       "\t H &  8702 &  569 & 0.0654 & 105 & 0.185\\\\\n",
       "\t I & 13983 &  214 & 0.0153 &  66 & 0.308\\\\\n",
       "\t J &  5703 &  515 & 0.0903 &  84 & 0.163\\\\\n",
       "\\end{tabular}\n"
      ],
      "text/markdown": [
       "\n",
       "A tibble: 10 × 6\n",
       "\n",
       "| district &lt;chr&gt; | n_stops &lt;int&gt; | n_searches &lt;int&gt; | search_rate &lt;dbl&gt; | n_arrests &lt;int&gt; | arrest_rate &lt;dbl&gt; |\n",
       "|---|---|---|---|---|---|\n",
       "| A |  8098 |  185 | 0.0228 |  65 | 0.351 |\n",
       "| B |  7988 |  343 | 0.0429 | 107 | 0.312 |\n",
       "| C |  9199 | 1163 | 0.1264 | 183 | 0.157 |\n",
       "| D |  8760 |  584 | 0.0667 | 149 | 0.255 |\n",
       "| E |  5862 |  393 | 0.0670 |  85 | 0.216 |\n",
       "| F |  7049 |  102 | 0.0145 |  48 | 0.471 |\n",
       "| G | 10345 |  119 | 0.0115 |  45 | 0.378 |\n",
       "| H |  8702 |  569 | 0.0654 | 105 | 0.185 |\n",
       "| I | 13983 |  214 | 0.0153 |  66 | 0.308 |\n",
       "| J |  5703 |  515 | 0.0903 |  84 | 0.163 |\n",
       "\n"
      ],
      "text/plain": [
       "   district n_stops n_searches search_rate n_arrests arrest_rate\n",
       "1  A         8098    185       0.0228       65       0.351      \n",
       "2  B         7988    343       0.0429      107       0.312      \n",
       "3  C         9199   1163       0.1264      183       0.157      \n",
       "4  D         8760    584       0.0667      149       0.255      \n",
       "5  E         5862    393       0.0670       85       0.216      \n",
       "6  F         7049    102       0.0145       48       0.471      \n",
       "7  G        10345    119       0.0115       45       0.378      \n",
       "8  H         8702    569       0.0654      105       0.185      \n",
       "9  I        13983    214       0.0153       66       0.308      \n",
       "10 J         5703    515       0.0903       84       0.163      "
      ]
     },
     "metadata": {},
     "output_type": "display_data"
    },
    {
     "data": {
      "text/html": [
       "<table class=\"dataframe\">\n",
       "<caption>A tibble: 10 × 4</caption>\n",
       "<thead>\n",
       "\t<tr><th scope=col>district</th><th scope=col>n_stops</th><th scope=col>search_rate</th><th scope=col>arrest_rate</th></tr>\n",
       "\t<tr><th scope=col>&lt;chr&gt;</th><th scope=col>&lt;int&gt;</th><th scope=col>&lt;dbl&gt;</th><th scope=col>&lt;dbl&gt;</th></tr>\n",
       "</thead>\n",
       "<tbody>\n",
       "\t<tr><td>A</td><td> 8098</td><td>0.0228</td><td>0.351</td></tr>\n",
       "\t<tr><td>B</td><td> 7988</td><td>0.0429</td><td>0.312</td></tr>\n",
       "\t<tr><td>C</td><td> 9199</td><td>0.1264</td><td>0.157</td></tr>\n",
       "\t<tr><td>D</td><td> 8760</td><td>0.0667</td><td>0.255</td></tr>\n",
       "\t<tr><td>E</td><td> 5862</td><td>0.0670</td><td>0.216</td></tr>\n",
       "\t<tr><td>F</td><td> 7049</td><td>0.0145</td><td>0.471</td></tr>\n",
       "\t<tr><td>G</td><td>10345</td><td>0.0115</td><td>0.378</td></tr>\n",
       "\t<tr><td>H</td><td> 8702</td><td>0.0654</td><td>0.185</td></tr>\n",
       "\t<tr><td>I</td><td>13983</td><td>0.0153</td><td>0.308</td></tr>\n",
       "\t<tr><td>J</td><td> 5703</td><td>0.0903</td><td>0.163</td></tr>\n",
       "</tbody>\n",
       "</table>\n"
      ],
      "text/latex": [
       "A tibble: 10 × 4\n",
       "\\begin{tabular}{llll}\n",
       " district & n\\_stops & search\\_rate & arrest\\_rate\\\\\n",
       " <chr> & <int> & <dbl> & <dbl>\\\\\n",
       "\\hline\n",
       "\t A &  8098 & 0.0228 & 0.351\\\\\n",
       "\t B &  7988 & 0.0429 & 0.312\\\\\n",
       "\t C &  9199 & 0.1264 & 0.157\\\\\n",
       "\t D &  8760 & 0.0667 & 0.255\\\\\n",
       "\t E &  5862 & 0.0670 & 0.216\\\\\n",
       "\t F &  7049 & 0.0145 & 0.471\\\\\n",
       "\t G & 10345 & 0.0115 & 0.378\\\\\n",
       "\t H &  8702 & 0.0654 & 0.185\\\\\n",
       "\t I & 13983 & 0.0153 & 0.308\\\\\n",
       "\t J &  5703 & 0.0903 & 0.163\\\\\n",
       "\\end{tabular}\n"
      ],
      "text/markdown": [
       "\n",
       "A tibble: 10 × 4\n",
       "\n",
       "| district &lt;chr&gt; | n_stops &lt;int&gt; | search_rate &lt;dbl&gt; | arrest_rate &lt;dbl&gt; |\n",
       "|---|---|---|---|\n",
       "| A |  8098 | 0.0228 | 0.351 |\n",
       "| B |  7988 | 0.0429 | 0.312 |\n",
       "| C |  9199 | 0.1264 | 0.157 |\n",
       "| D |  8760 | 0.0667 | 0.255 |\n",
       "| E |  5862 | 0.0670 | 0.216 |\n",
       "| F |  7049 | 0.0145 | 0.471 |\n",
       "| G | 10345 | 0.0115 | 0.378 |\n",
       "| H |  8702 | 0.0654 | 0.185 |\n",
       "| I | 13983 | 0.0153 | 0.308 |\n",
       "| J |  5703 | 0.0903 | 0.163 |\n",
       "\n"
      ],
      "text/plain": [
       "   district n_stops search_rate arrest_rate\n",
       "1  A         8098   0.0228      0.351      \n",
       "2  B         7988   0.0429      0.312      \n",
       "3  C         9199   0.1264      0.157      \n",
       "4  D         8760   0.0667      0.255      \n",
       "5  E         5862   0.0670      0.216      \n",
       "6  F         7049   0.0145      0.471      \n",
       "7  G        10345   0.0115      0.378      \n",
       "8  H         8702   0.0654      0.185      \n",
       "9  I        13983   0.0153      0.308      \n",
       "10 J         5703   0.0903      0.163      "
      ]
     },
     "metadata": {},
     "output_type": "display_data"
    },
    {
     "data": {
      "text/html": [
       "<table class=\"dataframe\">\n",
       "<caption>A tibble: 5 × 4</caption>\n",
       "<thead>\n",
       "\t<tr><th scope=col>race</th><th scope=col>n_stops</th><th scope=col>search_rate</th><th scope=col>arrest_rate</th></tr>\n",
       "\t<tr><th scope=col>&lt;chr&gt;</th><th scope=col>&lt;int&gt;</th><th scope=col>&lt;dbl&gt;</th><th scope=col>&lt;dbl&gt;</th></tr>\n",
       "</thead>\n",
       "<tbody>\n",
       "\t<tr><td>asian/pacific islander</td><td>15498</td><td>0.0125</td><td>0.320</td></tr>\n",
       "\t<tr><td>black                 </td><td>14955</td><td>0.1565</td><td>0.155</td></tr>\n",
       "\t<tr><td>hispanic              </td><td>11911</td><td>0.0638</td><td>0.264</td></tr>\n",
       "\t<tr><td>other                 </td><td>13560</td><td>0.0172</td><td>0.330</td></tr>\n",
       "\t<tr><td>white                 </td><td>29765</td><td>0.0221</td><td>0.354</td></tr>\n",
       "</tbody>\n",
       "</table>\n"
      ],
      "text/latex": [
       "A tibble: 5 × 4\n",
       "\\begin{tabular}{llll}\n",
       " race & n\\_stops & search\\_rate & arrest\\_rate\\\\\n",
       " <chr> & <int> & <dbl> & <dbl>\\\\\n",
       "\\hline\n",
       "\t asian/pacific islander & 15498 & 0.0125 & 0.320\\\\\n",
       "\t black                  & 14955 & 0.1565 & 0.155\\\\\n",
       "\t hispanic               & 11911 & 0.0638 & 0.264\\\\\n",
       "\t other                  & 13560 & 0.0172 & 0.330\\\\\n",
       "\t white                  & 29765 & 0.0221 & 0.354\\\\\n",
       "\\end{tabular}\n"
      ],
      "text/markdown": [
       "\n",
       "A tibble: 5 × 4\n",
       "\n",
       "| race &lt;chr&gt; | n_stops &lt;int&gt; | search_rate &lt;dbl&gt; | arrest_rate &lt;dbl&gt; |\n",
       "|---|---|---|---|\n",
       "| asian/pacific islander | 15498 | 0.0125 | 0.320 |\n",
       "| black                  | 14955 | 0.1565 | 0.155 |\n",
       "| hispanic               | 11911 | 0.0638 | 0.264 |\n",
       "| other                  | 13560 | 0.0172 | 0.330 |\n",
       "| white                  | 29765 | 0.0221 | 0.354 |\n",
       "\n"
      ],
      "text/plain": [
       "  race                   n_stops search_rate arrest_rate\n",
       "1 asian/pacific islander 15498   0.0125      0.320      \n",
       "2 black                  14955   0.1565      0.155      \n",
       "3 hispanic               11911   0.0638      0.264      \n",
       "4 other                  13560   0.0172      0.330      \n",
       "5 white                  29765   0.0221      0.354      "
      ]
     },
     "metadata": {},
     "output_type": "display_data"
    },
    {
     "name": "stderr",
     "output_type": "stream",
     "text": [
      "\u001b[1m\u001b[22m`summarise()` has grouped output by 'district'. You can override using\n",
      "the `.groups` argument.\n"
     ]
    },
    {
     "data": {
      "text/html": [
       "<table class=\"dataframe\">\n",
       "<caption>A grouped_df: 50 × 5</caption>\n",
       "<thead>\n",
       "\t<tr><th scope=col>district</th><th scope=col>race</th><th scope=col>n_stops</th><th scope=col>search_rate</th><th scope=col>arrest_rate</th></tr>\n",
       "\t<tr><th scope=col>&lt;chr&gt;</th><th scope=col>&lt;chr&gt;</th><th scope=col>&lt;int&gt;</th><th scope=col>&lt;dbl&gt;</th><th scope=col>&lt;dbl&gt;</th></tr>\n",
       "</thead>\n",
       "<tbody>\n",
       "\t<tr><td>A</td><td>asian/pacific islander</td><td>1479</td><td>0.01149</td><td>0.412</td></tr>\n",
       "\t<tr><td>A</td><td>black                 </td><td>1088</td><td>0.07261</td><td>0.253</td></tr>\n",
       "\t<tr><td>A</td><td>hispanic              </td><td> 888</td><td>0.03604</td><td>0.250</td></tr>\n",
       "\t<tr><td>A</td><td>other                 </td><td>1821</td><td>0.01318</td><td>0.542</td></tr>\n",
       "\t<tr><td>A</td><td>white                 </td><td>2822</td><td>0.01169</td><td>0.515</td></tr>\n",
       "\t<tr><td>B</td><td>asian/pacific islander</td><td>1100</td><td>0.01273</td><td>0.714</td></tr>\n",
       "\t<tr><td>B</td><td>black                 </td><td>1315</td><td>0.11635</td><td>0.176</td></tr>\n",
       "\t<tr><td>B</td><td>hispanic              </td><td>1064</td><td>0.04887</td><td>0.385</td></tr>\n",
       "\t<tr><td>B</td><td>other                 </td><td>1432</td><td>0.02165</td><td>0.323</td></tr>\n",
       "\t<tr><td>B</td><td>white                 </td><td>3077</td><td>0.03022</td><td>0.430</td></tr>\n",
       "\t<tr><td>C</td><td>asian/pacific islander</td><td>1204</td><td>0.01246</td><td>0.133</td></tr>\n",
       "\t<tr><td>C</td><td>black                 </td><td>4370</td><td>0.21510</td><td>0.137</td></tr>\n",
       "\t<tr><td>C</td><td>hispanic              </td><td>1626</td><td>0.06150</td><td>0.280</td></tr>\n",
       "\t<tr><td>C</td><td>other                 </td><td> 598</td><td>0.07525</td><td>0.156</td></tr>\n",
       "\t<tr><td>C</td><td>white                 </td><td>1401</td><td>0.04497</td><td>0.270</td></tr>\n",
       "\t<tr><td>D</td><td>asian/pacific islander</td><td> 781</td><td>0.01665</td><td>0.462</td></tr>\n",
       "\t<tr><td>D</td><td>black                 </td><td>1558</td><td>0.16624</td><td>0.189</td></tr>\n",
       "\t<tr><td>D</td><td>hispanic              </td><td>2347</td><td>0.08820</td><td>0.251</td></tr>\n",
       "\t<tr><td>D</td><td>other                 </td><td> 979</td><td>0.01941</td><td>0.368</td></tr>\n",
       "\t<tr><td>D</td><td>white                 </td><td>3095</td><td>0.02779</td><td>0.407</td></tr>\n",
       "\t<tr><td>E</td><td>asian/pacific islander</td><td> 742</td><td>0.01887</td><td>0.357</td></tr>\n",
       "\t<tr><td>E</td><td>black                 </td><td>1179</td><td>0.19763</td><td>0.146</td></tr>\n",
       "\t<tr><td>E</td><td>hispanic              </td><td> 633</td><td>0.06635</td><td>0.262</td></tr>\n",
       "\t<tr><td>E</td><td>other                 </td><td> 807</td><td>0.02602</td><td>0.333</td></tr>\n",
       "\t<tr><td>E</td><td>white                 </td><td>2501</td><td>0.03319</td><td>0.337</td></tr>\n",
       "\t<tr><td>F</td><td>asian/pacific islander</td><td>1196</td><td>0.00836</td><td>0.400</td></tr>\n",
       "\t<tr><td>F</td><td>black                 </td><td> 611</td><td>0.03928</td><td>0.375</td></tr>\n",
       "\t<tr><td>F</td><td>hispanic              </td><td> 647</td><td>0.02009</td><td>0.462</td></tr>\n",
       "\t<tr><td>F</td><td>other                 </td><td> 777</td><td>0.00644</td><td>1.400</td></tr>\n",
       "\t<tr><td>F</td><td>white                 </td><td>3818</td><td>0.01310</td><td>0.440</td></tr>\n",
       "\t<tr><td>G</td><td>asian/pacific islander</td><td>1701</td><td>0.00941</td><td>0.375</td></tr>\n",
       "\t<tr><td>G</td><td>black                 </td><td> 613</td><td>0.06199</td><td>0.158</td></tr>\n",
       "\t<tr><td>G</td><td>hispanic              </td><td> 564</td><td>0.03014</td><td>0.471</td></tr>\n",
       "\t<tr><td>G</td><td>other                 </td><td>3831</td><td>0.00183</td><td>0.714</td></tr>\n",
       "\t<tr><td>G</td><td>white                 </td><td>3636</td><td>0.01128</td><td>0.488</td></tr>\n",
       "\t<tr><td>H</td><td>asian/pacific islander</td><td>1755</td><td>0.02336</td><td>0.293</td></tr>\n",
       "\t<tr><td>H</td><td>black                 </td><td>1247</td><td>0.15878</td><td>0.121</td></tr>\n",
       "\t<tr><td>H</td><td>hispanic              </td><td>2444</td><td>0.09124</td><td>0.188</td></tr>\n",
       "\t<tr><td>H</td><td>other                 </td><td> 862</td><td>0.04756</td><td>0.220</td></tr>\n",
       "\t<tr><td>H</td><td>white                 </td><td>2394</td><td>0.02757</td><td>0.273</td></tr>\n",
       "\t<tr><td>I</td><td>asian/pacific islander</td><td>4970</td><td>0.00724</td><td>0.194</td></tr>\n",
       "\t<tr><td>I</td><td>black                 </td><td> 910</td><td>0.07033</td><td>0.266</td></tr>\n",
       "\t<tr><td>I</td><td>hispanic              </td><td>1051</td><td>0.02188</td><td>0.565</td></tr>\n",
       "\t<tr><td>I</td><td>other                 </td><td>1680</td><td>0.01012</td><td>0.471</td></tr>\n",
       "\t<tr><td>I</td><td>white                 </td><td>5372</td><td>0.01378</td><td>0.284</td></tr>\n",
       "\t<tr><td>J</td><td>asian/pacific islander</td><td> 570</td><td>0.03158</td><td>0.167</td></tr>\n",
       "\t<tr><td>J</td><td>black                 </td><td>2064</td><td>0.17103</td><td>0.139</td></tr>\n",
       "\t<tr><td>J</td><td>hispanic              </td><td> 647</td><td>0.07883</td><td>0.255</td></tr>\n",
       "\t<tr><td>J</td><td>other                 </td><td> 773</td><td>0.02975</td><td>0.174</td></tr>\n",
       "\t<tr><td>J</td><td>white                 </td><td>1649</td><td>0.04245</td><td>0.214</td></tr>\n",
       "</tbody>\n",
       "</table>\n"
      ],
      "text/latex": [
       "A grouped\\_df: 50 × 5\n",
       "\\begin{tabular}{lllll}\n",
       " district & race & n\\_stops & search\\_rate & arrest\\_rate\\\\\n",
       " <chr> & <chr> & <int> & <dbl> & <dbl>\\\\\n",
       "\\hline\n",
       "\t A & asian/pacific islander & 1479 & 0.01149 & 0.412\\\\\n",
       "\t A & black                  & 1088 & 0.07261 & 0.253\\\\\n",
       "\t A & hispanic               &  888 & 0.03604 & 0.250\\\\\n",
       "\t A & other                  & 1821 & 0.01318 & 0.542\\\\\n",
       "\t A & white                  & 2822 & 0.01169 & 0.515\\\\\n",
       "\t B & asian/pacific islander & 1100 & 0.01273 & 0.714\\\\\n",
       "\t B & black                  & 1315 & 0.11635 & 0.176\\\\\n",
       "\t B & hispanic               & 1064 & 0.04887 & 0.385\\\\\n",
       "\t B & other                  & 1432 & 0.02165 & 0.323\\\\\n",
       "\t B & white                  & 3077 & 0.03022 & 0.430\\\\\n",
       "\t C & asian/pacific islander & 1204 & 0.01246 & 0.133\\\\\n",
       "\t C & black                  & 4370 & 0.21510 & 0.137\\\\\n",
       "\t C & hispanic               & 1626 & 0.06150 & 0.280\\\\\n",
       "\t C & other                  &  598 & 0.07525 & 0.156\\\\\n",
       "\t C & white                  & 1401 & 0.04497 & 0.270\\\\\n",
       "\t D & asian/pacific islander &  781 & 0.01665 & 0.462\\\\\n",
       "\t D & black                  & 1558 & 0.16624 & 0.189\\\\\n",
       "\t D & hispanic               & 2347 & 0.08820 & 0.251\\\\\n",
       "\t D & other                  &  979 & 0.01941 & 0.368\\\\\n",
       "\t D & white                  & 3095 & 0.02779 & 0.407\\\\\n",
       "\t E & asian/pacific islander &  742 & 0.01887 & 0.357\\\\\n",
       "\t E & black                  & 1179 & 0.19763 & 0.146\\\\\n",
       "\t E & hispanic               &  633 & 0.06635 & 0.262\\\\\n",
       "\t E & other                  &  807 & 0.02602 & 0.333\\\\\n",
       "\t E & white                  & 2501 & 0.03319 & 0.337\\\\\n",
       "\t F & asian/pacific islander & 1196 & 0.00836 & 0.400\\\\\n",
       "\t F & black                  &  611 & 0.03928 & 0.375\\\\\n",
       "\t F & hispanic               &  647 & 0.02009 & 0.462\\\\\n",
       "\t F & other                  &  777 & 0.00644 & 1.400\\\\\n",
       "\t F & white                  & 3818 & 0.01310 & 0.440\\\\\n",
       "\t G & asian/pacific islander & 1701 & 0.00941 & 0.375\\\\\n",
       "\t G & black                  &  613 & 0.06199 & 0.158\\\\\n",
       "\t G & hispanic               &  564 & 0.03014 & 0.471\\\\\n",
       "\t G & other                  & 3831 & 0.00183 & 0.714\\\\\n",
       "\t G & white                  & 3636 & 0.01128 & 0.488\\\\\n",
       "\t H & asian/pacific islander & 1755 & 0.02336 & 0.293\\\\\n",
       "\t H & black                  & 1247 & 0.15878 & 0.121\\\\\n",
       "\t H & hispanic               & 2444 & 0.09124 & 0.188\\\\\n",
       "\t H & other                  &  862 & 0.04756 & 0.220\\\\\n",
       "\t H & white                  & 2394 & 0.02757 & 0.273\\\\\n",
       "\t I & asian/pacific islander & 4970 & 0.00724 & 0.194\\\\\n",
       "\t I & black                  &  910 & 0.07033 & 0.266\\\\\n",
       "\t I & hispanic               & 1051 & 0.02188 & 0.565\\\\\n",
       "\t I & other                  & 1680 & 0.01012 & 0.471\\\\\n",
       "\t I & white                  & 5372 & 0.01378 & 0.284\\\\\n",
       "\t J & asian/pacific islander &  570 & 0.03158 & 0.167\\\\\n",
       "\t J & black                  & 2064 & 0.17103 & 0.139\\\\\n",
       "\t J & hispanic               &  647 & 0.07883 & 0.255\\\\\n",
       "\t J & other                  &  773 & 0.02975 & 0.174\\\\\n",
       "\t J & white                  & 1649 & 0.04245 & 0.214\\\\\n",
       "\\end{tabular}\n"
      ],
      "text/markdown": [
       "\n",
       "A grouped_df: 50 × 5\n",
       "\n",
       "| district &lt;chr&gt; | race &lt;chr&gt; | n_stops &lt;int&gt; | search_rate &lt;dbl&gt; | arrest_rate &lt;dbl&gt; |\n",
       "|---|---|---|---|---|\n",
       "| A | asian/pacific islander | 1479 | 0.01149 | 0.412 |\n",
       "| A | black                  | 1088 | 0.07261 | 0.253 |\n",
       "| A | hispanic               |  888 | 0.03604 | 0.250 |\n",
       "| A | other                  | 1821 | 0.01318 | 0.542 |\n",
       "| A | white                  | 2822 | 0.01169 | 0.515 |\n",
       "| B | asian/pacific islander | 1100 | 0.01273 | 0.714 |\n",
       "| B | black                  | 1315 | 0.11635 | 0.176 |\n",
       "| B | hispanic               | 1064 | 0.04887 | 0.385 |\n",
       "| B | other                  | 1432 | 0.02165 | 0.323 |\n",
       "| B | white                  | 3077 | 0.03022 | 0.430 |\n",
       "| C | asian/pacific islander | 1204 | 0.01246 | 0.133 |\n",
       "| C | black                  | 4370 | 0.21510 | 0.137 |\n",
       "| C | hispanic               | 1626 | 0.06150 | 0.280 |\n",
       "| C | other                  |  598 | 0.07525 | 0.156 |\n",
       "| C | white                  | 1401 | 0.04497 | 0.270 |\n",
       "| D | asian/pacific islander |  781 | 0.01665 | 0.462 |\n",
       "| D | black                  | 1558 | 0.16624 | 0.189 |\n",
       "| D | hispanic               | 2347 | 0.08820 | 0.251 |\n",
       "| D | other                  |  979 | 0.01941 | 0.368 |\n",
       "| D | white                  | 3095 | 0.02779 | 0.407 |\n",
       "| E | asian/pacific islander |  742 | 0.01887 | 0.357 |\n",
       "| E | black                  | 1179 | 0.19763 | 0.146 |\n",
       "| E | hispanic               |  633 | 0.06635 | 0.262 |\n",
       "| E | other                  |  807 | 0.02602 | 0.333 |\n",
       "| E | white                  | 2501 | 0.03319 | 0.337 |\n",
       "| F | asian/pacific islander | 1196 | 0.00836 | 0.400 |\n",
       "| F | black                  |  611 | 0.03928 | 0.375 |\n",
       "| F | hispanic               |  647 | 0.02009 | 0.462 |\n",
       "| F | other                  |  777 | 0.00644 | 1.400 |\n",
       "| F | white                  | 3818 | 0.01310 | 0.440 |\n",
       "| G | asian/pacific islander | 1701 | 0.00941 | 0.375 |\n",
       "| G | black                  |  613 | 0.06199 | 0.158 |\n",
       "| G | hispanic               |  564 | 0.03014 | 0.471 |\n",
       "| G | other                  | 3831 | 0.00183 | 0.714 |\n",
       "| G | white                  | 3636 | 0.01128 | 0.488 |\n",
       "| H | asian/pacific islander | 1755 | 0.02336 | 0.293 |\n",
       "| H | black                  | 1247 | 0.15878 | 0.121 |\n",
       "| H | hispanic               | 2444 | 0.09124 | 0.188 |\n",
       "| H | other                  |  862 | 0.04756 | 0.220 |\n",
       "| H | white                  | 2394 | 0.02757 | 0.273 |\n",
       "| I | asian/pacific islander | 4970 | 0.00724 | 0.194 |\n",
       "| I | black                  |  910 | 0.07033 | 0.266 |\n",
       "| I | hispanic               | 1051 | 0.02188 | 0.565 |\n",
       "| I | other                  | 1680 | 0.01012 | 0.471 |\n",
       "| I | white                  | 5372 | 0.01378 | 0.284 |\n",
       "| J | asian/pacific islander |  570 | 0.03158 | 0.167 |\n",
       "| J | black                  | 2064 | 0.17103 | 0.139 |\n",
       "| J | hispanic               |  647 | 0.07883 | 0.255 |\n",
       "| J | other                  |  773 | 0.02975 | 0.174 |\n",
       "| J | white                  | 1649 | 0.04245 | 0.214 |\n",
       "\n"
      ],
      "text/plain": [
       "   district race                   n_stops search_rate arrest_rate\n",
       "1  A        asian/pacific islander 1479    0.01149     0.412      \n",
       "2  A        black                  1088    0.07261     0.253      \n",
       "3  A        hispanic                888    0.03604     0.250      \n",
       "4  A        other                  1821    0.01318     0.542      \n",
       "5  A        white                  2822    0.01169     0.515      \n",
       "6  B        asian/pacific islander 1100    0.01273     0.714      \n",
       "7  B        black                  1315    0.11635     0.176      \n",
       "8  B        hispanic               1064    0.04887     0.385      \n",
       "9  B        other                  1432    0.02165     0.323      \n",
       "10 B        white                  3077    0.03022     0.430      \n",
       "11 C        asian/pacific islander 1204    0.01246     0.133      \n",
       "12 C        black                  4370    0.21510     0.137      \n",
       "13 C        hispanic               1626    0.06150     0.280      \n",
       "14 C        other                   598    0.07525     0.156      \n",
       "15 C        white                  1401    0.04497     0.270      \n",
       "16 D        asian/pacific islander  781    0.01665     0.462      \n",
       "17 D        black                  1558    0.16624     0.189      \n",
       "18 D        hispanic               2347    0.08820     0.251      \n",
       "19 D        other                   979    0.01941     0.368      \n",
       "20 D        white                  3095    0.02779     0.407      \n",
       "21 E        asian/pacific islander  742    0.01887     0.357      \n",
       "22 E        black                  1179    0.19763     0.146      \n",
       "23 E        hispanic                633    0.06635     0.262      \n",
       "24 E        other                   807    0.02602     0.333      \n",
       "25 E        white                  2501    0.03319     0.337      \n",
       "26 F        asian/pacific islander 1196    0.00836     0.400      \n",
       "27 F        black                   611    0.03928     0.375      \n",
       "28 F        hispanic                647    0.02009     0.462      \n",
       "29 F        other                   777    0.00644     1.400      \n",
       "30 F        white                  3818    0.01310     0.440      \n",
       "31 G        asian/pacific islander 1701    0.00941     0.375      \n",
       "32 G        black                   613    0.06199     0.158      \n",
       "33 G        hispanic                564    0.03014     0.471      \n",
       "34 G        other                  3831    0.00183     0.714      \n",
       "35 G        white                  3636    0.01128     0.488      \n",
       "36 H        asian/pacific islander 1755    0.02336     0.293      \n",
       "37 H        black                  1247    0.15878     0.121      \n",
       "38 H        hispanic               2444    0.09124     0.188      \n",
       "39 H        other                   862    0.04756     0.220      \n",
       "40 H        white                  2394    0.02757     0.273      \n",
       "41 I        asian/pacific islander 4970    0.00724     0.194      \n",
       "42 I        black                   910    0.07033     0.266      \n",
       "43 I        hispanic               1051    0.02188     0.565      \n",
       "44 I        other                  1680    0.01012     0.471      \n",
       "45 I        white                  5372    0.01378     0.284      \n",
       "46 J        asian/pacific islander  570    0.03158     0.167      \n",
       "47 J        black                  2064    0.17103     0.139      \n",
       "48 J        hispanic                647    0.07883     0.255      \n",
       "49 J        other                   773    0.02975     0.174      \n",
       "50 J        white                  1649    0.04245     0.214      "
      ]
     },
     "metadata": {},
     "output_type": "display_data"
    }
   ],
   "source": [
    "# Your code here!\n",
    "\n",
    "# START\n",
    "\n",
    "# 1.\n",
    "# Search and arrest rates differ by district.\n",
    "# Districts with higher search rates tend to have lower arrest rates,\n",
    "# and vice-versa. \n",
    "stops_2015 %>%\n",
    "    group_by(district) %>%\n",
    "    summarize(\n",
    "        n_stops = n(),\n",
    "        \n",
    "        n_searches = sum(searched),\n",
    "        search_rate = n_searches / n_stops,\n",
    "        \n",
    "        n_arrests = sum(arrested),\n",
    "        arrest_rate = n_arrests / n_searches,\n",
    "    )\n",
    "\n",
    "# 1., but more efficient\n",
    "stops_2015 %>%\n",
    "    group_by(district) %>%\n",
    "    summarize(\n",
    "        n_stops = n(),\n",
    "        \n",
    "        # the mean of a boolean vector is the proportion of\n",
    "        # elements in the vector that are TRUE\n",
    "        search_rate = mean(searched),\n",
    "        \n",
    "        # mean(arrested) is the proportion of stops that resulted in arrests\n",
    "        # We only want to consider stops that resulted in searches.\n",
    "        arrest_rate = sum(arrested)/sum(searched)\n",
    "    )\n",
    "\n",
    "# 2.\n",
    "# Search rates for Black and Hispanic drivers are higher than drivers of \n",
    "# other race/ethnicity groups. However, the arrest rates for Black and Hispanic\n",
    "# drivers are lower than other race/ethnicities. Perhaps the search threshold\n",
    "# for Black and Hispanic drivers is lower, so the Black and Hispanic drivers\n",
    "# who are stopped are less \"risky\"?\n",
    "stops_2015 %>%\n",
    "    group_by(race) %>%\n",
    "    summarize(\n",
    "        n_stops = n(),\n",
    "        \n",
    "        search_rate = mean(searched),\n",
    "        \n",
    "        arrest_rate = mean(arrested)/mean(searched)\n",
    "    )\n",
    "\n",
    "# 3.\n",
    "# The output is quite long, but it looks like the gaps in search and arrest\n",
    "# rates for Black and Hispanic drivers persist across districts, though\n",
    "# the gaps differ in size across districts.\n",
    "# A plot might help us digest these results more easily.\n",
    "stops_2015 %>%\n",
    "    group_by(district, race) %>%\n",
    "    summarize(\n",
    "        n_stops = n(),\n",
    "        \n",
    "        search_rate = mean(searched),\n",
    "        \n",
    "        arrest_rate = mean(arrested)/mean(searched)\n",
    "    )\n",
    "\n",
    "# END"
   ]
  },
  {
   "cell_type": "markdown",
   "metadata": {},
   "source": [
    "## Concluding remarks"
   ]
  },
  {
   "cell_type": "markdown",
   "metadata": {},
   "source": [
    "The method used in the final exercise is called an **outcome test**. Someone actually won a Nobel Prize for this kind of work! \n",
    "\n",
    "Here's what we'll do in Part 2:\n",
    "- Use 📊plots📈 to reduce the cognitive burden of reading long tables.\n",
    "- Learn how to combine data from multiple sources\n",
    "- Dig deeper into our results. Can we say anything about racial/ethnic discrimination based on our results? What additional tests can we conduct? How can we clearly present our findings?\n"
   ]
  }
 ],
 "metadata": {
  "kernelspec": {
   "display_name": "R",
   "language": "R",
   "name": "ir"
  },
  "language_info": {
   "codemirror_mode": "r",
   "file_extension": ".r",
   "mimetype": "text/x-r-source",
   "name": "R",
   "pygments_lexer": "r",
   "version": "4.2.1"
  }
 },
 "nbformat": 4,
 "nbformat_minor": 4
}
