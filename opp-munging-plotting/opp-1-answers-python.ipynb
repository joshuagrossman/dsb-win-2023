{
 "cells": [
  {
   "cell_type": "markdown",
   "metadata": {},
   "source": [
    "# 🚘 Analyzing SF traffic stops with `Python`: Part 1"
   ]
  },
  {
   "cell_type": "markdown",
   "metadata": {},
   "source": [
    "<img src=\"img/sf-traffic.jpg\" alt=\"traffic\" width=\"600\" align=\"left\"/>"
   ]
  },
  {
   "cell_type": "markdown",
   "metadata": {},
   "source": [
    "This is Part 1. Other parts can be found [here](https://www.jdgrossman.com).\n",
    "\n",
    "## Introduction\n",
    "\n",
    "In this series of tutorials, we'll use `Python` to explore traffic stops in San Francisco (SF). In particular, we'll investigate whether there is evidence of racial discrimination in SF's policing practices. \n",
    "\n",
    "> **Important note**: Policing can be a sensitive subject. It's important to remember that each row in our data represents a real interaction between a police officer and driver. Please keep this in mind as you work through the tutorial, and be sure to engage with the material to the extent you're comfortable. \n",
    "\n",
    "By the end of the tutorials, you'll have foundational understanding of the following:\n",
    "1. 📊 How to use `Python` to explore tabular data and calculate descriptive statistics. \n",
    "2. 📈 How to make an informative plot with `Python`\n",
    "2. ⚖️ How to approach questions about social policy with data. \n",
    "\n",
    "Let's get started!"
   ]
  },
  {
   "cell_type": "markdown",
   "metadata": {},
   "source": [
    "## ✅ Set up\n",
    "\n",
    "While the core `Python` language contains many useful functions (e.g., `sum` and `len`), there is vast functionality built on top of `Python` by community members.\n",
    "\n",
    "Make sure to run the cell below. It imports additional useful functions and loads in data. "
   ]
  },
  {
   "cell_type": "code",
   "execution_count": 1,
   "metadata": {},
   "outputs": [],
   "source": [
    "# Load in additional functions for manipulating data from the Pandas package\n",
    "import pandas as pd\n",
    "from numpy import floor\n",
    "\n",
    "# This is where the data is stored.\n",
    "STOPS_PATH = \"https://github.com/joshuagrossman/dsb-win-2023/raw/main/opp-munging-plotting/data/sf_stop_data.feather\"\n",
    "\n",
    "# Read in the data\n",
    "stops = pd.read_feather(STOPS_PATH)\n",
    "stops['date'] = pd.to_datetime(stops.date)"
   ]
  },
  {
   "cell_type": "markdown",
   "metadata": {},
   "source": [
    "### 🖼️ The data frame\n",
    "\n",
    "Data frames are like spreadsheets in Microsft Excel or Google Sheets: they have rows and columns, and each cell in the spreadsheet contains data.\n",
    "\n",
    "Run the cell below to preview the `stops` data. What do you notice?\n",
    "\n",
    "> 🔎 The `head()` method allows us to see the first couple rows of a dataframe."
   ]
  },
  {
   "cell_type": "code",
   "execution_count": 2,
   "metadata": {},
   "outputs": [
    {
     "data": {
      "text/html": [
       "<div>\n",
       "<style scoped>\n",
       "    .dataframe tbody tr th:only-of-type {\n",
       "        vertical-align: middle;\n",
       "    }\n",
       "\n",
       "    .dataframe tbody tr th {\n",
       "        vertical-align: top;\n",
       "    }\n",
       "\n",
       "    .dataframe thead th {\n",
       "        text-align: right;\n",
       "    }\n",
       "</style>\n",
       "<table border=\"1\" class=\"dataframe\">\n",
       "  <thead>\n",
       "    <tr style=\"text-align: right;\">\n",
       "      <th></th>\n",
       "      <th>date</th>\n",
       "      <th>time</th>\n",
       "      <th>location</th>\n",
       "      <th>lat</th>\n",
       "      <th>lng</th>\n",
       "      <th>district</th>\n",
       "      <th>age</th>\n",
       "      <th>race</th>\n",
       "      <th>gender</th>\n",
       "      <th>arrested</th>\n",
       "      <th>contraband_found</th>\n",
       "      <th>searched</th>\n",
       "      <th>reason_for_stop</th>\n",
       "    </tr>\n",
       "  </thead>\n",
       "  <tbody>\n",
       "    <tr>\n",
       "      <th>0</th>\n",
       "      <td>2009-01-01</td>\n",
       "      <td>10:10:00</td>\n",
       "      <td>1736 PALOU</td>\n",
       "      <td>37.735669</td>\n",
       "      <td>-122.393353</td>\n",
       "      <td>C</td>\n",
       "      <td>22.0</td>\n",
       "      <td>black</td>\n",
       "      <td>female</td>\n",
       "      <td>False</td>\n",
       "      <td>False</td>\n",
       "      <td>True</td>\n",
       "      <td>Equipment violation</td>\n",
       "    </tr>\n",
       "    <tr>\n",
       "      <th>1</th>\n",
       "      <td>2009-01-01</td>\n",
       "      <td>10:15:00</td>\n",
       "      <td>THRIFT/PLYMTH</td>\n",
       "      <td>37.717494</td>\n",
       "      <td>-122.456140</td>\n",
       "      <td>I</td>\n",
       "      <td>44.0</td>\n",
       "      <td>black</td>\n",
       "      <td>male</td>\n",
       "      <td>False</td>\n",
       "      <td>None</td>\n",
       "      <td>False</td>\n",
       "      <td>Moving violation</td>\n",
       "    </tr>\n",
       "    <tr>\n",
       "      <th>2</th>\n",
       "      <td>2009-01-01</td>\n",
       "      <td>10:20:00</td>\n",
       "      <td>FLORIDA/19TH</td>\n",
       "      <td>37.760440</td>\n",
       "      <td>-122.410986</td>\n",
       "      <td>D</td>\n",
       "      <td>45.0</td>\n",
       "      <td>white</td>\n",
       "      <td>female</td>\n",
       "      <td>False</td>\n",
       "      <td>None</td>\n",
       "      <td>False</td>\n",
       "      <td>Equipment violation</td>\n",
       "    </tr>\n",
       "    <tr>\n",
       "      <th>3</th>\n",
       "      <td>2009-01-01</td>\n",
       "      <td>10:20:00</td>\n",
       "      <td>19TH AVE/MORAGAE</td>\n",
       "      <td>37.756110</td>\n",
       "      <td>-122.476643</td>\n",
       "      <td>I</td>\n",
       "      <td>27.0</td>\n",
       "      <td>white</td>\n",
       "      <td>male</td>\n",
       "      <td>False</td>\n",
       "      <td>None</td>\n",
       "      <td>False</td>\n",
       "      <td>Equipment violation</td>\n",
       "    </tr>\n",
       "    <tr>\n",
       "      <th>4</th>\n",
       "      <td>2009-01-01</td>\n",
       "      <td>10:36:00</td>\n",
       "      <td>19TH/LINCOLN</td>\n",
       "      <td>37.765483</td>\n",
       "      <td>-122.477397</td>\n",
       "      <td>I</td>\n",
       "      <td>29.0</td>\n",
       "      <td>white</td>\n",
       "      <td>male</td>\n",
       "      <td>False</td>\n",
       "      <td>None</td>\n",
       "      <td>False</td>\n",
       "      <td>Equipment violation</td>\n",
       "    </tr>\n",
       "  </tbody>\n",
       "</table>\n",
       "</div>"
      ],
      "text/plain": [
       "        date      time          location        lat         lng district  \\\n",
       "0 2009-01-01  10:10:00        1736 PALOU  37.735669 -122.393353        C   \n",
       "1 2009-01-01  10:15:00     THRIFT/PLYMTH  37.717494 -122.456140        I   \n",
       "2 2009-01-01  10:20:00      FLORIDA/19TH  37.760440 -122.410986        D   \n",
       "3 2009-01-01  10:20:00  19TH AVE/MORAGAE  37.756110 -122.476643        I   \n",
       "4 2009-01-01  10:36:00      19TH/LINCOLN  37.765483 -122.477397        I   \n",
       "\n",
       "    age   race  gender  arrested contraband_found  searched  \\\n",
       "0  22.0  black  female     False            False      True   \n",
       "1  44.0  black    male     False             None     False   \n",
       "2  45.0  white  female     False             None     False   \n",
       "3  27.0  white    male     False             None     False   \n",
       "4  29.0  white    male     False             None     False   \n",
       "\n",
       "       reason_for_stop  \n",
       "0  Equipment violation  \n",
       "1     Moving violation  \n",
       "2  Equipment violation  \n",
       "3  Equipment violation  \n",
       "4  Equipment violation  "
      ]
     },
     "execution_count": 2,
     "metadata": {},
     "output_type": "execute_result"
    }
   ],
   "source": [
    "stops.head()"
   ]
  },
  {
   "cell_type": "markdown",
   "metadata": {},
   "source": [
    "⬆️ From the preview above, we might guess that each row in the `stops` dataframe represents a stop, and each column contains information about each stop.\n",
    "\n",
    "> This guess is correct!\n",
    "\n",
    "### 💭 Asking questions about the data\n",
    "\n",
    "As an analyst, you might start with some basic questions:\n",
    "\n",
    "1. How many stops (i.e., rows) are in the `stops` data?\n",
    "2. What do we know about each stop?\n",
    "3. When was the earliest stop?\n",
    "4. What were the most commons reasons for stops?\n",
    "5. Who is most likely to get stopped?\n",
    "\n",
    "Let's start with the first question: how many rows are in the `stops` data?"
   ]
  },
  {
   "cell_type": "code",
   "execution_count": 3,
   "metadata": {},
   "outputs": [
    {
     "data": {
      "text/plain": [
       "636161"
      ]
     },
     "execution_count": 3,
     "metadata": {},
     "output_type": "execute_result"
    }
   ],
   "source": [
    "len(stops)"
   ]
  },
  {
   "cell_type": "markdown",
   "metadata": {},
   "source": [
    "Looks like we have information on approximately 640,000 stops.\n",
    "\n",
    "The `shape` attribute provides the number of rows and columns:"
   ]
  },
  {
   "cell_type": "code",
   "execution_count": 4,
   "metadata": {},
   "outputs": [
    {
     "data": {
      "text/plain": [
       "(636161, 13)"
      ]
     },
     "execution_count": 4,
     "metadata": {},
     "output_type": "execute_result"
    }
   ],
   "source": [
    "stops.shape"
   ]
  },
  {
   "cell_type": "markdown",
   "metadata": {},
   "source": [
    "What do we know about each stop?"
   ]
  },
  {
   "cell_type": "code",
   "execution_count": 5,
   "metadata": {},
   "outputs": [
    {
     "data": {
      "text/plain": [
       "Index(['date', 'time', 'location', 'lat', 'lng', 'district', 'age', 'race',\n",
       "       'gender', 'arrested', 'contraband_found', 'searched',\n",
       "       'reason_for_stop'],\n",
       "      dtype='object')"
      ]
     },
     "execution_count": 5,
     "metadata": {},
     "output_type": "execute_result"
    }
   ],
   "source": [
    "stops.columns"
   ]
  },
  {
   "cell_type": "markdown",
   "metadata": {},
   "source": [
    "It looks like we have the basics of each stop: time, location, demographics, and outcomes."
   ]
  },
  {
   "cell_type": "markdown",
   "metadata": {},
   "source": [
    "## 🚀 Exercise: Stop dates\n",
    "\n",
    "When did the traffic stops in the `stops` data occur? \n",
    "\n",
    "Use the `date` column in the `stops` data to get a sense of when stops typically occur. Write a comment explaining your results. \n",
    "\n",
    "A few pointers:\n",
    "\n",
    "- 💵 To extract a column from a data frame, use `[]` or `.col_name`. \n",
    "\n",
    "> To retrieve column `age` from data frame `df`, we write `df['age']` or `df.age`.\n",
    "\n",
    "> Columns of `Pandas` data frames are stores as `Series` objects. For now, you can think of them like a list.\n",
    "\n",
    "- You may find the following `Series` methods helpful: `min`, `max`, and `sample`. \n",
    "\n",
    "> You can learn more about a method `f` of object `x` by running `help(x.f)` or `x.f?`."
   ]
  },
  {
   "cell_type": "code",
   "execution_count": 6,
   "metadata": {},
   "outputs": [
    {
     "name": "stdout",
     "output_type": "stream",
     "text": [
      "2009-01-01 00:00:00\n",
      "2016-06-30 00:00:00\n",
      "319618   2012-01-24\n",
      "540706   2015-04-28\n",
      "43764    2009-05-14\n",
      "340973   2012-04-12\n",
      "596986   2016-01-06\n",
      "482847   2014-02-17\n",
      "483558   2014-02-18\n",
      "539905   2015-04-25\n",
      "255102   2011-05-21\n",
      "367218   2012-08-04\n",
      "Name: date, dtype: datetime64[ns]\n"
     ]
    }
   ],
   "source": [
    "## Your code here!\n",
    "\n",
    "# START\n",
    "\n",
    "date_col = stops['date']\n",
    "\n",
    "# alternatively\n",
    "data_col = stops.date\n",
    "\n",
    "# The earliest stop took place on Jan 1, 2009.\n",
    "print(date_col.min())\n",
    "\n",
    "# The last stop took place on Jun 30, 2016.\n",
    "print(date_col.max())\n",
    "\n",
    "# We observe stops between 2009 and 2016. You technically\n",
    "# can't confirm this using just min and max!\n",
    "print(date_col.sample(10))\n",
    "\n",
    "# END"
   ]
  },
  {
   "cell_type": "markdown",
   "metadata": {
    "tags": []
   },
   "source": [
    "## 📝 Adding new columns with `[]` and `assign()`\n",
    "\n",
    "Our data extends from 2009 to the first half of 2016. Suppose want to examine the most recent full year of data: 2015.\n",
    "\n",
    "Problem: We don't have a `year` column. We can create a new column with `[]` or the `assign()` method."
   ]
  },
  {
   "cell_type": "markdown",
   "metadata": {},
   "source": [
    "🖥️ Usage: `df['new_col_name'] = f( df['existing_col_name'] )`\n",
    "* `df`: the data frame\n",
    "* `new_col_name`: name of the new column to add\n",
    "* `f`: function to apply to existing column(s) to generate the new column\n",
    "* `existing_col_name`: name of existing column\n",
    "\n",
    "For example, here's how we could add a column to `stops` containing the first digit of the driver's age."
   ]
  },
  {
   "cell_type": "code",
   "execution_count": 7,
   "metadata": {},
   "outputs": [
    {
     "data": {
      "text/plain": [
       "0    2.0\n",
       "1    4.0\n",
       "2    4.0\n",
       "3    2.0\n",
       "4    2.0\n",
       "Name: age_first_digit, dtype: float64"
      ]
     },
     "execution_count": 7,
     "metadata": {},
     "output_type": "execute_result"
    }
   ],
   "source": [
    "stops['age_first_digit'] = floor(stops['age']/10)\n",
    "\n",
    "stops['age_first_digit'].head()"
   ]
  },
  {
   "cell_type": "markdown",
   "metadata": {},
   "source": [
    "Alternatively, we can use the `assign()` method:"
   ]
  },
  {
   "cell_type": "code",
   "execution_count": 8,
   "metadata": {},
   "outputs": [
    {
     "data": {
      "text/html": [
       "<div>\n",
       "<style scoped>\n",
       "    .dataframe tbody tr th:only-of-type {\n",
       "        vertical-align: middle;\n",
       "    }\n",
       "\n",
       "    .dataframe tbody tr th {\n",
       "        vertical-align: top;\n",
       "    }\n",
       "\n",
       "    .dataframe thead th {\n",
       "        text-align: right;\n",
       "    }\n",
       "</style>\n",
       "<table border=\"1\" class=\"dataframe\">\n",
       "  <thead>\n",
       "    <tr style=\"text-align: right;\">\n",
       "      <th></th>\n",
       "      <th>date</th>\n",
       "      <th>time</th>\n",
       "      <th>location</th>\n",
       "      <th>lat</th>\n",
       "      <th>lng</th>\n",
       "      <th>district</th>\n",
       "      <th>age</th>\n",
       "      <th>race</th>\n",
       "      <th>gender</th>\n",
       "      <th>arrested</th>\n",
       "      <th>contraband_found</th>\n",
       "      <th>searched</th>\n",
       "      <th>reason_for_stop</th>\n",
       "      <th>age_first_digit</th>\n",
       "    </tr>\n",
       "  </thead>\n",
       "  <tbody>\n",
       "    <tr>\n",
       "      <th>0</th>\n",
       "      <td>2009-01-01</td>\n",
       "      <td>10:10:00</td>\n",
       "      <td>1736 PALOU</td>\n",
       "      <td>37.735669</td>\n",
       "      <td>-122.393353</td>\n",
       "      <td>C</td>\n",
       "      <td>22.0</td>\n",
       "      <td>black</td>\n",
       "      <td>female</td>\n",
       "      <td>False</td>\n",
       "      <td>False</td>\n",
       "      <td>True</td>\n",
       "      <td>Equipment violation</td>\n",
       "      <td>2.0</td>\n",
       "    </tr>\n",
       "    <tr>\n",
       "      <th>1</th>\n",
       "      <td>2009-01-01</td>\n",
       "      <td>10:15:00</td>\n",
       "      <td>THRIFT/PLYMTH</td>\n",
       "      <td>37.717494</td>\n",
       "      <td>-122.456140</td>\n",
       "      <td>I</td>\n",
       "      <td>44.0</td>\n",
       "      <td>black</td>\n",
       "      <td>male</td>\n",
       "      <td>False</td>\n",
       "      <td>None</td>\n",
       "      <td>False</td>\n",
       "      <td>Moving violation</td>\n",
       "      <td>4.0</td>\n",
       "    </tr>\n",
       "    <tr>\n",
       "      <th>2</th>\n",
       "      <td>2009-01-01</td>\n",
       "      <td>10:20:00</td>\n",
       "      <td>FLORIDA/19TH</td>\n",
       "      <td>37.760440</td>\n",
       "      <td>-122.410986</td>\n",
       "      <td>D</td>\n",
       "      <td>45.0</td>\n",
       "      <td>white</td>\n",
       "      <td>female</td>\n",
       "      <td>False</td>\n",
       "      <td>None</td>\n",
       "      <td>False</td>\n",
       "      <td>Equipment violation</td>\n",
       "      <td>4.0</td>\n",
       "    </tr>\n",
       "    <tr>\n",
       "      <th>3</th>\n",
       "      <td>2009-01-01</td>\n",
       "      <td>10:20:00</td>\n",
       "      <td>19TH AVE/MORAGAE</td>\n",
       "      <td>37.756110</td>\n",
       "      <td>-122.476643</td>\n",
       "      <td>I</td>\n",
       "      <td>27.0</td>\n",
       "      <td>white</td>\n",
       "      <td>male</td>\n",
       "      <td>False</td>\n",
       "      <td>None</td>\n",
       "      <td>False</td>\n",
       "      <td>Equipment violation</td>\n",
       "      <td>3.0</td>\n",
       "    </tr>\n",
       "    <tr>\n",
       "      <th>4</th>\n",
       "      <td>2009-01-01</td>\n",
       "      <td>10:36:00</td>\n",
       "      <td>19TH/LINCOLN</td>\n",
       "      <td>37.765483</td>\n",
       "      <td>-122.477397</td>\n",
       "      <td>I</td>\n",
       "      <td>29.0</td>\n",
       "      <td>white</td>\n",
       "      <td>male</td>\n",
       "      <td>False</td>\n",
       "      <td>None</td>\n",
       "      <td>False</td>\n",
       "      <td>Equipment violation</td>\n",
       "      <td>3.0</td>\n",
       "    </tr>\n",
       "  </tbody>\n",
       "</table>\n",
       "</div>"
      ],
      "text/plain": [
       "        date      time          location        lat         lng district  \\\n",
       "0 2009-01-01  10:10:00        1736 PALOU  37.735669 -122.393353        C   \n",
       "1 2009-01-01  10:15:00     THRIFT/PLYMTH  37.717494 -122.456140        I   \n",
       "2 2009-01-01  10:20:00      FLORIDA/19TH  37.760440 -122.410986        D   \n",
       "3 2009-01-01  10:20:00  19TH AVE/MORAGAE  37.756110 -122.476643        I   \n",
       "4 2009-01-01  10:36:00      19TH/LINCOLN  37.765483 -122.477397        I   \n",
       "\n",
       "    age   race  gender  arrested contraband_found  searched  \\\n",
       "0  22.0  black  female     False            False      True   \n",
       "1  44.0  black    male     False             None     False   \n",
       "2  45.0  white  female     False             None     False   \n",
       "3  27.0  white    male     False             None     False   \n",
       "4  29.0  white    male     False             None     False   \n",
       "\n",
       "       reason_for_stop  age_first_digit  \n",
       "0  Equipment violation              2.0  \n",
       "1     Moving violation              4.0  \n",
       "2  Equipment violation              4.0  \n",
       "3  Equipment violation              3.0  \n",
       "4  Equipment violation              3.0  "
      ]
     },
     "execution_count": 8,
     "metadata": {},
     "output_type": "execute_result"
    }
   ],
   "source": [
    "# assign() applies the anonymous function directly to the data.\n",
    "# We can chain Pandas methods to make our code more readable\n",
    "# The outer parentheses allow us to avoid using a continuation character `\\`\n",
    "# at the end of each line.\n",
    "(\n",
    "    stops\n",
    "    .assign(age_first_digit = lambda df: round(df.age/10))\n",
    "    .head()\n",
    ")"
   ]
  },
  {
   "cell_type": "markdown",
   "metadata": {},
   "source": [
    "❗❗❗Important note❗❗❗: Unless otherwise specific, `Pandas` functions and methods are \"copy on modify\". In other words, when we apply a function or method to data, `Pandas` creates a copy of the data and then modifies the copy. The original data is unchanged.\n",
    "\n",
    "So, `assign()` alone will not change the original data. "
   ]
  },
  {
   "cell_type": "markdown",
   "metadata": {
    "tags": []
   },
   "source": [
    "### 🚀 Exercise\n",
    "\n",
    "1. Use add a new column called `yr` to our `stops` data. The `Series` attribute `dt.year` may come in handy.\n",
    "\n",
    "> You can read about the `dt.year` attribute by running `help(Series.dt.year)`.\n",
    "\n",
    "2. Assign the resulting data frame to a new variable called `stops_w_yr`. \n",
    " \n",
    "3. Finally, run `stops.yr.value_counts()`. \n",
    "\n",
    "> What do you think `value_counts()` does? Do you notice any patterns?"
   ]
  },
  {
   "cell_type": "code",
   "execution_count": 9,
   "metadata": {},
   "outputs": [
    {
     "data": {
      "text/plain": [
       "2009    110269\n",
       "2010    104254\n",
       "2011     99476\n",
       "2015     85689\n",
       "2012     82362\n",
       "2013     74144\n",
       "2016     40215\n",
       "2014     39752\n",
       "Name: yr, dtype: int64"
      ]
     },
     "execution_count": 9,
     "metadata": {},
     "output_type": "execute_result"
    }
   ],
   "source": [
    "# Your code here!\n",
    "\n",
    "# START\n",
    "\n",
    "stops_w_yr = (\n",
    "    stops\n",
    "    .assign(yr = lambda df: df['date'].dt.year)\n",
    ")\n",
    "\n",
    "# Count the number of stops in each year.\n",
    "# There are fewer stops in later years.\n",
    "# There are a lot fewer stops in 2014 and 2016.\n",
    "# We saw early that we only get the first half of 2016.\n",
    "# But what's going on with 2014?\n",
    "stops_w_yr.yr.value_counts()\n",
    "\n",
    "# END"
   ]
  },
  {
   "cell_type": "markdown",
   "metadata": {},
   "source": [
    "## 📝 Selecting rows with `[]` and `query()`\n",
    "\n",
    "Now that we have a `yr` column, we want to limit our data to just the stops in 2015.\n",
    "\n",
    "Problem: We have data from 2009 to 2016. To limit to specific rows, we can use `[]` or the `query()` method."
   ]
  },
  {
   "cell_type": "markdown",
   "metadata": {},
   "source": [
    "🖥️ Usage: `data[condition]`\n",
    "* `data`: the data frame\n",
    "* `condition`: an array-like object the same length as `date` where TRUE indicates the rows in `data` to keep.\n",
    "\n",
    "For example, here's how we could limit `stops` to drivers under 30 years old:"
   ]
  },
  {
   "cell_type": "code",
   "execution_count": 10,
   "metadata": {},
   "outputs": [
    {
     "data": {
      "text/html": [
       "<div>\n",
       "<style scoped>\n",
       "    .dataframe tbody tr th:only-of-type {\n",
       "        vertical-align: middle;\n",
       "    }\n",
       "\n",
       "    .dataframe tbody tr th {\n",
       "        vertical-align: top;\n",
       "    }\n",
       "\n",
       "    .dataframe thead th {\n",
       "        text-align: right;\n",
       "    }\n",
       "</style>\n",
       "<table border=\"1\" class=\"dataframe\">\n",
       "  <thead>\n",
       "    <tr style=\"text-align: right;\">\n",
       "      <th></th>\n",
       "      <th>date</th>\n",
       "      <th>time</th>\n",
       "      <th>location</th>\n",
       "      <th>lat</th>\n",
       "      <th>lng</th>\n",
       "      <th>district</th>\n",
       "      <th>age</th>\n",
       "      <th>race</th>\n",
       "      <th>gender</th>\n",
       "      <th>arrested</th>\n",
       "      <th>contraband_found</th>\n",
       "      <th>searched</th>\n",
       "      <th>reason_for_stop</th>\n",
       "      <th>age_first_digit</th>\n",
       "    </tr>\n",
       "  </thead>\n",
       "  <tbody>\n",
       "    <tr>\n",
       "      <th>0</th>\n",
       "      <td>2009-01-01</td>\n",
       "      <td>10:10:00</td>\n",
       "      <td>1736 PALOU</td>\n",
       "      <td>37.735669</td>\n",
       "      <td>-122.393353</td>\n",
       "      <td>C</td>\n",
       "      <td>22.0</td>\n",
       "      <td>black</td>\n",
       "      <td>female</td>\n",
       "      <td>False</td>\n",
       "      <td>False</td>\n",
       "      <td>True</td>\n",
       "      <td>Equipment violation</td>\n",
       "      <td>2.0</td>\n",
       "    </tr>\n",
       "    <tr>\n",
       "      <th>3</th>\n",
       "      <td>2009-01-01</td>\n",
       "      <td>10:20:00</td>\n",
       "      <td>19TH AVE/MORAGAE</td>\n",
       "      <td>37.756110</td>\n",
       "      <td>-122.476643</td>\n",
       "      <td>I</td>\n",
       "      <td>27.0</td>\n",
       "      <td>white</td>\n",
       "      <td>male</td>\n",
       "      <td>False</td>\n",
       "      <td>None</td>\n",
       "      <td>False</td>\n",
       "      <td>Equipment violation</td>\n",
       "      <td>2.0</td>\n",
       "    </tr>\n",
       "    <tr>\n",
       "      <th>4</th>\n",
       "      <td>2009-01-01</td>\n",
       "      <td>10:36:00</td>\n",
       "      <td>19TH/LINCOLN</td>\n",
       "      <td>37.765483</td>\n",
       "      <td>-122.477397</td>\n",
       "      <td>I</td>\n",
       "      <td>29.0</td>\n",
       "      <td>white</td>\n",
       "      <td>male</td>\n",
       "      <td>False</td>\n",
       "      <td>None</td>\n",
       "      <td>False</td>\n",
       "      <td>Equipment violation</td>\n",
       "      <td>2.0</td>\n",
       "    </tr>\n",
       "    <tr>\n",
       "      <th>7</th>\n",
       "      <td>2009-01-01</td>\n",
       "      <td>10:44:00</td>\n",
       "      <td>19TH/SANTIAGO</td>\n",
       "      <td>37.744918</td>\n",
       "      <td>-122.475846</td>\n",
       "      <td>I</td>\n",
       "      <td>29.0</td>\n",
       "      <td>white</td>\n",
       "      <td>female</td>\n",
       "      <td>False</td>\n",
       "      <td>None</td>\n",
       "      <td>False</td>\n",
       "      <td>Equipment violation</td>\n",
       "      <td>2.0</td>\n",
       "    </tr>\n",
       "    <tr>\n",
       "      <th>11</th>\n",
       "      <td>2009-01-01</td>\n",
       "      <td>10:55:00</td>\n",
       "      <td>LA SALLE @ NEWCOMB</td>\n",
       "      <td>37.733112</td>\n",
       "      <td>-122.385115</td>\n",
       "      <td>C</td>\n",
       "      <td>26.0</td>\n",
       "      <td>black</td>\n",
       "      <td>male</td>\n",
       "      <td>False</td>\n",
       "      <td>False</td>\n",
       "      <td>True</td>\n",
       "      <td>Moving violation</td>\n",
       "      <td>2.0</td>\n",
       "    </tr>\n",
       "  </tbody>\n",
       "</table>\n",
       "</div>"
      ],
      "text/plain": [
       "         date      time            location        lat         lng district  \\\n",
       "0  2009-01-01  10:10:00          1736 PALOU  37.735669 -122.393353        C   \n",
       "3  2009-01-01  10:20:00    19TH AVE/MORAGAE  37.756110 -122.476643        I   \n",
       "4  2009-01-01  10:36:00        19TH/LINCOLN  37.765483 -122.477397        I   \n",
       "7  2009-01-01  10:44:00       19TH/SANTIAGO  37.744918 -122.475846        I   \n",
       "11 2009-01-01  10:55:00  LA SALLE @ NEWCOMB  37.733112 -122.385115        C   \n",
       "\n",
       "     age   race  gender  arrested contraband_found  searched  \\\n",
       "0   22.0  black  female     False            False      True   \n",
       "3   27.0  white    male     False             None     False   \n",
       "4   29.0  white    male     False             None     False   \n",
       "7   29.0  white  female     False             None     False   \n",
       "11  26.0  black    male     False            False      True   \n",
       "\n",
       "        reason_for_stop  age_first_digit  \n",
       "0   Equipment violation              2.0  \n",
       "3   Equipment violation              2.0  \n",
       "4   Equipment violation              2.0  \n",
       "7   Equipment violation              2.0  \n",
       "11     Moving violation              2.0  "
      ]
     },
     "execution_count": 10,
     "metadata": {},
     "output_type": "execute_result"
    }
   ],
   "source": [
    "stops[stops['age'] < 30].head()"
   ]
  },
  {
   "cell_type": "markdown",
   "metadata": {},
   "source": [
    "We can alternatively use the `query()` method:"
   ]
  },
  {
   "cell_type": "code",
   "execution_count": 11,
   "metadata": {},
   "outputs": [
    {
     "data": {
      "text/html": [
       "<div>\n",
       "<style scoped>\n",
       "    .dataframe tbody tr th:only-of-type {\n",
       "        vertical-align: middle;\n",
       "    }\n",
       "\n",
       "    .dataframe tbody tr th {\n",
       "        vertical-align: top;\n",
       "    }\n",
       "\n",
       "    .dataframe thead th {\n",
       "        text-align: right;\n",
       "    }\n",
       "</style>\n",
       "<table border=\"1\" class=\"dataframe\">\n",
       "  <thead>\n",
       "    <tr style=\"text-align: right;\">\n",
       "      <th></th>\n",
       "      <th>date</th>\n",
       "      <th>time</th>\n",
       "      <th>location</th>\n",
       "      <th>lat</th>\n",
       "      <th>lng</th>\n",
       "      <th>district</th>\n",
       "      <th>age</th>\n",
       "      <th>race</th>\n",
       "      <th>gender</th>\n",
       "      <th>arrested</th>\n",
       "      <th>contraband_found</th>\n",
       "      <th>searched</th>\n",
       "      <th>reason_for_stop</th>\n",
       "      <th>age_first_digit</th>\n",
       "    </tr>\n",
       "  </thead>\n",
       "  <tbody>\n",
       "    <tr>\n",
       "      <th>0</th>\n",
       "      <td>2009-01-01</td>\n",
       "      <td>10:10:00</td>\n",
       "      <td>1736 PALOU</td>\n",
       "      <td>37.735669</td>\n",
       "      <td>-122.393353</td>\n",
       "      <td>C</td>\n",
       "      <td>22.0</td>\n",
       "      <td>black</td>\n",
       "      <td>female</td>\n",
       "      <td>False</td>\n",
       "      <td>False</td>\n",
       "      <td>True</td>\n",
       "      <td>Equipment violation</td>\n",
       "      <td>2.0</td>\n",
       "    </tr>\n",
       "    <tr>\n",
       "      <th>3</th>\n",
       "      <td>2009-01-01</td>\n",
       "      <td>10:20:00</td>\n",
       "      <td>19TH AVE/MORAGAE</td>\n",
       "      <td>37.756110</td>\n",
       "      <td>-122.476643</td>\n",
       "      <td>I</td>\n",
       "      <td>27.0</td>\n",
       "      <td>white</td>\n",
       "      <td>male</td>\n",
       "      <td>False</td>\n",
       "      <td>None</td>\n",
       "      <td>False</td>\n",
       "      <td>Equipment violation</td>\n",
       "      <td>2.0</td>\n",
       "    </tr>\n",
       "    <tr>\n",
       "      <th>4</th>\n",
       "      <td>2009-01-01</td>\n",
       "      <td>10:36:00</td>\n",
       "      <td>19TH/LINCOLN</td>\n",
       "      <td>37.765483</td>\n",
       "      <td>-122.477397</td>\n",
       "      <td>I</td>\n",
       "      <td>29.0</td>\n",
       "      <td>white</td>\n",
       "      <td>male</td>\n",
       "      <td>False</td>\n",
       "      <td>None</td>\n",
       "      <td>False</td>\n",
       "      <td>Equipment violation</td>\n",
       "      <td>2.0</td>\n",
       "    </tr>\n",
       "    <tr>\n",
       "      <th>7</th>\n",
       "      <td>2009-01-01</td>\n",
       "      <td>10:44:00</td>\n",
       "      <td>19TH/SANTIAGO</td>\n",
       "      <td>37.744918</td>\n",
       "      <td>-122.475846</td>\n",
       "      <td>I</td>\n",
       "      <td>29.0</td>\n",
       "      <td>white</td>\n",
       "      <td>female</td>\n",
       "      <td>False</td>\n",
       "      <td>None</td>\n",
       "      <td>False</td>\n",
       "      <td>Equipment violation</td>\n",
       "      <td>2.0</td>\n",
       "    </tr>\n",
       "    <tr>\n",
       "      <th>11</th>\n",
       "      <td>2009-01-01</td>\n",
       "      <td>10:55:00</td>\n",
       "      <td>LA SALLE @ NEWCOMB</td>\n",
       "      <td>37.733112</td>\n",
       "      <td>-122.385115</td>\n",
       "      <td>C</td>\n",
       "      <td>26.0</td>\n",
       "      <td>black</td>\n",
       "      <td>male</td>\n",
       "      <td>False</td>\n",
       "      <td>False</td>\n",
       "      <td>True</td>\n",
       "      <td>Moving violation</td>\n",
       "      <td>2.0</td>\n",
       "    </tr>\n",
       "  </tbody>\n",
       "</table>\n",
       "</div>"
      ],
      "text/plain": [
       "         date      time            location        lat         lng district  \\\n",
       "0  2009-01-01  10:10:00          1736 PALOU  37.735669 -122.393353        C   \n",
       "3  2009-01-01  10:20:00    19TH AVE/MORAGAE  37.756110 -122.476643        I   \n",
       "4  2009-01-01  10:36:00        19TH/LINCOLN  37.765483 -122.477397        I   \n",
       "7  2009-01-01  10:44:00       19TH/SANTIAGO  37.744918 -122.475846        I   \n",
       "11 2009-01-01  10:55:00  LA SALLE @ NEWCOMB  37.733112 -122.385115        C   \n",
       "\n",
       "     age   race  gender  arrested contraband_found  searched  \\\n",
       "0   22.0  black  female     False            False      True   \n",
       "3   27.0  white    male     False             None     False   \n",
       "4   29.0  white    male     False             None     False   \n",
       "7   29.0  white  female     False             None     False   \n",
       "11  26.0  black    male     False            False      True   \n",
       "\n",
       "        reason_for_stop  age_first_digit  \n",
       "0   Equipment violation              2.0  \n",
       "3   Equipment violation              2.0  \n",
       "4   Equipment violation              2.0  \n",
       "7   Equipment violation              2.0  \n",
       "11     Moving violation              2.0  "
      ]
     },
     "execution_count": 11,
     "metadata": {},
     "output_type": "execute_result"
    }
   ],
   "source": [
    "stops.query('age < 30').head()"
   ]
  },
  {
   "cell_type": "markdown",
   "metadata": {
    "tags": []
   },
   "source": [
    "### 🚀 Exercise\n",
    "\n",
    "1. Use `[]` or `query()` to filter the `stops` data to just 2015. Assign the result to a variable called `stops_2015`.\n",
    "\n",
    "2. In the previous exercise, we saw that there were a lot fewer stops in 2014 than expected. Figure out why.\n",
    "\n",
    "3. For practice, filter to stops occurring in 2013 or 2014 among female drivers less than 30 years old or more than 60 years old. "
   ]
  },
  {
   "cell_type": "code",
   "execution_count": 12,
   "metadata": {},
   "outputs": [
    {
     "name": "stdout",
     "output_type": "stream",
     "text": [
      "2014-01-01 00:00:00\n",
      "2014-05-30 00:00:00\n"
     ]
    },
    {
     "data": {
      "text/html": [
       "<div>\n",
       "<style scoped>\n",
       "    .dataframe tbody tr th:only-of-type {\n",
       "        vertical-align: middle;\n",
       "    }\n",
       "\n",
       "    .dataframe tbody tr th {\n",
       "        vertical-align: top;\n",
       "    }\n",
       "\n",
       "    .dataframe thead th {\n",
       "        text-align: right;\n",
       "    }\n",
       "</style>\n",
       "<table border=\"1\" class=\"dataframe\">\n",
       "  <thead>\n",
       "    <tr style=\"text-align: right;\">\n",
       "      <th></th>\n",
       "      <th>date</th>\n",
       "      <th>time</th>\n",
       "      <th>location</th>\n",
       "      <th>lat</th>\n",
       "      <th>lng</th>\n",
       "      <th>district</th>\n",
       "      <th>age</th>\n",
       "      <th>race</th>\n",
       "      <th>gender</th>\n",
       "      <th>arrested</th>\n",
       "      <th>contraband_found</th>\n",
       "      <th>searched</th>\n",
       "      <th>reason_for_stop</th>\n",
       "      <th>age_first_digit</th>\n",
       "      <th>yr</th>\n",
       "    </tr>\n",
       "  </thead>\n",
       "  <tbody>\n",
       "    <tr>\n",
       "      <th>396367</th>\n",
       "      <td>2013-01-01</td>\n",
       "      <td>01:02:00</td>\n",
       "      <td>17 ST / SAN BRUNO AV</td>\n",
       "      <td>37.764619</td>\n",
       "      <td>-122.405486</td>\n",
       "      <td>C</td>\n",
       "      <td>19.0</td>\n",
       "      <td>hispanic</td>\n",
       "      <td>female</td>\n",
       "      <td>False</td>\n",
       "      <td>None</td>\n",
       "      <td>False</td>\n",
       "      <td>Equipment violation</td>\n",
       "      <td>1.0</td>\n",
       "      <td>2013</td>\n",
       "    </tr>\n",
       "    <tr>\n",
       "      <th>396369</th>\n",
       "      <td>2013-01-01</td>\n",
       "      <td>10:26:00</td>\n",
       "      <td>3RD ST &amp; BANCROFT</td>\n",
       "      <td>37.726216</td>\n",
       "      <td>-122.393834</td>\n",
       "      <td>C</td>\n",
       "      <td>22.0</td>\n",
       "      <td>black</td>\n",
       "      <td>female</td>\n",
       "      <td>False</td>\n",
       "      <td>None</td>\n",
       "      <td>False</td>\n",
       "      <td>Equipment violation</td>\n",
       "      <td>2.0</td>\n",
       "      <td>2013</td>\n",
       "    </tr>\n",
       "    <tr>\n",
       "      <th>396370</th>\n",
       "      <td>2013-01-01</td>\n",
       "      <td>10:35:00</td>\n",
       "      <td>6TH ST &amp; HOWARD</td>\n",
       "      <td>37.779741</td>\n",
       "      <td>-122.407175</td>\n",
       "      <td>B</td>\n",
       "      <td>28.0</td>\n",
       "      <td>black</td>\n",
       "      <td>female</td>\n",
       "      <td>False</td>\n",
       "      <td>None</td>\n",
       "      <td>False</td>\n",
       "      <td>Equipment violation</td>\n",
       "      <td>2.0</td>\n",
       "      <td>2013</td>\n",
       "    </tr>\n",
       "    <tr>\n",
       "      <th>396375</th>\n",
       "      <td>2013-01-01</td>\n",
       "      <td>11:45:00</td>\n",
       "      <td>SUTTER &amp; STOCKTON</td>\n",
       "      <td>37.789432</td>\n",
       "      <td>-122.406993</td>\n",
       "      <td>A</td>\n",
       "      <td>22.0</td>\n",
       "      <td>white</td>\n",
       "      <td>female</td>\n",
       "      <td>False</td>\n",
       "      <td>None</td>\n",
       "      <td>False</td>\n",
       "      <td>Equipment violation</td>\n",
       "      <td>2.0</td>\n",
       "      <td>2013</td>\n",
       "    </tr>\n",
       "    <tr>\n",
       "      <th>396381</th>\n",
       "      <td>2013-01-01</td>\n",
       "      <td>12:45:00</td>\n",
       "      <td>SOUTH VANNESS &amp; MARKET</td>\n",
       "      <td>37.775122</td>\n",
       "      <td>-122.419335</td>\n",
       "      <td>B</td>\n",
       "      <td>24.0</td>\n",
       "      <td>hispanic</td>\n",
       "      <td>female</td>\n",
       "      <td>False</td>\n",
       "      <td>None</td>\n",
       "      <td>False</td>\n",
       "      <td>Equipment violation</td>\n",
       "      <td>2.0</td>\n",
       "      <td>2013</td>\n",
       "    </tr>\n",
       "  </tbody>\n",
       "</table>\n",
       "</div>"
      ],
      "text/plain": [
       "             date      time                location        lat         lng  \\\n",
       "396367 2013-01-01  01:02:00    17 ST / SAN BRUNO AV  37.764619 -122.405486   \n",
       "396369 2013-01-01  10:26:00       3RD ST & BANCROFT  37.726216 -122.393834   \n",
       "396370 2013-01-01  10:35:00         6TH ST & HOWARD  37.779741 -122.407175   \n",
       "396375 2013-01-01  11:45:00       SUTTER & STOCKTON  37.789432 -122.406993   \n",
       "396381 2013-01-01  12:45:00  SOUTH VANNESS & MARKET  37.775122 -122.419335   \n",
       "\n",
       "       district   age      race  gender  arrested contraband_found  searched  \\\n",
       "396367        C  19.0  hispanic  female     False             None     False   \n",
       "396369        C  22.0     black  female     False             None     False   \n",
       "396370        B  28.0     black  female     False             None     False   \n",
       "396375        A  22.0     white  female     False             None     False   \n",
       "396381        B  24.0  hispanic  female     False             None     False   \n",
       "\n",
       "            reason_for_stop  age_first_digit    yr  \n",
       "396367  Equipment violation              1.0  2013  \n",
       "396369  Equipment violation              2.0  2013  \n",
       "396370  Equipment violation              2.0  2013  \n",
       "396375  Equipment violation              2.0  2013  \n",
       "396381  Equipment violation              2.0  2013  "
      ]
     },
     "execution_count": 12,
     "metadata": {},
     "output_type": "execute_result"
    }
   ],
   "source": [
    "# Your code here!\n",
    "\n",
    "# START\n",
    "\n",
    "# 1.\n",
    "stops_2015 = stops_w_yr[stops_w_yr.yr==2015]\n",
    "\n",
    "# 1., alternative\n",
    "stops_2015 = stops_w_yr.query('yr==2015')\n",
    "\n",
    "# 2.\n",
    "stops_2014 = stops_w_yr.query('yr==2014')\n",
    "\n",
    "# 2014 only covers stops before May 31\n",
    "print(stops_2014.date.min())\n",
    "print(stops_2014.date.max())\n",
    "\n",
    "# 3. \n",
    "(\n",
    "    stops_w_yr\n",
    "    .query(\"\"\"\n",
    "        (yr == 2013 | yr == 2014) &\\\n",
    "        (gender == 'female') &\\\n",
    "        (age < 30 | age > 60)   \n",
    "    \"\"\")\n",
    "    .head()\n",
    ")\n",
    "# END"
   ]
  },
  {
   "cell_type": "markdown",
   "metadata": {
    "tags": []
   },
   "source": [
    "## 📝 Aggregating data with `agg()`"
   ]
  },
  {
   "cell_type": "markdown",
   "metadata": {},
   "source": [
    "What was the average, median, maximum, and minimum age of drivers in 2015?\n",
    "\n",
    "Problem: We want to aggregate the values in a column. To do this, we use `agg()`."
   ]
  },
  {
   "cell_type": "code",
   "execution_count": 13,
   "metadata": {},
   "outputs": [
    {
     "name": "stdout",
     "output_type": "stream",
     "text": [
      "38.81238545496994\n",
      "36.0\n",
      "99.0\n",
      "10.0\n"
     ]
    },
    {
     "data": {
      "text/html": [
       "<div>\n",
       "<style scoped>\n",
       "    .dataframe tbody tr th:only-of-type {\n",
       "        vertical-align: middle;\n",
       "    }\n",
       "\n",
       "    .dataframe tbody tr th {\n",
       "        vertical-align: top;\n",
       "    }\n",
       "\n",
       "    .dataframe thead th {\n",
       "        text-align: right;\n",
       "    }\n",
       "</style>\n",
       "<table border=\"1\" class=\"dataframe\">\n",
       "  <thead>\n",
       "    <tr style=\"text-align: right;\">\n",
       "      <th></th>\n",
       "      <th>age</th>\n",
       "    </tr>\n",
       "  </thead>\n",
       "  <tbody>\n",
       "    <tr>\n",
       "      <th>mean</th>\n",
       "      <td>38.812385</td>\n",
       "    </tr>\n",
       "    <tr>\n",
       "      <th>median</th>\n",
       "      <td>36.000000</td>\n",
       "    </tr>\n",
       "    <tr>\n",
       "      <th>max</th>\n",
       "      <td>99.000000</td>\n",
       "    </tr>\n",
       "    <tr>\n",
       "      <th>min</th>\n",
       "      <td>10.000000</td>\n",
       "    </tr>\n",
       "  </tbody>\n",
       "</table>\n",
       "</div>"
      ],
      "text/plain": [
       "              age\n",
       "mean    38.812385\n",
       "median  36.000000\n",
       "max     99.000000\n",
       "min     10.000000"
      ]
     },
     "execution_count": 13,
     "metadata": {},
     "output_type": "execute_result"
    }
   ],
   "source": [
    "# Old method.\n",
    "print(stops_2015.age.mean())\n",
    "print(stops_2015.age.median())\n",
    "print(stops_2015.age.max())\n",
    "print(stops_2015.age.min())\n",
    "\n",
    "# New method!\n",
    "(\n",
    "    stops_2015\n",
    "    .agg({\n",
    "        'age' : ['mean', 'median', 'max', 'min']\n",
    "    })\n",
    ")"
   ]
  },
  {
   "cell_type": "markdown",
   "metadata": {},
   "source": [
    "Neat! But, it's not groundbreaking. `agg()` really ☀️ shines ☀️ when used with `groupby()`."
   ]
  },
  {
   "cell_type": "markdown",
   "metadata": {
    "tags": []
   },
   "source": [
    "## 📝 Getting powerful with `groupby()` and `agg()`"
   ]
  },
  {
   "cell_type": "markdown",
   "metadata": {},
   "source": [
    "Here's where things get really interesting. The techniques in this section account for a **huge** chunk of most data science workflows. \n",
    "\n",
    "Suppose I'm interested in the average age of drivers in each district.\n",
    "\n",
    "> `set(l)` returns the set of unique values in a list `v`"
   ]
  },
  {
   "cell_type": "code",
   "execution_count": 14,
   "metadata": {},
   "outputs": [
    {
     "data": {
      "text/plain": [
       "{'A', 'B', 'C', 'D', 'E', 'F', 'G', 'H', 'I', 'J'}"
      ]
     },
     "execution_count": 14,
     "metadata": {},
     "output_type": "execute_result"
    }
   ],
   "source": [
    "set(stops_2015.district)"
   ]
  },
  {
   "cell_type": "markdown",
   "metadata": {},
   "source": [
    "You already have the tools to find the average age of drivers by district! \n",
    "\n",
    "Looks a little scary though..."
   ]
  },
  {
   "cell_type": "code",
   "execution_count": 15,
   "metadata": {},
   "outputs": [
    {
     "name": "stdout",
     "output_type": "stream",
     "text": [
      "39.258339510748705\n",
      "38.141873278236915\n",
      "36.60643968236702\n",
      "37.18025114155251\n",
      "38.753412969283275\n",
      "39.789667896678964\n",
      "40.831689868522815\n",
      "38.23528735632184\n",
      "39.80102989558003\n",
      "38.828421052631576\n"
     ]
    }
   ],
   "source": [
    "print(stops_2015.query('district==\"A\"').age.mean())\n",
    "print(stops_2015.query('district==\"B\"').age.mean())\n",
    "print(stops_2015.query('district==\"C\"').age.mean())\n",
    "print(stops_2015.query('district==\"D\"').age.mean())\n",
    "print(stops_2015.query('district==\"E\"').age.mean())\n",
    "print(stops_2015.query('district==\"F\"').age.mean())\n",
    "print(stops_2015.query('district==\"G\"').age.mean())\n",
    "print(stops_2015.query('district==\"H\"').age.mean())\n",
    "print(stops_2015.query('district==\"I\"').age.mean())\n",
    "print(stops_2015.query('district==\"J\"').age.mean())"
   ]
  },
  {
   "cell_type": "markdown",
   "metadata": {},
   "source": [
    "# 😓"
   ]
  },
  {
   "cell_type": "markdown",
   "metadata": {},
   "source": [
    "We now know the average age in each district, but there are some issues:\n",
    "- We had to write a lot of repeated code.\n",
    "- What if there were 100 districts? Or 1,000,000 districts?\n",
    "- The results aren't labeled. We'd have to write even more code to label the output.\n",
    "\n",
    "Here's another way to answer the question, but with less code:"
   ]
  },
  {
   "cell_type": "code",
   "execution_count": 16,
   "metadata": {},
   "outputs": [
    {
     "data": {
      "text/html": [
       "<div>\n",
       "<style scoped>\n",
       "    .dataframe tbody tr th:only-of-type {\n",
       "        vertical-align: middle;\n",
       "    }\n",
       "\n",
       "    .dataframe tbody tr th {\n",
       "        vertical-align: top;\n",
       "    }\n",
       "\n",
       "    .dataframe thead th {\n",
       "        text-align: right;\n",
       "    }\n",
       "</style>\n",
       "<table border=\"1\" class=\"dataframe\">\n",
       "  <thead>\n",
       "    <tr style=\"text-align: right;\">\n",
       "      <th></th>\n",
       "      <th>age</th>\n",
       "    </tr>\n",
       "    <tr>\n",
       "      <th>district</th>\n",
       "      <th></th>\n",
       "    </tr>\n",
       "  </thead>\n",
       "  <tbody>\n",
       "    <tr>\n",
       "      <th>A</th>\n",
       "      <td>39.258340</td>\n",
       "    </tr>\n",
       "    <tr>\n",
       "      <th>B</th>\n",
       "      <td>38.141873</td>\n",
       "    </tr>\n",
       "    <tr>\n",
       "      <th>C</th>\n",
       "      <td>36.606440</td>\n",
       "    </tr>\n",
       "    <tr>\n",
       "      <th>D</th>\n",
       "      <td>37.180251</td>\n",
       "    </tr>\n",
       "    <tr>\n",
       "      <th>E</th>\n",
       "      <td>38.753413</td>\n",
       "    </tr>\n",
       "    <tr>\n",
       "      <th>F</th>\n",
       "      <td>39.789668</td>\n",
       "    </tr>\n",
       "    <tr>\n",
       "      <th>G</th>\n",
       "      <td>40.831690</td>\n",
       "    </tr>\n",
       "    <tr>\n",
       "      <th>H</th>\n",
       "      <td>38.235287</td>\n",
       "    </tr>\n",
       "    <tr>\n",
       "      <th>I</th>\n",
       "      <td>39.801030</td>\n",
       "    </tr>\n",
       "    <tr>\n",
       "      <th>J</th>\n",
       "      <td>38.828421</td>\n",
       "    </tr>\n",
       "  </tbody>\n",
       "</table>\n",
       "</div>"
      ],
      "text/plain": [
       "                age\n",
       "district           \n",
       "A         39.258340\n",
       "B         38.141873\n",
       "C         36.606440\n",
       "D         37.180251\n",
       "E         38.753413\n",
       "F         39.789668\n",
       "G         40.831690\n",
       "H         38.235287\n",
       "I         39.801030\n",
       "J         38.828421"
      ]
     },
     "execution_count": 16,
     "metadata": {},
     "output_type": "execute_result"
    }
   ],
   "source": [
    "(\n",
    "    stops_2015\n",
    "    .groupby('district')\n",
    "    .agg({'age' : 'mean'})\n",
    ")"
   ]
  },
  {
   "cell_type": "markdown",
   "metadata": {
    "tags": []
   },
   "source": [
    "# 😮\n",
    "\n",
    "The next section will explain the magic of grouping."
   ]
  },
  {
   "cell_type": "markdown",
   "metadata": {},
   "source": [
    "### 📝 The mechanics of `groupby()`"
   ]
  },
  {
   "cell_type": "markdown",
   "metadata": {},
   "source": [
    "It's **very** common to calculate an aggregate statistic (e.g., `sum` or `mean`) for different groups (e.g., district or class year).\n",
    "\n",
    "The *split-apply-combine* paradigm handles these situations:\n",
    "- **Split** the data by group into mini-datasets\n",
    "- **Apply** a function to each mini-dataset\n",
    "- **Combine** the mini-datasets back together\n",
    "\n",
    "🖼️ A visual:"
   ]
  },
  {
   "cell_type": "markdown",
   "metadata": {},
   "source": [
    "<img src=\"img/split-apply-combine.drawio.png\" alt=\"splitapplycombine\" width=\"600\" align=\"left\"/>"
   ]
  },
  {
   "cell_type": "markdown",
   "metadata": {},
   "source": [
    "#### 📝 Splitting with `groupby`"
   ]
  },
  {
   "cell_type": "markdown",
   "metadata": {},
   "source": [
    "`groupby` handles the *splitting* step.\n",
    "\n",
    "Problem: The data isn't grouped. To split the data, we use `groupby`.\n",
    "\n",
    "🖥️ Usage: `data.groupby('column_name')`\n",
    "* `data`: the data frame\n",
    "* `column_name`: the name of the column to group by.\n",
    "\n",
    "Let's try grouping the `stops` data by district."
   ]
  },
  {
   "cell_type": "code",
   "execution_count": 17,
   "metadata": {},
   "outputs": [
    {
     "data": {
      "text/plain": [
       "<pandas.core.groupby.generic.DataFrameGroupBy object at 0x1192735e0>"
      ]
     },
     "execution_count": 17,
     "metadata": {},
     "output_type": "execute_result"
    }
   ],
   "source": [
    "stops_2015_grouped = stops_2015.groupby('district')\n",
    "\n",
    "stops_2015_grouped"
   ]
  },
  {
   "cell_type": "markdown",
   "metadata": {},
   "source": [
    "Something seems to have happened in the background?"
   ]
  },
  {
   "cell_type": "markdown",
   "metadata": {},
   "source": [
    "#### 📝 Applying and combining with `agg()`"
   ]
  },
  {
   "cell_type": "markdown",
   "metadata": {},
   "source": [
    "`agg()` *applies* an aggregating function to each mini-dataset created by `groupby`. It then *combines* the mini-datasets.\n",
    "\n",
    "We've already seen `agg()` applied to the ungrouped data'.\n",
    "\n",
    "> You can think of ungrouped data as grouped data with just one group for the entire dataset"
   ]
  },
  {
   "cell_type": "code",
   "execution_count": 18,
   "metadata": {},
   "outputs": [
    {
     "data": {
      "text/plain": [
       "age    38.812385\n",
       "dtype: float64"
      ]
     },
     "execution_count": 18,
     "metadata": {},
     "output_type": "execute_result"
    }
   ],
   "source": [
    "stops_2015.agg({'age' : 'mean'})"
   ]
  },
  {
   "cell_type": "markdown",
   "metadata": {},
   "source": [
    "Let's try `agg()` with the data grouped by district."
   ]
  },
  {
   "cell_type": "code",
   "execution_count": 19,
   "metadata": {},
   "outputs": [
    {
     "data": {
      "text/html": [
       "<div>\n",
       "<style scoped>\n",
       "    .dataframe tbody tr th:only-of-type {\n",
       "        vertical-align: middle;\n",
       "    }\n",
       "\n",
       "    .dataframe tbody tr th {\n",
       "        vertical-align: top;\n",
       "    }\n",
       "\n",
       "    .dataframe thead th {\n",
       "        text-align: right;\n",
       "    }\n",
       "</style>\n",
       "<table border=\"1\" class=\"dataframe\">\n",
       "  <thead>\n",
       "    <tr style=\"text-align: right;\">\n",
       "      <th></th>\n",
       "      <th>age</th>\n",
       "    </tr>\n",
       "    <tr>\n",
       "      <th>district</th>\n",
       "      <th></th>\n",
       "    </tr>\n",
       "  </thead>\n",
       "  <tbody>\n",
       "    <tr>\n",
       "      <th>A</th>\n",
       "      <td>39.258340</td>\n",
       "    </tr>\n",
       "    <tr>\n",
       "      <th>B</th>\n",
       "      <td>38.141873</td>\n",
       "    </tr>\n",
       "    <tr>\n",
       "      <th>C</th>\n",
       "      <td>36.606440</td>\n",
       "    </tr>\n",
       "    <tr>\n",
       "      <th>D</th>\n",
       "      <td>37.180251</td>\n",
       "    </tr>\n",
       "    <tr>\n",
       "      <th>E</th>\n",
       "      <td>38.753413</td>\n",
       "    </tr>\n",
       "    <tr>\n",
       "      <th>F</th>\n",
       "      <td>39.789668</td>\n",
       "    </tr>\n",
       "    <tr>\n",
       "      <th>G</th>\n",
       "      <td>40.831690</td>\n",
       "    </tr>\n",
       "    <tr>\n",
       "      <th>H</th>\n",
       "      <td>38.235287</td>\n",
       "    </tr>\n",
       "    <tr>\n",
       "      <th>I</th>\n",
       "      <td>39.801030</td>\n",
       "    </tr>\n",
       "    <tr>\n",
       "      <th>J</th>\n",
       "      <td>38.828421</td>\n",
       "    </tr>\n",
       "  </tbody>\n",
       "</table>\n",
       "</div>"
      ],
      "text/plain": [
       "                age\n",
       "district           \n",
       "A         39.258340\n",
       "B         38.141873\n",
       "C         36.606440\n",
       "D         37.180251\n",
       "E         38.753413\n",
       "F         39.789668\n",
       "G         40.831690\n",
       "H         38.235287\n",
       "I         39.801030\n",
       "J         38.828421"
      ]
     },
     "execution_count": 19,
     "metadata": {},
     "output_type": "execute_result"
    }
   ],
   "source": [
    "stops_2015_grouped.agg({'age' : 'mean'})"
   ]
  },
  {
   "cell_type": "markdown",
   "metadata": {},
   "source": [
    "If we want to give the aggregated columna new name, we can use a tuple: `(col_to_aggregate, aggregating_function)`"
   ]
  },
  {
   "cell_type": "code",
   "execution_count": 20,
   "metadata": {},
   "outputs": [
    {
     "data": {
      "text/html": [
       "<div>\n",
       "<style scoped>\n",
       "    .dataframe tbody tr th:only-of-type {\n",
       "        vertical-align: middle;\n",
       "    }\n",
       "\n",
       "    .dataframe tbody tr th {\n",
       "        vertical-align: top;\n",
       "    }\n",
       "\n",
       "    .dataframe thead th {\n",
       "        text-align: right;\n",
       "    }\n",
       "</style>\n",
       "<table border=\"1\" class=\"dataframe\">\n",
       "  <thead>\n",
       "    <tr style=\"text-align: right;\">\n",
       "      <th></th>\n",
       "      <th>mean_age</th>\n",
       "    </tr>\n",
       "    <tr>\n",
       "      <th>district</th>\n",
       "      <th></th>\n",
       "    </tr>\n",
       "  </thead>\n",
       "  <tbody>\n",
       "    <tr>\n",
       "      <th>A</th>\n",
       "      <td>39.258340</td>\n",
       "    </tr>\n",
       "    <tr>\n",
       "      <th>B</th>\n",
       "      <td>38.141873</td>\n",
       "    </tr>\n",
       "    <tr>\n",
       "      <th>C</th>\n",
       "      <td>36.606440</td>\n",
       "    </tr>\n",
       "    <tr>\n",
       "      <th>D</th>\n",
       "      <td>37.180251</td>\n",
       "    </tr>\n",
       "    <tr>\n",
       "      <th>E</th>\n",
       "      <td>38.753413</td>\n",
       "    </tr>\n",
       "    <tr>\n",
       "      <th>F</th>\n",
       "      <td>39.789668</td>\n",
       "    </tr>\n",
       "    <tr>\n",
       "      <th>G</th>\n",
       "      <td>40.831690</td>\n",
       "    </tr>\n",
       "    <tr>\n",
       "      <th>H</th>\n",
       "      <td>38.235287</td>\n",
       "    </tr>\n",
       "    <tr>\n",
       "      <th>I</th>\n",
       "      <td>39.801030</td>\n",
       "    </tr>\n",
       "    <tr>\n",
       "      <th>J</th>\n",
       "      <td>38.828421</td>\n",
       "    </tr>\n",
       "  </tbody>\n",
       "</table>\n",
       "</div>"
      ],
      "text/plain": [
       "           mean_age\n",
       "district           \n",
       "A         39.258340\n",
       "B         38.141873\n",
       "C         36.606440\n",
       "D         37.180251\n",
       "E         38.753413\n",
       "F         39.789668\n",
       "G         40.831690\n",
       "H         38.235287\n",
       "I         39.801030\n",
       "J         38.828421"
      ]
     },
     "execution_count": 20,
     "metadata": {},
     "output_type": "execute_result"
    }
   ],
   "source": [
    "stops_2015_grouped.agg(mean_age = ('age', 'mean'))"
   ]
  },
  {
   "cell_type": "markdown",
   "metadata": {
    "tags": []
   },
   "source": [
    "### 🚀 Exercise\n",
    "\n",
    "1. Use `groupby()` and `agg()` to calculate, by district, (1) the number of stops, (2) the proportion of stops that resulted in a search, and (3) the proportion of **searches** (not stops) that resulted in an arrest. What can you conclude from the results?\n",
    "\n",
    "> You might find the `count` aggregating function useful.\n",
    "\n",
    "2. Redo part 1, but group by race instead of district. What do you conclude from the result?\n",
    "\n",
    "3. Redo part 1, but group by district **and** race. What is your interpretation of the results?\n",
    "\n",
    "> You can pass a list of columns to `groupby()` to group by multiple columns."
   ]
  },
  {
   "cell_type": "code",
   "execution_count": 21,
   "metadata": {},
   "outputs": [
    {
     "name": "stdout",
     "output_type": "stream",
     "text": [
      "          n_stops  n_searches  n_arrests  search_rate  arrest_rate\n",
      "district                                                          \n",
      "A            8098         185         65     0.022845     0.351351\n",
      "B            7988         343        107     0.042939     0.311953\n",
      "C            9199        1163        183     0.126427     0.157352\n",
      "D            8760         584        149     0.066667     0.255137\n",
      "E            5862         393         85     0.067042     0.216285\n",
      "F            7049         102         48     0.014470     0.470588\n",
      "G           10345         119         45     0.011503     0.378151\n",
      "H            8702         569        105     0.065387     0.184534\n",
      "I           13983         214         66     0.015304     0.308411\n",
      "J            5703         515         84     0.090303     0.163107\n",
      "                        n_stops  n_searches  n_arrests  search_rate  \\\n",
      "race                                                                  \n",
      "asian/pacific islander    15498         194         62     0.012518   \n",
      "black                     14955        2341        364     0.156536   \n",
      "hispanic                  11911         760        201     0.063807   \n",
      "other                     13560         233         77     0.017183   \n",
      "white                     29765         659        233     0.022140   \n",
      "\n",
      "                        arrest_rate  \n",
      "race                                 \n",
      "asian/pacific islander     0.319588  \n",
      "black                      0.155489  \n",
      "hispanic                   0.264474  \n",
      "other                      0.330472  \n",
      "white                      0.353566  \n",
      "                                 n_stops  n_searches  n_arrests  search_rate  \\\n",
      "district race                                                                  \n",
      "A        asian/pacific islander     1479          17          7     0.011494   \n",
      "         black                      1088          79         20     0.072610   \n",
      "         hispanic                    888          32          8     0.036036   \n",
      "         other                      1821          24         13     0.013180   \n",
      "         white                      2822          33         17     0.011694   \n",
      "B        asian/pacific islander     1100          14         10     0.012727   \n",
      "         black                      1315         153         27     0.116350   \n",
      "         hispanic                   1064          52         20     0.048872   \n",
      "         other                      1432          31         10     0.021648   \n",
      "         white                      3077          93         40     0.030224   \n",
      "C        asian/pacific islander     1204          15          2     0.012458   \n",
      "         black                      4370         940        129     0.215103   \n",
      "         hispanic                   1626         100         28     0.061501   \n",
      "         other                       598          45          7     0.075251   \n",
      "         white                      1401          63         17     0.044968   \n",
      "D        asian/pacific islander      781          13          6     0.016645   \n",
      "         black                      1558         259         49     0.166239   \n",
      "         hispanic                   2347         207         52     0.088198   \n",
      "         other                       979          19          7     0.019408   \n",
      "         white                      3095          86         35     0.027787   \n",
      "E        asian/pacific islander      742          14          5     0.018868   \n",
      "         black                      1179         233         34     0.197625   \n",
      "         hispanic                    633          42         11     0.066351   \n",
      "         other                       807          21          7     0.026022   \n",
      "         white                      2501          83         28     0.033187   \n",
      "F        asian/pacific islander     1196          10          4     0.008361   \n",
      "         black                       611          24          9     0.039280   \n",
      "         hispanic                    647          13          6     0.020093   \n",
      "         other                       777           5          7     0.006435   \n",
      "         white                      3818          50         22     0.013096   \n",
      "G        asian/pacific islander     1701          16          6     0.009406   \n",
      "         black                       613          38          6     0.061990   \n",
      "         hispanic                    564          17          8     0.030142   \n",
      "         other                      3831           7          5     0.001827   \n",
      "         white                      3636          41         20     0.011276   \n",
      "H        asian/pacific islander     1755          41         12     0.023362   \n",
      "         black                      1247         198         24     0.158781   \n",
      "         hispanic                   2444         223         42     0.091244   \n",
      "         other                       862          41          9     0.047564   \n",
      "         white                      2394          66         18     0.027569   \n",
      "I        asian/pacific islander     4970          36          7     0.007243   \n",
      "         black                       910          64         17     0.070330   \n",
      "         hispanic                   1051          23         13     0.021884   \n",
      "         other                      1680          17          8     0.010119   \n",
      "         white                      5372          74         21     0.013775   \n",
      "J        asian/pacific islander      570          18          3     0.031579   \n",
      "         black                      2064         353         49     0.171027   \n",
      "         hispanic                    647          51         13     0.078825   \n",
      "         other                       773          23          4     0.029754   \n",
      "         white                      1649          70         15     0.042450   \n",
      "\n",
      "                                 arrest_rate  \n",
      "district race                                 \n",
      "A        asian/pacific islander     0.411765  \n",
      "         black                      0.253165  \n",
      "         hispanic                   0.250000  \n",
      "         other                      0.541667  \n",
      "         white                      0.515152  \n",
      "B        asian/pacific islander     0.714286  \n",
      "         black                      0.176471  \n",
      "         hispanic                   0.384615  \n",
      "         other                      0.322581  \n",
      "         white                      0.430108  \n",
      "C        asian/pacific islander     0.133333  \n",
      "         black                      0.137234  \n",
      "         hispanic                   0.280000  \n",
      "         other                      0.155556  \n",
      "         white                      0.269841  \n",
      "D        asian/pacific islander     0.461538  \n",
      "         black                      0.189189  \n",
      "         hispanic                   0.251208  \n",
      "         other                      0.368421  \n",
      "         white                      0.406977  \n",
      "E        asian/pacific islander     0.357143  \n",
      "         black                      0.145923  \n",
      "         hispanic                   0.261905  \n",
      "         other                      0.333333  \n",
      "         white                      0.337349  \n",
      "F        asian/pacific islander     0.400000  \n",
      "         black                      0.375000  \n",
      "         hispanic                   0.461538  \n",
      "         other                      1.400000  \n",
      "         white                      0.440000  \n",
      "G        asian/pacific islander     0.375000  \n",
      "         black                      0.157895  \n",
      "         hispanic                   0.470588  \n",
      "         other                      0.714286  \n",
      "         white                      0.487805  \n",
      "H        asian/pacific islander     0.292683  \n",
      "         black                      0.121212  \n",
      "         hispanic                   0.188341  \n",
      "         other                      0.219512  \n",
      "         white                      0.272727  \n",
      "I        asian/pacific islander     0.194444  \n",
      "         black                      0.265625  \n",
      "         hispanic                   0.565217  \n",
      "         other                      0.470588  \n",
      "         white                      0.283784  \n",
      "J        asian/pacific islander     0.166667  \n",
      "         black                      0.138810  \n",
      "         hispanic                   0.254902  \n",
      "         other                      0.173913  \n",
      "         white                      0.214286  \n"
     ]
    }
   ],
   "source": [
    "# Your code here!\n",
    "\n",
    "# START\n",
    "\n",
    "# 1.\n",
    "# Search and arrest rates differ by district.\n",
    "# Districts with higher search rates tend to have lower arrest rates,\n",
    "# and vice-versa. \n",
    "print(\n",
    "    stops_2015\n",
    "    .groupby('district')\n",
    "    .agg(\n",
    "        n_stops = ('district', 'count'),\n",
    "        \n",
    "        n_searches = ('searched', 'sum'),\n",
    "        \n",
    "        n_arrests = ('arrested', 'sum'),\n",
    "    )\n",
    "    .assign(\n",
    "        search_rate = lambda df: df.n_searches/df.n_stops,\n",
    "        arrest_rate = lambda df: df.n_arrests/df.n_searches\n",
    "    )\n",
    ")\n",
    "\n",
    "# 2.\n",
    "# Search rates for Black and Hispanic drivers are higher than drivers of \n",
    "# other race/ethnicity groups. However, the arrest rates for Black and Hispanic\n",
    "# drivers are lower than other race/ethnicities. Perhaps the search threshold\n",
    "# for Black and Hispanic drivers is lower, so the Black and Hispanic drivers\n",
    "# who are stopped are less \"risky\"?\n",
    "print(\n",
    "    stops_2015\n",
    "    .groupby('race')\n",
    "    .agg(\n",
    "        n_stops = ('district', 'count'),\n",
    "        \n",
    "        n_searches = ('searched', 'sum'),\n",
    "        \n",
    "        n_arrests = ('arrested', 'sum'),\n",
    "    )\n",
    "    .assign(\n",
    "        search_rate = lambda df: df.n_searches/df.n_stops,\n",
    "        arrest_rate = lambda df: df.n_arrests/df.n_searches\n",
    "    )\n",
    ")\n",
    "\n",
    "# # 3.\n",
    "# # The output is quite long, but it looks like the gaps in search and arrest\n",
    "# # rates for Black and Hispanic drivers persist across districts, though\n",
    "# # the gaps differ in size across districts.\n",
    "# # A plot might help us digest these results more easily.\n",
    "print(\n",
    "    stops_2015\n",
    "    .groupby(['district', 'race'])\n",
    "    .agg(\n",
    "        n_stops = ('district', 'count'),\n",
    "        \n",
    "        n_searches = ('searched', 'sum'),\n",
    "        \n",
    "        n_arrests = ('arrested', 'sum'),\n",
    "    )\n",
    "    .assign(\n",
    "        search_rate = lambda df: df.n_searches/df.n_stops,\n",
    "        arrest_rate = lambda df: df.n_arrests/df.n_searches\n",
    "    )\n",
    ")\n",
    "\n",
    "# END"
   ]
  },
  {
   "cell_type": "markdown",
   "metadata": {},
   "source": [
    "## Concluding remarks"
   ]
  },
  {
   "cell_type": "markdown",
   "metadata": {},
   "source": [
    "The method used in the final exercise is called an **outcome test**. Someone actually won a Nobel Prize for this kind of work! \n",
    "\n",
    "Here's what we'll do in Part 2:\n",
    "- Use 📊plots📈 to reduce the cognitive burden of reading long tables.\n",
    "- Learn how to combine data from multiple sources\n",
    "- Dig deeper into our results. Can we say anything about racial/ethnic discrimination based on our results? What additional tests can we conduct? How can we clearly present our findings?\n"
   ]
  }
 ],
 "metadata": {
  "kernelspec": {
   "display_name": "Python 3 (ipykernel)",
   "language": "python",
   "name": "python3"
  },
  "language_info": {
   "codemirror_mode": {
    "name": "ipython",
    "version": 3
   },
   "file_extension": ".py",
   "mimetype": "text/x-python",
   "name": "python",
   "nbconvert_exporter": "python",
   "pygments_lexer": "ipython3",
   "version": "3.9.12"
  }
 },
 "nbformat": 4,
 "nbformat_minor": 4
}
