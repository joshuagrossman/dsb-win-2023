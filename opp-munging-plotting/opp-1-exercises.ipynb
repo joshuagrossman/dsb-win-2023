{
 "cells": [
  {
   "cell_type": "markdown",
   "metadata": {},
   "source": [
    "# 🚘 Analyzing SF traffic stops with `R`: Part 1"
   ]
  },
  {
   "cell_type": "markdown",
   "metadata": {},
   "source": [
    "<img src=\"img/sf-traffic.jpg\" alt=\"traffic\" width=\"600\" align=\"left\"/>"
   ]
  },
  {
   "cell_type": "markdown",
   "metadata": {},
   "source": [
    "## Introduction\n",
    "\n",
    "In this series of tutorials, we'll use `R` to explore traffic stops in San Francisco (SF). In particular, we'll investigate whether there is evidence of racial discrimination in SF's policing practices. \n",
    "\n",
    "> **Important note**: Policing can be a sensitive subject. It's important to remember that each row in our data represents a real interaction between a police officer and driver. Please keep this in mind as you work through the tutorial, and be sure to engage with the material to the extent you're comfortable. \n",
    "\n",
    "By the end of the tutorials, you'll have foundational understanding of the following:\n",
    "1. 📊 How to use `R` to explore tabular data and calculate descriptive statistics. \n",
    "2. 📈 How to make an informative plot with `R`\n",
    "2. ⚖️ How to approach questions about social policy with data. \n",
    "\n",
    "Let's get started!"
   ]
  },
  {
   "cell_type": "markdown",
   "metadata": {},
   "source": [
    "## ✅ Set up\n",
    "\n",
    "While the core `R` language contains many useful functions (e.g., `sum` and `sample`), there is vast functionality built on top of `R` by community members.\n",
    "\n",
    "Make sure to run the cell below. It imports additional useful functions, adjusts `R` settings, and loads in data. "
   ]
  },
  {
   "cell_type": "code",
   "execution_count": 1,
   "metadata": {},
   "outputs": [
    {
     "name": "stderr",
     "output_type": "stream",
     "text": [
      "── \u001b[1mAttaching packages\u001b[22m ──────────────────────────── tidyverse 1.3.2 ──\n",
      "\u001b[32m✔\u001b[39m \u001b[34mggplot2\u001b[39m 3.3.6     \u001b[32m✔\u001b[39m \u001b[34mpurrr  \u001b[39m 0.3.4\n",
      "\u001b[32m✔\u001b[39m \u001b[34mtibble \u001b[39m 3.1.8     \u001b[32m✔\u001b[39m \u001b[34mdplyr  \u001b[39m 1.0.9\n",
      "\u001b[32m✔\u001b[39m \u001b[34mtidyr  \u001b[39m 1.2.0     \u001b[32m✔\u001b[39m \u001b[34mstringr\u001b[39m 1.4.1\n",
      "\u001b[32m✔\u001b[39m \u001b[34mreadr  \u001b[39m 2.1.2     \u001b[32m✔\u001b[39m \u001b[34mforcats\u001b[39m 0.5.2\n",
      "── \u001b[1mConflicts\u001b[22m ─────────────────────────────── tidyverse_conflicts() ──\n",
      "\u001b[31m✖\u001b[39m \u001b[34mdplyr\u001b[39m::\u001b[32mfilter()\u001b[39m masks \u001b[34mstats\u001b[39m::filter()\n",
      "\u001b[31m✖\u001b[39m \u001b[34mdplyr\u001b[39m::\u001b[32mlag()\u001b[39m    masks \u001b[34mstats\u001b[39m::lag()\n",
      "\n",
      "Attaching package: ‘lubridate’\n",
      "\n",
      "\n",
      "The following objects are masked from ‘package:base’:\n",
      "\n",
      "    date, intersect, setdiff, union\n",
      "\n",
      "\n"
     ]
    }
   ],
   "source": [
    "# Load in additional functions\n",
    "library(tidyverse)\n",
    "library(lubridate)\n",
    "\n",
    "# Use three digits past the decimal point\n",
    "options(digits = 3)\n",
    "\n",
    "# This makes our plots look nice!\n",
    "theme_set(theme_bw())\n",
    "\n",
    "# This is where the data is stored.\n",
    "STOPS_PATH = \"https://github.com/joshuagrossman/dsb-win-2023/raw/main/opp-munging-plotting/data/sf_stop_data.rds\"\n",
    "\n",
    "# Read in the data\n",
    "stops <- read_rds(STOPS_PATH)"
   ]
  },
  {
   "cell_type": "markdown",
   "metadata": {},
   "source": [
    "### 🖼️ The data frame\n",
    "\n",
    "Data frames are like spreadsheets in Microsft Excel or Google Sheets: they have rows and columns, and each cell in the spreadsheet contains data.\n",
    "\n",
    "Run the cell below to preview the `stops` data. What do you notice?\n",
    "\n",
    "> 🔎 The `head` function allows us to see the first couple rows of a dataframe."
   ]
  },
  {
   "cell_type": "code",
   "execution_count": null,
   "metadata": {},
   "outputs": [],
   "source": [
    "head(stops)"
   ]
  },
  {
   "cell_type": "markdown",
   "metadata": {},
   "source": [
    "⬆️ From the preview above, we might guess that each row in the `stops` dataframe represents a stop, and each column contains information about each stop.\n",
    "\n",
    "> This guess is correct!\n",
    "\n",
    "### 💭 Asking questions about the data\n",
    "\n",
    "As an analyst, you might start with some basic questions:\n",
    "\n",
    "1. How many stops (i.e., rows) are in the `stops` data?\n",
    "2. What do we know about each stop?\n",
    "3. When was the earliest stop?\n",
    "4. What were the most commons reasons for stops?\n",
    "5. Who is most likely to get stopped?\n",
    "\n",
    "Let's start with the first question: how many rows are in the `stops` data?"
   ]
  },
  {
   "cell_type": "code",
   "execution_count": null,
   "metadata": {},
   "outputs": [],
   "source": [
    "nrow(stops)"
   ]
  },
  {
   "cell_type": "markdown",
   "metadata": {},
   "source": [
    "Looks like we have information on approximately 640,000 stops.\n",
    "\n",
    "What do we know about each stop?"
   ]
  },
  {
   "cell_type": "code",
   "execution_count": null,
   "metadata": {},
   "outputs": [],
   "source": [
    "colnames(stops)"
   ]
  },
  {
   "cell_type": "markdown",
   "metadata": {},
   "source": [
    "It looks like we have the basics of each stop: time, location, demographics, and outcomes."
   ]
  },
  {
   "cell_type": "markdown",
   "metadata": {},
   "source": [
    "## 🚀 Exercise: Stop dates\n",
    "\n",
    "When did the traffic stops in the `stops` data occur? \n",
    "\n",
    "Use the `date` column in the `stops` data to get a sense of when stops typically occur. Write a comment explaining your results. \n",
    "\n",
    "A few pointers:\n",
    "\n",
    "> 💵 To extract a column from a data frame, use the `$` symbol. To retrieve column `age` from data frame `df`, we write `df$age`.\n",
    "\n",
    "> You may find the following functions helpful: `sample`, `min`, `max`, `range`, and `print`. You can learn more about a function `f` by running `?f`."
   ]
  },
  {
   "cell_type": "code",
   "execution_count": null,
   "metadata": {},
   "outputs": [],
   "source": [
    "## Your code here!\n",
    "\n"
   ]
  },
  {
   "cell_type": "markdown",
   "metadata": {},
   "source": [
    "## 🚰 The pipe: `%>%`\n",
    "\n",
    "Both of these lines of code do exactly the same thing:"
   ]
  },
  {
   "cell_type": "code",
   "execution_count": null,
   "metadata": {},
   "outputs": [],
   "source": [
    "# Method 1\n",
    "print(nrow(stops))\n",
    "\n",
    "# Method 2\n",
    "stops %>% \n",
    "    nrow() %>%\n",
    "    print()"
   ]
  },
  {
   "cell_type": "markdown",
   "metadata": {},
   "source": [
    "Why should we care? Read on to find out!\n",
    "\n",
    "### The math of the pipe `%>%`\n",
    "\n",
    "To process a dataset, we may have to use several functions. For example, we may want to use function `a`, then function `b`, and finally function `c`:\n",
    "\n",
    "```\n",
    "c(b(a(data)))\n",
    "```\n",
    "\n",
    "To understand what this code is doing, we have to read the code ⏪inside out⏩: we start with `a`, then apply `b`, then apply `c`. \n",
    "\n",
    "🙀 If we start adding more functions, things gets messy:\n",
    "\n",
    "```\n",
    "f(e(d(c(b(a(data))))))\n",
    "```\n",
    "\n",
    "\n",
    "The pipe `%>%` allows us to turn our code inside out. This makes our code read more like a sentence:\n",
    "\n",
    "```\n",
    "# do a(), then b(), then c(), then d(), then e(), then f()\n",
    "\n",
    "data %>% a() %>% b() %>% c() %>% d() %>% e() %>% f()\n",
    "```\n",
    "\n",
    "More readably:\n",
    "\n",
    "```\n",
    "data %>%\n",
    "    a() %>%\n",
    "    b() %>%\n",
    "    c() %>%\n",
    "    d() %>%\n",
    "    e() %>%\n",
    "    f()\n",
    "```\n",
    "\n",
    "The pipe pushes (i.e., pipes!) what's on the left of the pipe `%>%` into the first argument of the function on the right:\n",
    "\n",
    "```\n",
    "x %>% f() == f(x)\n",
    "x %>% f(y) == f(x, y)\n",
    "x %>% f(y, z) == f(x, y, z)\n",
    "```\n",
    "\n",
    "The pipe `%>%` really ☀️shines☀️ when you have a lot of steps! "
   ]
  },
  {
   "cell_type": "markdown",
   "metadata": {},
   "source": [
    "## 📝 Adding new columns with `mutate`\n",
    "\n",
    "Our data extends from 2009 to the first half of 2016. Suppose want to examine the most recent full year of data: 2015.\n",
    "\n",
    "Problem: We don't have a `year` column. To add new columns, we use `mutate`."
   ]
  },
  {
   "cell_type": "markdown",
   "metadata": {},
   "source": [
    "🖥️ Usage: `mutate(data, new_col = f(existing_col))`\n",
    "* `data`: the data frame\n",
    "* `new_col`: name of the new column to add\n",
    "* `f`: function to apply to existing column(s) to generate the new column\n",
    "* `existing_col`: name of existing column\n",
    "\n",
    "For example, here's how we could add a column to `stops` containing the first digit of the driver's age."
   ]
  },
  {
   "cell_type": "code",
   "execution_count": null,
   "metadata": {},
   "outputs": [],
   "source": [
    "stops %>%\n",
    "    mutate(age_first_digit = round(age/10)) %>%\n",
    "    head()"
   ]
  },
  {
   "cell_type": "markdown",
   "metadata": {},
   "source": [
    "❗❗❗Important note❗❗❗: Most `R` functions are \"copy on modify\". In other words, when we apply a function to data, `R` creates a copy of the data and then modifies the copy. The original data is unchanged.\n",
    "\n",
    "So, `mutate` alone will not change the original data. "
   ]
  },
  {
   "cell_type": "markdown",
   "metadata": {
    "tags": []
   },
   "source": [
    "### 🚀 Exercise\n",
    "\n",
    "1. Use `year()` and `mutate()` to add a new column called `yr` to our `stops` data. \n",
    "\n",
    "> You can read about the `year()` function by running `?year`.\n",
    "\n",
    "2. Assign the resulting data frame to a new variable called `stops_w_yr`. \n",
    " \n",
    "3. Finally, run `count(stops_w_yr, yr)`. \n",
    "\n",
    "> What do you think `count` does? Do you notice any patterns?"
   ]
  },
  {
   "cell_type": "code",
   "execution_count": null,
   "metadata": {},
   "outputs": [],
   "source": [
    "# Your code here!\n",
    "\n"
   ]
  },
  {
   "cell_type": "markdown",
   "metadata": {},
   "source": [
    "## 📝 Selecting rows with `filter`\n",
    "\n",
    "Now that we have a `yr` column, we want to limit our data to just the stops in 2015.\n",
    "\n",
    "Problem: We have data from 2009 to 2016. To limit to specific rows, we use `filter`."
   ]
  },
  {
   "cell_type": "markdown",
   "metadata": {},
   "source": [
    "🖥️ Usage: `filter(data, condition)`\n",
    "* `data`: the data frame\n",
    "* `condition`: a boolean vector where TRUE indicates the rows in `data` to keep.\n",
    "\n",
    "For example, here's how we could limit `stops` to drivers under 30 years old:"
   ]
  },
  {
   "cell_type": "code",
   "execution_count": null,
   "metadata": {},
   "outputs": [],
   "source": [
    "stops %>%\n",
    "    filter(age < 30) %>%\n",
    "    head()"
   ]
  },
  {
   "cell_type": "markdown",
   "metadata": {
    "tags": []
   },
   "source": [
    "### 🚀 Exercise\n",
    "\n",
    "1. Use `filter()` to filter the `stops` data to just 2015. Assign the result to a variable called `stops_2015`.\n",
    "\n",
    "2. In the previous exercise, we saw that there were a lot fewer stops in 2014 than expected. Figure out why.\n",
    "\n",
    "3. For practice, filter to stops occurring in 2013 or 2014 among female drivers less than 30 years old or more than 60 years old. "
   ]
  },
  {
   "cell_type": "code",
   "execution_count": null,
   "metadata": {},
   "outputs": [],
   "source": [
    "# Your code here!\n",
    "\n"
   ]
  },
  {
   "cell_type": "markdown",
   "metadata": {
    "tags": []
   },
   "source": [
    "## 📝 Aggregating data with `summarize()`"
   ]
  },
  {
   "cell_type": "markdown",
   "metadata": {},
   "source": [
    "What was the average, median, maximum, and minimum age of drivers in 2015?\n",
    "\n",
    "Problem: We want to aggregate the values in a column. To do this, we use `summarize()`."
   ]
  },
  {
   "cell_type": "code",
   "execution_count": null,
   "metadata": {},
   "outputs": [],
   "source": [
    "# Old method.\n",
    "mean(stops_2015$age)\n",
    "median(stops_2015$age)\n",
    "max(stops_2015$age)\n",
    "min(stops_2015$age)\n",
    "\n",
    "# New method!\n",
    "stops_2015 %>%\n",
    "    summarize(\n",
    "        mean_age = mean(age),\n",
    "        median_age = median(age),\n",
    "        max_age = max(age),\n",
    "        min_age = min(age)\n",
    "    )"
   ]
  },
  {
   "cell_type": "markdown",
   "metadata": {},
   "source": [
    "😱 Uh oh. By default, `R` will return `NA` for aggregating functions if at least one element is `NA` (i.e., missing).\n",
    "\n",
    "> The `na.rm=TRUE` argument will remove (`rm`) all `NA` values."
   ]
  },
  {
   "cell_type": "code",
   "execution_count": null,
   "metadata": {},
   "outputs": [],
   "source": [
    "mean(c(1, 2, 3, 4, NA))\n",
    "mean(c(1, 2, 3, 4, NA), na.rm=TRUE)"
   ]
  },
  {
   "cell_type": "markdown",
   "metadata": {},
   "source": [
    "🔄 Let's try things one more time:"
   ]
  },
  {
   "cell_type": "code",
   "execution_count": null,
   "metadata": {},
   "outputs": [],
   "source": [
    "# Old method.\n",
    "mean(stops_2015$age, na.rm=TRUE)\n",
    "median(stops_2015$age, na.rm=TRUE)\n",
    "max(stops_2015$age, na.rm=TRUE)\n",
    "min(stops_2015$age, na.rm=TRUE)\n",
    "\n",
    "# New method!\n",
    "stops_2015 %>%\n",
    "    summarize(\n",
    "        mean_age = mean(age, na.rm=TRUE),\n",
    "        median_age = median(age, na.rm=TRUE),\n",
    "        max_age = max(age, na.rm=TRUE),\n",
    "        min_age = min(age, na.rm=TRUE)\n",
    "    )"
   ]
  },
  {
   "cell_type": "markdown",
   "metadata": {},
   "source": [
    "Neat! But, it's not groundbreaking. `summarize()` really ☀️ shines ☀️ when used with `group_by()`."
   ]
  },
  {
   "cell_type": "markdown",
   "metadata": {
    "tags": []
   },
   "source": [
    "## 📝 Getting powerful with `group_by()` and `summarize()`"
   ]
  },
  {
   "cell_type": "markdown",
   "metadata": {},
   "source": [
    "Here's where things get really interesting. The techniques in this section account for a **huge** chunk of most data science workflows. \n",
    "\n",
    "Suppose I'm interested in the average age of drivers in each district.\n",
    "\n",
    "> `unique(v)` returns the set of unique values in a vector `v`\n",
    "\n",
    "> `sort(v)` sorts a vector `v` in numeric or alphabetical order."
   ]
  },
  {
   "cell_type": "code",
   "execution_count": null,
   "metadata": {},
   "outputs": [],
   "source": [
    "sort(unique(stops_2015$district))\n",
    "\n",
    "# Alternatively\n",
    "stops_2015$district %>% unique %>% sort"
   ]
  },
  {
   "cell_type": "markdown",
   "metadata": {},
   "source": [
    "You already have the tools to find the average age of drivers by district! \n",
    "\n",
    "Looks a little scary though..."
   ]
  },
  {
   "cell_type": "code",
   "execution_count": null,
   "metadata": {},
   "outputs": [],
   "source": [
    "stops_2015 %>% filter(district=='A') %>% pull(age) %>% mean(na.rm=TRUE)\n",
    "stops_2015 %>% filter(district=='B') %>% pull(age) %>% mean(na.rm=TRUE)\n",
    "stops_2015 %>% filter(district=='C') %>% pull(age) %>% mean(na.rm=TRUE)\n",
    "stops_2015 %>% filter(district=='D') %>% pull(age) %>% mean(na.rm=TRUE)\n",
    "stops_2015 %>% filter(district=='E') %>% pull(age) %>% mean(na.rm=TRUE)\n",
    "stops_2015 %>% filter(district=='F') %>% pull(age) %>% mean(na.rm=TRUE)\n",
    "stops_2015 %>% filter(district=='G') %>% pull(age) %>% mean(na.rm=TRUE)\n",
    "stops_2015 %>% filter(district=='H') %>% pull(age) %>% mean(na.rm=TRUE)\n",
    "stops_2015 %>% filter(district=='I') %>% pull(age) %>% mean(na.rm=TRUE)\n",
    "stops_2015 %>% filter(district=='J') %>% pull(age) %>% mean(na.rm=TRUE)"
   ]
  },
  {
   "cell_type": "markdown",
   "metadata": {},
   "source": [
    "# 😓"
   ]
  },
  {
   "cell_type": "markdown",
   "metadata": {},
   "source": [
    "We now know the average age in each district, but there are some issues:\n",
    "- We had to write a lot of repeated code.\n",
    "- What if there were 100 districts? Or 1,000,000 districts?\n",
    "- The results aren't labeled. We'd have to write even more code to label the output.\n",
    "\n",
    "Here's another way to answer the question, but with less code:"
   ]
  },
  {
   "cell_type": "code",
   "execution_count": null,
   "metadata": {},
   "outputs": [],
   "source": [
    "stops_2015 %>%\n",
    "    group_by(district) %>%\n",
    "    summarize(avg_age = mean(age, na.rm=TRUE))"
   ]
  },
  {
   "cell_type": "markdown",
   "metadata": {
    "tags": []
   },
   "source": [
    "# 😮\n",
    "\n",
    "The next section will explain the magic of grouping."
   ]
  },
  {
   "cell_type": "markdown",
   "metadata": {},
   "source": [
    "### 📝 The mechanics of `group_by()`"
   ]
  },
  {
   "cell_type": "markdown",
   "metadata": {},
   "source": [
    "It's **very** common to calculate an aggregate statistic (e.g., `sum` or `mean`) for different groups (e.g., district or class year).\n",
    "\n",
    "The *split-apply-combine* paradigm handles these situations:\n",
    "- **Split** the data by group into mini-datasets\n",
    "- **Apply** a function to each mini-dataset\n",
    "- **Combine** the mini-datasets back together\n",
    "\n",
    "🖼️ A visual:"
   ]
  },
  {
   "cell_type": "markdown",
   "metadata": {},
   "source": [
    "<img src=\"img/split-apply-combine.drawio.png\" alt=\"splitapplycombine\" width=\"600\" align=\"left\"/>"
   ]
  },
  {
   "cell_type": "markdown",
   "metadata": {},
   "source": [
    "#### 📝 Splitting with `group_by`"
   ]
  },
  {
   "cell_type": "markdown",
   "metadata": {},
   "source": [
    "`group_by` handles the *splitting* step.\n",
    "\n",
    "Problem: The data isn't grouped. To split the data, we use `group_by`.\n",
    "\n",
    "🖥️ Usage: `group_by(data, column)`\n",
    "* `data`: the data frame\n",
    "* `column`: the name of the column to group by.\n",
    "\n",
    "Let's try grouping the `stops` data by district."
   ]
  },
  {
   "cell_type": "code",
   "execution_count": null,
   "metadata": {},
   "outputs": [],
   "source": [
    "stops_2015_grouped = stops_2015 %>%\n",
    "    group_by(district)\n",
    "\n",
    "head(stops_2015_grouped)"
   ]
  },
  {
   "cell_type": "markdown",
   "metadata": {},
   "source": [
    "Wait a second. This looks exactly the same as the regular data:"
   ]
  },
  {
   "cell_type": "code",
   "execution_count": null,
   "metadata": {},
   "outputs": [],
   "source": [
    "head(stops_2015)"
   ]
  },
  {
   "cell_type": "markdown",
   "metadata": {},
   "source": [
    "❗❗Important note❗❗: `group_by` doesn't actually change the underlying data. It invisibly groups the data in the background.\n",
    "\n",
    "> There is a subtle indication that the data is grouped. If you look at the top of the grouped data frame, you'll see `A grouped_df`. At the top of the ungrouped data, you'll see `A tibble`.\n",
    "\n",
    "> A *tibble* is a data frame with some extra features."
   ]
  },
  {
   "cell_type": "markdown",
   "metadata": {},
   "source": [
    "#### 📝 Applying and combining with `summarize()`"
   ]
  },
  {
   "cell_type": "markdown",
   "metadata": {},
   "source": [
    "`summarize()` *applies* an aggregating function to each mini-dataset. It then *combines* the mini-datasets.\n",
    "\n",
    "We've already seen `summarize()` in action:"
   ]
  },
  {
   "cell_type": "code",
   "execution_count": null,
   "metadata": {},
   "outputs": [],
   "source": [
    "stops_2015 %>%\n",
    "    summarize(\n",
    "        avg_age = mean(age, na.rm=TRUE)\n",
    "    )"
   ]
  },
  {
   "cell_type": "markdown",
   "metadata": {},
   "source": [
    "Let's try `summarize()` with grouped data.\n",
    "\n",
    "> As a bonus, we can also calculate the size of each group with the `n()` function."
   ]
  },
  {
   "cell_type": "code",
   "execution_count": null,
   "metadata": {},
   "outputs": [],
   "source": [
    "stops_2015 %>%\n",
    "    group_by(district) %>%\n",
    "    summarize(\n",
    "        avg_age = mean(age, na.rm=TRUE),\n",
    "        num_stops_in_district = n()\n",
    "    )"
   ]
  },
  {
   "cell_type": "markdown",
   "metadata": {},
   "source": [
    "That's all there is to it!"
   ]
  },
  {
   "cell_type": "markdown",
   "metadata": {
    "tags": []
   },
   "source": [
    "### 🚀 Exercise\n",
    "\n",
    "1. Use `group_by()` and `summarize()` to calculate, by district, (1) the number of stops, (2) the proportion of stops that resulted in a search, and (3) the proportion of **searches** (not stops) that resulted in an arrest. What can you conclude from the results?\n",
    "\n",
    "2. Redo part 1, but group by race instead of district. What do you conclude from the result?\n",
    "\n",
    "3. Redo part 1, but group by district **and** race. What is your interpretation of the results?"
   ]
  },
  {
   "cell_type": "code",
   "execution_count": null,
   "metadata": {},
   "outputs": [],
   "source": [
    "# Your code here!\n",
    "\n"
   ]
  },
  {
   "cell_type": "markdown",
   "metadata": {},
   "source": [
    "## Concluding remarks"
   ]
  },
  {
   "cell_type": "markdown",
   "metadata": {},
   "source": [
    "The method used in the final exercise is called an **outcome test**. Someone actually won a Nobel Prize for this kind of work! \n",
    "\n",
    "Here's what we'll do in Part 2:\n",
    "- Use 📊plots📈 to reduce the cognitive burden of reading long tables.\n",
    "- Learn how to combine data from multiple sources\n",
    "- Dig deeper into our results. Can we say anything about racial/ethnic discrimination based on our results? What additional tests can we conduct? How can we clearly present our findings?\n"
   ]
  }
 ],
 "metadata": {
  "kernelspec": {
   "display_name": "R",
   "language": "R",
   "name": "ir"
  },
  "language_info": {
   "codemirror_mode": "r",
   "file_extension": ".r",
   "mimetype": "text/x-r-source",
   "name": "R",
   "pygments_lexer": "r",
   "version": "4.2.1"
  }
 },
 "nbformat": 4,
 "nbformat_minor": 4
}
