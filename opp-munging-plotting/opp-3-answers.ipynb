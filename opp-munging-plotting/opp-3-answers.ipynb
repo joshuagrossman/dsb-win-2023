{
 "cells": [
  {
   "cell_type": "markdown",
   "metadata": {},
   "source": [
    "# 🚘 Analyzing SF traffic stops with `R`: Part 3"
   ]
  },
  {
   "cell_type": "markdown",
   "metadata": {},
   "source": [
    "<img src=\"img/sf-traffic-3.jpg\" alt=\"traffic\" width=\"400\" align=\"left\"/>"
   ]
  },
  {
   "cell_type": "markdown",
   "metadata": {},
   "source": [
    "This is Part 3. Other parts can be found [here](https://www.jdgrossman.com).\n",
    "\n",
    "## Introduction\n",
    "\n",
    "In this series of tutorials, we'll use `R` to explore traffic stops in San Francisco (SF). In particular, we'll investigate whether there is evidence of racial discrimination in SF's policing practices. \n",
    "\n",
    "> **Important note**: Policing can be a sensitive subject. It's important to remember that each row in our data represents a real interaction between a police officer and driver. Please keep this in mind as you work through the tutorial, and be sure to engage with the material to the extent you're comfortable. \n",
    "\n",
    "By the end of the tutorials, you'll have foundational understanding of the following:\n",
    "1. 📊 How to use `R` to explore tabular data and calculate descriptive statistics. \n",
    "2. 📈 How to make an informative plot with `R`\n",
    "2. ⚖️ How to approach questions about social policy with data. \n",
    "\n",
    "Let's get started!"
   ]
  },
  {
   "cell_type": "markdown",
   "metadata": {},
   "source": [
    "## ✅ Set up\n",
    "\n",
    "While the core `R` language contains many useful functions (e.g., `sum` and `sample`), there is vast functionality built on top of `R` by community members.\n",
    "\n",
    "Make sure to run the cell below. It imports additional useful functions, adjusts `R` settings, and loads in data. "
   ]
  },
  {
   "cell_type": "code",
   "execution_count": 1,
   "metadata": {},
   "outputs": [
    {
     "name": "stderr",
     "output_type": "stream",
     "text": [
      "── \u001b[1mAttaching packages\u001b[22m ────────────────────────────── tidyverse 1.3.2 ──\n",
      "\u001b[32m✔\u001b[39m \u001b[34mggplot2\u001b[39m 3.3.6     \u001b[32m✔\u001b[39m \u001b[34mpurrr  \u001b[39m 0.3.4\n",
      "\u001b[32m✔\u001b[39m \u001b[34mtibble \u001b[39m 3.1.8     \u001b[32m✔\u001b[39m \u001b[34mdplyr  \u001b[39m 1.0.9\n",
      "\u001b[32m✔\u001b[39m \u001b[34mtidyr  \u001b[39m 1.2.0     \u001b[32m✔\u001b[39m \u001b[34mstringr\u001b[39m 1.4.1\n",
      "\u001b[32m✔\u001b[39m \u001b[34mreadr  \u001b[39m 2.1.2     \u001b[32m✔\u001b[39m \u001b[34mforcats\u001b[39m 0.5.2\n",
      "── \u001b[1mConflicts\u001b[22m ───────────────────────────────── tidyverse_conflicts() ──\n",
      "\u001b[31m✖\u001b[39m \u001b[34mdplyr\u001b[39m::\u001b[32mfilter()\u001b[39m masks \u001b[34mstats\u001b[39m::filter()\n",
      "\u001b[31m✖\u001b[39m \u001b[34mdplyr\u001b[39m::\u001b[32mlag()\u001b[39m    masks \u001b[34mstats\u001b[39m::lag()\n",
      "\n",
      "Attaching package: ‘lubridate’\n",
      "\n",
      "\n",
      "The following objects are masked from ‘package:base’:\n",
      "\n",
      "    date, intersect, setdiff, union\n",
      "\n",
      "\n"
     ]
    }
   ],
   "source": [
    "# Load in additional functions\n",
    "library(tidyverse)\n",
    "library(lubridate)\n",
    "\n",
    "# Use three digits past the decimal point\n",
    "options(digits = 3)\n",
    "\n",
    "# This makes our plots look nice!\n",
    "theme_set(theme_bw())\n",
    "\n",
    "# Read in the data\n",
    "stops <- read_rds(\"data/sf_stop_data.rds\")\n",
    "pop_2015 <- read_rds(\"data/sf_pop_2015.rds\")\n",
    "\n",
    "# Data modifications from Part 1\n",
    "stops_w_yr = stops %>% \n",
    "    mutate(\n",
    "        yr = year(date)\n",
    "    )"
   ]
  },
  {
   "cell_type": "markdown",
   "metadata": {},
   "source": [
    "## Back to calculating disparities\n",
    "\n",
    "In that plotting aside we discovered 2014 and 2016 only have partial years. Let's return to our 2015 dataset, `stops_2015` and calculate how many stops were made of drivers of each race group."
   ]
  },
  {
   "cell_type": "markdown",
   "metadata": {},
   "source": [
    "## Exercise 6: Stops by race group\n",
    "\n",
    "For this next exercise, let's compute the racial breakdown of traffic stops. To do this, we'll need two functions that we've already seen: `count()` and `mutate()`.\n",
    "\n",
    "1. **Count how many stops per race group our `stops_2015` dataset has, saving your result to a new dataframe: `stops_by_race`.** \n",
    "\n",
    "2. **Describe in words what we'd need to do to find the proportion of stops that were of white drivers.** \n",
    "\n",
    "3. **To do the above computation for each race group, we can add additional column to `stops_by_race` using the `mutate()` function. Overwrite `stops_by_race`, adding a new column `p` with the proportion of stops that were made of drivers of each race group.**\n",
    "\n",
    "4. **Discuss: What do these proportions mean? Are drivers of certain race groups being stopped more than others? What might we be missing to really start interpreting these values?**"
   ]
  },
  {
   "cell_type": "code",
   "execution_count": 43,
   "metadata": {},
   "outputs": [
    {
     "data": {
      "text/html": [
       "<table>\n",
       "<caption>A tibble: 5 × 3</caption>\n",
       "<thead>\n",
       "\t<tr><th scope=col>race</th><th scope=col>n</th><th scope=col>p</th></tr>\n",
       "\t<tr><th scope=col>&lt;chr&gt;</th><th scope=col>&lt;int&gt;</th><th scope=col>&lt;dbl&gt;</th></tr>\n",
       "</thead>\n",
       "<tbody>\n",
       "\t<tr><td>asian/pacific islander</td><td>15498</td><td>0.181</td></tr>\n",
       "\t<tr><td>black                 </td><td>14955</td><td>0.175</td></tr>\n",
       "\t<tr><td>hispanic              </td><td>11911</td><td>0.139</td></tr>\n",
       "\t<tr><td>other                 </td><td>13560</td><td>0.158</td></tr>\n",
       "\t<tr><td>white                 </td><td>29765</td><td>0.347</td></tr>\n",
       "</tbody>\n",
       "</table>\n"
      ],
      "text/latex": [
       "A tibble: 5 × 3\n",
       "\\begin{tabular}{r|lll}\n",
       " race & n & p\\\\\n",
       " <chr> & <int> & <dbl>\\\\\n",
       "\\hline\n",
       "\t asian/pacific islander & 15498 & 0.181\\\\\n",
       "\t black                  & 14955 & 0.175\\\\\n",
       "\t hispanic               & 11911 & 0.139\\\\\n",
       "\t other                  & 13560 & 0.158\\\\\n",
       "\t white                  & 29765 & 0.347\\\\\n",
       "\\end{tabular}\n"
      ],
      "text/markdown": [
       "\n",
       "A tibble: 5 × 3\n",
       "\n",
       "| race &lt;chr&gt; | n &lt;int&gt; | p &lt;dbl&gt; |\n",
       "|---|---|---|\n",
       "| asian/pacific islander | 15498 | 0.181 |\n",
       "| black                  | 14955 | 0.175 |\n",
       "| hispanic               | 11911 | 0.139 |\n",
       "| other                  | 13560 | 0.158 |\n",
       "| white                  | 29765 | 0.347 |\n",
       "\n"
      ],
      "text/plain": [
       "  race                   n     p    \n",
       "1 asian/pacific islander 15498 0.181\n",
       "2 black                  14955 0.175\n",
       "3 hispanic               11911 0.139\n",
       "4 other                  13560 0.158\n",
       "5 white                  29765 0.347"
      ]
     },
     "metadata": {},
     "output_type": "display_data"
    }
   ],
   "source": [
    "# EXERCISE 6: YOUR CODE HERE\n",
    "# START\n",
    "# 1. \n",
    "stops_by_race <- stops_2015 %>% count(race)\n",
    "# 2.\n",
    "# Divide each count (num stops by race) by the total (num overall stops)\n",
    "# 3. \n",
    "stops_by_race <- stops_by_race %>% mutate(p = n / sum(n))\n",
    "# 4. \n",
    "stops_by_race\n",
    "# This means 35% of stops were of white drivers, 18% of black drivers\n",
    "# 18% Aisan, 14% Hispanic, etc. \n",
    "# It seems like the biggest race group being stopped are white drivers.\n",
    "# But, i know that SF has a pretty large white population -- probably\n",
    "# more than 35% of SF is white...so maybe they're actually \n",
    "# underrepresented in stops? We'd need to know the population to be \n",
    "# able to answer this question of whether some race groups are being \n",
    "# stopped disproportionately.\n",
    "# We see white drivers make up about one-third of stops, and drivers \n",
    "# of each other race represent 14-18%. The by-race stop counts are \n",
    "# only meaningful, though, when compared to some baseline. If the \n",
    "# San Francisco population was about one-third white, one-third \n",
    "# percent of stops being of white drivers wouldn't be at all \n",
    "# surprising. But if 75% of the SF population is white, then our \n",
    "# findings might be more suspicious!\n",
    "# END"
   ]
  },
  {
   "cell_type": "markdown",
   "metadata": {},
   "source": [
    "## Stop rates\n",
    "\n",
    "In order to do this baseline comparison, we need to understand the racial\n",
    "demographics in our SF population data. (Note: This is why we wanted just one full year: comparing the number of stops in a year to the population from that year.) The data as we've given it to you\n",
    "has raw population numbers from 2015. To make it useful, we'll need to compute the\n",
    "_proportion_ of SF residents in each demographic group. As before, we do this using the `mutate()` function.\n",
    "\n",
    "### You try\n",
    "\n",
    "* Take a look at `pop_2015`, then\n",
    "* mutate `pop_2015`, adding a column `p` that shows us what proportion of the population is white, black, Hispanic, Asian, and other."
   ]
  },
  {
   "cell_type": "code",
   "execution_count": 44,
   "metadata": {},
   "outputs": [
    {
     "data": {
      "text/html": [
       "<table>\n",
       "<caption>A tibble: 5 × 3</caption>\n",
       "<thead>\n",
       "\t<tr><th scope=col>race</th><th scope=col>n_people</th><th scope=col>p</th></tr>\n",
       "\t<tr><th scope=col>&lt;chr&gt;</th><th scope=col>&lt;dbl&gt;</th><th scope=col>&lt;dbl&gt;</th></tr>\n",
       "</thead>\n",
       "<tbody>\n",
       "\t<tr><td>white                 </td><td>346732</td><td>0.4124</td></tr>\n",
       "\t<tr><td>black                 </td><td> 44879</td><td>0.0534</td></tr>\n",
       "\t<tr><td>hispanic              </td><td>128619</td><td>0.1530</td></tr>\n",
       "\t<tr><td>asian/pacific islander</td><td>285266</td><td>0.3393</td></tr>\n",
       "\t<tr><td>other                 </td><td> 35267</td><td>0.0419</td></tr>\n",
       "</tbody>\n",
       "</table>\n"
      ],
      "text/latex": [
       "A tibble: 5 × 3\n",
       "\\begin{tabular}{r|lll}\n",
       " race & n\\_people & p\\\\\n",
       " <chr> & <dbl> & <dbl>\\\\\n",
       "\\hline\n",
       "\t white                  & 346732 & 0.4124\\\\\n",
       "\t black                  &  44879 & 0.0534\\\\\n",
       "\t hispanic               & 128619 & 0.1530\\\\\n",
       "\t asian/pacific islander & 285266 & 0.3393\\\\\n",
       "\t other                  &  35267 & 0.0419\\\\\n",
       "\\end{tabular}\n"
      ],
      "text/markdown": [
       "\n",
       "A tibble: 5 × 3\n",
       "\n",
       "| race &lt;chr&gt; | n_people &lt;dbl&gt; | p &lt;dbl&gt; |\n",
       "|---|---|---|\n",
       "| white                  | 346732 | 0.4124 |\n",
       "| black                  |  44879 | 0.0534 |\n",
       "| hispanic               | 128619 | 0.1530 |\n",
       "| asian/pacific islander | 285266 | 0.3393 |\n",
       "| other                  |  35267 | 0.0419 |\n",
       "\n"
      ],
      "text/plain": [
       "  race                   n_people p     \n",
       "1 white                  346732   0.4124\n",
       "2 black                   44879   0.0534\n",
       "3 hispanic               128619   0.1530\n",
       "4 asian/pacific islander 285266   0.3393\n",
       "5 other                   35267   0.0419"
      ]
     },
     "metadata": {},
     "output_type": "display_data"
    }
   ],
   "source": [
    "# Find the racial breakdown of SF's 2015 population\n",
    "# START\n",
    "pop_2015 %>%\n",
    "    mutate(p = n_people / (sum(n_people)))\n",
    "# END"
   ]
  },
  {
   "cell_type": "markdown",
   "metadata": {},
   "source": [
    "### Discuss\n",
    "\n",
    "What do the population proportions tell you about the stop proportions we computed before?\n",
    "\n",
    "\n",
    "### Adding rigor\n",
    "\n",
    "We can tell a lot just by eyeballing these two sets of proportions. But let's be a bit more\n",
    "rigorous about this. If we merge the two tables together, we can compute stop \n",
    "rates by race group (i.e., number of stops per person). "
   ]
  },
  {
   "cell_type": "markdown",
   "metadata": {},
   "source": [
    "**R function: `inner_join()`**\n",
    "\n",
    "One way to put tables together is with the `inner_join()` function. We need to\n",
    "input three things into this function: \n",
    " 1. our main table\n",
    " 2. the second table we'd like to join with the first table, and\n",
    " 3. instructions on how to join them. \n",
    "\n",
    "<img src=\"img/inner_join.png\" alt=\"inner join\" width=\"400\" align=\"left\"/>\n"
   ]
  },
  {
   "cell_type": "markdown",
   "metadata": {},
   "source": [
    "\n",
    "In this case, the two tables we\n",
    "want to merge are \n",
    " 1. the table of stops counted according to `race`, and\n",
    " 2. the table of population by race: `pop_2015`. \n",
    " \n",
    "The instruction for combining the tables is \n",
    " 3. to merge rows that give information about the same race groups.\n",
    "\n",
    "To implement 3., we give `inner_join()` the argument `by =\n",
    "\"race\"`. This means that `inner_join()` will \n",
    " * look at the first table---\n",
    "i.e., the table stops counted by race---and go to the `race` column\n",
    "in each row.\n",
    " * Then, `inner_join()` will take what it finds there---in this case,\n",
    "`\"asian/pacific islander\"`, `\"black\"`, `\"hispanic\"`, `\"other/unknown\"`, and\n",
    "`\"white\"`---and look in the second table, i.e., `pop_2015`, for all the\n",
    "rows that contain the same information in `pop_2015`'s race column.\n",
    " * Finally,\n",
    "it will add the second row at the end of the first to create a new row with\n",
    "information from both. \n",
    "\n",
    "What we end up with is a dataframe with all of the\n",
    "columns from _both_ tables.\n",
    "\n",
    "The process is a little complicated, and we won't use it too much, so don't\n",
    "worry if the abstract description doesn't make sense. To get a better\n",
    "understanding of what's going on, exercise 5 will help guide you through merging the two tables described above,\n",
    "being sure to include the `by = \"race\"` argument."
   ]
  },
  {
   "cell_type": "markdown",
   "metadata": {},
   "source": [
    "### You try\n",
    "\n",
    "**Merge together `stops_by_race` and `pop_2015` by \"race\", using the `inner_join()` function. Name your result `stops_and_pop_by_race`.**"
   ]
  },
  {
   "cell_type": "code",
   "execution_count": 67,
   "metadata": {},
   "outputs": [
    {
     "data": {
      "text/html": [
       "<table>\n",
       "<thead><tr><th scope=col>race</th><th scope=col>n</th><th scope=col>p</th><th scope=col>n_people</th></tr></thead>\n",
       "<tbody>\n",
       "\t<tr><td>asian/pacific islander</td><td>15498                 </td><td>0.181                 </td><td>285266                </td></tr>\n",
       "\t<tr><td>black                 </td><td>14955                 </td><td>0.175                 </td><td> 44879                </td></tr>\n",
       "\t<tr><td>hispanic              </td><td>11911                 </td><td>0.139                 </td><td>128619                </td></tr>\n",
       "\t<tr><td>other                 </td><td>13560                 </td><td>0.158                 </td><td> 35267                </td></tr>\n",
       "\t<tr><td>white                 </td><td>29765                 </td><td>0.347                 </td><td>346732                </td></tr>\n",
       "</tbody>\n",
       "</table>\n"
      ],
      "text/latex": [
       "\\begin{tabular}{r|llll}\n",
       " race & n & p & n\\_people\\\\\n",
       "\\hline\n",
       "\t asian/pacific islander & 15498                  & 0.181                  & 285266                \\\\\n",
       "\t black                  & 14955                  & 0.175                  &  44879                \\\\\n",
       "\t hispanic               & 11911                  & 0.139                  & 128619                \\\\\n",
       "\t other                  & 13560                  & 0.158                  &  35267                \\\\\n",
       "\t white                  & 29765                  & 0.347                  & 346732                \\\\\n",
       "\\end{tabular}\n"
      ],
      "text/plain": [
       "  race                   n     p     n_people\n",
       "1 asian/pacific islander 15498 0.181 285266  \n",
       "2 black                  14955 0.175  44879  \n",
       "3 hispanic               11911 0.139 128619  \n",
       "4 other                  13560 0.158  35267  \n",
       "5 white                  29765 0.347 346732  "
      ]
     },
     "metadata": {},
     "output_type": "display_data"
    }
   ],
   "source": [
    "# YOUR CODE HERE\n",
    "# START\n",
    "stops_and_pop_by_race <- inner_join(\n",
    "    stops_by_race, pop_2015,\n",
    "    by = \"race\"\n",
    ")\n",
    "stops_and_pop_by_race \n",
    "# END"
   ]
  },
  {
   "cell_type": "markdown",
   "metadata": {},
   "source": [
    "### Other joins\n",
    "\n",
    "Note that `inner_join` isn't the only way to merge two tables together. While `inner_join` is like the intersection, `left_join` keeps all rows in the left dataframe, and merges in only rows from the right dataframe that match:\n",
    "<img src=\"img/inner_ven.png\" alt=\"inner join\" width=\"250\" align=\"left\"/><img src=\"img/left_ven.png\" alt=\"inner join\" width=\"250\" align=\"left\"/>"
   ]
  },
  {
   "cell_type": "markdown",
   "metadata": {},
   "source": [
    "So in table form, here's what left join does:\n",
    "\n",
    "<img src=\"img/left_join.png\" alt=\"inner join\" width=\"400\" align=\"left\"/>"
   ]
  },
  {
   "cell_type": "markdown",
   "metadata": {},
   "source": [
    "Another join that can sometimes be helpful is `anti_join`, which is the opposite of `inner join`. It keeps only the rows from the left dataframe that don't match to any rows in the left dataframe:\n",
    "\n",
    "<img src=\"img/anti_join.png\" alt=\"inner join\" width=\"400\" align=\"left\"/>"
   ]
  },
  {
   "cell_type": "markdown",
   "metadata": {},
   "source": [
    "These are good to know about (similar to SQL). For now, though, let's head back to our core question."
   ]
  },
  {
   "cell_type": "markdown",
   "metadata": {},
   "source": [
    "## Exercise 7: Computing stop rates by race group\n",
    "\n",
    "1. **Take your new dataframe, `stops_and_pop_by_race`, and add a column called `stop_rate` that is simply the number of stops divided by the number of people.** (Hint: the `mutate()` function will be helpful!)\n",
    "2. **Now we can divide the black (or Asian, or Hispanic, or \"other\") stop rate by the white stop rate to be able to make a quantitative statement about how much more often black drivers are stopped compared to white drivers, relative to their share of the city's population. Using `R` as a calculator, do this!**\n",
    "3. **Discuss your results.**"
   ]
  },
  {
   "cell_type": "code",
   "execution_count": 49,
   "metadata": {},
   "outputs": [
    {
     "data": {
      "text/html": [
       "<table>\n",
       "<caption>A tibble: 5 × 4</caption>\n",
       "<thead>\n",
       "\t<tr><th scope=col>race</th><th scope=col>n</th><th scope=col>p</th><th scope=col>n_people</th></tr>\n",
       "\t<tr><th scope=col>&lt;chr&gt;</th><th scope=col>&lt;int&gt;</th><th scope=col>&lt;dbl&gt;</th><th scope=col>&lt;dbl&gt;</th></tr>\n",
       "</thead>\n",
       "<tbody>\n",
       "\t<tr><td>asian/pacific islander</td><td>15498</td><td>0.181</td><td>285266</td></tr>\n",
       "\t<tr><td>black                 </td><td>14955</td><td>0.175</td><td> 44879</td></tr>\n",
       "\t<tr><td>hispanic              </td><td>11911</td><td>0.139</td><td>128619</td></tr>\n",
       "\t<tr><td>other                 </td><td>13560</td><td>0.158</td><td> 35267</td></tr>\n",
       "\t<tr><td>white                 </td><td>29765</td><td>0.347</td><td>346732</td></tr>\n",
       "</tbody>\n",
       "</table>\n"
      ],
      "text/latex": [
       "A tibble: 5 × 4\n",
       "\\begin{tabular}{r|llll}\n",
       " race & n & p & n\\_people\\\\\n",
       " <chr> & <int> & <dbl> & <dbl>\\\\\n",
       "\\hline\n",
       "\t asian/pacific islander & 15498 & 0.181 & 285266\\\\\n",
       "\t black                  & 14955 & 0.175 &  44879\\\\\n",
       "\t hispanic               & 11911 & 0.139 & 128619\\\\\n",
       "\t other                  & 13560 & 0.158 &  35267\\\\\n",
       "\t white                  & 29765 & 0.347 & 346732\\\\\n",
       "\\end{tabular}\n"
      ],
      "text/markdown": [
       "\n",
       "A tibble: 5 × 4\n",
       "\n",
       "| race &lt;chr&gt; | n &lt;int&gt; | p &lt;dbl&gt; | n_people &lt;dbl&gt; |\n",
       "|---|---|---|---|\n",
       "| asian/pacific islander | 15498 | 0.181 | 285266 |\n",
       "| black                  | 14955 | 0.175 |  44879 |\n",
       "| hispanic               | 11911 | 0.139 | 128619 |\n",
       "| other                  | 13560 | 0.158 |  35267 |\n",
       "| white                  | 29765 | 0.347 | 346732 |\n",
       "\n"
      ],
      "text/plain": [
       "  race                   n     p     n_people\n",
       "1 asian/pacific islander 15498 0.181 285266  \n",
       "2 black                  14955 0.175  44879  \n",
       "3 hispanic               11911 0.139 128619  \n",
       "4 other                  13560 0.158  35267  \n",
       "5 white                  29765 0.347 346732  "
      ]
     },
     "metadata": {},
     "output_type": "display_data"
    },
    {
     "data": {
      "text/html": [
       "<table>\n",
       "<caption>A tibble: 5 × 5</caption>\n",
       "<thead>\n",
       "\t<tr><th scope=col>race</th><th scope=col>n</th><th scope=col>p</th><th scope=col>n_people</th><th scope=col>stop_rate</th></tr>\n",
       "\t<tr><th scope=col>&lt;chr&gt;</th><th scope=col>&lt;int&gt;</th><th scope=col>&lt;dbl&gt;</th><th scope=col>&lt;dbl&gt;</th><th scope=col>&lt;dbl&gt;</th></tr>\n",
       "</thead>\n",
       "<tbody>\n",
       "\t<tr><td>asian/pacific islander</td><td>15498</td><td>0.181</td><td>285266</td><td>0.0543</td></tr>\n",
       "\t<tr><td>black                 </td><td>14955</td><td>0.175</td><td> 44879</td><td>0.3332</td></tr>\n",
       "\t<tr><td>hispanic              </td><td>11911</td><td>0.139</td><td>128619</td><td>0.0926</td></tr>\n",
       "\t<tr><td>other                 </td><td>13560</td><td>0.158</td><td> 35267</td><td>0.3845</td></tr>\n",
       "\t<tr><td>white                 </td><td>29765</td><td>0.347</td><td>346732</td><td>0.0858</td></tr>\n",
       "</tbody>\n",
       "</table>\n"
      ],
      "text/latex": [
       "A tibble: 5 × 5\n",
       "\\begin{tabular}{r|lllll}\n",
       " race & n & p & n\\_people & stop\\_rate\\\\\n",
       " <chr> & <int> & <dbl> & <dbl> & <dbl>\\\\\n",
       "\\hline\n",
       "\t asian/pacific islander & 15498 & 0.181 & 285266 & 0.0543\\\\\n",
       "\t black                  & 14955 & 0.175 &  44879 & 0.3332\\\\\n",
       "\t hispanic               & 11911 & 0.139 & 128619 & 0.0926\\\\\n",
       "\t other                  & 13560 & 0.158 &  35267 & 0.3845\\\\\n",
       "\t white                  & 29765 & 0.347 & 346732 & 0.0858\\\\\n",
       "\\end{tabular}\n"
      ],
      "text/markdown": [
       "\n",
       "A tibble: 5 × 5\n",
       "\n",
       "| race &lt;chr&gt; | n &lt;int&gt; | p &lt;dbl&gt; | n_people &lt;dbl&gt; | stop_rate &lt;dbl&gt; |\n",
       "|---|---|---|---|---|\n",
       "| asian/pacific islander | 15498 | 0.181 | 285266 | 0.0543 |\n",
       "| black                  | 14955 | 0.175 |  44879 | 0.3332 |\n",
       "| hispanic               | 11911 | 0.139 | 128619 | 0.0926 |\n",
       "| other                  | 13560 | 0.158 |  35267 | 0.3845 |\n",
       "| white                  | 29765 | 0.347 | 346732 | 0.0858 |\n",
       "\n"
      ],
      "text/plain": [
       "  race                   n     p     n_people stop_rate\n",
       "1 asian/pacific islander 15498 0.181 285266   0.0543   \n",
       "2 black                  14955 0.175  44879   0.3332   \n",
       "3 hispanic               11911 0.139 128619   0.0926   \n",
       "4 other                  13560 0.158  35267   0.3845   \n",
       "5 white                  29765 0.347 346732   0.0858   "
      ]
     },
     "metadata": {},
     "output_type": "display_data"
    },
    {
     "name": "stdout",
     "output_type": "stream",
     "text": [
      "[1] 3.88\n",
      "[1] 1.08\n",
      "[1] 0.633\n",
      "[1] 4.48\n"
     ]
    }
   ],
   "source": [
    "# EXERCISE 7: YOUR CODE HERE\n",
    "# START\n",
    "# 1.\n",
    "stops_and_pop_by_race <- \n",
    "    inner_join(\n",
    "        stops_by_race,\n",
    "        pop_2015, \n",
    "        by = \"race\"\n",
    "    )\n",
    "stops_and_pop_by_race\n",
    "# 2. \n",
    "stop_rates <- \n",
    "    stops_and_pop_by_race %>%\n",
    "    mutate(stop_rate = n / n_people)\n",
    "# 3. \n",
    "stop_rates\n",
    "# black-white stop rate ratio:\n",
    "print(0.3332/0.0858)\n",
    "# Hispanic-white stop rate ratio:\n",
    "print(0.0926/0.0858)\n",
    "# Asian-white stop rate ratio:\n",
    "print(0.0543/0.0858)\n",
    "# other-white stop rate ratio:\n",
    "print(0.3845/0.0858)\n",
    "# END"
   ]
  },
  {
   "cell_type": "markdown",
   "metadata": {},
   "source": [
    "### Thought exercise: where stop rates fall short\n",
    "\n",
    "While these baseline stats give us a sense that there are racial disparities in\n",
    "policing practices in SF, they are not strong evidence of discrimination. The\n",
    "argument against using stop rates (often called \"benchmarking\" or the \"benchmark test\") is that we haven't identified the correct\n",
    "baseline to compare to. \n",
    "* Why isn't population the best thing to compare to (i.e., the best denominator of our stop rate)?\n",
    "* What would the ideal denominator of our stop rate be?\n",
    "* What other baselines (denominators) could we use? Are any of these ideal?"
   ]
  },
  {
   "cell_type": "code",
   "execution_count": 50,
   "metadata": {},
   "outputs": [],
   "source": [
    "# Your thoughts here (or just discuss)\n",
    "# START\n",
    "# For the stop rate denominator, what we really want to know is what \n",
    "# the true distribution is for individuals breaking traffic laws or \n",
    "# exhibiting other criminal behavior in their vehicles. But using \n",
    "# SF residential population doesn't account for commuting \n",
    "# populations, or possible race-specific differences in driving \n",
    "# behavior,including amount of time spent on the road (and \n",
    "# adherence to traffic laws, as mentioned above).  If black \n",
    "# drivers, hypothetically, spend more time on the road than white \n",
    "# drivers, that in and of itself could explain the higher stop\n",
    "# rates we see for black drivers, even in the absence of \n",
    "# discrimination.\n",
    "# We could try using violation rates as a baseline, but those can \n",
    "# be racially skewed by the vary systems we're trying to evaluate! \n",
    "# We can try something that's less racially skewed, like violent\n",
    "# crime rates, but violent crime rates have very little to do with\n",
    "# traffic infractions! We really don't have any ideal baseline here. \n",
    "# END "
   ]
  },
  {
   "cell_type": "markdown",
   "metadata": {},
   "source": [
    "## Searches\n",
    "\n",
    "Let's next consider how often drivers of different race groups were searched. Computing search rates is actually easier than stop rates because we don't need an external population benchmark.\n",
    "We can use the stopped population as our baseline, defining search rate to be the proportion of stopped people who were subsequently searched. "
   ]
  },
  {
   "cell_type": "markdown",
   "metadata": {},
   "source": [
    "## Exercise 8: Search rates\n",
    "\n",
    "1. **Compute search rates by race group.** (Hint: Think about what information you'd need to compute a search rate. The `n()` function might be helpful!)\n",
    "\n",
    "2. **Discuss the search rate findings. Are some race groups searched more often than other race groups, relative to their share of stopped drivers?**\n",
    "\n",
    "NOTE: Since we're not comparing to population numbers, we can return to using our full `stops_w_yr` dataset, with all years, because in this case it doesn't matter that we don't have full years for 2014 and 2016."
   ]
  },
  {
   "cell_type": "code",
   "execution_count": 51,
   "metadata": {},
   "outputs": [
    {
     "data": {
      "text/html": [
       "<table>\n",
       "<caption>A tibble: 5 × 4</caption>\n",
       "<thead>\n",
       "\t<tr><th scope=col>race</th><th scope=col>n_searched</th><th scope=col>n_stopped</th><th scope=col>search_rate</th></tr>\n",
       "\t<tr><th scope=col>&lt;chr&gt;</th><th scope=col>&lt;int&gt;</th><th scope=col>&lt;int&gt;</th><th scope=col>&lt;dbl&gt;</th></tr>\n",
       "</thead>\n",
       "<tbody>\n",
       "\t<tr><td>asian/pacific islander</td><td> 1867</td><td>110931</td><td>0.0168</td></tr>\n",
       "\t<tr><td>black                 </td><td>16909</td><td>106143</td><td>0.1593</td></tr>\n",
       "\t<tr><td>hispanic              </td><td> 7451</td><td> 82979</td><td>0.0898</td></tr>\n",
       "\t<tr><td>other                 </td><td> 2436</td><td> 76569</td><td>0.0318</td></tr>\n",
       "\t<tr><td>white                 </td><td> 7569</td><td>259539</td><td>0.0292</td></tr>\n",
       "</tbody>\n",
       "</table>\n"
      ],
      "text/latex": [
       "A tibble: 5 × 4\n",
       "\\begin{tabular}{r|llll}\n",
       " race & n\\_searched & n\\_stopped & search\\_rate\\\\\n",
       " <chr> & <int> & <int> & <dbl>\\\\\n",
       "\\hline\n",
       "\t asian/pacific islander &  1867 & 110931 & 0.0168\\\\\n",
       "\t black                  & 16909 & 106143 & 0.1593\\\\\n",
       "\t hispanic               &  7451 &  82979 & 0.0898\\\\\n",
       "\t other                  &  2436 &  76569 & 0.0318\\\\\n",
       "\t white                  &  7569 & 259539 & 0.0292\\\\\n",
       "\\end{tabular}\n"
      ],
      "text/markdown": [
       "\n",
       "A tibble: 5 × 4\n",
       "\n",
       "| race &lt;chr&gt; | n_searched &lt;int&gt; | n_stopped &lt;int&gt; | search_rate &lt;dbl&gt; |\n",
       "|---|---|---|---|\n",
       "| asian/pacific islander |  1867 | 110931 | 0.0168 |\n",
       "| black                  | 16909 | 106143 | 0.1593 |\n",
       "| hispanic               |  7451 |  82979 | 0.0898 |\n",
       "| other                  |  2436 |  76569 | 0.0318 |\n",
       "| white                  |  7569 | 259539 | 0.0292 |\n",
       "\n"
      ],
      "text/plain": [
       "  race                   n_searched n_stopped search_rate\n",
       "1 asian/pacific islander  1867      110931    0.0168     \n",
       "2 black                  16909      106143    0.1593     \n",
       "3 hispanic                7451       82979    0.0898     \n",
       "4 other                   2436       76569    0.0318     \n",
       "5 white                   7569      259539    0.0292     "
      ]
     },
     "metadata": {},
     "output_type": "display_data"
    },
    {
     "data": {
      "text/html": [
       "<table>\n",
       "<caption>A tibble: 5 × 2</caption>\n",
       "<thead>\n",
       "\t<tr><th scope=col>race</th><th scope=col>search_rate</th></tr>\n",
       "\t<tr><th scope=col>&lt;chr&gt;</th><th scope=col>&lt;dbl&gt;</th></tr>\n",
       "</thead>\n",
       "<tbody>\n",
       "\t<tr><td>asian/pacific islander</td><td>0.0168</td></tr>\n",
       "\t<tr><td>black                 </td><td>0.1593</td></tr>\n",
       "\t<tr><td>hispanic              </td><td>0.0898</td></tr>\n",
       "\t<tr><td>other                 </td><td>0.0318</td></tr>\n",
       "\t<tr><td>white                 </td><td>0.0292</td></tr>\n",
       "</tbody>\n",
       "</table>\n"
      ],
      "text/latex": [
       "A tibble: 5 × 2\n",
       "\\begin{tabular}{r|ll}\n",
       " race & search\\_rate\\\\\n",
       " <chr> & <dbl>\\\\\n",
       "\\hline\n",
       "\t asian/pacific islander & 0.0168\\\\\n",
       "\t black                  & 0.1593\\\\\n",
       "\t hispanic               & 0.0898\\\\\n",
       "\t other                  & 0.0318\\\\\n",
       "\t white                  & 0.0292\\\\\n",
       "\\end{tabular}\n"
      ],
      "text/markdown": [
       "\n",
       "A tibble: 5 × 2\n",
       "\n",
       "| race &lt;chr&gt; | search_rate &lt;dbl&gt; |\n",
       "|---|---|\n",
       "| asian/pacific islander | 0.0168 |\n",
       "| black                  | 0.1593 |\n",
       "| hispanic               | 0.0898 |\n",
       "| other                  | 0.0318 |\n",
       "| white                  | 0.0292 |\n",
       "\n"
      ],
      "text/plain": [
       "  race                   search_rate\n",
       "1 asian/pacific islander 0.0168     \n",
       "2 black                  0.1593     \n",
       "3 hispanic               0.0898     \n",
       "4 other                  0.0318     \n",
       "5 white                  0.0292     "
      ]
     },
     "metadata": {},
     "output_type": "display_data"
    }
   ],
   "source": [
    "# YOUR CODE HERE\n",
    "# START\n",
    "#Search rates, METHOD 1\n",
    "stops_w_yr %>%\n",
    "    group_by(race) %>%\n",
    "    summarize(\n",
    "        n_searched = sum(searched),\n",
    "        n_stopped = n(),\n",
    "        search_rate = n_searched / n_stopped\n",
    "    )\n",
    "# Search rates, METHOD 2\n",
    "# This way is a bit tricky! It relies on the fact that booleans\n",
    "# (i.e., TRUE and FALSE) can be coerced into integers (1 and 0),\n",
    "# so `mean(searched)` takes the number of TRUEs divided by the\n",
    "# number of rows in each race group, which is exactly what METHOD 1\n",
    "# does, manually.\n",
    "stops_w_yr %>%\n",
    "    group_by(race) %>%\n",
    "    summarize(\n",
    "        search_rate = mean(searched)\n",
    "    )\n",
    "# END"
   ]
  },
  {
   "cell_type": "markdown",
   "metadata": {},
   "source": [
    "## Exercise 9: Tricks with booleans\n",
    "\n",
    "Below is one possible solution to Exercise 6. The function `mean()` is defined over _numbers_, but `searched` is a column of booleans (TRUE/FALSE). Why does this solution work? Play around with treating booleans like numbers. What do you discover? (This behavior is called _coercion_ or _implicit casting_.)"
   ]
  },
  {
   "cell_type": "code",
   "execution_count": 52,
   "metadata": {},
   "outputs": [
    {
     "data": {
      "text/html": [
       "<table>\n",
       "<caption>A tibble: 5 × 2</caption>\n",
       "<thead>\n",
       "\t<tr><th scope=col>race</th><th scope=col>search_rate</th></tr>\n",
       "\t<tr><th scope=col>&lt;chr&gt;</th><th scope=col>&lt;dbl&gt;</th></tr>\n",
       "</thead>\n",
       "<tbody>\n",
       "\t<tr><td>asian/pacific islander</td><td>0.0168</td></tr>\n",
       "\t<tr><td>black                 </td><td>0.1593</td></tr>\n",
       "\t<tr><td>hispanic              </td><td>0.0898</td></tr>\n",
       "\t<tr><td>other                 </td><td>0.0318</td></tr>\n",
       "\t<tr><td>white                 </td><td>0.0292</td></tr>\n",
       "</tbody>\n",
       "</table>\n"
      ],
      "text/latex": [
       "A tibble: 5 × 2\n",
       "\\begin{tabular}{r|ll}\n",
       " race & search\\_rate\\\\\n",
       " <chr> & <dbl>\\\\\n",
       "\\hline\n",
       "\t asian/pacific islander & 0.0168\\\\\n",
       "\t black                  & 0.1593\\\\\n",
       "\t hispanic               & 0.0898\\\\\n",
       "\t other                  & 0.0318\\\\\n",
       "\t white                  & 0.0292\\\\\n",
       "\\end{tabular}\n"
      ],
      "text/markdown": [
       "\n",
       "A tibble: 5 × 2\n",
       "\n",
       "| race &lt;chr&gt; | search_rate &lt;dbl&gt; |\n",
       "|---|---|\n",
       "| asian/pacific islander | 0.0168 |\n",
       "| black                  | 0.1593 |\n",
       "| hispanic               | 0.0898 |\n",
       "| other                  | 0.0318 |\n",
       "| white                  | 0.0292 |\n",
       "\n"
      ],
      "text/plain": [
       "  race                   search_rate\n",
       "1 asian/pacific islander 0.0168     \n",
       "2 black                  0.1593     \n",
       "3 hispanic               0.0898     \n",
       "4 other                  0.0318     \n",
       "5 white                  0.0292     "
      ]
     },
     "metadata": {},
     "output_type": "display_data"
    }
   ],
   "source": [
    "stops_w_yr %>%\n",
    "    group_by(race) %>%\n",
    "    summarize(\n",
    "        search_rate = mean(searched)\n",
    "    )"
   ]
  },
  {
   "cell_type": "markdown",
   "metadata": {},
   "source": [
    "## Thought exercise: where search rates fall short\n",
    "* Do search rates have similar issues as we found with stop rates? Why or why not?\n",
    "* What might \"justifiably\" lead search rates to differ by race group?"
   ]
  },
  {
   "cell_type": "code",
   "execution_count": 23,
   "metadata": {},
   "outputs": [],
   "source": [
    "# Write your thoughts here (or just discuss)!\n",
    "# START\n",
    "# Search rates are slightly less suspect than stop rates, \n",
    "# since among the stopped population, it's more reasonable to \n",
    "# believe that people of different races offend at equal rates. \n",
    "# In the context of searches, this means assuming that all race groups \n",
    "# exhibit probable cause of possessing contraband at equal rates. \n",
    "# One could claim that the stopped population isn't a good \n",
    "# measure of the true racial distribution of probable cause. \n",
    "# This is all to say that while benchmark stats (stop rates, \n",
    "# search rates) are a good place to start, more investigation is \n",
    "# required before we can draw any strong conclusions.\n",
    "# END"
   ]
  },
  {
   "cell_type": "markdown",
   "metadata": {},
   "source": [
    "## Outcome test\n",
    "\n",
    "To circumvent the benchmarking problem, it's common to turn to the search \n",
    "decision, rather than the stop decision. This is because we have a notion of\n",
    "what a \"successful\" search is. The legal justification for performing a search\n",
    "is probable cause that the driver possesses contraband. So a successful search\n",
    "is one which uncovers contraband.\n",
    "\n",
    "We thus turn to rates of successful searches. That is, what proportion of\n",
    "searches, by race, were successful? This proportion is known as the contraband\n",
    "recovery rate, or the \"hit rate.\" If racial groups have different hit rates, it\n",
    "can imply that racial groups are being subjected to different standards."
   ]
  },
  {
   "cell_type": "markdown",
   "metadata": {},
   "source": [
    "## Thought Exercise: Hit rate interpretation\n",
    "\n",
    "As a caricatured example, suppose among white drivers who were searched, \n",
    "officers found contraband 99% of the time, while among black drivers who were\n",
    "searched, officers found contraband only 1% of the time. \n",
    "* Is this police department's search policy discriminatory? \n",
    "* Why or why not?\n",
    "* In general how can we use hit rates to understand whether a search policy is discriminatory?"
   ]
  },
  {
   "cell_type": "code",
   "execution_count": 24,
   "metadata": {},
   "outputs": [],
   "source": [
    "# Write your thoughts here (or just discuss)!\n",
    "# START\n",
    "# These hit rates would lead us to\n",
    "# believe that officers made sure they were _certain_ \n",
    "# white individuals had contraband before deciding to \n",
    "# search, but that they were searching black \n",
    "# individuals on a whiff of evidence.\n",
    "# In general, lower hit rates are a sign a group is being\n",
    "# discriminated against.\n",
    "# END"
   ]
  },
  {
   "cell_type": "markdown",
   "metadata": {},
   "source": [
    "\n",
    "Next let's investigate a non-caricatured case: real hit rates by race group in SF."
   ]
  },
  {
   "cell_type": "markdown",
   "metadata": {},
   "source": [
    "## Exercise 10: Hit rates\n",
    "\n",
    "1. **Filter to drivers who were searched, and then compute the hit rate (rate of contraband recovery) by race group. Remember your `group_by()` and `summarize()` functions!**\n",
    "\n",
    "2. **Discuss your findings.**"
   ]
  },
  {
   "cell_type": "code",
   "execution_count": 53,
   "metadata": {},
   "outputs": [
    {
     "data": {
      "text/html": [
       "<table>\n",
       "<caption>A tibble: 5 × 2</caption>\n",
       "<thead>\n",
       "\t<tr><th scope=col>race</th><th scope=col>hit_rate</th></tr>\n",
       "\t<tr><th scope=col>&lt;chr&gt;</th><th scope=col>&lt;dbl&gt;</th></tr>\n",
       "</thead>\n",
       "<tbody>\n",
       "\t<tr><td>asian/pacific islander</td><td>0.3230</td></tr>\n",
       "\t<tr><td>black                 </td><td>0.0872</td></tr>\n",
       "\t<tr><td>hispanic              </td><td>0.0996</td></tr>\n",
       "\t<tr><td>other                 </td><td>0.1876</td></tr>\n",
       "\t<tr><td>white                 </td><td>0.2349</td></tr>\n",
       "</tbody>\n",
       "</table>\n"
      ],
      "text/latex": [
       "A tibble: 5 × 2\n",
       "\\begin{tabular}{r|ll}\n",
       " race & hit\\_rate\\\\\n",
       " <chr> & <dbl>\\\\\n",
       "\\hline\n",
       "\t asian/pacific islander & 0.3230\\\\\n",
       "\t black                  & 0.0872\\\\\n",
       "\t hispanic               & 0.0996\\\\\n",
       "\t other                  & 0.1876\\\\\n",
       "\t white                  & 0.2349\\\\\n",
       "\\end{tabular}\n"
      ],
      "text/markdown": [
       "\n",
       "A tibble: 5 × 2\n",
       "\n",
       "| race &lt;chr&gt; | hit_rate &lt;dbl&gt; |\n",
       "|---|---|\n",
       "| asian/pacific islander | 0.3230 |\n",
       "| black                  | 0.0872 |\n",
       "| hispanic               | 0.0996 |\n",
       "| other                  | 0.1876 |\n",
       "| white                  | 0.2349 |\n",
       "\n"
      ],
      "text/plain": [
       "  race                   hit_rate\n",
       "1 asian/pacific islander 0.3230  \n",
       "2 black                  0.0872  \n",
       "3 hispanic               0.0996  \n",
       "4 other                  0.1876  \n",
       "5 white                  0.2349  "
      ]
     },
     "metadata": {},
     "output_type": "display_data"
    }
   ],
   "source": [
    "# YOUR CODE HERE\n",
    "# START\n",
    "# 1.\n",
    "stops_w_yr %>%\n",
    "    filter(searched) %>%\n",
    "    group_by(race) %>%\n",
    "    summarize(hit_rate = mean(contraband_found))\n",
    "# 2.\n",
    "# Looks like the black and Hispanic hit rates are _much_\n",
    "# lower than the white hit rate -- this is a sign that\n",
    "# black and Hispanic drivers are probably being discriminated\n",
    "# against at the search decision.\n",
    "# END"
   ]
  },
  {
   "cell_type": "markdown",
   "metadata": {},
   "source": [
    "What if hit rates vary by police district? If the bar for stopping\n",
    "people, irrespective of race, is lower in certain police districts, and black\n",
    "individuals are more likely to live in neighborhoods in those districts, then\n",
    "the observed disparities may not reflect bias."
   ]
  },
  {
   "cell_type": "markdown",
   "metadata": {},
   "source": [
    "Let's compute hit rates by race _and_ district. We can do this simply by adding multiple arguments to the `group_by()` function. Run the code below."
   ]
  },
  {
   "cell_type": "code",
   "execution_count": 54,
   "metadata": {},
   "outputs": [
    {
     "data": {
      "text/html": [
       "50"
      ],
      "text/latex": [
       "50"
      ],
      "text/markdown": [
       "50"
      ],
      "text/plain": [
       "[1] 50"
      ]
     },
     "metadata": {},
     "output_type": "display_data"
    }
   ],
   "source": [
    "hit_rates <- \n",
    "  stops_w_yr %>% \n",
    "  filter(searched) %>% \n",
    "  group_by(race, district) %>% \n",
    "  summarize(hit_rate = mean(contraband_found))\n",
    "\n",
    "hit_rates %>% nrow()"
   ]
  },
  {
   "cell_type": "markdown",
   "metadata": {},
   "source": [
    "This is too many hit rates to compare in one table!"
   ]
  },
  {
   "cell_type": "markdown",
   "metadata": {},
   "source": [
    "## Exercise 11: Visualization brainstorm\n",
    "\n",
    "Sketch out using pen and paper (or just describe to a partner) how you might try to use visualizations to help us synthesize the 50 hit rates above. Start with the question we're trying to answer (Are hit rates for minority drivers lower than hit rates for white drivers?) -- and then think about what type of plot might best help you answer that question. See if you can come up with at least 3 different sketches!"
   ]
  },
  {
   "cell_type": "markdown",
   "metadata": {},
   "source": [
    "## One way to visualize: scatterplots"
   ]
  },
  {
   "cell_type": "markdown",
   "metadata": {},
   "source": [
    "One way to visualize the data is to make a scatterplot comparing white hit rates to each non-white race group. To do this, though, we need to reshape our data, so that each row allows us to compare white hit rate in a district, to each minority hit rate in that same district. \n",
    "\n",
    "The code below uses some tricky functions `spread` and `gather`. They're notoriously mind-bending, so the `tidyverse` team is actually developing new functions (`pivot_wider()` and `pivot_longer()`) to replace them soon. We'll walk you through this below, but don't get too hung up on it, since soon (like any day now) there will be more intuitive versions of these functions released."
   ]
  },
  {
   "cell_type": "code",
   "execution_count": 55,
   "metadata": {},
   "outputs": [
    {
     "data": {
      "text/html": [
       "<table>\n",
       "<caption>A grouped_df: 6 × 3</caption>\n",
       "<thead>\n",
       "\t<tr><th scope=col>race</th><th scope=col>district</th><th scope=col>hit_rate</th></tr>\n",
       "\t<tr><th scope=col>&lt;chr&gt;</th><th scope=col>&lt;chr&gt;</th><th scope=col>&lt;dbl&gt;</th></tr>\n",
       "</thead>\n",
       "<tbody>\n",
       "\t<tr><td>asian/pacific islander</td><td>A</td><td>0.367</td></tr>\n",
       "\t<tr><td>black                 </td><td>A</td><td>0.111</td></tr>\n",
       "\t<tr><td>hispanic              </td><td>A</td><td>0.107</td></tr>\n",
       "\t<tr><td>other                 </td><td>A</td><td>0.253</td></tr>\n",
       "\t<tr><td>white                 </td><td>A</td><td>0.230</td></tr>\n",
       "\t<tr><td>asian/pacific islander</td><td>B</td><td>0.243</td></tr>\n",
       "</tbody>\n",
       "</table>\n"
      ],
      "text/latex": [
       "A grouped_df: 6 × 3\n",
       "\\begin{tabular}{r|lll}\n",
       " race & district & hit\\_rate\\\\\n",
       " <chr> & <chr> & <dbl>\\\\\n",
       "\\hline\n",
       "\t asian/pacific islander & A & 0.367\\\\\n",
       "\t black                  & A & 0.111\\\\\n",
       "\t hispanic               & A & 0.107\\\\\n",
       "\t other                  & A & 0.253\\\\\n",
       "\t white                  & A & 0.230\\\\\n",
       "\t asian/pacific islander & B & 0.243\\\\\n",
       "\\end{tabular}\n"
      ],
      "text/markdown": [
       "\n",
       "A grouped_df: 6 × 3\n",
       "\n",
       "| race &lt;chr&gt; | district &lt;chr&gt; | hit_rate &lt;dbl&gt; |\n",
       "|---|---|---|\n",
       "| asian/pacific islander | A | 0.367 |\n",
       "| black                  | A | 0.111 |\n",
       "| hispanic               | A | 0.107 |\n",
       "| other                  | A | 0.253 |\n",
       "| white                  | A | 0.230 |\n",
       "| asian/pacific islander | B | 0.243 |\n",
       "\n"
      ],
      "text/plain": [
       "  race                   district hit_rate\n",
       "1 asian/pacific islander A        0.367   \n",
       "2 black                  A        0.111   \n",
       "3 hispanic               A        0.107   \n",
       "4 other                  A        0.253   \n",
       "5 white                  A        0.230   \n",
       "6 asian/pacific islander B        0.243   "
      ]
     },
     "metadata": {},
     "output_type": "display_data"
    },
    {
     "data": {
      "text/html": [
       "<table>\n",
       "<caption>A tibble: 6 × 4</caption>\n",
       "<thead>\n",
       "\t<tr><th scope=col>district</th><th scope=col>white_hit_rate</th><th scope=col>minority_race</th><th scope=col>minority_hit_rate</th></tr>\n",
       "\t<tr><th scope=col>&lt;chr&gt;</th><th scope=col>&lt;dbl&gt;</th><th scope=col>&lt;chr&gt;</th><th scope=col>&lt;dbl&gt;</th></tr>\n",
       "</thead>\n",
       "<tbody>\n",
       "\t<tr><td>A</td><td>0.230</td><td>black                 </td><td>0.111</td></tr>\n",
       "\t<tr><td>A</td><td>0.230</td><td>hispanic              </td><td>0.107</td></tr>\n",
       "\t<tr><td>A</td><td>0.230</td><td>asian/pacific islander</td><td>0.367</td></tr>\n",
       "\t<tr><td>A</td><td>0.230</td><td>other                 </td><td>0.253</td></tr>\n",
       "\t<tr><td>B</td><td>0.237</td><td>black                 </td><td>0.104</td></tr>\n",
       "\t<tr><td>B</td><td>0.237</td><td>hispanic              </td><td>0.083</td></tr>\n",
       "</tbody>\n",
       "</table>\n"
      ],
      "text/latex": [
       "A tibble: 6 × 4\n",
       "\\begin{tabular}{r|llll}\n",
       " district & white\\_hit\\_rate & minority\\_race & minority\\_hit\\_rate\\\\\n",
       " <chr> & <dbl> & <chr> & <dbl>\\\\\n",
       "\\hline\n",
       "\t A & 0.230 & black                  & 0.111\\\\\n",
       "\t A & 0.230 & hispanic               & 0.107\\\\\n",
       "\t A & 0.230 & asian/pacific islander & 0.367\\\\\n",
       "\t A & 0.230 & other                  & 0.253\\\\\n",
       "\t B & 0.237 & black                  & 0.104\\\\\n",
       "\t B & 0.237 & hispanic               & 0.083\\\\\n",
       "\\end{tabular}\n"
      ],
      "text/markdown": [
       "\n",
       "A tibble: 6 × 4\n",
       "\n",
       "| district &lt;chr&gt; | white_hit_rate &lt;dbl&gt; | minority_race &lt;chr&gt; | minority_hit_rate &lt;dbl&gt; |\n",
       "|---|---|---|---|\n",
       "| A | 0.230 | black                  | 0.111 |\n",
       "| A | 0.230 | hispanic               | 0.107 |\n",
       "| A | 0.230 | asian/pacific islander | 0.367 |\n",
       "| A | 0.230 | other                  | 0.253 |\n",
       "| B | 0.237 | black                  | 0.104 |\n",
       "| B | 0.237 | hispanic               | 0.083 |\n",
       "\n"
      ],
      "text/plain": [
       "  district white_hit_rate minority_race          minority_hit_rate\n",
       "1 A        0.230          black                  0.111            \n",
       "2 A        0.230          hispanic               0.107            \n",
       "3 A        0.230          asian/pacific islander 0.367            \n",
       "4 A        0.230          other                  0.253            \n",
       "5 B        0.237          black                  0.104            \n",
       "6 B        0.237          hispanic               0.083            "
      ]
     },
     "metadata": {},
     "output_type": "display_data"
    }
   ],
   "source": [
    "# Reshape table to show hit rates of minorities vs white drivers\n",
    "reshaped_hit_rates <-\n",
    "  hit_rates %>% \n",
    "  # the column names (key) will be race, the values will be from hit rate\n",
    "  spread(key = race, value = hit_rate, fill = 0) %>% \n",
    "  rename(white_hit_rate = white) %>% \n",
    "  # gather leaves us with two new columns: \n",
    "  # minority race (which contain the old colnames)\n",
    "  # and minority hit rate (which contains the values in the old columns)\n",
    "  gather(\n",
    "      key = minority_race, value = minority_hit_rate, \n",
    "      # columns to gather:\n",
    "      c(black, hispanic, `asian/pacific islander`, other)\n",
    "  ) %>%\n",
    "  arrange(district)\n",
    "\n",
    "head(hit_rates %>% arrange(district))\n",
    "head(reshaped_hit_rates)"
   ]
  },
  {
   "cell_type": "markdown",
   "metadata": {},
   "source": [
    "Now we're ready to make a basic scatter plot! We'll walk you through it in the exercise below.\n",
    "\n",
    "## Exercise 12: Scatterplot of racial disparities\n",
    "\n",
    "1. **Warm-up. Before we plot, let's do some tidyverse magic. To make our plot nice in step 2, we'll need the range of hit rates. Create a variable `max_hit_rate` that extracts the largest hit rate value in `reshaped_hit_rates`. There are many many different ways to do this, so don't be afraid to play around!**"
   ]
  },
  {
   "cell_type": "code",
   "execution_count": 56,
   "metadata": {},
   "outputs": [],
   "source": [
    "# YOUR CODE (EXERCISE 12, Q1)\n",
    "# START\n",
    "# We'll use this just to make our axes' limits nice and even\n",
    "max_hit_rate <-\n",
    "  reshaped_hit_rates %>% \n",
    "  select(ends_with(\"hit_rate\")) %>% \n",
    "  max()\n",
    "# END"
   ]
  },
  {
   "cell_type": "markdown",
   "metadata": {},
   "source": [
    "  2.**Onward to plotting! First let's start simple. Filter `reshaped_hit_rates` to just `black` and `white` race groups (i.e., let's only consider rows where `minority_race` is \"black\"). Let's next create a scatterplot comparing black and white hit rates.** \n",
    "\n",
    "Consider the following questions/hints:\n",
    "  * What do you want your x- and y-axes to be?\n",
    "  * Which `geom_X` would you use to creat scatterplot points?\n",
    "  * We want to compare apples to apples, so we want the x- and y-axis scales to cover the same range. To do this, we can use `scale_x_continuous()` and `scale_y_continuous()`. Both of these functions have an argument called `limits`. The basic usage is `scale_x_continuous(limits = c(A, B))`, where `A` is the lower limit of your range (we can just use 0), and `B` is the upper limit of your range (we can `max_hit_rate` from Q1 above). \n",
    "    Try adding and removing these two lines of code -- how does it change the plot? Why is it critical in this case?"
   ]
  },
  {
   "cell_type": "code",
   "execution_count": 57,
   "metadata": {},
   "outputs": [
    {
     "data": {
      "image/png": "[encoded data removed]",
      "text/plain": [
       "plot without title"
      ]
     },
     "metadata": {},
     "output_type": "display_data"
    }
   ],
   "source": [
    "# YOUR CODE (EXERCISE 12, Q2)\n",
    "# START\n",
    "reshaped_hit_rates %>% \n",
    "  filter(minority_race == \"black\") %>%\n",
    "  ggplot(aes(\n",
    "    x = white_hit_rate,\n",
    "    y = minority_hit_rate\n",
    "  )) +\n",
    "  geom_point() +\n",
    "  scale_x_continuous(limits = c(0,max_hit_rate)) +\n",
    "  scale_y_continuous(limits = c(0,max_hit_rate))\n",
    "# END"
   ]
  },
  {
   "cell_type": "markdown",
   "metadata": {},
   "source": [
    "3.**Now, to incorporate all minority race groups in our dataset, let's return to the unfiltered `reshaped_hit_rates`. Instead, let's create a panel for each race-pair we're comparing. We can do this simply by adding `facet_wrap(facets = vars(minority_race))` to the previous code. Try it! What do you see?**"
   ]
  },
  {
   "cell_type": "code",
   "execution_count": 58,
   "metadata": {},
   "outputs": [
    {
     "data": {
      "image/png": "[encoded data removed]",
      "text/plain": [
       "plot without title"
      ]
     },
     "metadata": {},
     "output_type": "display_data"
    }
   ],
   "source": [
    "# YOUR CODE (EXERCISE 12, Q3)\n",
    "# START\n",
    "reshaped_hit_rates %>% \n",
    "  ggplot(aes(\n",
    "    x = white_hit_rate,\n",
    "    y = minority_hit_rate\n",
    "  )) +\n",
    "  geom_point() +\n",
    "  scale_x_continuous(limits = c(0,max_hit_rate)) +\n",
    "  scale_y_continuous(limits = c(0,max_hit_rate)) +\n",
    "  facet_wrap(vars(minority_race))\n",
    "# END"
   ]
  },
  {
   "cell_type": "markdown",
   "metadata": {},
   "source": [
    "4.**Starting from your code in part 3 of this exercise, make the following changes to your plot:**\n",
    "  * **Use `labs()` to relabel your axes.** \n",
    "  * **Use `geom_abline()` to make a dashed trendline that marks the \"line of fairness\", i.e., the line of equal hit rates by race. (Hint: _slope_ and _intercept_ are both arguments of `geom_abline()`)**"
   ]
  },
  {
   "cell_type": "code",
   "execution_count": 59,
   "metadata": {},
   "outputs": [
    {
     "data": {
      "image/png": "[encoded data removed]",
      "text/plain": [
       "plot without title"
      ]
     },
     "metadata": {},
     "output_type": "display_data"
    }
   ],
   "source": [
    "# YOUR CODE (EXERCISE 12, Q4)\n",
    "# START\n",
    "reshaped_hit_rates %>% \n",
    "  ggplot(aes(\n",
    "    x = white_hit_rate,\n",
    "    y = minority_hit_rate\n",
    "  )) +\n",
    "  geom_point() +\n",
    "  scale_x_continuous(limits = c(0,max_hit_rate)) +\n",
    "  scale_y_continuous(limits = c(0,max_hit_rate)) +\n",
    "  facet_wrap(vars(minority_race)) +\n",
    "  labs(x = \"White hit rate\", y = \"Minority hit rate\") +\n",
    "  geom_abline(slope = 1, intercept = 0, linetype = \"dashed\")\n",
    "# END"
   ]
  },
  {
   "cell_type": "markdown",
   "metadata": {},
   "source": [
    "Below are a few slight tweaks to make the plot a bit more readable. Let's go through these additions together to make sure they make sense. Below, we're going to:\n",
    "\n",
    "* Size the points by number of searches\n",
    "* Use percentages rather than proportions for the axes"
   ]
  },
  {
   "cell_type": "code",
   "execution_count": 60,
   "metadata": {},
   "outputs": [
    {
     "data": {
      "image/png": "[encoded data removed]",
      "text/plain": [
       "plot without title"
      ]
     },
     "metadata": {},
     "output_type": "display_data"
    }
   ],
   "source": [
    "# Get corresponding number of searches (to size points).\n",
    "# Again, for each district we want to know the number of white+black searches\n",
    "# and white+Hispanic searches. This requires the same spreading and gathering\n",
    "# as our previous data-munging.\n",
    "search_counts <-\n",
    "  stops_w_yr %>% \n",
    "  filter(searched) %>%  \n",
    "  count(district, race) %>% \n",
    "  spread(race, n, fill = 0) %>% \n",
    "  rename(num_white_searches = white) %>% \n",
    "  gather(\n",
    "      minority_race, num_minority_searches, \n",
    "      c(black, hispanic, `asian/pacific islander`, other)\n",
    "  ) %>% \n",
    "  mutate(num_searches = num_minority_searches + num_white_searches) %>% \n",
    "  select(district, minority_race, num_searches)\n",
    "\n",
    "# Now let's plot!\n",
    "reshaped_hit_rates %>% \n",
    "  left_join(\n",
    "    search_counts, \n",
    "    by = c(\"district\", \"minority_race\")\n",
    "  ) %>% \n",
    "  ggplot(aes(\n",
    "    x = white_hit_rate,\n",
    "    y = minority_hit_rate\n",
    "  )) +\n",
    "  geom_point(aes(size = num_searches), pch = 21) +\n",
    "  geom_abline(slope = 1, intercept = 0, linetype = \"dashed\") +\n",
    "  scale_x_continuous(\"White hit rate\", \n",
    "    limits = c(0, max_hit_rate + 0.01),\n",
    "    labels = scales::percent_format(accuracy = 1),\n",
    "    # forces axis to start _right_ at zero, no gap\n",
    "    expand = c(0,0)\n",
    "  ) +\n",
    "  scale_y_continuous(\"Minority hit rate\", \n",
    "    limits = c(0, max_hit_rate + 0.01),\n",
    "    labels = scales::percent_format(accuracy = 1),\n",
    "    # forces axis to start _right_ at zero, no gap\n",
    "    expand = c(0,0)\n",
    "  ) +\n",
    "  coord_fixed() +\n",
    "  facet_wrap(vars(minority_race))"
   ]
  },
  {
   "cell_type": "markdown",
   "metadata": {},
   "source": [
    "## Exercise 13: Plot interpretation\n",
    "\n",
    "**Explain what you see above. What does each point represent? What does the dotted line represent? What do these plots tell us about discrimination in search practices?**"
   ]
  },
  {
   "cell_type": "markdown",
   "metadata": {},
   "source": [
    "# Modeling\n",
    "\n",
    "Plotting allowed us to synthesize fifty hit rates into an understanding of racial disparities in SF's search policy. Our plot provides us with evidence that these searches are discriminatory against black and Hispanic drivers. \n",
    "\n",
    "What if we want to _quantify_ this disparity? Our plot just gives us intuition. Similar to how we were able to compute the ratio between black hit rates and white hit rates for the aggregate hit rate data (citywide), we might want to know what those ratios would be in each district. Instead of separately computing the hit rate for each race/district, we can instead use modeling to put numbers on these disparities. We can use *regression*: computing how likely an officer was to find contraband given the drivers' race and district.\n",
    "\n",
    "We're not going to teach the statistics behind regression right now. If you already know about regression, we're here to teach you how to run a regression in `R`. If you've never heard of regression before, maybe this short soiree into modeling will inspire you to learn! "
   ]
  },
  {
   "cell_type": "markdown",
   "metadata": {},
   "source": [
    "Our _outcome_ or _response_ variable, `contraband_found`, is a boolean (TRUE/FALSE, or 1/0) -- also known as a \"binomial\" variable. Recall that when we have an binomial outcome like this, we use logistic regression.\n",
    "\n",
    "Below, we create a dataframe with just the searches, and we convert all categorical variables to factors. A \"factor\" in `R` is has explicit levels -- it's telling the model not to derive a coefficient for each value within `race` and `district` (rather than treating them as continuous variables, with a single coefficient).\n",
    "\n",
    "For the model itself, we use `glm()`, which stands for \"generalized linear model\". We simply give `glm()` a formula: `response ~ covariate_1 + covariate_2 + ... + covariate_n`, the data, and then we specify the type of model we want to fit using the `family` argument. Logistic regression is \"binomial\" family."
   ]
  },
  {
   "cell_type": "code",
   "execution_count": 61,
   "metadata": {},
   "outputs": [
    {
     "data": {
      "text/html": [
       "<table>\n",
       "<caption>A tibble: 14 × 5</caption>\n",
       "<thead>\n",
       "\t<tr><th scope=col>term</th><th scope=col>estimate</th><th scope=col>std.error</th><th scope=col>statistic</th><th scope=col>p.value</th></tr>\n",
       "\t<tr><th scope=col>&lt;chr&gt;</th><th scope=col>&lt;dbl&gt;</th><th scope=col>&lt;dbl&gt;</th><th scope=col>&lt;dbl&gt;</th><th scope=col>&lt;dbl&gt;</th></tr>\n",
       "</thead>\n",
       "<tbody>\n",
       "\t<tr><td>(Intercept) </td><td>-0.670</td><td>0.0729</td><td> -9.19</td><td> 3.88e-20</td></tr>\n",
       "\t<tr><td>raceblack   </td><td>-1.456</td><td>0.0587</td><td>-24.82</td><td>5.52e-136</td></tr>\n",
       "\t<tr><td>racehispanic</td><td>-1.321</td><td>0.0643</td><td>-20.53</td><td> 1.12e-93</td></tr>\n",
       "\t<tr><td>raceother   </td><td>-0.656</td><td>0.0724</td><td> -9.06</td><td> 1.27e-19</td></tr>\n",
       "\t<tr><td>racewhite   </td><td>-0.414</td><td>0.0572</td><td> -7.23</td><td> 4.75e-13</td></tr>\n",
       "\t<tr><td>districtB   </td><td>-0.152</td><td>0.0714</td><td> -2.14</td><td> 3.27e-02</td></tr>\n",
       "\t<tr><td>districtC   </td><td>-0.360</td><td>0.0692</td><td> -5.20</td><td> 1.95e-07</td></tr>\n",
       "\t<tr><td>districtD   </td><td>-0.238</td><td>0.0723</td><td> -3.30</td><td> 9.75e-04</td></tr>\n",
       "\t<tr><td>districtE   </td><td>-0.323</td><td>0.0776</td><td> -4.16</td><td> 3.22e-05</td></tr>\n",
       "\t<tr><td>districtF   </td><td> 0.164</td><td>0.0899</td><td>  1.82</td><td> 6.87e-02</td></tr>\n",
       "\t<tr><td>districtG   </td><td> 0.409</td><td>0.0824</td><td>  4.97</td><td> 6.83e-07</td></tr>\n",
       "\t<tr><td>districtH   </td><td>-0.360</td><td>0.0711</td><td> -5.06</td><td> 4.18e-07</td></tr>\n",
       "\t<tr><td>districtI   </td><td> 0.177</td><td>0.0758</td><td>  2.33</td><td> 1.98e-02</td></tr>\n",
       "\t<tr><td>districtJ   </td><td>-0.148</td><td>0.0784</td><td> -1.88</td><td> 5.97e-02</td></tr>\n",
       "</tbody>\n",
       "</table>\n"
      ],
      "text/latex": [
       "A tibble: 14 × 5\n",
       "\\begin{tabular}{r|lllll}\n",
       " term & estimate & std.error & statistic & p.value\\\\\n",
       " <chr> & <dbl> & <dbl> & <dbl> & <dbl>\\\\\n",
       "\\hline\n",
       "\t (Intercept)  & -0.670 & 0.0729 &  -9.19 &  3.88e-20\\\\\n",
       "\t raceblack    & -1.456 & 0.0587 & -24.82 & 5.52e-136\\\\\n",
       "\t racehispanic & -1.321 & 0.0643 & -20.53 &  1.12e-93\\\\\n",
       "\t raceother    & -0.656 & 0.0724 &  -9.06 &  1.27e-19\\\\\n",
       "\t racewhite    & -0.414 & 0.0572 &  -7.23 &  4.75e-13\\\\\n",
       "\t districtB    & -0.152 & 0.0714 &  -2.14 &  3.27e-02\\\\\n",
       "\t districtC    & -0.360 & 0.0692 &  -5.20 &  1.95e-07\\\\\n",
       "\t districtD    & -0.238 & 0.0723 &  -3.30 &  9.75e-04\\\\\n",
       "\t districtE    & -0.323 & 0.0776 &  -4.16 &  3.22e-05\\\\\n",
       "\t districtF    &  0.164 & 0.0899 &   1.82 &  6.87e-02\\\\\n",
       "\t districtG    &  0.409 & 0.0824 &   4.97 &  6.83e-07\\\\\n",
       "\t districtH    & -0.360 & 0.0711 &  -5.06 &  4.18e-07\\\\\n",
       "\t districtI    &  0.177 & 0.0758 &   2.33 &  1.98e-02\\\\\n",
       "\t districtJ    & -0.148 & 0.0784 &  -1.88 &  5.97e-02\\\\\n",
       "\\end{tabular}\n"
      ],
      "text/markdown": [
       "\n",
       "A tibble: 14 × 5\n",
       "\n",
       "| term &lt;chr&gt; | estimate &lt;dbl&gt; | std.error &lt;dbl&gt; | statistic &lt;dbl&gt; | p.value &lt;dbl&gt; |\n",
       "|---|---|---|---|---|\n",
       "| (Intercept)  | -0.670 | 0.0729 |  -9.19 |  3.88e-20 |\n",
       "| raceblack    | -1.456 | 0.0587 | -24.82 | 5.52e-136 |\n",
       "| racehispanic | -1.321 | 0.0643 | -20.53 |  1.12e-93 |\n",
       "| raceother    | -0.656 | 0.0724 |  -9.06 |  1.27e-19 |\n",
       "| racewhite    | -0.414 | 0.0572 |  -7.23 |  4.75e-13 |\n",
       "| districtB    | -0.152 | 0.0714 |  -2.14 |  3.27e-02 |\n",
       "| districtC    | -0.360 | 0.0692 |  -5.20 |  1.95e-07 |\n",
       "| districtD    | -0.238 | 0.0723 |  -3.30 |  9.75e-04 |\n",
       "| districtE    | -0.323 | 0.0776 |  -4.16 |  3.22e-05 |\n",
       "| districtF    |  0.164 | 0.0899 |   1.82 |  6.87e-02 |\n",
       "| districtG    |  0.409 | 0.0824 |   4.97 |  6.83e-07 |\n",
       "| districtH    | -0.360 | 0.0711 |  -5.06 |  4.18e-07 |\n",
       "| districtI    |  0.177 | 0.0758 |   2.33 |  1.98e-02 |\n",
       "| districtJ    | -0.148 | 0.0784 |  -1.88 |  5.97e-02 |\n",
       "\n"
      ],
      "text/plain": [
       "   term         estimate std.error statistic p.value  \n",
       "1  (Intercept)  -0.670   0.0729     -9.19     3.88e-20\n",
       "2  raceblack    -1.456   0.0587    -24.82    5.52e-136\n",
       "3  racehispanic -1.321   0.0643    -20.53     1.12e-93\n",
       "4  raceother    -0.656   0.0724     -9.06     1.27e-19\n",
       "5  racewhite    -0.414   0.0572     -7.23     4.75e-13\n",
       "6  districtB    -0.152   0.0714     -2.14     3.27e-02\n",
       "7  districtC    -0.360   0.0692     -5.20     1.95e-07\n",
       "8  districtD    -0.238   0.0723     -3.30     9.75e-04\n",
       "9  districtE    -0.323   0.0776     -4.16     3.22e-05\n",
       "10 districtF     0.164   0.0899      1.82     6.87e-02\n",
       "11 districtG     0.409   0.0824      4.97     6.83e-07\n",
       "12 districtH    -0.360   0.0711     -5.06     4.18e-07\n",
       "13 districtI     0.177   0.0758      2.33     1.98e-02\n",
       "14 districtJ    -0.148   0.0784     -1.88     5.97e-02"
      ]
     },
     "metadata": {},
     "output_type": "display_data"
    }
   ],
   "source": [
    "library(broom) #library for turning messy r output to tidy dataframes\n",
    "\n",
    "searched_df <- stops_w_yr %>% \n",
    "    filter(searched) %>%\n",
    "    mutate(\n",
    "        race = factor(race),\n",
    "        district = factor(district)\n",
    "    )\n",
    "\n",
    "mod <- glm(\n",
    "    contraband_found ~ race + district, \n",
    "    data = searched_df, \n",
    "    family = 'binomial'\n",
    ")\n",
    "\n",
    "tidy(mod)"
   ]
  },
  {
   "cell_type": "markdown",
   "metadata": {},
   "source": [
    "Notice that there is no term for \"asian/pacific islander\" or \"district A\" in the above table.  This is because they were set as reference levels, which happens whenever you use a categorical variable in a regression.  We want to set white as the reference level for race so that we can read the coefficients for other races as comparisons to white hit rates. We can do this using the `relevel` function. "
   ]
  },
  {
   "cell_type": "code",
   "execution_count": 62,
   "metadata": {},
   "outputs": [
    {
     "data": {
      "text/html": [
       "<table>\n",
       "<caption>A tibble: 14 × 5</caption>\n",
       "<thead>\n",
       "\t<tr><th scope=col>term</th><th scope=col>estimate</th><th scope=col>std.error</th><th scope=col>statistic</th><th scope=col>p.value</th></tr>\n",
       "\t<tr><th scope=col>&lt;chr&gt;</th><th scope=col>&lt;dbl&gt;</th><th scope=col>&lt;dbl&gt;</th><th scope=col>&lt;dbl&gt;</th><th scope=col>&lt;dbl&gt;</th></tr>\n",
       "</thead>\n",
       "<tbody>\n",
       "\t<tr><td>(Intercept)               </td><td>-1.084</td><td>0.0597</td><td>-18.15</td><td> 1.32e-73</td></tr>\n",
       "\t<tr><td>raceasian/pacific islander</td><td> 0.414</td><td>0.0572</td><td>  7.23</td><td> 4.75e-13</td></tr>\n",
       "\t<tr><td>raceblack                 </td><td>-1.042</td><td>0.0407</td><td>-25.62</td><td>9.40e-145</td></tr>\n",
       "\t<tr><td>racehispanic              </td><td>-0.907</td><td>0.0486</td><td>-18.68</td><td> 7.91e-78</td></tr>\n",
       "\t<tr><td>raceother                 </td><td>-0.243</td><td>0.0591</td><td> -4.11</td><td> 3.98e-05</td></tr>\n",
       "\t<tr><td>districtB                 </td><td>-0.152</td><td>0.0714</td><td> -2.14</td><td> 3.27e-02</td></tr>\n",
       "\t<tr><td>districtC                 </td><td>-0.360</td><td>0.0692</td><td> -5.20</td><td> 1.95e-07</td></tr>\n",
       "\t<tr><td>districtD                 </td><td>-0.238</td><td>0.0723</td><td> -3.30</td><td> 9.75e-04</td></tr>\n",
       "\t<tr><td>districtE                 </td><td>-0.323</td><td>0.0776</td><td> -4.16</td><td> 3.22e-05</td></tr>\n",
       "\t<tr><td>districtF                 </td><td> 0.164</td><td>0.0899</td><td>  1.82</td><td> 6.87e-02</td></tr>\n",
       "\t<tr><td>districtG                 </td><td> 0.409</td><td>0.0824</td><td>  4.97</td><td> 6.83e-07</td></tr>\n",
       "\t<tr><td>districtH                 </td><td>-0.360</td><td>0.0711</td><td> -5.06</td><td> 4.18e-07</td></tr>\n",
       "\t<tr><td>districtI                 </td><td> 0.177</td><td>0.0758</td><td>  2.33</td><td> 1.98e-02</td></tr>\n",
       "\t<tr><td>districtJ                 </td><td>-0.148</td><td>0.0784</td><td> -1.88</td><td> 5.97e-02</td></tr>\n",
       "</tbody>\n",
       "</table>\n"
      ],
      "text/latex": [
       "A tibble: 14 × 5\n",
       "\\begin{tabular}{r|lllll}\n",
       " term & estimate & std.error & statistic & p.value\\\\\n",
       " <chr> & <dbl> & <dbl> & <dbl> & <dbl>\\\\\n",
       "\\hline\n",
       "\t (Intercept)                & -1.084 & 0.0597 & -18.15 &  1.32e-73\\\\\n",
       "\t raceasian/pacific islander &  0.414 & 0.0572 &   7.23 &  4.75e-13\\\\\n",
       "\t raceblack                  & -1.042 & 0.0407 & -25.62 & 9.40e-145\\\\\n",
       "\t racehispanic               & -0.907 & 0.0486 & -18.68 &  7.91e-78\\\\\n",
       "\t raceother                  & -0.243 & 0.0591 &  -4.11 &  3.98e-05\\\\\n",
       "\t districtB                  & -0.152 & 0.0714 &  -2.14 &  3.27e-02\\\\\n",
       "\t districtC                  & -0.360 & 0.0692 &  -5.20 &  1.95e-07\\\\\n",
       "\t districtD                  & -0.238 & 0.0723 &  -3.30 &  9.75e-04\\\\\n",
       "\t districtE                  & -0.323 & 0.0776 &  -4.16 &  3.22e-05\\\\\n",
       "\t districtF                  &  0.164 & 0.0899 &   1.82 &  6.87e-02\\\\\n",
       "\t districtG                  &  0.409 & 0.0824 &   4.97 &  6.83e-07\\\\\n",
       "\t districtH                  & -0.360 & 0.0711 &  -5.06 &  4.18e-07\\\\\n",
       "\t districtI                  &  0.177 & 0.0758 &   2.33 &  1.98e-02\\\\\n",
       "\t districtJ                  & -0.148 & 0.0784 &  -1.88 &  5.97e-02\\\\\n",
       "\\end{tabular}\n"
      ],
      "text/markdown": [
       "\n",
       "A tibble: 14 × 5\n",
       "\n",
       "| term &lt;chr&gt; | estimate &lt;dbl&gt; | std.error &lt;dbl&gt; | statistic &lt;dbl&gt; | p.value &lt;dbl&gt; |\n",
       "|---|---|---|---|---|\n",
       "| (Intercept)                | -1.084 | 0.0597 | -18.15 |  1.32e-73 |\n",
       "| raceasian/pacific islander |  0.414 | 0.0572 |   7.23 |  4.75e-13 |\n",
       "| raceblack                  | -1.042 | 0.0407 | -25.62 | 9.40e-145 |\n",
       "| racehispanic               | -0.907 | 0.0486 | -18.68 |  7.91e-78 |\n",
       "| raceother                  | -0.243 | 0.0591 |  -4.11 |  3.98e-05 |\n",
       "| districtB                  | -0.152 | 0.0714 |  -2.14 |  3.27e-02 |\n",
       "| districtC                  | -0.360 | 0.0692 |  -5.20 |  1.95e-07 |\n",
       "| districtD                  | -0.238 | 0.0723 |  -3.30 |  9.75e-04 |\n",
       "| districtE                  | -0.323 | 0.0776 |  -4.16 |  3.22e-05 |\n",
       "| districtF                  |  0.164 | 0.0899 |   1.82 |  6.87e-02 |\n",
       "| districtG                  |  0.409 | 0.0824 |   4.97 |  6.83e-07 |\n",
       "| districtH                  | -0.360 | 0.0711 |  -5.06 |  4.18e-07 |\n",
       "| districtI                  |  0.177 | 0.0758 |   2.33 |  1.98e-02 |\n",
       "| districtJ                  | -0.148 | 0.0784 |  -1.88 |  5.97e-02 |\n",
       "\n"
      ],
      "text/plain": [
       "   term                       estimate std.error statistic p.value  \n",
       "1  (Intercept)                -1.084   0.0597    -18.15     1.32e-73\n",
       "2  raceasian/pacific islander  0.414   0.0572      7.23     4.75e-13\n",
       "3  raceblack                  -1.042   0.0407    -25.62    9.40e-145\n",
       "4  racehispanic               -0.907   0.0486    -18.68     7.91e-78\n",
       "5  raceother                  -0.243   0.0591     -4.11     3.98e-05\n",
       "6  districtB                  -0.152   0.0714     -2.14     3.27e-02\n",
       "7  districtC                  -0.360   0.0692     -5.20     1.95e-07\n",
       "8  districtD                  -0.238   0.0723     -3.30     9.75e-04\n",
       "9  districtE                  -0.323   0.0776     -4.16     3.22e-05\n",
       "10 districtF                   0.164   0.0899      1.82     6.87e-02\n",
       "11 districtG                   0.409   0.0824      4.97     6.83e-07\n",
       "12 districtH                  -0.360   0.0711     -5.06     4.18e-07\n",
       "13 districtI                   0.177   0.0758      2.33     1.98e-02\n",
       "14 districtJ                  -0.148   0.0784     -1.88     5.97e-02"
      ]
     },
     "metadata": {},
     "output_type": "display_data"
    }
   ],
   "source": [
    "searched_df <- searched_df %>%\n",
    "    mutate(race = relevel(race, ref = 'white'))\n",
    "\n",
    "mod <- glm(\n",
    "    contraband_found ~ race + district, \n",
    "    data = searched_df, \n",
    "    family = 'binomial'\n",
    ")\n",
    "tidy(mod)"
   ]
  },
  {
   "cell_type": "markdown",
   "metadata": {},
   "source": [
    "Now let's summarize our results by pulling out only the information we care about."
   ]
  },
  {
   "cell_type": "code",
   "execution_count": 63,
   "metadata": {},
   "outputs": [
    {
     "data": {
      "text/html": [
       "<table>\n",
       "<caption>A tibble: 4 × 5</caption>\n",
       "<thead>\n",
       "\t<tr><th scope=col>race</th><th scope=col>estimate</th><th scope=col>lower_ci</th><th scope=col>upper_ci</th><th scope=col>likelihood_recovery_v_white</th></tr>\n",
       "\t<tr><th scope=col>&lt;chr&gt;</th><th scope=col>&lt;dbl&gt;</th><th scope=col>&lt;dbl&gt;</th><th scope=col>&lt;dbl&gt;</th><th scope=col>&lt;dbl&gt;</th></tr>\n",
       "</thead>\n",
       "<tbody>\n",
       "\t<tr><td>asian/pacific islander</td><td> 0.414</td><td> 0.302</td><td> 0.526</td><td>1.512</td></tr>\n",
       "\t<tr><td>black                 </td><td>-1.042</td><td>-1.122</td><td>-0.963</td><td>0.353</td></tr>\n",
       "\t<tr><td>hispanic              </td><td>-0.907</td><td>-1.002</td><td>-0.812</td><td>0.404</td></tr>\n",
       "\t<tr><td>other                 </td><td>-0.243</td><td>-0.358</td><td>-0.127</td><td>0.785</td></tr>\n",
       "</tbody>\n",
       "</table>\n"
      ],
      "text/latex": [
       "A tibble: 4 × 5\n",
       "\\begin{tabular}{r|lllll}\n",
       " race & estimate & lower\\_ci & upper\\_ci & likelihood\\_recovery\\_v\\_white\\\\\n",
       " <chr> & <dbl> & <dbl> & <dbl> & <dbl>\\\\\n",
       "\\hline\n",
       "\t asian/pacific islander &  0.414 &  0.302 &  0.526 & 1.512\\\\\n",
       "\t black                  & -1.042 & -1.122 & -0.963 & 0.353\\\\\n",
       "\t hispanic               & -0.907 & -1.002 & -0.812 & 0.404\\\\\n",
       "\t other                  & -0.243 & -0.358 & -0.127 & 0.785\\\\\n",
       "\\end{tabular}\n"
      ],
      "text/markdown": [
       "\n",
       "A tibble: 4 × 5\n",
       "\n",
       "| race &lt;chr&gt; | estimate &lt;dbl&gt; | lower_ci &lt;dbl&gt; | upper_ci &lt;dbl&gt; | likelihood_recovery_v_white &lt;dbl&gt; |\n",
       "|---|---|---|---|---|\n",
       "| asian/pacific islander |  0.414 |  0.302 |  0.526 | 1.512 |\n",
       "| black                  | -1.042 | -1.122 | -0.963 | 0.353 |\n",
       "| hispanic               | -0.907 | -1.002 | -0.812 | 0.404 |\n",
       "| other                  | -0.243 | -0.358 | -0.127 | 0.785 |\n",
       "\n"
      ],
      "text/plain": [
       "  race                   estimate lower_ci upper_ci likelihood_recovery_v_white\n",
       "1 asian/pacific islander  0.414    0.302    0.526   1.512                      \n",
       "2 black                  -1.042   -1.122   -0.963   0.353                      \n",
       "3 hispanic               -0.907   -1.002   -0.812   0.404                      \n",
       "4 other                  -0.243   -0.358   -0.127   0.785                      "
      ]
     },
     "metadata": {},
     "output_type": "display_data"
    }
   ],
   "source": [
    "tidy(mod) %>%\n",
    "    filter(str_detect(term, \"race\")) %>%\n",
    "    mutate(\n",
    "        race = str_remove_all(term, \"race\"),\n",
    "        lower_ci = round(estimate - 1.96*std.error, 3),\n",
    "        upper_ci = round(estimate + 1.96*std.error, 3),\n",
    "        likelihood_recovery_v_white = exp(estimate)\n",
    "    ) %>%\n",
    "    select(\n",
    "        race, \n",
    "        estimate, \n",
    "        lower_ci, \n",
    "        upper_ci, \n",
    "        likelihood_recovery_v_white\n",
    "    )"
   ]
  },
  {
   "cell_type": "markdown",
   "metadata": {},
   "source": [
    "A _negative_ coefficient estimate tells us that searches of that race group are _less_ likely to recovery contraband than searches of white drivers in the same district.\n",
    "\n",
    "In line with our plots, we see that searches of both black and Hispanic drivers recover significantly less contraband than searches of white drivers. By exponentiating the point estimates, we can acquire values than allow us to make quantitative statements: Searches of black and Hispanic drivers recover contraband only 35% as often as searches of white drivers."
   ]
  },
  {
   "cell_type": "markdown",
   "metadata": {},
   "source": [
    "### Exercise 14\n",
    "\n",
    "1. **Fit a model to predict how likely a person is to be searched, given their race, district, gender, age, and reason for stop. Name your model `search_mod`.** Hint: Remember to turn _categorical_ variables into \"factors\", and to relevel your race variable to be able to answer part 2. \n",
    "\n",
    "2. **Use your model to answer: How much more likely to be searched are black and Hispanic drivers compared to similarly situated white drivers? (i.e., compared to white drivers of the same age and gender, stopped in the same district for the same reason)**"
   ]
  },
  {
   "cell_type": "code",
   "execution_count": 64,
   "metadata": {},
   "outputs": [
    {
     "data": {
      "text/html": [
       "<table>\n",
       "<caption>A tibble: 23 × 5</caption>\n",
       "<thead>\n",
       "\t<tr><th scope=col>term</th><th scope=col>estimate</th><th scope=col>std.error</th><th scope=col>statistic</th><th scope=col>p.value</th></tr>\n",
       "\t<tr><th scope=col>&lt;chr&gt;</th><th scope=col>&lt;dbl&gt;</th><th scope=col>&lt;dbl&gt;</th><th scope=col>&lt;dbl&gt;</th><th scope=col>&lt;dbl&gt;</th></tr>\n",
       "</thead>\n",
       "<tbody>\n",
       "\t<tr><td>(Intercept)                                  </td><td>-1.3411</td><td>0.117343</td><td>-11.429</td><td> 3.01e-30</td></tr>\n",
       "\t<tr><td>raceasian/pacific islander                   </td><td>-0.5778</td><td>0.026807</td><td>-21.553</td><td>4.98e-103</td></tr>\n",
       "\t<tr><td>raceblack                                    </td><td> 1.5118</td><td>0.015680</td><td> 96.416</td><td> 0.00e+00</td></tr>\n",
       "\t<tr><td>racehispanic                                 </td><td> 0.8403</td><td>0.017842</td><td> 47.097</td><td> 0.00e+00</td></tr>\n",
       "\t<tr><td>raceother                                    </td><td>-0.0760</td><td>0.024316</td><td> -3.126</td><td> 1.77e-03</td></tr>\n",
       "\t<tr><td>districtB                                    </td><td> 0.2656</td><td>0.028144</td><td>  9.438</td><td> 3.82e-21</td></tr>\n",
       "\t<tr><td>districtC                                    </td><td> 0.4839</td><td>0.026523</td><td> 18.243</td><td> 2.34e-74</td></tr>\n",
       "\t<tr><td>districtD                                    </td><td> 0.4128</td><td>0.028021</td><td> 14.732</td><td> 4.00e-49</td></tr>\n",
       "\t<tr><td>districtE                                    </td><td> 0.4156</td><td>0.029882</td><td> 13.907</td><td> 5.72e-44</td></tr>\n",
       "\t<tr><td>districtF                                    </td><td>-0.2214</td><td>0.037260</td><td> -5.943</td><td> 2.79e-09</td></tr>\n",
       "\t<tr><td>districtG                                    </td><td>-0.2935</td><td>0.035931</td><td> -8.168</td><td> 3.14e-16</td></tr>\n",
       "\t<tr><td>districtH                                    </td><td> 0.3090</td><td>0.027468</td><td> 11.251</td><td> 2.28e-29</td></tr>\n",
       "\t<tr><td>districtI                                    </td><td>-0.1152</td><td>0.031685</td><td> -3.636</td><td> 2.76e-04</td></tr>\n",
       "\t<tr><td>districtJ                                    </td><td> 0.5874</td><td>0.030407</td><td> 19.318</td><td> 3.77e-83</td></tr>\n",
       "\t<tr><td>genderfemale                                 </td><td>-0.8348</td><td>0.015221</td><td>-54.847</td><td> 0.00e+00</td></tr>\n",
       "\t<tr><td>age                                          </td><td>-0.0357</td><td>0.000507</td><td>-70.284</td><td> 0.00e+00</td></tr>\n",
       "\t<tr><td>reason_for_stopDUI Check                     </td><td> 0.5419</td><td>0.150324</td><td>  3.605</td><td> 3.12e-04</td></tr>\n",
       "\t<tr><td>reason_for_stopEquipment violation           </td><td>-0.6956</td><td>0.113694</td><td> -6.118</td><td> 9.46e-10</td></tr>\n",
       "\t<tr><td>reason_for_stopMoving violation              </td><td>-0.9428</td><td>0.113687</td><td> -8.293</td><td> 1.11e-16</td></tr>\n",
       "\t<tr><td>reason_for_stopMPC violation                 </td><td>-0.3410</td><td>0.129240</td><td> -2.638</td><td> 8.33e-03</td></tr>\n",
       "\t<tr><td>reason_for_stopMultiple reasons or violations</td><td>-0.2251</td><td>0.368045</td><td> -0.612</td><td> 5.41e-01</td></tr>\n",
       "\t<tr><td>reason_for_stopTraffic collision             </td><td> 0.8693</td><td>0.143190</td><td>  6.071</td><td> 1.27e-09</td></tr>\n",
       "\t<tr><td>reason_for_stopWarrant                       </td><td> 1.4908</td><td>0.134579</td><td> 11.078</td><td> 1.61e-28</td></tr>\n",
       "</tbody>\n",
       "</table>\n"
      ],
      "text/latex": [
       "A tibble: 23 × 5\n",
       "\\begin{tabular}{r|lllll}\n",
       " term & estimate & std.error & statistic & p.value\\\\\n",
       " <chr> & <dbl> & <dbl> & <dbl> & <dbl>\\\\\n",
       "\\hline\n",
       "\t (Intercept)                                   & -1.3411 & 0.117343 & -11.429 &  3.01e-30\\\\\n",
       "\t raceasian/pacific islander                    & -0.5778 & 0.026807 & -21.553 & 4.98e-103\\\\\n",
       "\t raceblack                                     &  1.5118 & 0.015680 &  96.416 &  0.00e+00\\\\\n",
       "\t racehispanic                                  &  0.8403 & 0.017842 &  47.097 &  0.00e+00\\\\\n",
       "\t raceother                                     & -0.0760 & 0.024316 &  -3.126 &  1.77e-03\\\\\n",
       "\t districtB                                     &  0.2656 & 0.028144 &   9.438 &  3.82e-21\\\\\n",
       "\t districtC                                     &  0.4839 & 0.026523 &  18.243 &  2.34e-74\\\\\n",
       "\t districtD                                     &  0.4128 & 0.028021 &  14.732 &  4.00e-49\\\\\n",
       "\t districtE                                     &  0.4156 & 0.029882 &  13.907 &  5.72e-44\\\\\n",
       "\t districtF                                     & -0.2214 & 0.037260 &  -5.943 &  2.79e-09\\\\\n",
       "\t districtG                                     & -0.2935 & 0.035931 &  -8.168 &  3.14e-16\\\\\n",
       "\t districtH                                     &  0.3090 & 0.027468 &  11.251 &  2.28e-29\\\\\n",
       "\t districtI                                     & -0.1152 & 0.031685 &  -3.636 &  2.76e-04\\\\\n",
       "\t districtJ                                     &  0.5874 & 0.030407 &  19.318 &  3.77e-83\\\\\n",
       "\t genderfemale                                  & -0.8348 & 0.015221 & -54.847 &  0.00e+00\\\\\n",
       "\t age                                           & -0.0357 & 0.000507 & -70.284 &  0.00e+00\\\\\n",
       "\t reason\\_for\\_stopDUI Check                      &  0.5419 & 0.150324 &   3.605 &  3.12e-04\\\\\n",
       "\t reason\\_for\\_stopEquipment violation            & -0.6956 & 0.113694 &  -6.118 &  9.46e-10\\\\\n",
       "\t reason\\_for\\_stopMoving violation               & -0.9428 & 0.113687 &  -8.293 &  1.11e-16\\\\\n",
       "\t reason\\_for\\_stopMPC violation                  & -0.3410 & 0.129240 &  -2.638 &  8.33e-03\\\\\n",
       "\t reason\\_for\\_stopMultiple reasons or violations & -0.2251 & 0.368045 &  -0.612 &  5.41e-01\\\\\n",
       "\t reason\\_for\\_stopTraffic collision              &  0.8693 & 0.143190 &   6.071 &  1.27e-09\\\\\n",
       "\t reason\\_for\\_stopWarrant                        &  1.4908 & 0.134579 &  11.078 &  1.61e-28\\\\\n",
       "\\end{tabular}\n"
      ],
      "text/markdown": [
       "\n",
       "A tibble: 23 × 5\n",
       "\n",
       "| term &lt;chr&gt; | estimate &lt;dbl&gt; | std.error &lt;dbl&gt; | statistic &lt;dbl&gt; | p.value &lt;dbl&gt; |\n",
       "|---|---|---|---|---|\n",
       "| (Intercept)                                   | -1.3411 | 0.117343 | -11.429 |  3.01e-30 |\n",
       "| raceasian/pacific islander                    | -0.5778 | 0.026807 | -21.553 | 4.98e-103 |\n",
       "| raceblack                                     |  1.5118 | 0.015680 |  96.416 |  0.00e+00 |\n",
       "| racehispanic                                  |  0.8403 | 0.017842 |  47.097 |  0.00e+00 |\n",
       "| raceother                                     | -0.0760 | 0.024316 |  -3.126 |  1.77e-03 |\n",
       "| districtB                                     |  0.2656 | 0.028144 |   9.438 |  3.82e-21 |\n",
       "| districtC                                     |  0.4839 | 0.026523 |  18.243 |  2.34e-74 |\n",
       "| districtD                                     |  0.4128 | 0.028021 |  14.732 |  4.00e-49 |\n",
       "| districtE                                     |  0.4156 | 0.029882 |  13.907 |  5.72e-44 |\n",
       "| districtF                                     | -0.2214 | 0.037260 |  -5.943 |  2.79e-09 |\n",
       "| districtG                                     | -0.2935 | 0.035931 |  -8.168 |  3.14e-16 |\n",
       "| districtH                                     |  0.3090 | 0.027468 |  11.251 |  2.28e-29 |\n",
       "| districtI                                     | -0.1152 | 0.031685 |  -3.636 |  2.76e-04 |\n",
       "| districtJ                                     |  0.5874 | 0.030407 |  19.318 |  3.77e-83 |\n",
       "| genderfemale                                  | -0.8348 | 0.015221 | -54.847 |  0.00e+00 |\n",
       "| age                                           | -0.0357 | 0.000507 | -70.284 |  0.00e+00 |\n",
       "| reason_for_stopDUI Check                      |  0.5419 | 0.150324 |   3.605 |  3.12e-04 |\n",
       "| reason_for_stopEquipment violation            | -0.6956 | 0.113694 |  -6.118 |  9.46e-10 |\n",
       "| reason_for_stopMoving violation               | -0.9428 | 0.113687 |  -8.293 |  1.11e-16 |\n",
       "| reason_for_stopMPC violation                  | -0.3410 | 0.129240 |  -2.638 |  8.33e-03 |\n",
       "| reason_for_stopMultiple reasons or violations | -0.2251 | 0.368045 |  -0.612 |  5.41e-01 |\n",
       "| reason_for_stopTraffic collision              |  0.8693 | 0.143190 |   6.071 |  1.27e-09 |\n",
       "| reason_for_stopWarrant                        |  1.4908 | 0.134579 |  11.078 |  1.61e-28 |\n",
       "\n"
      ],
      "text/plain": [
       "   term                                          estimate std.error statistic\n",
       "1  (Intercept)                                   -1.3411  0.117343  -11.429  \n",
       "2  raceasian/pacific islander                    -0.5778  0.026807  -21.553  \n",
       "3  raceblack                                      1.5118  0.015680   96.416  \n",
       "4  racehispanic                                   0.8403  0.017842   47.097  \n",
       "5  raceother                                     -0.0760  0.024316   -3.126  \n",
       "6  districtB                                      0.2656  0.028144    9.438  \n",
       "7  districtC                                      0.4839  0.026523   18.243  \n",
       "8  districtD                                      0.4128  0.028021   14.732  \n",
       "9  districtE                                      0.4156  0.029882   13.907  \n",
       "10 districtF                                     -0.2214  0.037260   -5.943  \n",
       "11 districtG                                     -0.2935  0.035931   -8.168  \n",
       "12 districtH                                      0.3090  0.027468   11.251  \n",
       "13 districtI                                     -0.1152  0.031685   -3.636  \n",
       "14 districtJ                                      0.5874  0.030407   19.318  \n",
       "15 genderfemale                                  -0.8348  0.015221  -54.847  \n",
       "16 age                                           -0.0357  0.000507  -70.284  \n",
       "17 reason_for_stopDUI Check                       0.5419  0.150324    3.605  \n",
       "18 reason_for_stopEquipment violation            -0.6956  0.113694   -6.118  \n",
       "19 reason_for_stopMoving violation               -0.9428  0.113687   -8.293  \n",
       "20 reason_for_stopMPC violation                  -0.3410  0.129240   -2.638  \n",
       "21 reason_for_stopMultiple reasons or violations -0.2251  0.368045   -0.612  \n",
       "22 reason_for_stopTraffic collision               0.8693  0.143190    6.071  \n",
       "23 reason_for_stopWarrant                         1.4908  0.134579   11.078  \n",
       "   p.value  \n",
       "1   3.01e-30\n",
       "2  4.98e-103\n",
       "3   0.00e+00\n",
       "4   0.00e+00\n",
       "5   1.77e-03\n",
       "6   3.82e-21\n",
       "7   2.34e-74\n",
       "8   4.00e-49\n",
       "9   5.72e-44\n",
       "10  2.79e-09\n",
       "11  3.14e-16\n",
       "12  2.28e-29\n",
       "13  2.76e-04\n",
       "14  3.77e-83\n",
       "15  0.00e+00\n",
       "16  0.00e+00\n",
       "17  3.12e-04\n",
       "18  9.46e-10\n",
       "19  1.11e-16\n",
       "20  8.33e-03\n",
       "21  5.41e-01\n",
       "22  1.27e-09\n",
       "23  1.61e-28"
      ]
     },
     "metadata": {},
     "output_type": "display_data"
    }
   ],
   "source": [
    "# EXERCISE 14.1: YOUR CODE HERE\n",
    "# START\n",
    "stops_and_searches <- stops_w_yr %>%\n",
    "    mutate(\n",
    "        race = relevel(factor(race), ref = 'white'),\n",
    "        district = factor(district),\n",
    "        gender = factor(gender),\n",
    "        reason_for_stop = factor(reason_for_stop)\n",
    "    )\n",
    "search_mod <- glm(\n",
    "    searched ~ race + district + gender + age + reason_for_stop, \n",
    "    data = stops_and_searches, \n",
    "    family = 'binomial'\n",
    ")\n",
    "tidy(search_mod)\n",
    "# END"
   ]
  },
  {
   "cell_type": "code",
   "execution_count": 65,
   "metadata": {},
   "outputs": [
    {
     "data": {
      "text/html": [
       "<table>\n",
       "<caption>A tibble: 4 × 5</caption>\n",
       "<thead>\n",
       "\t<tr><th scope=col>race</th><th scope=col>estimate</th><th scope=col>lower_ci</th><th scope=col>upper_ci</th><th scope=col>likelihood_search_v_white</th></tr>\n",
       "\t<tr><th scope=col>&lt;chr&gt;</th><th scope=col>&lt;dbl&gt;</th><th scope=col>&lt;dbl&gt;</th><th scope=col>&lt;dbl&gt;</th><th scope=col>&lt;dbl&gt;</th></tr>\n",
       "</thead>\n",
       "<tbody>\n",
       "\t<tr><td>asian/pacific islander</td><td>-0.578</td><td>-0.630</td><td>-0.525</td><td>0.561</td></tr>\n",
       "\t<tr><td>black                 </td><td> 1.512</td><td> 1.481</td><td> 1.543</td><td>4.535</td></tr>\n",
       "\t<tr><td>hispanic              </td><td> 0.840</td><td> 0.805</td><td> 0.875</td><td>2.317</td></tr>\n",
       "\t<tr><td>other                 </td><td>-0.076</td><td>-0.124</td><td>-0.028</td><td>0.927</td></tr>\n",
       "</tbody>\n",
       "</table>\n"
      ],
      "text/latex": [
       "A tibble: 4 × 5\n",
       "\\begin{tabular}{r|lllll}\n",
       " race & estimate & lower\\_ci & upper\\_ci & likelihood\\_search\\_v\\_white\\\\\n",
       " <chr> & <dbl> & <dbl> & <dbl> & <dbl>\\\\\n",
       "\\hline\n",
       "\t asian/pacific islander & -0.578 & -0.630 & -0.525 & 0.561\\\\\n",
       "\t black                  &  1.512 &  1.481 &  1.543 & 4.535\\\\\n",
       "\t hispanic               &  0.840 &  0.805 &  0.875 & 2.317\\\\\n",
       "\t other                  & -0.076 & -0.124 & -0.028 & 0.927\\\\\n",
       "\\end{tabular}\n"
      ],
      "text/markdown": [
       "\n",
       "A tibble: 4 × 5\n",
       "\n",
       "| race &lt;chr&gt; | estimate &lt;dbl&gt; | lower_ci &lt;dbl&gt; | upper_ci &lt;dbl&gt; | likelihood_search_v_white &lt;dbl&gt; |\n",
       "|---|---|---|---|---|\n",
       "| asian/pacific islander | -0.578 | -0.630 | -0.525 | 0.561 |\n",
       "| black                  |  1.512 |  1.481 |  1.543 | 4.535 |\n",
       "| hispanic               |  0.840 |  0.805 |  0.875 | 2.317 |\n",
       "| other                  | -0.076 | -0.124 | -0.028 | 0.927 |\n",
       "\n"
      ],
      "text/plain": [
       "  race                   estimate lower_ci upper_ci likelihood_search_v_white\n",
       "1 asian/pacific islander -0.578   -0.630   -0.525   0.561                    \n",
       "2 black                   1.512    1.481    1.543   4.535                    \n",
       "3 hispanic                0.840    0.805    0.875   2.317                    \n",
       "4 other                  -0.076   -0.124   -0.028   0.927                    "
      ]
     },
     "metadata": {},
     "output_type": "display_data"
    }
   ],
   "source": [
    "# EXERCISE 14.2: YOUR CODE HERE\n",
    "# START\n",
    "tidy(search_mod) %>%\n",
    "    filter(str_detect(term, \"race\")) %>%\n",
    "    mutate(\n",
    "        race = str_remove_all(term, \"race\"),\n",
    "        lower_ci = round(estimate - 1.96*std.error, 3),\n",
    "        upper_ci = round(estimate + 1.96*std.error, 3),\n",
    "        likelihood_search_v_white = exp(estimate)\n",
    "    ) %>%\n",
    "    select(\n",
    "        race, \n",
    "        estimate, \n",
    "        lower_ci, \n",
    "        upper_ci, \n",
    "        likelihood_search_v_white\n",
    "    )\n",
    "# END"
   ]
  },
  {
   "cell_type": "markdown",
   "metadata": {},
   "source": [
    "### Model prediction\n",
    "\n",
    "Often times you'll want to train a model in order to use it to make predictions. Let's use your model from Exercise 14, `search_mod`, to help predict the likelihood of being searched for a white female, age 27, living in district E, who was stopped for a moving violation.\n",
    "\n",
    "Here's how we'd do that:"
   ]
  },
  {
   "cell_type": "code",
   "execution_count": 66,
   "metadata": {},
   "outputs": [
    {
     "data": {
      "text/html": [
       "<strong>1:</strong> 0.025"
      ],
      "text/latex": [
       "\\textbf{1:} 0.025"
      ],
      "text/markdown": [
       "**1:** 0.025"
      ],
      "text/plain": [
       "    1 \n",
       "0.025 "
      ]
     },
     "metadata": {},
     "output_type": "display_data"
    }
   ],
   "source": [
    "person <- tibble(\n",
    "    race = c('white'),\n",
    "    gender = c('female'),\n",
    "    age = c(27),\n",
    "    district = c('E'),\n",
    "    reason_for_stop = c('Moving violation')\n",
    ")\n",
    "predict(search_mod, person, type = 'response') %>% round(3)"
   ]
  },
  {
   "cell_type": "markdown",
   "metadata": {},
   "source": [
    "**Statistical note:** We need `type = 'response'` so that R knows we want it to output probabilities.  Otherwise, it will output log odds, which is the scale that logistic regression uses.  "
   ]
  },
  {
   "cell_type": "markdown",
   "metadata": {},
   "source": [
    "### Exercise 15: Many predictions\n",
    "\n",
    "Instead of just passing one person to `predict()`, we can pass in lots of different people! \n",
    "\n",
    "1. Create a dataframe (or \"tibble\") called `people`, with 10 rows and two columns. As with `person` our columns will be \"race\", \"gender\", \"age\", \"district\", and \"reason_for_stop\". \n",
    "  * Let's make each of them in a different district (there are 10 districts in our dataset).\n",
    "  * Half male, half female.\n",
    "  * Your choose their races.\n",
    "  * You choose their ages!\n",
    "  * You choose their reasons for being stopped. (Make sure that you're choosing reasons from the ones listed in our dataset -- these are categorical.)\n",
    "  \n",
    "  Hint: the function `rep()` might be helpful!\n",
    "\n",
    "2. Now use `predict` to calculate how likely your people is to be searched in each district in SF."
   ]
  },
  {
   "cell_type": "code",
   "execution_count": 99,
   "metadata": {},
   "outputs": [],
   "source": [
    "# YOUR CODE HERE"
   ]
  }
 ],
 "metadata": {
  "kernelspec": {
   "display_name": "R",
   "language": "R",
   "name": "ir"
  },
  "language_info": {
   "codemirror_mode": "r",
   "file_extension": ".r",
   "mimetype": "text/x-r-source",
   "name": "R",
   "pygments_lexer": "r",
   "version": "4.2.1"
  }
 },
 "nbformat": 4,
 "nbformat_minor": 4
}
