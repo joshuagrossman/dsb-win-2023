{
 "cells": [
  {
   "cell_type": "markdown",
   "metadata": {},
   "source": [
    "# 🚘 Analyzing SF traffic stops with `R`: Part 3"
   ]
  },
  {
   "cell_type": "markdown",
   "metadata": {},
   "source": [
    "<img src=\"img/sf-traffic-3.jpg\" alt=\"traffic\" width=\"400\" align=\"left\"/>"
   ]
  },
  {
   "cell_type": "markdown",
   "metadata": {},
   "source": [
    "This is Part 3. Other parts can be found [here](https://www.jdgrossman.com).\n",
    "\n",
    "## Introduction\n",
    "\n",
    "In this series of tutorials, we'll use `R` to explore traffic stops in San Francisco (SF). In particular, we'll investigate whether there is evidence of racial discrimination in SF's policing practices. \n",
    "\n",
    "> **Important note**: Policing can be a sensitive subject. It's important to remember that each row in our data represents a real interaction between a police officer and driver. Please keep this in mind as you work through the tutorial, and be sure to engage with the material to the extent you're comfortable. \n",
    "\n",
    "By the end of the tutorials, you'll have foundational understanding of the following:\n",
    "1. 📊 How to use `R` to explore tabular data and calculate descriptive statistics. \n",
    "2. 📈 How to make an informative plot with `R`\n",
    "2. ⚖️ How to approach questions about social policy with data. \n",
    "\n",
    "Let's get started!"
   ]
  },
  {
   "cell_type": "markdown",
   "metadata": {},
   "source": [
    "## ✅ Set up\n",
    "\n",
    "While the core `R` language contains many useful functions (e.g., `sum` and `sample`), there is vast functionality built on top of `R` by community members.\n",
    "\n",
    "Make sure to run the cell below. It imports additional useful functions, adjusts `R` settings, and loads in data. "
   ]
  },
  {
   "cell_type": "code",
   "execution_count": 2,
   "metadata": {},
   "outputs": [],
   "source": [
    "# Load in additional functions\n",
    "library(tidyverse)\n",
    "library(lubridate)\n",
    "\n",
    "# Use three digits past the decimal point\n",
    "options(digits = 3)\n",
    "\n",
    "# This makes our plots look nice!\n",
    "theme_set(theme_bw())\n",
    "\n",
    "# This is where the data is stored.\n",
    "STOPS_PATH = \"https://github.com/joshuagrossman/dsb-win-2023/raw/main/opp-munging-plotting/data/sf_stop_data.rds\"\n",
    "POP_PATH = \"https://github.com/joshuagrossman/dsb-win-2023/raw/main/opp-munging-plotting/data/sf_pop_2015.rds\"\n",
    "\n",
    "# Read in the data\n",
    "stops <- read_rds(STOPS_PATH)\n",
    "pop_2015 <- read_rds(POP_PATH)\n",
    "\n",
    "# Data modifications from Part 1 and\n",
    "# additional modification for learning purposes. \n",
    "stops_w_yr = stops %>% \n",
    "  mutate(\n",
    "    yr = year(date)\n",
    "  )\n",
    "\n",
    "pop_2015 = pop_2015 %>%\n",
    "  mutate(prop_residents = n_people/sum(n_people))"
   ]
  },
  {
   "cell_type": "markdown",
   "metadata": {
    "tags": []
   },
   "source": [
    "## 📝 Interpreting racial disparities\n",
    "\n",
    "In Part 1, we counted the number of stops among drivers each race and ethnicity group for the year 2015."
   ]
  },
  {
   "cell_type": "code",
   "execution_count": 4,
   "metadata": {},
   "outputs": [
    {
     "data": {
      "text/html": [
       "<table class=\"dataframe\">\n",
       "<caption>A tibble: 5 × 2</caption>\n",
       "<thead>\n",
       "\t<tr><th scope=col>race</th><th scope=col>n</th></tr>\n",
       "\t<tr><th scope=col>&lt;chr&gt;</th><th scope=col>&lt;int&gt;</th></tr>\n",
       "</thead>\n",
       "<tbody>\n",
       "\t<tr><td>asian/pacific islander</td><td>15498</td></tr>\n",
       "\t<tr><td>black                 </td><td>14955</td></tr>\n",
       "\t<tr><td>hispanic              </td><td>11911</td></tr>\n",
       "\t<tr><td>other                 </td><td>13560</td></tr>\n",
       "\t<tr><td>white                 </td><td>29765</td></tr>\n",
       "</tbody>\n",
       "</table>\n"
      ],
      "text/latex": [
       "A tibble: 5 × 2\n",
       "\\begin{tabular}{ll}\n",
       " race & n\\\\\n",
       " <chr> & <int>\\\\\n",
       "\\hline\n",
       "\t asian/pacific islander & 15498\\\\\n",
       "\t black                  & 14955\\\\\n",
       "\t hispanic               & 11911\\\\\n",
       "\t other                  & 13560\\\\\n",
       "\t white                  & 29765\\\\\n",
       "\\end{tabular}\n"
      ],
      "text/markdown": [
       "\n",
       "A tibble: 5 × 2\n",
       "\n",
       "| race &lt;chr&gt; | n &lt;int&gt; |\n",
       "|---|---|\n",
       "| asian/pacific islander | 15498 |\n",
       "| black                  | 14955 |\n",
       "| hispanic               | 11911 |\n",
       "| other                  | 13560 |\n",
       "| white                  | 29765 |\n",
       "\n"
      ],
      "text/plain": [
       "  race                   n    \n",
       "1 asian/pacific islander 15498\n",
       "2 black                  14955\n",
       "3 hispanic               11911\n",
       "4 other                  13560\n",
       "5 white                  29765"
      ]
     },
     "metadata": {},
     "output_type": "display_data"
    }
   ],
   "source": [
    "stops_2015 = stops_w_yr %>%\n",
    "  filter(yr==2015)\n",
    "\n",
    "# Note that this code is the same as count(stops_2015, race)\n",
    "stops_2015 %>%\n",
    "  group_by(race) %>%\n",
    "  summarize(n = n()) %>%\n",
    "  ungroup()"
   ]
  },
  {
   "cell_type": "markdown",
   "metadata": {},
   "source": [
    "For ease of interpretation, we can add a column with the proportion of all stops that occurred among drivers of each race group:"
   ]
  },
  {
   "cell_type": "code",
   "execution_count": 5,
   "metadata": {},
   "outputs": [
    {
     "data": {
      "text/html": [
       "<table class=\"dataframe\">\n",
       "<caption>A tibble: 5 × 3</caption>\n",
       "<thead>\n",
       "\t<tr><th scope=col>race</th><th scope=col>n</th><th scope=col>prop_stops</th></tr>\n",
       "\t<tr><th scope=col>&lt;chr&gt;</th><th scope=col>&lt;int&gt;</th><th scope=col>&lt;dbl&gt;</th></tr>\n",
       "</thead>\n",
       "<tbody>\n",
       "\t<tr><td>asian/pacific islander</td><td>15498</td><td>0.181</td></tr>\n",
       "\t<tr><td>black                 </td><td>14955</td><td>0.175</td></tr>\n",
       "\t<tr><td>hispanic              </td><td>11911</td><td>0.139</td></tr>\n",
       "\t<tr><td>other                 </td><td>13560</td><td>0.158</td></tr>\n",
       "\t<tr><td>white                 </td><td>29765</td><td>0.347</td></tr>\n",
       "</tbody>\n",
       "</table>\n"
      ],
      "text/latex": [
       "A tibble: 5 × 3\n",
       "\\begin{tabular}{lll}\n",
       " race & n & prop\\_stops\\\\\n",
       " <chr> & <int> & <dbl>\\\\\n",
       "\\hline\n",
       "\t asian/pacific islander & 15498 & 0.181\\\\\n",
       "\t black                  & 14955 & 0.175\\\\\n",
       "\t hispanic               & 11911 & 0.139\\\\\n",
       "\t other                  & 13560 & 0.158\\\\\n",
       "\t white                  & 29765 & 0.347\\\\\n",
       "\\end{tabular}\n"
      ],
      "text/markdown": [
       "\n",
       "A tibble: 5 × 3\n",
       "\n",
       "| race &lt;chr&gt; | n &lt;int&gt; | prop_stops &lt;dbl&gt; |\n",
       "|---|---|---|\n",
       "| asian/pacific islander | 15498 | 0.181 |\n",
       "| black                  | 14955 | 0.175 |\n",
       "| hispanic               | 11911 | 0.139 |\n",
       "| other                  | 13560 | 0.158 |\n",
       "| white                  | 29765 | 0.347 |\n",
       "\n"
      ],
      "text/plain": [
       "  race                   n     prop_stops\n",
       "1 asian/pacific islander 15498 0.181     \n",
       "2 black                  14955 0.175     \n",
       "3 hispanic               11911 0.139     \n",
       "4 other                  13560 0.158     \n",
       "5 white                  29765 0.347     "
      ]
     },
     "metadata": {},
     "output_type": "display_data"
    }
   ],
   "source": [
    "stop_counts = stops_2015 %>%\n",
    "  group_by(race) %>%\n",
    "  summarize(\n",
    "    n = n()\n",
    "  ) %>%\n",
    "  ungroup() %>%\n",
    "  mutate(\n",
    "    prop_stops = n/sum(n)\n",
    "  )\n",
    "\n",
    "stop_counts"
   ]
  },
  {
   "cell_type": "markdown",
   "metadata": {},
   "source": [
    "### 💬 Discussion\n",
    "\n",
    "What can we conclude from the table above? \n",
    "\n",
    "What are the limitations of this table?\n",
    "\n",
    "Is there information that could make this table more informative? "
   ]
  },
  {
   "cell_type": "markdown",
   "metadata": {},
   "source": [
    "### Double click here to write your thoughts.\n",
    "\\\n",
    "\\\n",
    "\\\n",
    "\\\n",
    "\\\n",
    "\\"
   ]
  },
  {
   "cell_type": "markdown",
   "metadata": {
    "tags": []
   },
   "source": [
    "## 📝 Incorporating additional data\n",
    "\n",
    "With the data above, we can claim that most stops in San Francisco in 2015 occurred among white drivers, followed by Asian/Pacific Islander drivers, Black drivers, drivers of an unlisted race/ethnicity, and Hispanic drivers.\n",
    "\n",
    "However, without knowing the demographics of drivers in San Francisco, we can't say anything about racial disparities in stop rates.\n",
    "\n",
    "> For example, if 20% of drivers in San Francisco were white, and 35% of stops were among white drivers, we might claim that white drivers were stopped more frequently than expected.\n",
    "\n",
    "Fortunately, the demographics of San Francisco residents in 2015 are provided in the `pop_2015` data:"
   ]
  },
  {
   "cell_type": "code",
   "execution_count": 6,
   "metadata": {},
   "outputs": [
    {
     "data": {
      "text/html": [
       "<table class=\"dataframe\">\n",
       "<caption>A tibble: 5 × 3</caption>\n",
       "<thead>\n",
       "\t<tr><th scope=col>race</th><th scope=col>n_people</th><th scope=col>prop_residents</th></tr>\n",
       "\t<tr><th scope=col>&lt;chr&gt;</th><th scope=col>&lt;dbl&gt;</th><th scope=col>&lt;dbl&gt;</th></tr>\n",
       "</thead>\n",
       "<tbody>\n",
       "\t<tr><td>white                 </td><td>346732</td><td>0.4124</td></tr>\n",
       "\t<tr><td>black                 </td><td> 44879</td><td>0.0534</td></tr>\n",
       "\t<tr><td>hispanic              </td><td>128619</td><td>0.1530</td></tr>\n",
       "\t<tr><td>asian/pacific islander</td><td>285266</td><td>0.3393</td></tr>\n",
       "\t<tr><td>other                 </td><td> 35267</td><td>0.0419</td></tr>\n",
       "</tbody>\n",
       "</table>\n"
      ],
      "text/latex": [
       "A tibble: 5 × 3\n",
       "\\begin{tabular}{lll}\n",
       " race & n\\_people & prop\\_residents\\\\\n",
       " <chr> & <dbl> & <dbl>\\\\\n",
       "\\hline\n",
       "\t white                  & 346732 & 0.4124\\\\\n",
       "\t black                  &  44879 & 0.0534\\\\\n",
       "\t hispanic               & 128619 & 0.1530\\\\\n",
       "\t asian/pacific islander & 285266 & 0.3393\\\\\n",
       "\t other                  &  35267 & 0.0419\\\\\n",
       "\\end{tabular}\n"
      ],
      "text/markdown": [
       "\n",
       "A tibble: 5 × 3\n",
       "\n",
       "| race &lt;chr&gt; | n_people &lt;dbl&gt; | prop_residents &lt;dbl&gt; |\n",
       "|---|---|---|\n",
       "| white                  | 346732 | 0.4124 |\n",
       "| black                  |  44879 | 0.0534 |\n",
       "| hispanic               | 128619 | 0.1530 |\n",
       "| asian/pacific islander | 285266 | 0.3393 |\n",
       "| other                  |  35267 | 0.0419 |\n",
       "\n"
      ],
      "text/plain": [
       "  race                   n_people prop_residents\n",
       "1 white                  346732   0.4124        \n",
       "2 black                   44879   0.0534        \n",
       "3 hispanic               128619   0.1530        \n",
       "4 asian/pacific islander 285266   0.3393        \n",
       "5 other                   35267   0.0419        "
      ]
     },
     "metadata": {},
     "output_type": "display_data"
    }
   ],
   "source": [
    "pop_2015"
   ]
  },
  {
   "cell_type": "markdown",
   "metadata": {},
   "source": [
    "With the table above, we have more context!\n",
    "\n",
    "For example, while 5% of San Francisco identifies as Black, nearly 21% of stops occurred among Black drivers. "
   ]
  },
  {
   "cell_type": "markdown",
   "metadata": {},
   "source": [
    "### 💬 Discussion\n",
    "\n",
    "Using only the data above, can we claim that Black drivers in SF were stopped on the basis of less evidence than drivers of other race groups? Do your conclusions depend on any assumptions?"
   ]
  },
  {
   "cell_type": "markdown",
   "metadata": {},
   "source": [
    "### Double click here to write your thoughts.\n",
    "\\\n",
    "\\\n",
    "\\\n",
    "\\\n",
    "\\\n",
    "\\"
   ]
  },
  {
   "cell_type": "markdown",
   "metadata": {
    "tags": []
   },
   "source": [
    "## 📝 Merging data\n",
    "\n",
    "Suppose we are interested in the ratio of the stop rate for each race/ethnicity group and the fraction of residents from each race/ethnicity group.\n",
    "\n",
    "We could do this by hand, but it's a little tedious."
   ]
  },
  {
   "cell_type": "code",
   "execution_count": 7,
   "metadata": {},
   "outputs": [
    {
     "name": "stdout",
     "output_type": "stream",
     "text": [
      "[1] \"Asian/Pacific Islander drivers: stop rate / pop. rate:\"\n"
     ]
    },
    {
     "data": {
      "text/html": [
       "0.533451223106395"
      ],
      "text/latex": [
       "0.533451223106395"
      ],
      "text/markdown": [
       "0.533451223106395"
      ],
      "text/plain": [
       "[1] 0.533"
      ]
     },
     "metadata": {},
     "output_type": "display_data"
    },
    {
     "name": "stdout",
     "output_type": "stream",
     "text": [
      "[1] \"Black drivers: stop rate / pop. rate:\"\n"
     ]
    },
    {
     "data": {
      "text/html": [
       "3.27715355805243"
      ],
      "text/latex": [
       "3.27715355805243"
      ],
      "text/markdown": [
       "3.27715355805243"
      ],
      "text/plain": [
       "[1] 3.28"
      ]
     },
     "metadata": {},
     "output_type": "display_data"
    },
    {
     "name": "stdout",
     "output_type": "stream",
     "text": [
      "[1] \"Hispanic drivers: stop rate / pop. rate:\"\n"
     ]
    },
    {
     "data": {
      "text/html": [
       "0.908496732026144"
      ],
      "text/latex": [
       "0.908496732026144"
      ],
      "text/markdown": [
       "0.908496732026144"
      ],
      "text/plain": [
       "[1] 0.908"
      ]
     },
     "metadata": {},
     "output_type": "display_data"
    },
    {
     "name": "stdout",
     "output_type": "stream",
     "text": [
      "[1] \"White drivers: stop rate / pop. rate:\"\n"
     ]
    },
    {
     "data": {
      "text/html": [
       "0.841416100872939"
      ],
      "text/latex": [
       "0.841416100872939"
      ],
      "text/markdown": [
       "0.841416100872939"
      ],
      "text/plain": [
       "[1] 0.841"
      ]
     },
     "metadata": {},
     "output_type": "display_data"
    },
    {
     "name": "stdout",
     "output_type": "stream",
     "text": [
      "[1] \"Drivers of other race/ethnicity: stop rate / pop.rate:\"\n"
     ]
    },
    {
     "data": {
      "text/html": [
       "3.7708830548926"
      ],
      "text/latex": [
       "3.7708830548926"
      ],
      "text/markdown": [
       "3.7708830548926"
      ],
      "text/plain": [
       "[1] 3.77"
      ]
     },
     "metadata": {},
     "output_type": "display_data"
    }
   ],
   "source": [
    "print('Asian/Pacific Islander drivers: stop rate / pop. rate:')\n",
    "0.181/0.3393\n",
    "\n",
    "print('Black drivers: stop rate / pop. rate:')\n",
    "0.175/0.0534\n",
    "\n",
    "print('Hispanic drivers: stop rate / pop. rate:')\n",
    "0.139/0.1530\n",
    "\n",
    "print('White drivers: stop rate / pop. rate:')\n",
    "0.347/0.4124\n",
    "\n",
    "print('Drivers of other race/ethnicity: stop rate / pop.rate:')\n",
    "0.158/0.0419"
   ]
  },
  {
   "cell_type": "markdown",
   "metadata": {},
   "source": [
    "It would be a lot faster if we had the stop rates and pop. rates in one table."
   ]
  },
  {
   "cell_type": "markdown",
   "metadata": {},
   "source": [
    "### 🧑‍🤝‍🧑 Joining data with shared columns"
   ]
  },
  {
   "cell_type": "markdown",
   "metadata": {},
   "source": [
    "Imagine writing our two tables side by side. Here's a (bad!!) way to do it:"
   ]
  },
  {
   "cell_type": "code",
   "execution_count": 8,
   "metadata": {},
   "outputs": [
    {
     "name": "stderr",
     "output_type": "stream",
     "text": [
      "\u001b[1m\u001b[22mNew names:\n",
      "\u001b[36m•\u001b[39m `race` -> `race...1`\n",
      "\u001b[36m•\u001b[39m `race` -> `race...4`\n"
     ]
    },
    {
     "data": {
      "text/html": [
       "<table class=\"dataframe\">\n",
       "<caption>A tibble: 5 × 6</caption>\n",
       "<thead>\n",
       "\t<tr><th scope=col>race...1</th><th scope=col>n</th><th scope=col>prop_stops</th><th scope=col>race...4</th><th scope=col>n_people</th><th scope=col>prop_residents</th></tr>\n",
       "\t<tr><th scope=col>&lt;chr&gt;</th><th scope=col>&lt;int&gt;</th><th scope=col>&lt;dbl&gt;</th><th scope=col>&lt;chr&gt;</th><th scope=col>&lt;dbl&gt;</th><th scope=col>&lt;dbl&gt;</th></tr>\n",
       "</thead>\n",
       "<tbody>\n",
       "\t<tr><td>asian/pacific islander</td><td>15498</td><td>0.181</td><td>white                 </td><td>346732</td><td>0.4124</td></tr>\n",
       "\t<tr><td>black                 </td><td>14955</td><td>0.175</td><td>black                 </td><td> 44879</td><td>0.0534</td></tr>\n",
       "\t<tr><td>hispanic              </td><td>11911</td><td>0.139</td><td>hispanic              </td><td>128619</td><td>0.1530</td></tr>\n",
       "\t<tr><td>other                 </td><td>13560</td><td>0.158</td><td>asian/pacific islander</td><td>285266</td><td>0.3393</td></tr>\n",
       "\t<tr><td>white                 </td><td>29765</td><td>0.347</td><td>other                 </td><td> 35267</td><td>0.0419</td></tr>\n",
       "</tbody>\n",
       "</table>\n"
      ],
      "text/latex": [
       "A tibble: 5 × 6\n",
       "\\begin{tabular}{llllll}\n",
       " race...1 & n & prop\\_stops & race...4 & n\\_people & prop\\_residents\\\\\n",
       " <chr> & <int> & <dbl> & <chr> & <dbl> & <dbl>\\\\\n",
       "\\hline\n",
       "\t asian/pacific islander & 15498 & 0.181 & white                  & 346732 & 0.4124\\\\\n",
       "\t black                  & 14955 & 0.175 & black                  &  44879 & 0.0534\\\\\n",
       "\t hispanic               & 11911 & 0.139 & hispanic               & 128619 & 0.1530\\\\\n",
       "\t other                  & 13560 & 0.158 & asian/pacific islander & 285266 & 0.3393\\\\\n",
       "\t white                  & 29765 & 0.347 & other                  &  35267 & 0.0419\\\\\n",
       "\\end{tabular}\n"
      ],
      "text/markdown": [
       "\n",
       "A tibble: 5 × 6\n",
       "\n",
       "| race...1 &lt;chr&gt; | n &lt;int&gt; | prop_stops &lt;dbl&gt; | race...4 &lt;chr&gt; | n_people &lt;dbl&gt; | prop_residents &lt;dbl&gt; |\n",
       "|---|---|---|---|---|---|\n",
       "| asian/pacific islander | 15498 | 0.181 | white                  | 346732 | 0.4124 |\n",
       "| black                  | 14955 | 0.175 | black                  |  44879 | 0.0534 |\n",
       "| hispanic               | 11911 | 0.139 | hispanic               | 128619 | 0.1530 |\n",
       "| other                  | 13560 | 0.158 | asian/pacific islander | 285266 | 0.3393 |\n",
       "| white                  | 29765 | 0.347 | other                  |  35267 | 0.0419 |\n",
       "\n"
      ],
      "text/plain": [
       "  race...1               n     prop_stops race...4               n_people\n",
       "1 asian/pacific islander 15498 0.181      white                  346732  \n",
       "2 black                  14955 0.175      black                   44879  \n",
       "3 hispanic               11911 0.139      hispanic               128619  \n",
       "4 other                  13560 0.158      asian/pacific islander 285266  \n",
       "5 white                  29765 0.347      other                   35267  \n",
       "  prop_residents\n",
       "1 0.4124        \n",
       "2 0.0534        \n",
       "3 0.1530        \n",
       "4 0.3393        \n",
       "5 0.0419        "
      ]
     },
     "metadata": {},
     "output_type": "display_data"
    }
   ],
   "source": [
    "# Reminder: this is generally NOT a good thing to do to merge data.\n",
    "# We're doing this just for the visual!\n",
    "bind_cols(stop_counts, pop_2015)"
   ]
  },
  {
   "cell_type": "markdown",
   "metadata": {},
   "source": [
    "☝️ There's a big problem with the table above: the race columns are not aligned!\n",
    "\n",
    "> For example, Asian/Pacific Islander driver stop rates are next to white driver pop. rates. This is not good!\n",
    "\n",
    "Better idea: what if we could combine each row of our tables by making sure the value in the race column is the same in both rows?\n",
    "\n",
    "Here's how to do it:"
   ]
  },
  {
   "cell_type": "code",
   "execution_count": 9,
   "metadata": {},
   "outputs": [
    {
     "data": {
      "text/html": [
       "<table class=\"dataframe\">\n",
       "<caption>A tibble: 5 × 5</caption>\n",
       "<thead>\n",
       "\t<tr><th scope=col>race</th><th scope=col>n</th><th scope=col>prop_stops</th><th scope=col>n_people</th><th scope=col>prop_residents</th></tr>\n",
       "\t<tr><th scope=col>&lt;chr&gt;</th><th scope=col>&lt;int&gt;</th><th scope=col>&lt;dbl&gt;</th><th scope=col>&lt;dbl&gt;</th><th scope=col>&lt;dbl&gt;</th></tr>\n",
       "</thead>\n",
       "<tbody>\n",
       "\t<tr><td>asian/pacific islander</td><td>15498</td><td>0.181</td><td>285266</td><td>0.3393</td></tr>\n",
       "\t<tr><td>black                 </td><td>14955</td><td>0.175</td><td> 44879</td><td>0.0534</td></tr>\n",
       "\t<tr><td>hispanic              </td><td>11911</td><td>0.139</td><td>128619</td><td>0.1530</td></tr>\n",
       "\t<tr><td>other                 </td><td>13560</td><td>0.158</td><td> 35267</td><td>0.0419</td></tr>\n",
       "\t<tr><td>white                 </td><td>29765</td><td>0.347</td><td>346732</td><td>0.4124</td></tr>\n",
       "</tbody>\n",
       "</table>\n"
      ],
      "text/latex": [
       "A tibble: 5 × 5\n",
       "\\begin{tabular}{lllll}\n",
       " race & n & prop\\_stops & n\\_people & prop\\_residents\\\\\n",
       " <chr> & <int> & <dbl> & <dbl> & <dbl>\\\\\n",
       "\\hline\n",
       "\t asian/pacific islander & 15498 & 0.181 & 285266 & 0.3393\\\\\n",
       "\t black                  & 14955 & 0.175 &  44879 & 0.0534\\\\\n",
       "\t hispanic               & 11911 & 0.139 & 128619 & 0.1530\\\\\n",
       "\t other                  & 13560 & 0.158 &  35267 & 0.0419\\\\\n",
       "\t white                  & 29765 & 0.347 & 346732 & 0.4124\\\\\n",
       "\\end{tabular}\n"
      ],
      "text/markdown": [
       "\n",
       "A tibble: 5 × 5\n",
       "\n",
       "| race &lt;chr&gt; | n &lt;int&gt; | prop_stops &lt;dbl&gt; | n_people &lt;dbl&gt; | prop_residents &lt;dbl&gt; |\n",
       "|---|---|---|---|---|\n",
       "| asian/pacific islander | 15498 | 0.181 | 285266 | 0.3393 |\n",
       "| black                  | 14955 | 0.175 |  44879 | 0.0534 |\n",
       "| hispanic               | 11911 | 0.139 | 128619 | 0.1530 |\n",
       "| other                  | 13560 | 0.158 |  35267 | 0.0419 |\n",
       "| white                  | 29765 | 0.347 | 346732 | 0.4124 |\n",
       "\n"
      ],
      "text/plain": [
       "  race                   n     prop_stops n_people prop_residents\n",
       "1 asian/pacific islander 15498 0.181      285266   0.3393        \n",
       "2 black                  14955 0.175       44879   0.0534        \n",
       "3 hispanic               11911 0.139      128619   0.1530        \n",
       "4 other                  13560 0.158       35267   0.0419        \n",
       "5 white                  29765 0.347      346732   0.4124        "
      ]
     },
     "metadata": {},
     "output_type": "display_data"
    }
   ],
   "source": [
    "combined_data = left_join(stop_counts, pop_2015, by='race')\n",
    "\n",
    "combined_data"
   ]
  },
  {
   "cell_type": "markdown",
   "metadata": {},
   "source": [
    "The next section will break down this code."
   ]
  },
  {
   "cell_type": "markdown",
   "metadata": {},
   "source": [
    "### 💫 The magic of `left_join`"
   ]
  },
  {
   "cell_type": "markdown",
   "metadata": {},
   "source": [
    "`left_join()` only needs three things from you:\n",
    "1. What's the first table?\n",
    "2. What's the second table?\n",
    "3. Which column should match?\n",
    "\n",
    "🖥️ Usage: `left_join(table1, table2, by='column_name')`\n",
    "* `table1`: the first table (i.e., 'left table')\n",
    "* `table2`: the second table (i.e., 'right table')\n",
    "* `column_name`: the name of the column to match\n",
    "\n",
    "But, we've left one question unanswered: why `left_join()` and not just `join()`?\n",
    "\n",
    "Here's a visual explanation.\n",
    "\n",
    "> Note: `NA` indicates a missing value that is \"not available\"."
   ]
  },
  {
   "cell_type": "markdown",
   "metadata": {},
   "source": [
    "<img src=\"img/left_join_updated.png\" alt=\"inner join\" width=\"400\" align=\"left\"/>"
   ]
  },
  {
   "cell_type": "markdown",
   "metadata": {},
   "source": [
    "`left_join()` always returns every row in the **left** table. \n",
    "\n",
    "- However, `left_join()` only includes rows from the **right** table that can be matched to rows in the **left** table.\n",
    "\n",
    "- The matched column is often referred to as the \"join key\". That's why it's named `key` in the picture.\n",
    "\n",
    "- Unmatched rows from the **right** table are dropped.\n",
    "\n",
    "Here's the picture in code form. Play around with the code to get a feel for `left_join()`!"
   ]
  },
  {
   "cell_type": "code",
   "execution_count": 10,
   "metadata": {},
   "outputs": [
    {
     "data": {
      "text/html": [
       "<table class=\"dataframe\">\n",
       "<caption>A tibble: 3 × 2</caption>\n",
       "<thead>\n",
       "\t<tr><th scope=col>val_x</th><th scope=col>key</th></tr>\n",
       "\t<tr><th scope=col>&lt;chr&gt;</th><th scope=col>&lt;dbl&gt;</th></tr>\n",
       "</thead>\n",
       "<tbody>\n",
       "\t<tr><td>x1</td><td>1</td></tr>\n",
       "\t<tr><td>x2</td><td>2</td></tr>\n",
       "\t<tr><td>x3</td><td>3</td></tr>\n",
       "</tbody>\n",
       "</table>\n"
      ],
      "text/latex": [
       "A tibble: 3 × 2\n",
       "\\begin{tabular}{ll}\n",
       " val\\_x & key\\\\\n",
       " <chr> & <dbl>\\\\\n",
       "\\hline\n",
       "\t x1 & 1\\\\\n",
       "\t x2 & 2\\\\\n",
       "\t x3 & 3\\\\\n",
       "\\end{tabular}\n"
      ],
      "text/markdown": [
       "\n",
       "A tibble: 3 × 2\n",
       "\n",
       "| val_x &lt;chr&gt; | key &lt;dbl&gt; |\n",
       "|---|---|\n",
       "| x1 | 1 |\n",
       "| x2 | 2 |\n",
       "| x3 | 3 |\n",
       "\n"
      ],
      "text/plain": [
       "  val_x key\n",
       "1 x1    1  \n",
       "2 x2    2  \n",
       "3 x3    3  "
      ]
     },
     "metadata": {},
     "output_type": "display_data"
    },
    {
     "data": {
      "text/html": [
       "<table class=\"dataframe\">\n",
       "<caption>A tibble: 3 × 2</caption>\n",
       "<thead>\n",
       "\t<tr><th scope=col>val_y</th><th scope=col>key</th></tr>\n",
       "\t<tr><th scope=col>&lt;chr&gt;</th><th scope=col>&lt;dbl&gt;</th></tr>\n",
       "</thead>\n",
       "<tbody>\n",
       "\t<tr><td>y1</td><td>1</td></tr>\n",
       "\t<tr><td>y2</td><td>2</td></tr>\n",
       "\t<tr><td>y3</td><td>4</td></tr>\n",
       "</tbody>\n",
       "</table>\n"
      ],
      "text/latex": [
       "A tibble: 3 × 2\n",
       "\\begin{tabular}{ll}\n",
       " val\\_y & key\\\\\n",
       " <chr> & <dbl>\\\\\n",
       "\\hline\n",
       "\t y1 & 1\\\\\n",
       "\t y2 & 2\\\\\n",
       "\t y3 & 4\\\\\n",
       "\\end{tabular}\n"
      ],
      "text/markdown": [
       "\n",
       "A tibble: 3 × 2\n",
       "\n",
       "| val_y &lt;chr&gt; | key &lt;dbl&gt; |\n",
       "|---|---|\n",
       "| y1 | 1 |\n",
       "| y2 | 2 |\n",
       "| y3 | 4 |\n",
       "\n"
      ],
      "text/plain": [
       "  val_y key\n",
       "1 y1    1  \n",
       "2 y2    2  \n",
       "3 y3    4  "
      ]
     },
     "metadata": {},
     "output_type": "display_data"
    },
    {
     "data": {
      "text/html": [
       "<table class=\"dataframe\">\n",
       "<caption>A tibble: 3 × 3</caption>\n",
       "<thead>\n",
       "\t<tr><th scope=col>val_x</th><th scope=col>key</th><th scope=col>val_y</th></tr>\n",
       "\t<tr><th scope=col>&lt;chr&gt;</th><th scope=col>&lt;dbl&gt;</th><th scope=col>&lt;chr&gt;</th></tr>\n",
       "</thead>\n",
       "<tbody>\n",
       "\t<tr><td>x1</td><td>1</td><td>y1</td></tr>\n",
       "\t<tr><td>x2</td><td>2</td><td>y2</td></tr>\n",
       "\t<tr><td>x3</td><td>3</td><td>NA</td></tr>\n",
       "</tbody>\n",
       "</table>\n"
      ],
      "text/latex": [
       "A tibble: 3 × 3\n",
       "\\begin{tabular}{lll}\n",
       " val\\_x & key & val\\_y\\\\\n",
       " <chr> & <dbl> & <chr>\\\\\n",
       "\\hline\n",
       "\t x1 & 1 & y1\\\\\n",
       "\t x2 & 2 & y2\\\\\n",
       "\t x3 & 3 & NA\\\\\n",
       "\\end{tabular}\n"
      ],
      "text/markdown": [
       "\n",
       "A tibble: 3 × 3\n",
       "\n",
       "| val_x &lt;chr&gt; | key &lt;dbl&gt; | val_y &lt;chr&gt; |\n",
       "|---|---|---|\n",
       "| x1 | 1 | y1 |\n",
       "| x2 | 2 | y2 |\n",
       "| x3 | 3 | NA |\n",
       "\n"
      ],
      "text/plain": [
       "  val_x key val_y\n",
       "1 x1    1   y1   \n",
       "2 x2    2   y2   \n",
       "3 x3    3   NA   "
      ]
     },
     "metadata": {},
     "output_type": "display_data"
    }
   ],
   "source": [
    "table1 = tibble(\n",
    "    val_x = c('x1', 'x2', 'x3'),\n",
    "    key = c(1, 2, 3)\n",
    ")\n",
    "\n",
    "table2 = tibble(\n",
    "    val_y = c('y1', 'y2', 'y3'),\n",
    "    key = c(1, 2, 4)\n",
    ")\n",
    "\n",
    "table1\n",
    "table2\n",
    "left_join(table1, table2, by='key')"
   ]
  },
  {
   "cell_type": "markdown",
   "metadata": {},
   "source": [
    "### 🙀 `right_join()`, `inner_join()`, `anti_join()`, [oh my](https://www.youtube.com/watch?v=-HrfbV16-FQ)!"
   ]
  },
  {
   "cell_type": "markdown",
   "metadata": {
    "tags": []
   },
   "source": [
    "There are actually a few more joining functions. But, **you only need left join for >99% of data science work**. \n",
    "\n",
    "#### 🚀 Mini-exercise\n",
    "\n",
    "Run the three joining functions in the cell below. \n",
    "\n",
    "> The arguments of `right_join()`, `inner_join()`, and `anti_join()` are the same as `left_join()` above.\n",
    "\n",
    "What do these three new joining functions do?"
   ]
  },
  {
   "cell_type": "code",
   "execution_count": 11,
   "metadata": {},
   "outputs": [
    {
     "data": {
      "text/html": [
       "<table class=\"dataframe\">\n",
       "<caption>A tibble: 3 × 3</caption>\n",
       "<thead>\n",
       "\t<tr><th scope=col>val_x</th><th scope=col>key</th><th scope=col>val_y</th></tr>\n",
       "\t<tr><th scope=col>&lt;chr&gt;</th><th scope=col>&lt;dbl&gt;</th><th scope=col>&lt;chr&gt;</th></tr>\n",
       "</thead>\n",
       "<tbody>\n",
       "\t<tr><td>x1</td><td>1</td><td>y1</td></tr>\n",
       "\t<tr><td>x2</td><td>2</td><td>y2</td></tr>\n",
       "\t<tr><td>NA</td><td>4</td><td>y3</td></tr>\n",
       "</tbody>\n",
       "</table>\n"
      ],
      "text/latex": [
       "A tibble: 3 × 3\n",
       "\\begin{tabular}{lll}\n",
       " val\\_x & key & val\\_y\\\\\n",
       " <chr> & <dbl> & <chr>\\\\\n",
       "\\hline\n",
       "\t x1 & 1 & y1\\\\\n",
       "\t x2 & 2 & y2\\\\\n",
       "\t NA & 4 & y3\\\\\n",
       "\\end{tabular}\n"
      ],
      "text/markdown": [
       "\n",
       "A tibble: 3 × 3\n",
       "\n",
       "| val_x &lt;chr&gt; | key &lt;dbl&gt; | val_y &lt;chr&gt; |\n",
       "|---|---|---|\n",
       "| x1 | 1 | y1 |\n",
       "| x2 | 2 | y2 |\n",
       "| NA | 4 | y3 |\n",
       "\n"
      ],
      "text/plain": [
       "  val_x key val_y\n",
       "1 x1    1   y1   \n",
       "2 x2    2   y2   \n",
       "3 NA    4   y3   "
      ]
     },
     "metadata": {},
     "output_type": "display_data"
    },
    {
     "data": {
      "text/html": [
       "<table class=\"dataframe\">\n",
       "<caption>A tibble: 2 × 3</caption>\n",
       "<thead>\n",
       "\t<tr><th scope=col>val_x</th><th scope=col>key</th><th scope=col>val_y</th></tr>\n",
       "\t<tr><th scope=col>&lt;chr&gt;</th><th scope=col>&lt;dbl&gt;</th><th scope=col>&lt;chr&gt;</th></tr>\n",
       "</thead>\n",
       "<tbody>\n",
       "\t<tr><td>x1</td><td>1</td><td>y1</td></tr>\n",
       "\t<tr><td>x2</td><td>2</td><td>y2</td></tr>\n",
       "</tbody>\n",
       "</table>\n"
      ],
      "text/latex": [
       "A tibble: 2 × 3\n",
       "\\begin{tabular}{lll}\n",
       " val\\_x & key & val\\_y\\\\\n",
       " <chr> & <dbl> & <chr>\\\\\n",
       "\\hline\n",
       "\t x1 & 1 & y1\\\\\n",
       "\t x2 & 2 & y2\\\\\n",
       "\\end{tabular}\n"
      ],
      "text/markdown": [
       "\n",
       "A tibble: 2 × 3\n",
       "\n",
       "| val_x &lt;chr&gt; | key &lt;dbl&gt; | val_y &lt;chr&gt; |\n",
       "|---|---|---|\n",
       "| x1 | 1 | y1 |\n",
       "| x2 | 2 | y2 |\n",
       "\n"
      ],
      "text/plain": [
       "  val_x key val_y\n",
       "1 x1    1   y1   \n",
       "2 x2    2   y2   "
      ]
     },
     "metadata": {},
     "output_type": "display_data"
    },
    {
     "data": {
      "text/html": [
       "<table class=\"dataframe\">\n",
       "<caption>A tibble: 1 × 2</caption>\n",
       "<thead>\n",
       "\t<tr><th scope=col>val_x</th><th scope=col>key</th></tr>\n",
       "\t<tr><th scope=col>&lt;chr&gt;</th><th scope=col>&lt;dbl&gt;</th></tr>\n",
       "</thead>\n",
       "<tbody>\n",
       "\t<tr><td>x3</td><td>3</td></tr>\n",
       "</tbody>\n",
       "</table>\n"
      ],
      "text/latex": [
       "A tibble: 1 × 2\n",
       "\\begin{tabular}{ll}\n",
       " val\\_x & key\\\\\n",
       " <chr> & <dbl>\\\\\n",
       "\\hline\n",
       "\t x3 & 3\\\\\n",
       "\\end{tabular}\n"
      ],
      "text/markdown": [
       "\n",
       "A tibble: 1 × 2\n",
       "\n",
       "| val_x &lt;chr&gt; | key &lt;dbl&gt; |\n",
       "|---|---|\n",
       "| x3 | 3 |\n",
       "\n"
      ],
      "text/plain": [
       "  val_x key\n",
       "1 x3    3  "
      ]
     },
     "metadata": {},
     "output_type": "display_data"
    },
    {
     "data": {
      "text/html": [
       "<table class=\"dataframe\">\n",
       "<caption>A tibble: 3 × 3</caption>\n",
       "<thead>\n",
       "\t<tr><th scope=col>val_y</th><th scope=col>key</th><th scope=col>val_x</th></tr>\n",
       "\t<tr><th scope=col>&lt;chr&gt;</th><th scope=col>&lt;dbl&gt;</th><th scope=col>&lt;chr&gt;</th></tr>\n",
       "</thead>\n",
       "<tbody>\n",
       "\t<tr><td>y1</td><td>1</td><td>x1</td></tr>\n",
       "\t<tr><td>y2</td><td>2</td><td>x2</td></tr>\n",
       "\t<tr><td>y3</td><td>4</td><td>NA</td></tr>\n",
       "</tbody>\n",
       "</table>\n"
      ],
      "text/latex": [
       "A tibble: 3 × 3\n",
       "\\begin{tabular}{lll}\n",
       " val\\_y & key & val\\_x\\\\\n",
       " <chr> & <dbl> & <chr>\\\\\n",
       "\\hline\n",
       "\t y1 & 1 & x1\\\\\n",
       "\t y2 & 2 & x2\\\\\n",
       "\t y3 & 4 & NA\\\\\n",
       "\\end{tabular}\n"
      ],
      "text/markdown": [
       "\n",
       "A tibble: 3 × 3\n",
       "\n",
       "| val_y &lt;chr&gt; | key &lt;dbl&gt; | val_x &lt;chr&gt; |\n",
       "|---|---|---|\n",
       "| y1 | 1 | x1 |\n",
       "| y2 | 2 | x2 |\n",
       "| y3 | 4 | NA |\n",
       "\n"
      ],
      "text/plain": [
       "  val_y key val_x\n",
       "1 y1    1   x1   \n",
       "2 y2    2   x2   \n",
       "3 y3    4   NA   "
      ]
     },
     "metadata": {},
     "output_type": "display_data"
    },
    {
     "data": {
      "text/html": [
       "<table class=\"dataframe\">\n",
       "<caption>A tibble: 2 × 3</caption>\n",
       "<thead>\n",
       "\t<tr><th scope=col>val_x</th><th scope=col>key</th><th scope=col>val_y</th></tr>\n",
       "\t<tr><th scope=col>&lt;chr&gt;</th><th scope=col>&lt;dbl&gt;</th><th scope=col>&lt;chr&gt;</th></tr>\n",
       "</thead>\n",
       "<tbody>\n",
       "\t<tr><td>x1</td><td>1</td><td>y1</td></tr>\n",
       "\t<tr><td>x2</td><td>2</td><td>y2</td></tr>\n",
       "</tbody>\n",
       "</table>\n"
      ],
      "text/latex": [
       "A tibble: 2 × 3\n",
       "\\begin{tabular}{lll}\n",
       " val\\_x & key & val\\_y\\\\\n",
       " <chr> & <dbl> & <chr>\\\\\n",
       "\\hline\n",
       "\t x1 & 1 & y1\\\\\n",
       "\t x2 & 2 & y2\\\\\n",
       "\\end{tabular}\n"
      ],
      "text/markdown": [
       "\n",
       "A tibble: 2 × 3\n",
       "\n",
       "| val_x &lt;chr&gt; | key &lt;dbl&gt; | val_y &lt;chr&gt; |\n",
       "|---|---|---|\n",
       "| x1 | 1 | y1 |\n",
       "| x2 | 2 | y2 |\n",
       "\n"
      ],
      "text/plain": [
       "  val_x key val_y\n",
       "1 x1    1   y1   \n",
       "2 x2    2   y2   "
      ]
     },
     "metadata": {},
     "output_type": "display_data"
    },
    {
     "data": {
      "text/html": [
       "<table class=\"dataframe\">\n",
       "<caption>A tibble: 1 × 2</caption>\n",
       "<thead>\n",
       "\t<tr><th scope=col>val_x</th><th scope=col>key</th></tr>\n",
       "\t<tr><th scope=col>&lt;chr&gt;</th><th scope=col>&lt;dbl&gt;</th></tr>\n",
       "</thead>\n",
       "<tbody>\n",
       "\t<tr><td>x3</td><td>3</td></tr>\n",
       "</tbody>\n",
       "</table>\n"
      ],
      "text/latex": [
       "A tibble: 1 × 2\n",
       "\\begin{tabular}{ll}\n",
       " val\\_x & key\\\\\n",
       " <chr> & <dbl>\\\\\n",
       "\\hline\n",
       "\t x3 & 3\\\\\n",
       "\\end{tabular}\n"
      ],
      "text/markdown": [
       "\n",
       "A tibble: 1 × 2\n",
       "\n",
       "| val_x &lt;chr&gt; | key &lt;dbl&gt; |\n",
       "|---|---|\n",
       "| x3 | 3 |\n",
       "\n"
      ],
      "text/plain": [
       "  val_x key\n",
       "1 x3    3  "
      ]
     },
     "metadata": {},
     "output_type": "display_data"
    }
   ],
   "source": [
    "table1 = tibble(\n",
    "    val_x = c('x1', 'x2', 'x3'),\n",
    "    key = c(1, 2, 3)\n",
    ")\n",
    "\n",
    "table2 = tibble(\n",
    "    val_y = c('y1', 'y2', 'y3'),\n",
    "    key = c(1, 2, 4)\n",
    ")\n",
    "\n",
    "# Your code here!\n",
    "\n",
    "# START\n",
    "\n",
    "# same as left join, but in reverse`\n",
    "right_join(table1, table2, by='key')\n",
    "\n",
    "# only keeps the rows that match\n",
    "inner_join(table1, table2, by='key')\n",
    "\n",
    "# only keep the rows in the left table that DON'T match\n",
    "anti_join(table1, table2, by='key')\n",
    "\n",
    "# `left_join()` can replicate all of these!\n",
    "\n",
    "# equivalent to the right join code\n",
    "left_join(table2, table1, by='key')\n",
    "\n",
    "# equivalent to the inner join code\n",
    "left_join(table1, table2, by='key') %>% \n",
    "    filter(! is.na(val_y))\n",
    "\n",
    "# equivalent to the anti join code\n",
    "left_join(table1, table2, by='key') %>% \n",
    "    filter(is.na(val_y)) %>%\n",
    "    select(-val_y)\n",
    "\n",
    "# END"
   ]
  },
  {
   "cell_type": "markdown",
   "metadata": {},
   "source": [
    "## 🚀 Exercise: Putting it all together"
   ]
  },
  {
   "cell_type": "markdown",
   "metadata": {},
   "source": [
    "In this exercise, you may find it helpful to refer to code from Parts 1 and 2. You can find Parts 1 and 2 [here](https://www.jdgrossman.com).\n",
    "\n",
    "#### Part A\n",
    "\n",
    "Calculate the proportion of all stops, searches, and contraband detections that occurred for SF drivers of each race and ethnicity group in 2015.\n",
    "\n",
    "What do you conclude from your findings? How could someone use these results to mislead their audience?"
   ]
  },
  {
   "cell_type": "code",
   "execution_count": 12,
   "metadata": {},
   "outputs": [
    {
     "data": {
      "text/html": [
       "<table class=\"dataframe\">\n",
       "<caption>A tibble: 5 × 7</caption>\n",
       "<thead>\n",
       "\t<tr><th scope=col>race</th><th scope=col>n_stops</th><th scope=col>n_searches</th><th scope=col>n_contraband</th><th scope=col>p_stops</th><th scope=col>p_searches</th><th scope=col>p_contraband</th></tr>\n",
       "\t<tr><th scope=col>&lt;chr&gt;</th><th scope=col>&lt;int&gt;</th><th scope=col>&lt;int&gt;</th><th scope=col>&lt;int&gt;</th><th scope=col>&lt;dbl&gt;</th><th scope=col>&lt;dbl&gt;</th><th scope=col>&lt;dbl&gt;</th></tr>\n",
       "</thead>\n",
       "<tbody>\n",
       "\t<tr><td>asian/pacific islander</td><td>15498</td><td> 194</td><td> 73</td><td>0.181</td><td>0.0463</td><td>0.0951</td></tr>\n",
       "\t<tr><td>black                 </td><td>14955</td><td>2341</td><td>306</td><td>0.175</td><td>0.5591</td><td>0.3984</td></tr>\n",
       "\t<tr><td>hispanic              </td><td>11911</td><td> 760</td><td>144</td><td>0.139</td><td>0.1815</td><td>0.1875</td></tr>\n",
       "\t<tr><td>other                 </td><td>13560</td><td> 233</td><td> 50</td><td>0.158</td><td>0.0556</td><td>0.0651</td></tr>\n",
       "\t<tr><td>white                 </td><td>29765</td><td> 659</td><td>195</td><td>0.347</td><td>0.1574</td><td>0.2539</td></tr>\n",
       "</tbody>\n",
       "</table>\n"
      ],
      "text/latex": [
       "A tibble: 5 × 7\n",
       "\\begin{tabular}{lllllll}\n",
       " race & n\\_stops & n\\_searches & n\\_contraband & p\\_stops & p\\_searches & p\\_contraband\\\\\n",
       " <chr> & <int> & <int> & <int> & <dbl> & <dbl> & <dbl>\\\\\n",
       "\\hline\n",
       "\t asian/pacific islander & 15498 &  194 &  73 & 0.181 & 0.0463 & 0.0951\\\\\n",
       "\t black                  & 14955 & 2341 & 306 & 0.175 & 0.5591 & 0.3984\\\\\n",
       "\t hispanic               & 11911 &  760 & 144 & 0.139 & 0.1815 & 0.1875\\\\\n",
       "\t other                  & 13560 &  233 &  50 & 0.158 & 0.0556 & 0.0651\\\\\n",
       "\t white                  & 29765 &  659 & 195 & 0.347 & 0.1574 & 0.2539\\\\\n",
       "\\end{tabular}\n"
      ],
      "text/markdown": [
       "\n",
       "A tibble: 5 × 7\n",
       "\n",
       "| race &lt;chr&gt; | n_stops &lt;int&gt; | n_searches &lt;int&gt; | n_contraband &lt;int&gt; | p_stops &lt;dbl&gt; | p_searches &lt;dbl&gt; | p_contraband &lt;dbl&gt; |\n",
       "|---|---|---|---|---|---|---|\n",
       "| asian/pacific islander | 15498 |  194 |  73 | 0.181 | 0.0463 | 0.0951 |\n",
       "| black                  | 14955 | 2341 | 306 | 0.175 | 0.5591 | 0.3984 |\n",
       "| hispanic               | 11911 |  760 | 144 | 0.139 | 0.1815 | 0.1875 |\n",
       "| other                  | 13560 |  233 |  50 | 0.158 | 0.0556 | 0.0651 |\n",
       "| white                  | 29765 |  659 | 195 | 0.347 | 0.1574 | 0.2539 |\n",
       "\n"
      ],
      "text/plain": [
       "  race                   n_stops n_searches n_contraband p_stops p_searches\n",
       "1 asian/pacific islander 15498    194        73          0.181   0.0463    \n",
       "2 black                  14955   2341       306          0.175   0.5591    \n",
       "3 hispanic               11911    760       144          0.139   0.1815    \n",
       "4 other                  13560    233        50          0.158   0.0556    \n",
       "5 white                  29765    659       195          0.347   0.1574    \n",
       "  p_contraband\n",
       "1 0.0951      \n",
       "2 0.3984      \n",
       "3 0.1875      \n",
       "4 0.0651      \n",
       "5 0.2539      "
      ]
     },
     "metadata": {},
     "output_type": "display_data"
    }
   ],
   "source": [
    "# Your code here!\n",
    "\n",
    "# As a reminder, here's how we did this for stops:\n",
    "stop_counts = stops_2015 %>%\n",
    "  group_by(race) %>%\n",
    "  summarize(n = n()) %>%\n",
    "  ungroup()\n",
    "\n",
    "# START\n",
    "\n",
    "df = stops_2015 %>%\n",
    "  group_by(race) %>%\n",
    "  summarize(\n",
    "    n_stops = n(),\n",
    "    n_searches = sum(searched),\n",
    "    n_contraband = sum(contraband_found, na.rm=TRUE)\n",
    "  ) %>%\n",
    "  ungroup() %>%\n",
    "  mutate(\n",
    "    p_stops = n_stops/sum(n_stops),\n",
    "    p_searches = n_searches/sum(n_searches),\n",
    "    p_contraband = n_contraband/sum(n_contraband)\n",
    "  )\n",
    "\n",
    "df\n",
    "\n",
    "# END"
   ]
  },
  {
   "cell_type": "markdown",
   "metadata": {},
   "source": [
    "#### Part B\n",
    "\n",
    "For each race and ethnicity group, calculate the ratio of stop rates, search rates, and contraband detection rates to the population rate for 2015.\n",
    "\n",
    "What do you conclude from your findings? How could someone use these results to mislead their audience?"
   ]
  },
  {
   "cell_type": "code",
   "execution_count": 13,
   "metadata": {
    "tags": []
   },
   "outputs": [
    {
     "data": {
      "text/html": [
       "<table class=\"dataframe\">\n",
       "<caption>A tibble: 5 × 4</caption>\n",
       "<thead>\n",
       "\t<tr><th scope=col>race</th><th scope=col>stop_ratio</th><th scope=col>search_ratio</th><th scope=col>contraband_ratio</th></tr>\n",
       "\t<tr><th scope=col>&lt;chr&gt;</th><th scope=col>&lt;dbl&gt;</th><th scope=col>&lt;dbl&gt;</th><th scope=col>&lt;dbl&gt;</th></tr>\n",
       "</thead>\n",
       "<tbody>\n",
       "\t<tr><td>asian/pacific islander</td><td>0.533</td><td> 0.137</td><td>0.280</td></tr>\n",
       "\t<tr><td>black                 </td><td>3.270</td><td>10.474</td><td>7.464</td></tr>\n",
       "\t<tr><td>hispanic              </td><td>0.909</td><td> 1.187</td><td>1.226</td></tr>\n",
       "\t<tr><td>other                 </td><td>3.773</td><td> 1.327</td><td>1.552</td></tr>\n",
       "\t<tr><td>white                 </td><td>0.842</td><td> 0.382</td><td>0.616</td></tr>\n",
       "</tbody>\n",
       "</table>\n"
      ],
      "text/latex": [
       "A tibble: 5 × 4\n",
       "\\begin{tabular}{llll}\n",
       " race & stop\\_ratio & search\\_ratio & contraband\\_ratio\\\\\n",
       " <chr> & <dbl> & <dbl> & <dbl>\\\\\n",
       "\\hline\n",
       "\t asian/pacific islander & 0.533 &  0.137 & 0.280\\\\\n",
       "\t black                  & 3.270 & 10.474 & 7.464\\\\\n",
       "\t hispanic               & 0.909 &  1.187 & 1.226\\\\\n",
       "\t other                  & 3.773 &  1.327 & 1.552\\\\\n",
       "\t white                  & 0.842 &  0.382 & 0.616\\\\\n",
       "\\end{tabular}\n"
      ],
      "text/markdown": [
       "\n",
       "A tibble: 5 × 4\n",
       "\n",
       "| race &lt;chr&gt; | stop_ratio &lt;dbl&gt; | search_ratio &lt;dbl&gt; | contraband_ratio &lt;dbl&gt; |\n",
       "|---|---|---|---|\n",
       "| asian/pacific islander | 0.533 |  0.137 | 0.280 |\n",
       "| black                  | 3.270 | 10.474 | 7.464 |\n",
       "| hispanic               | 0.909 |  1.187 | 1.226 |\n",
       "| other                  | 3.773 |  1.327 | 1.552 |\n",
       "| white                  | 0.842 |  0.382 | 0.616 |\n",
       "\n"
      ],
      "text/plain": [
       "  race                   stop_ratio search_ratio contraband_ratio\n",
       "1 asian/pacific islander 0.533       0.137       0.280           \n",
       "2 black                  3.270      10.474       7.464           \n",
       "3 hispanic               0.909       1.187       1.226           \n",
       "4 other                  3.773       1.327       1.552           \n",
       "5 white                  0.842       0.382       0.616           "
      ]
     },
     "metadata": {},
     "output_type": "display_data"
    }
   ],
   "source": [
    "# Your code here!\n",
    "\n",
    "# START\n",
    "\n",
    "df_w_ratios = df %>%\n",
    "  left_join(pop_2015, by='race') %>%\n",
    "  mutate(\n",
    "    stop_ratio = p_stops / prop_residents,\n",
    "    search_ratio = p_searches / prop_residents,\n",
    "    contraband_ratio = p_contraband / prop_residents\n",
    "  )\n",
    "\n",
    "# select relevant columns to avoid scrolling left and right\n",
    "df_w_ratios %>%\n",
    "  select(\n",
    "    race,\n",
    "    stop_ratio,\n",
    "    search_ratio,\n",
    "    contraband_ratio\n",
    "  )\n",
    "\n",
    "# END\n"
   ]
  },
  {
   "cell_type": "markdown",
   "metadata": {},
   "source": [
    "#### Part C\n",
    "\n",
    "First, filter the `stops` data to drivers who identify as Black. \n",
    "\n",
    "Second, for Black drivers in each district, calculate the fraction of stops that resulted in a search (\"search rate\"). Store your result in a dataframe.\n",
    "\n",
    "Repeat the first two steps for all race/ethnicity groups in the data. "
   ]
  },
  {
   "cell_type": "code",
   "execution_count": 14,
   "metadata": {},
   "outputs": [
    {
     "data": {
      "text/html": [
       "<table class=\"dataframe\">\n",
       "<caption>A tibble: 10 × 3</caption>\n",
       "<thead>\n",
       "\t<tr><th scope=col>district</th><th scope=col>n_stops</th><th scope=col>search_rate</th></tr>\n",
       "\t<tr><th scope=col>&lt;chr&gt;</th><th scope=col>&lt;int&gt;</th><th scope=col>&lt;dbl&gt;</th></tr>\n",
       "</thead>\n",
       "<tbody>\n",
       "\t<tr><td>A</td><td> 6126</td><td>0.1086</td></tr>\n",
       "\t<tr><td>B</td><td>11760</td><td>0.1541</td></tr>\n",
       "\t<tr><td>C</td><td>35084</td><td>0.1743</td></tr>\n",
       "\t<tr><td>D</td><td> 9548</td><td>0.1811</td></tr>\n",
       "\t<tr><td>E</td><td> 8712</td><td>0.1769</td></tr>\n",
       "\t<tr><td>F</td><td> 4572</td><td>0.0930</td></tr>\n",
       "\t<tr><td>G</td><td> 3396</td><td>0.0801</td></tr>\n",
       "\t<tr><td>H</td><td>11665</td><td>0.1428</td></tr>\n",
       "\t<tr><td>I</td><td> 5780</td><td>0.1244</td></tr>\n",
       "\t<tr><td>J</td><td> 9500</td><td>0.2069</td></tr>\n",
       "</tbody>\n",
       "</table>\n"
      ],
      "text/latex": [
       "A tibble: 10 × 3\n",
       "\\begin{tabular}{lll}\n",
       " district & n\\_stops & search\\_rate\\\\\n",
       " <chr> & <int> & <dbl>\\\\\n",
       "\\hline\n",
       "\t A &  6126 & 0.1086\\\\\n",
       "\t B & 11760 & 0.1541\\\\\n",
       "\t C & 35084 & 0.1743\\\\\n",
       "\t D &  9548 & 0.1811\\\\\n",
       "\t E &  8712 & 0.1769\\\\\n",
       "\t F &  4572 & 0.0930\\\\\n",
       "\t G &  3396 & 0.0801\\\\\n",
       "\t H & 11665 & 0.1428\\\\\n",
       "\t I &  5780 & 0.1244\\\\\n",
       "\t J &  9500 & 0.2069\\\\\n",
       "\\end{tabular}\n"
      ],
      "text/markdown": [
       "\n",
       "A tibble: 10 × 3\n",
       "\n",
       "| district &lt;chr&gt; | n_stops &lt;int&gt; | search_rate &lt;dbl&gt; |\n",
       "|---|---|---|\n",
       "| A |  6126 | 0.1086 |\n",
       "| B | 11760 | 0.1541 |\n",
       "| C | 35084 | 0.1743 |\n",
       "| D |  9548 | 0.1811 |\n",
       "| E |  8712 | 0.1769 |\n",
       "| F |  4572 | 0.0930 |\n",
       "| G |  3396 | 0.0801 |\n",
       "| H | 11665 | 0.1428 |\n",
       "| I |  5780 | 0.1244 |\n",
       "| J |  9500 | 0.2069 |\n",
       "\n"
      ],
      "text/plain": [
       "   district n_stops search_rate\n",
       "1  A         6126   0.1086     \n",
       "2  B        11760   0.1541     \n",
       "3  C        35084   0.1743     \n",
       "4  D         9548   0.1811     \n",
       "5  E         8712   0.1769     \n",
       "6  F         4572   0.0930     \n",
       "7  G         3396   0.0801     \n",
       "8  H        11665   0.1428     \n",
       "9  I         5780   0.1244     \n",
       "10 J         9500   0.2069     "
      ]
     },
     "metadata": {},
     "output_type": "display_data"
    }
   ],
   "source": [
    "# Your code here!\n",
    "\n",
    "# START\n",
    "\n",
    "black_df = stops %>%\n",
    "  filter(race == 'black') %>%\n",
    "  group_by(district) %>%\n",
    "  summarize(\n",
    "    n_stops = n(),\n",
    "    search_rate = sum(searched)/n_stops\n",
    "  )\n",
    "\n",
    "white_df = stops %>%\n",
    "  filter(race == 'white') %>%\n",
    "  group_by(district) %>%\n",
    "  summarize(\n",
    "    n_stops = n(),\n",
    "    search_rate = sum(searched)/n_stops\n",
    "  )\n",
    "\n",
    "black_df\n",
    "\n",
    "# END\n"
   ]
  },
  {
   "cell_type": "markdown",
   "metadata": {},
   "source": [
    "❗❗Important note❗❗: You are encouraged to repeat Parts D, E, and F using different pairs of race/ethnicity groups."
   ]
  },
  {
   "cell_type": "markdown",
   "metadata": {},
   "source": [
    "#### Part D\n",
    "\n",
    "For each district, calculate the difference in search rates of Black drivers and white drivers. \n",
    "\n",
    "> This will require you to merge two dataframes that you created in Part C.\n",
    "\n",
    "What do you conclude from your findings? How could you present this result concisely to a non-technical audience?"
   ]
  },
  {
   "cell_type": "code",
   "execution_count": 15,
   "metadata": {},
   "outputs": [
    {
     "data": {
      "text/html": [
       "<table class=\"dataframe\">\n",
       "<caption>A tibble: 6 × 5</caption>\n",
       "<thead>\n",
       "\t<tr><th scope=col>district</th><th scope=col>n_stops.x</th><th scope=col>search_rate.x</th><th scope=col>n_stops.y</th><th scope=col>search_rate.y</th></tr>\n",
       "\t<tr><th scope=col>&lt;chr&gt;</th><th scope=col>&lt;int&gt;</th><th scope=col>&lt;dbl&gt;</th><th scope=col>&lt;int&gt;</th><th scope=col>&lt;dbl&gt;</th></tr>\n",
       "</thead>\n",
       "<tbody>\n",
       "\t<tr><td>A</td><td> 6126</td><td>0.109</td><td>24262</td><td>0.0279</td></tr>\n",
       "\t<tr><td>B</td><td>11760</td><td>0.154</td><td>36269</td><td>0.0301</td></tr>\n",
       "\t<tr><td>C</td><td>35084</td><td>0.174</td><td>13377</td><td>0.0481</td></tr>\n",
       "\t<tr><td>D</td><td> 9548</td><td>0.181</td><td>30234</td><td>0.0322</td></tr>\n",
       "\t<tr><td>E</td><td> 8712</td><td>0.177</td><td>24725</td><td>0.0361</td></tr>\n",
       "\t<tr><td>F</td><td> 4572</td><td>0.093</td><td>25794</td><td>0.0197</td></tr>\n",
       "</tbody>\n",
       "</table>\n"
      ],
      "text/latex": [
       "A tibble: 6 × 5\n",
       "\\begin{tabular}{lllll}\n",
       " district & n\\_stops.x & search\\_rate.x & n\\_stops.y & search\\_rate.y\\\\\n",
       " <chr> & <int> & <dbl> & <int> & <dbl>\\\\\n",
       "\\hline\n",
       "\t A &  6126 & 0.109 & 24262 & 0.0279\\\\\n",
       "\t B & 11760 & 0.154 & 36269 & 0.0301\\\\\n",
       "\t C & 35084 & 0.174 & 13377 & 0.0481\\\\\n",
       "\t D &  9548 & 0.181 & 30234 & 0.0322\\\\\n",
       "\t E &  8712 & 0.177 & 24725 & 0.0361\\\\\n",
       "\t F &  4572 & 0.093 & 25794 & 0.0197\\\\\n",
       "\\end{tabular}\n"
      ],
      "text/markdown": [
       "\n",
       "A tibble: 6 × 5\n",
       "\n",
       "| district &lt;chr&gt; | n_stops.x &lt;int&gt; | search_rate.x &lt;dbl&gt; | n_stops.y &lt;int&gt; | search_rate.y &lt;dbl&gt; |\n",
       "|---|---|---|---|---|\n",
       "| A |  6126 | 0.109 | 24262 | 0.0279 |\n",
       "| B | 11760 | 0.154 | 36269 | 0.0301 |\n",
       "| C | 35084 | 0.174 | 13377 | 0.0481 |\n",
       "| D |  9548 | 0.181 | 30234 | 0.0322 |\n",
       "| E |  8712 | 0.177 | 24725 | 0.0361 |\n",
       "| F |  4572 | 0.093 | 25794 | 0.0197 |\n",
       "\n"
      ],
      "text/plain": [
       "  district n_stops.x search_rate.x n_stops.y search_rate.y\n",
       "1 A         6126     0.109         24262     0.0279       \n",
       "2 B        11760     0.154         36269     0.0301       \n",
       "3 C        35084     0.174         13377     0.0481       \n",
       "4 D         9548     0.181         30234     0.0322       \n",
       "5 E         8712     0.177         24725     0.0361       \n",
       "6 F         4572     0.093         25794     0.0197       "
      ]
     },
     "metadata": {},
     "output_type": "display_data"
    },
    {
     "data": {
      "text/html": [
       "<table class=\"dataframe\">\n",
       "<caption>A tibble: 6 × 5</caption>\n",
       "<thead>\n",
       "\t<tr><th scope=col>district</th><th scope=col>n_stops_black</th><th scope=col>search_rate_black</th><th scope=col>n_stops_white</th><th scope=col>search_rate_white</th></tr>\n",
       "\t<tr><th scope=col>&lt;chr&gt;</th><th scope=col>&lt;int&gt;</th><th scope=col>&lt;dbl&gt;</th><th scope=col>&lt;int&gt;</th><th scope=col>&lt;dbl&gt;</th></tr>\n",
       "</thead>\n",
       "<tbody>\n",
       "\t<tr><td>A</td><td> 6126</td><td>0.109</td><td>24262</td><td>0.0279</td></tr>\n",
       "\t<tr><td>B</td><td>11760</td><td>0.154</td><td>36269</td><td>0.0301</td></tr>\n",
       "\t<tr><td>C</td><td>35084</td><td>0.174</td><td>13377</td><td>0.0481</td></tr>\n",
       "\t<tr><td>D</td><td> 9548</td><td>0.181</td><td>30234</td><td>0.0322</td></tr>\n",
       "\t<tr><td>E</td><td> 8712</td><td>0.177</td><td>24725</td><td>0.0361</td></tr>\n",
       "\t<tr><td>F</td><td> 4572</td><td>0.093</td><td>25794</td><td>0.0197</td></tr>\n",
       "</tbody>\n",
       "</table>\n"
      ],
      "text/latex": [
       "A tibble: 6 × 5\n",
       "\\begin{tabular}{lllll}\n",
       " district & n\\_stops\\_black & search\\_rate\\_black & n\\_stops\\_white & search\\_rate\\_white\\\\\n",
       " <chr> & <int> & <dbl> & <int> & <dbl>\\\\\n",
       "\\hline\n",
       "\t A &  6126 & 0.109 & 24262 & 0.0279\\\\\n",
       "\t B & 11760 & 0.154 & 36269 & 0.0301\\\\\n",
       "\t C & 35084 & 0.174 & 13377 & 0.0481\\\\\n",
       "\t D &  9548 & 0.181 & 30234 & 0.0322\\\\\n",
       "\t E &  8712 & 0.177 & 24725 & 0.0361\\\\\n",
       "\t F &  4572 & 0.093 & 25794 & 0.0197\\\\\n",
       "\\end{tabular}\n"
      ],
      "text/markdown": [
       "\n",
       "A tibble: 6 × 5\n",
       "\n",
       "| district &lt;chr&gt; | n_stops_black &lt;int&gt; | search_rate_black &lt;dbl&gt; | n_stops_white &lt;int&gt; | search_rate_white &lt;dbl&gt; |\n",
       "|---|---|---|---|---|\n",
       "| A |  6126 | 0.109 | 24262 | 0.0279 |\n",
       "| B | 11760 | 0.154 | 36269 | 0.0301 |\n",
       "| C | 35084 | 0.174 | 13377 | 0.0481 |\n",
       "| D |  9548 | 0.181 | 30234 | 0.0322 |\n",
       "| E |  8712 | 0.177 | 24725 | 0.0361 |\n",
       "| F |  4572 | 0.093 | 25794 | 0.0197 |\n",
       "\n"
      ],
      "text/plain": [
       "  district n_stops_black search_rate_black n_stops_white search_rate_white\n",
       "1 A         6126         0.109             24262         0.0279           \n",
       "2 B        11760         0.154             36269         0.0301           \n",
       "3 C        35084         0.174             13377         0.0481           \n",
       "4 D         9548         0.181             30234         0.0322           \n",
       "5 E         8712         0.177             24725         0.0361           \n",
       "6 F         4572         0.093             25794         0.0197           "
      ]
     },
     "metadata": {},
     "output_type": "display_data"
    }
   ],
   "source": [
    "# Your code here!\n",
    "\n",
    "# START\n",
    "\n",
    "merged_df = left_join(black_df, white_df, by='district')\n",
    "\n",
    "# note that we have duplicate column names, so R adds the `.x` and `.y` suffixes\n",
    "head(merged_df)\n",
    "\n",
    "# here's how we can use our own, more useful suffixes\n",
    "merged_df = left_join(black_df, white_df, by='district', suffix=c('_black', '_white'))\n",
    "\n",
    "head(merged_df)\n",
    "\n",
    "# END"
   ]
  },
  {
   "cell_type": "markdown",
   "metadata": {},
   "source": [
    "#### Part E\n",
    "\n",
    "Using your merged data from Part D, create a plot with the following features:\n",
    "- On the x-axis, plot the search rate for Black drivers.\n",
    "- On the y-axis, plot the search rate for white drivers.\n",
    "- Color the points by district\n",
    "- Add (`+`) the following lines to your plotting code: \n",
    "\n",
    "```\n",
    "geom_abline(linetype = 'dashed') +\n",
    "xlim(0, 0.5) +\n",
    "ylim(0, 0.5)\n",
    "```\n",
    "\n",
    "What do you conclude from your findings?"
   ]
  },
  {
   "cell_type": "code",
   "execution_count": 16,
   "metadata": {},
   "outputs": [
    {
     "data": {
      "image/png": "[encoded data removed]",
      "text/plain": [
       "plot without title"
      ]
     },
     "metadata": {
      "image/png": {
       "height": 420,
       "width": 420
      }
     },
     "output_type": "display_data"
    }
   ],
   "source": [
    "# Your code here!\n",
    "\n",
    "# START\n",
    "\n",
    "merged_df %>%\n",
    "  ggplot(aes(x=search_rate_black, y=search_rate_white, color=district)) +\n",
    "  geom_point() +\n",
    "  geom_abline(linetype='dashed') +\n",
    "  xlim(0,0.5) +\n",
    "  ylim(0,0.5)\n",
    "\n",
    "# END"
   ]
  },
  {
   "cell_type": "markdown",
   "metadata": {
    "tags": []
   },
   "source": [
    "#### Part F\n",
    "\n",
    "Repeat Parts D and E, but instead of calculating search rates, calculate the proportion of searches that resulted in contraband being found (\"hit rate\").\n",
    "\n",
    "What do you conclude from your findings?"
   ]
  },
  {
   "cell_type": "code",
   "execution_count": 17,
   "metadata": {},
   "outputs": [
    {
     "data": {
      "image/png": "[encoded data removed]",
      "text/plain": [
       "plot without title"
      ]
     },
     "metadata": {
      "image/png": {
       "height": 420,
       "width": 420
      }
     },
     "output_type": "display_data"
    }
   ],
   "source": [
    "# Your code here!\n",
    "\n",
    "# START\n",
    "\n",
    "black_df = stops %>%\n",
    "  filter(race == 'black') %>%\n",
    "  group_by(district) %>%\n",
    "  summarize(\n",
    "    hit_rate = sum(contraband_found, na.rm=TRUE) / sum(searched)\n",
    "  )\n",
    "\n",
    "white_df = stops %>%\n",
    "  filter(race == 'white') %>%\n",
    "  group_by(district) %>%\n",
    "  summarize(\n",
    "    hit_rate = sum(contraband_found, na.rm=TRUE) / sum(searched)\n",
    "  )\n",
    "\n",
    "merged_df = left_join(black_df, white_df, by='district', suffix=c('_black', '_white'))\n",
    "\n",
    "\n",
    "merged_df %>%\n",
    "  ggplot(aes(x=hit_rate_black, y=hit_rate_white, color=district)) +\n",
    "  geom_point() +\n",
    "  geom_abline(linetype='dashed') +\n",
    "  xlim(0,0.5) +\n",
    "  ylim(0,0.5)\n",
    "\n",
    "# END"
   ]
  },
  {
   "cell_type": "markdown",
   "metadata": {},
   "source": [
    "## Concluding remarks"
   ]
  },
  {
   "cell_type": "markdown",
   "metadata": {},
   "source": [
    "In the final exercise of this tutorial, you conducted an **outcome test**. \n",
    "\n",
    "> Figure 3 in [this paper](https://5harad.com/papers/100M-stops.pdf) shows the result of an outcome test applied to large-scale policing data. \n",
    "\n",
    "Outcome tests can be used to detect potential discrimination not just in policing.\n",
    "For example, think about how you might use an outcome test to detect discrimination in bank lending or hiring decisions."
   ]
  }
 ],
 "metadata": {
  "kernelspec": {
   "display_name": "R",
   "language": "R",
   "name": "ir"
  },
  "language_info": {
   "codemirror_mode": "r",
   "file_extension": ".r",
   "mimetype": "text/x-r-source",
   "name": "R",
   "pygments_lexer": "r",
   "version": "4.2.1"
  }
 },
 "nbformat": 4,
 "nbformat_minor": 4
}
