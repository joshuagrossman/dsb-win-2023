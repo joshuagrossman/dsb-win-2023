{
 "cells": [
  {
   "cell_type": "markdown",
   "metadata": {},
   "source": [
    "# 🗳️ Double voting and 🎂 the birthday problem with `Python`"
   ]
  },
  {
   "cell_type": "markdown",
   "metadata": {},
   "source": [
    "<img src=\"img/voting.jpg\" alt=\"voting\" width=\"400\" align=\"left\"/>"
   ]
  },
  {
   "cell_type": "markdown",
   "metadata": {},
   "source": [
    "## Introduction"
   ]
  },
  {
   "cell_type": "markdown",
   "metadata": {},
   "source": [
    "Claims of voter fraud are widespread. Here's one example:"
   ]
  },
  {
   "cell_type": "markdown",
   "metadata": {},
   "source": [
    "> **“Probably over a million people voted twice \n",
    "in [the 2012 presidential] election.”**\n",
    ">\n",
    "> Dick Morris, in 2014 on Fox News"
   ]
  },
  {
   "cell_type": "markdown",
   "metadata": {},
   "source": [
    "Voter fraud can take place in a number of ways, including tampering with voting machines 📠, destroying ballots 🗳️, and impersonating voters 🤖. Today, though, we will explore \n",
    "**double voting**, which occurs when a single person illegally casts more than one vote in an election.\n",
    "\n",
    "To start, consider this fact:\n",
    "\n",
    "> In the 2012 election, there were 141 individuals named \"John Smith\" who were born in 1970, and 27 of those individuals had exactly the same birthday.\n",
    "\n",
    "Were there 27 fraudulent \"John Smith\" ballots in the 2012 election? Let's find out."
   ]
  },
  {
   "cell_type": "markdown",
   "metadata": {},
   "source": [
    "## 🎂 The birthday problem 🎂"
   ]
  },
  {
   "cell_type": "markdown",
   "metadata": {},
   "source": [
    "<img src=\"img/birthday.jpg\" alt=\"voting\" width=\"200\" align=\"left\"/>"
   ]
  },
  {
   "cell_type": "markdown",
   "metadata": {},
   "source": [
    "🚀 Let's start with a similar problem: \n",
    "\n",
    "> In a room of 60 people, how likely is it that two people share exactly the same birthday? \n",
    ">\n",
    "> Assume that every person in the room was born in the same year."
   ]
  },
  {
   "cell_type": "markdown",
   "metadata": {},
   "source": [
    "Before moving forward, think to yourself what could be a reasonable answer. 10\\%? 50\\%? 90\\%? Something else?"
   ]
  },
  {
   "cell_type": "markdown",
   "metadata": {},
   "source": [
    "🖥️ To formally answer this question, we could use the following **algorithm**:\n",
    "\n",
    " > 1️⃣ We need a room of 60 people, and we need to know their birthdays.\n",
    " \n",
    " > 2️⃣ We need to check whether two people in that room share a birthday.\n",
    " \n",
    " > 3️⃣ We need to repeat steps 1 and 2 over and over.\n",
    " \n",
    " > 4️⃣ We need to figure out how often two or more people shared a birthday."
   ]
  },
  {
   "cell_type": "markdown",
   "metadata": {},
   "source": [
    "At the end of this tutorial, you'll be able to implement this algorithm in `Python`!"
   ]
  },
  {
   "cell_type": "markdown",
   "metadata": {},
   "source": [
    "## 📝 The `choices` command"
   ]
  },
  {
   "cell_type": "markdown",
   "metadata": {},
   "source": [
    "Here's the first step of our algorithm:\n",
    "\n",
    "> 1️⃣ We need a room of 60 people, and we need to know their birthdays.\n",
    "\n",
    "To simulate this in `Python`, we could use the `choices` command, which works as follows:\n",
    "\n",
    "> `choices([ numbers to randomly choose from ], k = how many numbers to choose)`"
   ]
  },
  {
   "cell_type": "code",
   "execution_count": 234,
   "metadata": {},
   "outputs": [
    {
     "data": {
      "text/plain": [
       "[1, 2, 5]"
      ]
     },
     "execution_count": 234,
     "metadata": {},
     "output_type": "execute_result"
    }
   ],
   "source": [
    "# To run code in a cell, click on the cell, and then \n",
    "# you can either press SHIFT + ENTER, \n",
    "# or press the triangular play button on the left side of this cell.\n",
    "\n",
    "# Note: don't worry about this import statement for now. More on this later!\n",
    "from random import choices\n",
    "\n",
    "choices([1, 2, 3, 4, 5], k=3)"
   ]
  },
  {
   "cell_type": "code",
   "execution_count": 235,
   "metadata": {},
   "outputs": [
    {
     "data": {
      "text/plain": [
       "[20, 20, 20, 20, 20]"
      ]
     },
     "execution_count": 235,
     "metadata": {},
     "output_type": "execute_result"
    }
   ],
   "source": [
    "# Text that starts with a hash (#) is called a comment. It's a little note\n",
    "# in your code that has no effect on the output.\n",
    "\n",
    "choices([10, 20, 30], k=5)"
   ]
  },
  {
   "cell_type": "markdown",
   "metadata": {},
   "source": [
    "### 🤖 Making lists automatically\n",
    "\n",
    "To quickly make a list of `n` consecutive integers, we can combine use the `lrange` command:"
   ]
  },
  {
   "cell_type": "code",
   "execution_count": 236,
   "metadata": {},
   "outputs": [
    {
     "data": {
      "text/plain": [
       "[0, 1, 2, 3, 4, 5, 6, 7, 8, 9]"
      ]
     },
     "execution_count": 236,
     "metadata": {},
     "output_type": "execute_result"
    }
   ],
   "source": [
    "# don't worry about this line of code!\n",
    "def lrange(*args): return list(range(*args))\n",
    "\n",
    "# Notice how we get every integer from 0 to 9.\n",
    "# In other words, we get 10 consecutive integers starting from 0.\n",
    "lrange(10)"
   ]
  },
  {
   "cell_type": "markdown",
   "metadata": {},
   "source": [
    "We can combine `choices` and `lrange` to easily sample from a lot of numbers:"
   ]
  },
  {
   "cell_type": "code",
   "execution_count": 237,
   "metadata": {},
   "outputs": [
    {
     "data": {
      "text/plain": [
       "[839, 242, 283, 572, 761, 522, 560, 193, 912, 858]"
      ]
     },
     "execution_count": 237,
     "metadata": {},
     "output_type": "execute_result"
    }
   ],
   "source": [
    "choices(lrange(1000), k=10)"
   ]
  },
  {
   "cell_type": "markdown",
   "metadata": {},
   "source": [
    "### 🚀 Exercise\n",
    "\n",
    "**Using `choices` and `lrange`, simulate a random draw of 60 birthdays.**"
   ]
  },
  {
   "cell_type": "code",
   "execution_count": 238,
   "metadata": {},
   "outputs": [
    {
     "data": {
      "text/plain": [
       "[304,\n",
       " 96,\n",
       " 148,\n",
       " 217,\n",
       " 261,\n",
       " 119,\n",
       " 175,\n",
       " 1,\n",
       " 198,\n",
       " 151,\n",
       " 150,\n",
       " 277,\n",
       " 121,\n",
       " 237,\n",
       " 179,\n",
       " 288,\n",
       " 10,\n",
       " 125,\n",
       " 206,\n",
       " 286,\n",
       " 268,\n",
       " 165,\n",
       " 249,\n",
       " 50,\n",
       " 77,\n",
       " 175,\n",
       " 61,\n",
       " 127,\n",
       " 352,\n",
       " 170,\n",
       " 157,\n",
       " 142,\n",
       " 310,\n",
       " 12,\n",
       " 135,\n",
       " 39,\n",
       " 250,\n",
       " 17,\n",
       " 145,\n",
       " 315,\n",
       " 84,\n",
       " 113,\n",
       " 4,\n",
       " 153,\n",
       " 235,\n",
       " 161,\n",
       " 191,\n",
       " 193,\n",
       " 258,\n",
       " 215,\n",
       " 322,\n",
       " 184,\n",
       " 161,\n",
       " 185,\n",
       " 48,\n",
       " 331,\n",
       " 231,\n",
       " 230,\n",
       " 80,\n",
       " 93]"
      ]
     },
     "execution_count": 238,
     "metadata": {},
     "output_type": "execute_result"
    }
   ],
   "source": [
    "# Your code goes here!\n",
    "\n",
    "# START\n",
    "choices(lrange(366), k=60)\n",
    "# END"
   ]
  },
  {
   "cell_type": "markdown",
   "metadata": {},
   "source": [
    "### ⏭️ Optional Extension Problem\n",
    "\n",
    "To learn more about a `Python` function, run `help(<function_name>)`. For example, run `help(choices)` to print the documentation for the `choices` command."
   ]
  },
  {
   "cell_type": "code",
   "execution_count": 239,
   "metadata": {},
   "outputs": [
    {
     "name": "stdout",
     "output_type": "stream",
     "text": [
      "Help on method choices in module random:\n",
      "\n",
      "choices(population, weights=None, *, cum_weights=None, k=1) method of random.Random instance\n",
      "    Return a k sized list of population elements chosen with replacement.\n",
      "    \n",
      "    If the relative weights or cumulative weights are not specified,\n",
      "    the selections are made with equal probability.\n",
      "\n"
     ]
    }
   ],
   "source": [
    "help(choices)"
   ]
  },
  {
   "cell_type": "markdown",
   "metadata": {},
   "source": [
    "`lrange` is really a composition of two functions: `list` and `range`. \n",
    "\n",
    "> `lrange(x)` is the same as `list(range(x))`.\n",
    "\n",
    "> `range` prepares a list of integers. `list` effectively \"unpacks\" the output of `range`. \n",
    "\n",
    "`range` can do more than just generate consecutive integers. Read the documentation for `range` to learn how `range` works. Then, use `lrange` to generate a list of all even numbers between 100 and 110.\n",
    "\n",
    "> Note: `lrange` has the same arguments as `range`"
   ]
  },
  {
   "cell_type": "code",
   "execution_count": 240,
   "metadata": {},
   "outputs": [
    {
     "data": {
      "text/plain": [
       "[100, 102, 104, 106, 108, 110]"
      ]
     },
     "execution_count": 240,
     "metadata": {},
     "output_type": "execute_result"
    }
   ],
   "source": [
    "# Your code here!\n",
    "\n",
    "# START\n",
    "lrange(100, 112, 2)\n",
    "# END"
   ]
  },
  {
   "cell_type": "markdown",
   "metadata": {},
   "source": [
    "## 🎶 Interlude: Math, variables, vectors, and functions"
   ]
  },
  {
   "cell_type": "markdown",
   "metadata": {},
   "source": [
    "### 📝 Using `Python` as a calculator"
   ]
  },
  {
   "cell_type": "markdown",
   "metadata": {},
   "source": [
    "One simple (and useful) way to use `Python` is as a calculator. For example:"
   ]
  },
  {
   "cell_type": "code",
   "execution_count": 241,
   "metadata": {},
   "outputs": [
    {
     "data": {
      "text/plain": [
       "15"
      ]
     },
     "execution_count": 241,
     "metadata": {},
     "output_type": "execute_result"
    }
   ],
   "source": [
    "5 + 10"
   ]
  },
  {
   "cell_type": "code",
   "execution_count": 242,
   "metadata": {},
   "outputs": [
    {
     "data": {
      "text/plain": [
       "90"
      ]
     },
     "execution_count": 242,
     "metadata": {},
     "output_type": "execute_result"
    }
   ],
   "source": [
    "30 * 3"
   ]
  },
  {
   "cell_type": "code",
   "execution_count": 243,
   "metadata": {},
   "outputs": [
    {
     "data": {
      "text/plain": [
       "5.0"
      ]
     },
     "execution_count": 243,
     "metadata": {},
     "output_type": "execute_result"
    }
   ],
   "source": [
    "25 / 5"
   ]
  },
  {
   "cell_type": "code",
   "execution_count": 244,
   "metadata": {},
   "outputs": [
    {
     "data": {
      "text/plain": [
       "9"
      ]
     },
     "execution_count": 244,
     "metadata": {},
     "output_type": "execute_result"
    }
   ],
   "source": [
    "# exponents look a little different!\n",
    "3 ** 2"
   ]
  },
  {
   "cell_type": "code",
   "execution_count": 245,
   "metadata": {},
   "outputs": [
    {
     "data": {
      "text/plain": [
       "25"
      ]
     },
     "execution_count": 245,
     "metadata": {},
     "output_type": "execute_result"
    }
   ],
   "source": [
    "(2 + 3) * 5"
   ]
  },
  {
   "cell_type": "markdown",
   "metadata": {},
   "source": [
    "#### 🚀 Exercise\n",
    "\n",
    "Use `Python` to find the average of 42, 100, and 280."
   ]
  },
  {
   "cell_type": "code",
   "execution_count": 246,
   "metadata": {},
   "outputs": [
    {
     "data": {
      "text/plain": [
       "140.66666666666666"
      ]
     },
     "execution_count": 246,
     "metadata": {},
     "output_type": "execute_result"
    }
   ],
   "source": [
    "# Your code here!\n",
    "\n",
    "# START\n",
    "(42+100+280)/3\n",
    "# END"
   ]
  },
  {
   "cell_type": "markdown",
   "metadata": {},
   "source": [
    "### 📝  Variables\n",
    "\n",
    "**Variables** are like boxes 📦: they store things for us, and we can label them so we know what's inside.\n",
    "\n",
    "Consider the following example from algebra class:\n",
    "\n",
    "> If x = 2, what is x + 5?\n",
    "\n",
    "You guessed it: the answer is 7. Let's express the same problem using `Python`:"
   ]
  },
  {
   "cell_type": "code",
   "execution_count": 247,
   "metadata": {},
   "outputs": [
    {
     "data": {
      "text/plain": [
       "7"
      ]
     },
     "execution_count": 247,
     "metadata": {},
     "output_type": "execute_result"
    }
   ],
   "source": [
    "# If x = 2, ...\n",
    "x = 2\n",
    "\n",
    "# ... what is x + 5?\n",
    "x + 5"
   ]
  },
  {
   "cell_type": "markdown",
   "metadata": {},
   "source": [
    "Let's break down the code in the cell above."
   ]
  },
  {
   "cell_type": "markdown",
   "metadata": {},
   "source": [
    "#### 1️⃣ First step\n",
    "\n",
    "In the first line of our code, we assigned the value `2` to the variable named `x` using `=`."
   ]
  },
  {
   "cell_type": "code",
   "execution_count": 248,
   "metadata": {},
   "outputs": [],
   "source": [
    "# If x = 2, ...\n",
    "x = 2"
   ]
  },
  {
   "cell_type": "markdown",
   "metadata": {},
   "source": [
    "The assignment operator (`=`) tells `Python` \"Take the variable on the *_left_* of the equal sign, and give it the value of the thing on the *_right_*.\"\n",
    "\n",
    "If you ever run a cell containing just a variable, `Python` will print the value of that variable:"
   ]
  },
  {
   "cell_type": "code",
   "execution_count": 249,
   "metadata": {},
   "outputs": [
    {
     "data": {
      "text/plain": [
       "2"
      ]
     },
     "execution_count": 249,
     "metadata": {},
     "output_type": "execute_result"
    }
   ],
   "source": [
    "x"
   ]
  },
  {
   "cell_type": "markdown",
   "metadata": {},
   "source": [
    "🔎 By default, `Python` only prints the last line of a cell."
   ]
  },
  {
   "cell_type": "code",
   "execution_count": 250,
   "metadata": {},
   "outputs": [
    {
     "data": {
      "text/plain": [
       "3"
      ]
     },
     "execution_count": 250,
     "metadata": {},
     "output_type": "execute_result"
    }
   ],
   "source": [
    "x\n",
    "x+1"
   ]
  },
  {
   "cell_type": "markdown",
   "metadata": {},
   "source": [
    "You can force `Python` to print the value of the variable with `print`. "
   ]
  },
  {
   "cell_type": "code",
   "execution_count": 251,
   "metadata": {},
   "outputs": [
    {
     "name": "stdout",
     "output_type": "stream",
     "text": [
      "2\n",
      "3\n"
     ]
    }
   ],
   "source": [
    "print(x)\n",
    "print(x+1)"
   ]
  },
  {
   "cell_type": "markdown",
   "metadata": {},
   "source": [
    "#### 2️⃣ Second step\n",
    "\n",
    "In the second line of our code, we added `5` to our variable `x`, which we initialized with the value `2`."
   ]
  },
  {
   "cell_type": "code",
   "execution_count": 252,
   "metadata": {},
   "outputs": [
    {
     "data": {
      "text/plain": [
       "7"
      ]
     },
     "execution_count": 252,
     "metadata": {},
     "output_type": "execute_result"
    }
   ],
   "source": [
    "x + 5"
   ]
  },
  {
   "cell_type": "markdown",
   "metadata": {},
   "source": [
    "❗❗**Important note**❗❗: After running the cell above, **the value of `x` is still 2, not 7.**\n",
    "\n",
    "Unless we use `=` to assign a new value to `x`, it will remain at 2:"
   ]
  },
  {
   "cell_type": "code",
   "execution_count": 253,
   "metadata": {},
   "outputs": [
    {
     "data": {
      "text/plain": [
       "2"
      ]
     },
     "execution_count": 253,
     "metadata": {},
     "output_type": "execute_result"
    }
   ],
   "source": [
    "x"
   ]
  },
  {
   "cell_type": "markdown",
   "metadata": {},
   "source": [
    "To update the value of a variable, we can use `=`.\n",
    "\n",
    "For example, here's how you could increase the value of `x` by `10`:"
   ]
  },
  {
   "cell_type": "code",
   "execution_count": 254,
   "metadata": {},
   "outputs": [
    {
     "data": {
      "text/plain": [
       "12"
      ]
     },
     "execution_count": 254,
     "metadata": {},
     "output_type": "execute_result"
    }
   ],
   "source": [
    "x = x + 10\n",
    "x"
   ]
  },
  {
   "cell_type": "markdown",
   "metadata": {},
   "source": [
    "`Python` first solves `x + 10` to get `12`, and then it overwrites `x` with `12`."
   ]
  },
  {
   "cell_type": "markdown",
   "metadata": {},
   "source": [
    "### 📝 Lists\n",
    "\n",
    "A **list** is a sequence of things.\n",
    "\n",
    "We use `[ ]` to manually create lists."
   ]
  },
  {
   "cell_type": "code",
   "execution_count": 255,
   "metadata": {},
   "outputs": [
    {
     "data": {
      "text/plain": [
       "[0, 1, 2, 3, 4, 5, 6, 7, 8, 9]"
      ]
     },
     "execution_count": 255,
     "metadata": {},
     "output_type": "execute_result"
    }
   ],
   "source": [
    "[0,1,2,3,4,5,6,7,8,9]"
   ]
  },
  {
   "cell_type": "markdown",
   "metadata": {},
   "source": [
    "Remember, we can also use `lrange` to make a list of consecutive integers!"
   ]
  },
  {
   "cell_type": "code",
   "execution_count": 256,
   "metadata": {},
   "outputs": [
    {
     "data": {
      "text/plain": [
       "[0, 1, 2, 3, 4, 5, 6, 7, 8, 9]"
      ]
     },
     "execution_count": 256,
     "metadata": {},
     "output_type": "execute_result"
    }
   ],
   "source": [
    "lrange(10)"
   ]
  },
  {
   "cell_type": "markdown",
   "metadata": {},
   "source": [
    "We can assign lists to variables too:"
   ]
  },
  {
   "cell_type": "code",
   "execution_count": 257,
   "metadata": {},
   "outputs": [
    {
     "data": {
      "text/plain": [
       "[10, 100, 1000]"
      ]
     },
     "execution_count": 257,
     "metadata": {},
     "output_type": "execute_result"
    }
   ],
   "source": [
    "my_list = [10, 100, 1000]\n",
    "my_list"
   ]
  },
  {
   "cell_type": "markdown",
   "metadata": {},
   "source": [
    "We can extract **elements** from lists using their **index**, or their place in line.\n",
    "\n",
    "> 🔎 Like most other programming languages, `Python` is 0-indexed, not 1-indexed. So, the first element in a vector `v` is `v[0]`, not `v[1]`."
   ]
  },
  {
   "cell_type": "code",
   "execution_count": 258,
   "metadata": {},
   "outputs": [
    {
     "data": {
      "text/plain": [
       "10"
      ]
     },
     "execution_count": 258,
     "metadata": {},
     "output_type": "execute_result"
    }
   ],
   "source": [
    "my_list[0]"
   ]
  },
  {
   "cell_type": "code",
   "execution_count": 259,
   "metadata": {},
   "outputs": [
    {
     "data": {
      "text/plain": [
       "100"
      ]
     },
     "execution_count": 259,
     "metadata": {},
     "output_type": "execute_result"
    }
   ],
   "source": [
    "my_list[1]"
   ]
  },
  {
   "cell_type": "code",
   "execution_count": 260,
   "metadata": {},
   "outputs": [
    {
     "data": {
      "text/plain": [
       "1000"
      ]
     },
     "execution_count": 260,
     "metadata": {},
     "output_type": "execute_result"
    }
   ],
   "source": [
    "my_list[2]"
   ]
  },
  {
   "cell_type": "code",
   "execution_count": 261,
   "metadata": {},
   "outputs": [],
   "source": [
    "# Uncomment the code below and run this cell. Why does it fail?\n",
    "# my_list[3]"
   ]
  },
  {
   "cell_type": "markdown",
   "metadata": {},
   "source": [
    "#### 🚀 Exercise\n",
    "\n",
    "**A. Create a list of numbers from 0 to 100, and assign the list to a variable called `my_list`.**"
   ]
  },
  {
   "cell_type": "code",
   "execution_count": 262,
   "metadata": {},
   "outputs": [
    {
     "name": "stdout",
     "output_type": "stream",
     "text": [
      "[0, 1, 2, 3, 4, 5, 6, 7, 8, 9, 10, 11, 12, 13, 14, 15, 16, 17, 18, 19, 20, 21, 22, 23, 24, 25, 26, 27, 28, 29, 30, 31, 32, 33, 34, 35, 36, 37, 38, 39, 40, 41, 42, 43, 44, 45, 46, 47, 48, 49, 50, 51, 52, 53, 54, 55, 56, 57, 58, 59, 60, 61, 62, 63, 64, 65, 66, 67, 68, 69, 70, 71, 72, 73, 74, 75, 76, 77, 78, 79, 80, 81, 82, 83, 84, 85, 86, 87, 88, 89, 90, 91, 92, 93, 94, 95, 96, 97, 98, 99, 100]\n"
     ]
    }
   ],
   "source": [
    "# Your code here!\n",
    "\n",
    "# START\n",
    "my_list = lrange(101)\n",
    "print(my_list)\n",
    "# END"
   ]
  },
  {
   "cell_type": "markdown",
   "metadata": {},
   "source": [
    "**B. Extract the 100th value of `my_list`.**"
   ]
  },
  {
   "cell_type": "code",
   "execution_count": 263,
   "metadata": {},
   "outputs": [
    {
     "data": {
      "text/plain": [
       "99"
      ]
     },
     "execution_count": 263,
     "metadata": {},
     "output_type": "execute_result"
    }
   ],
   "source": [
    "# Your code here!\n",
    "\n",
    "# START\n",
    "my_list[99]\n",
    "# END"
   ]
  },
  {
   "cell_type": "markdown",
   "metadata": {},
   "source": [
    "### ⏭️ Optional extension problem\n",
    "\n",
    "Find the 57th even number between 1347 and 2124. "
   ]
  },
  {
   "cell_type": "code",
   "execution_count": 264,
   "metadata": {},
   "outputs": [
    {
     "data": {
      "text/plain": [
       "1460"
      ]
     },
     "execution_count": 264,
     "metadata": {},
     "output_type": "execute_result"
    }
   ],
   "source": [
    "# Your code here!\n",
    "\n",
    "# START\n",
    "lrange(1348, 2126, 2)[56]\n",
    "# END"
   ]
  },
  {
   "cell_type": "markdown",
   "metadata": {},
   "source": [
    "### 📝 Functions\n",
    "\n",
    "If you've taken algebra, you've already seen functions! For example, this function `f` takes the absolute value of its input:\n",
    "\n",
    "> $f(x) = |x|$\n",
    ">\n",
    "> $f(-25) = |-25| = 25$"
   ]
  },
  {
   "cell_type": "markdown",
   "metadata": {},
   "source": [
    "<img src=\"img/function-machine.svg\" width=200 align=\"left\"/>"
   ]
  },
  {
   "cell_type": "markdown",
   "metadata": {},
   "source": [
    "`Python` also has an absolute value function called `abs`. \n",
    "\n",
    "To use a function in `Python`, we write the name of the function, and then put its input in parentheses. \n",
    "\n",
    "> 🔎 The output of a function is called its **return value**. "
   ]
  },
  {
   "cell_type": "code",
   "execution_count": 265,
   "metadata": {},
   "outputs": [
    {
     "data": {
      "text/plain": [
       "25"
      ]
     },
     "execution_count": 265,
     "metadata": {},
     "output_type": "execute_result"
    }
   ],
   "source": [
    "abs(-25)"
   ]
  },
  {
   "cell_type": "markdown",
   "metadata": {},
   "source": [
    "You may have noticed that we used this function notation quite a lot already. \n",
    "\n",
    "Here are some of the functions you have already used:\n",
    "- `choices`: makes random draws from a list\n",
    "- `lrange`: makes a list of numbers\n",
    "- `print`: prints its input "
   ]
  },
  {
   "cell_type": "markdown",
   "metadata": {},
   "source": [
    "💡 There are *many* other built-in functions in `Python`, and you can even write your own functions! \n",
    "\n",
    "Here are some examples of functions that you can use:\n",
    "- `sum`: Adds up all of the numbers in a list\n",
    "- `len`: Finds the total number of elements in a list.\n",
    "- `max`: Finds the maximum value in a list\n",
    "- `min`: Finds the minimum value in a list"
   ]
  },
  {
   "cell_type": "markdown",
   "metadata": {},
   "source": [
    "### 🚀 Exercise\n",
    "\n",
    "**Find the sum of all the numbers from 0 to 100 using `sum`.**"
   ]
  },
  {
   "cell_type": "code",
   "execution_count": 266,
   "metadata": {},
   "outputs": [
    {
     "data": {
      "text/plain": [
       "5050"
      ]
     },
     "execution_count": 266,
     "metadata": {},
     "output_type": "execute_result"
    }
   ],
   "source": [
    "# Your code here!\n",
    "\n",
    "# START\n",
    "sum(lrange(101))\n",
    "# END"
   ]
  },
  {
   "cell_type": "markdown",
   "metadata": {},
   "source": [
    "### 📝 Multi-argument functions\n",
    "\n",
    "Functions like `abs` only need one input, or **argument**. However, functions can have more than one argument. \n",
    "\n",
    "For example, this function `f` adds its two arguments, x and y:\n",
    "\n",
    "> f(x, y) = x + y\n",
    ">\n",
    "> f(2, 3) = 2 + 3 = 5\n",
    "\n",
    "You've also already used a multi-argument function in `Python` called `choices`.\n",
    "\n",
    "We provided `choices` with three arguments:\n",
    "\n",
    "1. A list of numbers to sample from\n",
    "2. How many numbers to sample"
   ]
  },
  {
   "cell_type": "code",
   "execution_count": 267,
   "metadata": {},
   "outputs": [
    {
     "data": {
      "text/plain": [
       "[3, 2]"
      ]
     },
     "execution_count": 267,
     "metadata": {},
     "output_type": "execute_result"
    }
   ],
   "source": [
    "choices([1,2,3,4,5], k=2)"
   ]
  },
  {
   "cell_type": "markdown",
   "metadata": {},
   "source": [
    "## 📝 Back to the birthday problem: Finding duplicates"
   ]
  },
  {
   "cell_type": "markdown",
   "metadata": {},
   "source": [
    "The code below defines a new function, `has_duplicate`.\n",
    "\n",
    "> `has_duplicate` returns `True` if the input list contains any duplicate values, and `False` otherwise.\n"
   ]
  },
  {
   "cell_type": "code",
   "execution_count": 268,
   "metadata": {},
   "outputs": [],
   "source": [
    "# don't worry about understanding this cell!\n",
    "# But, if you're looking for an extension problem, \n",
    "# try to figure out how this function works.\n",
    "\n",
    "def has_duplicate(l):\n",
    "    unique_l = set(l)\n",
    "    all_unique = (len(l) != len(unique_l))\n",
    "    return all_unique"
   ]
  },
  {
   "cell_type": "markdown",
   "metadata": {},
   "source": [
    "Make sure to run the cell above, and then run `has_duplicate` in the cells below."
   ]
  },
  {
   "cell_type": "code",
   "execution_count": 269,
   "metadata": {},
   "outputs": [
    {
     "data": {
      "text/plain": [
       "True"
      ]
     },
     "execution_count": 269,
     "metadata": {},
     "output_type": "execute_result"
    }
   ],
   "source": [
    "has_duplicate([1,2,2,3,4,5])"
   ]
  },
  {
   "cell_type": "code",
   "execution_count": 270,
   "metadata": {},
   "outputs": [
    {
     "name": "stdout",
     "output_type": "stream",
     "text": [
      "[1, 2, 3, 4, 5]\n"
     ]
    }
   ],
   "source": [
    "list_a = [1,2,3,4,5]\n",
    "print(list_a)"
   ]
  },
  {
   "cell_type": "code",
   "execution_count": 271,
   "metadata": {},
   "outputs": [
    {
     "data": {
      "text/plain": [
       "False"
      ]
     },
     "execution_count": 271,
     "metadata": {},
     "output_type": "execute_result"
    }
   ],
   "source": [
    "has_duplicate(list_a)"
   ]
  },
  {
   "cell_type": "markdown",
   "metadata": {},
   "source": [
    "### 🚀 Exercise\n",
    "\n",
    "**Generate a vector of 60 random birthdays, and determine whether the vector has any duplicates.**"
   ]
  },
  {
   "cell_type": "code",
   "execution_count": 272,
   "metadata": {},
   "outputs": [
    {
     "data": {
      "text/plain": [
       "True"
      ]
     },
     "execution_count": 272,
     "metadata": {},
     "output_type": "execute_result"
    }
   ],
   "source": [
    "# Your code here!\n",
    "\n",
    "# START\n",
    "has_duplicate(choices(lrange(366), k=60))\n",
    "# END"
   ]
  },
  {
   "cell_type": "markdown",
   "metadata": {
    "tags": []
   },
   "source": [
    "### 📝 Counting pairs\n",
    "\n",
    "The code below defines another function, `num_pairs`.\n",
    "\n",
    "`num_pairs` returns the number of pairs that can formed with duplicated values.\n",
    "\n",
    "> In math speak, you can form $\\binom{n}{2}$ pairs from $n$ values.\n",
    ">\n",
    "> $\\binom{n}{2} = \\frac{n!}{2!(n - 2)!}$\n",
    "\n",
    "For example, the list `[1, 2, 3, 3]` has two 3s, so `num_pairs` should return $\\binom{2}{2} = 1$. In other words, we can only make one pair of identical numbers.\n",
    "\n",
    "The list `[1, 2, 3, 3, 3, 3]` has four 3s, so `num_pairs` should return $\\binom{4}{2} = 6$.\n",
    "\n",
    "The list `[1, 2, 3, 4, 5, 5, 5, 6, 6]` has three 5s and two 6s, so `num_pairs` should return $\\binom{3}{2} + \\binom{2}{2} = 4$."
   ]
  },
  {
   "cell_type": "code",
   "execution_count": 273,
   "metadata": {},
   "outputs": [],
   "source": [
    "# don't worry at all about understanding this cell!\n",
    "# But, if you're looking for an extension problem, \n",
    "# try to figure out how this function works.\n",
    "\n",
    "from math import comb\n",
    "\n",
    "def num_pairs(l):\n",
    "    unique_elem = set(l)\n",
    "    count_list = [l.count(x) for x in unique_elem]\n",
    "    pair_count_list = [comb(x, 2) for x in count_list]\n",
    "    n_pairs = sum(pair_count_list)\n",
    "    return n_pairs"
   ]
  },
  {
   "cell_type": "markdown",
   "metadata": {},
   "source": [
    "Make sure to run the cell above, then test out `num_pairs` in the cells below."
   ]
  },
  {
   "cell_type": "code",
   "execution_count": 274,
   "metadata": {},
   "outputs": [
    {
     "data": {
      "text/plain": [
       "1"
      ]
     },
     "execution_count": 274,
     "metadata": {},
     "output_type": "execute_result"
    }
   ],
   "source": [
    "# Only one duplicate pair to be made -- 3 and 3!\n",
    "num_pairs([1, 2, 3, 3])"
   ]
  },
  {
   "cell_type": "code",
   "execution_count": 275,
   "metadata": {},
   "outputs": [
    {
     "data": {
      "text/plain": [
       "6"
      ]
     },
     "execution_count": 275,
     "metadata": {},
     "output_type": "execute_result"
    }
   ],
   "source": [
    "# How many duplicate pairs can you make with four 3's?\n",
    "num_pairs([1, 2, 3, 3, 3, 3])"
   ]
  },
  {
   "cell_type": "code",
   "execution_count": 276,
   "metadata": {},
   "outputs": [
    {
     "data": {
      "text/plain": [
       "4"
      ]
     },
     "execution_count": 276,
     "metadata": {},
     "output_type": "execute_result"
    }
   ],
   "source": [
    "# How many duplicate pairs can you make with three 5's and two 6's?\n",
    "num_pairs([1, 2, 3, 4, 5, 5, 5, 6, 6])"
   ]
  },
  {
   "cell_type": "markdown",
   "metadata": {},
   "source": [
    "### 🚀 Exercise\n",
    "\n",
    "**Think back to the John Smith example:**\n",
    "\n",
    "> In the 2012 election, there were 141 individuals named \"John Smith\" who were born in 1970. From those 141 individuals, we can make 27 pairs with exactly the same birthday.\n",
    "\n",
    "**Generate a vector of 141 random birthdays, and determine how many duplicate pairs can be formed from elements in the vector.** Run your code repeatedly to see how the results can change due to randomness."
   ]
  },
  {
   "cell_type": "code",
   "execution_count": 277,
   "metadata": {},
   "outputs": [
    {
     "data": {
      "text/plain": [
       "36"
      ]
     },
     "execution_count": 277,
     "metadata": {},
     "output_type": "execute_result"
    }
   ],
   "source": [
    "# Your code here!\n",
    "\n",
    "# START\n",
    "birthdays = choices(lrange(366), k=141)\n",
    "num_pairs(birthdays)\n",
    "# END"
   ]
  },
  {
   "cell_type": "markdown",
   "metadata": {},
   "source": [
    "### ⏭️ Optional extension Problem\n",
    "\n",
    "Generate a vector of 141 birthdays occurring over 10 years (so far, we've ignored the year). Calculate the number of pairs that can be formed."
   ]
  },
  {
   "cell_type": "code",
   "execution_count": 278,
   "metadata": {},
   "outputs": [
    {
     "data": {
      "text/plain": [
       "2"
      ]
     },
     "execution_count": 278,
     "metadata": {},
     "output_type": "execute_result"
    }
   ],
   "source": [
    "# Your code here!\n",
    "\n",
    "# START\n",
    "birthdays = choices(lrange(366*10), k=141)\n",
    "num_pairs(birthdays)\n",
    "# END"
   ]
  },
  {
   "cell_type": "markdown",
   "metadata": {},
   "source": [
    "### 📝  Repetition with `for` loops 🔁\n",
    "\n",
    "Recall the third step in our algorithm:\n",
    "\n",
    "3️⃣ We need to repeat this process over and over.\n",
    "\n",
    "The `for` loop lets us do exactly this. Here's the syntax for a `for` loop:\n",
    "\n",
    "```\n",
    "for element in vector: \n",
    "    do everything here\n",
    "```\n",
    "\n",
    "Run the following cell to see a `for` loop in action!"
   ]
  },
  {
   "cell_type": "code",
   "execution_count": 279,
   "metadata": {},
   "outputs": [
    {
     "name": "stdout",
     "output_type": "stream",
     "text": [
      "Hello, world!\n",
      "0\n",
      "Hello, world!\n",
      "1\n",
      "Hello, world!\n",
      "2\n",
      "Hello, world!\n",
      "3\n",
      "Hello, world!\n",
      "4\n",
      "Hello, world!\n",
      "5\n",
      "Hello, world!\n",
      "6\n",
      "Hello, world!\n",
      "7\n",
      "Hello, world!\n",
      "8\n",
      "Hello, world!\n",
      "9\n"
     ]
    }
   ],
   "source": [
    "for i in lrange(10):\n",
    "    print(\"Hello, world!\")\n",
    "    print(i)"
   ]
  },
  {
   "cell_type": "markdown",
   "metadata": {},
   "source": [
    "Uh, hi?"
   ]
  },
  {
   "cell_type": "markdown",
   "metadata": {},
   "source": [
    "Here's what's going on in the loop 🔁:"
   ]
  },
  {
   "cell_type": "markdown",
   "metadata": {},
   "source": [
    "1. `Python` will iterate through each number in the list `[0,1,2,3,4,5,6,7,8,9]`. \n",
    "2. The first number is `0`. So, create a variable `i` with the value 0.\n",
    "\n",
    "> `i = 0`\n",
    "\n",
    "3. Do everything indented below the colon (`:`). So, print `Hello, world!` and print the value of `i`.\n",
    "\n",
    "> `print(\"Hello, world!\")`\n",
    "\n",
    "> `print(i)`\n",
    "\n",
    "4. Repeat the steps above for the rest of the vector.\n",
    "\n",
    "> `i = 1`\n",
    "\n",
    "> `print(\"Hello, world!\")`\n",
    "\n",
    "> `print(i)`\n",
    "\n",
    ">`i = 2`\n",
    "\n",
    ">`print(\"Hello, world!\")`\n",
    "\n",
    "> `print(i)`\n",
    "\n",
    ">`...` \n",
    "\n",
    ">`i = 9`\n",
    "\n",
    ">`print(\"Hello, world!\")`\n",
    "\n",
    "> `print(i)`\n",
    "\n",
    "Welcome to the world of automation 🤖!"
   ]
  },
  {
   "cell_type": "markdown",
   "metadata": {},
   "source": [
    "## 🚀 Exercise\n",
    "\n",
    "**Using a `for` loop, print 3 vectors with each containing 60 random birthdays.**"
   ]
  },
  {
   "cell_type": "code",
   "execution_count": 280,
   "metadata": {},
   "outputs": [
    {
     "name": "stdout",
     "output_type": "stream",
     "text": [
      "[101, 14, 316, 365, 10, 147, 204, 252, 221, 43, 190, 31, 259, 252, 91, 120, 15, 248, 222, 144, 64, 45, 4, 361, 259, 331, 326, 332, 29, 9, 202, 146, 250, 341, 195, 42, 63, 262, 264, 73, 318, 193, 285, 1, 11, 53, 184, 290, 365, 151, 264, 283, 239, 261, 105, 190, 176, 322, 354, 177]\n",
      "[131, 344, 287, 104, 13, 112, 318, 9, 344, 68, 29, 337, 87, 272, 324, 139, 152, 74, 141, 17, 223, 150, 132, 204, 170, 184, 169, 100, 152, 155, 115, 19, 336, 86, 39, 97, 201, 282, 333, 98, 125, 164, 38, 14, 322, 288, 24, 281, 216, 0, 204, 188, 200, 260, 51, 5, 211, 209, 304, 232]\n",
      "[315, 356, 4, 11, 98, 348, 74, 15, 2, 220, 360, 201, 290, 157, 225, 55, 362, 33, 73, 174, 139, 152, 346, 184, 15, 88, 23, 202, 168, 4, 208, 70, 276, 277, 84, 136, 96, 355, 104, 178, 124, 18, 269, 258, 254, 117, 77, 293, 347, 157, 256, 9, 212, 178, 274, 140, 43, 246, 249, 205]\n"
     ]
    }
   ],
   "source": [
    "# Your code here!\n",
    "\n",
    "# START\n",
    "for i in lrange(3):\n",
    "    print(choices(lrange(366), k=60))\n",
    "# END"
   ]
  },
  {
   "cell_type": "markdown",
   "metadata": {},
   "source": [
    "## 🚀 Exercise\n",
    "\n",
    "**Using a `for` loop and a counter, add up all the numbers from 1 to 100.**\n",
    "\n",
    "To get you started, here's how you could use a counter to count to 5:"
   ]
  },
  {
   "cell_type": "code",
   "execution_count": 281,
   "metadata": {},
   "outputs": [
    {
     "name": "stdout",
     "output_type": "stream",
     "text": [
      "1\n",
      "2\n",
      "3\n",
      "4\n",
      "5\n",
      "Final value of counter:\n",
      "5\n"
     ]
    }
   ],
   "source": [
    "counter = 0\n",
    "\n",
    "for i in lrange(5):\n",
    "    counter = counter + 1\n",
    "    print(counter)\n",
    "\n",
    "print(\"Final value of counter:\")\n",
    "print(counter)"
   ]
  },
  {
   "cell_type": "code",
   "execution_count": 282,
   "metadata": {},
   "outputs": [
    {
     "name": "stdout",
     "output_type": "stream",
     "text": [
      "5050\n",
      "5050\n"
     ]
    }
   ],
   "source": [
    "# Your code here!\n",
    "\n",
    "# START\n",
    "counter = 0\n",
    "\n",
    "for i in lrange(101):\n",
    "    counter = counter + i\n",
    "\n",
    "print(counter)\n",
    "\n",
    "# check our answer\n",
    "print(sum(lrange(101)))\n",
    "# END"
   ]
  },
  {
   "cell_type": "markdown",
   "metadata": {},
   "source": [
    "### ⏭️ Optional extension problem\n",
    "\n",
    "Use a `for` loop to print the first odd number, the sum of the first two odd numbers, the sum of the first three odd numbers, ..., all the way up to the sum of the first 10 odd numbers. \n",
    "\n",
    "Do you notice a pattern?"
   ]
  },
  {
   "cell_type": "code",
   "execution_count": 283,
   "metadata": {},
   "outputs": [
    {
     "name": "stdout",
     "output_type": "stream",
     "text": [
      "1\n",
      "4\n",
      "9\n",
      "16\n",
      "25\n",
      "36\n",
      "49\n",
      "64\n",
      "81\n",
      "100\n"
     ]
    }
   ],
   "source": [
    "# Your code here!\n",
    "\n",
    "# START\n",
    "numbers = lrange(10)\n",
    "\n",
    "for i in numbers:\n",
    "    odd_nums = lrange(1, 2*(i+1), 2)\n",
    "    print(sum(odd_nums))\n",
    "\n",
    "# The numbers are all perfect squares!\n",
    "\n",
    "# END"
   ]
  },
  {
   "cell_type": "markdown",
   "metadata": {},
   "source": [
    "## 🎶 Interlude: Booleans and control flow"
   ]
  },
  {
   "cell_type": "markdown",
   "metadata": {},
   "source": [
    "### 📝 Control flow with booleans, `if`, and `else`"
   ]
  },
  {
   "cell_type": "markdown",
   "metadata": {},
   "source": [
    "Booleans are a special type of variable that can take on only two possible values: `True` or `False`.\n",
    "\n",
    "> 🏛️ *Historical note*: Booleans are named after George Boole, a 19th century mathematician. https://en.wikipedia.org/wiki/George_Boole\n",
    "\n",
    "Booleans come in handy when you're comparing values."
   ]
  },
  {
   "cell_type": "code",
   "execution_count": 284,
   "metadata": {},
   "outputs": [
    {
     "data": {
      "text/plain": [
       "True"
      ]
     },
     "execution_count": 284,
     "metadata": {},
     "output_type": "execute_result"
    }
   ],
   "source": [
    "10 == 10"
   ]
  },
  {
   "cell_type": "code",
   "execution_count": 285,
   "metadata": {},
   "outputs": [
    {
     "data": {
      "text/plain": [
       "False"
      ]
     },
     "execution_count": 285,
     "metadata": {},
     "output_type": "execute_result"
    }
   ],
   "source": [
    "9 == 10"
   ]
  },
  {
   "cell_type": "markdown",
   "metadata": {},
   "source": [
    "❗❗The double equal sign ( `==` ) is different than the single equal sign ( `=` ).\n",
    "\n",
    "> While a single equal sign is used to <i>assign</i> values to arguments inside functions, a double equal sign is used to <i>compare</i> values."
   ]
  },
  {
   "cell_type": "code",
   "execution_count": 286,
   "metadata": {},
   "outputs": [],
   "source": [
    "# this doesn't make sense! We can't assign the value 10 to the number 9.\n",
    "# 9 = 10"
   ]
  },
  {
   "cell_type": "markdown",
   "metadata": {},
   "source": [
    "We can also use greater than ( `>` ) and less than ( `<` ) to compare values:"
   ]
  },
  {
   "cell_type": "code",
   "execution_count": 287,
   "metadata": {},
   "outputs": [
    {
     "data": {
      "text/plain": [
       "True"
      ]
     },
     "execution_count": 287,
     "metadata": {},
     "output_type": "execute_result"
    }
   ],
   "source": [
    "9 < 10"
   ]
  },
  {
   "cell_type": "code",
   "execution_count": 288,
   "metadata": {},
   "outputs": [
    {
     "data": {
      "text/plain": [
       "False"
      ]
     },
     "execution_count": 288,
     "metadata": {},
     "output_type": "execute_result"
    }
   ],
   "source": [
    "10 > 10"
   ]
  },
  {
   "cell_type": "code",
   "execution_count": 289,
   "metadata": {},
   "outputs": [
    {
     "data": {
      "text/plain": [
       "True"
      ]
     },
     "execution_count": 289,
     "metadata": {},
     "output_type": "execute_result"
    }
   ],
   "source": [
    "# <= means \"less than or equal to\", and >= means \"greater than or equal to\"\n",
    "\n",
    "10 >= 10"
   ]
  },
  {
   "cell_type": "markdown",
   "metadata": {},
   "source": [
    "### Working with `if`"
   ]
  },
  {
   "cell_type": "markdown",
   "metadata": {},
   "source": [
    "We can use `if` with booleans to control our code. Here's the **syntax**:\n",
    "\n",
    "```\n",
    "do everything up here\n",
    "\n",
    "if (this statement is true):\n",
    "    do everything here too\n",
    "\n",
    "finally, do everything down here\n",
    "```\n",
    "\n",
    "Here's an example. Practice reading the code line by line to understand each piece:"
   ]
  },
  {
   "cell_type": "code",
   "execution_count": 290,
   "metadata": {},
   "outputs": [
    {
     "name": "stdout",
     "output_type": "stream",
     "text": [
      "1\n",
      "2\n",
      "3\n",
      "Counter is now bigger than or equal to 3!\n",
      "4\n",
      "Counter is now bigger than or equal to 3!\n",
      "5\n",
      "Counter is now bigger than or equal to 3!\n"
     ]
    }
   ],
   "source": [
    "counter = 0\n",
    "\n",
    "for i in lrange(5):\n",
    "    counter = counter + 1\n",
    "    \n",
    "    print(counter)\n",
    "    \n",
    "    if (counter >= 3):\n",
    "        print(\"Counter is now bigger than or equal to 3!\")"
   ]
  },
  {
   "cell_type": "markdown",
   "metadata": {},
   "source": [
    "### Adding `else` to the mix"
   ]
  },
  {
   "cell_type": "markdown",
   "metadata": {},
   "source": [
    "`else` means \"otherwise\". We can use `if` and `else` with each other to write code that follows this pattern:\n",
    "\n",
    "```\n",
    "if (this statement is true):\n",
    "    do everything here\n",
    "    \n",
    "else:\n",
    "    do everything here instead\n",
    "```\n",
    "\n",
    "Here's an example. Practice reading the code line by line to understand each piece:"
   ]
  },
  {
   "cell_type": "code",
   "execution_count": 291,
   "metadata": {},
   "outputs": [
    {
     "name": "stdout",
     "output_type": "stream",
     "text": [
      "1\n",
      "Counter is less than 3!\n",
      "2\n",
      "Counter is less than 3!\n",
      "3\n",
      "Counter is now bigger than or equal to 3!\n",
      "4\n",
      "Counter is now bigger than or equal to 3!\n",
      "5\n",
      "Counter is now bigger than or equal to 3!\n"
     ]
    }
   ],
   "source": [
    "counter = 0\n",
    "\n",
    "for i in lrange(5):\n",
    "    counter = counter + 1\n",
    "    \n",
    "    print(counter)\n",
    "    \n",
    "    if (counter >= 3):\n",
    "        print(\"Counter is now bigger than or equal to 3!\")\n",
    "    else:\n",
    "        print(\"Counter is less than 3!\")\n",
    "    "
   ]
  },
  {
   "cell_type": "markdown",
   "metadata": {},
   "source": [
    "### 🚀 Exercise\n",
    "\n",
    "**Write a `for` loop to count off all the numbers from 1 to 10. Print \"Bigger than 5!\" after each number that is bigger than 5.**"
   ]
  },
  {
   "cell_type": "code",
   "execution_count": 292,
   "metadata": {},
   "outputs": [
    {
     "name": "stdout",
     "output_type": "stream",
     "text": [
      "1\n",
      "2\n",
      "3\n",
      "4\n",
      "5\n",
      "6\n",
      "Bigger than 5!\n",
      "7\n",
      "Bigger than 5!\n",
      "8\n",
      "Bigger than 5!\n",
      "9\n",
      "Bigger than 5!\n",
      "10\n",
      "Bigger than 5!\n"
     ]
    }
   ],
   "source": [
    "# Your code here!\n",
    "\n",
    "# START\n",
    "for i in lrange(10):\n",
    "    \n",
    "    print(i+1)\n",
    "    \n",
    "    if (i+1) > 5:\n",
    "        print(\"Bigger than 5!\")\n",
    "# END"
   ]
  },
  {
   "cell_type": "markdown",
   "metadata": {},
   "source": [
    "### 🚀 Exercise\n",
    "\n",
    "**Generate a vector of 20 birthdays, and print the birthdays that fall in the first half of the year.**"
   ]
  },
  {
   "cell_type": "code",
   "execution_count": 293,
   "metadata": {},
   "outputs": [
    {
     "name": "stdout",
     "output_type": "stream",
     "text": [
      "32\n",
      "104\n",
      "113\n",
      "53\n",
      "136\n",
      "12\n",
      "49\n",
      "130\n"
     ]
    }
   ],
   "source": [
    "# Your code here!\n",
    "\n",
    "# START\n",
    "birthdays = choices(lrange(366), k=20)\n",
    "\n",
    "for birthday in birthdays:\n",
    "    if (birthday <= 183):\n",
    "        print(birthday)\n",
    "# END"
   ]
  },
  {
   "cell_type": "markdown",
   "metadata": {},
   "source": [
    "## Back to the birthday problem: Translating our algorithm into code"
   ]
  },
  {
   "cell_type": "markdown",
   "metadata": {},
   "source": [
    "We're ready to come back to our algorithm:\n",
    "\n",
    "> 1. We need a room of 60 people, and we need to know their birthdays.\n",
    "> 2. We need to check whether two people in that room share a birthday.\n",
    "> 3. We need to repeat this process over and over.\n",
    "> 4. We need to figure out how frequently two or more people shared a birthday."
   ]
  },
  {
   "cell_type": "markdown",
   "metadata": {},
   "source": [
    "### 🚀 Exercise\n",
    "\n",
    "**Translate our algorithm into code to solve the birthday problem!** 🙀\n",
    "\n",
    "How often will at least two people share a birthday in a room of 60 people? Are you surprised with the result?"
   ]
  },
  {
   "cell_type": "code",
   "execution_count": 294,
   "metadata": {},
   "outputs": [
    {
     "data": {
      "text/plain": [
       "0.9943"
      ]
     },
     "execution_count": 294,
     "metadata": {},
     "output_type": "execute_result"
    }
   ],
   "source": [
    "# Your code here!\n",
    "\n",
    "# START\n",
    "# This is the total number of birthday vectors we will generate\n",
    "# 10,000 is arbitrary. we just need something \"big enough\"\n",
    "# Note that the underscore (_) can be used as a placeholder for a comma\n",
    "# to make numbers easier to read.\n",
    "n = 10_000\n",
    "\n",
    "# This is a counter to keep track of how many vectors had at least \n",
    "# one duplicate birthday\n",
    "n_with_duplicates = 0\n",
    "\n",
    "# Each time we see a vector with at least one duplicate, we should\n",
    "# increment n_with_duplicates\n",
    "for i in lrange(n):\n",
    "    \n",
    "    birthdays = choices(lrange(366), k=60)\n",
    "    \n",
    "    if (has_duplicate(birthdays)):\n",
    "        \n",
    "        n_with_duplicates = n_with_duplicates + 1\n",
    "\n",
    "# Fraction of vectors with at least one duplicate\n",
    "n_with_duplicates / n\n",
    "# END"
   ]
  },
  {
   "cell_type": "markdown",
   "metadata": {},
   "source": [
    "### 🚀 Additional exercises\n",
    "\n",
    "**A. Decrease the number of birthdays we generate in each birthday vector, and re-run the code several times. What happens to the fraction of vectors with duplicates?**"
   ]
  },
  {
   "cell_type": "code",
   "execution_count": 295,
   "metadata": {},
   "outputs": [
    {
     "data": {
      "text/plain": [
       "0.1191"
      ]
     },
     "execution_count": 295,
     "metadata": {},
     "output_type": "execute_result"
    }
   ],
   "source": [
    "# Your code here!\n",
    "\n",
    "# START\n",
    "n = 10_000\n",
    "\n",
    "n_with_duplicates = 0\n",
    "\n",
    "for i in lrange(n):\n",
    "    \n",
    "    birthdays = choices(lrange(366), k=10)\n",
    "    \n",
    "    if (has_duplicate(birthdays)):\n",
    "        \n",
    "        n_with_duplicates = n_with_duplicates + 1\n",
    "\n",
    "n_with_duplicates / n\n",
    "\n",
    "# The chance of a match goes down! \n",
    "\n",
    "# END"
   ]
  },
  {
   "cell_type": "markdown",
   "metadata": {},
   "source": [
    "**B. Decrease the number of birthday vectors, and re-run the code several times. What happens to the results?**"
   ]
  },
  {
   "cell_type": "code",
   "execution_count": 296,
   "metadata": {},
   "outputs": [
    {
     "data": {
      "text/plain": [
       "0.994"
      ]
     },
     "execution_count": 296,
     "metadata": {},
     "output_type": "execute_result"
    }
   ],
   "source": [
    "# Your code here!\n",
    "\n",
    "# START\n",
    "n = 1000\n",
    "\n",
    "n_with_duplicates = 0\n",
    "\n",
    "for i in lrange(n):\n",
    "    \n",
    "    birthdays = choices(lrange(366), k=60)\n",
    "    \n",
    "    if (has_duplicate(birthdays)):\n",
    "        \n",
    "        n_with_duplicates = n_with_duplicates + 1\n",
    "\n",
    "n_with_duplicates / n\n",
    "\n",
    "# The precision of our estimate gets worse! \n",
    "\n",
    "# END"
   ]
  },
  {
   "cell_type": "markdown",
   "metadata": {},
   "source": [
    "**C. Increase the number of birthday vectors to something really big, and re-run the code several times. What happens to the results?**"
   ]
  },
  {
   "cell_type": "code",
   "execution_count": 297,
   "metadata": {},
   "outputs": [
    {
     "data": {
      "text/plain": [
       "0.994"
      ]
     },
     "execution_count": 297,
     "metadata": {},
     "output_type": "execute_result"
    }
   ],
   "source": [
    "# Your code here!\n",
    "\n",
    "# START\n",
    "n = 100_000\n",
    "\n",
    "n_with_duplicates = 0\n",
    "\n",
    "for i in lrange(n):\n",
    "    \n",
    "    birthdays = choices(lrange(366), k=60)\n",
    "    \n",
    "    if (has_duplicate(birthdays)):\n",
    "        \n",
    "        n_with_duplicates = n_with_duplicates + 1\n",
    "\n",
    "n_with_duplicates / n\n",
    "\n",
    "# The precision of our estimate goes up, but the code runs slower!\n",
    "\n",
    "# END"
   ]
  },
  {
   "cell_type": "markdown",
   "metadata": {},
   "source": [
    "**D. How many birthdays should be in each vector for an approximately 50% chance of a match?**"
   ]
  },
  {
   "cell_type": "code",
   "execution_count": 298,
   "metadata": {},
   "outputs": [
    {
     "data": {
      "text/plain": [
       "0.5025"
      ]
     },
     "execution_count": 298,
     "metadata": {},
     "output_type": "execute_result"
    }
   ],
   "source": [
    "# Your code here!\n",
    "\n",
    "# START\n",
    "n = 10_000\n",
    "\n",
    "n_with_duplicates = 0\n",
    "\n",
    "for i in lrange(n):\n",
    "    \n",
    "    birthdays = choices(lrange(366), k=23)\n",
    "    \n",
    "    if (has_duplicate(birthdays)):\n",
    "        \n",
    "        n_with_duplicates = n_with_duplicates + 1\n",
    "\n",
    "n_with_duplicates / n\n",
    "\n",
    "# This takes some trial an error, but the closest we can get to \n",
    "# 50% is with 23 birthdays per vector.\n",
    "\n",
    "# In a classroom of just 23 students, there is a ~50% chance of\n",
    "# a matched birthday!\n",
    "\n",
    "# END"
   ]
  },
  {
   "cell_type": "markdown",
   "metadata": {},
   "source": [
    "## Circling back to double voting\n",
    "\n",
    "Remember our original problem:\n",
    "\n",
    "> In the 2012 election, there were 141 individuals named \"John Smith\" who were born in 1970, and 27 pairs had exactly the same birthday.\n",
    "\n",
    "## 🚀 Exercise\n",
    "\n",
    "**Modify the simulation code to calculate the average number of birthday duplicates in 1,000 vectors of 141 individuals.**\n",
    "\n",
    "How does your answer compare to the 27 birthday pairs we found in the real data?"
   ]
  },
  {
   "cell_type": "code",
   "execution_count": 299,
   "metadata": {},
   "outputs": [
    {
     "data": {
      "text/plain": [
       "27.066"
      ]
     },
     "execution_count": 299,
     "metadata": {},
     "output_type": "execute_result"
    }
   ],
   "source": [
    "# Your code here!\n",
    "\n",
    "# START\n",
    "n = 1000\n",
    "\n",
    "n_pairs = 0\n",
    "\n",
    "for i in lrange(n):\n",
    "    \n",
    "    birthdays = choices(lrange(366), k=141)\n",
    "    \n",
    "    n_pairs = n_pairs + num_pairs(birthdays)\n",
    "\n",
    "# Spooky! It's actually really close to 27. By chance, we'd expect\n",
    "# to see 27 pairs on average. Keep in mind, though, we're not guaranteed to\n",
    "# see 27 pairs for every 141 birthdays. We just got lucky.\n",
    "\n",
    "n_pairs / n\n",
    "# END"
   ]
  },
  {
   "cell_type": "markdown",
   "metadata": {},
   "source": [
    "### 📝 Extension topic: List comphrensions\n",
    "\n",
    "Often, we'll want to apply the same function to every element in a list. Rather than use a `for` loop, it can be more efficient to use a **list comprehension**.\n",
    "\n",
    "Here's the syntax of a list comprehension:\n",
    "\n",
    "```\n",
    "[function(i) for i in my_list]\n",
    "\n",
    "```\n",
    "\n",
    "This has the same output as the following `for` loop:\n",
    "\n",
    "```\n",
    "# initialize list l of size len(my_list)\n",
    "l = [None] * len(my_list)\n",
    "\n",
    "# fill l sequentially\n",
    "for i in my_list: \n",
    "    l[i] = function(i)\n",
    "```"
   ]
  },
  {
   "cell_type": "markdown",
   "metadata": {},
   "source": [
    "Here's a concrete example:"
   ]
  },
  {
   "cell_type": "code",
   "execution_count": 300,
   "metadata": {},
   "outputs": [
    {
     "data": {
      "text/plain": [
       "[0, 1, 4, 9, 16, 25, 36, 49, 64, 81]"
      ]
     },
     "execution_count": 300,
     "metadata": {},
     "output_type": "execute_result"
    }
   ],
   "source": [
    "# in a for loop or list comprehension, you can use `range` directly\n",
    "[i ** 2 for i in range(10)]"
   ]
  },
  {
   "cell_type": "markdown",
   "metadata": {},
   "source": [
    "### ⏭️ Optional extension problem\n",
    "\n",
    "**Use a list comprehension to generate three lists of 10 random birthdays, all contained in an outer list.**"
   ]
  },
  {
   "cell_type": "code",
   "execution_count": 301,
   "metadata": {},
   "outputs": [
    {
     "data": {
      "text/plain": [
       "[[260, 261, 133, 307, 208, 358, 312, 189, 23, 170],\n",
       " [353, 99, 345, 257, 65, 98, 60, 249, 23, 205],\n",
       " [190, 287, 10, 320, 159, 167, 232, 318, 254, 360]]"
      ]
     },
     "execution_count": 301,
     "metadata": {},
     "output_type": "execute_result"
    }
   ],
   "source": [
    "# Your code here!\n",
    "\n",
    "# START\n",
    "[choices(lrange(366), k=10) for i in range(3)]\n",
    "\n",
    "# More generalizable solution:\n",
    "\n",
    "def generate_birthdays(n):\n",
    "    return choices(lrange(366), k=n)\n",
    "    \n",
    "[generate_birthdays(10) for i in range(3)]\n",
    "\n",
    "# END"
   ]
  },
  {
   "cell_type": "markdown",
   "metadata": {},
   "source": [
    "### ⏭️ Optional extension problem"
   ]
  },
  {
   "cell_type": "markdown",
   "metadata": {},
   "source": [
    "**Solve the birthday problem without for loops. You can only use list comprehensions.**"
   ]
  },
  {
   "cell_type": "code",
   "execution_count": 302,
   "metadata": {},
   "outputs": [
    {
     "data": {
      "text/plain": [
       "26.898"
      ]
     },
     "execution_count": 302,
     "metadata": {},
     "output_type": "execute_result"
    }
   ],
   "source": [
    "# Your code here!\n",
    "\n",
    "# START\n",
    "count_list = [num_pairs(generate_birthdays(141)) for i in range(1000)]\n",
    "sum(count_list)/len(count_list)\n",
    "\n",
    "# END"
   ]
  },
  {
   "cell_type": "code",
   "execution_count": 303,
   "metadata": {},
   "outputs": [
    {
     "ename": "SyntaxError",
     "evalue": "invalid syntax (1219188528.py, line 5)",
     "output_type": "error",
     "traceback": [
      "\u001b[0;36m  Input \u001b[0;32mIn [303]\u001b[0;36m\u001b[0m\n\u001b[0;31m    sim_counts = purrr::map_dbl(1:n_sims, ~ num_pairs(generate_n_birthdays(141)))\u001b[0m\n\u001b[0m                      ^\u001b[0m\n\u001b[0;31mSyntaxError\u001b[0m\u001b[0;31m:\u001b[0m invalid syntax\n"
     ]
    }
   ],
   "source": [
    "# Your code here!\n",
    "\n",
    "# START\n",
    "n_sims = 1000\n",
    "sim_counts = purrr::map_dbl(1:n_sims, ~ num_pairs(generate_n_birthdays(141)))\n",
    "print(mean(sim_counts))\n",
    "# END"
   ]
  }
 ],
 "metadata": {
  "kernelspec": {
   "display_name": "Python 3 (ipykernel)",
   "language": "python",
   "name": "python3"
  },
  "language_info": {
   "codemirror_mode": {
    "name": "ipython",
    "version": 3
   },
   "file_extension": ".py",
   "mimetype": "text/x-python",
   "name": "python",
   "nbconvert_exporter": "python",
   "pygments_lexer": "ipython3",
   "version": "3.9.12"
  }
 },
 "nbformat": 4,
 "nbformat_minor": 4
}
