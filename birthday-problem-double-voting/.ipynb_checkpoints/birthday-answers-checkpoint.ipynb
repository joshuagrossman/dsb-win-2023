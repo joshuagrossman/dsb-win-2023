{
 "cells": [
  {
   "cell_type": "markdown",
   "metadata": {},
   "source": [
    "# Double voting and the birthday problem"
   ]
  },
  {
   "cell_type": "markdown",
   "metadata": {},
   "source": [
    "<img src=\"img/voting.jpg\" alt=\"voting\" width=\"400\" align=\"left\"/>"
   ]
  },
  {
   "cell_type": "markdown",
   "metadata": {},
   "source": [
    "## Introduction"
   ]
  },
  {
   "cell_type": "markdown",
   "metadata": {},
   "source": [
    "Claims of voter fraud are widespread. Here's one example:"
   ]
  },
  {
   "cell_type": "markdown",
   "metadata": {},
   "source": [
    "> **“Probably over a million people voted twice \n",
    "in [the 2012 presidential] election.”**\n",
    ">\n",
    "> Dick Morris, in 2014 on Fox News"
   ]
  },
  {
   "cell_type": "markdown",
   "metadata": {},
   "source": [
    "Voter fraud can take place in a number of ways, including tampering with voting machines 📠, destroying ballots 🗳️, and impersonating voters 🤖. Today, though, we're going to explore \n",
    "**double voting**, which occurs when a single person illegally casts more than one vote in an election.\n",
    "\n",
    "To start, consider this fact:\n",
    "\n",
    "> In the 2012 election, there were 141 individuals named \"John Smith\" who were born in 1970, and 27 of those individuals had exactly the same birthday.\n",
    "\n",
    "Were there 27 fraudulent \"John Smith\" ballots in the 2012 election? Let's find out."
   ]
  },
  {
   "cell_type": "markdown",
   "metadata": {},
   "source": [
    "## The birthday problem"
   ]
  },
  {
   "cell_type": "markdown",
   "metadata": {},
   "source": [
    "<img src=\"img/birthday.jpg\" alt=\"voting\" width=\"200\" align=\"left\"/>"
   ]
  },
  {
   "cell_type": "markdown",
   "metadata": {},
   "source": [
    "🚀 Let's start by solving a similar problem: \n",
    "\n",
    "> In a room of 60 people, how likely is it that two people share exactly the same birthday? \n",
    ">\n",
    "> You can assume that every person in the room was born in the same year."
   ]
  },
  {
   "cell_type": "markdown",
   "metadata": {},
   "source": [
    "🖥️ To answer this question, we could use the following **algorithm**:\n",
    " > 1. We need a room of 60 people, and we need to know their birthdays.\n",
    " > 2. We need to check whether two people in that room share a birthday.\n",
    " > 3. We need to repeat steps 1 and 2 over and over.\n",
    " > 4. We need to figure out how often two or more people shared a birthday."
   ]
  },
  {
   "cell_type": "markdown",
   "metadata": {},
   "source": [
    "## 📝 The `sample` command"
   ]
  },
  {
   "cell_type": "markdown",
   "metadata": {},
   "source": [
    "Here's the first step of our algorithm:\n",
    "\n",
    "> We need a room of 60 people, and we need to know their birthdays.\n",
    "\n",
    "To do this in `R`, we could use the `sample` command, which works as follows:\n",
    "\n",
    "> `sample(numbers to choose from, how many numbers to choose, whether to \"put back\" numbers)`"
   ]
  },
  {
   "cell_type": "code",
   "execution_count": 1,
   "metadata": {},
   "outputs": [
    {
     "data": {
      "text/html": [
       "<ol class=list-inline>\n",
       "\t<li>4</li>\n",
       "\t<li>6</li>\n",
       "\t<li>9</li>\n",
       "\t<li>2</li>\n",
       "\t<li>8</li>\n",
       "</ol>\n"
      ],
      "text/latex": [
       "\\begin{enumerate*}\n",
       "\\item 4\n",
       "\\item 6\n",
       "\\item 9\n",
       "\\item 2\n",
       "\\item 8\n",
       "\\end{enumerate*}\n"
      ],
      "text/markdown": [
       "1. 4\n",
       "2. 6\n",
       "3. 9\n",
       "4. 2\n",
       "5. 8\n",
       "\n",
       "\n"
      ],
      "text/plain": [
       "[1] 4 6 9 2 8"
      ]
     },
     "metadata": {},
     "output_type": "display_data"
    }
   ],
   "source": [
    "# To run code in a cell, click on the cell, and then \n",
    "# you can either press SHIFT + ENTER, \n",
    "# or press the triangular play button at the top of this page.\n",
    "#\n",
    "# Note: the colon symbol a:b allows us to create lists of consecutive \n",
    "# integers from a to b.\n",
    "\n",
    "sample(1:10, 5, replace = FALSE)"
   ]
  },
  {
   "cell_type": "code",
   "execution_count": 2,
   "metadata": {},
   "outputs": [
    {
     "data": {
      "text/html": [
       "<ol class=list-inline>\n",
       "\t<li>2</li>\n",
       "\t<li>2</li>\n",
       "\t<li>1</li>\n",
       "\t<li>1</li>\n",
       "\t<li>2</li>\n",
       "</ol>\n"
      ],
      "text/latex": [
       "\\begin{enumerate*}\n",
       "\\item 2\n",
       "\\item 2\n",
       "\\item 1\n",
       "\\item 1\n",
       "\\item 2\n",
       "\\end{enumerate*}\n"
      ],
      "text/markdown": [
       "1. 2\n",
       "2. 2\n",
       "3. 1\n",
       "4. 1\n",
       "5. 2\n",
       "\n",
       "\n"
      ],
      "text/plain": [
       "[1] 2 2 1 1 2"
      ]
     },
     "metadata": {},
     "output_type": "display_data"
    }
   ],
   "source": [
    "sample(1:3, 5, replace = TRUE)"
   ]
  },
  {
   "cell_type": "code",
   "execution_count": 3,
   "metadata": {},
   "outputs": [
    {
     "data": {
      "text/html": [
       "<ol class=list-inline>\n",
       "\t<li>3</li>\n",
       "\t<li>14</li>\n",
       "\t<li>14</li>\n",
       "</ol>\n"
      ],
      "text/latex": [
       "\\begin{enumerate*}\n",
       "\\item 3\n",
       "\\item 14\n",
       "\\item 14\n",
       "\\end{enumerate*}\n"
      ],
      "text/markdown": [
       "1. 3\n",
       "2. 14\n",
       "3. 14\n",
       "\n",
       "\n"
      ],
      "text/plain": [
       "[1]  3 14 14"
      ]
     },
     "metadata": {},
     "output_type": "display_data"
    }
   ],
   "source": [
    "sample(1:20, 3, replace = TRUE)"
   ]
  },
  {
   "cell_type": "code",
   "execution_count": 5,
   "metadata": {},
   "outputs": [
    {
     "ename": "ERROR",
     "evalue": "Error in sample.int(length(x), size, replace, prob): cannot take a sample larger than the population when 'replace = FALSE'\n",
     "output_type": "error",
     "traceback": [
      "Error in sample.int(length(x), size, replace, prob): cannot take a sample larger than the population when 'replace = FALSE'\nTraceback:\n",
      "1. sample(1:5, 6, replace = FALSE)",
      "2. sample.int(length(x), size, replace, prob)"
     ]
    }
   ],
   "source": [
    "# Why does this fail?\n",
    "sample(1:5, 6, replace = FALSE)"
   ]
  },
  {
   "cell_type": "markdown",
   "metadata": {},
   "source": [
    "### 🚀 Exercise\n",
    "\n",
    "**Using `sample`, simulate a list of 60 birthdays.**"
   ]
  },
  {
   "cell_type": "code",
   "execution_count": 7,
   "metadata": {},
   "outputs": [
    {
     "data": {
      "text/html": [
       "<ol class=list-inline>\n",
       "\t<li>96</li>\n",
       "\t<li>312</li>\n",
       "\t<li>290</li>\n",
       "\t<li>339</li>\n",
       "\t<li>343</li>\n",
       "\t<li>100</li>\n",
       "\t<li>118</li>\n",
       "\t<li>348</li>\n",
       "\t<li>273</li>\n",
       "\t<li>358</li>\n",
       "\t<li>210</li>\n",
       "\t<li>7</li>\n",
       "\t<li>98</li>\n",
       "\t<li>365</li>\n",
       "\t<li>79</li>\n",
       "\t<li>353</li>\n",
       "\t<li>6</li>\n",
       "\t<li>4</li>\n",
       "\t<li>82</li>\n",
       "\t<li>260</li>\n",
       "\t<li>309</li>\n",
       "\t<li>346</li>\n",
       "\t<li>101</li>\n",
       "\t<li>159</li>\n",
       "\t<li>160</li>\n",
       "\t<li>307</li>\n",
       "\t<li>54</li>\n",
       "\t<li>128</li>\n",
       "\t<li>99</li>\n",
       "\t<li>195</li>\n",
       "\t<li>332</li>\n",
       "\t<li>323</li>\n",
       "\t<li>325</li>\n",
       "\t<li>71</li>\n",
       "\t<li>70</li>\n",
       "\t<li>273</li>\n",
       "\t<li>138</li>\n",
       "\t<li>158</li>\n",
       "\t<li>80</li>\n",
       "\t<li>327</li>\n",
       "\t<li>352</li>\n",
       "\t<li>73</li>\n",
       "\t<li>272</li>\n",
       "\t<li>165</li>\n",
       "\t<li>309</li>\n",
       "\t<li>357</li>\n",
       "\t<li>307</li>\n",
       "\t<li>107</li>\n",
       "\t<li>273</li>\n",
       "\t<li>166</li>\n",
       "\t<li>10</li>\n",
       "\t<li>300</li>\n",
       "\t<li>173</li>\n",
       "\t<li>355</li>\n",
       "\t<li>257</li>\n",
       "\t<li>345</li>\n",
       "\t<li>32</li>\n",
       "\t<li>206</li>\n",
       "\t<li>233</li>\n",
       "\t<li>173</li>\n",
       "</ol>\n"
      ],
      "text/latex": [
       "\\begin{enumerate*}\n",
       "\\item 96\n",
       "\\item 312\n",
       "\\item 290\n",
       "\\item 339\n",
       "\\item 343\n",
       "\\item 100\n",
       "\\item 118\n",
       "\\item 348\n",
       "\\item 273\n",
       "\\item 358\n",
       "\\item 210\n",
       "\\item 7\n",
       "\\item 98\n",
       "\\item 365\n",
       "\\item 79\n",
       "\\item 353\n",
       "\\item 6\n",
       "\\item 4\n",
       "\\item 82\n",
       "\\item 260\n",
       "\\item 309\n",
       "\\item 346\n",
       "\\item 101\n",
       "\\item 159\n",
       "\\item 160\n",
       "\\item 307\n",
       "\\item 54\n",
       "\\item 128\n",
       "\\item 99\n",
       "\\item 195\n",
       "\\item 332\n",
       "\\item 323\n",
       "\\item 325\n",
       "\\item 71\n",
       "\\item 70\n",
       "\\item 273\n",
       "\\item 138\n",
       "\\item 158\n",
       "\\item 80\n",
       "\\item 327\n",
       "\\item 352\n",
       "\\item 73\n",
       "\\item 272\n",
       "\\item 165\n",
       "\\item 309\n",
       "\\item 357\n",
       "\\item 307\n",
       "\\item 107\n",
       "\\item 273\n",
       "\\item 166\n",
       "\\item 10\n",
       "\\item 300\n",
       "\\item 173\n",
       "\\item 355\n",
       "\\item 257\n",
       "\\item 345\n",
       "\\item 32\n",
       "\\item 206\n",
       "\\item 233\n",
       "\\item 173\n",
       "\\end{enumerate*}\n"
      ],
      "text/markdown": [
       "1. 96\n",
       "2. 312\n",
       "3. 290\n",
       "4. 339\n",
       "5. 343\n",
       "6. 100\n",
       "7. 118\n",
       "8. 348\n",
       "9. 273\n",
       "10. 358\n",
       "11. 210\n",
       "12. 7\n",
       "13. 98\n",
       "14. 365\n",
       "15. 79\n",
       "16. 353\n",
       "17. 6\n",
       "18. 4\n",
       "19. 82\n",
       "20. 260\n",
       "21. 309\n",
       "22. 346\n",
       "23. 101\n",
       "24. 159\n",
       "25. 160\n",
       "26. 307\n",
       "27. 54\n",
       "28. 128\n",
       "29. 99\n",
       "30. 195\n",
       "31. 332\n",
       "32. 323\n",
       "33. 325\n",
       "34. 71\n",
       "35. 70\n",
       "36. 273\n",
       "37. 138\n",
       "38. 158\n",
       "39. 80\n",
       "40. 327\n",
       "41. 352\n",
       "42. 73\n",
       "43. 272\n",
       "44. 165\n",
       "45. 309\n",
       "46. 357\n",
       "47. 307\n",
       "48. 107\n",
       "49. 273\n",
       "50. 166\n",
       "51. 10\n",
       "52. 300\n",
       "53. 173\n",
       "54. 355\n",
       "55. 257\n",
       "56. 345\n",
       "57. 32\n",
       "58. 206\n",
       "59. 233\n",
       "60. 173\n",
       "\n",
       "\n"
      ],
      "text/plain": [
       " [1]  96 312 290 339 343 100 118 348 273 358 210   7  98 365  79 353   6   4  82\n",
       "[20] 260 309 346 101 159 160 307  54 128  99 195 332 323 325  71  70 273 138 158\n",
       "[39]  80 327 352  73 272 165 309 357 307 107 273 166  10 300 173 355 257 345  32\n",
       "[58] 206 233 173"
      ]
     },
     "metadata": {},
     "output_type": "display_data"
    }
   ],
   "source": [
    "# Your code goes here!\n",
    "\n",
    "# START\n",
    "sample(1:366, 60, replace = TRUE)\n",
    "# END"
   ]
  },
  {
   "cell_type": "markdown",
   "metadata": {},
   "source": [
    "### ⏭️ Optional Extension Problem\n",
    "\n",
    "To learn more about an `R` function, run `?<function_name>`. For example, run `?sample` to print the documentation for the `sample` command.\n",
    "\n",
    "`seq` is a more powerful way of generating sequences. Read the documentation for `seq` to learn how `seq` works. Then, use `seq` to generate a list of all even numbers between 100 and 110."
   ]
  },
  {
   "cell_type": "code",
   "execution_count": 34,
   "metadata": {},
   "outputs": [
    {
     "data": {
      "text/html": [
       "<ol class=list-inline>\n",
       "\t<li>100</li>\n",
       "\t<li>102</li>\n",
       "\t<li>104</li>\n",
       "\t<li>106</li>\n",
       "\t<li>108</li>\n",
       "</ol>\n"
      ],
      "text/latex": [
       "\\begin{enumerate*}\n",
       "\\item 100\n",
       "\\item 102\n",
       "\\item 104\n",
       "\\item 106\n",
       "\\item 108\n",
       "\\end{enumerate*}\n"
      ],
      "text/markdown": [
       "1. 100\n",
       "2. 102\n",
       "3. 104\n",
       "4. 106\n",
       "5. 108\n",
       "\n",
       "\n"
      ],
      "text/plain": [
       "[1] 100 102 104 106 108"
      ]
     },
     "metadata": {},
     "output_type": "display_data"
    }
   ],
   "source": [
    "# Your code here!\n",
    "\n",
    "# START\n",
    "seq(100, 109, by=2)\n",
    "# END"
   ]
  },
  {
   "cell_type": "markdown",
   "metadata": {},
   "source": [
    "## 🎶 Interlude: Math, variables, vectors, and functions"
   ]
  },
  {
   "cell_type": "markdown",
   "metadata": {},
   "source": [
    "### 📝 Using R as a calculator"
   ]
  },
  {
   "cell_type": "markdown",
   "metadata": {},
   "source": [
    "One simple (and useful) way to use R is as a calculator. For example:"
   ]
  },
  {
   "cell_type": "code",
   "execution_count": 6,
   "metadata": {},
   "outputs": [
    {
     "data": {
      "text/html": [
       "15"
      ],
      "text/latex": [
       "15"
      ],
      "text/markdown": [
       "15"
      ],
      "text/plain": [
       "[1] 15"
      ]
     },
     "metadata": {},
     "output_type": "display_data"
    }
   ],
   "source": [
    "5 + 10"
   ]
  },
  {
   "cell_type": "code",
   "execution_count": 27,
   "metadata": {},
   "outputs": [
    {
     "data": {
      "text/html": [
       "90"
      ],
      "text/latex": [
       "90"
      ],
      "text/markdown": [
       "90"
      ],
      "text/plain": [
       "[1] 90"
      ]
     },
     "metadata": {},
     "output_type": "display_data"
    }
   ],
   "source": [
    "30 * 3"
   ]
  },
  {
   "cell_type": "code",
   "execution_count": 29,
   "metadata": {},
   "outputs": [
    {
     "data": {
      "text/html": [
       "5"
      ],
      "text/latex": [
       "5"
      ],
      "text/markdown": [
       "5"
      ],
      "text/plain": [
       "[1] 5"
      ]
     },
     "metadata": {},
     "output_type": "display_data"
    }
   ],
   "source": [
    "25 / 5"
   ]
  },
  {
   "cell_type": "code",
   "execution_count": 30,
   "metadata": {},
   "outputs": [
    {
     "data": {
      "text/html": [
       "9"
      ],
      "text/latex": [
       "9"
      ],
      "text/markdown": [
       "9"
      ],
      "text/plain": [
       "[1] 9"
      ]
     },
     "metadata": {},
     "output_type": "display_data"
    }
   ],
   "source": [
    "3 ^ 2"
   ]
  },
  {
   "cell_type": "code",
   "execution_count": 1,
   "metadata": {},
   "outputs": [
    {
     "data": {
      "text/html": [
       "25"
      ],
      "text/latex": [
       "25"
      ],
      "text/markdown": [
       "25"
      ],
      "text/plain": [
       "[1] 25"
      ]
     },
     "metadata": {},
     "output_type": "display_data"
    }
   ],
   "source": [
    "(2 + 3) * 5"
   ]
  },
  {
   "cell_type": "markdown",
   "metadata": {},
   "source": [
    "#### 🚀 Exercise\n",
    "\n",
    "Use R to find the average of 42, 100, and 280."
   ]
  },
  {
   "cell_type": "code",
   "execution_count": 7,
   "metadata": {},
   "outputs": [
    {
     "data": {
      "text/html": [
       "140.666666666667"
      ],
      "text/latex": [
       "140.666666666667"
      ],
      "text/markdown": [
       "140.666666666667"
      ],
      "text/plain": [
       "[1] 140.6667"
      ]
     },
     "metadata": {},
     "output_type": "display_data"
    }
   ],
   "source": [
    "# Your code here!\n",
    "\n",
    "# START\n",
    "(42+100+280)/3\n",
    "# END"
   ]
  },
  {
   "cell_type": "markdown",
   "metadata": {},
   "source": [
    "### 📝  Variables\n",
    "\n",
    "**Variables** are like boxes 📦: they store things for us, and we can label them so we know what's inside.\n",
    "\n",
    "Consider the following example:\n",
    "\n",
    "> If x = 2, what is x + 5?\n",
    "\n",
    "You guessed it: the answer is 7. Let's express the same problem using `R`:"
   ]
  },
  {
   "cell_type": "code",
   "execution_count": 31,
   "metadata": {},
   "outputs": [
    {
     "data": {
      "text/html": [
       "7"
      ],
      "text/latex": [
       "7"
      ],
      "text/markdown": [
       "7"
      ],
      "text/plain": [
       "[1] 7"
      ]
     },
     "metadata": {},
     "output_type": "display_data"
    }
   ],
   "source": [
    "# If x = 2, ...\n",
    "x <- 2\n",
    "\n",
    "# ... what is x + 5?\n",
    "x + 5"
   ]
  },
  {
   "cell_type": "markdown",
   "metadata": {},
   "source": [
    "#### 1️⃣ First step\n",
    "\n",
    "In the first line of our code, we assigned the value `2` to the variable named `x` using `<-`."
   ]
  },
  {
   "cell_type": "markdown",
   "metadata": {},
   "source": [
    "The assignment operator (`<-`) tells R \"Take the variable on the *_left_* of the equal sign, and give it the value of the thing on the *_right_*.\"\n",
    "\n",
    "> 🔎 The equal sign ( `=` ) also works for assignment, but it is an `R` convention to use `<-`.\n",
    "\n",
    "If you ever run a cell containing just a variable, R will print the value of that variable:"
   ]
  },
  {
   "cell_type": "code",
   "execution_count": 32,
   "metadata": {},
   "outputs": [
    {
     "data": {
      "text/html": [
       "2"
      ],
      "text/latex": [
       "2"
      ],
      "text/markdown": [
       "2"
      ],
      "text/plain": [
       "[1] 2"
      ]
     },
     "metadata": {},
     "output_type": "display_data"
    }
   ],
   "source": [
    "x"
   ]
  },
  {
   "cell_type": "markdown",
   "metadata": {},
   "source": [
    "You can also force R to print the value of the variable with `print`:"
   ]
  },
  {
   "cell_type": "code",
   "execution_count": null,
   "metadata": {},
   "outputs": [],
   "source": [
    "print(x)"
   ]
  },
  {
   "cell_type": "markdown",
   "metadata": {},
   "source": [
    "❓ Why is there a `[1]` next to the output? Don't worry for now, we'll learn soon!"
   ]
  },
  {
   "cell_type": "markdown",
   "metadata": {},
   "source": [
    "#### 2️⃣ Second step\n",
    "\n",
    "In the second line of our code, we added `5` to our variable `x`, which we initialized with the value `2`.\n",
    "\n",
    "R will also print the value of simple expressions:"
   ]
  },
  {
   "cell_type": "code",
   "execution_count": 57,
   "metadata": {},
   "outputs": [
    {
     "data": {
      "text/html": [
       "7"
      ],
      "text/latex": [
       "7"
      ],
      "text/markdown": [
       "7"
      ],
      "text/plain": [
       "[1] 7"
      ]
     },
     "metadata": {},
     "output_type": "display_data"
    }
   ],
   "source": [
    "x + 5"
   ]
  },
  {
   "cell_type": "markdown",
   "metadata": {},
   "source": [
    "❗❗**Important note**❗❗: After running the cell above, the value of x is still 2, not 7. \n",
    "\n",
    "Unless we use `<-` or `=` to assign a new value to `x`, it will always be 2:"
   ]
  },
  {
   "cell_type": "code",
   "execution_count": 59,
   "metadata": {},
   "outputs": [
    {
     "data": {
      "text/html": [
       "2"
      ],
      "text/latex": [
       "2"
      ],
      "text/markdown": [
       "2"
      ],
      "text/plain": [
       "[1] 2"
      ]
     },
     "metadata": {},
     "output_type": "display_data"
    }
   ],
   "source": [
    "x"
   ]
  },
  {
   "cell_type": "markdown",
   "metadata": {},
   "source": [
    "To update the value of a variable, we can use `<-`.\n",
    "\n",
    "For example, here's how you could increase the value of `x` by `10`:"
   ]
  },
  {
   "cell_type": "code",
   "execution_count": 57,
   "metadata": {},
   "outputs": [
    {
     "data": {
      "text/html": [
       "12"
      ],
      "text/latex": [
       "12"
      ],
      "text/markdown": [
       "12"
      ],
      "text/plain": [
       "[1] 12"
      ]
     },
     "metadata": {},
     "output_type": "display_data"
    }
   ],
   "source": [
    "x <- x + 10\n",
    "x"
   ]
  },
  {
   "cell_type": "markdown",
   "metadata": {},
   "source": [
    "`R` first solves `x + 10` to get `12`, then it overwrites `x` with `12`."
   ]
  },
  {
   "cell_type": "markdown",
   "metadata": {},
   "source": [
    "### 📝 Vectors\n",
    "\n",
    "A **vector** is a sequence of things.\n",
    "\n",
    "For example, we can have a vector of consecutive integers:"
   ]
  },
  {
   "cell_type": "code",
   "execution_count": 64,
   "metadata": {},
   "outputs": [
    {
     "data": {
      "text/html": [
       "<ol class=list-inline>\n",
       "\t<li>5</li>\n",
       "\t<li>6</li>\n",
       "\t<li>7</li>\n",
       "\t<li>8</li>\n",
       "\t<li>9</li>\n",
       "\t<li>10</li>\n",
       "</ol>\n"
      ],
      "text/latex": [
       "\\begin{enumerate*}\n",
       "\\item 5\n",
       "\\item 6\n",
       "\\item 7\n",
       "\\item 8\n",
       "\\item 9\n",
       "\\item 10\n",
       "\\end{enumerate*}\n"
      ],
      "text/markdown": [
       "1. 5\n",
       "2. 6\n",
       "3. 7\n",
       "4. 8\n",
       "5. 9\n",
       "6. 10\n",
       "\n",
       "\n"
      ],
      "text/plain": [
       "[1]  5  6  7  8  9 10"
      ]
     },
     "metadata": {},
     "output_type": "display_data"
    }
   ],
   "source": [
    "5:10"
   ]
  },
  {
   "cell_type": "markdown",
   "metadata": {},
   "source": [
    "We can also use `c()` to create vectors.\n",
    "\n",
    "> 🔎 The \"c\" in `c()` stands for **concatenate**.\n"
   ]
  },
  {
   "cell_type": "code",
   "execution_count": 66,
   "metadata": {},
   "outputs": [
    {
     "data": {
      "text/html": [
       "<ol class=list-inline>\n",
       "\t<li>10</li>\n",
       "\t<li>100</li>\n",
       "\t<li>1000</li>\n",
       "</ol>\n"
      ],
      "text/latex": [
       "\\begin{enumerate*}\n",
       "\\item 10\n",
       "\\item 100\n",
       "\\item 1000\n",
       "\\end{enumerate*}\n"
      ],
      "text/markdown": [
       "1. 10\n",
       "2. 100\n",
       "3. 1000\n",
       "\n",
       "\n"
      ],
      "text/plain": [
       "[1]   10  100 1000"
      ]
     },
     "metadata": {},
     "output_type": "display_data"
    }
   ],
   "source": [
    "c(10, 100, 1000)"
   ]
  },
  {
   "cell_type": "markdown",
   "metadata": {},
   "source": [
    "We can assign vectors to variables too:"
   ]
  },
  {
   "cell_type": "code",
   "execution_count": 14,
   "metadata": {},
   "outputs": [
    {
     "data": {
      "text/html": [
       "<ol class=list-inline>\n",
       "\t<li>10</li>\n",
       "\t<li>100</li>\n",
       "\t<li>1000</li>\n",
       "</ol>\n"
      ],
      "text/latex": [
       "\\begin{enumerate*}\n",
       "\\item 10\n",
       "\\item 100\n",
       "\\item 1000\n",
       "\\end{enumerate*}\n"
      ],
      "text/markdown": [
       "1. 10\n",
       "2. 100\n",
       "3. 1000\n",
       "\n",
       "\n"
      ],
      "text/plain": [
       "[1]   10  100 1000"
      ]
     },
     "metadata": {},
     "output_type": "display_data"
    }
   ],
   "source": [
    "my_vector <- c(10, 100, 1000)\n",
    "my_vector"
   ]
  },
  {
   "cell_type": "markdown",
   "metadata": {},
   "source": [
    "We can extract **elements** from vectors using their **index**, or their place in line.\n",
    "\n",
    "> 🔎 Unlike most other programming languages, `R` is 1-indexed, not 0-indexed. So, the first element in a vector `v` is `v[1]`, not `v[0]`."
   ]
  },
  {
   "cell_type": "code",
   "execution_count": 4,
   "metadata": {},
   "outputs": [
    {
     "data": {
      "text/html": [
       "100"
      ],
      "text/latex": [
       "100"
      ],
      "text/markdown": [
       "100"
      ],
      "text/plain": [
       "[1] 100"
      ]
     },
     "metadata": {},
     "output_type": "display_data"
    }
   ],
   "source": [
    "my_vector[2]"
   ]
  },
  {
   "cell_type": "markdown",
   "metadata": {},
   "source": [
    "#### 🔎 Printing vectors \n",
    "\n",
    "If you explicitly `print` a vector, the output looks a little different:"
   ]
  },
  {
   "cell_type": "code",
   "execution_count": null,
   "metadata": {},
   "outputs": [],
   "source": [
    "print(my_vector)"
   ]
  },
  {
   "cell_type": "markdown",
   "metadata": {},
   "source": [
    "Why is there a `[1]` on the left of the printed results? \n",
    "\n",
    "Printing a longer vector gives us a hint:"
   ]
  },
  {
   "cell_type": "code",
   "execution_count": null,
   "metadata": {},
   "outputs": [],
   "source": [
    "print(25:75)"
   ]
  },
  {
   "cell_type": "markdown",
   "metadata": {},
   "source": [
    "The bracketed numbers on the left side of the printed results indicate the index of the element immediately to the right.\n",
    "\n",
    "For example `[26]` indicates that `50` is the 20th element in the vector."
   ]
  },
  {
   "cell_type": "markdown",
   "metadata": {},
   "source": [
    "#### 🚀 Exercise\n",
    "\n",
    "**A. Create a vector of numbers from 15 to 140, and assign the vector to a variable called `my_vector`.**"
   ]
  },
  {
   "cell_type": "code",
   "execution_count": 10,
   "metadata": {},
   "outputs": [],
   "source": [
    "# Your code here!\n",
    "\n",
    "# START\n",
    "my_vector <- 15:140\n",
    "# END"
   ]
  },
  {
   "cell_type": "markdown",
   "metadata": {},
   "source": [
    "**B. Find the difference between the 30th and 100th values of `my_vector`.**"
   ]
  },
  {
   "cell_type": "code",
   "execution_count": 9,
   "metadata": {},
   "outputs": [
    {
     "data": {
      "text/html": [
       "70"
      ],
      "text/latex": [
       "70"
      ],
      "text/markdown": [
       "70"
      ],
      "text/plain": [
       "[1] 70"
      ]
     },
     "metadata": {},
     "output_type": "display_data"
    }
   ],
   "source": [
    "# Your code here!\n",
    "\n",
    "# START\n",
    "my_vector[100] - my_vector[30]\n",
    "# END"
   ]
  },
  {
   "cell_type": "markdown",
   "metadata": {},
   "source": [
    "### ⏭️ Optional extension problem\n",
    "\n",
    "Find the 57th even number between 1347 and 2124. "
   ]
  },
  {
   "cell_type": "code",
   "execution_count": 56,
   "metadata": {},
   "outputs": [
    {
     "data": {
      "text/html": [
       "1460"
      ],
      "text/latex": [
       "1460"
      ],
      "text/markdown": [
       "1460"
      ],
      "text/plain": [
       "[1] 1460"
      ]
     },
     "metadata": {},
     "output_type": "display_data"
    }
   ],
   "source": [
    "# Your code here!\n",
    "\n",
    "# START\n",
    "seq(1348, 2124, by=2)[57]\n",
    "# END"
   ]
  },
  {
   "cell_type": "markdown",
   "metadata": {},
   "source": [
    "### 📝 Functions\n",
    "\n",
    "If you've taken algebra, you've already seen functions! For example, this function f takes the square root of its input:\n",
    "\n",
    "> $f(x) = \\sqrt{x}$\n",
    ">\n",
    "> $f(25) = \\sqrt{25} = 5$"
   ]
  },
  {
   "cell_type": "markdown",
   "metadata": {},
   "source": [
    "<img src=\"img/function-machine.svg\" width=200 align=\"left\"/>"
   ]
  },
  {
   "cell_type": "markdown",
   "metadata": {},
   "source": [
    "R also has a square root function called `sqrt`. \n",
    "\n",
    "To use a function in R, we write the name of the function, and then put its input in parentheses. \n",
    "\n",
    "> 🔎 The output of a function is called its **return value**. "
   ]
  },
  {
   "cell_type": "code",
   "execution_count": 70,
   "metadata": {},
   "outputs": [
    {
     "data": {
      "text/html": [
       "5"
      ],
      "text/latex": [
       "5"
      ],
      "text/markdown": [
       "5"
      ],
      "text/plain": [
       "[1] 5"
      ]
     },
     "metadata": {},
     "output_type": "display_data"
    }
   ],
   "source": [
    "sqrt(25)"
   ]
  },
  {
   "cell_type": "markdown",
   "metadata": {},
   "source": [
    "You may have noticed that we used this function notation quite a lot already. Here are some of the functions you have already used:\n",
    "- `sample`: makes random draws from a vector\n",
    "- `print`: prints its input "
   ]
  },
  {
   "cell_type": "markdown",
   "metadata": {},
   "source": [
    "There are *many* other functions in R, and you can even write your own functions! Here are some examples of functions that you can use:\n",
    "- `sum`: Adds up all of the numbers in a vector\n",
    "- `mean`: Finds the average of the numbers in a vector\n",
    "- `length`: Finds the total number of elements in a vector.\n",
    "- `max`: Finds the maximum value in a vector\n",
    "- `min`: Finds the minimum value in a vector"
   ]
  },
  {
   "cell_type": "markdown",
   "metadata": {},
   "source": [
    "### 🚀 Exercise\n",
    "\n",
    "**A. Find the sum of all the numbers from 1 to 100 using `sum`.**"
   ]
  },
  {
   "cell_type": "code",
   "execution_count": 71,
   "metadata": {},
   "outputs": [
    {
     "data": {
      "text/html": [
       "5050"
      ],
      "text/latex": [
       "5050"
      ],
      "text/markdown": [
       "5050"
      ],
      "text/plain": [
       "[1] 5050"
      ]
     },
     "metadata": {},
     "output_type": "display_data"
    }
   ],
   "source": [
    "# Your code here!\n",
    "\n",
    "# START\n",
    "sum(1:100)\n",
    "# END"
   ]
  },
  {
   "cell_type": "markdown",
   "metadata": {},
   "source": [
    "**B. Find the average of all the numbers from 1 to 100 using `mean`.**"
   ]
  },
  {
   "cell_type": "code",
   "execution_count": 72,
   "metadata": {},
   "outputs": [
    {
     "data": {
      "text/html": [
       "50.5"
      ],
      "text/latex": [
       "50.5"
      ],
      "text/markdown": [
       "50.5"
      ],
      "text/plain": [
       "[1] 50.5"
      ]
     },
     "metadata": {},
     "output_type": "display_data"
    }
   ],
   "source": [
    "# Your code here!\n",
    "\n",
    "# START\n",
    "mean(1:100)\n",
    "# END"
   ]
  },
  {
   "cell_type": "markdown",
   "metadata": {},
   "source": [
    "### 📝 Multi-argument functions\n",
    "\n",
    "Functions like `print` only need one input, or **argument**. However, functions can have more than one argument. For example, this function `f` adds its two arguments, x and y:\n",
    "\n",
    "> f(x, y) = x + y\n",
    ">\n",
    "> f(2, 3) = 2 + 3 = 5\n",
    "\n",
    "You've also already used a multi-argument function in R: `sample`\n",
    "\n",
    "`sample` takes three arguments:\n",
    "\n",
    "1. A vector of numbers to sample from\n",
    "2. How many numbers to sample\n",
    "3. Whether or not we can reuse numbers after sampling them."
   ]
  },
  {
   "cell_type": "code",
   "execution_count": 73,
   "metadata": {
    "tags": []
   },
   "outputs": [
    {
     "data": {
      "text/html": [
       "<ol class=list-inline>\n",
       "\t<li>3</li>\n",
       "\t<li>1</li>\n",
       "\t<li>2</li>\n",
       "\t<li>3</li>\n",
       "\t<li>5</li>\n",
       "</ol>\n"
      ],
      "text/latex": [
       "\\begin{enumerate*}\n",
       "\\item 3\n",
       "\\item 1\n",
       "\\item 2\n",
       "\\item 3\n",
       "\\item 5\n",
       "\\end{enumerate*}\n"
      ],
      "text/markdown": [
       "1. 3\n",
       "2. 1\n",
       "3. 2\n",
       "4. 3\n",
       "5. 5\n",
       "\n",
       "\n"
      ],
      "text/plain": [
       "[1] 3 1 2 3 5"
      ]
     },
     "metadata": {},
     "output_type": "display_data"
    }
   ],
   "source": [
    "sample(1:10, 5, replace = TRUE)"
   ]
  },
  {
   "cell_type": "markdown",
   "metadata": {},
   "source": [
    "## 📝 Back to the birthday problem: Finding duplicates"
   ]
  },
  {
   "cell_type": "markdown",
   "metadata": {},
   "source": [
    "The code below defines a new function, `has_duplicate`.\n",
    "\n",
    "> `has_duplicate` returns `TRUE` if a vector contains any duplicate values, and FALSE otherwise.\n"
   ]
  },
  {
   "cell_type": "code",
   "execution_count": 13,
   "metadata": {},
   "outputs": [],
   "source": [
    "has_duplicate <- function(v) {\n",
    "    any(duplicated(v))\n",
    "}"
   ]
  },
  {
   "cell_type": "markdown",
   "metadata": {},
   "source": [
    "Make sure to run the cell above, and then explore `has_duplicate` in the cells below."
   ]
  },
  {
   "cell_type": "code",
   "execution_count": 16,
   "metadata": {},
   "outputs": [],
   "source": [
    "vector_a <- sample(1:3, 5, replace = TRUE)\n",
    "vector_a"
   ]
  },
  {
   "cell_type": "code",
   "execution_count": 18,
   "metadata": {},
   "outputs": [
    {
     "data": {
      "text/html": [
       "TRUE"
      ],
      "text/latex": [
       "TRUE"
      ],
      "text/markdown": [
       "TRUE"
      ],
      "text/plain": [
       "[1] TRUE"
      ]
     },
     "metadata": {},
     "output_type": "display_data"
    }
   ],
   "source": [
    "has_duplicate(vector_a)"
   ]
  },
  {
   "cell_type": "code",
   "execution_count": 7,
   "metadata": {},
   "outputs": [],
   "source": [
    "vector_b <- sample(1:10, 5, replace = FALSE)\n",
    "vector_b"
   ]
  },
  {
   "cell_type": "code",
   "execution_count": 9,
   "metadata": {},
   "outputs": [
    {
     "data": {
      "text/html": [
       "FALSE"
      ],
      "text/latex": [
       "FALSE"
      ],
      "text/markdown": [
       "FALSE"
      ],
      "text/plain": [
       "[1] FALSE"
      ]
     },
     "metadata": {},
     "output_type": "display_data"
    }
   ],
   "source": [
    "has_duplicate(vector_b)"
   ]
  },
  {
   "cell_type": "markdown",
   "metadata": {},
   "source": [
    "### 🚀 Exercise\n",
    "\n",
    "**Generate a vector of 60 random birthdays, and determine whether the vector has any duplicates.**"
   ]
  },
  {
   "cell_type": "code",
   "execution_count": null,
   "metadata": {},
   "outputs": [],
   "source": [
    "# Your code here!\n",
    "\n",
    "# START\n",
    "has_duplicate(sample(1:366, 60, replace = TRUE))\n",
    "# END"
   ]
  },
  {
   "cell_type": "markdown",
   "metadata": {
    "tags": []
   },
   "source": [
    "### 📝 Counting pairs\n",
    "\n",
    "The code below defines another function, `num_pairs`.\n",
    "\n",
    "`num_pairs` returns the number of pairs that can formed with duplicated values.\n",
    "\n",
    "> In a prior math class, you may have learned that that you can form $\\binom{n}{2}$ pairs from $n$ values.\n",
    ">\n",
    "> $\\binom{n}{2} = \\frac{n!}{2!(n - 2)!}$\n",
    "\n",
    "For example, the vector `c(1, 2, 3, 3)` has two 3s, so `num_pairs` should return $\\binom{2}{2} = 1$. In other words, we can only make one pair of identical numbers.\n",
    "\n",
    "The vector `c(1, 2, 3, 3, 3, 3)` has four 3s, so `num_pairs` should return $\\binom{4}{2} = 6$.\n",
    "\n",
    "The vector `c(1, 2, 3, 4, 5, 5, 5, 6, 6)` has three 5s and two 6s, so `num_pairs` should return $\\binom{3}{2} + \\binom{2}{2} = 4$."
   ]
  },
  {
   "cell_type": "code",
   "execution_count": null,
   "metadata": {},
   "outputs": [],
   "source": [
    "# don't worry at all about studying/understanding this specific function!\n",
    "num_pairs <- function(v) {\n",
    "    duplicated_indices <- duplicated(v)\n",
    "    duplicated_values <- v[duplicated_indices]\n",
    "    duplicated_counts <- table(duplicated_values) + 1\n",
    "    sum(choose(duplicated_counts, 2))\n",
    "}"
   ]
  },
  {
   "cell_type": "code",
   "execution_count": null,
   "metadata": {},
   "outputs": [],
   "source": [
    "num_pairs(c(1, 2, 3, 3))"
   ]
  },
  {
   "cell_type": "code",
   "execution_count": null,
   "metadata": {},
   "outputs": [],
   "source": [
    "num_pairs(c(1, 2, 3, 3, 3, 3))"
   ]
  },
  {
   "cell_type": "code",
   "execution_count": null,
   "metadata": {},
   "outputs": [],
   "source": [
    "num_pairs(c(1, 2, 3, 4, 5, 5, 5, 6, 6))"
   ]
  },
  {
   "cell_type": "markdown",
   "metadata": {},
   "source": [
    "### 🚀 Exercise\n",
    "\n",
    "**Think back to the John Smith example:**\n",
    "\n",
    "> In the 2012 election, there were 141 individuals named \"John Smith\" who were born in 1970. From those 141 individuals, we can make 27 pairs with exactly the same birthday.\n",
    "\n",
    "**Generate a vector of 141 random birthdays, and determine how many duplicate pairs can be formed from elements in the vector.** Run your code repeatedly to see how the results can change due to randomness."
   ]
  },
  {
   "cell_type": "code",
   "execution_count": 43,
   "metadata": {},
   "outputs": [
    {
     "data": {
      "text/html": [
       "28"
      ],
      "text/latex": [
       "28"
      ],
      "text/markdown": [
       "28"
      ],
      "text/plain": [
       "[1] 28"
      ]
     },
     "metadata": {},
     "output_type": "display_data"
    }
   ],
   "source": [
    "# Your code here!\n",
    "\n",
    "# START\n",
    "num_pairs(sample(1:366, 141, replace = TRUE))\n",
    "# END"
   ]
  },
  {
   "cell_type": "markdown",
   "metadata": {},
   "source": [
    "### ⏭️ Optional extension Problem\n",
    "\n",
    "Generate a vector of 141 birthdays occurring over 10 years (so far, we've ignored the year). Calculate the number of pairs that can be formed."
   ]
  },
  {
   "cell_type": "code",
   "execution_count": 60,
   "metadata": {},
   "outputs": [
    {
     "data": {
      "text/html": [
       "3"
      ],
      "text/latex": [
       "3"
      ],
      "text/markdown": [
       "3"
      ],
      "text/plain": [
       "[1] 3"
      ]
     },
     "metadata": {},
     "output_type": "display_data"
    }
   ],
   "source": [
    "# Your code here!\n",
    "\n",
    "# START\n",
    "num_duplicates(sample(1:(365*10), 141, replace = TRUE))\n",
    "# END"
   ]
  },
  {
   "cell_type": "markdown",
   "metadata": {},
   "source": [
    "### 📝  Repetition with `for` loops\n",
    "\n",
    "Recall the third step in our algorithm:\n",
    "\n",
    "> We need to repeat this process over and over.\n",
    "\n",
    "The `for` loop lets us do exactly this. Here's the syntax for a `for` loop:\n",
    "\n",
    "```\n",
    "for (element in vector) { \n",
    "    perform an action\n",
    "}\n",
    "```\n",
    "\n",
    "Run the following cell to see a `for` loop in action:"
   ]
  },
  {
   "cell_type": "code",
   "execution_count": 61,
   "metadata": {},
   "outputs": [
    {
     "name": "stdout",
     "output_type": "stream",
     "text": [
      "[1] \"Hello, world!\"\n",
      "[1] \"Hello, world!\"\n",
      "[1] \"Hello, world!\"\n",
      "[1] \"Hello, world!\"\n",
      "[1] \"Hello, world!\"\n",
      "[1] \"Hello, world!\"\n",
      "[1] \"Hello, world!\"\n",
      "[1] \"Hello, world!\"\n",
      "[1] \"Hello, world!\"\n",
      "[1] \"Hello, world!\"\n"
     ]
    }
   ],
   "source": [
    "for (i in 1:10) {\n",
    "    print(\"Hello, world!\")\n",
    "}"
   ]
  },
  {
   "cell_type": "markdown",
   "metadata": {},
   "source": [
    "Here's what's going on:\n",
    "\n",
    "1. `R` iterates through each number in the vector `1:10`.\n",
    "2. The first number is `1`. Create a variable `i` with the value 1.\n",
    "> `i <- 1`\n",
    "3. Do what's in the brackets. So, print `Hello, world!`.\n",
    "> `print(\"Hello, world!\")`\n",
    "4. Repeat steps 2 and 3 for the rest of the vector.\n",
    "> `i <- 2`; `print(\"Hello, world!\")`; `i <- 3`; `...` ; `i <- 10`; `print(\"Hello, world!\")`\n",
    "\n",
    "We can do more than just print:"
   ]
  },
  {
   "cell_type": "code",
   "execution_count": 62,
   "metadata": {},
   "outputs": [
    {
     "name": "stdout",
     "output_type": "stream",
     "text": [
      "[1] 10  9 10  9 11\n",
      "[1]  3  8 20  3  6\n",
      "[1]  7 12  8  9 20\n"
     ]
    }
   ],
   "source": [
    "for (i in 1:3) {\n",
    "    print(sample(1:20, 5, replace = TRUE))\n",
    "}"
   ]
  },
  {
   "cell_type": "markdown",
   "metadata": {},
   "source": [
    "We can also use the `i` variable inside of our `for` loop:"
   ]
  },
  {
   "cell_type": "code",
   "execution_count": 63,
   "metadata": {},
   "outputs": [
    {
     "name": "stdout",
     "output_type": "stream",
     "text": [
      "[1] 1\n",
      "[1] 2\n",
      "[1] 3\n",
      "[1] 4\n",
      "[1] 5\n"
     ]
    }
   ],
   "source": [
    "for (i in 10:15) {\n",
    "    print(i)\n",
    "}"
   ]
  },
  {
   "cell_type": "markdown",
   "metadata": {},
   "source": [
    "🔎 `for` loops are typically not the most efficient way to solve problems in `R`, but they are a handy tool for learning about iteration.\n",
    "\n",
    "> Instead, it is best to use a vectorized function, such as `replicate` or `map`. We will see an example later on."
   ]
  },
  {
   "cell_type": "markdown",
   "metadata": {},
   "source": [
    "## 🚀 Exercise\n",
    "\n",
    "**Using a `for` loop, print 5 vectors with each containing 60 random birthdays.**"
   ]
  },
  {
   "cell_type": "code",
   "execution_count": 24,
   "metadata": {},
   "outputs": [
    {
     "name": "stdout",
     "output_type": "stream",
     "text": [
      " [1]  48 103  47 216 330 280 101  52 190 187 111 238  96 275 247 296 166 226 234\n",
      "[20]  67 139 154 346 329   3  79 327  58  12  18  31 364 199 199 129 277 360 128\n",
      "[39]  53 212 133  16 329 176  69 347 193 221 186 263  15  82  92 323 303 333 201\n",
      "[58] 128 111 250\n",
      " [1] 170  14 162  14 355  43 304  65 123 262  33 128 116  12   5 139 346 320 175\n",
      "[20] 324 241  56 342 207 323 124  37 270  25 310  59 130 365  77 364  24 323 227\n",
      "[39]  79  62  14 222 111 285 218  62 173  20 207 252  38  87 186 152  15 218 353\n",
      "[58] 234 343  61\n",
      " [1]  97 281 236 351 303 130   7 275 235 207 208  89 361 303 145 314  58  38  15\n",
      "[20] 205   2  67 221 172 242  92 340 180 160  86 146 306  20   8 151 115 206  67\n",
      "[39] 143 347  48 227 130 354  83  59 201 326 268 205 311 265  57 140 244 322 320\n",
      "[58]  67 199 259\n",
      " [1] 275  78  24 156 257 178 270 262  27 297  16  35 216 154  67 283  87  25 130\n",
      "[20]  54 116 312  27 123 178 139  60 319 291 292 248 261 226 365  34  77 344  85\n",
      "[39] 130 118 342 180 210 278 309  26 173 156  28 253 333 239 331 245  27   9  75\n",
      "[58] 241 142 103\n",
      " [1] 291 207 197 219  94  89  63 288  23 127 145  58 274 220 279 338 249 308 223\n",
      "[20] 205 128 315 184 120 225 334 192 241 167  19  62  95 283 214 218 227 149 156\n",
      "[39]  60 149 243 115  66 153  18 318 363 114 179  61  19 206 325 284  29 306  22\n",
      "[58] 183 359 193\n",
      " [1] 261 289 237 156 263  25 211 221 286 316 339 163 249  25  40 325 293 196  33\n",
      "[20] 292  62 135  87 281 335 207  65 257 209 160  10  37 186 353  71  13 307  99\n",
      "[39] 363 127  33 247  22 120 145 237 358 137  63 150 208 152 131 229 231 122  90\n",
      "[58] 184 232 264\n",
      " [1] 216 102  63 186  93 274  71 228  17  18  54 100 204  98 121 292 127 195 205\n",
      "[20] 272 281 185 309 288  80 257 128 309  39 128  77 168 241  50 318 184  85 293\n",
      "[39] 173 208   9 239 155 158 258 151  77 103 302 112 301 227 184 303 113 343 218\n",
      "[58]  38 307   5\n",
      " [1]  50  26   8 334 295 297 291  19 150 242 341  80 189 107  70 109 103 282 323\n",
      "[20]  42 239 242 122 343 232 173 150 151 269  69 299 348 330 105  92 124 201  27\n",
      "[39] 167 244 174 150 158 120 363  83 341 320 174 247 138 230  35 195 349  23 229\n",
      "[58] 199 322  85\n",
      " [1]   6  51 285 199  97   9 353  85  11 358 267  36 138  95  41 159 251  98 160\n",
      "[20] 181 334 222 128  71  83 335 361 349 341 151 285 201 334 209  91 145 284 296\n",
      "[39]  88 310  73  50 124 358 213  63 105 275  28 259 170 128 353 308 345 327 304\n",
      "[58] 312 213 357\n",
      " [1]  29 113 137 200  15 322  82  40 104  78 190 355 284   1 227 130 164  12 257\n",
      "[20] 298 252 146 119 306  82 205 340 208 337 211  82 249 285 146 174 156 273   7\n",
      "[39] 250  99 285  20 209   6 181  93 339 126  31 246  22 296  26 339  85 312 304\n",
      "[58]  65 311 307\n"
     ]
    }
   ],
   "source": [
    "# Your code here!\n",
    "\n",
    "# START\n",
    "for (i in 1:5) {\n",
    "    print(sample(1:366, 60, replace = TRUE))\n",
    "}\n",
    "# END"
   ]
  },
  {
   "cell_type": "markdown",
   "metadata": {},
   "source": [
    "## 🚀 Exercise\n",
    "\n",
    "**Using a `for` loop and a counter, add up all the numbers from 1 to 100.**\n",
    "\n",
    "To get you started, here's how you could use a counter to count to 5:"
   ]
  },
  {
   "cell_type": "code",
   "execution_count": 19,
   "metadata": {},
   "outputs": [
    {
     "name": "stdout",
     "output_type": "stream",
     "text": [
      "[1] 1\n",
      "[1] 2\n",
      "[1] 3\n",
      "[1] 4\n",
      "[1] 5\n",
      "[1] \"Final value of counter:\"\n",
      "[1] 5\n"
     ]
    }
   ],
   "source": [
    "counter <- 0\n",
    "\n",
    "for (i in 1:5) {\n",
    "    counter <- counter + 1\n",
    "    print(counter)\n",
    "}\n",
    "\n",
    "print(\"Final value of counter:\")\n",
    "print(counter)"
   ]
  },
  {
   "cell_type": "code",
   "execution_count": 25,
   "metadata": {},
   "outputs": [
    {
     "name": "stdout",
     "output_type": "stream",
     "text": [
      "[1] 5050\n"
     ]
    }
   ],
   "source": [
    "# Your code here!\n",
    "\n",
    "# START\n",
    "counter <- 0\n",
    "\n",
    "for (i in 1:100) {\n",
    "    counter <- counter + i\n",
    "}\n",
    "\n",
    "print(counter)\n",
    "# END"
   ]
  },
  {
   "cell_type": "markdown",
   "metadata": {},
   "source": [
    "### ⏭️ Optional extension problem\n",
    "\n",
    "Use a `for` loop to print the first odd number, the sum of the first two odd numbers, the sum of the first three odd numbers, ..., all the way up to the sum of the first 10 odd numbers. "
   ]
  },
  {
   "cell_type": "code",
   "execution_count": 69,
   "metadata": {},
   "outputs": [
    {
     "name": "stdout",
     "output_type": "stream",
     "text": [
      "[1] 1\n",
      "[1] 4\n",
      "[1] 9\n",
      "[1] 16\n",
      "[1] 25\n",
      "[1] 36\n",
      "[1] 49\n",
      "[1] 64\n",
      "[1] 81\n",
      "[1] 100\n"
     ]
    }
   ],
   "source": [
    "# Your code here!\n",
    "\n",
    "# Note: sum(1:5) = 1 + 2 + 3 + 4 + 5\n",
    "\n",
    "# START\n",
    "numbers <- 1:10\n",
    "for (number in numbers) {\n",
    "    odd_nums <- seq(1, 2*number, by=2)\n",
    "    print(sum(odd_nums))\n",
    "}\n",
    "# END"
   ]
  },
  {
   "cell_type": "markdown",
   "metadata": {},
   "source": [
    "## 🎶 Interlude: Booleans and control flow"
   ]
  },
  {
   "cell_type": "markdown",
   "metadata": {},
   "source": [
    "### 📝 Control flow with booleans, `if`, and `else`"
   ]
  },
  {
   "cell_type": "markdown",
   "metadata": {},
   "source": [
    "Booleans are a special type of variable that can take on only two possible values: `TRUE` or `FALSE`.\n",
    "\n",
    "> *Historical note*: Booleans are named after George Boole, a 19th century mathematician. https://en.wikipedia.org/wiki/George_Boole\n",
    "\n",
    "Booleans come in handy when you're comparing values."
   ]
  },
  {
   "cell_type": "code",
   "execution_count": 76,
   "metadata": {},
   "outputs": [
    {
     "data": {
      "text/html": [
       "TRUE"
      ],
      "text/latex": [
       "TRUE"
      ],
      "text/markdown": [
       "TRUE"
      ],
      "text/plain": [
       "[1] TRUE"
      ]
     },
     "metadata": {},
     "output_type": "display_data"
    }
   ],
   "source": [
    "10 == 10"
   ]
  },
  {
   "cell_type": "code",
   "execution_count": 77,
   "metadata": {},
   "outputs": [
    {
     "data": {
      "text/html": [
       "FALSE"
      ],
      "text/latex": [
       "FALSE"
      ],
      "text/markdown": [
       "FALSE"
      ],
      "text/plain": [
       "[1] FALSE"
      ]
     },
     "metadata": {},
     "output_type": "display_data"
    }
   ],
   "source": [
    "9 == 10"
   ]
  },
  {
   "cell_type": "markdown",
   "metadata": {},
   "source": [
    "---\n",
    "\n",
    "The double equal sign ( `==` ) is different than the single equal sign ( `=` ).\n",
    "\n",
    "> While a single equal sign is used to <i>assign</i> values to arguments inside functions, a double equal sign is used to <i>compare</i> values.\n",
    "\n",
    "---"
   ]
  },
  {
   "cell_type": "markdown",
   "metadata": {},
   "source": [
    "We can also use greater than ( `>` ) and less than ( `<` ) to compare values:"
   ]
  },
  {
   "cell_type": "code",
   "execution_count": 104,
   "metadata": {},
   "outputs": [
    {
     "data": {
      "text/html": [
       "TRUE"
      ],
      "text/latex": [
       "TRUE"
      ],
      "text/markdown": [
       "TRUE"
      ],
      "text/plain": [
       "[1] TRUE"
      ]
     },
     "metadata": {},
     "output_type": "display_data"
    }
   ],
   "source": [
    "9 < 10"
   ]
  },
  {
   "cell_type": "code",
   "execution_count": 107,
   "metadata": {},
   "outputs": [
    {
     "data": {
      "text/html": [
       "FALSE"
      ],
      "text/latex": [
       "FALSE"
      ],
      "text/markdown": [
       "FALSE"
      ],
      "text/plain": [
       "[1] FALSE"
      ]
     },
     "metadata": {},
     "output_type": "display_data"
    }
   ],
   "source": [
    "10 > 10"
   ]
  },
  {
   "cell_type": "code",
   "execution_count": 108,
   "metadata": {},
   "outputs": [
    {
     "data": {
      "text/html": [
       "TRUE"
      ],
      "text/latex": [
       "TRUE"
      ],
      "text/markdown": [
       "TRUE"
      ],
      "text/plain": [
       "[1] TRUE"
      ]
     },
     "metadata": {},
     "output_type": "display_data"
    }
   ],
   "source": [
    "# <= means \"less than or equal to\", and >= means \"greater than or equal to\"\n",
    "\n",
    "10 >= 10"
   ]
  },
  {
   "cell_type": "markdown",
   "metadata": {},
   "source": [
    "---\n",
    "\n",
    "We can use `if` in conjunction with booleans to control our code:\n",
    "\n",
    "> if (this statement is true) {do this thing}"
   ]
  },
  {
   "cell_type": "code",
   "execution_count": 21,
   "metadata": {},
   "outputs": [
    {
     "name": "stdout",
     "output_type": "stream",
     "text": [
      "[1] 1\n",
      "[1] 2\n",
      "[1] 3\n",
      "[1] \"Counter is now bigger than or equal to 3!\"\n",
      "[1] 4\n",
      "[1] \"Counter is now bigger than or equal to 3!\"\n",
      "[1] 5\n",
      "[1] \"Counter is now bigger than or equal to 3!\"\n"
     ]
    }
   ],
   "source": [
    "counter <- 0\n",
    "\n",
    "for (i in 1:5) {\n",
    "    counter <- counter + 1\n",
    "    \n",
    "    print(counter)\n",
    "    \n",
    "    if (counter >= 3) {\n",
    "        print(\"Counter is now bigger than or equal to 3!\")\n",
    "    }\n",
    "}"
   ]
  },
  {
   "cell_type": "markdown",
   "metadata": {},
   "source": [
    "---\n",
    "\n",
    "In computer science, `else` means \"otherwise\". We can use `if` and `else` with each other to write code that follows this pattern:\n",
    "\n",
    "> if (this statement is true) {\n",
    ">\n",
    ">> do this thing\n",
    ">\n",
    "> }\n",
    ">\n",
    "> else {\n",
    ">\n",
    ">> do this other thing\n",
    ">\n",
    "> }"
   ]
  },
  {
   "cell_type": "code",
   "execution_count": 80,
   "metadata": {},
   "outputs": [
    {
     "name": "stdout",
     "output_type": "stream",
     "text": [
      "[1] 1\n",
      "[1] \"Counter is less than 3!\"\n",
      "[1] 2\n",
      "[1] \"Counter is less than 3!\"\n",
      "[1] 3\n",
      "[1] \"Counter is now bigger than or equal to 3!\"\n",
      "[1] 4\n",
      "[1] \"Counter is now bigger than or equal to 3!\"\n",
      "[1] 5\n",
      "[1] \"Counter is now bigger than or equal to 3!\"\n"
     ]
    }
   ],
   "source": [
    "counter <- 0\n",
    "\n",
    "for (i in 1:5) {\n",
    "    counter <- counter + 1\n",
    "    \n",
    "    print(counter)\n",
    "    \n",
    "    if (counter >= 3) {\n",
    "        print(\"Counter is now bigger than or equal to 3!\")\n",
    "    }\n",
    "    else {\n",
    "        print(\"Counter is less than 3!\")\n",
    "    }\n",
    "}"
   ]
  },
  {
   "cell_type": "markdown",
   "metadata": {},
   "source": [
    "### 🚀 Exercise\n",
    "\n",
    "**Write a `for` loop to count off all the numbers from 1 to 10. Print \"Bigger than 5!\" after each number that is bigger than 5.**"
   ]
  },
  {
   "cell_type": "code",
   "execution_count": 81,
   "metadata": {},
   "outputs": [
    {
     "name": "stdout",
     "output_type": "stream",
     "text": [
      "[1] 1\n",
      "[1] 2\n",
      "[1] 3\n",
      "[1] 4\n",
      "[1] 5\n",
      "[1] 6\n",
      "[1] \"Bigger than 5!\"\n",
      "[1] 7\n",
      "[1] \"Bigger than 5!\"\n",
      "[1] 8\n",
      "[1] \"Bigger than 5!\"\n",
      "[1] 9\n",
      "[1] \"Bigger than 5!\"\n",
      "[1] 10\n",
      "[1] \"Bigger than 5!\"\n"
     ]
    }
   ],
   "source": [
    "# Your code here!\n",
    "\n",
    "# START\n",
    "for (i in 1:10) {\n",
    "    print(i)\n",
    "    \n",
    "    if (i > 5) {\n",
    "        print(\"Bigger than 5!\")\n",
    "    }\n",
    "}\n",
    "# END"
   ]
  },
  {
   "cell_type": "markdown",
   "metadata": {},
   "source": [
    "### 🚀 Exercise\n",
    "\n",
    "**Generate a vector of 60 birthdays, and print the birthdays that fall in the first half of the year.**"
   ]
  },
  {
   "cell_type": "code",
   "execution_count": 82,
   "metadata": {},
   "outputs": [
    {
     "name": "stdout",
     "output_type": "stream",
     "text": [
      "[1] 16\n",
      "[1] 45\n",
      "[1] 19\n",
      "[1] 131\n",
      "[1] 51\n",
      "[1] 36\n",
      "[1] 145\n",
      "[1] 138\n",
      "[1] 23\n",
      "[1] 102\n",
      "[1] 181\n",
      "[1] 178\n",
      "[1] 3\n",
      "[1] 3\n",
      "[1] 85\n",
      "[1] 147\n",
      "[1] 140\n",
      "[1] 56\n",
      "[1] 74\n",
      "[1] 152\n",
      "[1] 43\n",
      "[1] 117\n",
      "[1] 108\n",
      "[1] 102\n",
      "[1] 102\n",
      "[1] 151\n",
      "[1] 175\n",
      "[1] 96\n"
     ]
    }
   ],
   "source": [
    "# Your code here!\n",
    "\n",
    "# START\n",
    "birthdays <- sample(1:366, 60, replace = TRUE)\n",
    "\n",
    "for (birthday in birthdays) {\n",
    "    if (birthday < 183) {\n",
    "        print(birthday)\n",
    "    }\n",
    "}\n",
    "# END"
   ]
  },
  {
   "cell_type": "markdown",
   "metadata": {},
   "source": [
    "## Back to the birthday problem: Translating our algorithm into code"
   ]
  },
  {
   "cell_type": "markdown",
   "metadata": {},
   "source": [
    "We're ready to come back to our algorithm:\n",
    "\n",
    "> 1. We need a room of 60 people, and we need to know their birthdays.\n",
    "> 2. We need to check whether two people in that room share a birthday.\n",
    "> 3. We need to repeat this process over and over.\n",
    "> 4. We need to figure out how frequently two or more people shared a birthday."
   ]
  },
  {
   "cell_type": "markdown",
   "metadata": {},
   "source": [
    "### 🚀 Exercise\n",
    "\n",
    "**Translate our algorithm into code to solve the birthday problem!**"
   ]
  },
  {
   "cell_type": "code",
   "execution_count": 34,
   "metadata": {},
   "outputs": [
    {
     "data": {
      "text/html": [
       "0.994"
      ],
      "text/latex": [
       "0.994"
      ],
      "text/markdown": [
       "0.994"
      ],
      "text/plain": [
       "[1] 0.994"
      ]
     },
     "metadata": {},
     "output_type": "display_data"
    }
   ],
   "source": [
    "# Your code here!\n",
    "\n",
    "# START\n",
    "# This is the total number of birthday vectors we will generate\n",
    "n <- 1000\n",
    "\n",
    "# This is a counter to keep track of how many vectors had at least one duplicate birthday\n",
    "n_with_duplicates <- 0\n",
    "\n",
    "# Each time we see a vector with at least one duplicate, we should increment our counter\n",
    "for (i in 1:n) {\n",
    "    \n",
    "    if (has_duplicate(sample(1:366, 60, replace = TRUE))) {\n",
    "        \n",
    "        n_with_duplicates <- n_with_duplicates + 1\n",
    "    }\n",
    "    \n",
    "}\n",
    "\n",
    "# Fraction of vectors with at least one duplicate\n",
    "n_with_duplicates / n\n",
    "# END"
   ]
  },
  {
   "cell_type": "markdown",
   "metadata": {},
   "source": [
    "### 🚀 Exercise\n",
    "\n",
    "**A. Increase the number of birthdays we generate in each vector, and re-run the code several times. What happens to the fraction of vectors with duplicates?**\n",
    "\n",
    "---"
   ]
  },
  {
   "cell_type": "markdown",
   "metadata": {},
   "source": [
    "**B. Decrease the number of birthday vectors to 100, and re-run the code several times. What happens to the results?**\n",
    "\n",
    "---"
   ]
  },
  {
   "cell_type": "markdown",
   "metadata": {},
   "source": [
    "**C. Increase the number of birthday vectors to 100,000, and re-run the code several times. What happens to the results?**\n",
    "\n",
    "---"
   ]
  },
  {
   "cell_type": "markdown",
   "metadata": {},
   "source": [
    "**D. How many birthdays should be in each vector for an approximately 50% chance of a match?**\n",
    "\n",
    "---"
   ]
  },
  {
   "cell_type": "markdown",
   "metadata": {},
   "source": [
    "## Circling back to double voting\n",
    "\n",
    "Remember our original problem:\n",
    "\n",
    "> In the 2012 election, there were 141 individuals named \"John Smith\" who were born in 1970, and 27 pairs had exactly the same birthday.\n",
    "\n",
    "## 🚀 Exercise\n",
    "\n",
    "**Modify the simulation code to calculate the average number of birthday duplicates in 1,000 vectors of 141 individuals.**"
   ]
  },
  {
   "cell_type": "code",
   "execution_count": 33,
   "metadata": {},
   "outputs": [
    {
     "data": {
      "text/html": [
       "23.617"
      ],
      "text/latex": [
       "23.617"
      ],
      "text/markdown": [
       "23.617"
      ],
      "text/plain": [
       "[1] 23.617"
      ]
     },
     "metadata": {},
     "output_type": "display_data"
    }
   ],
   "source": [
    "# Your code here!\n",
    "\n",
    "# START\n",
    "n <- 1000\n",
    "\n",
    "n_duplicates <- 0\n",
    "\n",
    "for (i in 1:n) {\n",
    "    \n",
    "    n_duplicates <- n_duplicates + num_duplicates(sample(1:366, 141, replace = TRUE))\n",
    "    \n",
    "}\n",
    "\n",
    "n_duplicates / n\n",
    "# END"
   ]
  },
  {
   "cell_type": "markdown",
   "metadata": {},
   "source": [
    "### ⏭️ Optional extension problem\n",
    "\n",
    "The code your wrote above probably returned a value that is smaller than 27, which is how many duplicate birthdays there were for our original list of 141 birthdays. Why?\n",
    "\n",
    "Hint: think about the value that the `num_duplicates` function returns. "
   ]
  },
  {
   "cell_type": "markdown",
   "metadata": {},
   "source": [
    "##### ***Double click on this text to write your answer!***"
   ]
  },
  {
   "cell_type": "code",
   "execution_count": 85,
   "metadata": {},
   "outputs": [],
   "source": [
    "# Use this space to play around with num_duplicates!\n",
    "\n",
    "# START\n",
    "# The num_duplicates function returns the number of extra times a value appears, \n",
    "# not the total number of times a duplicated value appears. So, num_duplicates(1,1,1)\n",
    "# returns 2, but for the birthday problem, it should really return 3.\n",
    "# END"
   ]
  },
  {
   "cell_type": "markdown",
   "metadata": {},
   "source": [
    "### 📝 Extension topic: Vectorized functions\n",
    "\n",
    "Often, we'll want to apply the same function to every element in a vector. Rather than use a `for` loop, it is more efficient to use a vectorized function, such as `replicate` or `map`. \n",
    "\n",
    "> 🔎 Vectorization leverages parallel processing, which allows your computer to tackle multiple computations at the same time.\n",
    "\n",
    "Here's how `replicate` works:\n",
    "\n",
    "> `replicate(number of times to perform an action, the action)`"
   ]
  },
  {
   "cell_type": "markdown",
   "metadata": {},
   "source": [
    "### ⏭️ Optional extension problem\n",
    "\n",
    "**Use `replicate` to generate 3 vectors of 10 random birthdays.**"
   ]
  },
  {
   "cell_type": "code",
   "execution_count": 74,
   "metadata": {},
   "outputs": [
    {
     "data": {
      "text/html": [
       "<table>\n",
       "<caption>A matrix: 10 × 5 of type int</caption>\n",
       "<tbody>\n",
       "\t<tr><td>226</td><td>135</td><td>158</td><td>333</td><td> 70</td></tr>\n",
       "\t<tr><td>110</td><td> 44</td><td>203</td><td>135</td><td>271</td></tr>\n",
       "\t<tr><td>112</td><td>157</td><td>173</td><td>175</td><td> 85</td></tr>\n",
       "\t<tr><td> 81</td><td>175</td><td>346</td><td>  4</td><td>162</td></tr>\n",
       "\t<tr><td> 27</td><td>170</td><td>200</td><td>245</td><td> 71</td></tr>\n",
       "\t<tr><td>291</td><td>201</td><td>251</td><td>140</td><td>183</td></tr>\n",
       "\t<tr><td>  5</td><td>126</td><td> 55</td><td>161</td><td>333</td></tr>\n",
       "\t<tr><td> 54</td><td>314</td><td>111</td><td>355</td><td>149</td></tr>\n",
       "\t<tr><td>113</td><td> 62</td><td>234</td><td>  8</td><td>112</td></tr>\n",
       "\t<tr><td>152</td><td>344</td><td> 35</td><td> 81</td><td> 15</td></tr>\n",
       "</tbody>\n",
       "</table>\n"
      ],
      "text/latex": [
       "A matrix: 10 × 5 of type int\n",
       "\\begin{tabular}{lllll}\n",
       "\t 226 & 135 & 158 & 333 &  70\\\\\n",
       "\t 110 &  44 & 203 & 135 & 271\\\\\n",
       "\t 112 & 157 & 173 & 175 &  85\\\\\n",
       "\t  81 & 175 & 346 &   4 & 162\\\\\n",
       "\t  27 & 170 & 200 & 245 &  71\\\\\n",
       "\t 291 & 201 & 251 & 140 & 183\\\\\n",
       "\t   5 & 126 &  55 & 161 & 333\\\\\n",
       "\t  54 & 314 & 111 & 355 & 149\\\\\n",
       "\t 113 &  62 & 234 &   8 & 112\\\\\n",
       "\t 152 & 344 &  35 &  81 &  15\\\\\n",
       "\\end{tabular}\n"
      ],
      "text/markdown": [
       "\n",
       "A matrix: 10 × 5 of type int\n",
       "\n",
       "| 226 | 135 | 158 | 333 |  70 |\n",
       "| 110 |  44 | 203 | 135 | 271 |\n",
       "| 112 | 157 | 173 | 175 |  85 |\n",
       "|  81 | 175 | 346 |   4 | 162 |\n",
       "|  27 | 170 | 200 | 245 |  71 |\n",
       "| 291 | 201 | 251 | 140 | 183 |\n",
       "|   5 | 126 |  55 | 161 | 333 |\n",
       "|  54 | 314 | 111 | 355 | 149 |\n",
       "| 113 |  62 | 234 |   8 | 112 |\n",
       "| 152 | 344 |  35 |  81 |  15 |\n",
       "\n"
      ],
      "text/plain": [
       "      [,1] [,2] [,3] [,4] [,5]\n",
       " [1,] 226  135  158  333   70 \n",
       " [2,] 110   44  203  135  271 \n",
       " [3,] 112  157  173  175   85 \n",
       " [4,]  81  175  346    4  162 \n",
       " [5,]  27  170  200  245   71 \n",
       " [6,] 291  201  251  140  183 \n",
       " [7,]   5  126   55  161  333 \n",
       " [8,]  54  314  111  355  149 \n",
       " [9,] 113   62  234    8  112 \n",
       "[10,] 152  344   35   81   15 "
      ]
     },
     "metadata": {},
     "output_type": "display_data"
    }
   ],
   "source": [
    "# Your code here!\n",
    "\n",
    "# START\n",
    "replicate(3, sample(1:366, 10, replace = TRUE))\n",
    "# END"
   ]
  },
  {
   "cell_type": "markdown",
   "metadata": {},
   "source": [
    "### ⏭️ Optional extension problem"
   ]
  },
  {
   "cell_type": "markdown",
   "metadata": {},
   "source": [
    "`map` is a function from the `purrr` package that is more powerful than `replicate`. You can read more about `map` [at this link](https://purrr.tidyverse.org/reference/map.html).\n",
    "\n",
    "> `purrr` is part of the `tidyverse`, a set of popular `R` packages used for data analysis. We will learn more about the `tidyverse` in a later tutorial. \n",
    "\n",
    "Use `purrr::map` to generate 3 vectors of 10 random birthdays."
   ]
  },
  {
   "cell_type": "code",
   "execution_count": 79,
   "metadata": {},
   "outputs": [
    {
     "data": {
      "text/html": [
       "<ol>\n",
       "\t<li><ol class=list-inline>\n",
       "\t<li>30</li>\n",
       "\t<li>345</li>\n",
       "\t<li>103</li>\n",
       "\t<li>300</li>\n",
       "\t<li>69</li>\n",
       "\t<li>122</li>\n",
       "\t<li>231</li>\n",
       "\t<li>205</li>\n",
       "\t<li>278</li>\n",
       "\t<li>172</li>\n",
       "</ol>\n",
       "</li>\n",
       "\t<li><ol class=list-inline>\n",
       "\t<li>112</li>\n",
       "\t<li>313</li>\n",
       "\t<li>265</li>\n",
       "\t<li>298</li>\n",
       "\t<li>52</li>\n",
       "\t<li>123</li>\n",
       "\t<li>264</li>\n",
       "\t<li>242</li>\n",
       "\t<li>31</li>\n",
       "\t<li>277</li>\n",
       "</ol>\n",
       "</li>\n",
       "\t<li><ol class=list-inline>\n",
       "\t<li>180</li>\n",
       "\t<li>144</li>\n",
       "\t<li>247</li>\n",
       "\t<li>285</li>\n",
       "\t<li>246</li>\n",
       "\t<li>220</li>\n",
       "\t<li>265</li>\n",
       "\t<li>159</li>\n",
       "\t<li>127</li>\n",
       "\t<li>322</li>\n",
       "</ol>\n",
       "</li>\n",
       "\t<li><ol class=list-inline>\n",
       "\t<li>250</li>\n",
       "\t<li>66</li>\n",
       "\t<li>216</li>\n",
       "\t<li>311</li>\n",
       "\t<li>363</li>\n",
       "\t<li>11</li>\n",
       "\t<li>263</li>\n",
       "\t<li>167</li>\n",
       "\t<li>160</li>\n",
       "\t<li>138</li>\n",
       "</ol>\n",
       "</li>\n",
       "\t<li><ol class=list-inline>\n",
       "\t<li>184</li>\n",
       "\t<li>8</li>\n",
       "\t<li>334</li>\n",
       "\t<li>169</li>\n",
       "\t<li>269</li>\n",
       "\t<li>79</li>\n",
       "\t<li>234</li>\n",
       "\t<li>334</li>\n",
       "\t<li>21</li>\n",
       "\t<li>181</li>\n",
       "</ol>\n",
       "</li>\n",
       "</ol>\n"
      ],
      "text/latex": [
       "\\begin{enumerate}\n",
       "\\item \\begin{enumerate*}\n",
       "\\item 30\n",
       "\\item 345\n",
       "\\item 103\n",
       "\\item 300\n",
       "\\item 69\n",
       "\\item 122\n",
       "\\item 231\n",
       "\\item 205\n",
       "\\item 278\n",
       "\\item 172\n",
       "\\end{enumerate*}\n",
       "\n",
       "\\item \\begin{enumerate*}\n",
       "\\item 112\n",
       "\\item 313\n",
       "\\item 265\n",
       "\\item 298\n",
       "\\item 52\n",
       "\\item 123\n",
       "\\item 264\n",
       "\\item 242\n",
       "\\item 31\n",
       "\\item 277\n",
       "\\end{enumerate*}\n",
       "\n",
       "\\item \\begin{enumerate*}\n",
       "\\item 180\n",
       "\\item 144\n",
       "\\item 247\n",
       "\\item 285\n",
       "\\item 246\n",
       "\\item 220\n",
       "\\item 265\n",
       "\\item 159\n",
       "\\item 127\n",
       "\\item 322\n",
       "\\end{enumerate*}\n",
       "\n",
       "\\item \\begin{enumerate*}\n",
       "\\item 250\n",
       "\\item 66\n",
       "\\item 216\n",
       "\\item 311\n",
       "\\item 363\n",
       "\\item 11\n",
       "\\item 263\n",
       "\\item 167\n",
       "\\item 160\n",
       "\\item 138\n",
       "\\end{enumerate*}\n",
       "\n",
       "\\item \\begin{enumerate*}\n",
       "\\item 184\n",
       "\\item 8\n",
       "\\item 334\n",
       "\\item 169\n",
       "\\item 269\n",
       "\\item 79\n",
       "\\item 234\n",
       "\\item 334\n",
       "\\item 21\n",
       "\\item 181\n",
       "\\end{enumerate*}\n",
       "\n",
       "\\end{enumerate}\n"
      ],
      "text/markdown": [
       "1. 1. 30\n",
       "2. 345\n",
       "3. 103\n",
       "4. 300\n",
       "5. 69\n",
       "6. 122\n",
       "7. 231\n",
       "8. 205\n",
       "9. 278\n",
       "10. 172\n",
       "\n",
       "\n",
       "\n",
       "2. 1. 112\n",
       "2. 313\n",
       "3. 265\n",
       "4. 298\n",
       "5. 52\n",
       "6. 123\n",
       "7. 264\n",
       "8. 242\n",
       "9. 31\n",
       "10. 277\n",
       "\n",
       "\n",
       "\n",
       "3. 1. 180\n",
       "2. 144\n",
       "3. 247\n",
       "4. 285\n",
       "5. 246\n",
       "6. 220\n",
       "7. 265\n",
       "8. 159\n",
       "9. 127\n",
       "10. 322\n",
       "\n",
       "\n",
       "\n",
       "4. 1. 250\n",
       "2. 66\n",
       "3. 216\n",
       "4. 311\n",
       "5. 363\n",
       "6. 11\n",
       "7. 263\n",
       "8. 167\n",
       "9. 160\n",
       "10. 138\n",
       "\n",
       "\n",
       "\n",
       "5. 1. 184\n",
       "2. 8\n",
       "3. 334\n",
       "4. 169\n",
       "5. 269\n",
       "6. 79\n",
       "7. 234\n",
       "8. 334\n",
       "9. 21\n",
       "10. 181\n",
       "\n",
       "\n",
       "\n",
       "\n",
       "\n"
      ],
      "text/plain": [
       "[[1]]\n",
       " [1]  30 345 103 300  69 122 231 205 278 172\n",
       "\n",
       "[[2]]\n",
       " [1] 112 313 265 298  52 123 264 242  31 277\n",
       "\n",
       "[[3]]\n",
       " [1] 180 144 247 285 246 220 265 159 127 322\n",
       "\n",
       "[[4]]\n",
       " [1] 250  66 216 311 363  11 263 167 160 138\n",
       "\n",
       "[[5]]\n",
       " [1] 184   8 334 169 269  79 234 334  21 181\n"
      ]
     },
     "metadata": {},
     "output_type": "display_data"
    }
   ],
   "source": [
    "# Your code here!\n",
    "\n",
    "# START\n",
    "purrr::map(1:3, ~ sample(1:366, 10, replace = TRUE))\n",
    "# END"
   ]
  },
  {
   "cell_type": "markdown",
   "metadata": {},
   "source": [
    "### ⏭️ Optional extension problem\n",
    "\n",
    "Solve the birthday problem without using a `for` loop.\n",
    "\n",
    "How many birthday pairs would you expect to form with 141 individuals?"
   ]
  },
  {
   "cell_type": "code",
   "execution_count": null,
   "metadata": {},
   "outputs": [],
   "source": [
    "# START\n",
    "n_sims = 1000\n",
    "sim_counts = map_dbl(1:n_sims, ~ num_duplicates(sample(1:366, 141, replace = TRUE)))\n",
    "print(mean(sim_counts))\n",
    "# END"
   ]
  }
 ],
 "metadata": {
  "kernelspec": {
   "display_name": "R",
   "language": "R",
   "name": "ir"
  },
  "language_info": {
   "codemirror_mode": "r",
   "file_extension": ".r",
   "mimetype": "text/x-r-source",
   "name": "R",
   "pygments_lexer": "r",
   "version": "3.6.1"
  }
 },
 "nbformat": 4,
 "nbformat_minor": 4
}
