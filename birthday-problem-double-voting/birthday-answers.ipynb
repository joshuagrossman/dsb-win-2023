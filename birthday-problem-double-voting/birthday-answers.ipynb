{
 "cells": [
  {
   "cell_type": "markdown",
   "metadata": {},
   "source": [
    "# 🗳️ Double voting and 🎂 the birthday problem with `R`"
   ]
  },
  {
   "cell_type": "markdown",
   "metadata": {},
   "source": [
    "<img src=\"img/voting.jpg\" alt=\"voting\" width=\"400\" align=\"left\"/>"
   ]
  },
  {
   "cell_type": "markdown",
   "metadata": {},
   "source": [
    "## Introduction"
   ]
  },
  {
   "cell_type": "markdown",
   "metadata": {},
   "source": [
    "Claims of voter fraud are widespread. Here's one example:"
   ]
  },
  {
   "cell_type": "markdown",
   "metadata": {},
   "source": [
    "> **“Probably over a million people voted twice \n",
    "in [the 2012 presidential] election.”**\n",
    ">\n",
    "> Dick Morris, in 2014 on Fox News"
   ]
  },
  {
   "cell_type": "markdown",
   "metadata": {},
   "source": [
    "Voter fraud can take place in a number of ways, including tampering with voting machines 📠, destroying ballots 🗳️, and impersonating voters 🤖. Today, though, we will explore \n",
    "**double voting**, which occurs when a single person illegally casts more than one vote in an election.\n",
    "\n",
    "To start, consider this fact:\n",
    "\n",
    "> In the 2012 election, there were 141 individuals named \"John Smith\" who were born in 1970, and 27 of those individuals had exactly the same birthday.\n",
    "\n",
    "Were there 27 fraudulent \"John Smith\" ballots in the 2012 election? Let's find out."
   ]
  },
  {
   "cell_type": "markdown",
   "metadata": {},
   "source": [
    "## 🎂 The birthday problem 🎂"
   ]
  },
  {
   "cell_type": "markdown",
   "metadata": {},
   "source": [
    "<img src=\"img/birthday.jpg\" alt=\"voting\" width=\"200\" align=\"left\"/>"
   ]
  },
  {
   "cell_type": "markdown",
   "metadata": {},
   "source": [
    "🚀 Let's start with a similar problem: \n",
    "\n",
    "> In a room of 60 people, how likely is it that two people share exactly the same birthday? \n",
    ">\n",
    "> Assume that every person in the room was born in the same year."
   ]
  },
  {
   "cell_type": "markdown",
   "metadata": {},
   "source": [
    "Before moving forward, think to yourself what could be a reasonable answer. 10\\%? 50\\%? 90\\%? Something else?"
   ]
  },
  {
   "cell_type": "markdown",
   "metadata": {},
   "source": [
    "🖥️ To formally answer this question, we could use the following **algorithm**:\n",
    "\n",
    " > 1️⃣ We need a room of 60 people, and we need to know their birthdays.\n",
    " \n",
    " > 2️⃣ We need to check whether two people in that room share a birthday.\n",
    " \n",
    " > 3️⃣ We need to repeat steps 1 and 2 over and over.\n",
    " \n",
    " > 4️⃣ We need to figure out how often two or more people shared a birthday."
   ]
  },
  {
   "cell_type": "markdown",
   "metadata": {},
   "source": [
    "At the end of this tutorial, you'll be able to implement this algorithm in `R`!"
   ]
  },
  {
   "cell_type": "markdown",
   "metadata": {},
   "source": [
    "## 📝 The `sample` command"
   ]
  },
  {
   "cell_type": "markdown",
   "metadata": {},
   "source": [
    "Here's the first step of our algorithm:\n",
    "\n",
    "> 1️⃣ We need a room of 60 people, and we need to know their birthdays.\n",
    "\n",
    "To simulate this in `R`, we could use the `sample` command, which works as follows:\n",
    "\n",
    "> `sample(numbers to choose from, how many numbers to choose, whether to \"put back\" numbers)`"
   ]
  },
  {
   "cell_type": "code",
   "execution_count": 1,
   "metadata": {},
   "outputs": [
    {
     "data": {
      "text/html": [
       "<style>\n",
       ".list-inline {list-style: none; margin:0; padding: 0}\n",
       ".list-inline>li {display: inline-block}\n",
       ".list-inline>li:not(:last-child)::after {content: \"\\00b7\"; padding: 0 .5ex}\n",
       "</style>\n",
       "<ol class=list-inline><li>8</li><li>2</li><li>5</li><li>1</li><li>10</li></ol>\n"
      ],
      "text/latex": [
       "\\begin{enumerate*}\n",
       "\\item 8\n",
       "\\item 2\n",
       "\\item 5\n",
       "\\item 1\n",
       "\\item 10\n",
       "\\end{enumerate*}\n"
      ],
      "text/markdown": [
       "1. 8\n",
       "2. 2\n",
       "3. 5\n",
       "4. 1\n",
       "5. 10\n",
       "\n",
       "\n"
      ],
      "text/plain": [
       "[1]  8  2  5  1 10"
      ]
     },
     "metadata": {},
     "output_type": "display_data"
    }
   ],
   "source": [
    "# To run code in a cell, click on the cell, and then \n",
    "# you can either press SHIFT + ENTER, \n",
    "# or press the triangular play button at the top of this page.\n",
    "#\n",
    "# Note: the colon symbol a:b allows us to create lists of consecutive \n",
    "# integers from a to b.\n",
    "\n",
    "sample(1:10, 5, replace = FALSE)"
   ]
  },
  {
   "cell_type": "code",
   "execution_count": 2,
   "metadata": {},
   "outputs": [
    {
     "data": {
      "text/html": [
       "<style>\n",
       ".list-inline {list-style: none; margin:0; padding: 0}\n",
       ".list-inline>li {display: inline-block}\n",
       ".list-inline>li:not(:last-child)::after {content: \"\\00b7\"; padding: 0 .5ex}\n",
       "</style>\n",
       "<ol class=list-inline><li>3</li><li>3</li><li>1</li><li>1</li><li>2</li></ol>\n"
      ],
      "text/latex": [
       "\\begin{enumerate*}\n",
       "\\item 3\n",
       "\\item 3\n",
       "\\item 1\n",
       "\\item 1\n",
       "\\item 2\n",
       "\\end{enumerate*}\n"
      ],
      "text/markdown": [
       "1. 3\n",
       "2. 3\n",
       "3. 1\n",
       "4. 1\n",
       "5. 2\n",
       "\n",
       "\n"
      ],
      "text/plain": [
       "[1] 3 3 1 1 2"
      ]
     },
     "metadata": {},
     "output_type": "display_data"
    }
   ],
   "source": [
    "sample(1:3, 5, replace = TRUE)"
   ]
  },
  {
   "cell_type": "code",
   "execution_count": 3,
   "metadata": {},
   "outputs": [
    {
     "data": {
      "text/html": [
       "<style>\n",
       ".list-inline {list-style: none; margin:0; padding: 0}\n",
       ".list-inline>li {display: inline-block}\n",
       ".list-inline>li:not(:last-child)::after {content: \"\\00b7\"; padding: 0 .5ex}\n",
       "</style>\n",
       "<ol class=list-inline><li>10</li><li>5</li><li>9</li></ol>\n"
      ],
      "text/latex": [
       "\\begin{enumerate*}\n",
       "\\item 10\n",
       "\\item 5\n",
       "\\item 9\n",
       "\\end{enumerate*}\n"
      ],
      "text/markdown": [
       "1. 10\n",
       "2. 5\n",
       "3. 9\n",
       "\n",
       "\n"
      ],
      "text/plain": [
       "[1] 10  5  9"
      ]
     },
     "metadata": {},
     "output_type": "display_data"
    }
   ],
   "source": [
    "sample(1:20, 3, replace = TRUE)"
   ]
  },
  {
   "cell_type": "code",
   "execution_count": 4,
   "metadata": {},
   "outputs": [
    {
     "ename": "ERROR",
     "evalue": "Error in sample.int(length(x), size, replace, prob): cannot take a sample larger than the population when 'replace = FALSE'\n",
     "output_type": "error",
     "traceback": [
      "Error in sample.int(length(x), size, replace, prob): cannot take a sample larger than the population when 'replace = FALSE'\nTraceback:\n",
      "1. sample(1:5, 6, replace = FALSE)",
      "2. sample.int(length(x), size, replace, prob)"
     ]
    }
   ],
   "source": [
    "# Why does this fail?\n",
    "sample(1:5, 6, replace = FALSE)"
   ]
  },
  {
   "cell_type": "markdown",
   "metadata": {},
   "source": [
    "### 🚀 Exercise\n",
    "\n",
    "**Using `sample`, simulate a list of 60 birthdays.**"
   ]
  },
  {
   "cell_type": "code",
   "execution_count": 5,
   "metadata": {},
   "outputs": [
    {
     "data": {
      "text/html": [
       "<style>\n",
       ".list-inline {list-style: none; margin:0; padding: 0}\n",
       ".list-inline>li {display: inline-block}\n",
       ".list-inline>li:not(:last-child)::after {content: \"\\00b7\"; padding: 0 .5ex}\n",
       "</style>\n",
       "<ol class=list-inline><li>212</li><li>88</li><li>340</li><li>198</li><li>69</li><li>21</li><li>140</li><li>259</li><li>199</li><li>353</li><li>220</li><li>320</li><li>194</li><li>291</li><li>145</li><li>62</li><li>84</li><li>24</li><li>145</li><li>7</li><li>222</li><li>149</li><li>219</li><li>72</li><li>221</li><li>42</li><li>250</li><li>351</li><li>244</li><li>238</li><li>272</li><li>245</li><li>98</li><li>202</li><li>211</li><li>161</li><li>45</li><li>92</li><li>100</li><li>325</li><li>303</li><li>55</li><li>91</li><li>175</li><li>189</li><li>192</li><li>235</li><li>139</li><li>66</li><li>134</li><li>239</li><li>317</li><li>120</li><li>88</li><li>251</li><li>357</li><li>52</li><li>303</li><li>290</li><li>269</li></ol>\n"
      ],
      "text/latex": [
       "\\begin{enumerate*}\n",
       "\\item 212\n",
       "\\item 88\n",
       "\\item 340\n",
       "\\item 198\n",
       "\\item 69\n",
       "\\item 21\n",
       "\\item 140\n",
       "\\item 259\n",
       "\\item 199\n",
       "\\item 353\n",
       "\\item 220\n",
       "\\item 320\n",
       "\\item 194\n",
       "\\item 291\n",
       "\\item 145\n",
       "\\item 62\n",
       "\\item 84\n",
       "\\item 24\n",
       "\\item 145\n",
       "\\item 7\n",
       "\\item 222\n",
       "\\item 149\n",
       "\\item 219\n",
       "\\item 72\n",
       "\\item 221\n",
       "\\item 42\n",
       "\\item 250\n",
       "\\item 351\n",
       "\\item 244\n",
       "\\item 238\n",
       "\\item 272\n",
       "\\item 245\n",
       "\\item 98\n",
       "\\item 202\n",
       "\\item 211\n",
       "\\item 161\n",
       "\\item 45\n",
       "\\item 92\n",
       "\\item 100\n",
       "\\item 325\n",
       "\\item 303\n",
       "\\item 55\n",
       "\\item 91\n",
       "\\item 175\n",
       "\\item 189\n",
       "\\item 192\n",
       "\\item 235\n",
       "\\item 139\n",
       "\\item 66\n",
       "\\item 134\n",
       "\\item 239\n",
       "\\item 317\n",
       "\\item 120\n",
       "\\item 88\n",
       "\\item 251\n",
       "\\item 357\n",
       "\\item 52\n",
       "\\item 303\n",
       "\\item 290\n",
       "\\item 269\n",
       "\\end{enumerate*}\n"
      ],
      "text/markdown": [
       "1. 212\n",
       "2. 88\n",
       "3. 340\n",
       "4. 198\n",
       "5. 69\n",
       "6. 21\n",
       "7. 140\n",
       "8. 259\n",
       "9. 199\n",
       "10. 353\n",
       "11. 220\n",
       "12. 320\n",
       "13. 194\n",
       "14. 291\n",
       "15. 145\n",
       "16. 62\n",
       "17. 84\n",
       "18. 24\n",
       "19. 145\n",
       "20. 7\n",
       "21. 222\n",
       "22. 149\n",
       "23. 219\n",
       "24. 72\n",
       "25. 221\n",
       "26. 42\n",
       "27. 250\n",
       "28. 351\n",
       "29. 244\n",
       "30. 238\n",
       "31. 272\n",
       "32. 245\n",
       "33. 98\n",
       "34. 202\n",
       "35. 211\n",
       "36. 161\n",
       "37. 45\n",
       "38. 92\n",
       "39. 100\n",
       "40. 325\n",
       "41. 303\n",
       "42. 55\n",
       "43. 91\n",
       "44. 175\n",
       "45. 189\n",
       "46. 192\n",
       "47. 235\n",
       "48. 139\n",
       "49. 66\n",
       "50. 134\n",
       "51. 239\n",
       "52. 317\n",
       "53. 120\n",
       "54. 88\n",
       "55. 251\n",
       "56. 357\n",
       "57. 52\n",
       "58. 303\n",
       "59. 290\n",
       "60. 269\n",
       "\n",
       "\n"
      ],
      "text/plain": [
       " [1] 212  88 340 198  69  21 140 259 199 353 220 320 194 291 145  62  84  24 145\n",
       "[20]   7 222 149 219  72 221  42 250 351 244 238 272 245  98 202 211 161  45  92\n",
       "[39] 100 325 303  55  91 175 189 192 235 139  66 134 239 317 120  88 251 357  52\n",
       "[58] 303 290 269"
      ]
     },
     "metadata": {},
     "output_type": "display_data"
    }
   ],
   "source": [
    "# Your code goes here!\n",
    "\n",
    "# START\n",
    "sample(1:366, 60, replace = TRUE)\n",
    "# END"
   ]
  },
  {
   "cell_type": "markdown",
   "metadata": {},
   "source": [
    "### ⏭️ Optional Extension Problem\n",
    "\n",
    "To learn more about an `R` function, run `?<function_name>`. For example, run `?sample` to print the documentation for the `sample` command.\n",
    "\n",
    "> The output is long, so feel free to delete the cell or hide the output after skimming."
   ]
  },
  {
   "cell_type": "code",
   "execution_count": null,
   "metadata": {},
   "outputs": [],
   "source": [
    "?sample"
   ]
  },
  {
   "cell_type": "markdown",
   "metadata": {},
   "source": [
    "`seq` is a more powerful way of generating sequences. Read the documentation for `seq` to learn how `seq` works. Then, use `seq` to generate a list of all even numbers between 100 and 110."
   ]
  },
  {
   "cell_type": "code",
   "execution_count": 6,
   "metadata": {},
   "outputs": [
    {
     "data": {
      "text/html": [
       "<style>\n",
       ".list-inline {list-style: none; margin:0; padding: 0}\n",
       ".list-inline>li {display: inline-block}\n",
       ".list-inline>li:not(:last-child)::after {content: \"\\00b7\"; padding: 0 .5ex}\n",
       "</style>\n",
       "<ol class=list-inline><li>100</li><li>102</li><li>104</li><li>106</li><li>108</li><li>110</li></ol>\n"
      ],
      "text/latex": [
       "\\begin{enumerate*}\n",
       "\\item 100\n",
       "\\item 102\n",
       "\\item 104\n",
       "\\item 106\n",
       "\\item 108\n",
       "\\item 110\n",
       "\\end{enumerate*}\n"
      ],
      "text/markdown": [
       "1. 100\n",
       "2. 102\n",
       "3. 104\n",
       "4. 106\n",
       "5. 108\n",
       "6. 110\n",
       "\n",
       "\n"
      ],
      "text/plain": [
       "[1] 100 102 104 106 108 110"
      ]
     },
     "metadata": {},
     "output_type": "display_data"
    }
   ],
   "source": [
    "# Your code here!\n",
    "\n",
    "# START\n",
    "seq(100, 110, by=2)\n",
    "# END"
   ]
  },
  {
   "cell_type": "markdown",
   "metadata": {},
   "source": [
    "## 🎶 Interlude: Math, variables, vectors, and functions"
   ]
  },
  {
   "cell_type": "markdown",
   "metadata": {},
   "source": [
    "### 📝 Using R as a calculator"
   ]
  },
  {
   "cell_type": "markdown",
   "metadata": {},
   "source": [
    "One simple (and useful) way to use R is as a calculator. For example:"
   ]
  },
  {
   "cell_type": "code",
   "execution_count": 10,
   "metadata": {},
   "outputs": [
    {
     "data": {
      "text/html": [
       "15"
      ],
      "text/latex": [
       "15"
      ],
      "text/markdown": [
       "15"
      ],
      "text/plain": [
       "[1] 15"
      ]
     },
     "metadata": {},
     "output_type": "display_data"
    }
   ],
   "source": [
    "5 + 10"
   ]
  },
  {
   "cell_type": "code",
   "execution_count": 11,
   "metadata": {},
   "outputs": [
    {
     "data": {
      "text/html": [
       "90"
      ],
      "text/latex": [
       "90"
      ],
      "text/markdown": [
       "90"
      ],
      "text/plain": [
       "[1] 90"
      ]
     },
     "metadata": {},
     "output_type": "display_data"
    }
   ],
   "source": [
    "30 * 3"
   ]
  },
  {
   "cell_type": "code",
   "execution_count": 12,
   "metadata": {},
   "outputs": [
    {
     "data": {
      "text/html": [
       "5"
      ],
      "text/latex": [
       "5"
      ],
      "text/markdown": [
       "5"
      ],
      "text/plain": [
       "[1] 5"
      ]
     },
     "metadata": {},
     "output_type": "display_data"
    }
   ],
   "source": [
    "25 / 5"
   ]
  },
  {
   "cell_type": "code",
   "execution_count": 13,
   "metadata": {},
   "outputs": [
    {
     "data": {
      "text/html": [
       "9"
      ],
      "text/latex": [
       "9"
      ],
      "text/markdown": [
       "9"
      ],
      "text/plain": [
       "[1] 9"
      ]
     },
     "metadata": {},
     "output_type": "display_data"
    }
   ],
   "source": [
    "3 ^ 2"
   ]
  },
  {
   "cell_type": "code",
   "execution_count": 14,
   "metadata": {},
   "outputs": [
    {
     "data": {
      "text/html": [
       "25"
      ],
      "text/latex": [
       "25"
      ],
      "text/markdown": [
       "25"
      ],
      "text/plain": [
       "[1] 25"
      ]
     },
     "metadata": {},
     "output_type": "display_data"
    }
   ],
   "source": [
    "(2 + 3) * 5"
   ]
  },
  {
   "cell_type": "markdown",
   "metadata": {},
   "source": [
    "#### 🚀 Exercise\n",
    "\n",
    "Use R to find the average of 42, 100, and 280."
   ]
  },
  {
   "cell_type": "code",
   "execution_count": 15,
   "metadata": {},
   "outputs": [
    {
     "data": {
      "text/html": [
       "140.666666666667"
      ],
      "text/latex": [
       "140.666666666667"
      ],
      "text/markdown": [
       "140.666666666667"
      ],
      "text/plain": [
       "[1] 140.6667"
      ]
     },
     "metadata": {},
     "output_type": "display_data"
    }
   ],
   "source": [
    "# Your code here!\n",
    "\n",
    "# START\n",
    "(42+100+280)/3\n",
    "# END"
   ]
  },
  {
   "cell_type": "markdown",
   "metadata": {},
   "source": [
    "### 📝  Variables\n",
    "\n",
    "**Variables** are like boxes 📦: they store things for us, and we can label them so we know what's inside.\n",
    "\n",
    "Consider the following example:\n",
    "\n",
    "> If x = 2, what is x + 5?\n",
    "\n",
    "You guessed it: the answer is 7. Let's express the same problem using `R`:"
   ]
  },
  {
   "cell_type": "code",
   "execution_count": 16,
   "metadata": {},
   "outputs": [
    {
     "data": {
      "text/html": [
       "7"
      ],
      "text/latex": [
       "7"
      ],
      "text/markdown": [
       "7"
      ],
      "text/plain": [
       "[1] 7"
      ]
     },
     "metadata": {},
     "output_type": "display_data"
    }
   ],
   "source": [
    "# If x = 2, ...\n",
    "x <- 2\n",
    "\n",
    "# ... what is x + 5?\n",
    "x + 5"
   ]
  },
  {
   "cell_type": "markdown",
   "metadata": {},
   "source": [
    "Let's break down the code in the cell above."
   ]
  },
  {
   "cell_type": "markdown",
   "metadata": {},
   "source": [
    "#### 1️⃣ First step\n",
    "\n",
    "In the first line of our code, we assigned the value `2` to the variable named `x` using `<-`."
   ]
  },
  {
   "cell_type": "code",
   "execution_count": 17,
   "metadata": {},
   "outputs": [],
   "source": [
    "# If x = 2, ...\n",
    "x <- 2"
   ]
  },
  {
   "cell_type": "markdown",
   "metadata": {},
   "source": [
    "The assignment operator (`<-`) tells R \"Take the variable on the *_left_* of the equal sign, and give it the value of the thing on the *_right_*.\"\n",
    "\n",
    "> 🔎 The equal sign ( `=` ) also works for assignment, but it is an `R` convention to use `<-`.\n",
    "\n",
    "If you ever run a cell containing just a variable, `R` will print the value of that variable:"
   ]
  },
  {
   "cell_type": "code",
   "execution_count": 18,
   "metadata": {},
   "outputs": [
    {
     "data": {
      "text/html": [
       "2"
      ],
      "text/latex": [
       "2"
      ],
      "text/markdown": [
       "2"
      ],
      "text/plain": [
       "[1] 2"
      ]
     },
     "metadata": {},
     "output_type": "display_data"
    }
   ],
   "source": [
    "x"
   ]
  },
  {
   "cell_type": "markdown",
   "metadata": {},
   "source": [
    "You can also force R to print the value of the variable with `print`:"
   ]
  },
  {
   "cell_type": "code",
   "execution_count": 19,
   "metadata": {},
   "outputs": [
    {
     "name": "stdout",
     "output_type": "stream",
     "text": [
      "[1] 2\n"
     ]
    }
   ],
   "source": [
    "print(x)"
   ]
  },
  {
   "cell_type": "markdown",
   "metadata": {},
   "source": [
    "❓ Why is there a `[1]` next to the output? Don't worry for now, we'll learn soon!"
   ]
  },
  {
   "cell_type": "markdown",
   "metadata": {},
   "source": [
    "#### 2️⃣ Second step\n",
    "\n",
    "In the second line of our code, we added `5` to our variable `x`, which we initialized with the value `2`.\n",
    "\n",
    "`R` will also print the value of simple expressions in their own cell:"
   ]
  },
  {
   "cell_type": "code",
   "execution_count": 57,
   "metadata": {},
   "outputs": [
    {
     "data": {
      "text/html": [
       "7"
      ],
      "text/latex": [
       "7"
      ],
      "text/markdown": [
       "7"
      ],
      "text/plain": [
       "[1] 7"
      ]
     },
     "metadata": {},
     "output_type": "display_data"
    }
   ],
   "source": [
    "x + 5"
   ]
  },
  {
   "cell_type": "markdown",
   "metadata": {},
   "source": [
    "❗❗**Important note**❗❗: After running the cell above, **the value of `x` is still 2, not 7.**\n",
    "\n",
    "Unless we use `<-` or `=` to assign a new value to `x`, it will remain at 2:"
   ]
  },
  {
   "cell_type": "code",
   "execution_count": 59,
   "metadata": {},
   "outputs": [
    {
     "data": {
      "text/html": [
       "2"
      ],
      "text/latex": [
       "2"
      ],
      "text/markdown": [
       "2"
      ],
      "text/plain": [
       "[1] 2"
      ]
     },
     "metadata": {},
     "output_type": "display_data"
    }
   ],
   "source": [
    "x"
   ]
  },
  {
   "cell_type": "markdown",
   "metadata": {},
   "source": [
    "To update the value of a variable, we can use `<-`.\n",
    "\n",
    "For example, here's how you could increase the value of `x` by `10`:"
   ]
  },
  {
   "cell_type": "code",
   "execution_count": 57,
   "metadata": {},
   "outputs": [
    {
     "data": {
      "text/html": [
       "12"
      ],
      "text/latex": [
       "12"
      ],
      "text/markdown": [
       "12"
      ],
      "text/plain": [
       "[1] 12"
      ]
     },
     "metadata": {},
     "output_type": "display_data"
    }
   ],
   "source": [
    "x <- x + 10\n",
    "x"
   ]
  },
  {
   "cell_type": "markdown",
   "metadata": {},
   "source": [
    "`R` first solves `x + 10` to get `12`, and then it overwrites `x` with `12`."
   ]
  },
  {
   "cell_type": "markdown",
   "metadata": {},
   "source": [
    "### 📝 Vectors\n",
    "\n",
    "A **vector** is a sequence of things.\n",
    "\n",
    "For example, we can have a vector of consecutive integers:"
   ]
  },
  {
   "cell_type": "code",
   "execution_count": 64,
   "metadata": {},
   "outputs": [
    {
     "data": {
      "text/html": [
       "<ol class=list-inline>\n",
       "\t<li>5</li>\n",
       "\t<li>6</li>\n",
       "\t<li>7</li>\n",
       "\t<li>8</li>\n",
       "\t<li>9</li>\n",
       "\t<li>10</li>\n",
       "</ol>\n"
      ],
      "text/latex": [
       "\\begin{enumerate*}\n",
       "\\item 5\n",
       "\\item 6\n",
       "\\item 7\n",
       "\\item 8\n",
       "\\item 9\n",
       "\\item 10\n",
       "\\end{enumerate*}\n"
      ],
      "text/markdown": [
       "1. 5\n",
       "2. 6\n",
       "3. 7\n",
       "4. 8\n",
       "5. 9\n",
       "6. 10\n",
       "\n",
       "\n"
      ],
      "text/plain": [
       "[1]  5  6  7  8  9 10"
      ]
     },
     "metadata": {},
     "output_type": "display_data"
    }
   ],
   "source": [
    "5:10"
   ]
  },
  {
   "cell_type": "markdown",
   "metadata": {},
   "source": [
    "We can also use `c()` to create vectors.\n",
    "\n",
    "> 🔎 The \"c\" in `c()` stands for **concatenate**.\n"
   ]
  },
  {
   "cell_type": "code",
   "execution_count": 66,
   "metadata": {},
   "outputs": [
    {
     "data": {
      "text/html": [
       "<ol class=list-inline>\n",
       "\t<li>10</li>\n",
       "\t<li>100</li>\n",
       "\t<li>1000</li>\n",
       "</ol>\n"
      ],
      "text/latex": [
       "\\begin{enumerate*}\n",
       "\\item 10\n",
       "\\item 100\n",
       "\\item 1000\n",
       "\\end{enumerate*}\n"
      ],
      "text/markdown": [
       "1. 10\n",
       "2. 100\n",
       "3. 1000\n",
       "\n",
       "\n"
      ],
      "text/plain": [
       "[1]   10  100 1000"
      ]
     },
     "metadata": {},
     "output_type": "display_data"
    }
   ],
   "source": [
    "c(10, 100, 1000)"
   ]
  },
  {
   "cell_type": "markdown",
   "metadata": {},
   "source": [
    "We can assign vectors to variables too:"
   ]
  },
  {
   "cell_type": "code",
   "execution_count": 21,
   "metadata": {},
   "outputs": [
    {
     "data": {
      "text/html": [
       "<style>\n",
       ".list-inline {list-style: none; margin:0; padding: 0}\n",
       ".list-inline>li {display: inline-block}\n",
       ".list-inline>li:not(:last-child)::after {content: \"\\00b7\"; padding: 0 .5ex}\n",
       "</style>\n",
       "<ol class=list-inline><li>10</li><li>100</li><li>1000</li></ol>\n"
      ],
      "text/latex": [
       "\\begin{enumerate*}\n",
       "\\item 10\n",
       "\\item 100\n",
       "\\item 1000\n",
       "\\end{enumerate*}\n"
      ],
      "text/markdown": [
       "1. 10\n",
       "2. 100\n",
       "3. 1000\n",
       "\n",
       "\n"
      ],
      "text/plain": [
       "[1]   10  100 1000"
      ]
     },
     "metadata": {},
     "output_type": "display_data"
    }
   ],
   "source": [
    "my_vector <- c(10, 100, 1000)\n",
    "my_vector"
   ]
  },
  {
   "cell_type": "markdown",
   "metadata": {},
   "source": [
    "We can extract **elements** from vectors using their **index**, or their place in line.\n",
    "\n",
    "> 🔎 Unlike most other programming languages, `R` is 1-indexed, not 0-indexed. So, the first element in a vector `v` is `v[1]`, not `v[0]`."
   ]
  },
  {
   "cell_type": "code",
   "execution_count": 22,
   "metadata": {},
   "outputs": [
    {
     "data": {
      "text/html": [
       "100"
      ],
      "text/latex": [
       "100"
      ],
      "text/markdown": [
       "100"
      ],
      "text/plain": [
       "[1] 100"
      ]
     },
     "metadata": {},
     "output_type": "display_data"
    }
   ],
   "source": [
    "my_vector[2]"
   ]
  },
  {
   "cell_type": "markdown",
   "metadata": {},
   "source": [
    "#### 🔎 Printing vectors \n",
    "\n",
    "If you explicitly `print` a vector, the output looks a little different:"
   ]
  },
  {
   "cell_type": "code",
   "execution_count": 23,
   "metadata": {},
   "outputs": [
    {
     "name": "stdout",
     "output_type": "stream",
     "text": [
      "[1]   10  100 1000\n"
     ]
    }
   ],
   "source": [
    "print(my_vector)"
   ]
  },
  {
   "cell_type": "markdown",
   "metadata": {},
   "source": [
    "Why is there a `[1]` on the left of the printed results? \n",
    "\n",
    "Printing a longer vector gives us a hint:"
   ]
  },
  {
   "cell_type": "code",
   "execution_count": 24,
   "metadata": {},
   "outputs": [
    {
     "name": "stdout",
     "output_type": "stream",
     "text": [
      " [1] 25 26 27 28 29 30 31 32 33 34 35 36 37 38 39 40 41 42 43 44 45 46 47 48 49\n",
      "[26] 50 51 52 53 54 55 56 57 58 59 60 61 62 63 64 65 66 67 68 69 70 71 72 73 74\n",
      "[51] 75\n"
     ]
    }
   ],
   "source": [
    "print(25:75)"
   ]
  },
  {
   "cell_type": "markdown",
   "metadata": {},
   "source": [
    "The bracketed numbers on the left side of the printed results indicate the index of the element immediately to the right.\n",
    "\n",
    "For example `[26]` indicates that `50` is the 20th element in the vector."
   ]
  },
  {
   "cell_type": "markdown",
   "metadata": {},
   "source": [
    "#### 🚀 Exercise\n",
    "\n",
    "**A. Create a vector of numbers from 15 to 140, and assign the vector to a variable called `my_vector`.**"
   ]
  },
  {
   "cell_type": "code",
   "execution_count": 25,
   "metadata": {},
   "outputs": [],
   "source": [
    "# Your code here!\n",
    "\n",
    "# START\n",
    "my_vector <- 15:140\n",
    "# END"
   ]
  },
  {
   "cell_type": "markdown",
   "metadata": {},
   "source": [
    "**B. Find the difference between the 30th and 100th values of `my_vector`.**"
   ]
  },
  {
   "cell_type": "code",
   "execution_count": 26,
   "metadata": {},
   "outputs": [
    {
     "data": {
      "text/html": [
       "70"
      ],
      "text/latex": [
       "70"
      ],
      "text/markdown": [
       "70"
      ],
      "text/plain": [
       "[1] 70"
      ]
     },
     "metadata": {},
     "output_type": "display_data"
    }
   ],
   "source": [
    "# Your code here!\n",
    "\n",
    "# START\n",
    "my_vector[100] - my_vector[30]\n",
    "# END"
   ]
  },
  {
   "cell_type": "markdown",
   "metadata": {},
   "source": [
    "### ⏭️ Optional extension problem\n",
    "\n",
    "Find the 57th even number between 1347 and 2124. "
   ]
  },
  {
   "cell_type": "code",
   "execution_count": 27,
   "metadata": {},
   "outputs": [
    {
     "data": {
      "text/html": [
       "1460"
      ],
      "text/latex": [
       "1460"
      ],
      "text/markdown": [
       "1460"
      ],
      "text/plain": [
       "[1] 1460"
      ]
     },
     "metadata": {},
     "output_type": "display_data"
    }
   ],
   "source": [
    "# Your code here!\n",
    "\n",
    "# START\n",
    "seq(1348, 2124, by=2)[57]\n",
    "# END"
   ]
  },
  {
   "cell_type": "markdown",
   "metadata": {},
   "source": [
    "### 📝 Functions\n",
    "\n",
    "If you've taken algebra, you've already seen functions! For example, this function `f` takes the square root of its input:\n",
    "\n",
    "> $f(x) = \\sqrt{x}$\n",
    ">\n",
    "> $f(25) = \\sqrt{25} = 5$"
   ]
  },
  {
   "cell_type": "markdown",
   "metadata": {},
   "source": [
    "<img src=\"img/function-machine.svg\" width=200 align=\"left\"/>"
   ]
  },
  {
   "cell_type": "markdown",
   "metadata": {},
   "source": [
    "R also has a square root function called `sqrt`. \n",
    "\n",
    "To use a function in R, we write the name of the function, and then put its input in parentheses. \n",
    "\n",
    "> 🔎 The output of a function is called its **return value**. "
   ]
  },
  {
   "cell_type": "code",
   "execution_count": 28,
   "metadata": {},
   "outputs": [
    {
     "data": {
      "text/html": [
       "5"
      ],
      "text/latex": [
       "5"
      ],
      "text/markdown": [
       "5"
      ],
      "text/plain": [
       "[1] 5"
      ]
     },
     "metadata": {},
     "output_type": "display_data"
    }
   ],
   "source": [
    "sqrt(25)"
   ]
  },
  {
   "cell_type": "markdown",
   "metadata": {},
   "source": [
    "You may have noticed that we used this function notation quite a lot already. \n",
    "\n",
    "Here are some of the functions you have already used:\n",
    "- `sample`: makes random draws from a vector\n",
    "- `print`: prints its input "
   ]
  },
  {
   "cell_type": "markdown",
   "metadata": {},
   "source": [
    "💡 There are *many* other functions in R, and you can even write your own functions! \n",
    "\n",
    "Here are some examples of functions that you can use:\n",
    "- `sum`: Adds up all of the numbers in a vector\n",
    "- `mean`: Finds the average of the numbers in a vector\n",
    "- `length`: Finds the total number of elements in a vector.\n",
    "- `max`: Finds the maximum value in a vector\n",
    "- `min`: Finds the minimum value in a vector"
   ]
  },
  {
   "cell_type": "markdown",
   "metadata": {},
   "source": [
    "### 🚀 Exercise\n",
    "\n",
    "**A. Find the sum of all the numbers from 1 to 100 using `sum`.**"
   ]
  },
  {
   "cell_type": "code",
   "execution_count": 71,
   "metadata": {},
   "outputs": [
    {
     "data": {
      "text/html": [
       "5050"
      ],
      "text/latex": [
       "5050"
      ],
      "text/markdown": [
       "5050"
      ],
      "text/plain": [
       "[1] 5050"
      ]
     },
     "metadata": {},
     "output_type": "display_data"
    }
   ],
   "source": [
    "# Your code here!\n",
    "\n",
    "# START\n",
    "sum(1:100)\n",
    "# END"
   ]
  },
  {
   "cell_type": "markdown",
   "metadata": {},
   "source": [
    "**B. Find the average of all the numbers from 1 to 100 using `mean`.**"
   ]
  },
  {
   "cell_type": "code",
   "execution_count": 29,
   "metadata": {},
   "outputs": [
    {
     "data": {
      "text/html": [
       "50.5"
      ],
      "text/latex": [
       "50.5"
      ],
      "text/markdown": [
       "50.5"
      ],
      "text/plain": [
       "[1] 50.5"
      ]
     },
     "metadata": {},
     "output_type": "display_data"
    }
   ],
   "source": [
    "# Your code here!\n",
    "\n",
    "# START\n",
    "mean(1:100)\n",
    "# END"
   ]
  },
  {
   "cell_type": "markdown",
   "metadata": {},
   "source": [
    "### 📝 Multi-argument functions\n",
    "\n",
    "Functions like `print` only need one input, or **argument**. However, functions can have more than one argument. \n",
    "\n",
    "For example, this function `f` adds its two arguments, x and y:\n",
    "\n",
    "> f(x, y) = x + y\n",
    ">\n",
    "> f(2, 3) = 2 + 3 = 5\n",
    "\n",
    "You've also already used a multi-argument function in R: `sample`\n",
    "\n",
    "`sample` takes three arguments:\n",
    "\n",
    "1. A vector of numbers to sample from\n",
    "2. How many numbers to sample\n",
    "3. Whether or not we can reuse numbers after sampling them"
   ]
  },
  {
   "cell_type": "code",
   "execution_count": 73,
   "metadata": {
    "tags": []
   },
   "outputs": [
    {
     "data": {
      "text/html": [
       "<ol class=list-inline>\n",
       "\t<li>3</li>\n",
       "\t<li>1</li>\n",
       "\t<li>2</li>\n",
       "\t<li>3</li>\n",
       "\t<li>5</li>\n",
       "</ol>\n"
      ],
      "text/latex": [
       "\\begin{enumerate*}\n",
       "\\item 3\n",
       "\\item 1\n",
       "\\item 2\n",
       "\\item 3\n",
       "\\item 5\n",
       "\\end{enumerate*}\n"
      ],
      "text/markdown": [
       "1. 3\n",
       "2. 1\n",
       "3. 2\n",
       "4. 3\n",
       "5. 5\n",
       "\n",
       "\n"
      ],
      "text/plain": [
       "[1] 3 1 2 3 5"
      ]
     },
     "metadata": {},
     "output_type": "display_data"
    }
   ],
   "source": [
    "sample(1:10, 5, replace = TRUE)"
   ]
  },
  {
   "cell_type": "markdown",
   "metadata": {},
   "source": [
    "## 📝 Back to the birthday problem: Finding duplicates"
   ]
  },
  {
   "cell_type": "markdown",
   "metadata": {},
   "source": [
    "The code below defines a new function, `has_duplicate`.\n",
    "\n",
    "> `has_duplicate` returns `TRUE` if a vector contains any duplicate values, and FALSE otherwise.\n"
   ]
  },
  {
   "cell_type": "code",
   "execution_count": 30,
   "metadata": {},
   "outputs": [],
   "source": [
    "has_duplicate <- function(v) {\n",
    "    any(duplicated(v))\n",
    "}"
   ]
  },
  {
   "cell_type": "markdown",
   "metadata": {},
   "source": [
    "Make sure to run the cell above, and then run `has_duplicate` in the cells below."
   ]
  },
  {
   "cell_type": "code",
   "execution_count": 31,
   "metadata": {},
   "outputs": [
    {
     "data": {
      "text/html": [
       "<style>\n",
       ".list-inline {list-style: none; margin:0; padding: 0}\n",
       ".list-inline>li {display: inline-block}\n",
       ".list-inline>li:not(:last-child)::after {content: \"\\00b7\"; padding: 0 .5ex}\n",
       "</style>\n",
       "<ol class=list-inline><li>1</li><li>1</li><li>2</li><li>1</li><li>2</li></ol>\n"
      ],
      "text/latex": [
       "\\begin{enumerate*}\n",
       "\\item 1\n",
       "\\item 1\n",
       "\\item 2\n",
       "\\item 1\n",
       "\\item 2\n",
       "\\end{enumerate*}\n"
      ],
      "text/markdown": [
       "1. 1\n",
       "2. 1\n",
       "3. 2\n",
       "4. 1\n",
       "5. 2\n",
       "\n",
       "\n"
      ],
      "text/plain": [
       "[1] 1 1 2 1 2"
      ]
     },
     "metadata": {},
     "output_type": "display_data"
    }
   ],
   "source": [
    "vector_a <- sample(1:3, 5, replace = TRUE)\n",
    "vector_a"
   ]
  },
  {
   "cell_type": "code",
   "execution_count": 32,
   "metadata": {},
   "outputs": [
    {
     "data": {
      "text/html": [
       "TRUE"
      ],
      "text/latex": [
       "TRUE"
      ],
      "text/markdown": [
       "TRUE"
      ],
      "text/plain": [
       "[1] TRUE"
      ]
     },
     "metadata": {},
     "output_type": "display_data"
    }
   ],
   "source": [
    "has_duplicate(vector_a)"
   ]
  },
  {
   "cell_type": "code",
   "execution_count": 33,
   "metadata": {},
   "outputs": [
    {
     "data": {
      "text/html": [
       "<style>\n",
       ".list-inline {list-style: none; margin:0; padding: 0}\n",
       ".list-inline>li {display: inline-block}\n",
       ".list-inline>li:not(:last-child)::after {content: \"\\00b7\"; padding: 0 .5ex}\n",
       "</style>\n",
       "<ol class=list-inline><li>7</li><li>10</li><li>3</li><li>9</li><li>5</li></ol>\n"
      ],
      "text/latex": [
       "\\begin{enumerate*}\n",
       "\\item 7\n",
       "\\item 10\n",
       "\\item 3\n",
       "\\item 9\n",
       "\\item 5\n",
       "\\end{enumerate*}\n"
      ],
      "text/markdown": [
       "1. 7\n",
       "2. 10\n",
       "3. 3\n",
       "4. 9\n",
       "5. 5\n",
       "\n",
       "\n"
      ],
      "text/plain": [
       "[1]  7 10  3  9  5"
      ]
     },
     "metadata": {},
     "output_type": "display_data"
    }
   ],
   "source": [
    "vector_b <- sample(1:10, 5, replace = FALSE)\n",
    "vector_b"
   ]
  },
  {
   "cell_type": "code",
   "execution_count": 34,
   "metadata": {},
   "outputs": [
    {
     "data": {
      "text/html": [
       "FALSE"
      ],
      "text/latex": [
       "FALSE"
      ],
      "text/markdown": [
       "FALSE"
      ],
      "text/plain": [
       "[1] FALSE"
      ]
     },
     "metadata": {},
     "output_type": "display_data"
    }
   ],
   "source": [
    "has_duplicate(vector_b)"
   ]
  },
  {
   "cell_type": "markdown",
   "metadata": {},
   "source": [
    "### 🚀 Exercise\n",
    "\n",
    "**Generate a vector of 60 random birthdays, and determine whether the vector has any duplicates.**"
   ]
  },
  {
   "cell_type": "code",
   "execution_count": 35,
   "metadata": {},
   "outputs": [
    {
     "data": {
      "text/html": [
       "TRUE"
      ],
      "text/latex": [
       "TRUE"
      ],
      "text/markdown": [
       "TRUE"
      ],
      "text/plain": [
       "[1] TRUE"
      ]
     },
     "metadata": {},
     "output_type": "display_data"
    }
   ],
   "source": [
    "# Your code here!\n",
    "\n",
    "# START\n",
    "has_duplicate(sample(1:366, 60, replace = TRUE))\n",
    "# END"
   ]
  },
  {
   "cell_type": "markdown",
   "metadata": {
    "tags": []
   },
   "source": [
    "### 📝 Counting pairs\n",
    "\n",
    "The code below defines another function, `num_pairs`.\n",
    "\n",
    "`num_pairs` returns the number of pairs that can formed with duplicated values.\n",
    "\n",
    "> In math speak, you can form $\\binom{n}{2}$ pairs from $n$ values.\n",
    ">\n",
    "> $\\binom{n}{2} = \\frac{n!}{2!(n - 2)!}$\n",
    "\n",
    "For example, the vector `c(1, 2, 3, 3)` has two 3s, so `num_pairs` should return $\\binom{2}{2} = 1$. In other words, we can only make one pair of identical numbers.\n",
    "\n",
    "The vector `c(1, 2, 3, 3, 3, 3)` has four 3s, so `num_pairs` should return $\\binom{4}{2} = 6$.\n",
    "\n",
    "The vector `c(1, 2, 3, 4, 5, 5, 5, 6, 6)` has three 5s and two 6s, so `num_pairs` should return $\\binom{3}{2} + \\binom{2}{2} = 4$."
   ]
  },
  {
   "cell_type": "code",
   "execution_count": 38,
   "metadata": {},
   "outputs": [],
   "source": [
    "# don't worry at all about studying/understanding this specific function!\n",
    "# But, if you're looking for an extension problem, try to figure out how this function works.\n",
    "num_pairs <- function(v) {\n",
    "    duplicated_indices <- duplicated(v)\n",
    "    duplicated_values <- v[duplicated_indices]\n",
    "    duplicated_counts <- table(duplicated_values) + 1\n",
    "    sum(choose(duplicated_counts, 2))\n",
    "}"
   ]
  },
  {
   "cell_type": "code",
   "execution_count": 39,
   "metadata": {},
   "outputs": [
    {
     "data": {
      "text/html": [
       "1"
      ],
      "text/latex": [
       "1"
      ],
      "text/markdown": [
       "1"
      ],
      "text/plain": [
       "[1] 1"
      ]
     },
     "metadata": {},
     "output_type": "display_data"
    }
   ],
   "source": [
    "num_pairs(c(1, 2, 3, 3))"
   ]
  },
  {
   "cell_type": "code",
   "execution_count": 40,
   "metadata": {},
   "outputs": [
    {
     "data": {
      "text/html": [
       "6"
      ],
      "text/latex": [
       "6"
      ],
      "text/markdown": [
       "6"
      ],
      "text/plain": [
       "[1] 6"
      ]
     },
     "metadata": {},
     "output_type": "display_data"
    }
   ],
   "source": [
    "num_pairs(c(1, 2, 3, 3, 3, 3))"
   ]
  },
  {
   "cell_type": "code",
   "execution_count": 41,
   "metadata": {},
   "outputs": [
    {
     "data": {
      "text/html": [
       "4"
      ],
      "text/latex": [
       "4"
      ],
      "text/markdown": [
       "4"
      ],
      "text/plain": [
       "[1] 4"
      ]
     },
     "metadata": {},
     "output_type": "display_data"
    }
   ],
   "source": [
    "num_pairs(c(1, 2, 3, 4, 5, 5, 5, 6, 6))"
   ]
  },
  {
   "cell_type": "markdown",
   "metadata": {},
   "source": [
    "### 🚀 Exercise\n",
    "\n",
    "**Think back to the John Smith example:**\n",
    "\n",
    "> In the 2012 election, there were 141 individuals named \"John Smith\" who were born in 1970. From those 141 individuals, we can make 27 pairs with exactly the same birthday.\n",
    "\n",
    "**Generate a vector of 141 random birthdays, and determine how many duplicate pairs can be formed from elements in the vector.** Run your code repeatedly to see how the results can change due to randomness."
   ]
  },
  {
   "cell_type": "code",
   "execution_count": 42,
   "metadata": {},
   "outputs": [
    {
     "data": {
      "text/html": [
       "29"
      ],
      "text/latex": [
       "29"
      ],
      "text/markdown": [
       "29"
      ],
      "text/plain": [
       "[1] 29"
      ]
     },
     "metadata": {},
     "output_type": "display_data"
    }
   ],
   "source": [
    "# Your code here!\n",
    "\n",
    "# START\n",
    "num_pairs(sample(1:366, 141, replace = TRUE))\n",
    "# END"
   ]
  },
  {
   "cell_type": "markdown",
   "metadata": {},
   "source": [
    "### ⏭️ Optional extension Problem\n",
    "\n",
    "Generate a vector of 141 birthdays occurring over 10 years (so far, we've ignored the year). Calculate the number of pairs that can be formed."
   ]
  },
  {
   "cell_type": "code",
   "execution_count": 46,
   "metadata": {},
   "outputs": [
    {
     "data": {
      "text/html": [
       "1"
      ],
      "text/latex": [
       "1"
      ],
      "text/markdown": [
       "1"
      ],
      "text/plain": [
       "[1] 1"
      ]
     },
     "metadata": {},
     "output_type": "display_data"
    }
   ],
   "source": [
    "# Your code here!\n",
    "\n",
    "# START\n",
    "num_pairs(sample(1:(365*10), 141, replace = TRUE))\n",
    "# END"
   ]
  },
  {
   "cell_type": "markdown",
   "metadata": {},
   "source": [
    "### 📝  Repetition with `for` loops 🔁\n",
    "\n",
    "Recall the third step in our algorithm:\n",
    "\n",
    "3️⃣ We need to repeat this process over and over.\n",
    "\n",
    "The `for` loop lets us do exactly this. Here's the syntax for a `for` loop:\n",
    "\n",
    "```\n",
    "for (element in vector) { \n",
    "    perform an action\n",
    "}\n",
    "```\n",
    "\n",
    "Run the following cell to see a `for` loop in action:"
   ]
  },
  {
   "cell_type": "code",
   "execution_count": 61,
   "metadata": {},
   "outputs": [
    {
     "name": "stdout",
     "output_type": "stream",
     "text": [
      "[1] \"Hello, world!\"\n",
      "[1] \"Hello, world!\"\n",
      "[1] \"Hello, world!\"\n",
      "[1] \"Hello, world!\"\n",
      "[1] \"Hello, world!\"\n",
      "[1] \"Hello, world!\"\n",
      "[1] \"Hello, world!\"\n",
      "[1] \"Hello, world!\"\n",
      "[1] \"Hello, world!\"\n",
      "[1] \"Hello, world!\"\n"
     ]
    }
   ],
   "source": [
    "for (i in 1:10) {\n",
    "    print(\"Hello, world!\")\n",
    "}"
   ]
  },
  {
   "cell_type": "markdown",
   "metadata": {},
   "source": [
    "Uh, hi?"
   ]
  },
  {
   "cell_type": "markdown",
   "metadata": {},
   "source": [
    "Here's what's going on in the loop 🔁:"
   ]
  },
  {
   "cell_type": "markdown",
   "metadata": {},
   "source": [
    "1. `R` will iterate through each number in the vector `1:10`. The first number is `1`. \n",
    "2. So, create a variable `i` with the value 1.\n",
    "> `i <- 1`\n",
    "3. Do what's in the brackets. So, print `Hello, world!`.\n",
    "> `print(\"Hello, world!\")`\n",
    "4. Repeat the steps above for the rest of the vector.\n",
    "> `i <- 2`; `print(\"Hello, world!\")`; `i <- 3`; `print(\"Hello, world!\")`; `...` ; `i <- 10`; `print(\"Hello, world!\")`\n",
    "\n",
    "Welcome to the world of automation 🤖!\n",
    "\n",
    "With a `for` loop, we can do more than just print:"
   ]
  },
  {
   "cell_type": "code",
   "execution_count": 62,
   "metadata": {},
   "outputs": [
    {
     "name": "stdout",
     "output_type": "stream",
     "text": [
      "[1] 10  9 10  9 11\n",
      "[1]  3  8 20  3  6\n",
      "[1]  7 12  8  9 20\n"
     ]
    }
   ],
   "source": [
    "for (i in 1:3) {\n",
    "    print(sample(1:20, 5, replace = TRUE))\n",
    "}"
   ]
  },
  {
   "cell_type": "markdown",
   "metadata": {},
   "source": [
    "We can also use the `i` variable inside of our `for` loop:"
   ]
  },
  {
   "cell_type": "code",
   "execution_count": 63,
   "metadata": {},
   "outputs": [
    {
     "name": "stdout",
     "output_type": "stream",
     "text": [
      "[1] 1\n",
      "[1] 2\n",
      "[1] 3\n",
      "[1] 4\n",
      "[1] 5\n"
     ]
    }
   ],
   "source": [
    "for (i in 10:15) {\n",
    "    print(i)\n",
    "}"
   ]
  },
  {
   "cell_type": "markdown",
   "metadata": {},
   "source": [
    "## 🚀 Exercise\n",
    "\n",
    "**Using a `for` loop, print 3 vectors with each containing 60 random birthdays.**"
   ]
  },
  {
   "cell_type": "code",
   "execution_count": 49,
   "metadata": {},
   "outputs": [
    {
     "name": "stdout",
     "output_type": "stream",
     "text": [
      " [1] 347  97 336 168 313   7 291 167 364  33 224 294 124 177 234 352 314 173 138\n",
      "[20] 237 354 236 225 154 184 170 276 249 281 163  51 290  73 339  53 160  81 209\n",
      "[39] 154 339 357  95  54  70 282  63  56 108 296   2 341 142 327 207 145 347  73\n",
      "[58] 133 351  93\n",
      " [1] 199  98 165  39 293 273 102 324  38 252  32  84 290  43 181   2 282  95 111\n",
      "[20]  65 112   5 214 307  35  32 131 274 165 171 155 252 332 222 141 210 224 199\n",
      "[39]  97 271  39  19  29 261  61 346 297 203 249 177   9  24 302 234 106  75 115\n",
      "[58]  55  59  86\n",
      " [1] 194 356 157 214 344 176 252 272  66  17 362 172 140  74  12 326 249 281 216\n",
      "[20]  46 232  78 129 321 250 178  84 268 176 234 126 338 258 240 187 205 100 251\n",
      "[39]  97 212  87 244 232  40 357  86 137 102  28  42 232   3 208 219 173 111 287\n",
      "[58] 277   2 138\n"
     ]
    }
   ],
   "source": [
    "# Your code here!\n",
    "\n",
    "# START\n",
    "for (i in 1:3) {\n",
    "    print(sample(1:366, 60, replace = TRUE))\n",
    "}\n",
    "# END"
   ]
  },
  {
   "cell_type": "markdown",
   "metadata": {},
   "source": [
    "## 🚀 Exercise\n",
    "\n",
    "**Using a `for` loop and a counter, add up all the numbers from 1 to 100.**\n",
    "\n",
    "To get you started, here's how you could use a counter to count to 5:"
   ]
  },
  {
   "cell_type": "code",
   "execution_count": 19,
   "metadata": {},
   "outputs": [
    {
     "name": "stdout",
     "output_type": "stream",
     "text": [
      "[1] 1\n",
      "[1] 2\n",
      "[1] 3\n",
      "[1] 4\n",
      "[1] 5\n",
      "[1] \"Final value of counter:\"\n",
      "[1] 5\n"
     ]
    }
   ],
   "source": [
    "counter <- 0\n",
    "\n",
    "for (i in 1:5) {\n",
    "    counter <- counter + 1\n",
    "    print(counter)\n",
    "}\n",
    "\n",
    "print(\"Final value of counter:\")\n",
    "print(counter)"
   ]
  },
  {
   "cell_type": "code",
   "execution_count": 52,
   "metadata": {},
   "outputs": [
    {
     "name": "stdout",
     "output_type": "stream",
     "text": [
      "[1] 5050\n",
      "[1] 5050\n"
     ]
    }
   ],
   "source": [
    "# Your code here!\n",
    "\n",
    "# START\n",
    "counter <- 0\n",
    "\n",
    "for (i in 1:100) {\n",
    "    counter <- counter + i\n",
    "}\n",
    "\n",
    "print(counter)\n",
    "\n",
    "# check our answer\n",
    "print(sum(1:100))\n",
    "# END"
   ]
  },
  {
   "cell_type": "markdown",
   "metadata": {},
   "source": [
    "### ⏭️ Optional extension problem\n",
    "\n",
    "Use a `for` loop to print the first odd number, the sum of the first two odd numbers, the sum of the first three odd numbers, ..., all the way up to the sum of the first 10 odd numbers. \n",
    "\n",
    "Do you notice a pattern?"
   ]
  },
  {
   "cell_type": "code",
   "execution_count": 53,
   "metadata": {},
   "outputs": [
    {
     "name": "stdout",
     "output_type": "stream",
     "text": [
      "[1] 1\n",
      "[1] 4\n",
      "[1] 9\n",
      "[1] 16\n",
      "[1] 25\n",
      "[1] 36\n",
      "[1] 49\n",
      "[1] 64\n",
      "[1] 81\n",
      "[1] 100\n"
     ]
    }
   ],
   "source": [
    "# Your code here!\n",
    "\n",
    "# Note: sum(1:5) = 1 + 2 + 3 + 4 + 5\n",
    "\n",
    "# START\n",
    "numbers <- 1:10\n",
    "for (number in numbers) {\n",
    "    odd_nums <- seq(1, 2*number, by=2)\n",
    "    print(sum(odd_nums))\n",
    "}\n",
    "\n",
    "# The numbers are all perfect squares!\n",
    "\n",
    "# END"
   ]
  },
  {
   "cell_type": "markdown",
   "metadata": {},
   "source": [
    "## 🎶 Interlude: Booleans and control flow"
   ]
  },
  {
   "cell_type": "markdown",
   "metadata": {},
   "source": [
    "### 📝 Control flow with booleans, `if`, and `else`"
   ]
  },
  {
   "cell_type": "markdown",
   "metadata": {},
   "source": [
    "Booleans are a special type of variable that can take on only two possible values: `TRUE` or `FALSE`.\n",
    "\n",
    "> 🏛️ *Historical note*: Booleans are named after George Boole, a 19th century mathematician. https://en.wikipedia.org/wiki/George_Boole\n",
    "\n",
    "Booleans come in handy when you're comparing values."
   ]
  },
  {
   "cell_type": "code",
   "execution_count": 55,
   "metadata": {},
   "outputs": [
    {
     "data": {
      "text/html": [
       "TRUE"
      ],
      "text/latex": [
       "TRUE"
      ],
      "text/markdown": [
       "TRUE"
      ],
      "text/plain": [
       "[1] TRUE"
      ]
     },
     "metadata": {},
     "output_type": "display_data"
    }
   ],
   "source": [
    "10 == 10"
   ]
  },
  {
   "cell_type": "code",
   "execution_count": 56,
   "metadata": {},
   "outputs": [
    {
     "data": {
      "text/html": [
       "FALSE"
      ],
      "text/latex": [
       "FALSE"
      ],
      "text/markdown": [
       "FALSE"
      ],
      "text/plain": [
       "[1] FALSE"
      ]
     },
     "metadata": {},
     "output_type": "display_data"
    }
   ],
   "source": [
    "9 == 10"
   ]
  },
  {
   "cell_type": "markdown",
   "metadata": {},
   "source": [
    "❗❗The double equal sign ( `==` ) is different than the single equal sign ( `=` ).\n",
    "\n",
    "> While a single equal sign is used to <i>assign</i> values to arguments inside functions, a double equal sign is used to <i>compare</i> values."
   ]
  },
  {
   "cell_type": "code",
   "execution_count": 60,
   "metadata": {},
   "outputs": [
    {
     "ename": "ERROR",
     "evalue": "Error in 9 = 10: invalid (do_set) left-hand side to assignment\n",
     "output_type": "error",
     "traceback": [
      "Error in 9 = 10: invalid (do_set) left-hand side to assignment\nTraceback:\n"
     ]
    }
   ],
   "source": [
    "# this doesn't make sense! We can't assign the value 10 to the number 9.\n",
    "9 = 10"
   ]
  },
  {
   "cell_type": "markdown",
   "metadata": {},
   "source": [
    "We can also use greater than ( `>` ) and less than ( `<` ) to compare values:"
   ]
  },
  {
   "cell_type": "code",
   "execution_count": 61,
   "metadata": {},
   "outputs": [
    {
     "data": {
      "text/html": [
       "TRUE"
      ],
      "text/latex": [
       "TRUE"
      ],
      "text/markdown": [
       "TRUE"
      ],
      "text/plain": [
       "[1] TRUE"
      ]
     },
     "metadata": {},
     "output_type": "display_data"
    }
   ],
   "source": [
    "9 < 10"
   ]
  },
  {
   "cell_type": "code",
   "execution_count": 62,
   "metadata": {},
   "outputs": [
    {
     "data": {
      "text/html": [
       "FALSE"
      ],
      "text/latex": [
       "FALSE"
      ],
      "text/markdown": [
       "FALSE"
      ],
      "text/plain": [
       "[1] FALSE"
      ]
     },
     "metadata": {},
     "output_type": "display_data"
    }
   ],
   "source": [
    "10 > 10"
   ]
  },
  {
   "cell_type": "code",
   "execution_count": 63,
   "metadata": {},
   "outputs": [
    {
     "data": {
      "text/html": [
       "TRUE"
      ],
      "text/latex": [
       "TRUE"
      ],
      "text/markdown": [
       "TRUE"
      ],
      "text/plain": [
       "[1] TRUE"
      ]
     },
     "metadata": {},
     "output_type": "display_data"
    }
   ],
   "source": [
    "# <= means \"less than or equal to\", and >= means \"greater than or equal to\"\n",
    "\n",
    "10 >= 10"
   ]
  },
  {
   "cell_type": "markdown",
   "metadata": {},
   "source": [
    "### Working with `if`"
   ]
  },
  {
   "cell_type": "markdown",
   "metadata": {},
   "source": [
    "We can use `if` with booleans to control our code. Here's the **syntax**:\n",
    "\n",
    "```\n",
    "if (this statement is true) {\n",
    "    do this thing\n",
    "}\n",
    "```"
   ]
  },
  {
   "cell_type": "code",
   "execution_count": 64,
   "metadata": {},
   "outputs": [
    {
     "name": "stdout",
     "output_type": "stream",
     "text": [
      "[1] 1\n",
      "[1] 2\n",
      "[1] 3\n",
      "[1] \"Counter is now bigger than or equal to 3!\"\n",
      "[1] 4\n",
      "[1] \"Counter is now bigger than or equal to 3!\"\n",
      "[1] 5\n",
      "[1] \"Counter is now bigger than or equal to 3!\"\n"
     ]
    }
   ],
   "source": [
    "counter <- 0\n",
    "\n",
    "for (i in 1:5) {\n",
    "    counter <- counter + 1\n",
    "    \n",
    "    print(counter)\n",
    "    \n",
    "    if (counter >= 3) {\n",
    "        print(\"Counter is now bigger than or equal to 3!\")\n",
    "    }\n",
    "}"
   ]
  },
  {
   "cell_type": "markdown",
   "metadata": {},
   "source": [
    "### Adding `else` to the mix"
   ]
  },
  {
   "cell_type": "markdown",
   "metadata": {},
   "source": [
    "`else` means \"otherwise\". We can use `if` and `else` with each other to write code that follows this pattern:\n",
    "\n",
    "```\n",
    "if (this statement is true) {\n",
    "    do this thing\n",
    "}\n",
    "else {\n",
    "    do this other thing\n",
    "}\n",
    "```\n",
    "\n",
    "Here's an example. Practice reading the code line by line to understand each piece:"
   ]
  },
  {
   "cell_type": "code",
   "execution_count": 65,
   "metadata": {},
   "outputs": [
    {
     "name": "stdout",
     "output_type": "stream",
     "text": [
      "[1] 1\n",
      "[1] \"Counter is less than 3!\"\n",
      "[1] 2\n",
      "[1] \"Counter is less than 3!\"\n",
      "[1] 3\n",
      "[1] \"Counter is now bigger than or equal to 3!\"\n",
      "[1] 4\n",
      "[1] \"Counter is now bigger than or equal to 3!\"\n",
      "[1] 5\n",
      "[1] \"Counter is now bigger than or equal to 3!\"\n"
     ]
    }
   ],
   "source": [
    "counter <- 0\n",
    "\n",
    "for (i in 1:5) {\n",
    "    counter <- counter + 1\n",
    "    \n",
    "    print(counter)\n",
    "    \n",
    "    if (counter >= 3) {\n",
    "        print(\"Counter is now bigger than or equal to 3!\")\n",
    "    }\n",
    "    else {\n",
    "        print(\"Counter is less than 3!\")\n",
    "    }\n",
    "}"
   ]
  },
  {
   "cell_type": "markdown",
   "metadata": {},
   "source": [
    "### 🚀 Exercise\n",
    "\n",
    "**Write a `for` loop to count off all the numbers from 1 to 10. Print \"Bigger than 5!\" after each number that is bigger than 5.**"
   ]
  },
  {
   "cell_type": "code",
   "execution_count": 81,
   "metadata": {},
   "outputs": [
    {
     "name": "stdout",
     "output_type": "stream",
     "text": [
      "[1] 1\n",
      "[1] 2\n",
      "[1] 3\n",
      "[1] 4\n",
      "[1] 5\n",
      "[1] 6\n",
      "[1] \"Bigger than 5!\"\n",
      "[1] 7\n",
      "[1] \"Bigger than 5!\"\n",
      "[1] 8\n",
      "[1] \"Bigger than 5!\"\n",
      "[1] 9\n",
      "[1] \"Bigger than 5!\"\n",
      "[1] 10\n",
      "[1] \"Bigger than 5!\"\n"
     ]
    }
   ],
   "source": [
    "# Your code here!\n",
    "\n",
    "# START\n",
    "for (i in 1:10) {\n",
    "    print(i)\n",
    "    \n",
    "    if (i > 5) {\n",
    "        print(\"Bigger than 5!\")\n",
    "    }\n",
    "}\n",
    "# END"
   ]
  },
  {
   "cell_type": "markdown",
   "metadata": {},
   "source": [
    "### 🚀 Exercise\n",
    "\n",
    "**Generate a vector of 20 birthdays, and print the birthdays that fall in the first half of the year.**"
   ]
  },
  {
   "cell_type": "code",
   "execution_count": 68,
   "metadata": {},
   "outputs": [
    {
     "name": "stdout",
     "output_type": "stream",
     "text": [
      "[1] 25\n",
      "[1] 103\n",
      "[1] 156\n",
      "[1] 119\n",
      "[1] 164\n",
      "[1] 13\n",
      "[1] 40\n",
      "[1] 124\n",
      "[1] 166\n",
      "[1] 169\n",
      "[1] 6\n",
      "[1] 180\n",
      "[1] 169\n"
     ]
    }
   ],
   "source": [
    "# Your code here!\n",
    "\n",
    "# START\n",
    "birthdays <- sample(1:366, 20, replace = TRUE)\n",
    "\n",
    "for (birthday in birthdays) {\n",
    "    if (birthday < 183) {\n",
    "        print(birthday)\n",
    "    }\n",
    "}\n",
    "# END"
   ]
  },
  {
   "cell_type": "markdown",
   "metadata": {},
   "source": [
    "## Back to the birthday problem: Translating our algorithm into code"
   ]
  },
  {
   "cell_type": "markdown",
   "metadata": {},
   "source": [
    "We're ready to come back to our algorithm:\n",
    "\n",
    "> 1. We need a room of 60 people, and we need to know their birthdays.\n",
    "> 2. We need to check whether two people in that room share a birthday.\n",
    "> 3. We need to repeat this process over and over.\n",
    "> 4. We need to figure out how frequently two or more people shared a birthday."
   ]
  },
  {
   "cell_type": "markdown",
   "metadata": {},
   "source": [
    "### 🚀 Exercise\n",
    "\n",
    "**Translate our algorithm into code to solve the birthday problem!** 🙀\n",
    "\n",
    "How often will at least two people share a birthday in a room of 60 people? Are you surprised with the result?"
   ]
  },
  {
   "cell_type": "code",
   "execution_count": 70,
   "metadata": {},
   "outputs": [
    {
     "data": {
      "text/html": [
       "0.994"
      ],
      "text/latex": [
       "0.994"
      ],
      "text/markdown": [
       "0.994"
      ],
      "text/plain": [
       "[1] 0.994"
      ]
     },
     "metadata": {},
     "output_type": "display_data"
    }
   ],
   "source": [
    "# Your code here!\n",
    "\n",
    "# START\n",
    "# This is the total number of birthday vectors we will generate\n",
    "n <- 1000\n",
    "\n",
    "# This is a counter to keep track of how many vectors had at least one duplicate birthday\n",
    "n_with_duplicates <- 0\n",
    "\n",
    "# Each time we see a vector with at least one duplicate, we should increment our counter\n",
    "for (i in 1:n) {\n",
    "    \n",
    "    if (has_duplicate(sample(1:366, 60, replace = TRUE))) {\n",
    "        \n",
    "        n_with_duplicates <- n_with_duplicates + 1\n",
    "    }\n",
    "    \n",
    "}\n",
    "\n",
    "# Fraction of vectors with at least one duplicate\n",
    "n_with_duplicates / n\n",
    "# END"
   ]
  },
  {
   "cell_type": "markdown",
   "metadata": {},
   "source": [
    "### 🚀 Additional exercises\n",
    "\n",
    "**A. Decrease the number of birthdays we generate in each birthday vector, and re-run the code several times. What happens to the fraction of vectors with duplicates?**"
   ]
  },
  {
   "cell_type": "code",
   "execution_count": 71,
   "metadata": {},
   "outputs": [],
   "source": [
    "# Your code here!\n"
   ]
  },
  {
   "cell_type": "markdown",
   "metadata": {},
   "source": [
    "**B. Decrease the number of birthday vectors to 100, and re-run the code several times. What happens to the results?**"
   ]
  },
  {
   "cell_type": "code",
   "execution_count": null,
   "metadata": {},
   "outputs": [],
   "source": [
    "# Your code here!\n"
   ]
  },
  {
   "cell_type": "markdown",
   "metadata": {},
   "source": [
    "**C. Increase the number of birthday vectors to 100,000, and re-run the code several times. What happens to the results?**"
   ]
  },
  {
   "cell_type": "code",
   "execution_count": null,
   "metadata": {},
   "outputs": [],
   "source": [
    "# Your code here!\n"
   ]
  },
  {
   "cell_type": "markdown",
   "metadata": {},
   "source": [
    "**D. How many birthdays should be in each vector for an approximately 50% chance of a match?**"
   ]
  },
  {
   "cell_type": "code",
   "execution_count": null,
   "metadata": {},
   "outputs": [],
   "source": [
    "# Your code here!\n"
   ]
  },
  {
   "cell_type": "markdown",
   "metadata": {},
   "source": [
    "## Circling back to double voting\n",
    "\n",
    "Remember our original problem:\n",
    "\n",
    "> In the 2012 election, there were 141 individuals named \"John Smith\" who were born in 1970, and 27 pairs had exactly the same birthday.\n",
    "\n",
    "## 🚀 Exercise\n",
    "\n",
    "**Modify the simulation code to calculate the average number of birthday duplicates in 1,000 vectors of 141 individuals.**\n",
    "\n",
    "How does your answer compare to the 27 birthday pairs we found in the real data?"
   ]
  },
  {
   "cell_type": "code",
   "execution_count": 74,
   "metadata": {},
   "outputs": [
    {
     "data": {
      "text/html": [
       "27.007"
      ],
      "text/latex": [
       "27.007"
      ],
      "text/markdown": [
       "27.007"
      ],
      "text/plain": [
       "[1] 27.007"
      ]
     },
     "metadata": {},
     "output_type": "display_data"
    }
   ],
   "source": [
    "# Your code here!\n",
    "\n",
    "# START\n",
    "n <- 1000\n",
    "\n",
    "n_pairs <- 0\n",
    "\n",
    "for (i in 1:n) {\n",
    "    \n",
    "    n_pairs <- n_pairs + num_pairs(sample(1:366, 141, replace = TRUE))\n",
    "    \n",
    "}\n",
    "\n",
    "n_pairs / n\n",
    "# END"
   ]
  },
  {
   "cell_type": "markdown",
   "metadata": {},
   "source": [
    "### 📝 Extension topic: Vectorized functions\n",
    "\n",
    "Often, we'll want to apply the same function to every element in a vector. Rather than use a `for` loop, it is more efficient to use a vectorized function, such as `replicate` or `map`. \n",
    "\n",
    "> 🔎 Vectorization leverages parallel processing, which allows your computer to tackle multiple computations at the same time.\n",
    "\n",
    "Here's how `replicate` works:\n",
    "\n",
    "> `replicate(number of times to perform an action, the action)`"
   ]
  },
  {
   "cell_type": "markdown",
   "metadata": {},
   "source": [
    "### ⏭️ Optional extension problem\n",
    "\n",
    "**Use `replicate` to generate 3 vectors of 10 random birthdays.**"
   ]
  },
  {
   "cell_type": "code",
   "execution_count": 74,
   "metadata": {},
   "outputs": [
    {
     "data": {
      "text/html": [
       "<table>\n",
       "<caption>A matrix: 10 × 5 of type int</caption>\n",
       "<tbody>\n",
       "\t<tr><td>226</td><td>135</td><td>158</td><td>333</td><td> 70</td></tr>\n",
       "\t<tr><td>110</td><td> 44</td><td>203</td><td>135</td><td>271</td></tr>\n",
       "\t<tr><td>112</td><td>157</td><td>173</td><td>175</td><td> 85</td></tr>\n",
       "\t<tr><td> 81</td><td>175</td><td>346</td><td>  4</td><td>162</td></tr>\n",
       "\t<tr><td> 27</td><td>170</td><td>200</td><td>245</td><td> 71</td></tr>\n",
       "\t<tr><td>291</td><td>201</td><td>251</td><td>140</td><td>183</td></tr>\n",
       "\t<tr><td>  5</td><td>126</td><td> 55</td><td>161</td><td>333</td></tr>\n",
       "\t<tr><td> 54</td><td>314</td><td>111</td><td>355</td><td>149</td></tr>\n",
       "\t<tr><td>113</td><td> 62</td><td>234</td><td>  8</td><td>112</td></tr>\n",
       "\t<tr><td>152</td><td>344</td><td> 35</td><td> 81</td><td> 15</td></tr>\n",
       "</tbody>\n",
       "</table>\n"
      ],
      "text/latex": [
       "A matrix: 10 × 5 of type int\n",
       "\\begin{tabular}{lllll}\n",
       "\t 226 & 135 & 158 & 333 &  70\\\\\n",
       "\t 110 &  44 & 203 & 135 & 271\\\\\n",
       "\t 112 & 157 & 173 & 175 &  85\\\\\n",
       "\t  81 & 175 & 346 &   4 & 162\\\\\n",
       "\t  27 & 170 & 200 & 245 &  71\\\\\n",
       "\t 291 & 201 & 251 & 140 & 183\\\\\n",
       "\t   5 & 126 &  55 & 161 & 333\\\\\n",
       "\t  54 & 314 & 111 & 355 & 149\\\\\n",
       "\t 113 &  62 & 234 &   8 & 112\\\\\n",
       "\t 152 & 344 &  35 &  81 &  15\\\\\n",
       "\\end{tabular}\n"
      ],
      "text/markdown": [
       "\n",
       "A matrix: 10 × 5 of type int\n",
       "\n",
       "| 226 | 135 | 158 | 333 |  70 |\n",
       "| 110 |  44 | 203 | 135 | 271 |\n",
       "| 112 | 157 | 173 | 175 |  85 |\n",
       "|  81 | 175 | 346 |   4 | 162 |\n",
       "|  27 | 170 | 200 | 245 |  71 |\n",
       "| 291 | 201 | 251 | 140 | 183 |\n",
       "|   5 | 126 |  55 | 161 | 333 |\n",
       "|  54 | 314 | 111 | 355 | 149 |\n",
       "| 113 |  62 | 234 |   8 | 112 |\n",
       "| 152 | 344 |  35 |  81 |  15 |\n",
       "\n"
      ],
      "text/plain": [
       "      [,1] [,2] [,3] [,4] [,5]\n",
       " [1,] 226  135  158  333   70 \n",
       " [2,] 110   44  203  135  271 \n",
       " [3,] 112  157  173  175   85 \n",
       " [4,]  81  175  346    4  162 \n",
       " [5,]  27  170  200  245   71 \n",
       " [6,] 291  201  251  140  183 \n",
       " [7,]   5  126   55  161  333 \n",
       " [8,]  54  314  111  355  149 \n",
       " [9,] 113   62  234    8  112 \n",
       "[10,] 152  344   35   81   15 "
      ]
     },
     "metadata": {},
     "output_type": "display_data"
    }
   ],
   "source": [
    "# Your code here!\n",
    "\n",
    "# START\n",
    "replicate(3, sample(1:366, 10, replace = TRUE))\n",
    "# END"
   ]
  },
  {
   "cell_type": "markdown",
   "metadata": {},
   "source": [
    "### ⏭️ Optional extension problem"
   ]
  },
  {
   "cell_type": "markdown",
   "metadata": {},
   "source": [
    "`map` is a function from the `purrr` package that is more powerful than `replicate`. You can read more about `map` [at this link](https://purrr.tidyverse.org/reference/map.html).\n",
    "\n",
    "> `purrr` is part of the `tidyverse`, a set of popular `R` packages used for data analysis. We will learn more about the `tidyverse` in a later tutorial. \n",
    "\n",
    "Use `purrr::map` to generate 3 vectors of 10 random birthdays."
   ]
  },
  {
   "cell_type": "code",
   "execution_count": 84,
   "metadata": {},
   "outputs": [
    {
     "data": {
      "text/html": [
       "<ol>\n",
       "\t<li><style>\n",
       ".list-inline {list-style: none; margin:0; padding: 0}\n",
       ".list-inline>li {display: inline-block}\n",
       ".list-inline>li:not(:last-child)::after {content: \"\\00b7\"; padding: 0 .5ex}\n",
       "</style>\n",
       "<ol class=list-inline><li>282</li><li>31</li><li>228</li><li>360</li><li>136</li><li>277</li><li>74</li><li>144</li><li>28</li><li>85</li></ol>\n",
       "</li>\n",
       "\t<li><style>\n",
       ".list-inline {list-style: none; margin:0; padding: 0}\n",
       ".list-inline>li {display: inline-block}\n",
       ".list-inline>li:not(:last-child)::after {content: \"\\00b7\"; padding: 0 .5ex}\n",
       "</style>\n",
       "<ol class=list-inline><li>9</li><li>193</li><li>120</li><li>42</li><li>64</li><li>334</li><li>112</li><li>311</li><li>15</li><li>162</li></ol>\n",
       "</li>\n",
       "\t<li><style>\n",
       ".list-inline {list-style: none; margin:0; padding: 0}\n",
       ".list-inline>li {display: inline-block}\n",
       ".list-inline>li:not(:last-child)::after {content: \"\\00b7\"; padding: 0 .5ex}\n",
       "</style>\n",
       "<ol class=list-inline><li>282</li><li>55</li><li>220</li><li>111</li><li>81</li><li>222</li><li>123</li><li>264</li><li>244</li><li>242</li></ol>\n",
       "</li>\n",
       "</ol>\n"
      ],
      "text/latex": [
       "\\begin{enumerate}\n",
       "\\item \\begin{enumerate*}\n",
       "\\item 282\n",
       "\\item 31\n",
       "\\item 228\n",
       "\\item 360\n",
       "\\item 136\n",
       "\\item 277\n",
       "\\item 74\n",
       "\\item 144\n",
       "\\item 28\n",
       "\\item 85\n",
       "\\end{enumerate*}\n",
       "\n",
       "\\item \\begin{enumerate*}\n",
       "\\item 9\n",
       "\\item 193\n",
       "\\item 120\n",
       "\\item 42\n",
       "\\item 64\n",
       "\\item 334\n",
       "\\item 112\n",
       "\\item 311\n",
       "\\item 15\n",
       "\\item 162\n",
       "\\end{enumerate*}\n",
       "\n",
       "\\item \\begin{enumerate*}\n",
       "\\item 282\n",
       "\\item 55\n",
       "\\item 220\n",
       "\\item 111\n",
       "\\item 81\n",
       "\\item 222\n",
       "\\item 123\n",
       "\\item 264\n",
       "\\item 244\n",
       "\\item 242\n",
       "\\end{enumerate*}\n",
       "\n",
       "\\end{enumerate}\n"
      ],
      "text/markdown": [
       "1. 1. 282\n",
       "2. 31\n",
       "3. 228\n",
       "4. 360\n",
       "5. 136\n",
       "6. 277\n",
       "7. 74\n",
       "8. 144\n",
       "9. 28\n",
       "10. 85\n",
       "\n",
       "\n",
       "\n",
       "2. 1. 9\n",
       "2. 193\n",
       "3. 120\n",
       "4. 42\n",
       "5. 64\n",
       "6. 334\n",
       "7. 112\n",
       "8. 311\n",
       "9. 15\n",
       "10. 162\n",
       "\n",
       "\n",
       "\n",
       "3. 1. 282\n",
       "2. 55\n",
       "3. 220\n",
       "4. 111\n",
       "5. 81\n",
       "6. 222\n",
       "7. 123\n",
       "8. 264\n",
       "9. 244\n",
       "10. 242\n",
       "\n",
       "\n",
       "\n",
       "\n",
       "\n"
      ],
      "text/plain": [
       "[[1]]\n",
       " [1] 282  31 228 360 136 277  74 144  28  85\n",
       "\n",
       "[[2]]\n",
       " [1]   9 193 120  42  64 334 112 311  15 162\n",
       "\n",
       "[[3]]\n",
       " [1] 282  55 220 111  81 222 123 264 244 242\n"
      ]
     },
     "metadata": {},
     "output_type": "display_data"
    }
   ],
   "source": [
    "# Your code here!\n",
    "\n",
    "# START\n",
    "purrr::map(1:3, ~ sample(1:366, 10, replace = TRUE))\n",
    "# END"
   ]
  },
  {
   "cell_type": "markdown",
   "metadata": {},
   "source": [
    "### ⏭️ Optional extension problem\n",
    "\n",
    "Solve the birthday problem without using a `for` loop.\n",
    "\n",
    "How many birthday pairs would you expect to form with 141 individuals?"
   ]
  },
  {
   "cell_type": "code",
   "execution_count": 85,
   "metadata": {},
   "outputs": [
    {
     "name": "stdout",
     "output_type": "stream",
     "text": [
      "[1] 26.724\n"
     ]
    }
   ],
   "source": [
    "# START\n",
    "n_sims = 1000\n",
    "sim_counts = purrr::map_dbl(1:n_sims, ~ num_pairs(sample(1:366, 141, replace = TRUE)))\n",
    "print(mean(sim_counts))\n",
    "# END"
   ]
  },
  {
   "cell_type": "code",
   "execution_count": null,
   "metadata": {},
   "outputs": [],
   "source": []
  }
 ],
 "metadata": {
  "kernelspec": {
   "display_name": "R",
   "language": "R",
   "name": "ir"
  },
  "language_info": {
   "codemirror_mode": "r",
   "file_extension": ".r",
   "mimetype": "text/x-r-source",
   "name": "R",
   "pygments_lexer": "r",
   "version": "4.2.1"
  }
 },
 "nbformat": 4,
 "nbformat_minor": 4
}
