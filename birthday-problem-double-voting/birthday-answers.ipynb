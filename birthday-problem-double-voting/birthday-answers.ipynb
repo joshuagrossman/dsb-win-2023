{
 "cells": [
  {
   "cell_type": "markdown",
   "metadata": {},
   "source": [
    "# 🗳️ Double voting and 🎂 the birthday problem with `R`"
   ]
  },
  {
   "cell_type": "markdown",
   "metadata": {},
   "source": [
    "<img src=\"img/voting.jpg\" alt=\"voting\" width=\"400\" align=\"left\"/>"
   ]
  },
  {
   "cell_type": "markdown",
   "metadata": {},
   "source": [
    "## Introduction"
   ]
  },
  {
   "cell_type": "markdown",
   "metadata": {},
   "source": [
    "Claims of voter fraud are widespread. Here's one example:"
   ]
  },
  {
   "cell_type": "markdown",
   "metadata": {},
   "source": [
    "> **“Probably over a million people voted twice \n",
    "in [the 2012 presidential] election.”**\n",
    ">\n",
    "> Dick Morris, in 2014 on Fox News"
   ]
  },
  {
   "cell_type": "markdown",
   "metadata": {},
   "source": [
    "Voter fraud can take place in a number of ways, including tampering with voting machines 📠, destroying ballots 🗳️, and impersonating voters 🤖. Today, though, we will explore \n",
    "**double voting**, which occurs when a single person illegally casts more than one vote in an election.\n",
    "\n",
    "To start, consider this fact:\n",
    "\n",
    "> In the 2012 election, there were 141 individuals named \"John Smith\" who were born in 1970, and 27 of those individuals had exactly the same birthday.\n",
    "\n",
    "Were there 27 fraudulent \"John Smith\" ballots in the 2012 election? Let's find out."
   ]
  },
  {
   "cell_type": "markdown",
   "metadata": {},
   "source": [
    "## 🎂 The birthday problem 🎂"
   ]
  },
  {
   "cell_type": "markdown",
   "metadata": {},
   "source": [
    "<img src=\"img/birthday.jpg\" alt=\"voting\" width=\"200\" align=\"left\"/>"
   ]
  },
  {
   "cell_type": "markdown",
   "metadata": {},
   "source": [
    "🚀 Let's start with a similar problem: \n",
    "\n",
    "> In a room of 60 people, how likely is it that two people share exactly the same birthday? \n",
    ">\n",
    "> Assume that every person in the room was born in the same year."
   ]
  },
  {
   "cell_type": "markdown",
   "metadata": {},
   "source": [
    "Before moving forward, think to yourself what could be a reasonable answer. 10\\%? 50\\%? 90\\%? Something else?"
   ]
  },
  {
   "cell_type": "markdown",
   "metadata": {},
   "source": [
    "🖥️ To formally answer this question, we could use the following **algorithm**:\n",
    "\n",
    " > 1️⃣ We need a room of 60 people, and we need to know their birthdays.\n",
    " \n",
    " > 2️⃣ We need to check whether two people in that room share a birthday.\n",
    " \n",
    " > 3️⃣ We need to repeat steps 1 and 2 over and over.\n",
    " \n",
    " > 4️⃣ We need to figure out how often two or more people shared a birthday."
   ]
  },
  {
   "cell_type": "markdown",
   "metadata": {},
   "source": [
    "At the end of this tutorial, you'll be able to implement this algorithm in `R`!"
   ]
  },
  {
   "cell_type": "markdown",
   "metadata": {},
   "source": [
    "## 📝 The `sample` command"
   ]
  },
  {
   "cell_type": "markdown",
   "metadata": {},
   "source": [
    "Here's the first step of our algorithm:\n",
    "\n",
    "> 1️⃣ We need a room of 60 people, and we need to know their birthdays.\n",
    "\n",
    "To simulate this in `R`, we could use the `sample` command, which works as follows:\n",
    "\n",
    "> `sample(numbers to choose from, how many numbers to choose, whether to \"put back\" numbers)`"
   ]
  },
  {
   "cell_type": "code",
   "execution_count": 7,
   "metadata": {},
   "outputs": [
    {
     "data": {
      "text/html": [
       "<style>\n",
       ".list-inline {list-style: none; margin:0; padding: 0}\n",
       ".list-inline>li {display: inline-block}\n",
       ".list-inline>li:not(:last-child)::after {content: \"\\00b7\"; padding: 0 .5ex}\n",
       "</style>\n",
       "<ol class=list-inline><li>4</li><li>2</li><li>1</li><li>8</li><li>10</li></ol>\n"
      ],
      "text/latex": [
       "\\begin{enumerate*}\n",
       "\\item 4\n",
       "\\item 2\n",
       "\\item 1\n",
       "\\item 8\n",
       "\\item 10\n",
       "\\end{enumerate*}\n"
      ],
      "text/markdown": [
       "1. 4\n",
       "2. 2\n",
       "3. 1\n",
       "4. 8\n",
       "5. 10\n",
       "\n",
       "\n"
      ],
      "text/plain": [
       "[1]  4  2  1  8 10"
      ]
     },
     "metadata": {},
     "output_type": "display_data"
    }
   ],
   "source": [
    "# To run code in a cell, click on the cell, and then \n",
    "# you can either press SHIFT + ENTER, \n",
    "# or press the triangular play button.\n",
    "# What do you think is happening with the line of code below?\n",
    "\n",
    "sample( c(1, 2, 3, 4, 5, 6, 7, 8, 9, 10) , 5, replace = FALSE)"
   ]
  },
  {
   "cell_type": "code",
   "execution_count": 8,
   "metadata": {},
   "outputs": [
    {
     "data": {
      "text/html": [
       "<style>\n",
       ".list-inline {list-style: none; margin:0; padding: 0}\n",
       ".list-inline>li {display: inline-block}\n",
       ".list-inline>li:not(:last-child)::after {content: \"\\00b7\"; padding: 0 .5ex}\n",
       "</style>\n",
       "<ol class=list-inline><li>5</li><li>10</li><li>2</li><li>6</li><li>8</li></ol>\n"
      ],
      "text/latex": [
       "\\begin{enumerate*}\n",
       "\\item 5\n",
       "\\item 10\n",
       "\\item 2\n",
       "\\item 6\n",
       "\\item 8\n",
       "\\end{enumerate*}\n"
      ],
      "text/markdown": [
       "1. 5\n",
       "2. 10\n",
       "3. 2\n",
       "4. 6\n",
       "5. 8\n",
       "\n",
       "\n"
      ],
      "text/plain": [
       "[1]  5 10  2  6  8"
      ]
     },
     "metadata": {},
     "output_type": "display_data"
    }
   ],
   "source": [
    "# The colon symbol a:b allows us to create lists of consecutive \n",
    "# integers from a to b.\n",
    "# This is exactly the same as the first cell, just easier to write!\n",
    "\n",
    "sample(1:10, 5, replace = FALSE)"
   ]
  },
  {
   "cell_type": "code",
   "execution_count": 9,
   "metadata": {},
   "outputs": [
    {
     "data": {
      "text/html": [
       "<style>\n",
       ".list-inline {list-style: none; margin:0; padding: 0}\n",
       ".list-inline>li {display: inline-block}\n",
       ".list-inline>li:not(:last-child)::after {content: \"\\00b7\"; padding: 0 .5ex}\n",
       "</style>\n",
       "<ol class=list-inline><li>2</li><li>3</li><li>2</li><li>3</li><li>1</li></ol>\n"
      ],
      "text/latex": [
       "\\begin{enumerate*}\n",
       "\\item 2\n",
       "\\item 3\n",
       "\\item 2\n",
       "\\item 3\n",
       "\\item 1\n",
       "\\end{enumerate*}\n"
      ],
      "text/markdown": [
       "1. 2\n",
       "2. 3\n",
       "3. 2\n",
       "4. 3\n",
       "5. 1\n",
       "\n",
       "\n"
      ],
      "text/plain": [
       "[1] 2 3 2 3 1"
      ]
     },
     "metadata": {},
     "output_type": "display_data"
    }
   ],
   "source": [
    "# Text that starts with a hash (#) is called a comment. It's a little note\n",
    "# in your code that has no effect on the output.\n",
    "\n",
    "sample(1:3, 5, replace = TRUE)"
   ]
  },
  {
   "cell_type": "code",
   "execution_count": 10,
   "metadata": {},
   "outputs": [],
   "source": [
    "# Uncomment the line below and run the cell. Why does it fail?\n",
    "# sample(1:5, 6, replace = FALSE)"
   ]
  },
  {
   "cell_type": "markdown",
   "metadata": {},
   "source": [
    "### 🚀 Exercise\n",
    "\n",
    "**Using `sample`, simulate a random draw of 60 birthdays.**"
   ]
  },
  {
   "cell_type": "code",
   "execution_count": 11,
   "metadata": {},
   "outputs": [
    {
     "data": {
      "text/html": [
       "<style>\n",
       ".list-inline {list-style: none; margin:0; padding: 0}\n",
       ".list-inline>li {display: inline-block}\n",
       ".list-inline>li:not(:last-child)::after {content: \"\\00b7\"; padding: 0 .5ex}\n",
       "</style>\n",
       "<ol class=list-inline><li>125</li><li>204</li><li>303</li><li>246</li><li>77</li><li>128</li><li>265</li><li>60</li><li>183</li><li>221</li><li>230</li><li>174</li><li>219</li><li>65</li><li>106</li><li>66</li><li>13</li><li>357</li><li>330</li><li>349</li><li>366</li><li>96</li><li>320</li><li>293</li><li>207</li><li>256</li><li>61</li><li>121</li><li>15</li><li>156</li><li>29</li><li>156</li><li>97</li><li>112</li><li>236</li><li>148</li><li>278</li><li>289</li><li>127</li><li>140</li><li>313</li><li>179</li><li>190</li><li>174</li><li>308</li><li>1</li><li>34</li><li>35</li><li>65</li><li>292</li><li>283</li><li>118</li><li>261</li><li>49</li><li>325</li><li>274</li><li>160</li><li>40</li><li>147</li><li>181</li></ol>\n"
      ],
      "text/latex": [
       "\\begin{enumerate*}\n",
       "\\item 125\n",
       "\\item 204\n",
       "\\item 303\n",
       "\\item 246\n",
       "\\item 77\n",
       "\\item 128\n",
       "\\item 265\n",
       "\\item 60\n",
       "\\item 183\n",
       "\\item 221\n",
       "\\item 230\n",
       "\\item 174\n",
       "\\item 219\n",
       "\\item 65\n",
       "\\item 106\n",
       "\\item 66\n",
       "\\item 13\n",
       "\\item 357\n",
       "\\item 330\n",
       "\\item 349\n",
       "\\item 366\n",
       "\\item 96\n",
       "\\item 320\n",
       "\\item 293\n",
       "\\item 207\n",
       "\\item 256\n",
       "\\item 61\n",
       "\\item 121\n",
       "\\item 15\n",
       "\\item 156\n",
       "\\item 29\n",
       "\\item 156\n",
       "\\item 97\n",
       "\\item 112\n",
       "\\item 236\n",
       "\\item 148\n",
       "\\item 278\n",
       "\\item 289\n",
       "\\item 127\n",
       "\\item 140\n",
       "\\item 313\n",
       "\\item 179\n",
       "\\item 190\n",
       "\\item 174\n",
       "\\item 308\n",
       "\\item 1\n",
       "\\item 34\n",
       "\\item 35\n",
       "\\item 65\n",
       "\\item 292\n",
       "\\item 283\n",
       "\\item 118\n",
       "\\item 261\n",
       "\\item 49\n",
       "\\item 325\n",
       "\\item 274\n",
       "\\item 160\n",
       "\\item 40\n",
       "\\item 147\n",
       "\\item 181\n",
       "\\end{enumerate*}\n"
      ],
      "text/markdown": [
       "1. 125\n",
       "2. 204\n",
       "3. 303\n",
       "4. 246\n",
       "5. 77\n",
       "6. 128\n",
       "7. 265\n",
       "8. 60\n",
       "9. 183\n",
       "10. 221\n",
       "11. 230\n",
       "12. 174\n",
       "13. 219\n",
       "14. 65\n",
       "15. 106\n",
       "16. 66\n",
       "17. 13\n",
       "18. 357\n",
       "19. 330\n",
       "20. 349\n",
       "21. 366\n",
       "22. 96\n",
       "23. 320\n",
       "24. 293\n",
       "25. 207\n",
       "26. 256\n",
       "27. 61\n",
       "28. 121\n",
       "29. 15\n",
       "30. 156\n",
       "31. 29\n",
       "32. 156\n",
       "33. 97\n",
       "34. 112\n",
       "35. 236\n",
       "36. 148\n",
       "37. 278\n",
       "38. 289\n",
       "39. 127\n",
       "40. 140\n",
       "41. 313\n",
       "42. 179\n",
       "43. 190\n",
       "44. 174\n",
       "45. 308\n",
       "46. 1\n",
       "47. 34\n",
       "48. 35\n",
       "49. 65\n",
       "50. 292\n",
       "51. 283\n",
       "52. 118\n",
       "53. 261\n",
       "54. 49\n",
       "55. 325\n",
       "56. 274\n",
       "57. 160\n",
       "58. 40\n",
       "59. 147\n",
       "60. 181\n",
       "\n",
       "\n"
      ],
      "text/plain": [
       " [1] 125 204 303 246  77 128 265  60 183 221 230 174 219  65 106  66  13 357 330\n",
       "[20] 349 366  96 320 293 207 256  61 121  15 156  29 156  97 112 236 148 278 289\n",
       "[39] 127 140 313 179 190 174 308   1  34  35  65 292 283 118 261  49 325 274 160\n",
       "[58]  40 147 181"
      ]
     },
     "metadata": {},
     "output_type": "display_data"
    }
   ],
   "source": [
    "# Your code goes here!\n",
    "\n",
    "# START\n",
    "sample(1:366, 60, replace = TRUE)\n",
    "# END"
   ]
  },
  {
   "cell_type": "markdown",
   "metadata": {},
   "source": [
    "### ⏭️ Optional Extension Problem\n",
    "\n",
    "To learn more about an `R` function, run `?<function_name>`. For example, run `?sample` to print the documentation for the `sample` command.\n",
    "\n",
    "> The documentation takes up a lot of space, so I recommend hiding it after you finish skimming."
   ]
  },
  {
   "cell_type": "code",
   "execution_count": 85,
   "metadata": {},
   "outputs": [],
   "source": [
    "# ?sample"
   ]
  },
  {
   "cell_type": "markdown",
   "metadata": {},
   "source": [
    "`seq` is a more powerful way of generating sequences. Read the documentation for `seq` to learn how `seq` works. Then, use `seq` to generate a list of all even numbers between 100 and 110."
   ]
  },
  {
   "cell_type": "code",
   "execution_count": 13,
   "metadata": {},
   "outputs": [
    {
     "data": {
      "text/html": [
       "<style>\n",
       ".list-inline {list-style: none; margin:0; padding: 0}\n",
       ".list-inline>li {display: inline-block}\n",
       ".list-inline>li:not(:last-child)::after {content: \"\\00b7\"; padding: 0 .5ex}\n",
       "</style>\n",
       "<ol class=list-inline><li>100</li><li>102</li><li>104</li><li>106</li><li>108</li><li>110</li></ol>\n"
      ],
      "text/latex": [
       "\\begin{enumerate*}\n",
       "\\item 100\n",
       "\\item 102\n",
       "\\item 104\n",
       "\\item 106\n",
       "\\item 108\n",
       "\\item 110\n",
       "\\end{enumerate*}\n"
      ],
      "text/markdown": [
       "1. 100\n",
       "2. 102\n",
       "3. 104\n",
       "4. 106\n",
       "5. 108\n",
       "6. 110\n",
       "\n",
       "\n"
      ],
      "text/plain": [
       "[1] 100 102 104 106 108 110"
      ]
     },
     "metadata": {},
     "output_type": "display_data"
    }
   ],
   "source": [
    "# Your code here!\n",
    "\n",
    "# START\n",
    "seq(100, 110, by=2)\n",
    "# END"
   ]
  },
  {
   "cell_type": "markdown",
   "metadata": {},
   "source": [
    "## 🎶 Interlude: Math, variables, vectors, and functions"
   ]
  },
  {
   "cell_type": "markdown",
   "metadata": {},
   "source": [
    "### 📝 Using `R` as a calculator"
   ]
  },
  {
   "cell_type": "markdown",
   "metadata": {},
   "source": [
    "One simple (and useful) way to use `R` is as a calculator. For example:"
   ]
  },
  {
   "cell_type": "code",
   "execution_count": 14,
   "metadata": {},
   "outputs": [
    {
     "data": {
      "text/html": [
       "15"
      ],
      "text/latex": [
       "15"
      ],
      "text/markdown": [
       "15"
      ],
      "text/plain": [
       "[1] 15"
      ]
     },
     "metadata": {},
     "output_type": "display_data"
    }
   ],
   "source": [
    "5 + 10"
   ]
  },
  {
   "cell_type": "code",
   "execution_count": 15,
   "metadata": {},
   "outputs": [
    {
     "data": {
      "text/html": [
       "90"
      ],
      "text/latex": [
       "90"
      ],
      "text/markdown": [
       "90"
      ],
      "text/plain": [
       "[1] 90"
      ]
     },
     "metadata": {},
     "output_type": "display_data"
    }
   ],
   "source": [
    "30 * 3"
   ]
  },
  {
   "cell_type": "code",
   "execution_count": 16,
   "metadata": {},
   "outputs": [
    {
     "data": {
      "text/html": [
       "5"
      ],
      "text/latex": [
       "5"
      ],
      "text/markdown": [
       "5"
      ],
      "text/plain": [
       "[1] 5"
      ]
     },
     "metadata": {},
     "output_type": "display_data"
    }
   ],
   "source": [
    "25 / 5"
   ]
  },
  {
   "cell_type": "code",
   "execution_count": 17,
   "metadata": {},
   "outputs": [
    {
     "data": {
      "text/html": [
       "9"
      ],
      "text/latex": [
       "9"
      ],
      "text/markdown": [
       "9"
      ],
      "text/plain": [
       "[1] 9"
      ]
     },
     "metadata": {},
     "output_type": "display_data"
    }
   ],
   "source": [
    "3 ^ 2"
   ]
  },
  {
   "cell_type": "code",
   "execution_count": 18,
   "metadata": {},
   "outputs": [
    {
     "data": {
      "text/html": [
       "25"
      ],
      "text/latex": [
       "25"
      ],
      "text/markdown": [
       "25"
      ],
      "text/plain": [
       "[1] 25"
      ]
     },
     "metadata": {},
     "output_type": "display_data"
    }
   ],
   "source": [
    "(2 + 3) * 5"
   ]
  },
  {
   "cell_type": "markdown",
   "metadata": {},
   "source": [
    "#### 🚀 Exercise\n",
    "\n",
    "Use `R` to find the average of 42, 100, and 280."
   ]
  },
  {
   "cell_type": "code",
   "execution_count": 19,
   "metadata": {},
   "outputs": [
    {
     "data": {
      "text/html": [
       "140.666666666667"
      ],
      "text/latex": [
       "140.666666666667"
      ],
      "text/markdown": [
       "140.666666666667"
      ],
      "text/plain": [
       "[1] 140.6667"
      ]
     },
     "metadata": {},
     "output_type": "display_data"
    }
   ],
   "source": [
    "# Your code here!\n",
    "\n",
    "# START\n",
    "(42+100+280)/3\n",
    "# END"
   ]
  },
  {
   "cell_type": "markdown",
   "metadata": {},
   "source": [
    "### 📝  Variables\n",
    "\n",
    "**Variables** are like boxes 📦: they store things for us, and we can label them so we know what's inside.\n",
    "\n",
    "Consider the following example:\n",
    "\n",
    "> If x = 2, what is x + 5?\n",
    "\n",
    "You guessed it: the answer is 7. Let's express the same problem using `R`:"
   ]
  },
  {
   "cell_type": "code",
   "execution_count": 20,
   "metadata": {},
   "outputs": [
    {
     "data": {
      "text/html": [
       "7"
      ],
      "text/latex": [
       "7"
      ],
      "text/markdown": [
       "7"
      ],
      "text/plain": [
       "[1] 7"
      ]
     },
     "metadata": {},
     "output_type": "display_data"
    }
   ],
   "source": [
    "# If x = 2, ...\n",
    "x <- 2\n",
    "\n",
    "# ... what is x + 5?\n",
    "x + 5"
   ]
  },
  {
   "cell_type": "markdown",
   "metadata": {},
   "source": [
    "Let's break down the code in the cell above."
   ]
  },
  {
   "cell_type": "markdown",
   "metadata": {},
   "source": [
    "#### 1️⃣ First step\n",
    "\n",
    "In the first line of our code, we assigned the value `2` to the variable named `x` using `<-`."
   ]
  },
  {
   "cell_type": "code",
   "execution_count": 21,
   "metadata": {},
   "outputs": [],
   "source": [
    "# If x = 2, ...\n",
    "x <- 2"
   ]
  },
  {
   "cell_type": "markdown",
   "metadata": {},
   "source": [
    "The assignment operator (`<-`) tells R \"Take the variable on the *_left_* of `<-`, and give it the value of the thing on the *_right_*.\"\n",
    "\n",
    "> 🔎 The equal sign ( `=` ) also works for assignment, but it is an `R` convention to use `<-`.\n",
    "\n",
    "If you ever run a cell containing just a variable, `R` will print the value of that variable:"
   ]
  },
  {
   "cell_type": "code",
   "execution_count": 22,
   "metadata": {},
   "outputs": [
    {
     "data": {
      "text/html": [
       "2"
      ],
      "text/latex": [
       "2"
      ],
      "text/markdown": [
       "2"
      ],
      "text/plain": [
       "[1] 2"
      ]
     },
     "metadata": {},
     "output_type": "display_data"
    }
   ],
   "source": [
    "x"
   ]
  },
  {
   "cell_type": "markdown",
   "metadata": {},
   "source": [
    "You can also force `R` to print the value of the variable with `print`:"
   ]
  },
  {
   "cell_type": "code",
   "execution_count": 23,
   "metadata": {},
   "outputs": [
    {
     "name": "stdout",
     "output_type": "stream",
     "text": [
      "[1] 2\n"
     ]
    }
   ],
   "source": [
    "print(x)"
   ]
  },
  {
   "cell_type": "markdown",
   "metadata": {},
   "source": [
    "❓ Why is there a `[1]` next to the output? Don't worry for now, we'll learn soon!"
   ]
  },
  {
   "cell_type": "markdown",
   "metadata": {},
   "source": [
    "#### 2️⃣ Second step\n",
    "\n",
    "In the second line of our code, we added `5` to our variable `x`, which we initialized with the value `2`.\n",
    "\n",
    "`R` will also print the value of simple expressions in their own cell:"
   ]
  },
  {
   "cell_type": "code",
   "execution_count": 24,
   "metadata": {},
   "outputs": [
    {
     "data": {
      "text/html": [
       "7"
      ],
      "text/latex": [
       "7"
      ],
      "text/markdown": [
       "7"
      ],
      "text/plain": [
       "[1] 7"
      ]
     },
     "metadata": {},
     "output_type": "display_data"
    }
   ],
   "source": [
    "x + 5"
   ]
  },
  {
   "cell_type": "markdown",
   "metadata": {},
   "source": [
    "❗❗**Important note**❗❗: After running the cell above, **the value of `x` is still 2, not 7.**\n",
    "\n",
    "Unless we use `<-` or `=` to assign a new value to `x`, it will remain at 2:"
   ]
  },
  {
   "cell_type": "code",
   "execution_count": 25,
   "metadata": {},
   "outputs": [
    {
     "data": {
      "text/html": [
       "2"
      ],
      "text/latex": [
       "2"
      ],
      "text/markdown": [
       "2"
      ],
      "text/plain": [
       "[1] 2"
      ]
     },
     "metadata": {},
     "output_type": "display_data"
    }
   ],
   "source": [
    "x"
   ]
  },
  {
   "cell_type": "markdown",
   "metadata": {},
   "source": [
    "To update the value of a variable, we can use `<-`.\n",
    "\n",
    "For example, here's how you could increase the value of `x` by `10`:"
   ]
  },
  {
   "cell_type": "code",
   "execution_count": 26,
   "metadata": {},
   "outputs": [
    {
     "data": {
      "text/html": [
       "12"
      ],
      "text/latex": [
       "12"
      ],
      "text/markdown": [
       "12"
      ],
      "text/plain": [
       "[1] 12"
      ]
     },
     "metadata": {},
     "output_type": "display_data"
    }
   ],
   "source": [
    "x <- x + 10\n",
    "x"
   ]
  },
  {
   "cell_type": "markdown",
   "metadata": {},
   "source": [
    "`R` first solves `x + 10` to get `12`, and then it overwrites `x` with `12`."
   ]
  },
  {
   "cell_type": "markdown",
   "metadata": {},
   "source": [
    "### 📝 Vectors\n",
    "\n",
    "A **vector** is a sequence of things.\n",
    "\n",
    "For example, we can have a vector of consecutive integers:"
   ]
  },
  {
   "cell_type": "code",
   "execution_count": 27,
   "metadata": {},
   "outputs": [
    {
     "data": {
      "text/html": [
       "<style>\n",
       ".list-inline {list-style: none; margin:0; padding: 0}\n",
       ".list-inline>li {display: inline-block}\n",
       ".list-inline>li:not(:last-child)::after {content: \"\\00b7\"; padding: 0 .5ex}\n",
       "</style>\n",
       "<ol class=list-inline><li>5</li><li>6</li><li>7</li><li>8</li><li>9</li><li>10</li></ol>\n"
      ],
      "text/latex": [
       "\\begin{enumerate*}\n",
       "\\item 5\n",
       "\\item 6\n",
       "\\item 7\n",
       "\\item 8\n",
       "\\item 9\n",
       "\\item 10\n",
       "\\end{enumerate*}\n"
      ],
      "text/markdown": [
       "1. 5\n",
       "2. 6\n",
       "3. 7\n",
       "4. 8\n",
       "5. 9\n",
       "6. 10\n",
       "\n",
       "\n"
      ],
      "text/plain": [
       "[1]  5  6  7  8  9 10"
      ]
     },
     "metadata": {},
     "output_type": "display_data"
    }
   ],
   "source": [
    "5:10"
   ]
  },
  {
   "cell_type": "markdown",
   "metadata": {},
   "source": [
    "We can also use `c()` to create vectors.\n",
    "\n",
    "> 🔎 The \"c\" in `c()` stands for **concatenate**.\n"
   ]
  },
  {
   "cell_type": "code",
   "execution_count": 28,
   "metadata": {},
   "outputs": [
    {
     "data": {
      "text/html": [
       "<style>\n",
       ".list-inline {list-style: none; margin:0; padding: 0}\n",
       ".list-inline>li {display: inline-block}\n",
       ".list-inline>li:not(:last-child)::after {content: \"\\00b7\"; padding: 0 .5ex}\n",
       "</style>\n",
       "<ol class=list-inline><li>10</li><li>100</li><li>1000</li></ol>\n"
      ],
      "text/latex": [
       "\\begin{enumerate*}\n",
       "\\item 10\n",
       "\\item 100\n",
       "\\item 1000\n",
       "\\end{enumerate*}\n"
      ],
      "text/markdown": [
       "1. 10\n",
       "2. 100\n",
       "3. 1000\n",
       "\n",
       "\n"
      ],
      "text/plain": [
       "[1]   10  100 1000"
      ]
     },
     "metadata": {},
     "output_type": "display_data"
    }
   ],
   "source": [
    "c(10, 100, 1000)"
   ]
  },
  {
   "cell_type": "markdown",
   "metadata": {},
   "source": [
    "We can assign vectors to variables too:"
   ]
  },
  {
   "cell_type": "code",
   "execution_count": 29,
   "metadata": {},
   "outputs": [
    {
     "data": {
      "text/html": [
       "<style>\n",
       ".list-inline {list-style: none; margin:0; padding: 0}\n",
       ".list-inline>li {display: inline-block}\n",
       ".list-inline>li:not(:last-child)::after {content: \"\\00b7\"; padding: 0 .5ex}\n",
       "</style>\n",
       "<ol class=list-inline><li>10</li><li>100</li><li>1000</li></ol>\n"
      ],
      "text/latex": [
       "\\begin{enumerate*}\n",
       "\\item 10\n",
       "\\item 100\n",
       "\\item 1000\n",
       "\\end{enumerate*}\n"
      ],
      "text/markdown": [
       "1. 10\n",
       "2. 100\n",
       "3. 1000\n",
       "\n",
       "\n"
      ],
      "text/plain": [
       "[1]   10  100 1000"
      ]
     },
     "metadata": {},
     "output_type": "display_data"
    }
   ],
   "source": [
    "my_vector <- c(10, 100, 1000)\n",
    "my_vector"
   ]
  },
  {
   "cell_type": "markdown",
   "metadata": {},
   "source": [
    "We can extract **elements** from vectors using their **index**, or their place in line.\n",
    "\n",
    "> 🔎 Unlike most other programming languages, `R` is 1-indexed, not 0-indexed. So, the first element in a vector `v` is `v[1]`, not `v[0]`."
   ]
  },
  {
   "cell_type": "code",
   "execution_count": 30,
   "metadata": {},
   "outputs": [
    {
     "data": {
      "text/html": [
       "10"
      ],
      "text/latex": [
       "10"
      ],
      "text/markdown": [
       "10"
      ],
      "text/plain": [
       "[1] 10"
      ]
     },
     "metadata": {},
     "output_type": "display_data"
    }
   ],
   "source": [
    "my_vector[1]"
   ]
  },
  {
   "cell_type": "code",
   "execution_count": 31,
   "metadata": {},
   "outputs": [
    {
     "data": {
      "text/html": [
       "100"
      ],
      "text/latex": [
       "100"
      ],
      "text/markdown": [
       "100"
      ],
      "text/plain": [
       "[1] 100"
      ]
     },
     "metadata": {},
     "output_type": "display_data"
    }
   ],
   "source": [
    "my_vector[2]"
   ]
  },
  {
   "cell_type": "code",
   "execution_count": 32,
   "metadata": {},
   "outputs": [
    {
     "data": {
      "text/html": [
       "1000"
      ],
      "text/latex": [
       "1000"
      ],
      "text/markdown": [
       "1000"
      ],
      "text/plain": [
       "[1] 1000"
      ]
     },
     "metadata": {},
     "output_type": "display_data"
    }
   ],
   "source": [
    "my_vector[3]"
   ]
  },
  {
   "cell_type": "markdown",
   "metadata": {},
   "source": [
    "#### 🔎 Printing vectors \n",
    "\n",
    "If you explicitly `print` a vector, the output looks a little different:"
   ]
  },
  {
   "cell_type": "code",
   "execution_count": 33,
   "metadata": {},
   "outputs": [
    {
     "name": "stdout",
     "output_type": "stream",
     "text": [
      "[1]   10  100 1000\n"
     ]
    }
   ],
   "source": [
    "print(my_vector)"
   ]
  },
  {
   "cell_type": "markdown",
   "metadata": {},
   "source": [
    "Why is there a `[1]` on the left of the printed results? \n",
    "\n",
    "Printing a longer vector gives us a hint:"
   ]
  },
  {
   "cell_type": "code",
   "execution_count": 34,
   "metadata": {},
   "outputs": [
    {
     "name": "stdout",
     "output_type": "stream",
     "text": [
      " [1] 25 26 27 28 29 30 31 32 33 34 35 36 37 38 39 40 41 42 43 44 45 46 47 48 49\n",
      "[26] 50 51 52 53 54 55 56 57 58 59 60 61 62 63 64 65 66 67 68 69 70 71 72 73 74\n",
      "[51] 75\n"
     ]
    }
   ],
   "source": [
    "print(25:75)"
   ]
  },
  {
   "cell_type": "markdown",
   "metadata": {},
   "source": [
    "The bracketed numbers on the left side of the printed results indicate the index of the element immediately to the right.\n",
    "\n",
    "For example `[26]` indicates that `50` is the 26th element in the vector."
   ]
  },
  {
   "cell_type": "markdown",
   "metadata": {},
   "source": [
    "#### 🚀 Exercise\n",
    "\n",
    "**A. Create a vector of numbers from 15 to 140, and assign the vector to a variable called `my_vector`.**"
   ]
  },
  {
   "cell_type": "code",
   "execution_count": 35,
   "metadata": {},
   "outputs": [
    {
     "name": "stdout",
     "output_type": "stream",
     "text": [
      "  [1]  15  16  17  18  19  20  21  22  23  24  25  26  27  28  29  30  31  32\n",
      " [19]  33  34  35  36  37  38  39  40  41  42  43  44  45  46  47  48  49  50\n",
      " [37]  51  52  53  54  55  56  57  58  59  60  61  62  63  64  65  66  67  68\n",
      " [55]  69  70  71  72  73  74  75  76  77  78  79  80  81  82  83  84  85  86\n",
      " [73]  87  88  89  90  91  92  93  94  95  96  97  98  99 100 101 102 103 104\n",
      " [91] 105 106 107 108 109 110 111 112 113 114 115 116 117 118 119 120 121 122\n",
      "[109] 123 124 125 126 127 128 129 130 131 132 133 134 135 136 137 138 139 140\n"
     ]
    }
   ],
   "source": [
    "# Your code here!\n",
    "\n",
    "# START\n",
    "my_vector <- 15:140\n",
    "print(my_vector)\n",
    "# END"
   ]
  },
  {
   "cell_type": "markdown",
   "metadata": {},
   "source": [
    "**B. Find the difference between the 30th and 100th values of `my_vector`.**"
   ]
  },
  {
   "cell_type": "code",
   "execution_count": 36,
   "metadata": {},
   "outputs": [
    {
     "data": {
      "text/html": [
       "70"
      ],
      "text/latex": [
       "70"
      ],
      "text/markdown": [
       "70"
      ],
      "text/plain": [
       "[1] 70"
      ]
     },
     "metadata": {},
     "output_type": "display_data"
    }
   ],
   "source": [
    "# Your code here!\n",
    "\n",
    "# START\n",
    "my_vector[100] - my_vector[30]\n",
    "# END"
   ]
  },
  {
   "cell_type": "markdown",
   "metadata": {},
   "source": [
    "### ⏭️ Optional extension problem\n",
    "\n",
    "Find the 57th even number between 1347 and 2124. "
   ]
  },
  {
   "cell_type": "code",
   "execution_count": 37,
   "metadata": {},
   "outputs": [
    {
     "data": {
      "text/html": [
       "1460"
      ],
      "text/latex": [
       "1460"
      ],
      "text/markdown": [
       "1460"
      ],
      "text/plain": [
       "[1] 1460"
      ]
     },
     "metadata": {},
     "output_type": "display_data"
    }
   ],
   "source": [
    "# Your code here!\n",
    "\n",
    "# START\n",
    "seq(1348, 2124, by=2)[57]\n",
    "# END"
   ]
  },
  {
   "cell_type": "markdown",
   "metadata": {},
   "source": [
    "### 📝 Functions\n",
    "\n",
    "If you've taken algebra, you've already seen functions! For example, this function `f` takes the square root of its input:\n",
    "\n",
    "> $f(x) = \\sqrt{x}$\n",
    ">\n",
    "> $f(25) = \\sqrt{25} = 5$"
   ]
  },
  {
   "cell_type": "markdown",
   "metadata": {},
   "source": [
    "<img src=\"img/function-machine.svg\" width=200 align=\"left\"/>"
   ]
  },
  {
   "cell_type": "markdown",
   "metadata": {},
   "source": [
    "`R` also has a square root function called `sqrt`. \n",
    "\n",
    "To use a function in `R`, we write the name of the function, and then put its input in parentheses. \n",
    "\n",
    "> 🔎 The output of a function is called its **return value**. "
   ]
  },
  {
   "cell_type": "code",
   "execution_count": 38,
   "metadata": {},
   "outputs": [
    {
     "data": {
      "text/html": [
       "5"
      ],
      "text/latex": [
       "5"
      ],
      "text/markdown": [
       "5"
      ],
      "text/plain": [
       "[1] 5"
      ]
     },
     "metadata": {},
     "output_type": "display_data"
    }
   ],
   "source": [
    "sqrt(25)"
   ]
  },
  {
   "cell_type": "markdown",
   "metadata": {},
   "source": [
    "You may have noticed that we used this function notation quite a lot already. \n",
    "\n",
    "Here are some of the functions you have already used:\n",
    "- `sample`: makes random draws from a vector\n",
    "- `print`: prints its input "
   ]
  },
  {
   "cell_type": "markdown",
   "metadata": {},
   "source": [
    "💡 There are *many* other built-in functions in `R`, and you can even write your own functions! \n",
    "\n",
    "Here are some examples of functions that you can use:\n",
    "- `sum`: Adds up all of the numbers in a vector\n",
    "- `mean`: Finds the average of the numbers in a vector\n",
    "- `length`: Finds the total number of elements in a vector.\n",
    "- `max`: Finds the maximum value in a vector\n",
    "- `min`: Finds the minimum value in a vector"
   ]
  },
  {
   "cell_type": "markdown",
   "metadata": {},
   "source": [
    "### 🚀 Exercise\n",
    "\n",
    "**A. Find the sum of all the numbers from 1 to 100 using `sum`.**"
   ]
  },
  {
   "cell_type": "code",
   "execution_count": 39,
   "metadata": {},
   "outputs": [
    {
     "data": {
      "text/html": [
       "5050"
      ],
      "text/latex": [
       "5050"
      ],
      "text/markdown": [
       "5050"
      ],
      "text/plain": [
       "[1] 5050"
      ]
     },
     "metadata": {},
     "output_type": "display_data"
    }
   ],
   "source": [
    "# Your code here!\n",
    "\n",
    "# START\n",
    "sum(1:100)\n",
    "# END"
   ]
  },
  {
   "cell_type": "markdown",
   "metadata": {},
   "source": [
    "**B. Find the average of all the numbers from 1 to 100 using `mean`.**"
   ]
  },
  {
   "cell_type": "code",
   "execution_count": 40,
   "metadata": {},
   "outputs": [
    {
     "data": {
      "text/html": [
       "50.5"
      ],
      "text/latex": [
       "50.5"
      ],
      "text/markdown": [
       "50.5"
      ],
      "text/plain": [
       "[1] 50.5"
      ]
     },
     "metadata": {},
     "output_type": "display_data"
    }
   ],
   "source": [
    "# Your code here!\n",
    "\n",
    "# START\n",
    "mean(1:100)\n",
    "# END"
   ]
  },
  {
   "cell_type": "markdown",
   "metadata": {},
   "source": [
    "### 📝 Multi-argument functions\n",
    "\n",
    "Functions like `print` only need one input, or **argument**. However, functions can have more than one argument. \n",
    "\n",
    "For example, this function `f` adds its two arguments, x and y:\n",
    "\n",
    "> f(x, y) = x + y\n",
    ">\n",
    "> f(2, 3) = 2 + 3 = 5\n",
    "\n",
    "You've also already used a multi-argument function in `R` called `sample`.\n",
    "\n",
    "We provided `sample` with three arguments:\n",
    "\n",
    "1. A vector of numbers to sample from\n",
    "2. How many numbers to sample\n",
    "3. Whether or not we can reuse numbers after sampling them"
   ]
  },
  {
   "cell_type": "code",
   "execution_count": 82,
   "metadata": {},
   "outputs": [
    {
     "data": {
      "text/html": [
       "<style>\n",
       ".list-inline {list-style: none; margin:0; padding: 0}\n",
       ".list-inline>li {display: inline-block}\n",
       ".list-inline>li:not(:last-child)::after {content: \"\\00b7\"; padding: 0 .5ex}\n",
       "</style>\n",
       "<ol class=list-inline><li>2</li><li>2</li><li>3</li></ol>\n"
      ],
      "text/latex": [
       "\\begin{enumerate*}\n",
       "\\item 2\n",
       "\\item 2\n",
       "\\item 3\n",
       "\\end{enumerate*}\n"
      ],
      "text/markdown": [
       "1. 2\n",
       "2. 2\n",
       "3. 3\n",
       "\n",
       "\n"
      ],
      "text/plain": [
       "[1] 2 2 3"
      ]
     },
     "metadata": {},
     "output_type": "display_data"
    }
   ],
   "source": [
    "sample(c(1,2,3,4,5), 3, replace=TRUE)"
   ]
  },
  {
   "cell_type": "markdown",
   "metadata": {},
   "source": [
    "## 📝 Back to the birthday problem: Finding duplicates"
   ]
  },
  {
   "cell_type": "markdown",
   "metadata": {},
   "source": [
    "The code below defines a new function, `has_duplicate`.\n",
    "\n",
    "> `has_duplicate` returns `TRUE` if the input vector contains any duplicate values, and `FALSE` otherwise.\n"
   ]
  },
  {
   "cell_type": "code",
   "execution_count": 41,
   "metadata": {},
   "outputs": [],
   "source": [
    "has_duplicate <- function(v) {\n",
    "    any(duplicated(v))\n",
    "}"
   ]
  },
  {
   "cell_type": "markdown",
   "metadata": {},
   "source": [
    "Make sure to run the cell above, and then run `has_duplicate` in the cells below."
   ]
  },
  {
   "cell_type": "code",
   "execution_count": 80,
   "metadata": {},
   "outputs": [
    {
     "data": {
      "text/html": [
       "TRUE"
      ],
      "text/latex": [
       "TRUE"
      ],
      "text/markdown": [
       "TRUE"
      ],
      "text/plain": [
       "[1] TRUE"
      ]
     },
     "metadata": {},
     "output_type": "display_data"
    }
   ],
   "source": [
    "has_duplicate(c(1,2,2,3,4,5))"
   ]
  },
  {
   "cell_type": "code",
   "execution_count": 83,
   "metadata": {},
   "outputs": [
    {
     "data": {
      "text/html": [
       "<style>\n",
       ".list-inline {list-style: none; margin:0; padding: 0}\n",
       ".list-inline>li {display: inline-block}\n",
       ".list-inline>li:not(:last-child)::after {content: \"\\00b7\"; padding: 0 .5ex}\n",
       "</style>\n",
       "<ol class=list-inline><li>4</li><li>6</li><li>1</li><li>9</li><li>2</li></ol>\n"
      ],
      "text/latex": [
       "\\begin{enumerate*}\n",
       "\\item 4\n",
       "\\item 6\n",
       "\\item 1\n",
       "\\item 9\n",
       "\\item 2\n",
       "\\end{enumerate*}\n"
      ],
      "text/markdown": [
       "1. 4\n",
       "2. 6\n",
       "3. 1\n",
       "4. 9\n",
       "5. 2\n",
       "\n",
       "\n"
      ],
      "text/plain": [
       "[1] 4 6 1 9 2"
      ]
     },
     "metadata": {},
     "output_type": "display_data"
    }
   ],
   "source": [
    "vector_a <- sample(1:10, 5, replace = FALSE)\n",
    "vector_a"
   ]
  },
  {
   "cell_type": "code",
   "execution_count": 84,
   "metadata": {},
   "outputs": [
    {
     "data": {
      "text/html": [
       "FALSE"
      ],
      "text/latex": [
       "FALSE"
      ],
      "text/markdown": [
       "FALSE"
      ],
      "text/plain": [
       "[1] FALSE"
      ]
     },
     "metadata": {},
     "output_type": "display_data"
    }
   ],
   "source": [
    "has_duplicate(vector_a)"
   ]
  },
  {
   "cell_type": "markdown",
   "metadata": {},
   "source": [
    "### 🚀 Exercise\n",
    "\n",
    "**Generate a vector of 60 random birthdays, and determine whether the vector has any duplicates.**"
   ]
  },
  {
   "cell_type": "code",
   "execution_count": 86,
   "metadata": {},
   "outputs": [
    {
     "data": {
      "text/html": [
       "TRUE"
      ],
      "text/latex": [
       "TRUE"
      ],
      "text/markdown": [
       "TRUE"
      ],
      "text/plain": [
       "[1] TRUE"
      ]
     },
     "metadata": {},
     "output_type": "display_data"
    }
   ],
   "source": [
    "# Your code here!\n",
    "\n",
    "# START\n",
    "birthdays = sample(1:366, 60, replace = TRUE)\n",
    "has_duplicate(birthdays)\n",
    "# END"
   ]
  },
  {
   "cell_type": "markdown",
   "metadata": {
    "tags": []
   },
   "source": [
    "### 📝 Counting pairs\n",
    "\n",
    "The code below defines another function, `num_pairs`.\n",
    "\n",
    "`num_pairs` returns the number of pairs that can formed with duplicated values.\n",
    "\n",
    "> In math speak, you can form $\\binom{n}{2}$ pairs from $n$ values.\n",
    ">\n",
    "> $\\binom{n}{2} = \\frac{n!}{2!(n - 2)!}$\n",
    "\n",
    "For example, the vector `c(1, 2, 3, 3)` has two 3s, so `num_pairs` should return $\\binom{2}{2} = 1$. In other words, we can only make one pair of identical numbers.\n",
    "\n",
    "The vector `c(1, 2, 3, 3, 3, 3)` has four 3s, so `num_pairs` should return $\\binom{4}{2} = 6$.\n",
    "\n",
    "The vector `c(1, 2, 3, 4, 5, 5, 5, 6, 6)` has three 5s and two 6s, so `num_pairs` should return $\\binom{3}{2} + \\binom{2}{2} = 4$."
   ]
  },
  {
   "cell_type": "code",
   "execution_count": 47,
   "metadata": {},
   "outputs": [],
   "source": [
    "# don't worry at all about studying/understanding this specific function!\n",
    "# But, if you're looking for an extension problem, try to figure out how this function works.\n",
    "num_pairs <- function(v) {\n",
    "    duplicated_indices <- duplicated(v)\n",
    "    duplicated_values <- v[duplicated_indices]\n",
    "    duplicated_counts <- table(duplicated_values) + 1\n",
    "    sum(choose(duplicated_counts, 2))\n",
    "}"
   ]
  },
  {
   "cell_type": "code",
   "execution_count": 48,
   "metadata": {},
   "outputs": [
    {
     "data": {
      "text/html": [
       "1"
      ],
      "text/latex": [
       "1"
      ],
      "text/markdown": [
       "1"
      ],
      "text/plain": [
       "[1] 1"
      ]
     },
     "metadata": {},
     "output_type": "display_data"
    }
   ],
   "source": [
    "num_pairs(c(1, 2, 3, 3))"
   ]
  },
  {
   "cell_type": "code",
   "execution_count": 49,
   "metadata": {},
   "outputs": [
    {
     "data": {
      "text/html": [
       "6"
      ],
      "text/latex": [
       "6"
      ],
      "text/markdown": [
       "6"
      ],
      "text/plain": [
       "[1] 6"
      ]
     },
     "metadata": {},
     "output_type": "display_data"
    }
   ],
   "source": [
    "num_pairs(c(1, 2, 3, 3, 3, 3))"
   ]
  },
  {
   "cell_type": "code",
   "execution_count": 50,
   "metadata": {},
   "outputs": [
    {
     "data": {
      "text/html": [
       "4"
      ],
      "text/latex": [
       "4"
      ],
      "text/markdown": [
       "4"
      ],
      "text/plain": [
       "[1] 4"
      ]
     },
     "metadata": {},
     "output_type": "display_data"
    }
   ],
   "source": [
    "num_pairs(c(1, 2, 3, 4, 5, 5, 5, 6, 6))"
   ]
  },
  {
   "cell_type": "markdown",
   "metadata": {},
   "source": [
    "### 🚀 Exercise\n",
    "\n",
    "**Think back to the John Smith example:**\n",
    "\n",
    "> In the 2012 election, there were 141 individuals named \"John Smith\" who were born in 1970. From those 141 individuals, we can make 27 pairs with exactly the same birthday.\n",
    "\n",
    "**Generate a vector of 141 random birthdays, and determine how many duplicate pairs can be formed from elements in the vector.** Run your code repeatedly to see how the results can change due to randomness."
   ]
  },
  {
   "cell_type": "code",
   "execution_count": 51,
   "metadata": {},
   "outputs": [
    {
     "data": {
      "text/html": [
       "24"
      ],
      "text/latex": [
       "24"
      ],
      "text/markdown": [
       "24"
      ],
      "text/plain": [
       "[1] 24"
      ]
     },
     "metadata": {},
     "output_type": "display_data"
    }
   ],
   "source": [
    "# Your code here!\n",
    "\n",
    "# START\n",
    "num_pairs(sample(1:366, 141, replace = TRUE))\n",
    "# END"
   ]
  },
  {
   "cell_type": "markdown",
   "metadata": {},
   "source": [
    "### ⏭️ Optional extension Problem\n",
    "\n",
    "Generate a vector of 141 birthdays occurring over 10 years (so far, we've ignored the year). Calculate the number of pairs that can be formed."
   ]
  },
  {
   "cell_type": "code",
   "execution_count": 87,
   "metadata": {},
   "outputs": [
    {
     "data": {
      "text/html": [
       "4"
      ],
      "text/latex": [
       "4"
      ],
      "text/markdown": [
       "4"
      ],
      "text/plain": [
       "[1] 4"
      ]
     },
     "metadata": {},
     "output_type": "display_data"
    }
   ],
   "source": [
    "# Your code here!\n",
    "\n",
    "# START\n",
    "birthdays = sample(1:(365*10), 141, replace = TRUE)\n",
    "num_pairs(birthdays)\n",
    "# END"
   ]
  },
  {
   "cell_type": "markdown",
   "metadata": {},
   "source": [
    "### 📝  Repetition with `for` loops 🔁\n",
    "\n",
    "Recall the third step in our algorithm:\n",
    "\n",
    "3️⃣ We need to repeat this process over and over.\n",
    "\n",
    "The `for` loop lets us do exactly this. Here's the syntax for a `for` loop:\n",
    "\n",
    "```\n",
    "for (element in vector) { \n",
    "    perform an action\n",
    "}\n",
    "```\n",
    "\n",
    "Run the following cell to see a `for` loop in action:"
   ]
  },
  {
   "cell_type": "code",
   "execution_count": 53,
   "metadata": {},
   "outputs": [
    {
     "name": "stdout",
     "output_type": "stream",
     "text": [
      "[1] \"Hello, world!\"\n",
      "[1] \"Hello, world!\"\n",
      "[1] \"Hello, world!\"\n",
      "[1] \"Hello, world!\"\n",
      "[1] \"Hello, world!\"\n",
      "[1] \"Hello, world!\"\n",
      "[1] \"Hello, world!\"\n",
      "[1] \"Hello, world!\"\n",
      "[1] \"Hello, world!\"\n",
      "[1] \"Hello, world!\"\n"
     ]
    }
   ],
   "source": [
    "for (i in 1:10) {\n",
    "    print(\"Hello, world!\")\n",
    "}"
   ]
  },
  {
   "cell_type": "markdown",
   "metadata": {},
   "source": [
    "Uh, hi?"
   ]
  },
  {
   "cell_type": "markdown",
   "metadata": {},
   "source": [
    "Here's what's going on in the loop 🔁:"
   ]
  },
  {
   "cell_type": "markdown",
   "metadata": {},
   "source": [
    "1. `R` will iterate through each number in the vector `1:10`. The first number is `1`. \n",
    "2. So, create a variable `i` with the value 1.\n",
    "> `i <- 1`\n",
    "3. Do what's in the brackets. So, print `Hello, world!`.\n",
    "> `print(\"Hello, world!\")`\n",
    "4. Repeat the steps above for the rest of the vector.\n",
    "\n",
    "> `i <- 2`\n",
    "\n",
    "> `print(\"Hello, world!\")`\n",
    "\n",
    "> `i <- 3`\n",
    "\n",
    "> `print(\"Hello, world!\")`\n",
    "\n",
    "> `...` \n",
    "\n",
    "> `i <- 10`\n",
    "\n",
    "> `print(\"Hello, world!\")`\n",
    "\n",
    "Welcome to the world of automation 🤖!\n",
    "\n",
    "With a `for` loop, we can do more than just print text:"
   ]
  },
  {
   "cell_type": "code",
   "execution_count": 89,
   "metadata": {},
   "outputs": [
    {
     "name": "stdout",
     "output_type": "stream",
     "text": [
      "[1]  8 11 10 12 17\n",
      "[1] 18 10 11 10  8\n",
      "[1]  9 15  3  2  9\n"
     ]
    }
   ],
   "source": [
    "for (i in 1:3) {\n",
    "    print(sample(1:20, 5, replace = TRUE))\n",
    "}"
   ]
  },
  {
   "cell_type": "markdown",
   "metadata": {},
   "source": [
    "We can also use the `i` variable inside of our `for` loop:"
   ]
  },
  {
   "cell_type": "code",
   "execution_count": 55,
   "metadata": {},
   "outputs": [
    {
     "name": "stdout",
     "output_type": "stream",
     "text": [
      "[1] 10\n",
      "[1] 11\n",
      "[1] 12\n",
      "[1] 13\n",
      "[1] 14\n",
      "[1] 15\n"
     ]
    }
   ],
   "source": [
    "for (i in 10:15) {\n",
    "    print(i)\n",
    "}"
   ]
  },
  {
   "cell_type": "markdown",
   "metadata": {},
   "source": [
    "## 🚀 Exercise\n",
    "\n",
    "**Using a `for` loop, print 3 vectors with each containing 60 random birthdays.**"
   ]
  },
  {
   "cell_type": "code",
   "execution_count": 88,
   "metadata": {},
   "outputs": [
    {
     "name": "stdout",
     "output_type": "stream",
     "text": [
      " [1]  10 256 295 236 141  93 322 255  85 217  83 155 230  89 222 199 344  24 216\n",
      "[20]  54  26  75 321  95 333  31  42 279 357  43  13 344  29 237 101 206  66   4\n",
      "[39]  17  72 132  71  53 250 357 211 227  45 207  63 179  56 181 139 242 267 221\n",
      "[58]  47 307 347\n",
      " [1] 193 190 350 303  25 226 204  72 353  79 366 135 128 270 237  35  82 335  39\n",
      "[20] 218 296 120 342 179  43 240 166 318 321 212 300 260  73 340 242 248 279 321\n",
      "[39]  85 285  11 165 157 107 268  22 236 183 169 148  25 131  33 177  75 330  85\n",
      "[58] 320 216 303\n",
      " [1] 352   8 244 328 279 179 108 315 123 111  92 150 318 268  21 321 332 189  94\n",
      "[20] 356  33  30  28 208  93 320 218 150 288 130 152  37 354 344 334 174 347  98\n",
      "[39] 357  69  47 219 275 311 329  48 276  10  15 141 269  46 361 289 207 332  36\n",
      "[58] 187 324 356\n"
     ]
    }
   ],
   "source": [
    "# Your code here!\n",
    "\n",
    "# START\n",
    "for (i in 1:3) {\n",
    "    birthdays = sample(1:366, 60, replace = TRUE)\n",
    "    print(birthdays)\n",
    "}\n",
    "# END"
   ]
  },
  {
   "cell_type": "markdown",
   "metadata": {},
   "source": [
    "## 🚀 Exercise\n",
    "\n",
    "**Using a `for` loop and a counter, add up all the numbers from 1 to 100.**\n",
    "\n",
    "To get you started, here's how you could use a counter to count to 5:"
   ]
  },
  {
   "cell_type": "code",
   "execution_count": 57,
   "metadata": {},
   "outputs": [
    {
     "name": "stdout",
     "output_type": "stream",
     "text": [
      "[1] 1\n",
      "[1] 2\n",
      "[1] 3\n",
      "[1] 4\n",
      "[1] 5\n",
      "[1] \"Final value of counter:\"\n",
      "[1] 5\n"
     ]
    }
   ],
   "source": [
    "counter <- 0\n",
    "\n",
    "for (i in 1:5) {\n",
    "    counter <- counter + 1\n",
    "    print(counter)\n",
    "}\n",
    "\n",
    "print(\"Final value of counter:\")\n",
    "print(counter)"
   ]
  },
  {
   "cell_type": "code",
   "execution_count": 58,
   "metadata": {},
   "outputs": [
    {
     "name": "stdout",
     "output_type": "stream",
     "text": [
      "[1] 5050\n",
      "[1] 5050\n"
     ]
    }
   ],
   "source": [
    "# Your code here!\n",
    "\n",
    "# START\n",
    "counter <- 0\n",
    "\n",
    "for (i in 1:100) {\n",
    "    counter <- counter + i\n",
    "}\n",
    "\n",
    "print(counter)\n",
    "\n",
    "# check our answer\n",
    "print(sum(1:100))\n",
    "# END"
   ]
  },
  {
   "cell_type": "markdown",
   "metadata": {},
   "source": [
    "### ⏭️ Optional extension problem\n",
    "\n",
    "Use a `for` loop to print the first odd number, the sum of the first two odd numbers, the sum of the first three odd numbers, ..., all the way up to the sum of the first 10 odd numbers. \n",
    "\n",
    "Do you notice a pattern?"
   ]
  },
  {
   "cell_type": "code",
   "execution_count": 59,
   "metadata": {},
   "outputs": [
    {
     "name": "stdout",
     "output_type": "stream",
     "text": [
      "[1] 1\n",
      "[1] 4\n",
      "[1] 9\n",
      "[1] 16\n",
      "[1] 25\n",
      "[1] 36\n",
      "[1] 49\n",
      "[1] 64\n",
      "[1] 81\n",
      "[1] 100\n"
     ]
    }
   ],
   "source": [
    "# Your code here!\n",
    "\n",
    "# START\n",
    "numbers <- 1:10\n",
    "for (number in numbers) {\n",
    "    odd_nums <- seq(1, 2*number, by=2)\n",
    "    print(sum(odd_nums))\n",
    "}\n",
    "\n",
    "# The numbers are all perfect squares!\n",
    "\n",
    "# END"
   ]
  },
  {
   "cell_type": "markdown",
   "metadata": {},
   "source": [
    "## 🎶 Interlude: Booleans and control flow"
   ]
  },
  {
   "cell_type": "markdown",
   "metadata": {},
   "source": [
    "### 📝 Control flow with booleans, `if`, and `else`"
   ]
  },
  {
   "cell_type": "markdown",
   "metadata": {},
   "source": [
    "Booleans are a special type of variable that can take on only two possible values: `TRUE` or `FALSE`.\n",
    "\n",
    "> 🏛️ *Historical note*: Booleans are named after George Boole, a 19th century mathematician. https://en.wikipedia.org/wiki/George_Boole\n",
    "\n",
    "Booleans come in handy when you're comparing values."
   ]
  },
  {
   "cell_type": "code",
   "execution_count": 60,
   "metadata": {},
   "outputs": [
    {
     "data": {
      "text/html": [
       "TRUE"
      ],
      "text/latex": [
       "TRUE"
      ],
      "text/markdown": [
       "TRUE"
      ],
      "text/plain": [
       "[1] TRUE"
      ]
     },
     "metadata": {},
     "output_type": "display_data"
    }
   ],
   "source": [
    "10 == 10"
   ]
  },
  {
   "cell_type": "code",
   "execution_count": 61,
   "metadata": {},
   "outputs": [
    {
     "data": {
      "text/html": [
       "FALSE"
      ],
      "text/latex": [
       "FALSE"
      ],
      "text/markdown": [
       "FALSE"
      ],
      "text/plain": [
       "[1] FALSE"
      ]
     },
     "metadata": {},
     "output_type": "display_data"
    }
   ],
   "source": [
    "9 == 10"
   ]
  },
  {
   "cell_type": "markdown",
   "metadata": {},
   "source": [
    "❗❗The double equal sign ( `==` ) is different than the single equal sign ( `=` ).\n",
    "\n",
    "> While a single equal sign is used to <i>assign</i> values to arguments inside functions, a double equal sign is used to <i>compare</i> values."
   ]
  },
  {
   "cell_type": "code",
   "execution_count": 62,
   "metadata": {},
   "outputs": [],
   "source": [
    "# this doesn't make sense! We can't assign the value 10 to the number 9.\n",
    "# 9 = 10"
   ]
  },
  {
   "cell_type": "markdown",
   "metadata": {},
   "source": [
    "We can also use greater than ( `>` ) and less than ( `<` ) to compare values:"
   ]
  },
  {
   "cell_type": "code",
   "execution_count": 63,
   "metadata": {},
   "outputs": [
    {
     "data": {
      "text/html": [
       "TRUE"
      ],
      "text/latex": [
       "TRUE"
      ],
      "text/markdown": [
       "TRUE"
      ],
      "text/plain": [
       "[1] TRUE"
      ]
     },
     "metadata": {},
     "output_type": "display_data"
    }
   ],
   "source": [
    "9 < 10"
   ]
  },
  {
   "cell_type": "code",
   "execution_count": 64,
   "metadata": {},
   "outputs": [
    {
     "data": {
      "text/html": [
       "FALSE"
      ],
      "text/latex": [
       "FALSE"
      ],
      "text/markdown": [
       "FALSE"
      ],
      "text/plain": [
       "[1] FALSE"
      ]
     },
     "metadata": {},
     "output_type": "display_data"
    }
   ],
   "source": [
    "10 > 10"
   ]
  },
  {
   "cell_type": "code",
   "execution_count": 65,
   "metadata": {},
   "outputs": [
    {
     "data": {
      "text/html": [
       "TRUE"
      ],
      "text/latex": [
       "TRUE"
      ],
      "text/markdown": [
       "TRUE"
      ],
      "text/plain": [
       "[1] TRUE"
      ]
     },
     "metadata": {},
     "output_type": "display_data"
    }
   ],
   "source": [
    "# <= means \"less than or equal to\", and >= means \"greater than or equal to\"\n",
    "\n",
    "10 >= 10"
   ]
  },
  {
   "cell_type": "markdown",
   "metadata": {},
   "source": [
    "### Working with `if`"
   ]
  },
  {
   "cell_type": "markdown",
   "metadata": {},
   "source": [
    "We can use `if` with booleans to control our code. Here's the **syntax**:\n",
    "\n",
    "```\n",
    "do everything up here\n",
    "\n",
    "if (this statement is true) {\n",
    "    do everything here too\n",
    "}\n",
    "\n",
    "finally, do everything down here\n",
    "```\n",
    "\n",
    "Here's an example. Practice reading the code line by line to understand each piece:"
   ]
  },
  {
   "cell_type": "code",
   "execution_count": 66,
   "metadata": {},
   "outputs": [
    {
     "name": "stdout",
     "output_type": "stream",
     "text": [
      "[1] 1\n",
      "[1] 2\n",
      "[1] 3\n",
      "[1] \"Counter is now bigger than or equal to 3!\"\n",
      "[1] 4\n",
      "[1] \"Counter is now bigger than or equal to 3!\"\n",
      "[1] 5\n",
      "[1] \"Counter is now bigger than or equal to 3!\"\n"
     ]
    }
   ],
   "source": [
    "counter <- 0\n",
    "\n",
    "for (i in 1:5) {\n",
    "    counter <- counter + 1\n",
    "    \n",
    "    print(counter)\n",
    "    \n",
    "    if (counter >= 3) {\n",
    "        print(\"Counter is now bigger than or equal to 3!\")\n",
    "    }\n",
    "}"
   ]
  },
  {
   "cell_type": "markdown",
   "metadata": {},
   "source": [
    "### Adding `else` to the mix"
   ]
  },
  {
   "cell_type": "markdown",
   "metadata": {},
   "source": [
    "`else` means \"otherwise\". We can use `if` and `else` with each other to write code that follows this pattern:\n",
    "\n",
    "```\n",
    "if (this statement is true) {\n",
    "    do everything here\n",
    "}\n",
    "else {\n",
    "    do everything here instead\n",
    "}\n",
    "```\n",
    "\n",
    "Here's an example. Practice reading the code line by line to understand each piece:"
   ]
  },
  {
   "cell_type": "code",
   "execution_count": 67,
   "metadata": {},
   "outputs": [
    {
     "name": "stdout",
     "output_type": "stream",
     "text": [
      "[1] 1\n",
      "[1] \"Counter is less than 3!\"\n",
      "[1] 2\n",
      "[1] \"Counter is less than 3!\"\n",
      "[1] 3\n",
      "[1] \"Counter is now bigger than or equal to 3!\"\n",
      "[1] 4\n",
      "[1] \"Counter is now bigger than or equal to 3!\"\n",
      "[1] 5\n",
      "[1] \"Counter is now bigger than or equal to 3!\"\n"
     ]
    }
   ],
   "source": [
    "counter <- 0\n",
    "\n",
    "for (i in 1:5) {\n",
    "    counter <- counter + 1\n",
    "    \n",
    "    print(counter)\n",
    "    \n",
    "    if (counter >= 3) {\n",
    "        print(\"Counter is now bigger than or equal to 3!\")\n",
    "    }\n",
    "    else {\n",
    "        print(\"Counter is less than 3!\")\n",
    "    }\n",
    "}"
   ]
  },
  {
   "cell_type": "markdown",
   "metadata": {},
   "source": [
    "### 🚀 Exercise\n",
    "\n",
    "**Write a `for` loop to count off all the numbers from 1 to 10. Print \"Bigger than 5!\" after each number that is bigger than 5.**"
   ]
  },
  {
   "cell_type": "code",
   "execution_count": 68,
   "metadata": {},
   "outputs": [
    {
     "name": "stdout",
     "output_type": "stream",
     "text": [
      "[1] 1\n",
      "[1] 2\n",
      "[1] 3\n",
      "[1] 4\n",
      "[1] 5\n",
      "[1] 6\n",
      "[1] \"Bigger than 5!\"\n",
      "[1] 7\n",
      "[1] \"Bigger than 5!\"\n",
      "[1] 8\n",
      "[1] \"Bigger than 5!\"\n",
      "[1] 9\n",
      "[1] \"Bigger than 5!\"\n",
      "[1] 10\n",
      "[1] \"Bigger than 5!\"\n"
     ]
    }
   ],
   "source": [
    "# Your code here!\n",
    "\n",
    "# START\n",
    "for (i in 1:10) {\n",
    "    print(i)\n",
    "    \n",
    "    if (i > 5) {\n",
    "        print(\"Bigger than 5!\")\n",
    "    }\n",
    "}\n",
    "# END"
   ]
  },
  {
   "cell_type": "markdown",
   "metadata": {},
   "source": [
    "### 🚀 Exercise\n",
    "\n",
    "**Generate a vector of 20 birthdays, and print the birthdays that fall in the first half of the year.**"
   ]
  },
  {
   "cell_type": "code",
   "execution_count": 69,
   "metadata": {},
   "outputs": [
    {
     "name": "stdout",
     "output_type": "stream",
     "text": [
      "[1] 161\n",
      "[1] 26\n",
      "[1] 72\n",
      "[1] 73\n",
      "[1] 177\n",
      "[1] 123\n",
      "[1] 62\n",
      "[1] 146\n",
      "[1] 91\n"
     ]
    }
   ],
   "source": [
    "# Your code here!\n",
    "\n",
    "# START\n",
    "birthdays <- sample(1:366, 20, replace = TRUE)\n",
    "\n",
    "for (birthday in birthdays) {\n",
    "    if (birthday < 183) {\n",
    "        print(birthday)\n",
    "    }\n",
    "}\n",
    "# END"
   ]
  },
  {
   "cell_type": "markdown",
   "metadata": {},
   "source": [
    "## Back to the birthday problem: Translating our algorithm into code"
   ]
  },
  {
   "cell_type": "markdown",
   "metadata": {},
   "source": [
    "We're ready to come back to our algorithm:\n",
    "\n",
    "> 1. We need a room of 60 people, and we need to know their birthdays.\n",
    "> 2. We need to check whether two people in that room share a birthday.\n",
    "> 3. We need to repeat this process over and over.\n",
    "> 4. We need to figure out how frequently two or more people shared a birthday."
   ]
  },
  {
   "cell_type": "markdown",
   "metadata": {},
   "source": [
    "### 🚀 Exercise\n",
    "\n",
    "**Translate our algorithm into code to solve the birthday problem!** 🙀\n",
    "\n",
    "How often will at least two people share a birthday in a room of 60 people? Are you surprised with the result?"
   ]
  },
  {
   "cell_type": "code",
   "execution_count": 70,
   "metadata": {},
   "outputs": [
    {
     "data": {
      "text/html": [
       "0.993"
      ],
      "text/latex": [
       "0.993"
      ],
      "text/markdown": [
       "0.993"
      ],
      "text/plain": [
       "[1] 0.993"
      ]
     },
     "metadata": {},
     "output_type": "display_data"
    }
   ],
   "source": [
    "# Your code here!\n",
    "\n",
    "# START\n",
    "# This is the total number of birthday vectors we will generate\n",
    "# 10000 is arbitrary. we just need something \"big enough\"\n",
    "n <- 10000\n",
    "\n",
    "# This is a counter to keep track of how many vectors had at least \n",
    "# one duplicate birthday\n",
    "n_with_duplicates <- 0\n",
    "\n",
    "# Each time we see a vector with at least one duplicate, we should\n",
    "# increment our counter\n",
    "for (i in 1:n) {\n",
    "    \n",
    "    birthdays = sample(1:366, 60, replace = TRUE)\n",
    "    \n",
    "    if (has_duplicate(birthdays)) {\n",
    "        \n",
    "        n_with_duplicates <- n_with_duplicates + 1\n",
    "    }\n",
    "    \n",
    "}\n",
    "\n",
    "# Fraction of vectors with at least one duplicate\n",
    "n_with_duplicates / n\n",
    "# END"
   ]
  },
  {
   "cell_type": "markdown",
   "metadata": {},
   "source": [
    "### 🚀 Additional exercises\n",
    "\n",
    "**A. Decrease the number of birthdays we generate in each birthday vector, and re-run the code several times. What happens to the fraction of vectors with duplicates?**"
   ]
  },
  {
   "cell_type": "code",
   "execution_count": 90,
   "metadata": {},
   "outputs": [
    {
     "data": {
      "text/html": [
       "0.1183"
      ],
      "text/latex": [
       "0.1183"
      ],
      "text/markdown": [
       "0.1183"
      ],
      "text/plain": [
       "[1] 0.1183"
      ]
     },
     "metadata": {},
     "output_type": "display_data"
    }
   ],
   "source": [
    "# Your code here!\n",
    "\n",
    "# START\n",
    "n <- 10000\n",
    "\n",
    "n_with_duplicates <- 0\n",
    "\n",
    "for (i in 1:n) {\n",
    "    \n",
    "    birthdays = sample(1:366, 10, replace = TRUE)\n",
    "    \n",
    "    if (has_duplicate(birthdays)) {\n",
    "        \n",
    "        n_with_duplicates <- n_with_duplicates + 1\n",
    "    }\n",
    "    \n",
    "}\n",
    "\n",
    "n_with_duplicates / n\n",
    "\n",
    "# The chance of a match goes down! \n",
    "\n",
    "# END"
   ]
  },
  {
   "cell_type": "markdown",
   "metadata": {},
   "source": [
    "**B. Decrease the number of birthday vectors, and re-run the code several times. What happens to the results?**"
   ]
  },
  {
   "cell_type": "code",
   "execution_count": 92,
   "metadata": {},
   "outputs": [
    {
     "data": {
      "text/html": [
       "0.99"
      ],
      "text/latex": [
       "0.99"
      ],
      "text/markdown": [
       "0.99"
      ],
      "text/plain": [
       "[1] 0.99"
      ]
     },
     "metadata": {},
     "output_type": "display_data"
    }
   ],
   "source": [
    "# Your code here!\n",
    "\n",
    "# START\n",
    "n <- 100\n",
    "\n",
    "n_with_duplicates <- 0\n",
    "\n",
    "for (i in 1:n) {\n",
    "    \n",
    "    birthdays = sample(1:366, 60, replace = TRUE)\n",
    "    \n",
    "    if (has_duplicate(birthdays)) {\n",
    "        \n",
    "        n_with_duplicates <- n_with_duplicates + 1\n",
    "    }\n",
    "    \n",
    "}\n",
    "\n",
    "n_with_duplicates / n\n",
    "\n",
    "# The precision of our estimate gets worse! \n",
    "\n",
    "# END"
   ]
  },
  {
   "cell_type": "markdown",
   "metadata": {},
   "source": [
    "**C. Increase the number of birthday vectors to something really big, and re-run the code several times. What happens to the results?**"
   ]
  },
  {
   "cell_type": "code",
   "execution_count": 93,
   "metadata": {},
   "outputs": [
    {
     "data": {
      "text/html": [
       "0.99364"
      ],
      "text/latex": [
       "0.99364"
      ],
      "text/markdown": [
       "0.99364"
      ],
      "text/plain": [
       "[1] 0.99364"
      ]
     },
     "metadata": {},
     "output_type": "display_data"
    }
   ],
   "source": [
    "# Your code here!\n",
    "\n",
    "# START\n",
    "n <- 100000\n",
    "\n",
    "n_with_duplicates <- 0\n",
    "\n",
    "for (i in 1:n) {\n",
    "    \n",
    "    birthdays = sample(1:366, 60, replace = TRUE)\n",
    "    \n",
    "    if (has_duplicate(birthdays)) {\n",
    "        \n",
    "        n_with_duplicates <- n_with_duplicates + 1\n",
    "    }\n",
    "    \n",
    "}\n",
    "\n",
    "n_with_duplicates / n\n",
    "\n",
    "# The precision of our estimate goes up, but the code runs slower!\n",
    "\n",
    "# END"
   ]
  },
  {
   "cell_type": "markdown",
   "metadata": {},
   "source": [
    "**D. How many birthdays should be in each vector for an approximately 50% chance of a match?**"
   ]
  },
  {
   "cell_type": "code",
   "execution_count": 95,
   "metadata": {},
   "outputs": [
    {
     "data": {
      "text/html": [
       "0.481"
      ],
      "text/latex": [
       "0.481"
      ],
      "text/markdown": [
       "0.481"
      ],
      "text/plain": [
       "[1] 0.481"
      ]
     },
     "metadata": {},
     "output_type": "display_data"
    }
   ],
   "source": [
    "# Your code here!\n",
    "\n",
    "# START\n",
    "n <- 1000\n",
    "\n",
    "n_with_duplicates <- 0\n",
    "\n",
    "for (i in 1:n) {\n",
    "    \n",
    "    birthdays = sample(1:366, 23, replace = TRUE)\n",
    "    \n",
    "    if (has_duplicate(birthdays)) {\n",
    "        \n",
    "        n_with_duplicates <- n_with_duplicates + 1\n",
    "    }\n",
    "    \n",
    "}\n",
    "\n",
    "n_with_duplicates / n\n",
    "\n",
    "# This takes some trial and error, but the closest we can get to \n",
    "# 50% is with 23 birthdays per vector.\n",
    "\n",
    "# In a classroom of just 23 students, there is a ~50% chance of\n",
    "# a matched birthday!\n",
    "\n",
    "# END"
   ]
  },
  {
   "cell_type": "markdown",
   "metadata": {},
   "source": [
    "## Circling back to double voting\n",
    "\n",
    "Remember our original problem:\n",
    "\n",
    "> In the 2012 election, there were 141 individuals named \"John Smith\" who were born in 1970, and 27 pairs had exactly the same birthday.\n",
    "\n",
    "## 🚀 Exercise\n",
    "\n",
    "**Modify the simulation code to calculate the average number of birthday duplicates in 1,000 vectors of 141 individuals.**\n",
    "\n",
    "How does your answer compare to the 27 birthday pairs we found in the real data?"
   ]
  },
  {
   "cell_type": "code",
   "execution_count": 96,
   "metadata": {},
   "outputs": [
    {
     "data": {
      "text/html": [
       "26.586"
      ],
      "text/latex": [
       "26.586"
      ],
      "text/markdown": [
       "26.586"
      ],
      "text/plain": [
       "[1] 26.586"
      ]
     },
     "metadata": {},
     "output_type": "display_data"
    }
   ],
   "source": [
    "# Your code here!\n",
    "\n",
    "# START\n",
    "n <- 1000\n",
    "\n",
    "n_pairs <- 0\n",
    "\n",
    "for (i in 1:n) {\n",
    "    \n",
    "    birthdays = sample(1:366, 141, replace = TRUE)\n",
    "        \n",
    "    n_pairs <- n_pairs + num_pairs(birthdays)\n",
    "    \n",
    "}\n",
    "\n",
    "# Spooky! It's actually really close to 27. By chance, we'd expect\n",
    "# to see 27 pairs on average. Keep in mind, though, we're not guaranteed to\n",
    "# see 27 pairs for every 141 birthdays. We just got lucky.\n",
    "\n",
    "n_pairs / n\n",
    "# END"
   ]
  },
  {
   "cell_type": "markdown",
   "metadata": {},
   "source": [
    "### 📝 Extension topic: Vectorized functions\n",
    "\n",
    "Often, we'll want to apply the same function to every element in a vector. Rather than use a `for` loop, it is more efficient to use a vectorized function, such as `replicate` or `map`. \n",
    "\n",
    "> 🔎 Vectorization leverages parallel processing, which allows your computer to tackle multiple computations at the same time.\n",
    "\n",
    "Here's how `replicate` works:\n",
    "\n",
    "> `replicate(number of times to perform an action, the action)`"
   ]
  },
  {
   "cell_type": "markdown",
   "metadata": {},
   "source": [
    "### ⏭️ Optional extension problem\n",
    "\n",
    "**Use `replicate` to generate 3 vectors of 10 random birthdays.**"
   ]
  },
  {
   "cell_type": "code",
   "execution_count": 97,
   "metadata": {},
   "outputs": [
    {
     "data": {
      "text/html": [
       "<table class=\"dataframe\">\n",
       "<caption>A matrix: 10 × 3 of type int</caption>\n",
       "<tbody>\n",
       "\t<tr><td> 95</td><td> 95</td><td> 95</td></tr>\n",
       "\t<tr><td>251</td><td>251</td><td>251</td></tr>\n",
       "\t<tr><td>347</td><td>347</td><td>347</td></tr>\n",
       "\t<tr><td>169</td><td>169</td><td>169</td></tr>\n",
       "\t<tr><td> 64</td><td> 64</td><td> 64</td></tr>\n",
       "\t<tr><td>147</td><td>147</td><td>147</td></tr>\n",
       "\t<tr><td>105</td><td>105</td><td>105</td></tr>\n",
       "\t<tr><td>131</td><td>131</td><td>131</td></tr>\n",
       "\t<tr><td>274</td><td>274</td><td>274</td></tr>\n",
       "\t<tr><td>347</td><td>347</td><td>347</td></tr>\n",
       "</tbody>\n",
       "</table>\n"
      ],
      "text/latex": [
       "A matrix: 10 × 3 of type int\n",
       "\\begin{tabular}{lll}\n",
       "\t  95 &  95 &  95\\\\\n",
       "\t 251 & 251 & 251\\\\\n",
       "\t 347 & 347 & 347\\\\\n",
       "\t 169 & 169 & 169\\\\\n",
       "\t  64 &  64 &  64\\\\\n",
       "\t 147 & 147 & 147\\\\\n",
       "\t 105 & 105 & 105\\\\\n",
       "\t 131 & 131 & 131\\\\\n",
       "\t 274 & 274 & 274\\\\\n",
       "\t 347 & 347 & 347\\\\\n",
       "\\end{tabular}\n"
      ],
      "text/markdown": [
       "\n",
       "A matrix: 10 × 3 of type int\n",
       "\n",
       "|  95 |  95 |  95 |\n",
       "| 251 | 251 | 251 |\n",
       "| 347 | 347 | 347 |\n",
       "| 169 | 169 | 169 |\n",
       "|  64 |  64 |  64 |\n",
       "| 147 | 147 | 147 |\n",
       "| 105 | 105 | 105 |\n",
       "| 131 | 131 | 131 |\n",
       "| 274 | 274 | 274 |\n",
       "| 347 | 347 | 347 |\n",
       "\n"
      ],
      "text/plain": [
       "      [,1] [,2] [,3]\n",
       " [1,]  95   95   95 \n",
       " [2,] 251  251  251 \n",
       " [3,] 347  347  347 \n",
       " [4,] 169  169  169 \n",
       " [5,]  64   64   64 \n",
       " [6,] 147  147  147 \n",
       " [7,] 105  105  105 \n",
       " [8,] 131  131  131 \n",
       " [9,] 274  274  274 \n",
       "[10,] 347  347  347 "
      ]
     },
     "metadata": {},
     "output_type": "display_data"
    }
   ],
   "source": [
    "# Your code here!\n",
    "\n",
    "# START\n",
    "birthdays = sample(1:366, 10, replace = TRUE)\n",
    "replicate(3, birthdays)\n",
    "# END"
   ]
  },
  {
   "cell_type": "markdown",
   "metadata": {},
   "source": [
    "### ⏭️ Optional extension problem"
   ]
  },
  {
   "cell_type": "markdown",
   "metadata": {},
   "source": [
    "`map` is a function from the `purrr` package that is more powerful than `replicate`. You can read more about `map` [at this link](https://purrr.tidyverse.org/reference/map.html), or run `?purrr::map`.\n",
    "\n",
    "> 🔎 `purrr` is part of the `tidyverse`, a set of popular `R` packages used for data analysis. We will learn more about the `tidyverse` in a later tutorial. \n",
    "\n",
    "Use `purrr::map` to generate 3 vectors of 10 random birthdays.\n",
    "\n",
    "> 🔎 The double colon (`::`) notation means use the `map` function from the `purrr` library. We could also run `library(purrr)` to load in all the functions from `purrr` to avoid using `purrr::` before `map`."
   ]
  },
  {
   "cell_type": "code",
   "execution_count": 110,
   "metadata": {},
   "outputs": [
    {
     "data": {
      "text/html": [
       "<ol>\n",
       "\t<li><style>\n",
       ".list-inline {list-style: none; margin:0; padding: 0}\n",
       ".list-inline>li {display: inline-block}\n",
       ".list-inline>li:not(:last-child)::after {content: \"\\00b7\"; padding: 0 .5ex}\n",
       "</style>\n",
       "<ol class=list-inline><li>34</li><li>69</li><li>199</li><li>60</li><li>176</li><li>342</li><li>100</li><li>317</li><li>223</li><li>98</li></ol>\n",
       "</li>\n",
       "\t<li><style>\n",
       ".list-inline {list-style: none; margin:0; padding: 0}\n",
       ".list-inline>li {display: inline-block}\n",
       ".list-inline>li:not(:last-child)::after {content: \"\\00b7\"; padding: 0 .5ex}\n",
       "</style>\n",
       "<ol class=list-inline><li>77</li><li>345</li><li>83</li><li>282</li><li>213</li><li>233</li><li>35</li><li>304</li><li>18</li><li>59</li></ol>\n",
       "</li>\n",
       "\t<li><style>\n",
       ".list-inline {list-style: none; margin:0; padding: 0}\n",
       ".list-inline>li {display: inline-block}\n",
       ".list-inline>li:not(:last-child)::after {content: \"\\00b7\"; padding: 0 .5ex}\n",
       "</style>\n",
       "<ol class=list-inline><li>333</li><li>172</li><li>323</li><li>346</li><li>326</li><li>233</li><li>82</li><li>49</li><li>74</li><li>41</li></ol>\n",
       "</li>\n",
       "</ol>\n"
      ],
      "text/latex": [
       "\\begin{enumerate}\n",
       "\\item \\begin{enumerate*}\n",
       "\\item 34\n",
       "\\item 69\n",
       "\\item 199\n",
       "\\item 60\n",
       "\\item 176\n",
       "\\item 342\n",
       "\\item 100\n",
       "\\item 317\n",
       "\\item 223\n",
       "\\item 98\n",
       "\\end{enumerate*}\n",
       "\n",
       "\\item \\begin{enumerate*}\n",
       "\\item 77\n",
       "\\item 345\n",
       "\\item 83\n",
       "\\item 282\n",
       "\\item 213\n",
       "\\item 233\n",
       "\\item 35\n",
       "\\item 304\n",
       "\\item 18\n",
       "\\item 59\n",
       "\\end{enumerate*}\n",
       "\n",
       "\\item \\begin{enumerate*}\n",
       "\\item 333\n",
       "\\item 172\n",
       "\\item 323\n",
       "\\item 346\n",
       "\\item 326\n",
       "\\item 233\n",
       "\\item 82\n",
       "\\item 49\n",
       "\\item 74\n",
       "\\item 41\n",
       "\\end{enumerate*}\n",
       "\n",
       "\\end{enumerate}\n"
      ],
      "text/markdown": [
       "1. 1. 34\n",
       "2. 69\n",
       "3. 199\n",
       "4. 60\n",
       "5. 176\n",
       "6. 342\n",
       "7. 100\n",
       "8. 317\n",
       "9. 223\n",
       "10. 98\n",
       "\n",
       "\n",
       "\n",
       "2. 1. 77\n",
       "2. 345\n",
       "3. 83\n",
       "4. 282\n",
       "5. 213\n",
       "6. 233\n",
       "7. 35\n",
       "8. 304\n",
       "9. 18\n",
       "10. 59\n",
       "\n",
       "\n",
       "\n",
       "3. 1. 333\n",
       "2. 172\n",
       "3. 323\n",
       "4. 346\n",
       "5. 326\n",
       "6. 233\n",
       "7. 82\n",
       "8. 49\n",
       "9. 74\n",
       "10. 41\n",
       "\n",
       "\n",
       "\n",
       "\n",
       "\n"
      ],
      "text/plain": [
       "[[1]]\n",
       " [1]  34  69 199  60 176 342 100 317 223  98\n",
       "\n",
       "[[2]]\n",
       " [1]  77 345  83 282 213 233  35 304  18  59\n",
       "\n",
       "[[3]]\n",
       " [1] 333 172 323 346 326 233  82  49  74  41\n"
      ]
     },
     "metadata": {},
     "output_type": "display_data"
    },
    {
     "data": {
      "text/html": [
       "<ol>\n",
       "\t<li><style>\n",
       ".list-inline {list-style: none; margin:0; padding: 0}\n",
       ".list-inline>li {display: inline-block}\n",
       ".list-inline>li:not(:last-child)::after {content: \"\\00b7\"; padding: 0 .5ex}\n",
       "</style>\n",
       "<ol class=list-inline><li>18</li><li>84</li><li>363</li><li>121</li><li>32</li><li>325</li><li>311</li><li>30</li><li>185</li><li>188</li></ol>\n",
       "</li>\n",
       "\t<li><style>\n",
       ".list-inline {list-style: none; margin:0; padding: 0}\n",
       ".list-inline>li {display: inline-block}\n",
       ".list-inline>li:not(:last-child)::after {content: \"\\00b7\"; padding: 0 .5ex}\n",
       "</style>\n",
       "<ol class=list-inline><li>262</li><li>335</li><li>365</li><li>218</li><li>313</li><li>359</li><li>300</li><li>114</li><li>261</li><li>100</li></ol>\n",
       "</li>\n",
       "\t<li><style>\n",
       ".list-inline {list-style: none; margin:0; padding: 0}\n",
       ".list-inline>li {display: inline-block}\n",
       ".list-inline>li:not(:last-child)::after {content: \"\\00b7\"; padding: 0 .5ex}\n",
       "</style>\n",
       "<ol class=list-inline><li>312</li><li>203</li><li>200</li><li>45</li><li>304</li><li>360</li><li>323</li><li>233</li><li>52</li><li>354</li></ol>\n",
       "</li>\n",
       "</ol>\n"
      ],
      "text/latex": [
       "\\begin{enumerate}\n",
       "\\item \\begin{enumerate*}\n",
       "\\item 18\n",
       "\\item 84\n",
       "\\item 363\n",
       "\\item 121\n",
       "\\item 32\n",
       "\\item 325\n",
       "\\item 311\n",
       "\\item 30\n",
       "\\item 185\n",
       "\\item 188\n",
       "\\end{enumerate*}\n",
       "\n",
       "\\item \\begin{enumerate*}\n",
       "\\item 262\n",
       "\\item 335\n",
       "\\item 365\n",
       "\\item 218\n",
       "\\item 313\n",
       "\\item 359\n",
       "\\item 300\n",
       "\\item 114\n",
       "\\item 261\n",
       "\\item 100\n",
       "\\end{enumerate*}\n",
       "\n",
       "\\item \\begin{enumerate*}\n",
       "\\item 312\n",
       "\\item 203\n",
       "\\item 200\n",
       "\\item 45\n",
       "\\item 304\n",
       "\\item 360\n",
       "\\item 323\n",
       "\\item 233\n",
       "\\item 52\n",
       "\\item 354\n",
       "\\end{enumerate*}\n",
       "\n",
       "\\end{enumerate}\n"
      ],
      "text/markdown": [
       "1. 1. 18\n",
       "2. 84\n",
       "3. 363\n",
       "4. 121\n",
       "5. 32\n",
       "6. 325\n",
       "7. 311\n",
       "8. 30\n",
       "9. 185\n",
       "10. 188\n",
       "\n",
       "\n",
       "\n",
       "2. 1. 262\n",
       "2. 335\n",
       "3. 365\n",
       "4. 218\n",
       "5. 313\n",
       "6. 359\n",
       "7. 300\n",
       "8. 114\n",
       "9. 261\n",
       "10. 100\n",
       "\n",
       "\n",
       "\n",
       "3. 1. 312\n",
       "2. 203\n",
       "3. 200\n",
       "4. 45\n",
       "5. 304\n",
       "6. 360\n",
       "7. 323\n",
       "8. 233\n",
       "9. 52\n",
       "10. 354\n",
       "\n",
       "\n",
       "\n",
       "\n",
       "\n"
      ],
      "text/plain": [
       "[[1]]\n",
       " [1]  18  84 363 121  32 325 311  30 185 188\n",
       "\n",
       "[[2]]\n",
       " [1] 262 335 365 218 313 359 300 114 261 100\n",
       "\n",
       "[[3]]\n",
       " [1] 312 203 200  45 304 360 323 233  52 354\n"
      ]
     },
     "metadata": {},
     "output_type": "display_data"
    }
   ],
   "source": [
    "# Your code here!\n",
    "\n",
    "# START\n",
    "purrr::map(1:3, ~ sample(1:366, 10, replace = TRUE))\n",
    "\n",
    "# Even better:\n",
    "generate_n_birthdays = function(n) {\n",
    "    sample(1:366, n, replace = TRUE)\n",
    "}\n",
    "\n",
    "purrr::map(1:3, ~ generate_n_birthdays(10))\n",
    "# END"
   ]
  },
  {
   "cell_type": "markdown",
   "metadata": {},
   "source": [
    "### ⏭️ Optional extension problem\n",
    "\n",
    "Solve the birthday problem without using a `for` loop.\n",
    "\n",
    "How many birthday pairs would you expect from 141 individuals born in the same year?"
   ]
  },
  {
   "cell_type": "code",
   "execution_count": 111,
   "metadata": {},
   "outputs": [
    {
     "name": "stdout",
     "output_type": "stream",
     "text": [
      "[1] 26.925\n"
     ]
    }
   ],
   "source": [
    "# Your code here!\n",
    "\n",
    "# START\n",
    "n_sims = 1000\n",
    "sim_counts = purrr::map_dbl(1:n_sims, ~ num_pairs(generate_n_birthdays(141)))\n",
    "print(mean(sim_counts))\n",
    "# END"
   ]
  }
 ],
 "metadata": {
  "kernelspec": {
   "display_name": "R",
   "language": "R",
   "name": "ir"
  },
  "language_info": {
   "codemirror_mode": "r",
   "file_extension": ".r",
   "mimetype": "text/x-r-source",
   "name": "R",
   "pygments_lexer": "r",
   "version": "4.2.1"
  }
 },
 "nbformat": 4,
 "nbformat_minor": 4
}
