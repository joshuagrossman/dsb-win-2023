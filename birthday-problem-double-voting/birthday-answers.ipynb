{
 "cells": [
  {
   "cell_type": "markdown",
   "metadata": {},
   "source": [
    "# 🗳️ Double voting and 🎂 the birthday problem with `R`"
   ]
  },
  {
   "cell_type": "markdown",
   "metadata": {},
   "source": [
    "<img src=\"img/voting.jpg\" alt=\"voting\" width=\"400\" align=\"left\"/>"
   ]
  },
  {
   "cell_type": "markdown",
   "metadata": {},
   "source": [
    "## Introduction"
   ]
  },
  {
   "cell_type": "markdown",
   "metadata": {},
   "source": [
    "Claims of voter fraud are widespread. Here's one example:"
   ]
  },
  {
   "cell_type": "markdown",
   "metadata": {},
   "source": [
    "> **“Probably over a million people voted twice \n",
    "in [the 2012 presidential] election.”**\n",
    ">\n",
    "> Dick Morris, in 2014 on Fox News"
   ]
  },
  {
   "cell_type": "markdown",
   "metadata": {},
   "source": [
    "Voter fraud can take place in a number of ways, including tampering with voting machines 📠, destroying ballots 🗳️, and impersonating voters 🤖. Today, though, we will explore \n",
    "**double voting**, which occurs when a single person illegally casts more than one vote in an election.\n",
    "\n",
    "To start, consider this fact:\n",
    "\n",
    "> In the 2012 election, there were 141 individuals named \"John Smith\" who were born in 1970, and 27 of those individuals had exactly the same birthday.\n",
    "\n",
    "Were there 27 fraudulent \"John Smith\" ballots in the 2012 election? Let's find out."
   ]
  },
  {
   "cell_type": "markdown",
   "metadata": {},
   "source": [
    "## 🎂 The birthday problem 🎂"
   ]
  },
  {
   "cell_type": "markdown",
   "metadata": {},
   "source": [
    "<img src=\"img/birthday.jpg\" alt=\"voting\" width=\"200\" align=\"left\"/>"
   ]
  },
  {
   "cell_type": "markdown",
   "metadata": {},
   "source": [
    "🚀 Let's start with a similar problem: \n",
    "\n",
    "> In a room of 60 people, how likely is it that two people share exactly the same birthday? \n",
    ">\n",
    "> Assume that every person in the room was born in the same year."
   ]
  },
  {
   "cell_type": "markdown",
   "metadata": {},
   "source": [
    "Before moving forward, think to yourself what could be a reasonable answer. 10\\%? 50\\%? 90\\%? Something else?"
   ]
  },
  {
   "cell_type": "markdown",
   "metadata": {},
   "source": [
    "🖥️ To formally answer this question, we could use the following **algorithm**:\n",
    "\n",
    " > 1️⃣ We need a room of 60 people, and we need to know their birthdays.\n",
    " \n",
    " > 2️⃣ We need to check whether two people in that room share a birthday.\n",
    " \n",
    " > 3️⃣ We need to repeat steps 1 and 2 over and over.\n",
    " \n",
    " > 4️⃣ We need to figure out how often two or more people shared a birthday."
   ]
  },
  {
   "cell_type": "markdown",
   "metadata": {},
   "source": [
    "At the end of this tutorial, you'll be able to implement this algorithm in `R`!"
   ]
  },
  {
   "cell_type": "markdown",
   "metadata": {},
   "source": [
    "## 📝 The `sample` command"
   ]
  },
  {
   "cell_type": "markdown",
   "metadata": {},
   "source": [
    "Here's the first step of our algorithm:\n",
    "\n",
    "> 1️⃣ We need a room of 60 people, and we need to know their birthdays.\n",
    "\n",
    "To simulate this in `R`, we could use the `sample` command, which works as follows:\n",
    "\n",
    "> `sample(numbers to choose from, how many numbers to choose, whether to \"put back\" numbers)`"
   ]
  },
  {
   "cell_type": "code",
   "execution_count": 55,
   "metadata": {},
   "outputs": [
    {
     "data": {
      "text/html": [
       "<style>\n",
       ".list-inline {list-style: none; margin:0; padding: 0}\n",
       ".list-inline>li {display: inline-block}\n",
       ".list-inline>li:not(:last-child)::after {content: \"\\00b7\"; padding: 0 .5ex}\n",
       "</style>\n",
       "<ol class=list-inline><li>2</li><li>3</li><li>6</li><li>10</li><li>8</li></ol>\n"
      ],
      "text/latex": [
       "\\begin{enumerate*}\n",
       "\\item 2\n",
       "\\item 3\n",
       "\\item 6\n",
       "\\item 10\n",
       "\\item 8\n",
       "\\end{enumerate*}\n"
      ],
      "text/markdown": [
       "1. 2\n",
       "2. 3\n",
       "3. 6\n",
       "4. 10\n",
       "5. 8\n",
       "\n",
       "\n"
      ],
      "text/plain": [
       "[1]  2  3  6 10  8"
      ]
     },
     "metadata": {},
     "output_type": "display_data"
    }
   ],
   "source": [
    "# To run code in a cell, click on the cell, and then \n",
    "# you can either press SHIFT + ENTER, \n",
    "# or press the triangular play button on the left side of this cell.\n",
    "#\n",
    "# Note: the colon symbol a:b allows us to create lists of consecutive \n",
    "# integers from a to b.\n",
    "#\n",
    "# Text that starts with a hash (#) is called a comment. It's a little note\n",
    "# in your code that has no effect on the output.\n",
    "\n",
    "sample(1:10, 5, replace = FALSE)"
   ]
  },
  {
   "cell_type": "code",
   "execution_count": 56,
   "metadata": {},
   "outputs": [
    {
     "data": {
      "text/html": [
       "<style>\n",
       ".list-inline {list-style: none; margin:0; padding: 0}\n",
       ".list-inline>li {display: inline-block}\n",
       ".list-inline>li:not(:last-child)::after {content: \"\\00b7\"; padding: 0 .5ex}\n",
       "</style>\n",
       "<ol class=list-inline><li>1</li><li>1</li><li>2</li><li>2</li><li>3</li></ol>\n"
      ],
      "text/latex": [
       "\\begin{enumerate*}\n",
       "\\item 1\n",
       "\\item 1\n",
       "\\item 2\n",
       "\\item 2\n",
       "\\item 3\n",
       "\\end{enumerate*}\n"
      ],
      "text/markdown": [
       "1. 1\n",
       "2. 1\n",
       "3. 2\n",
       "4. 2\n",
       "5. 3\n",
       "\n",
       "\n"
      ],
      "text/plain": [
       "[1] 1 1 2 2 3"
      ]
     },
     "metadata": {},
     "output_type": "display_data"
    }
   ],
   "source": [
    "sample(1:3, 5, replace = TRUE)"
   ]
  },
  {
   "cell_type": "code",
   "execution_count": 57,
   "metadata": {},
   "outputs": [],
   "source": [
    "# Uncomment the line below and run the cell. Why does it fail?\n",
    "# sample(1:5, 6, replace = FALSE)"
   ]
  },
  {
   "cell_type": "markdown",
   "metadata": {},
   "source": [
    "### 🚀 Exercise\n",
    "\n",
    "**Using `sample`, simulate a random draw of 60 birthdays.**"
   ]
  },
  {
   "cell_type": "code",
   "execution_count": 58,
   "metadata": {},
   "outputs": [
    {
     "data": {
      "text/html": [
       "<style>\n",
       ".list-inline {list-style: none; margin:0; padding: 0}\n",
       ".list-inline>li {display: inline-block}\n",
       ".list-inline>li:not(:last-child)::after {content: \"\\00b7\"; padding: 0 .5ex}\n",
       "</style>\n",
       "<ol class=list-inline><li>276</li><li>57</li><li>173</li><li>129</li><li>148</li><li>66</li><li>84</li><li>8</li><li>297</li><li>30</li><li>57</li><li>61</li><li>185</li><li>118</li><li>235</li><li>56</li><li>347</li><li>84</li><li>189</li><li>28</li><li>218</li><li>272</li><li>249</li><li>338</li><li>170</li><li>134</li><li>185</li><li>250</li><li>43</li><li>60</li><li>352</li><li>30</li><li>239</li><li>192</li><li>82</li><li>343</li><li>312</li><li>51</li><li>29</li><li>193</li><li>130</li><li>140</li><li>23</li><li>161</li><li>312</li><li>210</li><li>4</li><li>161</li><li>221</li><li>296</li><li>338</li><li>95</li><li>293</li><li>288</li><li>173</li><li>168</li><li>176</li><li>139</li><li>282</li><li>220</li></ol>\n"
      ],
      "text/latex": [
       "\\begin{enumerate*}\n",
       "\\item 276\n",
       "\\item 57\n",
       "\\item 173\n",
       "\\item 129\n",
       "\\item 148\n",
       "\\item 66\n",
       "\\item 84\n",
       "\\item 8\n",
       "\\item 297\n",
       "\\item 30\n",
       "\\item 57\n",
       "\\item 61\n",
       "\\item 185\n",
       "\\item 118\n",
       "\\item 235\n",
       "\\item 56\n",
       "\\item 347\n",
       "\\item 84\n",
       "\\item 189\n",
       "\\item 28\n",
       "\\item 218\n",
       "\\item 272\n",
       "\\item 249\n",
       "\\item 338\n",
       "\\item 170\n",
       "\\item 134\n",
       "\\item 185\n",
       "\\item 250\n",
       "\\item 43\n",
       "\\item 60\n",
       "\\item 352\n",
       "\\item 30\n",
       "\\item 239\n",
       "\\item 192\n",
       "\\item 82\n",
       "\\item 343\n",
       "\\item 312\n",
       "\\item 51\n",
       "\\item 29\n",
       "\\item 193\n",
       "\\item 130\n",
       "\\item 140\n",
       "\\item 23\n",
       "\\item 161\n",
       "\\item 312\n",
       "\\item 210\n",
       "\\item 4\n",
       "\\item 161\n",
       "\\item 221\n",
       "\\item 296\n",
       "\\item 338\n",
       "\\item 95\n",
       "\\item 293\n",
       "\\item 288\n",
       "\\item 173\n",
       "\\item 168\n",
       "\\item 176\n",
       "\\item 139\n",
       "\\item 282\n",
       "\\item 220\n",
       "\\end{enumerate*}\n"
      ],
      "text/markdown": [
       "1. 276\n",
       "2. 57\n",
       "3. 173\n",
       "4. 129\n",
       "5. 148\n",
       "6. 66\n",
       "7. 84\n",
       "8. 8\n",
       "9. 297\n",
       "10. 30\n",
       "11. 57\n",
       "12. 61\n",
       "13. 185\n",
       "14. 118\n",
       "15. 235\n",
       "16. 56\n",
       "17. 347\n",
       "18. 84\n",
       "19. 189\n",
       "20. 28\n",
       "21. 218\n",
       "22. 272\n",
       "23. 249\n",
       "24. 338\n",
       "25. 170\n",
       "26. 134\n",
       "27. 185\n",
       "28. 250\n",
       "29. 43\n",
       "30. 60\n",
       "31. 352\n",
       "32. 30\n",
       "33. 239\n",
       "34. 192\n",
       "35. 82\n",
       "36. 343\n",
       "37. 312\n",
       "38. 51\n",
       "39. 29\n",
       "40. 193\n",
       "41. 130\n",
       "42. 140\n",
       "43. 23\n",
       "44. 161\n",
       "45. 312\n",
       "46. 210\n",
       "47. 4\n",
       "48. 161\n",
       "49. 221\n",
       "50. 296\n",
       "51. 338\n",
       "52. 95\n",
       "53. 293\n",
       "54. 288\n",
       "55. 173\n",
       "56. 168\n",
       "57. 176\n",
       "58. 139\n",
       "59. 282\n",
       "60. 220\n",
       "\n",
       "\n"
      ],
      "text/plain": [
       " [1] 276  57 173 129 148  66  84   8 297  30  57  61 185 118 235  56 347  84 189\n",
       "[20]  28 218 272 249 338 170 134 185 250  43  60 352  30 239 192  82 343 312  51\n",
       "[39]  29 193 130 140  23 161 312 210   4 161 221 296 338  95 293 288 173 168 176\n",
       "[58] 139 282 220"
      ]
     },
     "metadata": {},
     "output_type": "display_data"
    }
   ],
   "source": [
    "# Your code goes here!\n",
    "\n",
    "# START\n",
    "sample(1:366, 60, replace = TRUE)\n",
    "# END"
   ]
  },
  {
   "cell_type": "markdown",
   "metadata": {},
   "source": [
    "### ⏭️ Optional Extension Problem\n",
    "\n",
    "To learn more about an `R` function, run `?<function_name>`. For example, run `?sample` to print the documentation for the `sample` command.\n",
    "\n",
    "> The documentation takes up a lot of space, so I recommend hiding it after you finish skimming."
   ]
  },
  {
   "cell_type": "code",
   "execution_count": 59,
   "metadata": {},
   "outputs": [
    {
     "data": {
      "text/html": [
       "\n",
       "<table style=\"width: 100%;\"><tr><td>sample {base}</td><td style=\"text-align: right;\">R Documentation</td></tr></table>\n",
       "\n",
       "<h2>Random Samples and Permutations</h2>\n",
       "\n",
       "<h3>Description</h3>\n",
       "\n",
       "<p><code>sample</code> takes a sample of the specified size from the elements\n",
       "of <code>x</code> using either with or without replacement.\n",
       "</p>\n",
       "\n",
       "\n",
       "<h3>Usage</h3>\n",
       "\n",
       "<pre><code class='language-R'>sample(x, size, replace = FALSE, prob = NULL)\n",
       "\n",
       "sample.int(n, size = n, replace = FALSE, prob = NULL,\n",
       "           useHash = (n &gt; 1e+07 &amp;&amp; !replace &amp;&amp; is.null(prob) &amp;&amp; size &lt;= n/2))\n",
       "</code></pre>\n",
       "\n",
       "\n",
       "<h3>Arguments</h3>\n",
       "\n",
       "<table>\n",
       "<tr style=\"vertical-align: top;\"><td><code>x</code></td>\n",
       "<td>\n",
       "<p>either a vector of one or more elements from which to choose,\n",
       "or a positive integer.  See &lsquo;Details.&rsquo;</p>\n",
       "</td></tr>\n",
       "<tr style=\"vertical-align: top;\"><td><code>n</code></td>\n",
       "<td>\n",
       "<p>a positive number, the number of items to choose from.  See\n",
       "&lsquo;Details.&rsquo;</p>\n",
       "</td></tr>\n",
       "<tr style=\"vertical-align: top;\"><td><code>size</code></td>\n",
       "<td>\n",
       "<p>a non-negative integer giving the number of items to choose.</p>\n",
       "</td></tr>\n",
       "<tr style=\"vertical-align: top;\"><td><code>replace</code></td>\n",
       "<td>\n",
       "<p>should sampling be with replacement?</p>\n",
       "</td></tr>\n",
       "<tr style=\"vertical-align: top;\"><td><code>prob</code></td>\n",
       "<td>\n",
       "<p>a vector of probability weights for obtaining the elements\n",
       "of the vector being sampled.</p>\n",
       "</td></tr>\n",
       "<tr style=\"vertical-align: top;\"><td><code>useHash</code></td>\n",
       "<td>\n",
       "<p><code>logical</code> indicating if the hash-version of\n",
       "the algorithm should be used.  Can only be used for <code>replace =\n",
       "      FALSE</code>, <code>prob = NULL</code>, and <code>size &lt;= n/2</code>, and really\n",
       "should be used for large <code>n</code>, as <code>useHash=FALSE</code> will use\n",
       "memory proportional to <code>n</code>.</p>\n",
       "</td></tr>\n",
       "</table>\n",
       "\n",
       "\n",
       "<h3>Details</h3>\n",
       "\n",
       "<p>If <code>x</code> has length 1, is numeric (in the sense of\n",
       "<code>is.numeric</code>) and <code>x &gt;= 1</code>, sampling <em>via</em>\n",
       "<code>sample</code> takes place from <code>1:x</code>.  <em>Note</em> that this\n",
       "convenience feature may lead to undesired behaviour when <code>x</code> is\n",
       "of varying length in calls such as <code>sample(x)</code>.  See the examples.\n",
       "</p>\n",
       "<p>Otherwise <code>x</code> can be any <span style=\"font-family: Courier New, Courier; color: #666666;\"><b>R</b></span> object for which <code>length</code> and\n",
       "subsetting by integers make sense: S3 or S4 methods for these\n",
       "operations will be dispatched as appropriate.\n",
       "</p>\n",
       "<p>For <code>sample</code> the default for <code>size</code> is the number of items\n",
       "inferred from the first argument, so that <code>sample(x)</code> generates a\n",
       "random permutation of the elements of <code>x</code> (or <code>1:x</code>).\n",
       "</p>\n",
       "<p>It is allowed to ask for <code>size = 0</code> samples with <code>n = 0</code> or\n",
       "a length-zero <code>x</code>, but otherwise <code>n &gt; 0</code> or positive\n",
       "<code>length(x)</code> is required.\n",
       "</p>\n",
       "<p>Non-integer positive numerical values of <code>n</code> or <code>x</code> will be\n",
       "truncated to the next smallest integer, which has to be no larger than\n",
       "<code>.Machine$integer.max</code>.\n",
       "</p>\n",
       "<p>The optional <code>prob</code> argument can be used to give a vector of\n",
       "weights for obtaining the elements of the vector being sampled.  They\n",
       "need not sum to one, but they should be non-negative and not all zero.\n",
       "If <code>replace</code> is true, Walker's alias method (Ripley, 1987) is\n",
       "used when there are more than 200 reasonably probable values: this\n",
       "gives results incompatible with those from <span style=\"font-family: Courier New, Courier; color: #666666;\"><b>R</b></span> &lt; 2.2.0.\n",
       "</p>\n",
       "<p>If <code>replace</code> is false, these probabilities are applied\n",
       "sequentially, that is the probability of choosing the next item is\n",
       "proportional to the weights amongst the remaining items.  The number\n",
       "of nonzero weights must be at least <code>size</code> in this case.\n",
       "</p>\n",
       "<p><code>sample.int</code> is a bare interface in which both <code>n</code> and\n",
       "<code>size</code> must be supplied as integers.\n",
       "</p>\n",
       "<p>Argument <code>n</code> can be larger than the largest integer of\n",
       "type <code>integer</code>, up to the largest representable integer in type\n",
       "<code>double</code>.  Only uniform sampling is supported.  Two\n",
       "random numbers are used to ensure uniform sampling of large integers.\n",
       "</p>\n",
       "\n",
       "\n",
       "<h3>Value</h3>\n",
       "\n",
       "<p>For <code>sample</code> a vector of length <code>size</code> with elements\n",
       "drawn from either <code>x</code> or from the integers <code>1:x</code>.\n",
       "</p>\n",
       "<p>For <code>sample.int</code>, an integer vector of length <code>size</code> with\n",
       "elements from <code>1:n</code>, or a double vector if\n",
       "<code class=\"reqn\">n \\ge 2^{31}</code>.\n",
       "</p>\n",
       "\n",
       "\n",
       "<h3>References</h3>\n",
       "\n",
       "<p>Becker, R. A., Chambers, J. M. and Wilks, A. R. (1988)\n",
       "<em>The New S Language</em>.\n",
       "Wadsworth &amp; Brooks/Cole.\n",
       "</p>\n",
       "<p>Ripley, B. D. (1987) <em>Stochastic Simulation</em>. Wiley.\n",
       "</p>\n",
       "\n",
       "\n",
       "<h3>See Also</h3>\n",
       "\n",
       "<p><code>RNGkind(sample.kind = ..)</code> about random number generation,\n",
       "notably the change of <code>sample()</code> results with <span style=\"font-family: Courier New, Courier; color: #666666;\"><b>R</b></span> version 3.6.0.\n",
       "</p>\n",
       "<p>CRAN package <a href=\"https://CRAN.R-project.org/package=sampling\"><span class=\"pkg\">sampling</span></a> for other methods of weighted sampling\n",
       "without replacement.\n",
       "</p>\n",
       "\n",
       "\n",
       "<h3>Examples</h3>\n",
       "\n",
       "<pre><code class='language-R'>x &lt;- 1:12\n",
       "# a random permutation\n",
       "sample(x)\n",
       "# bootstrap resampling -- only if length(x) &gt; 1 !\n",
       "sample(x, replace = TRUE)\n",
       "\n",
       "# 100 Bernoulli trials\n",
       "sample(c(0,1), 100, replace = TRUE)\n",
       "\n",
       "## More careful bootstrapping --  Consider this when using sample()\n",
       "## programmatically (i.e., in your function or simulation)!\n",
       "\n",
       "# sample()'s surprise -- example\n",
       "x &lt;- 1:10\n",
       "    sample(x[x &gt;  8]) # length 2\n",
       "    sample(x[x &gt;  9]) # oops -- length 10!\n",
       "    sample(x[x &gt; 10]) # length 0\n",
       "\n",
       "## safer version:\n",
       "resample &lt;- function(x, ...) x[sample.int(length(x), ...)]\n",
       "resample(x[x &gt;  8]) # length 2\n",
       "resample(x[x &gt;  9]) # length 1\n",
       "resample(x[x &gt; 10]) # length 0\n",
       "\n",
       "## R 3.0.0 and later\n",
       "sample.int(1e10, 12, replace = TRUE)\n",
       "sample.int(1e10, 12) # not that there is much chance of duplicates\n",
       "</code></pre>\n",
       "\n",
       "<hr /><div style=\"text-align: center;\">[Package <em>base</em> version 4.2.1 ]</div>\n",
       "</div>"
      ],
      "text/latex": [
       "\\inputencoding{utf8}\n",
       "\\HeaderA{sample}{Random Samples and Permutations}{sample}\n",
       "\\methaliasA{sample.int}{sample}{sample.int}\n",
       "\\keyword{distribution}{sample}\n",
       "%\n",
       "\\begin{Description}\\relax\n",
       "\\code{sample} takes a sample of the specified size from the elements\n",
       "of \\code{x} using either with or without replacement.\n",
       "\\end{Description}\n",
       "%\n",
       "\\begin{Usage}\n",
       "\\begin{verbatim}\n",
       "sample(x, size, replace = FALSE, prob = NULL)\n",
       "\n",
       "sample.int(n, size = n, replace = FALSE, prob = NULL,\n",
       "           useHash = (n > 1e+07 && !replace && is.null(prob) && size <= n/2))\n",
       "\\end{verbatim}\n",
       "\\end{Usage}\n",
       "%\n",
       "\\begin{Arguments}\n",
       "\\begin{ldescription}\n",
       "\\item[\\code{x}] either a vector of one or more elements from which to choose,\n",
       "or a positive integer.  See `Details.'\n",
       "\\item[\\code{n}] a positive number, the number of items to choose from.  See\n",
       "`Details.'\n",
       "\\item[\\code{size}] a non-negative integer giving the number of items to choose.\n",
       "\\item[\\code{replace}] should sampling be with replacement?\n",
       "\\item[\\code{prob}] a vector of probability weights for obtaining the elements\n",
       "of the vector being sampled.\n",
       "\\item[\\code{useHash}] \\code{\\LinkA{logical}{logical}} indicating if the hash-version of\n",
       "the algorithm should be used.  Can only be used for \\code{replace =\n",
       "      FALSE}, \\code{prob = NULL}, and \\code{size <= n/2}, and really\n",
       "should be used for large \\code{n}, as \\code{useHash=FALSE} will use\n",
       "memory proportional to \\code{n}.\n",
       "\\end{ldescription}\n",
       "\\end{Arguments}\n",
       "%\n",
       "\\begin{Details}\\relax\n",
       "If \\code{x} has length 1, is numeric (in the sense of\n",
       "\\code{\\LinkA{is.numeric}{is.numeric}}) and \\code{x >= 1}, sampling \\emph{via}\n",
       "\\code{sample} takes place from \\code{1:x}.  \\emph{Note} that this\n",
       "convenience feature may lead to undesired behaviour when \\code{x} is\n",
       "of varying length in calls such as \\code{sample(x)}.  See the examples.\n",
       "\n",
       "Otherwise \\code{x} can be any \\R{} object for which \\code{length} and\n",
       "subsetting by integers make sense: S3 or S4 methods for these\n",
       "operations will be dispatched as appropriate.\n",
       "\n",
       "For \\code{sample} the default for \\code{size} is the number of items\n",
       "inferred from the first argument, so that \\code{sample(x)} generates a\n",
       "random permutation of the elements of \\code{x} (or \\code{1:x}).\n",
       "\n",
       "It is allowed to ask for \\code{size = 0} samples with \\code{n = 0} or\n",
       "a length-zero \\code{x}, but otherwise \\code{n > 0} or positive\n",
       "\\code{length(x)} is required.\n",
       "\n",
       "Non-integer positive numerical values of \\code{n} or \\code{x} will be\n",
       "truncated to the next smallest integer, which has to be no larger than\n",
       "\\code{\\LinkA{.Machine}{.Machine}\\$integer.max}.\n",
       "\n",
       "The optional \\code{prob} argument can be used to give a vector of\n",
       "weights for obtaining the elements of the vector being sampled.  They\n",
       "need not sum to one, but they should be non-negative and not all zero.\n",
       "If \\code{replace} is true, Walker's alias method (Ripley, 1987) is\n",
       "used when there are more than 200 reasonably probable values: this\n",
       "gives results incompatible with those from \\R{} < 2.2.0.\n",
       "\n",
       "If \\code{replace} is false, these probabilities are applied\n",
       "sequentially, that is the probability of choosing the next item is\n",
       "proportional to the weights amongst the remaining items.  The number\n",
       "of nonzero weights must be at least \\code{size} in this case.\n",
       "\n",
       "\\code{sample.int} is a bare interface in which both \\code{n} and\n",
       "\\code{size} must be supplied as integers.\n",
       "\n",
       "Argument \\code{n} can be larger than the largest integer of\n",
       "type \\code{integer}, up to the largest representable integer in type\n",
       "\\code{double}.  Only uniform sampling is supported.  Two\n",
       "random numbers are used to ensure uniform sampling of large integers.\n",
       "\\end{Details}\n",
       "%\n",
       "\\begin{Value}\n",
       "For \\code{sample} a vector of length \\code{size} with elements\n",
       "drawn from either \\code{x} or from the integers \\code{1:x}.\n",
       "\n",
       "For \\code{sample.int}, an integer vector of length \\code{size} with\n",
       "elements from \\code{1:n}, or a double vector if\n",
       "\\eqn{n \\ge 2^{31}}{}.\n",
       "\\end{Value}\n",
       "%\n",
       "\\begin{References}\\relax\n",
       "Becker, R. A., Chambers, J. M. and Wilks, A. R. (1988)\n",
       "\\emph{The New S Language}.\n",
       "Wadsworth \\& Brooks/Cole.\n",
       "\n",
       "Ripley, B. D. (1987) \\emph{Stochastic Simulation}. Wiley.\n",
       "\\end{References}\n",
       "%\n",
       "\\begin{SeeAlso}\\relax\n",
       "\\code{\\LinkA{RNGkind}{RNGkind}(sample.kind = ..)} about random number generation,\n",
       "notably the change of \\code{sample()} results with \\R{} version 3.6.0.\n",
       "\n",
       "CRAN package \\Rhref{https://CRAN.R-project.org/package=sampling}{\\pkg{sampling}} for other methods of weighted sampling\n",
       "without replacement.\n",
       "\\end{SeeAlso}\n",
       "%\n",
       "\\begin{Examples}\n",
       "\\begin{ExampleCode}\n",
       "x <- 1:12\n",
       "# a random permutation\n",
       "sample(x)\n",
       "# bootstrap resampling -- only if length(x) > 1 !\n",
       "sample(x, replace = TRUE)\n",
       "\n",
       "# 100 Bernoulli trials\n",
       "sample(c(0,1), 100, replace = TRUE)\n",
       "\n",
       "## More careful bootstrapping --  Consider this when using sample()\n",
       "## programmatically (i.e., in your function or simulation)!\n",
       "\n",
       "# sample()'s surprise -- example\n",
       "x <- 1:10\n",
       "    sample(x[x >  8]) # length 2\n",
       "    sample(x[x >  9]) # oops -- length 10!\n",
       "    sample(x[x > 10]) # length 0\n",
       "\n",
       "## safer version:\n",
       "resample <- function(x, ...) x[sample.int(length(x), ...)]\n",
       "resample(x[x >  8]) # length 2\n",
       "resample(x[x >  9]) # length 1\n",
       "resample(x[x > 10]) # length 0\n",
       "\n",
       "## R 3.0.0 and later\n",
       "sample.int(1e10, 12, replace = TRUE)\n",
       "sample.int(1e10, 12) # not that there is much chance of duplicates\n",
       "\\end{ExampleCode}\n",
       "\\end{Examples}"
      ],
      "text/plain": [
       "sample                  package:base                   R Documentation\n",
       "\n",
       "_\bR_\ba_\bn_\bd_\bo_\bm _\bS_\ba_\bm_\bp_\bl_\be_\bs _\ba_\bn_\bd _\bP_\be_\br_\bm_\bu_\bt_\ba_\bt_\bi_\bo_\bn_\bs\n",
       "\n",
       "_\bD_\be_\bs_\bc_\br_\bi_\bp_\bt_\bi_\bo_\bn:\n",
       "\n",
       "     ‘sample’ takes a sample of the specified size from the elements of\n",
       "     ‘x’ using either with or without replacement.\n",
       "\n",
       "_\bU_\bs_\ba_\bg_\be:\n",
       "\n",
       "     sample(x, size, replace = FALSE, prob = NULL)\n",
       "     \n",
       "     sample.int(n, size = n, replace = FALSE, prob = NULL,\n",
       "                useHash = (n > 1e+07 && !replace && is.null(prob) && size <= n/2))\n",
       "     \n",
       "_\bA_\br_\bg_\bu_\bm_\be_\bn_\bt_\bs:\n",
       "\n",
       "       x: either a vector of one or more elements from which to choose,\n",
       "          or a positive integer.  See ‘Details.’\n",
       "\n",
       "       n: a positive number, the number of items to choose from.  See\n",
       "          ‘Details.’\n",
       "\n",
       "    size: a non-negative integer giving the number of items to choose.\n",
       "\n",
       " replace: should sampling be with replacement?\n",
       "\n",
       "    prob: a vector of probability weights for obtaining the elements of\n",
       "          the vector being sampled.\n",
       "\n",
       " useHash: ‘logical’ indicating if the hash-version of the algorithm\n",
       "          should be used.  Can only be used for ‘replace = FALSE’,\n",
       "          ‘prob = NULL’, and ‘size <= n/2’, and really should be used\n",
       "          for large ‘n’, as ‘useHash=FALSE’ will use memory\n",
       "          proportional to ‘n’.\n",
       "\n",
       "_\bD_\be_\bt_\ba_\bi_\bl_\bs:\n",
       "\n",
       "     If ‘x’ has length 1, is numeric (in the sense of ‘is.numeric’) and\n",
       "     ‘x >= 1’, sampling _via_ ‘sample’ takes place from ‘1:x’.  _Note_\n",
       "     that this convenience feature may lead to undesired behaviour when\n",
       "     ‘x’ is of varying length in calls such as ‘sample(x)’.  See the\n",
       "     examples.\n",
       "\n",
       "     Otherwise ‘x’ can be any R object for which ‘length’ and\n",
       "     subsetting by integers make sense: S3 or S4 methods for these\n",
       "     operations will be dispatched as appropriate.\n",
       "\n",
       "     For ‘sample’ the default for ‘size’ is the number of items\n",
       "     inferred from the first argument, so that ‘sample(x)’ generates a\n",
       "     random permutation of the elements of ‘x’ (or ‘1:x’).\n",
       "\n",
       "     It is allowed to ask for ‘size = 0’ samples with ‘n = 0’ or a\n",
       "     length-zero ‘x’, but otherwise ‘n > 0’ or positive ‘length(x)’ is\n",
       "     required.\n",
       "\n",
       "     Non-integer positive numerical values of ‘n’ or ‘x’ will be\n",
       "     truncated to the next smallest integer, which has to be no larger\n",
       "     than ‘.Machine$integer.max’.\n",
       "\n",
       "     The optional ‘prob’ argument can be used to give a vector of\n",
       "     weights for obtaining the elements of the vector being sampled.\n",
       "     They need not sum to one, but they should be non-negative and not\n",
       "     all zero.  If ‘replace’ is true, Walker's alias method (Ripley,\n",
       "     1987) is used when there are more than 200 reasonably probable\n",
       "     values: this gives results incompatible with those from R < 2.2.0.\n",
       "\n",
       "     If ‘replace’ is false, these probabilities are applied\n",
       "     sequentially, that is the probability of choosing the next item is\n",
       "     proportional to the weights amongst the remaining items.  The\n",
       "     number of nonzero weights must be at least ‘size’ in this case.\n",
       "\n",
       "     ‘sample.int’ is a bare interface in which both ‘n’ and ‘size’ must\n",
       "     be supplied as integers.\n",
       "\n",
       "     Argument ‘n’ can be larger than the largest integer of type\n",
       "     ‘integer’, up to the largest representable integer in type\n",
       "     ‘double’.  Only uniform sampling is supported.  Two random numbers\n",
       "     are used to ensure uniform sampling of large integers.\n",
       "\n",
       "_\bV_\ba_\bl_\bu_\be:\n",
       "\n",
       "     For ‘sample’ a vector of length ‘size’ with elements drawn from\n",
       "     either ‘x’ or from the integers ‘1:x’.\n",
       "\n",
       "     For ‘sample.int’, an integer vector of length ‘size’ with elements\n",
       "     from ‘1:n’, or a double vector if n >= 2^31.\n",
       "\n",
       "_\bR_\be_\bf_\be_\br_\be_\bn_\bc_\be_\bs:\n",
       "\n",
       "     Becker, R. A., Chambers, J. M. and Wilks, A. R. (1988) _The New S\n",
       "     Language_.  Wadsworth & Brooks/Cole.\n",
       "\n",
       "     Ripley, B. D. (1987) _Stochastic Simulation_. Wiley.\n",
       "\n",
       "_\bS_\be_\be _\bA_\bl_\bs_\bo:\n",
       "\n",
       "     ‘RNGkind(sample.kind = ..)’ about random number generation,\n",
       "     notably the change of ‘sample()’ results with R version 3.6.0.\n",
       "\n",
       "     CRAN package ‘sampling’ for other methods of weighted sampling\n",
       "     without replacement.\n",
       "\n",
       "_\bE_\bx_\ba_\bm_\bp_\bl_\be_\bs:\n",
       "\n",
       "     x <- 1:12\n",
       "     # a random permutation\n",
       "     sample(x)\n",
       "     # bootstrap resampling -- only if length(x) > 1 !\n",
       "     sample(x, replace = TRUE)\n",
       "     \n",
       "     # 100 Bernoulli trials\n",
       "     sample(c(0,1), 100, replace = TRUE)\n",
       "     \n",
       "     ## More careful bootstrapping --  Consider this when using sample()\n",
       "     ## programmatically (i.e., in your function or simulation)!\n",
       "     \n",
       "     # sample()'s surprise -- example\n",
       "     x <- 1:10\n",
       "         sample(x[x >  8]) # length 2\n",
       "         sample(x[x >  9]) # oops -- length 10!\n",
       "         sample(x[x > 10]) # length 0\n",
       "     \n",
       "     ## safer version:\n",
       "     resample <- function(x, ...) x[sample.int(length(x), ...)]\n",
       "     resample(x[x >  8]) # length 2\n",
       "     resample(x[x >  9]) # length 1\n",
       "     resample(x[x > 10]) # length 0\n",
       "     \n",
       "     ## R 3.0.0 and later\n",
       "     sample.int(1e10, 12, replace = TRUE)\n",
       "     sample.int(1e10, 12) # not that there is much chance of duplicates\n",
       "     "
      ]
     },
     "metadata": {},
     "output_type": "display_data"
    }
   ],
   "source": [
    "?sample"
   ]
  },
  {
   "cell_type": "markdown",
   "metadata": {},
   "source": [
    "`seq` is a more powerful way of generating sequences. Read the documentation for `seq` to learn how `seq` works. Then, use `seq` to generate a list of all even numbers between 100 and 110."
   ]
  },
  {
   "cell_type": "code",
   "execution_count": 60,
   "metadata": {},
   "outputs": [
    {
     "data": {
      "text/html": [
       "<style>\n",
       ".list-inline {list-style: none; margin:0; padding: 0}\n",
       ".list-inline>li {display: inline-block}\n",
       ".list-inline>li:not(:last-child)::after {content: \"\\00b7\"; padding: 0 .5ex}\n",
       "</style>\n",
       "<ol class=list-inline><li>100</li><li>102</li><li>104</li><li>106</li><li>108</li><li>110</li></ol>\n"
      ],
      "text/latex": [
       "\\begin{enumerate*}\n",
       "\\item 100\n",
       "\\item 102\n",
       "\\item 104\n",
       "\\item 106\n",
       "\\item 108\n",
       "\\item 110\n",
       "\\end{enumerate*}\n"
      ],
      "text/markdown": [
       "1. 100\n",
       "2. 102\n",
       "3. 104\n",
       "4. 106\n",
       "5. 108\n",
       "6. 110\n",
       "\n",
       "\n"
      ],
      "text/plain": [
       "[1] 100 102 104 106 108 110"
      ]
     },
     "metadata": {},
     "output_type": "display_data"
    }
   ],
   "source": [
    "# Your code here!\n",
    "\n",
    "# START\n",
    "seq(100, 110, by=2)\n",
    "# END"
   ]
  },
  {
   "cell_type": "markdown",
   "metadata": {},
   "source": [
    "## 🎶 Interlude: Math, variables, vectors, and functions"
   ]
  },
  {
   "cell_type": "markdown",
   "metadata": {},
   "source": [
    "### 📝 Using R as a calculator"
   ]
  },
  {
   "cell_type": "markdown",
   "metadata": {},
   "source": [
    "One simple (and useful) way to use R is as a calculator. For example:"
   ]
  },
  {
   "cell_type": "code",
   "execution_count": 61,
   "metadata": {},
   "outputs": [
    {
     "data": {
      "text/html": [
       "15"
      ],
      "text/latex": [
       "15"
      ],
      "text/markdown": [
       "15"
      ],
      "text/plain": [
       "[1] 15"
      ]
     },
     "metadata": {},
     "output_type": "display_data"
    }
   ],
   "source": [
    "5 + 10"
   ]
  },
  {
   "cell_type": "code",
   "execution_count": 62,
   "metadata": {},
   "outputs": [
    {
     "data": {
      "text/html": [
       "90"
      ],
      "text/latex": [
       "90"
      ],
      "text/markdown": [
       "90"
      ],
      "text/plain": [
       "[1] 90"
      ]
     },
     "metadata": {},
     "output_type": "display_data"
    }
   ],
   "source": [
    "30 * 3"
   ]
  },
  {
   "cell_type": "code",
   "execution_count": 63,
   "metadata": {},
   "outputs": [
    {
     "data": {
      "text/html": [
       "5"
      ],
      "text/latex": [
       "5"
      ],
      "text/markdown": [
       "5"
      ],
      "text/plain": [
       "[1] 5"
      ]
     },
     "metadata": {},
     "output_type": "display_data"
    }
   ],
   "source": [
    "25 / 5"
   ]
  },
  {
   "cell_type": "code",
   "execution_count": 64,
   "metadata": {},
   "outputs": [
    {
     "data": {
      "text/html": [
       "9"
      ],
      "text/latex": [
       "9"
      ],
      "text/markdown": [
       "9"
      ],
      "text/plain": [
       "[1] 9"
      ]
     },
     "metadata": {},
     "output_type": "display_data"
    }
   ],
   "source": [
    "3 ^ 2"
   ]
  },
  {
   "cell_type": "code",
   "execution_count": 65,
   "metadata": {},
   "outputs": [
    {
     "data": {
      "text/html": [
       "25"
      ],
      "text/latex": [
       "25"
      ],
      "text/markdown": [
       "25"
      ],
      "text/plain": [
       "[1] 25"
      ]
     },
     "metadata": {},
     "output_type": "display_data"
    }
   ],
   "source": [
    "(2 + 3) * 5"
   ]
  },
  {
   "cell_type": "markdown",
   "metadata": {},
   "source": [
    "#### 🚀 Exercise\n",
    "\n",
    "Use R to find the average of 42, 100, and 280."
   ]
  },
  {
   "cell_type": "code",
   "execution_count": 66,
   "metadata": {},
   "outputs": [
    {
     "data": {
      "text/html": [
       "140.666666666667"
      ],
      "text/latex": [
       "140.666666666667"
      ],
      "text/markdown": [
       "140.666666666667"
      ],
      "text/plain": [
       "[1] 140.6667"
      ]
     },
     "metadata": {},
     "output_type": "display_data"
    }
   ],
   "source": [
    "# Your code here!\n",
    "\n",
    "# START\n",
    "(42+100+280)/3\n",
    "# END"
   ]
  },
  {
   "cell_type": "markdown",
   "metadata": {},
   "source": [
    "### 📝  Variables\n",
    "\n",
    "**Variables** are like boxes 📦: they store things for us, and we can label them so we know what's inside.\n",
    "\n",
    "Consider the following example:\n",
    "\n",
    "> If x = 2, what is x + 5?\n",
    "\n",
    "You guessed it: the answer is 7. Let's express the same problem using `R`:"
   ]
  },
  {
   "cell_type": "code",
   "execution_count": 67,
   "metadata": {},
   "outputs": [
    {
     "data": {
      "text/html": [
       "7"
      ],
      "text/latex": [
       "7"
      ],
      "text/markdown": [
       "7"
      ],
      "text/plain": [
       "[1] 7"
      ]
     },
     "metadata": {},
     "output_type": "display_data"
    }
   ],
   "source": [
    "# If x = 2, ...\n",
    "x <- 2\n",
    "\n",
    "# ... what is x + 5?\n",
    "x + 5"
   ]
  },
  {
   "cell_type": "markdown",
   "metadata": {},
   "source": [
    "Let's break down the code in the cell above."
   ]
  },
  {
   "cell_type": "markdown",
   "metadata": {},
   "source": [
    "#### 1️⃣ First step\n",
    "\n",
    "In the first line of our code, we assigned the value `2` to the variable named `x` using `<-`."
   ]
  },
  {
   "cell_type": "code",
   "execution_count": 68,
   "metadata": {},
   "outputs": [],
   "source": [
    "# If x = 2, ...\n",
    "x <- 2"
   ]
  },
  {
   "cell_type": "markdown",
   "metadata": {},
   "source": [
    "The assignment operator (`<-`) tells R \"Take the variable on the *_left_* of the equal sign, and give it the value of the thing on the *_right_*.\"\n",
    "\n",
    "> 🔎 The equal sign ( `=` ) also works for assignment, but it is an `R` convention to use `<-`.\n",
    "\n",
    "If you ever run a cell containing just a variable, `R` will print the value of that variable:"
   ]
  },
  {
   "cell_type": "code",
   "execution_count": 69,
   "metadata": {},
   "outputs": [
    {
     "data": {
      "text/html": [
       "2"
      ],
      "text/latex": [
       "2"
      ],
      "text/markdown": [
       "2"
      ],
      "text/plain": [
       "[1] 2"
      ]
     },
     "metadata": {},
     "output_type": "display_data"
    }
   ],
   "source": [
    "x"
   ]
  },
  {
   "cell_type": "markdown",
   "metadata": {},
   "source": [
    "You can also force R to print the value of the variable with `print`:"
   ]
  },
  {
   "cell_type": "code",
   "execution_count": 70,
   "metadata": {},
   "outputs": [
    {
     "name": "stdout",
     "output_type": "stream",
     "text": [
      "[1] 2\n"
     ]
    }
   ],
   "source": [
    "print(x)"
   ]
  },
  {
   "cell_type": "markdown",
   "metadata": {},
   "source": [
    "❓ Why is there a `[1]` next to the output? Don't worry for now, we'll learn soon!"
   ]
  },
  {
   "cell_type": "markdown",
   "metadata": {},
   "source": [
    "#### 2️⃣ Second step\n",
    "\n",
    "In the second line of our code, we added `5` to our variable `x`, which we initialized with the value `2`.\n",
    "\n",
    "`R` will also print the value of simple expressions in their own cell:"
   ]
  },
  {
   "cell_type": "code",
   "execution_count": 71,
   "metadata": {},
   "outputs": [
    {
     "data": {
      "text/html": [
       "7"
      ],
      "text/latex": [
       "7"
      ],
      "text/markdown": [
       "7"
      ],
      "text/plain": [
       "[1] 7"
      ]
     },
     "metadata": {},
     "output_type": "display_data"
    }
   ],
   "source": [
    "x + 5"
   ]
  },
  {
   "cell_type": "markdown",
   "metadata": {},
   "source": [
    "❗❗**Important note**❗❗: After running the cell above, **the value of `x` is still 2, not 7.**\n",
    "\n",
    "Unless we use `<-` or `=` to assign a new value to `x`, it will remain at 2:"
   ]
  },
  {
   "cell_type": "code",
   "execution_count": 72,
   "metadata": {},
   "outputs": [
    {
     "data": {
      "text/html": [
       "2"
      ],
      "text/latex": [
       "2"
      ],
      "text/markdown": [
       "2"
      ],
      "text/plain": [
       "[1] 2"
      ]
     },
     "metadata": {},
     "output_type": "display_data"
    }
   ],
   "source": [
    "x"
   ]
  },
  {
   "cell_type": "markdown",
   "metadata": {},
   "source": [
    "To update the value of a variable, we can use `<-`.\n",
    "\n",
    "For example, here's how you could increase the value of `x` by `10`:"
   ]
  },
  {
   "cell_type": "code",
   "execution_count": 73,
   "metadata": {},
   "outputs": [
    {
     "data": {
      "text/html": [
       "12"
      ],
      "text/latex": [
       "12"
      ],
      "text/markdown": [
       "12"
      ],
      "text/plain": [
       "[1] 12"
      ]
     },
     "metadata": {},
     "output_type": "display_data"
    }
   ],
   "source": [
    "x <- x + 10\n",
    "x"
   ]
  },
  {
   "cell_type": "markdown",
   "metadata": {},
   "source": [
    "`R` first solves `x + 10` to get `12`, and then it overwrites `x` with `12`."
   ]
  },
  {
   "cell_type": "markdown",
   "metadata": {},
   "source": [
    "### 📝 Vectors\n",
    "\n",
    "A **vector** is a sequence of things.\n",
    "\n",
    "For example, we can have a vector of consecutive integers:"
   ]
  },
  {
   "cell_type": "code",
   "execution_count": 74,
   "metadata": {},
   "outputs": [
    {
     "data": {
      "text/html": [
       "<style>\n",
       ".list-inline {list-style: none; margin:0; padding: 0}\n",
       ".list-inline>li {display: inline-block}\n",
       ".list-inline>li:not(:last-child)::after {content: \"\\00b7\"; padding: 0 .5ex}\n",
       "</style>\n",
       "<ol class=list-inline><li>5</li><li>6</li><li>7</li><li>8</li><li>9</li><li>10</li></ol>\n"
      ],
      "text/latex": [
       "\\begin{enumerate*}\n",
       "\\item 5\n",
       "\\item 6\n",
       "\\item 7\n",
       "\\item 8\n",
       "\\item 9\n",
       "\\item 10\n",
       "\\end{enumerate*}\n"
      ],
      "text/markdown": [
       "1. 5\n",
       "2. 6\n",
       "3. 7\n",
       "4. 8\n",
       "5. 9\n",
       "6. 10\n",
       "\n",
       "\n"
      ],
      "text/plain": [
       "[1]  5  6  7  8  9 10"
      ]
     },
     "metadata": {},
     "output_type": "display_data"
    }
   ],
   "source": [
    "5:10"
   ]
  },
  {
   "cell_type": "markdown",
   "metadata": {},
   "source": [
    "We can also use `c()` to create vectors.\n",
    "\n",
    "> 🔎 The \"c\" in `c()` stands for **concatenate**.\n"
   ]
  },
  {
   "cell_type": "code",
   "execution_count": 75,
   "metadata": {},
   "outputs": [
    {
     "data": {
      "text/html": [
       "<style>\n",
       ".list-inline {list-style: none; margin:0; padding: 0}\n",
       ".list-inline>li {display: inline-block}\n",
       ".list-inline>li:not(:last-child)::after {content: \"\\00b7\"; padding: 0 .5ex}\n",
       "</style>\n",
       "<ol class=list-inline><li>10</li><li>100</li><li>1000</li></ol>\n"
      ],
      "text/latex": [
       "\\begin{enumerate*}\n",
       "\\item 10\n",
       "\\item 100\n",
       "\\item 1000\n",
       "\\end{enumerate*}\n"
      ],
      "text/markdown": [
       "1. 10\n",
       "2. 100\n",
       "3. 1000\n",
       "\n",
       "\n"
      ],
      "text/plain": [
       "[1]   10  100 1000"
      ]
     },
     "metadata": {},
     "output_type": "display_data"
    }
   ],
   "source": [
    "c(10, 100, 1000)"
   ]
  },
  {
   "cell_type": "markdown",
   "metadata": {},
   "source": [
    "We can assign vectors to variables too:"
   ]
  },
  {
   "cell_type": "code",
   "execution_count": 76,
   "metadata": {},
   "outputs": [
    {
     "data": {
      "text/html": [
       "<style>\n",
       ".list-inline {list-style: none; margin:0; padding: 0}\n",
       ".list-inline>li {display: inline-block}\n",
       ".list-inline>li:not(:last-child)::after {content: \"\\00b7\"; padding: 0 .5ex}\n",
       "</style>\n",
       "<ol class=list-inline><li>10</li><li>100</li><li>1000</li></ol>\n"
      ],
      "text/latex": [
       "\\begin{enumerate*}\n",
       "\\item 10\n",
       "\\item 100\n",
       "\\item 1000\n",
       "\\end{enumerate*}\n"
      ],
      "text/markdown": [
       "1. 10\n",
       "2. 100\n",
       "3. 1000\n",
       "\n",
       "\n"
      ],
      "text/plain": [
       "[1]   10  100 1000"
      ]
     },
     "metadata": {},
     "output_type": "display_data"
    }
   ],
   "source": [
    "my_vector <- c(10, 100, 1000)\n",
    "my_vector"
   ]
  },
  {
   "cell_type": "markdown",
   "metadata": {},
   "source": [
    "We can extract **elements** from vectors using their **index**, or their place in line.\n",
    "\n",
    "> 🔎 Unlike most other programming languages, `R` is 1-indexed, not 0-indexed. So, the first element in a vector `v` is `v[1]`, not `v[0]`."
   ]
  },
  {
   "cell_type": "code",
   "execution_count": 77,
   "metadata": {},
   "outputs": [
    {
     "data": {
      "text/html": [
       "100"
      ],
      "text/latex": [
       "100"
      ],
      "text/markdown": [
       "100"
      ],
      "text/plain": [
       "[1] 100"
      ]
     },
     "metadata": {},
     "output_type": "display_data"
    }
   ],
   "source": [
    "my_vector[2]"
   ]
  },
  {
   "cell_type": "markdown",
   "metadata": {},
   "source": [
    "#### 🔎 Printing vectors \n",
    "\n",
    "If you explicitly `print` a vector, the output looks a little different:"
   ]
  },
  {
   "cell_type": "code",
   "execution_count": 78,
   "metadata": {},
   "outputs": [
    {
     "name": "stdout",
     "output_type": "stream",
     "text": [
      "[1]   10  100 1000\n"
     ]
    }
   ],
   "source": [
    "print(my_vector)"
   ]
  },
  {
   "cell_type": "markdown",
   "metadata": {},
   "source": [
    "Why is there a `[1]` on the left of the printed results? \n",
    "\n",
    "Printing a longer vector gives us a hint:"
   ]
  },
  {
   "cell_type": "code",
   "execution_count": 79,
   "metadata": {},
   "outputs": [
    {
     "name": "stdout",
     "output_type": "stream",
     "text": [
      " [1] 25 26 27 28 29 30 31 32 33 34 35 36 37 38 39 40 41 42 43 44 45 46 47 48 49\n",
      "[26] 50 51 52 53 54 55 56 57 58 59 60 61 62 63 64 65 66 67 68 69 70 71 72 73 74\n",
      "[51] 75\n"
     ]
    }
   ],
   "source": [
    "print(25:75)"
   ]
  },
  {
   "cell_type": "markdown",
   "metadata": {},
   "source": [
    "The bracketed numbers on the left side of the printed results indicate the index of the element immediately to the right.\n",
    "\n",
    "For example `[26]` indicates that `50` is the 26th element in the vector."
   ]
  },
  {
   "cell_type": "markdown",
   "metadata": {},
   "source": [
    "#### 🚀 Exercise\n",
    "\n",
    "**A. Create a vector of numbers from 15 to 140, and assign the vector to a variable called `my_vector`.**"
   ]
  },
  {
   "cell_type": "code",
   "execution_count": 80,
   "metadata": {},
   "outputs": [],
   "source": [
    "# Your code here!\n",
    "\n",
    "# START\n",
    "my_vector <- 15:140\n",
    "# END"
   ]
  },
  {
   "cell_type": "markdown",
   "metadata": {},
   "source": [
    "**B. Find the difference between the 30th and 100th values of `my_vector`.**"
   ]
  },
  {
   "cell_type": "code",
   "execution_count": 81,
   "metadata": {},
   "outputs": [
    {
     "data": {
      "text/html": [
       "70"
      ],
      "text/latex": [
       "70"
      ],
      "text/markdown": [
       "70"
      ],
      "text/plain": [
       "[1] 70"
      ]
     },
     "metadata": {},
     "output_type": "display_data"
    }
   ],
   "source": [
    "# Your code here!\n",
    "\n",
    "# START\n",
    "my_vector[100] - my_vector[30]\n",
    "# END"
   ]
  },
  {
   "cell_type": "markdown",
   "metadata": {},
   "source": [
    "### ⏭️ Optional extension problem\n",
    "\n",
    "Find the 57th even number between 1347 and 2124. "
   ]
  },
  {
   "cell_type": "code",
   "execution_count": 82,
   "metadata": {},
   "outputs": [
    {
     "data": {
      "text/html": [
       "1460"
      ],
      "text/latex": [
       "1460"
      ],
      "text/markdown": [
       "1460"
      ],
      "text/plain": [
       "[1] 1460"
      ]
     },
     "metadata": {},
     "output_type": "display_data"
    }
   ],
   "source": [
    "# Your code here!\n",
    "\n",
    "# START\n",
    "seq(1348, 2124, by=2)[57]\n",
    "# END"
   ]
  },
  {
   "cell_type": "markdown",
   "metadata": {},
   "source": [
    "### 📝 Functions\n",
    "\n",
    "If you've taken algebra, you've already seen functions! For example, this function `f` takes the square root of its input:\n",
    "\n",
    "> $f(x) = \\sqrt{x}$\n",
    ">\n",
    "> $f(25) = \\sqrt{25} = 5$"
   ]
  },
  {
   "cell_type": "markdown",
   "metadata": {},
   "source": [
    "<img src=\"img/function-machine.svg\" width=200 align=\"left\"/>"
   ]
  },
  {
   "cell_type": "markdown",
   "metadata": {},
   "source": [
    "R also has a square root function called `sqrt`. \n",
    "\n",
    "To use a function in R, we write the name of the function, and then put its input in parentheses. \n",
    "\n",
    "> 🔎 The output of a function is called its **return value**. "
   ]
  },
  {
   "cell_type": "code",
   "execution_count": 83,
   "metadata": {},
   "outputs": [
    {
     "data": {
      "text/html": [
       "5"
      ],
      "text/latex": [
       "5"
      ],
      "text/markdown": [
       "5"
      ],
      "text/plain": [
       "[1] 5"
      ]
     },
     "metadata": {},
     "output_type": "display_data"
    }
   ],
   "source": [
    "sqrt(25)"
   ]
  },
  {
   "cell_type": "markdown",
   "metadata": {},
   "source": [
    "You may have noticed that we used this function notation quite a lot already. \n",
    "\n",
    "Here are some of the functions you have already used:\n",
    "- `sample`: makes random draws from a vector\n",
    "- `print`: prints its input "
   ]
  },
  {
   "cell_type": "markdown",
   "metadata": {},
   "source": [
    "💡 There are *many* other built-in functions in `R`, and you can even write your own functions! \n",
    "\n",
    "Here are some examples of functions that you can use:\n",
    "- `sum`: Adds up all of the numbers in a vector\n",
    "- `mean`: Finds the average of the numbers in a vector\n",
    "- `length`: Finds the total number of elements in a vector.\n",
    "- `max`: Finds the maximum value in a vector\n",
    "- `min`: Finds the minimum value in a vector"
   ]
  },
  {
   "cell_type": "markdown",
   "metadata": {},
   "source": [
    "### 🚀 Exercise\n",
    "\n",
    "**A. Find the sum of all the numbers from 1 to 100 using `sum`.**"
   ]
  },
  {
   "cell_type": "code",
   "execution_count": 84,
   "metadata": {},
   "outputs": [
    {
     "data": {
      "text/html": [
       "5050"
      ],
      "text/latex": [
       "5050"
      ],
      "text/markdown": [
       "5050"
      ],
      "text/plain": [
       "[1] 5050"
      ]
     },
     "metadata": {},
     "output_type": "display_data"
    }
   ],
   "source": [
    "# Your code here!\n",
    "\n",
    "# START\n",
    "sum(1:100)\n",
    "# END"
   ]
  },
  {
   "cell_type": "markdown",
   "metadata": {},
   "source": [
    "**B. Find the average of all the numbers from 1 to 100 using `mean`.**"
   ]
  },
  {
   "cell_type": "code",
   "execution_count": 85,
   "metadata": {},
   "outputs": [
    {
     "data": {
      "text/html": [
       "50.5"
      ],
      "text/latex": [
       "50.5"
      ],
      "text/markdown": [
       "50.5"
      ],
      "text/plain": [
       "[1] 50.5"
      ]
     },
     "metadata": {},
     "output_type": "display_data"
    }
   ],
   "source": [
    "# Your code here!\n",
    "\n",
    "# START\n",
    "mean(1:100)\n",
    "# END"
   ]
  },
  {
   "cell_type": "markdown",
   "metadata": {},
   "source": [
    "### 📝 Multi-argument functions\n",
    "\n",
    "Functions like `print` only need one input, or **argument**. However, functions can have more than one argument. \n",
    "\n",
    "For example, this function `f` adds its two arguments, x and y:\n",
    "\n",
    "> f(x, y) = x + y\n",
    ">\n",
    "> f(2, 3) = 2 + 3 = 5\n",
    "\n",
    "You've also already used a multi-argument function in `R` called `sample`.\n",
    "\n",
    "We provided `sample` with three arguments:\n",
    "\n",
    "1. A vector of numbers to sample from\n",
    "2. How many numbers to sample\n",
    "3. Whether or not we can reuse numbers after sampling them"
   ]
  },
  {
   "cell_type": "markdown",
   "metadata": {},
   "source": [
    "## 📝 Back to the birthday problem: Finding duplicates"
   ]
  },
  {
   "cell_type": "markdown",
   "metadata": {},
   "source": [
    "The code below defines a new function, `has_duplicate`.\n",
    "\n",
    "> `has_duplicate` returns `TRUE` if the input vector contains any duplicate values, and FALSE otherwise.\n"
   ]
  },
  {
   "cell_type": "code",
   "execution_count": 86,
   "metadata": {},
   "outputs": [],
   "source": [
    "has_duplicate <- function(v) {\n",
    "    any(duplicated(v))\n",
    "}"
   ]
  },
  {
   "cell_type": "markdown",
   "metadata": {},
   "source": [
    "Make sure to run the cell above, and then run `has_duplicate` in the cells below."
   ]
  },
  {
   "cell_type": "code",
   "execution_count": 87,
   "metadata": {},
   "outputs": [
    {
     "data": {
      "text/html": [
       "<style>\n",
       ".list-inline {list-style: none; margin:0; padding: 0}\n",
       ".list-inline>li {display: inline-block}\n",
       ".list-inline>li:not(:last-child)::after {content: \"\\00b7\"; padding: 0 .5ex}\n",
       "</style>\n",
       "<ol class=list-inline><li>1</li><li>3</li><li>1</li><li>3</li><li>1</li></ol>\n"
      ],
      "text/latex": [
       "\\begin{enumerate*}\n",
       "\\item 1\n",
       "\\item 3\n",
       "\\item 1\n",
       "\\item 3\n",
       "\\item 1\n",
       "\\end{enumerate*}\n"
      ],
      "text/markdown": [
       "1. 1\n",
       "2. 3\n",
       "3. 1\n",
       "4. 3\n",
       "5. 1\n",
       "\n",
       "\n"
      ],
      "text/plain": [
       "[1] 1 3 1 3 1"
      ]
     },
     "metadata": {},
     "output_type": "display_data"
    }
   ],
   "source": [
    "vector_a <- sample(1:3, 5, replace = TRUE)\n",
    "vector_a"
   ]
  },
  {
   "cell_type": "code",
   "execution_count": 88,
   "metadata": {},
   "outputs": [
    {
     "data": {
      "text/html": [
       "TRUE"
      ],
      "text/latex": [
       "TRUE"
      ],
      "text/markdown": [
       "TRUE"
      ],
      "text/plain": [
       "[1] TRUE"
      ]
     },
     "metadata": {},
     "output_type": "display_data"
    }
   ],
   "source": [
    "has_duplicate(vector_a)"
   ]
  },
  {
   "cell_type": "code",
   "execution_count": 89,
   "metadata": {},
   "outputs": [
    {
     "data": {
      "text/html": [
       "<style>\n",
       ".list-inline {list-style: none; margin:0; padding: 0}\n",
       ".list-inline>li {display: inline-block}\n",
       ".list-inline>li:not(:last-child)::after {content: \"\\00b7\"; padding: 0 .5ex}\n",
       "</style>\n",
       "<ol class=list-inline><li>5</li><li>7</li><li>10</li><li>4</li><li>2</li></ol>\n"
      ],
      "text/latex": [
       "\\begin{enumerate*}\n",
       "\\item 5\n",
       "\\item 7\n",
       "\\item 10\n",
       "\\item 4\n",
       "\\item 2\n",
       "\\end{enumerate*}\n"
      ],
      "text/markdown": [
       "1. 5\n",
       "2. 7\n",
       "3. 10\n",
       "4. 4\n",
       "5. 2\n",
       "\n",
       "\n"
      ],
      "text/plain": [
       "[1]  5  7 10  4  2"
      ]
     },
     "metadata": {},
     "output_type": "display_data"
    }
   ],
   "source": [
    "vector_b <- sample(1:10, 5, replace = FALSE)\n",
    "vector_b"
   ]
  },
  {
   "cell_type": "code",
   "execution_count": 90,
   "metadata": {},
   "outputs": [
    {
     "data": {
      "text/html": [
       "FALSE"
      ],
      "text/latex": [
       "FALSE"
      ],
      "text/markdown": [
       "FALSE"
      ],
      "text/plain": [
       "[1] FALSE"
      ]
     },
     "metadata": {},
     "output_type": "display_data"
    }
   ],
   "source": [
    "has_duplicate(vector_b)"
   ]
  },
  {
   "cell_type": "markdown",
   "metadata": {},
   "source": [
    "### 🚀 Exercise\n",
    "\n",
    "**Generate a vector of 60 random birthdays, and determine whether the vector has any duplicates.**"
   ]
  },
  {
   "cell_type": "code",
   "execution_count": 91,
   "metadata": {},
   "outputs": [
    {
     "data": {
      "text/html": [
       "TRUE"
      ],
      "text/latex": [
       "TRUE"
      ],
      "text/markdown": [
       "TRUE"
      ],
      "text/plain": [
       "[1] TRUE"
      ]
     },
     "metadata": {},
     "output_type": "display_data"
    }
   ],
   "source": [
    "# Your code here!\n",
    "\n",
    "# START\n",
    "has_duplicate(sample(1:366, 60, replace = TRUE))\n",
    "# END"
   ]
  },
  {
   "cell_type": "markdown",
   "metadata": {
    "tags": []
   },
   "source": [
    "### 📝 Counting pairs\n",
    "\n",
    "The code below defines another function, `num_pairs`.\n",
    "\n",
    "`num_pairs` returns the number of pairs that can formed with duplicated values.\n",
    "\n",
    "> In math speak, you can form $\\binom{n}{2}$ pairs from $n$ values.\n",
    ">\n",
    "> $\\binom{n}{2} = \\frac{n!}{2!(n - 2)!}$\n",
    "\n",
    "For example, the vector `c(1, 2, 3, 3)` has two 3s, so `num_pairs` should return $\\binom{2}{2} = 1$. In other words, we can only make one pair of identical numbers.\n",
    "\n",
    "The vector `c(1, 2, 3, 3, 3, 3)` has four 3s, so `num_pairs` should return $\\binom{4}{2} = 6$.\n",
    "\n",
    "The vector `c(1, 2, 3, 4, 5, 5, 5, 6, 6)` has three 5s and two 6s, so `num_pairs` should return $\\binom{3}{2} + \\binom{2}{2} = 4$."
   ]
  },
  {
   "cell_type": "code",
   "execution_count": 92,
   "metadata": {},
   "outputs": [],
   "source": [
    "# don't worry at all about studying/understanding this specific function!\n",
    "# But, if you're looking for an extension problem, try to figure out how this function works.\n",
    "num_pairs <- function(v) {\n",
    "    duplicated_indices <- duplicated(v)\n",
    "    duplicated_values <- v[duplicated_indices]\n",
    "    duplicated_counts <- table(duplicated_values) + 1\n",
    "    sum(choose(duplicated_counts, 2))\n",
    "}"
   ]
  },
  {
   "cell_type": "code",
   "execution_count": 93,
   "metadata": {},
   "outputs": [
    {
     "data": {
      "text/html": [
       "1"
      ],
      "text/latex": [
       "1"
      ],
      "text/markdown": [
       "1"
      ],
      "text/plain": [
       "[1] 1"
      ]
     },
     "metadata": {},
     "output_type": "display_data"
    }
   ],
   "source": [
    "num_pairs(c(1, 2, 3, 3))"
   ]
  },
  {
   "cell_type": "code",
   "execution_count": 94,
   "metadata": {},
   "outputs": [
    {
     "data": {
      "text/html": [
       "6"
      ],
      "text/latex": [
       "6"
      ],
      "text/markdown": [
       "6"
      ],
      "text/plain": [
       "[1] 6"
      ]
     },
     "metadata": {},
     "output_type": "display_data"
    }
   ],
   "source": [
    "num_pairs(c(1, 2, 3, 3, 3, 3))"
   ]
  },
  {
   "cell_type": "code",
   "execution_count": 95,
   "metadata": {},
   "outputs": [
    {
     "data": {
      "text/html": [
       "4"
      ],
      "text/latex": [
       "4"
      ],
      "text/markdown": [
       "4"
      ],
      "text/plain": [
       "[1] 4"
      ]
     },
     "metadata": {},
     "output_type": "display_data"
    }
   ],
   "source": [
    "num_pairs(c(1, 2, 3, 4, 5, 5, 5, 6, 6))"
   ]
  },
  {
   "cell_type": "markdown",
   "metadata": {},
   "source": [
    "### 🚀 Exercise\n",
    "\n",
    "**Think back to the John Smith example:**\n",
    "\n",
    "> In the 2012 election, there were 141 individuals named \"John Smith\" who were born in 1970. From those 141 individuals, we can make 27 pairs with exactly the same birthday.\n",
    "\n",
    "**Generate a vector of 141 random birthdays, and determine how many duplicate pairs can be formed from elements in the vector.** Run your code repeatedly to see how the results can change due to randomness."
   ]
  },
  {
   "cell_type": "code",
   "execution_count": 96,
   "metadata": {},
   "outputs": [
    {
     "data": {
      "text/html": [
       "21"
      ],
      "text/latex": [
       "21"
      ],
      "text/markdown": [
       "21"
      ],
      "text/plain": [
       "[1] 21"
      ]
     },
     "metadata": {},
     "output_type": "display_data"
    }
   ],
   "source": [
    "# Your code here!\n",
    "\n",
    "# START\n",
    "num_pairs(sample(1:366, 141, replace = TRUE))\n",
    "# END"
   ]
  },
  {
   "cell_type": "markdown",
   "metadata": {},
   "source": [
    "### ⏭️ Optional extension Problem\n",
    "\n",
    "Generate a vector of 141 birthdays occurring over 10 years (so far, we've ignored the year). Calculate the number of pairs that can be formed."
   ]
  },
  {
   "cell_type": "code",
   "execution_count": 97,
   "metadata": {},
   "outputs": [
    {
     "data": {
      "text/html": [
       "1"
      ],
      "text/latex": [
       "1"
      ],
      "text/markdown": [
       "1"
      ],
      "text/plain": [
       "[1] 1"
      ]
     },
     "metadata": {},
     "output_type": "display_data"
    }
   ],
   "source": [
    "# Your code here!\n",
    "\n",
    "# START\n",
    "num_pairs(sample(1:(365*10), 141, replace = TRUE))\n",
    "# END"
   ]
  },
  {
   "cell_type": "markdown",
   "metadata": {},
   "source": [
    "### 📝  Repetition with `for` loops 🔁\n",
    "\n",
    "Recall the third step in our algorithm:\n",
    "\n",
    "3️⃣ We need to repeat this process over and over.\n",
    "\n",
    "The `for` loop lets us do exactly this. Here's the syntax for a `for` loop:\n",
    "\n",
    "```\n",
    "for (element in vector) { \n",
    "    perform an action\n",
    "}\n",
    "```\n",
    "\n",
    "Run the following cell to see a `for` loop in action:"
   ]
  },
  {
   "cell_type": "code",
   "execution_count": 98,
   "metadata": {},
   "outputs": [
    {
     "name": "stdout",
     "output_type": "stream",
     "text": [
      "[1] \"Hello, world!\"\n",
      "[1] \"Hello, world!\"\n",
      "[1] \"Hello, world!\"\n",
      "[1] \"Hello, world!\"\n",
      "[1] \"Hello, world!\"\n",
      "[1] \"Hello, world!\"\n",
      "[1] \"Hello, world!\"\n",
      "[1] \"Hello, world!\"\n",
      "[1] \"Hello, world!\"\n",
      "[1] \"Hello, world!\"\n"
     ]
    }
   ],
   "source": [
    "for (i in 1:10) {\n",
    "    print(\"Hello, world!\")\n",
    "}"
   ]
  },
  {
   "cell_type": "markdown",
   "metadata": {},
   "source": [
    "Uh, hi?"
   ]
  },
  {
   "cell_type": "markdown",
   "metadata": {},
   "source": [
    "Here's what's going on in the loop 🔁:"
   ]
  },
  {
   "cell_type": "markdown",
   "metadata": {},
   "source": [
    "1. `R` will iterate through each number in the vector `1:10`. The first number is `1`. \n",
    "2. So, create a variable `i` with the value 1.\n",
    "> `i <- 1`\n",
    "3. Do what's in the brackets. So, print `Hello, world!`.\n",
    "> `print(\"Hello, world!\")`\n",
    "4. Repeat the steps above for the rest of the vector.\n",
    "> `i <- 2`; `print(\"Hello, world!\")`; `i <- 3`; `print(\"Hello, world!\")`; `...` ; `i <- 10`; `print(\"Hello, world!\")`\n",
    "\n",
    "Welcome to the world of automation 🤖!\n",
    "\n",
    "With a `for` loop, we can do more than just print text:"
   ]
  },
  {
   "cell_type": "code",
   "execution_count": 99,
   "metadata": {},
   "outputs": [
    {
     "name": "stdout",
     "output_type": "stream",
     "text": [
      "[1]  5 11  7  3  4\n",
      "[1] 17 14 14 11 19\n",
      "[1] 13 11 10  8  4\n"
     ]
    }
   ],
   "source": [
    "for (i in 1:3) {\n",
    "    print(sample(1:20, 5, replace = TRUE))\n",
    "}"
   ]
  },
  {
   "cell_type": "markdown",
   "metadata": {},
   "source": [
    "We can also use the `i` variable inside of our `for` loop:"
   ]
  },
  {
   "cell_type": "code",
   "execution_count": 100,
   "metadata": {},
   "outputs": [
    {
     "name": "stdout",
     "output_type": "stream",
     "text": [
      "[1] 10\n",
      "[1] 11\n",
      "[1] 12\n",
      "[1] 13\n",
      "[1] 14\n",
      "[1] 15\n"
     ]
    }
   ],
   "source": [
    "for (i in 10:15) {\n",
    "    print(i)\n",
    "}"
   ]
  },
  {
   "cell_type": "markdown",
   "metadata": {},
   "source": [
    "## 🚀 Exercise\n",
    "\n",
    "**Using a `for` loop, print 3 vectors with each containing 60 random birthdays.**"
   ]
  },
  {
   "cell_type": "code",
   "execution_count": 101,
   "metadata": {},
   "outputs": [
    {
     "name": "stdout",
     "output_type": "stream",
     "text": [
      " [1] 298 170   4   9 279 246 309 160  98 129 228 229 123 330 348 199 257 365 347\n",
      "[20] 219 236 142 178 338 273 146 363 138 296 254 287 279 347  65 234 115 208 237\n",
      "[39] 110 312 153 175 246  81 263 337 312 242 158   1 193 225 104  55 167  92  85\n",
      "[58] 358  92 123\n",
      " [1]   6  13  79  96 360  81 280 107 162 112  54  85 185  60 189 297 186 129 173\n",
      "[20]   4 319 346  54   7 222 162 315  22  86  63  93 170   3 279 217 335 122 304\n",
      "[39] 265 121  69 319 149 164 204   5  24 138 250 113 125 135 210 188 115  95 256\n",
      "[58] 262  25  94\n",
      " [1] 144 158 153  31  27   5 125 272 209 248 273 166  75  78 134 218 288 283 362\n",
      "[20] 107 286  74  98 141  91 140 120 297 201 309 115 365 260  85 159 334 164 312\n",
      "[39] 228 208 223 156 335 296 302  55  34 322 319 112 176 330 347  37  25  83 239\n",
      "[58] 344 248 177\n"
     ]
    }
   ],
   "source": [
    "# Your code here!\n",
    "\n",
    "# START\n",
    "for (i in 1:3) {\n",
    "    print(sample(1:366, 60, replace = TRUE))\n",
    "}\n",
    "# END"
   ]
  },
  {
   "cell_type": "markdown",
   "metadata": {},
   "source": [
    "## 🚀 Exercise\n",
    "\n",
    "**Using a `for` loop and a counter, add up all the numbers from 1 to 100.**\n",
    "\n",
    "To get you started, here's how you could use a counter to count to 5:"
   ]
  },
  {
   "cell_type": "code",
   "execution_count": 102,
   "metadata": {},
   "outputs": [
    {
     "name": "stdout",
     "output_type": "stream",
     "text": [
      "[1] 1\n",
      "[1] 2\n",
      "[1] 3\n",
      "[1] 4\n",
      "[1] 5\n",
      "[1] \"Final value of counter:\"\n",
      "[1] 5\n"
     ]
    }
   ],
   "source": [
    "counter <- 0\n",
    "\n",
    "for (i in 1:5) {\n",
    "    counter <- counter + 1\n",
    "    print(counter)\n",
    "}\n",
    "\n",
    "print(\"Final value of counter:\")\n",
    "print(counter)"
   ]
  },
  {
   "cell_type": "code",
   "execution_count": 103,
   "metadata": {},
   "outputs": [
    {
     "name": "stdout",
     "output_type": "stream",
     "text": [
      "[1] 5050\n",
      "[1] 5050\n"
     ]
    }
   ],
   "source": [
    "# Your code here!\n",
    "\n",
    "# START\n",
    "counter <- 0\n",
    "\n",
    "for (i in 1:100) {\n",
    "    counter <- counter + i\n",
    "}\n",
    "\n",
    "print(counter)\n",
    "\n",
    "# check our answer\n",
    "print(sum(1:100))\n",
    "# END"
   ]
  },
  {
   "cell_type": "markdown",
   "metadata": {},
   "source": [
    "### ⏭️ Optional extension problem\n",
    "\n",
    "Use a `for` loop to print the first odd number, the sum of the first two odd numbers, the sum of the first three odd numbers, ..., all the way up to the sum of the first 10 odd numbers. \n",
    "\n",
    "Do you notice a pattern?"
   ]
  },
  {
   "cell_type": "code",
   "execution_count": 104,
   "metadata": {},
   "outputs": [
    {
     "name": "stdout",
     "output_type": "stream",
     "text": [
      "[1] 1\n",
      "[1] 4\n",
      "[1] 9\n",
      "[1] 16\n",
      "[1] 25\n",
      "[1] 36\n",
      "[1] 49\n",
      "[1] 64\n",
      "[1] 81\n",
      "[1] 100\n"
     ]
    }
   ],
   "source": [
    "# Your code here!\n",
    "\n",
    "# START\n",
    "numbers <- 1:10\n",
    "for (number in numbers) {\n",
    "    odd_nums <- seq(1, 2*number, by=2)\n",
    "    print(sum(odd_nums))\n",
    "}\n",
    "\n",
    "# The numbers are all perfect squares!\n",
    "\n",
    "# END"
   ]
  },
  {
   "cell_type": "markdown",
   "metadata": {},
   "source": [
    "## 🎶 Interlude: Booleans and control flow"
   ]
  },
  {
   "cell_type": "markdown",
   "metadata": {},
   "source": [
    "### 📝 Control flow with booleans, `if`, and `else`"
   ]
  },
  {
   "cell_type": "markdown",
   "metadata": {},
   "source": [
    "Booleans are a special type of variable that can take on only two possible values: `TRUE` or `FALSE`.\n",
    "\n",
    "> 🏛️ *Historical note*: Booleans are named after George Boole, a 19th century mathematician. https://en.wikipedia.org/wiki/George_Boole\n",
    "\n",
    "Booleans come in handy when you're comparing values."
   ]
  },
  {
   "cell_type": "code",
   "execution_count": 105,
   "metadata": {},
   "outputs": [
    {
     "data": {
      "text/html": [
       "TRUE"
      ],
      "text/latex": [
       "TRUE"
      ],
      "text/markdown": [
       "TRUE"
      ],
      "text/plain": [
       "[1] TRUE"
      ]
     },
     "metadata": {},
     "output_type": "display_data"
    }
   ],
   "source": [
    "10 == 10"
   ]
  },
  {
   "cell_type": "code",
   "execution_count": 106,
   "metadata": {},
   "outputs": [
    {
     "data": {
      "text/html": [
       "FALSE"
      ],
      "text/latex": [
       "FALSE"
      ],
      "text/markdown": [
       "FALSE"
      ],
      "text/plain": [
       "[1] FALSE"
      ]
     },
     "metadata": {},
     "output_type": "display_data"
    }
   ],
   "source": [
    "9 == 10"
   ]
  },
  {
   "cell_type": "markdown",
   "metadata": {},
   "source": [
    "❗❗The double equal sign ( `==` ) is different than the single equal sign ( `=` ).\n",
    "\n",
    "> While a single equal sign is used to <i>assign</i> values to arguments inside functions, a double equal sign is used to <i>compare</i> values."
   ]
  },
  {
   "cell_type": "code",
   "execution_count": 107,
   "metadata": {},
   "outputs": [],
   "source": [
    "# this doesn't make sense! We can't assign the value 10 to the number 9.\n",
    "# 9 = 10"
   ]
  },
  {
   "cell_type": "markdown",
   "metadata": {},
   "source": [
    "We can also use greater than ( `>` ) and less than ( `<` ) to compare values:"
   ]
  },
  {
   "cell_type": "code",
   "execution_count": 108,
   "metadata": {},
   "outputs": [
    {
     "data": {
      "text/html": [
       "TRUE"
      ],
      "text/latex": [
       "TRUE"
      ],
      "text/markdown": [
       "TRUE"
      ],
      "text/plain": [
       "[1] TRUE"
      ]
     },
     "metadata": {},
     "output_type": "display_data"
    }
   ],
   "source": [
    "9 < 10"
   ]
  },
  {
   "cell_type": "code",
   "execution_count": 109,
   "metadata": {},
   "outputs": [
    {
     "data": {
      "text/html": [
       "FALSE"
      ],
      "text/latex": [
       "FALSE"
      ],
      "text/markdown": [
       "FALSE"
      ],
      "text/plain": [
       "[1] FALSE"
      ]
     },
     "metadata": {},
     "output_type": "display_data"
    }
   ],
   "source": [
    "10 > 10"
   ]
  },
  {
   "cell_type": "code",
   "execution_count": 110,
   "metadata": {},
   "outputs": [
    {
     "data": {
      "text/html": [
       "TRUE"
      ],
      "text/latex": [
       "TRUE"
      ],
      "text/markdown": [
       "TRUE"
      ],
      "text/plain": [
       "[1] TRUE"
      ]
     },
     "metadata": {},
     "output_type": "display_data"
    }
   ],
   "source": [
    "# <= means \"less than or equal to\", and >= means \"greater than or equal to\"\n",
    "\n",
    "10 >= 10"
   ]
  },
  {
   "cell_type": "markdown",
   "metadata": {},
   "source": [
    "### Working with `if`"
   ]
  },
  {
   "cell_type": "markdown",
   "metadata": {},
   "source": [
    "We can use `if` with booleans to control our code. Here's the **syntax**:\n",
    "\n",
    "```\n",
    "do everything up here\n",
    "\n",
    "if (this statement is true) {\n",
    "    do this thing too\n",
    "}\n",
    "\n",
    "finally, do everything down here\n",
    "```\n",
    "\n",
    "Here's an example. Practice reading the code line by line to understand each piece:"
   ]
  },
  {
   "cell_type": "code",
   "execution_count": 111,
   "metadata": {},
   "outputs": [
    {
     "name": "stdout",
     "output_type": "stream",
     "text": [
      "[1] 1\n",
      "[1] 2\n",
      "[1] 3\n",
      "[1] \"Counter is now bigger than or equal to 3!\"\n",
      "[1] 4\n",
      "[1] \"Counter is now bigger than or equal to 3!\"\n",
      "[1] 5\n",
      "[1] \"Counter is now bigger than or equal to 3!\"\n"
     ]
    }
   ],
   "source": [
    "counter <- 0\n",
    "\n",
    "for (i in 1:5) {\n",
    "    counter <- counter + 1\n",
    "    \n",
    "    print(counter)\n",
    "    \n",
    "    if (counter >= 3) {\n",
    "        print(\"Counter is now bigger than or equal to 3!\")\n",
    "    }\n",
    "}"
   ]
  },
  {
   "cell_type": "markdown",
   "metadata": {},
   "source": [
    "### Adding `else` to the mix"
   ]
  },
  {
   "cell_type": "markdown",
   "metadata": {},
   "source": [
    "`else` means \"otherwise\". We can use `if` and `else` with each other to write code that follows this pattern:\n",
    "\n",
    "```\n",
    "if (this statement is true) {\n",
    "    do this thing\n",
    "}\n",
    "else {\n",
    "    do this other thing\n",
    "}\n",
    "```\n",
    "\n",
    "Here's an example. Practice reading the code line by line to understand each piece:"
   ]
  },
  {
   "cell_type": "code",
   "execution_count": 112,
   "metadata": {},
   "outputs": [
    {
     "name": "stdout",
     "output_type": "stream",
     "text": [
      "[1] 1\n",
      "[1] \"Counter is less than 3!\"\n",
      "[1] 2\n",
      "[1] \"Counter is less than 3!\"\n",
      "[1] 3\n",
      "[1] \"Counter is now bigger than or equal to 3!\"\n",
      "[1] 4\n",
      "[1] \"Counter is now bigger than or equal to 3!\"\n",
      "[1] 5\n",
      "[1] \"Counter is now bigger than or equal to 3!\"\n"
     ]
    }
   ],
   "source": [
    "counter <- 0\n",
    "\n",
    "for (i in 1:5) {\n",
    "    counter <- counter + 1\n",
    "    \n",
    "    print(counter)\n",
    "    \n",
    "    if (counter >= 3) {\n",
    "        print(\"Counter is now bigger than or equal to 3!\")\n",
    "    }\n",
    "    else {\n",
    "        print(\"Counter is less than 3!\")\n",
    "    }\n",
    "}"
   ]
  },
  {
   "cell_type": "markdown",
   "metadata": {},
   "source": [
    "### 🚀 Exercise\n",
    "\n",
    "**Write a `for` loop to count off all the numbers from 1 to 10. Print \"Bigger than 5!\" after each number that is bigger than 5.**"
   ]
  },
  {
   "cell_type": "code",
   "execution_count": 113,
   "metadata": {},
   "outputs": [
    {
     "name": "stdout",
     "output_type": "stream",
     "text": [
      "[1] 1\n",
      "[1] 2\n",
      "[1] 3\n",
      "[1] 4\n",
      "[1] 5\n",
      "[1] 6\n",
      "[1] \"Bigger than 5!\"\n",
      "[1] 7\n",
      "[1] \"Bigger than 5!\"\n",
      "[1] 8\n",
      "[1] \"Bigger than 5!\"\n",
      "[1] 9\n",
      "[1] \"Bigger than 5!\"\n",
      "[1] 10\n",
      "[1] \"Bigger than 5!\"\n"
     ]
    }
   ],
   "source": [
    "# Your code here!\n",
    "\n",
    "# START\n",
    "for (i in 1:10) {\n",
    "    print(i)\n",
    "    \n",
    "    if (i > 5) {\n",
    "        print(\"Bigger than 5!\")\n",
    "    }\n",
    "}\n",
    "# END"
   ]
  },
  {
   "cell_type": "markdown",
   "metadata": {},
   "source": [
    "### 🚀 Exercise\n",
    "\n",
    "**Generate a vector of 20 birthdays, and print the birthdays that fall in the first half of the year.**"
   ]
  },
  {
   "cell_type": "code",
   "execution_count": 114,
   "metadata": {},
   "outputs": [
    {
     "name": "stdout",
     "output_type": "stream",
     "text": [
      "[1] 127\n",
      "[1] 17\n",
      "[1] 155\n",
      "[1] 10\n",
      "[1] 101\n",
      "[1] 49\n",
      "[1] 138\n",
      "[1] 125\n",
      "[1] 64\n",
      "[1] 71\n",
      "[1] 54\n"
     ]
    }
   ],
   "source": [
    "# Your code here!\n",
    "\n",
    "# START\n",
    "birthdays <- sample(1:366, 20, replace = TRUE)\n",
    "\n",
    "for (birthday in birthdays) {\n",
    "    if (birthday < 183) {\n",
    "        print(birthday)\n",
    "    }\n",
    "}\n",
    "# END"
   ]
  },
  {
   "cell_type": "markdown",
   "metadata": {},
   "source": [
    "## Back to the birthday problem: Translating our algorithm into code"
   ]
  },
  {
   "cell_type": "markdown",
   "metadata": {},
   "source": [
    "We're ready to come back to our algorithm:\n",
    "\n",
    "> 1. We need a room of 60 people, and we need to know their birthdays.\n",
    "> 2. We need to check whether two people in that room share a birthday.\n",
    "> 3. We need to repeat this process over and over.\n",
    "> 4. We need to figure out how frequently two or more people shared a birthday."
   ]
  },
  {
   "cell_type": "markdown",
   "metadata": {},
   "source": [
    "### 🚀 Exercise\n",
    "\n",
    "**Translate our algorithm into code to solve the birthday problem!** 🙀\n",
    "\n",
    "How often will at least two people share a birthday in a room of 60 people? Are you surprised with the result?"
   ]
  },
  {
   "cell_type": "code",
   "execution_count": 115,
   "metadata": {},
   "outputs": [
    {
     "data": {
      "text/html": [
       "0.9937"
      ],
      "text/latex": [
       "0.9937"
      ],
      "text/markdown": [
       "0.9937"
      ],
      "text/plain": [
       "[1] 0.9937"
      ]
     },
     "metadata": {},
     "output_type": "display_data"
    }
   ],
   "source": [
    "# Your code here!\n",
    "\n",
    "# START\n",
    "# This is the total number of birthday vectors we will generate\n",
    "# 10000 is arbitrary. we just need something \"big enough\"\n",
    "n <- 10000\n",
    "\n",
    "# This is a counter to keep track of how many vectors had at least \n",
    "# one duplicate birthday\n",
    "n_with_duplicates <- 0\n",
    "\n",
    "# Each time we see a vector with at least one duplicate, we should\n",
    "# increment our counter\n",
    "for (i in 1:n) {\n",
    "    \n",
    "    if (has_duplicate(sample(1:366, 60, replace = TRUE))) {\n",
    "        \n",
    "        n_with_duplicates <- n_with_duplicates + 1\n",
    "    }\n",
    "    \n",
    "}\n",
    "\n",
    "# Fraction of vectors with at least one duplicate\n",
    "n_with_duplicates / n\n",
    "# END"
   ]
  },
  {
   "cell_type": "markdown",
   "metadata": {},
   "source": [
    "### 🚀 Additional exercises\n",
    "\n",
    "**A. Decrease the number of birthdays we generate in each birthday vector, and re-run the code several times. What happens to the fraction of vectors with duplicates?**"
   ]
  },
  {
   "cell_type": "code",
   "execution_count": 116,
   "metadata": {},
   "outputs": [
    {
     "data": {
      "text/html": [
       "0.1168"
      ],
      "text/latex": [
       "0.1168"
      ],
      "text/markdown": [
       "0.1168"
      ],
      "text/plain": [
       "[1] 0.1168"
      ]
     },
     "metadata": {},
     "output_type": "display_data"
    }
   ],
   "source": [
    "# Your code here!\n",
    "\n",
    "# START\n",
    "n <- 10000\n",
    "\n",
    "n_with_duplicates <- 0\n",
    "\n",
    "for (i in 1:n) {\n",
    "    \n",
    "    if (has_duplicate(sample(1:366, 10, replace = TRUE))) {\n",
    "        \n",
    "        n_with_duplicates <- n_with_duplicates + 1\n",
    "    }\n",
    "    \n",
    "}\n",
    "\n",
    "n_with_duplicates / n\n",
    "\n",
    "# The chance of a match goes down! \n",
    "\n",
    "# END"
   ]
  },
  {
   "cell_type": "markdown",
   "metadata": {},
   "source": [
    "**B. Decrease the number of birthday vectors, and re-run the code several times. What happens to the results?**"
   ]
  },
  {
   "cell_type": "code",
   "execution_count": 117,
   "metadata": {},
   "outputs": [
    {
     "data": {
      "text/html": [
       "0.994"
      ],
      "text/latex": [
       "0.994"
      ],
      "text/markdown": [
       "0.994"
      ],
      "text/plain": [
       "[1] 0.994"
      ]
     },
     "metadata": {},
     "output_type": "display_data"
    }
   ],
   "source": [
    "# Your code here!\n",
    "\n",
    "# START\n",
    "n <- 1000\n",
    "\n",
    "n_with_duplicates <- 0\n",
    "\n",
    "for (i in 1:n) {\n",
    "    \n",
    "    if (has_duplicate(sample(1:366, 60, replace = TRUE))) {\n",
    "        \n",
    "        n_with_duplicates <- n_with_duplicates + 1\n",
    "    }\n",
    "    \n",
    "}\n",
    "\n",
    "n_with_duplicates / n\n",
    "\n",
    "# The precision of our estimate gets worse! \n",
    "\n",
    "# END"
   ]
  },
  {
   "cell_type": "markdown",
   "metadata": {},
   "source": [
    "**C. Increase the number of birthday vectors to something really big, and re-run the code several times. What happens to the results?**"
   ]
  },
  {
   "cell_type": "code",
   "execution_count": 118,
   "metadata": {},
   "outputs": [
    {
     "data": {
      "text/html": [
       "0.99369"
      ],
      "text/latex": [
       "0.99369"
      ],
      "text/markdown": [
       "0.99369"
      ],
      "text/plain": [
       "[1] 0.99369"
      ]
     },
     "metadata": {},
     "output_type": "display_data"
    }
   ],
   "source": [
    "# Your code here!\n",
    "\n",
    "# START\n",
    "n <- 100000\n",
    "\n",
    "n_with_duplicates <- 0\n",
    "\n",
    "for (i in 1:n) {\n",
    "    \n",
    "    if (has_duplicate(sample(1:366, 60, replace = TRUE))) {\n",
    "        \n",
    "        n_with_duplicates <- n_with_duplicates + 1\n",
    "    }\n",
    "    \n",
    "}\n",
    "\n",
    "n_with_duplicates / n\n",
    "\n",
    "# The precision of our estimate goes up, but the code runs slower!\n",
    "\n",
    "# END"
   ]
  },
  {
   "cell_type": "markdown",
   "metadata": {},
   "source": [
    "**D. How many birthdays should be in each vector for an approximately 50% chance of a match?**"
   ]
  },
  {
   "cell_type": "code",
   "execution_count": 119,
   "metadata": {},
   "outputs": [
    {
     "data": {
      "text/html": [
       "0.507"
      ],
      "text/latex": [
       "0.507"
      ],
      "text/markdown": [
       "0.507"
      ],
      "text/plain": [
       "[1] 0.507"
      ]
     },
     "metadata": {},
     "output_type": "display_data"
    }
   ],
   "source": [
    "# Your code here!\n",
    "\n",
    "# START\n",
    "n <- 1000\n",
    "\n",
    "n_with_duplicates <- 0\n",
    "\n",
    "for (i in 1:n) {\n",
    "    \n",
    "    if (has_duplicate(sample(1:366, 23, replace = TRUE))) {\n",
    "        \n",
    "        n_with_duplicates <- n_with_duplicates + 1\n",
    "    }\n",
    "    \n",
    "}\n",
    "\n",
    "n_with_duplicates / n\n",
    "\n",
    "# This takes some trial an error, but the closest we can get to \n",
    "# 50% is with 23 birthdays per vector.\n",
    "\n",
    "# In a classroom of just 23 students, there is a ~50% chance of\n",
    "# a matched birthday!\n",
    "\n",
    "# END"
   ]
  },
  {
   "cell_type": "markdown",
   "metadata": {},
   "source": [
    "## Circling back to double voting\n",
    "\n",
    "Remember our original problem:\n",
    "\n",
    "> In the 2012 election, there were 141 individuals named \"John Smith\" who were born in 1970, and 27 pairs had exactly the same birthday.\n",
    "\n",
    "## 🚀 Exercise\n",
    "\n",
    "**Modify the simulation code to calculate the average number of birthday duplicates in 1,000 vectors of 141 individuals.**\n",
    "\n",
    "How does your answer compare to the 27 birthday pairs we found in the real data?"
   ]
  },
  {
   "cell_type": "code",
   "execution_count": 120,
   "metadata": {},
   "outputs": [
    {
     "data": {
      "text/html": [
       "26.953"
      ],
      "text/latex": [
       "26.953"
      ],
      "text/markdown": [
       "26.953"
      ],
      "text/plain": [
       "[1] 26.953"
      ]
     },
     "metadata": {},
     "output_type": "display_data"
    }
   ],
   "source": [
    "# Your code here!\n",
    "\n",
    "# START\n",
    "n <- 1000\n",
    "\n",
    "n_pairs <- 0\n",
    "\n",
    "for (i in 1:n) {\n",
    "    \n",
    "    n_pairs <- n_pairs + num_pairs(sample(1:366, 141, replace = TRUE))\n",
    "    \n",
    "}\n",
    "\n",
    "# Spooky! It's actually really close to 27. By chance, we'd expect\n",
    "# to see 27 pairs on average. Keep in mind, though, we're not guaranteed to\n",
    "# see 27 pairs for every 141 birthdays. We just got lucky.\n",
    "\n",
    "n_pairs / n\n",
    "# END"
   ]
  },
  {
   "cell_type": "markdown",
   "metadata": {},
   "source": [
    "### 📝 Extension topic: Vectorized functions\n",
    "\n",
    "Often, we'll want to apply the same function to every element in a vector. Rather than use a `for` loop, it is more efficient to use a vectorized function, such as `replicate` or `map`. \n",
    "\n",
    "> 🔎 Vectorization leverages parallel processing, which allows your computer to tackle multiple computations at the same time.\n",
    "\n",
    "Here's how `replicate` works:\n",
    "\n",
    "> `replicate(number of times to perform an action, the action)`"
   ]
  },
  {
   "cell_type": "markdown",
   "metadata": {},
   "source": [
    "### ⏭️ Optional extension problem\n",
    "\n",
    "**Use `replicate` to generate 3 vectors of 10 random birthdays.**"
   ]
  },
  {
   "cell_type": "code",
   "execution_count": 121,
   "metadata": {},
   "outputs": [
    {
     "data": {
      "text/html": [
       "<table class=\"dataframe\">\n",
       "<caption>A matrix: 10 × 3 of type int</caption>\n",
       "<tbody>\n",
       "\t<tr><td> 55</td><td>112</td><td>366</td></tr>\n",
       "\t<tr><td> 51</td><td>349</td><td> 95</td></tr>\n",
       "\t<tr><td>297</td><td>279</td><td> 57</td></tr>\n",
       "\t<tr><td> 60</td><td>135</td><td>156</td></tr>\n",
       "\t<tr><td>135</td><td> 96</td><td>221</td></tr>\n",
       "\t<tr><td>221</td><td> 46</td><td>246</td></tr>\n",
       "\t<tr><td> 24</td><td>265</td><td> 46</td></tr>\n",
       "\t<tr><td>345</td><td>150</td><td>  9</td></tr>\n",
       "\t<tr><td>294</td><td>124</td><td>126</td></tr>\n",
       "\t<tr><td>331</td><td>283</td><td>159</td></tr>\n",
       "</tbody>\n",
       "</table>\n"
      ],
      "text/latex": [
       "A matrix: 10 × 3 of type int\n",
       "\\begin{tabular}{lll}\n",
       "\t  55 & 112 & 366\\\\\n",
       "\t  51 & 349 &  95\\\\\n",
       "\t 297 & 279 &  57\\\\\n",
       "\t  60 & 135 & 156\\\\\n",
       "\t 135 &  96 & 221\\\\\n",
       "\t 221 &  46 & 246\\\\\n",
       "\t  24 & 265 &  46\\\\\n",
       "\t 345 & 150 &   9\\\\\n",
       "\t 294 & 124 & 126\\\\\n",
       "\t 331 & 283 & 159\\\\\n",
       "\\end{tabular}\n"
      ],
      "text/markdown": [
       "\n",
       "A matrix: 10 × 3 of type int\n",
       "\n",
       "|  55 | 112 | 366 |\n",
       "|  51 | 349 |  95 |\n",
       "| 297 | 279 |  57 |\n",
       "|  60 | 135 | 156 |\n",
       "| 135 |  96 | 221 |\n",
       "| 221 |  46 | 246 |\n",
       "|  24 | 265 |  46 |\n",
       "| 345 | 150 |   9 |\n",
       "| 294 | 124 | 126 |\n",
       "| 331 | 283 | 159 |\n",
       "\n"
      ],
      "text/plain": [
       "      [,1] [,2] [,3]\n",
       " [1,]  55  112  366 \n",
       " [2,]  51  349   95 \n",
       " [3,] 297  279   57 \n",
       " [4,]  60  135  156 \n",
       " [5,] 135   96  221 \n",
       " [6,] 221   46  246 \n",
       " [7,]  24  265   46 \n",
       " [8,] 345  150    9 \n",
       " [9,] 294  124  126 \n",
       "[10,] 331  283  159 "
      ]
     },
     "metadata": {},
     "output_type": "display_data"
    }
   ],
   "source": [
    "# Your code here!\n",
    "\n",
    "# START\n",
    "replicate(3, sample(1:366, 10, replace = TRUE))\n",
    "# END"
   ]
  },
  {
   "cell_type": "markdown",
   "metadata": {},
   "source": [
    "### ⏭️ Optional extension problem"
   ]
  },
  {
   "cell_type": "markdown",
   "metadata": {},
   "source": [
    "`map` is a function from the `purrr` package that is more powerful than `replicate`. You can read more about `map` [at this link](https://purrr.tidyverse.org/reference/map.html), or run `?purrr::map`.\n",
    "\n",
    "> 🔎 `purrr` is part of the `tidyverse`, a set of popular `R` packages used for data analysis. We will learn more about the `tidyverse` in a later tutorial. \n",
    "\n",
    "Use `purrr::map` to generate 3 vectors of 10 random birthdays.\n",
    "\n",
    "> 🔎 The double colon (`::`) notation means use the `map` function from the `purrr` library. We could also run `library(purrr)` to load in all the functions from `purrr` to avoid using `purrr::` before `map`."
   ]
  },
  {
   "cell_type": "code",
   "execution_count": 122,
   "metadata": {},
   "outputs": [
    {
     "data": {
      "text/html": [
       "<ol>\n",
       "\t<li><style>\n",
       ".list-inline {list-style: none; margin:0; padding: 0}\n",
       ".list-inline>li {display: inline-block}\n",
       ".list-inline>li:not(:last-child)::after {content: \"\\00b7\"; padding: 0 .5ex}\n",
       "</style>\n",
       "<ol class=list-inline><li>78</li><li>194</li><li>286</li><li>53</li><li>69</li><li>232</li><li>48</li><li>324</li><li>199</li><li>253</li></ol>\n",
       "</li>\n",
       "\t<li><style>\n",
       ".list-inline {list-style: none; margin:0; padding: 0}\n",
       ".list-inline>li {display: inline-block}\n",
       ".list-inline>li:not(:last-child)::after {content: \"\\00b7\"; padding: 0 .5ex}\n",
       "</style>\n",
       "<ol class=list-inline><li>194</li><li>204</li><li>68</li><li>178</li><li>281</li><li>279</li><li>276</li><li>180</li><li>131</li><li>176</li></ol>\n",
       "</li>\n",
       "\t<li><style>\n",
       ".list-inline {list-style: none; margin:0; padding: 0}\n",
       ".list-inline>li {display: inline-block}\n",
       ".list-inline>li:not(:last-child)::after {content: \"\\00b7\"; padding: 0 .5ex}\n",
       "</style>\n",
       "<ol class=list-inline><li>357</li><li>267</li><li>306</li><li>332</li><li>132</li><li>66</li><li>216</li><li>106</li><li>21</li><li>238</li></ol>\n",
       "</li>\n",
       "</ol>\n"
      ],
      "text/latex": [
       "\\begin{enumerate}\n",
       "\\item \\begin{enumerate*}\n",
       "\\item 78\n",
       "\\item 194\n",
       "\\item 286\n",
       "\\item 53\n",
       "\\item 69\n",
       "\\item 232\n",
       "\\item 48\n",
       "\\item 324\n",
       "\\item 199\n",
       "\\item 253\n",
       "\\end{enumerate*}\n",
       "\n",
       "\\item \\begin{enumerate*}\n",
       "\\item 194\n",
       "\\item 204\n",
       "\\item 68\n",
       "\\item 178\n",
       "\\item 281\n",
       "\\item 279\n",
       "\\item 276\n",
       "\\item 180\n",
       "\\item 131\n",
       "\\item 176\n",
       "\\end{enumerate*}\n",
       "\n",
       "\\item \\begin{enumerate*}\n",
       "\\item 357\n",
       "\\item 267\n",
       "\\item 306\n",
       "\\item 332\n",
       "\\item 132\n",
       "\\item 66\n",
       "\\item 216\n",
       "\\item 106\n",
       "\\item 21\n",
       "\\item 238\n",
       "\\end{enumerate*}\n",
       "\n",
       "\\end{enumerate}\n"
      ],
      "text/markdown": [
       "1. 1. 78\n",
       "2. 194\n",
       "3. 286\n",
       "4. 53\n",
       "5. 69\n",
       "6. 232\n",
       "7. 48\n",
       "8. 324\n",
       "9. 199\n",
       "10. 253\n",
       "\n",
       "\n",
       "\n",
       "2. 1. 194\n",
       "2. 204\n",
       "3. 68\n",
       "4. 178\n",
       "5. 281\n",
       "6. 279\n",
       "7. 276\n",
       "8. 180\n",
       "9. 131\n",
       "10. 176\n",
       "\n",
       "\n",
       "\n",
       "3. 1. 357\n",
       "2. 267\n",
       "3. 306\n",
       "4. 332\n",
       "5. 132\n",
       "6. 66\n",
       "7. 216\n",
       "8. 106\n",
       "9. 21\n",
       "10. 238\n",
       "\n",
       "\n",
       "\n",
       "\n",
       "\n"
      ],
      "text/plain": [
       "[[1]]\n",
       " [1]  78 194 286  53  69 232  48 324 199 253\n",
       "\n",
       "[[2]]\n",
       " [1] 194 204  68 178 281 279 276 180 131 176\n",
       "\n",
       "[[3]]\n",
       " [1] 357 267 306 332 132  66 216 106  21 238\n"
      ]
     },
     "metadata": {},
     "output_type": "display_data"
    }
   ],
   "source": [
    "# Your code here!\n",
    "\n",
    "# START\n",
    "purrr::map(1:3, ~ sample(1:366, 10, replace = TRUE))\n",
    "# END"
   ]
  },
  {
   "cell_type": "markdown",
   "metadata": {},
   "source": [
    "### ⏭️ Optional extension problem\n",
    "\n",
    "Solve the birthday problem without using a `for` loop.\n",
    "\n",
    "How many birthday pairs would you expect from 141 individuals born in the same year?"
   ]
  },
  {
   "cell_type": "code",
   "execution_count": 123,
   "metadata": {},
   "outputs": [
    {
     "name": "stdout",
     "output_type": "stream",
     "text": [
      "[1] 26.983\n"
     ]
    }
   ],
   "source": [
    "# Your code here!\n",
    "\n",
    "# START\n",
    "n_sims = 1000\n",
    "sim_counts = purrr::map_dbl(1:n_sims, ~ num_pairs(sample(1:366, 141, replace = TRUE)))\n",
    "print(mean(sim_counts))\n",
    "# END"
   ]
  }
 ],
 "metadata": {
  "kernelspec": {
   "display_name": "R",
   "language": "R",
   "name": "ir"
  },
  "language_info": {
   "codemirror_mode": "r",
   "file_extension": ".r",
   "mimetype": "text/x-r-source",
   "name": "R",
   "pygments_lexer": "r",
   "version": "4.2.1"
  }
 },
 "nbformat": 4,
 "nbformat_minor": 4
}
